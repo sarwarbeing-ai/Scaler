{
 "cells": [
  {
   "cell_type": "code",
   "execution_count": 1,
   "id": "1a76f03d",
   "metadata": {},
   "outputs": [],
   "source": [
    "import numpy as np\n",
    "import pandas as pd"
   ]
  },
  {
   "cell_type": "code",
   "execution_count": 2,
   "id": "c50c97f9",
   "metadata": {},
   "outputs": [],
   "source": [
    "df = pd.read_csv('pred_data.csv')"
   ]
  },
  {
   "cell_type": "code",
   "execution_count": 3,
   "id": "44ba2f57",
   "metadata": {},
   "outputs": [
    {
     "data": {
      "text/html": [
       "<div>\n",
       "<style scoped>\n",
       "    .dataframe tbody tr th:only-of-type {\n",
       "        vertical-align: middle;\n",
       "    }\n",
       "\n",
       "    .dataframe tbody tr th {\n",
       "        vertical-align: top;\n",
       "    }\n",
       "\n",
       "    .dataframe thead th {\n",
       "        text-align: right;\n",
       "    }\n",
       "</style>\n",
       "<table border=\"1\" class=\"dataframe\">\n",
       "  <thead>\n",
       "    <tr style=\"text-align: right;\">\n",
       "      <th></th>\n",
       "      <th>y</th>\n",
       "      <th>proba</th>\n",
       "    </tr>\n",
       "  </thead>\n",
       "  <tbody>\n",
       "    <tr>\n",
       "      <th>0</th>\n",
       "      <td>0.0</td>\n",
       "      <td>0.281035</td>\n",
       "    </tr>\n",
       "    <tr>\n",
       "      <th>1</th>\n",
       "      <td>0.0</td>\n",
       "      <td>0.465152</td>\n",
       "    </tr>\n",
       "    <tr>\n",
       "      <th>2</th>\n",
       "      <td>0.0</td>\n",
       "      <td>0.352793</td>\n",
       "    </tr>\n",
       "    <tr>\n",
       "      <th>3</th>\n",
       "      <td>0.0</td>\n",
       "      <td>0.157818</td>\n",
       "    </tr>\n",
       "    <tr>\n",
       "      <th>4</th>\n",
       "      <td>0.0</td>\n",
       "      <td>0.276648</td>\n",
       "    </tr>\n",
       "  </tbody>\n",
       "</table>\n",
       "</div>"
      ],
      "text/plain": [
       "     y     proba\n",
       "0  0.0  0.281035\n",
       "1  0.0  0.465152\n",
       "2  0.0  0.352793\n",
       "3  0.0  0.157818\n",
       "4  0.0  0.276648"
      ]
     },
     "execution_count": 3,
     "metadata": {},
     "output_type": "execute_result"
    }
   ],
   "source": [
    "df.head()"
   ]
  },
  {
   "cell_type": "code",
   "execution_count": 8,
   "id": "6b13129d",
   "metadata": {},
   "outputs": [
    {
     "data": {
      "text/plain": [
       "(10100, 3)"
      ]
     },
     "execution_count": 8,
     "metadata": {},
     "output_type": "execute_result"
    }
   ],
   "source": [
    "df.shape"
   ]
  },
  {
   "cell_type": "code",
   "execution_count": 4,
   "id": "a533dc92",
   "metadata": {},
   "outputs": [],
   "source": [
    "# def dumb_model(email):\n",
    "#     return 0"
   ]
  },
  {
   "cell_type": "code",
   "execution_count": 59,
   "id": "2a4e7848",
   "metadata": {},
   "outputs": [],
   "source": [
    "df['y_pred'] = df['proba'].apply(lambda y_score : 1 if y_score >= 0.50 else 0) # threshold = 0.5"
   ]
  },
  {
   "cell_type": "code",
   "execution_count": 60,
   "id": "8d70c203",
   "metadata": {},
   "outputs": [
    {
     "data": {
      "text/plain": [
       "0.0    10000\n",
       "1.0      100\n",
       "Name: y, dtype: int64"
      ]
     },
     "execution_count": 60,
     "metadata": {},
     "output_type": "execute_result"
    }
   ],
   "source": [
    "df['y'].value_counts()"
   ]
  },
  {
   "cell_type": "code",
   "execution_count": 61,
   "id": "20b8b086",
   "metadata": {},
   "outputs": [],
   "source": [
    "from sklearn.metrics import confusion_matrix, ConfusionMatrixDisplay"
   ]
  },
  {
   "cell_type": "code",
   "execution_count": 62,
   "id": "475aa632",
   "metadata": {},
   "outputs": [
    {
     "data": {
      "text/plain": [
       "array([[9761,  239],\n",
       "       [  45,   55]])"
      ]
     },
     "execution_count": 62,
     "metadata": {},
     "output_type": "execute_result"
    }
   ],
   "source": [
    "cm = confusion_matrix(df['y'], df['y_pred'])\n",
    "cm"
   ]
  },
  {
   "cell_type": "code",
   "execution_count": 63,
   "id": "c0bf2c74",
   "metadata": {},
   "outputs": [
    {
     "data": {
      "image/png": "[encoded data removed]",
      "text/plain": [
       "<Figure size 432x288 with 2 Axes>"
      ]
     },
     "metadata": {
      "needs_background": "light"
     },
     "output_type": "display_data"
    }
   ],
   "source": [
    "ConfusionMatrixDisplay(cm).plot();"
   ]
  },
  {
   "cell_type": "code",
   "execution_count": 64,
   "id": "f592ec99",
   "metadata": {},
   "outputs": [
    {
     "data": {
      "text/plain": [
       "0.9718811881188119"
      ]
     },
     "execution_count": 64,
     "metadata": {},
     "output_type": "execute_result"
    }
   ],
   "source": [
    "# Accuracy\n",
    "np.diag(cm).sum()/cm.sum()"
   ]
  },
  {
   "cell_type": "code",
   "execution_count": 65,
   "id": "c17c0dd2",
   "metadata": {},
   "outputs": [
    {
     "data": {
      "text/plain": [
       "0.1870748299319728"
      ]
     },
     "execution_count": 65,
     "metadata": {},
     "output_type": "execute_result"
    }
   ],
   "source": [
    "# Precision\n",
    "\n",
    "55/(55+239)"
   ]
  },
  {
   "cell_type": "code",
   "execution_count": 66,
   "id": "1cbbd673",
   "metadata": {},
   "outputs": [
    {
     "data": {
      "text/plain": [
       "0.55"
      ]
     },
     "execution_count": 66,
     "metadata": {},
     "output_type": "execute_result"
    }
   ],
   "source": [
    "# recall\n",
    "55/(55+45)"
   ]
  },
  {
   "cell_type": "code",
   "execution_count": 67,
   "id": "fce5d57d",
   "metadata": {},
   "outputs": [],
   "source": [
    "from sklearn.metrics import precision_score, recall_score, f1_score"
   ]
  },
  {
   "cell_type": "code",
   "execution_count": 68,
   "id": "06c97e4d",
   "metadata": {},
   "outputs": [
    {
     "data": {
      "text/plain": [
       "0.1870748299319728"
      ]
     },
     "execution_count": 68,
     "metadata": {},
     "output_type": "execute_result"
    }
   ],
   "source": [
    "p = precision_score(df['y'], df['y_pred'])\n",
    "p"
   ]
  },
  {
   "cell_type": "code",
   "execution_count": 69,
   "id": "b386def0",
   "metadata": {},
   "outputs": [
    {
     "data": {
      "text/plain": [
       "0.55"
      ]
     },
     "execution_count": 69,
     "metadata": {},
     "output_type": "execute_result"
    }
   ],
   "source": [
    "r = recall_score(df['y'], df['y_pred'])\n",
    "r"
   ]
  },
  {
   "cell_type": "code",
   "execution_count": 70,
   "id": "8516485a",
   "metadata": {},
   "outputs": [
    {
     "data": {
      "text/plain": [
       "0.2791878172588833"
      ]
     },
     "execution_count": 70,
     "metadata": {},
     "output_type": "execute_result"
    }
   ],
   "source": [
    "f1 = 2*p*r/(p+r)\n",
    "f1"
   ]
  },
  {
   "cell_type": "code",
   "execution_count": 71,
   "id": "708d1e32",
   "metadata": {},
   "outputs": [
    {
     "data": {
      "text/plain": [
       "0.2791878172588833"
      ]
     },
     "execution_count": 71,
     "metadata": {},
     "output_type": "execute_result"
    }
   ],
   "source": [
    "f1_score(df['y'], df['y_pred'])"
   ]
  },
  {
   "cell_type": "code",
   "execution_count": null,
   "id": "8b882a8c",
   "metadata": {},
   "outputs": [],
   "source": []
  },
  {
   "cell_type": "code",
   "execution_count": null,
   "id": "22179054",
   "metadata": {},
   "outputs": [],
   "source": []
  }
 ],
 "metadata": {
  "kernelspec": {
   "display_name": "Python 3",
   "language": "python",
   "name": "python3"
  },
  "language_info": {
   "codemirror_mode": {
    "name": "ipython",
    "version": 3
   },
   "file_extension": ".py",
   "mimetype": "text/x-python",
   "name": "python",
   "nbconvert_exporter": "python",
   "pygments_lexer": "ipython3",
   "version": "3.8.8"
  }
 },
 "nbformat": 4,
 "nbformat_minor": 5
}
