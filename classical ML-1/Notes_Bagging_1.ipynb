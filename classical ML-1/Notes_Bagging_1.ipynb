{
  "nbformat": 4,
  "nbformat_minor": 0,
  "metadata": {
    "colab": {
      "provenance": [],
      "toc_visible": true
    },
    "kernelspec": {
      "name": "python3",
      "display_name": "Python 3"
    },
    "language_info": {
      "name": "python"
    }
  },
  "cells": [
    {
      "cell_type": "markdown",
      "source": [
        "## Content\n",
        "- **Continuiation: Solving the Attrition problem for Jio!**\n",
        "\n",
        "- **What Are Ensemble Models?**\n",
        "  - Types of Ensembles\n",
        "  - Bagging\n",
        "\n",
        "- **Can we make Emsemble from DTs? - Random Forest**\n",
        "  - How to use multiple trees?\n",
        "  - How to introduce randomness? - Row and Column Sampling\n",
        "  - But how to validate RFs?.\n",
        "  - Measuring Performance\n",
        "  - Training RF\n",
        "  - OOB Score\n",
        "  - RF using SK-Learn\n",
        "  - Can we compute Feature Importances?\n",
        "\n",
        "- **So what are the parameters of RF (Hyper-Parameters)**\n",
        "  - Number of Trees\n",
        "  - Row Sample Size\n",
        "  - Number of Columns Sampled\n",
        "  - Depth of Base Learners\n",
        "\n",
        "- **Sklearn Library**\n"
      ],
      "metadata": {
        "id": "aQtcB6H61aIW"
      }
    },
    {
      "cell_type": "markdown",
      "source": [
        "## Solving the Attrition problem for Jio!\n",
        "\n",
        "For today's lecture we will be using the same busniness use case as the previous class, and try to learn more advanced techniques to find an even better solution.\n",
        "\n",
        "\n",
        "**We are trying to predict wether an employee will stay or leave the company, to help the HR department of Jio to improve thier Attrition Rate.**\n",
        "\n",
        "\n",
        "Since we have already done EDA and preprocessing, let's just go over it again, quickly\n",
        "\n"
      ],
      "metadata": {
        "id": "6Zcd8qWkyjFI"
      }
    },
    {
      "cell_type": "code",
      "source": [
        "!gdown 16KtxSt_QEGQvfluEaMls5cCHPwhRXgCk\n",
        "!gdown 19L3rYatfhbBL1r5MHrv-p_oM2wlvrhqk\n",
        "!gdown 1OHLKJwA3qZopKPvlKoRldM6BvA1A4dYF\n",
        "!gdown 1N7O_fWCTJLu8SIa_paKcDEzllgpMk8sK\n",
        "!gdown 12Bh2AN8LcZAlg20ehpQrEWccUDaSdsOG"
      ],
      "metadata": {
        "id": "tC34Fdu3vlNr",
        "colab": {
          "base_uri": "https://localhost:8080/"
        },
        "outputId": "1e8fca75-2e49-40e8-f094-0c0c0b738345"
      },
      "execution_count": null,
      "outputs": [
        {
          "output_type": "stream",
          "name": "stdout",
          "text": [
            "Downloading...\n",
            "From: https://drive.google.com/uc?id=19L3rYatfhbBL1r5MHrv-p_oM2wlvrhqk\n",
            "To: /content/preprocessed_X_sm.pickle\n",
            "100% 534k/534k [00:00<00:00, 107MB/s]\n",
            "Downloading...\n",
            "From: https://drive.google.com/uc?id=1OHLKJwA3qZopKPvlKoRldM6BvA1A4dYF\n",
            "To: /content/X_test.pickle\n",
            "100% 111k/111k [00:00<00:00, 73.8MB/s]\n",
            "Downloading...\n",
            "From: https://drive.google.com/uc?id=1N7O_fWCTJLu8SIa_paKcDEzllgpMk8sK\n",
            "To: /content/y_sm.pickle\n",
            "100% 15.4k/15.4k [00:00<00:00, 13.1MB/s]\n",
            "Downloading...\n",
            "From: https://drive.google.com/uc?id=12Bh2AN8LcZAlg20ehpQrEWccUDaSdsOG\n",
            "To: /content/y_test.pickle\n",
            "100% 9.49k/9.49k [00:00<00:00, 8.32MB/s]\n"
          ]
        }
      ]
    },
    {
      "cell_type": "code",
      "source": [
        "import pickle\n",
        "import pandas as pd\n",
        "# Load data (deserialize)\n",
        "df = pd.read_csv(\"HR-Employee-Attrition.csv\")\n",
        "\n",
        "with open('preprocessed_X_sm.pickle', 'rb') as handle:\n",
        "    X_sm = pickle.load(handle)\n",
        "\n",
        "with open('y_sm.pickle', 'rb') as handle:\n",
        "    y_sm = pickle.load(handle)"
      ],
      "metadata": {
        "id": "Xug930LFQ31E"
      },
      "execution_count": null,
      "outputs": []
    },
    {
      "cell_type": "code",
      "source": [
        "# Using the best decision tree model as observed in the last lecture\n",
        "from sklearn.tree import DecisionTreeClassifier\n",
        "from sklearn.model_selection import KFold, cross_validate\n",
        "\n",
        "tree_clf = DecisionTreeClassifier(random_state=7, max_depth = 4)\n",
        "kfold = KFold(n_splits=10)\n",
        "cv_acc_results = cross_validate(tree_clf, X_sm, y_sm, cv = kfold, scoring = 'accuracy', return_train_score = True)\n",
        "\n",
        "print(f\"K-Fold Accuracy Mean: Train: {cv_acc_results['train_score'].mean()*100} Validation: {cv_acc_results['test_score'].mean()*100}\")\n",
        "print(f\"K-Fold Accuracy Std: Train: {cv_acc_results['train_score'].std()*100} Validation: {cv_acc_results['test_score'].std()*100}\")"
      ],
      "metadata": {
        "colab": {
          "base_uri": "https://localhost:8080/"
        },
        "id": "U5ERRcVltco3",
        "outputId": "5784eb70-f16b-4489-a4fa-f299f9041444"
      },
      "execution_count": null,
      "outputs": [
        {
          "output_type": "stream",
          "name": "stdout",
          "text": [
            "K-Fold Accuracy Mean: Train: 83.50772540936214 Validation: 80.58049353701529\n",
            "K-Fold Accuracy Std: Train: 0.7889219949763586 Validation: 6.337951865133366\n"
          ]
        }
      ]
    },
    {
      "cell_type": "markdown",
      "source": [
        "As we can see, using a DecisionTreeClassifier, with max_depth=4 we are getting\n",
        "- Train Set: **83%**\n",
        "- Validation Set : **80%**\n",
        "\n",
        "**Lets try to learn some new ideas to improve this result**"
      ],
      "metadata": {
        "id": "PLKMpnc_1HF_"
      }
    },
    {
      "cell_type": "markdown",
      "source": [
        "## What Are Ensemble Models?"
      ],
      "metadata": {
        "id": "EochCj4CDcq6"
      }
    },
    {
      "cell_type": "markdown",
      "source": [
        "<img src='https://images.squarespace-cdn.com/content/v1/57dc396a03596e8da9fe6b73/1475277470988-9FJ47B36S61C5VXQ24HU/UBC_Bands.jpg' width = 600>"
      ],
      "metadata": {
        "id": "PNdQD8nlCLy-"
      }
    },
    {
      "cell_type": "markdown",
      "source": [
        "* Till now we have trained only one model for one task. But we have learnt many kinds of models. **Do you think we could somehow use multiple models for the same task?**\n",
        "\n",
        "* What if we can **train multiple base learners or models** which are as different as possible and **combine them smartly**?\n",
        "\n",
        "* Example: Instead of training one Decisioon tree we can train 100 decision trees and combine them \n",
        "* This is the key principle of ensembles \n",
        "\n",
        "\n",
        "* The word ensemble in english means multiple things, roughly it means **mixing** or **coming together**.\n",
        "\n",
        " * We can also train various machine learning models like Decision tree, logistic Regression, KNN and can combine them smartly. \n"
      ],
      "metadata": {
        "id": "yVdlz_jfDcrE"
      }
    },
    {
      "cell_type": "markdown",
      "source": [
        "\n",
        "<img src='https://drive.google.com/uc?id=1PvJuXnvX6OY1_uAq8eOXFDjYvuxWh3vc'>\n"
      ],
      "metadata": {
        "id": "RBH7oU8aDcrE"
      }
    },
    {
      "cell_type": "markdown",
      "source": [
        "### Types of Ensembles\n",
        "\n",
        "There are four main types of ensemble\n",
        "1. Bagging\n",
        " * Example : Random Forest\n",
        "2. Boosting \n",
        " * Example : GBDT\n",
        "3. Stacking\n",
        "4. Cascading\n",
        "\n",
        "Also, a mix of each of these can be possible"
      ],
      "metadata": {
        "id": "P_lFdExCDcrF"
      }
    },
    {
      "cell_type": "markdown",
      "source": [
        "\n",
        "\n",
        "<img src='https://drive.google.com/uc?id=1njR8DUne8941A1S9jwxGcG8JkzWxlVGM'>"
      ],
      "metadata": {
        "id": "Bepq1upoDcrF"
      }
    },
    {
      "cell_type": "markdown",
      "source": [
        "# **Bagging**"
      ],
      "metadata": {
        "id": "3D93J6eW_-mv"
      }
    },
    {
      "cell_type": "markdown",
      "source": [
        "* Bagging is simply the **Bootstrapped Aggregation**.\n",
        "\n",
        "> - Q1: Let's say we have 3 different models, *M1, M2, M3* and all are trained for the same regression task to predict house prices. Can you think of a simple way to use predictions from these 3 different models together ?\n",
        "> - Ans: We can take the average prediction. (There are more complex ways, but we will not discuss those right now)\n",
        "> - Q2: Can you think similarly for a classification model?\n",
        "> - Ans: Voting. \n",
        "\n",
        "\n",
        "**Bagging refers to training different models for the same task, independently of each other and then cleverly combining their predictions.**\n",
        "\n",
        "\n",
        "Let us learn a special bagging model first, later we will also learn more about the other kinds of ensembles"
      ],
      "metadata": {
        "id": "Jgq4u5EFABzh"
      }
    },
    {
      "cell_type": "markdown",
      "source": [
        "# Can we make an Ensemble from DTs? - Random Forest"
      ],
      "metadata": {
        "id": "RyXudRiEk1z6"
      }
    },
    {
      "cell_type": "markdown",
      "source": [
        "Although, bagging can be done using models from different ML algorithms, let's try to make a bagging model just using **Decision Trees**. This is a special case of Bagging, known as the **Random Forest (RF)** model.\n",
        "\n",
        "### How to use multiple trees?\n",
        "\n",
        "Let us assume a train data set $D$ with $n$ data points i.e $D_n$ \n",
        "* Now, we **sample $m$ data points with replacement** to get $D'_m$\n",
        "* We do the sampling again for $m$ points to get $D'_2$, **Repeat the same for $k$ times** and we get $D'_k$\n",
        "* Now, we **train $k$ different models**($M_1,M_2,....M_k$) basing on the $k$ datasets obtained , there models are called **Base Learners**.\n",
        "* After training we **cross validate each model** **with remaining $n-m$ data points** \n",
        "* Now, we do **Aggregation**\n",
        " * We use majority vote for Classification\n",
        " * We use Mean/Median for Regression\n",
        "Hence we see that just like DT, RF also works for both classification and regression"
      ],
      "metadata": {
        "id": "CpgKZyAZlzhA"
      }
    },
    {
      "cell_type": "markdown",
      "source": [
        "* **Working :**\n",
        "  * When a query point ($x_q$) is given, we pass that point through all the $k$ models and aggrigate the output of the models."
      ],
      "metadata": {
        "id": "b4KxYF4Zo_Da"
      }
    },
    {
      "cell_type": "markdown",
      "source": [
        "\n",
        "<img src='https://drive.google.com/uc?id=1G7iHV05GhViHb1t82gQJXze1NCfINMYh'>\n"
      ],
      "metadata": {
        "id": "snKHF1SxpzKE"
      }
    },
    {
      "cell_type": "markdown",
      "source": [
        "\n",
        "<img src='https://drive.google.com/uc?id=1oP6x44zrH2NvJ19EmCcBPuMEQBk1I9io'>\n"
      ],
      "metadata": {
        "id": "CpqBZrQqpz1c"
      }
    },
    {
      "cell_type": "markdown",
      "source": [
        "# **How to introduce randomness? - Row and Column Sampling**\n",
        "\n",
        "**What is the challenge we are facing here?**\n",
        "\n",
        "* Here the major thing is the $k$ models should be different from one another as there is no use if all the models are same.\n",
        "\n",
        "**Is making the models \"different\" really important?**\n",
        "* To further understand this, assume that 3 experts are called to make a decision about someting. \n",
        "* If all of them have very similar opinions, the 2 extra experts dont add much value. \n",
        "* It is important that each expert has a different \"take\" on the issue and the combined decision can then be expected to be more reliable and robust.\n",
        "\n",
        "**But how to ensure that all the models are different?** \n",
        "* For each tree *M_i* we randomly select a subset of training data. This is known as **row sampling**.\n",
        "* For each tree we can select a subset of the columns, This is known as **column sampling**\n",
        "* We can **tune the depth** of the tree. Deeper trees have a higher chance of being different from each other.\n",
        "\n",
        "Hence, we have many different trees, trained on a different subset of points, and different combinations of features.\n",
        "\n",
        "\n"
      ],
      "metadata": {
        "id": "cZPIklyEqk7Y"
      }
    },
    {
      "cell_type": "markdown",
      "source": [
        "<img src='https://drive.google.com/uc?id=1M0jzMtHBUGU41ldGm95NbO6FdxCQ24Ds'>\n"
      ],
      "metadata": {
        "id": "Vww_YBw6DSnu"
      }
    },
    {
      "cell_type": "markdown",
      "source": [
        "> - **Interview Question**: What is \"random\" in random forests?\n",
        "> - Ans: Each tree has been trained on a random subset of rows and columns against the target column."
      ],
      "metadata": {
        "id": "l8W3DOA2TLF_"
      }
    },
    {
      "cell_type": "markdown",
      "source": [
        "## **But how to Validate RFs?**\n",
        "\n",
        "**Do you see a problem here?**\n",
        "\n",
        "\n",
        "\n",
        "\n"
      ],
      "metadata": {
        "id": "AHHDSdFPPj8s"
      }
    },
    {
      "cell_type": "markdown",
      "source": [
        "* We have $k$ different train data sets ($D^1_m$,$D^2_m$....$D^k_m$) to train $k$ different models ( $M_1$,$M_2$,...$M_k$) respectively\n",
        "\n",
        "**We are already not-utilizing a chunk of data for every tree. Can we use this for validation??**"
      ],
      "metadata": {
        "id": "yHbCEoQdQYOt"
      }
    },
    {
      "cell_type": "markdown",
      "source": [
        "The remaining $n-m$ rows can be used as validation data\n",
        "* for $D^i_{n-m} = D_n - D^i_m$ ,is Set Difference\n",
        " * This is reffered to as Out Of Bag(OOB) \n",
        "\n",
        "* So, we train the models on ($D^1_m$,$D^2_m$....$D^k_m$)these data sets and validate them on ($D^1_{n-m}$,$D^2_{n-m}$,....$D^k_{n-m}$) this data which is OOB sample \n",
        "* If some data points are not present in any of the train data sets, they will be in every validation data chunk (low chance of this happening)"
      ],
      "metadata": {
        "id": "PhT1mo-kQx2k"
      }
    },
    {
      "cell_type": "markdown",
      "source": [
        "<img src='https://drive.google.com/uc?id=1ctmM4gTDOOA-DvYz69TVPUWrk_8bGs73'>\n"
      ],
      "metadata": {
        "id": "PmEPDlOMD8Nj"
      }
    },
    {
      "cell_type": "markdown",
      "source": [
        "**Note that it is still usefull to do an overall cross Validation just like we do for other models**. Just for random forests, we have OOB data as-well to get some insight on individual trees performance"
      ],
      "metadata": {
        "id": "xfzQWZgRA0n7"
      }
    },
    {
      "cell_type": "markdown",
      "source": [
        "# **Measuring Performance**\n",
        "\n",
        "**Will Random Forest always out perform Decision tree?**\n",
        "\n",
        "* Yes, in most cases of the cases they should ut perform\n",
        "\n",
        "**When will the performance of both Random Forest and Decision Tree be similar?**\n",
        "\n",
        "* This may happen when the data is very simple, that a simple Decisison tree by using simple rules can get a very good performance. \n",
        "\n",
        "\n",
        "\n"
      ],
      "metadata": {
        "id": "B5xzgjIiVBq7"
      }
    },
    {
      "cell_type": "markdown",
      "source": [
        "<img src='https://drive.google.com/uc?id=18r8gsNEwlVWxe1LrcxsBmHdt1T_7aFHr'>\n"
      ],
      "metadata": {
        "id": "H1i7ODbJEsYF"
      }
    },
    {
      "cell_type": "markdown",
      "source": [
        "* In random forest The Base learners don't need seperate cross validation data set because the remaining data after sampling(OOB) are used for cross validation \n",
        " * i.e from $D_n$, $D^i_m$ is sampled and $D^i_{m-n}$ is used for cross validation\n",
        "\n",
        "* But the random forest as a whole has the cross validation data and test data to tune the Hyper Parameters of random Forest \n",
        "\n"
      ],
      "metadata": {
        "id": "u8n2ksucXUjn"
      }
    },
    {
      "cell_type": "markdown",
      "source": [
        "<img src='https://drive.google.com/uc?id=1TAWUGCqO3pHkMeAEihu8yrctu8mIl1Ld'>\n"
      ],
      "metadata": {
        "id": "9caPO-SNERyC"
      }
    },
    {
      "cell_type": "markdown",
      "source": [
        "# **Bias Variance Tradeoff**"
      ],
      "metadata": {
        "id": "hCJnU_BZBfSf"
      }
    },
    {
      "cell_type": "markdown",
      "source": [
        "\n",
        "\n",
        "# **What happens if $k$ increases?**\n",
        "\n",
        "* The Decision tree base learners in random forest are Deep Decision Trees (non-shallow).\n",
        "* As they are deep, the models overfit slightly on a sub sample of data, as the base learners are made of $m$ rows and $d'$ columns only.\n",
        "* Now, we perfrom aggregation\\averaging on these slightly overfit models, on a sub-sample of data, which have high variance adn low bias\n",
        "\n",
        "\n",
        "<img src='https://drive.google.com/uc?id=1TZFIobjeaDkNolHkyM4B7yPhuY1CJ2Je'>\n",
        "\n",
        "## **Why does bagging reduce Variance?** \n",
        "- intuitively, it can be thaught of as follows:\n",
        "  - We have many trees which have high variance (unstable) prediction.\n",
        "  - Lets say they vary +- 20% around the correct prediciton.\n",
        "  - When we average outputs from multiple trees, some positive errors will be cancelled by some negetive errors, and we can expect to be left with smaller residual errors. (Hence lower variance predictions).\n",
        "  - The above would hold true in most cases, if the models are significantly different from each other and there are enough models. In practice, we see this does hold true.\n",
        "  - There is also a statistical proof for this but it is out of scope for this lecture.\n",
        "\n",
        "<img src='https://drive.google.com/uc?id=1CIMCpuPjoGSzldpdgF1yqfqHNMcllotv'>\n",
        "\n",
        "\n",
        "* In statistical Machine learning the error of a model can be represented as \n",
        "\n",
        "<img src='https://drive.google.com/uc?id=1EepwXmzSOEOnwxQlYgUu1tW1ni399agY'>\n",
        "\n",
        "\n",
        " * **Error = Bias$^2$ + Varinace + Irreducable error.**\n",
        " * Here we saw due to aggregation, the variance decreases without trading-off to bias, due to which the overall error of the model decreases.\n",
        "* Therefore the error of the random forest reduces.\n",
        "\n",
        "\n",
        "<img src='https://drive.google.com/uc?id=1ZhxBCswDiPvPoOO8gX-F2PEuDczWjkqF'>\n",
        "\n",
        "\n"
      ],
      "metadata": {
        "id": "3RkPyNuQYUqy"
      }
    },
    {
      "cell_type": "markdown",
      "source": [
        "Now, as we saw each step of random forest\n",
        "\n",
        "* Let's see the core working of a random forest\n",
        "  1. It uses Bagging,  which is row sampling, and column sampling\n",
        "  2. It takes Base learners  which are slightly overfit i.e having high variance and low bias \n",
        "  3. It reduces this variance by aggregation without much increase in its bias.  "
      ],
      "metadata": {
        "id": "uMdBhwwELEZw"
      }
    },
    {
      "cell_type": "markdown",
      "source": [
        "\n",
        "\n",
        "<img src='https://drive.google.com/uc?id=1HayWwymSPwsHn1MWBRYcvcJ37_tg8mYy'>\n",
        "\n"
      ],
      "metadata": {
        "id": "Yom_bcXNOELi"
      }
    },
    {
      "cell_type": "markdown",
      "source": [
        "**Can we use Non Decision Tree models in Random forest?**\n",
        "\n",
        "* Yes we can you use slightly overfit models i.e having high variance models.\n",
        " * For example: We can use KNN with small $k$\n",
        " * We can use Logistic Regression with higher order features + low value of λ"
      ],
      "metadata": {
        "id": "SOy6CO7dOQ5V"
      }
    },
    {
      "cell_type": "markdown",
      "source": [
        "# **Training a random forest** "
      ],
      "metadata": {
        "id": "OylVTQ9hDI9v"
      }
    },
    {
      "cell_type": "markdown",
      "source": [
        "* With present day improvements we can easily run a Random forest with a billion data with 10 million sample size and with thousand base learners\n",
        "* These base learners can be trivially parallelised.\n",
        "* As each models is **trained independently** we can even take these models to distributed computing \n",
        "* In a distributed computing system each processor is given with different model's data set , the system can work on multiple models parallely, if the processor is a 8 core processor the datasets of 8 different trees can be worked on a system.\n",
        "* So, we are parallelisig the Random forest on multiple cores\n",
        "due to which the process becomes fast.\n",
        "* The time complexity here is O($k$ * max_depth of tree) "
      ],
      "metadata": {
        "id": "jNnr5Y_2X9U0"
      }
    },
    {
      "cell_type": "markdown",
      "source": [
        "\n",
        "<img src='https://drive.google.com/uc?id=1fGTLvjgW-ynmIWXM9DdOc8lJMHF8w6nN'>"
      ],
      "metadata": {
        "id": "MBDvVIRns0FT"
      }
    },
    {
      "cell_type": "markdown",
      "source": [
        "\n",
        "<img src='https://drive.google.com/uc?id=1dWqfOVxoz_bGUUojZcmCfNjdX8ZXzQ7O'>\n",
        "\n"
      ],
      "metadata": {
        "id": "fe3xbVUstNbz"
      }
    },
    {
      "cell_type": "markdown",
      "source": [
        "\n",
        "<img src='https://drive.google.com/uc?id=1FWex1MrUl0QMt6ROJM9sKSvdnP3fPWfD'>\n",
        "\n"
      ],
      "metadata": {
        "id": "Pzt4iB8xtWw3"
      }
    },
    {
      "cell_type": "markdown",
      "source": [
        "## **OOB Score**"
      ],
      "metadata": {
        "id": "-tdfnVgjtfkq"
      }
    },
    {
      "cell_type": "markdown",
      "source": [
        "As we already studied that after sampling the data for each model we have some data remaning which is the **Out Of  Bag** data\n",
        "* This OOB data ($D'_{n-m}$) is not used as cross validation data, it is used to find the performace of the model on data, this is called the **OOB score** of the data\n",
        "* When the trained data performance is  more than the OOB data perfromance, we can conclude that the model is over-fitting, which we want upto some extend\n",
        "* In the same way we can say that the model is overfitting if the trained data error is less than OOB data error"
      ],
      "metadata": {
        "id": "K0QdOIFsu4dX"
      }
    },
    {
      "cell_type": "markdown",
      "source": [
        "\n",
        "<img src='https://drive.google.com/uc?id=1AbtzsIlvUBalGafi5KT9QkuoKtg-75aI'>\n"
      ],
      "metadata": {
        "id": "AjhzsbzAxC0x"
      }
    },
    {
      "cell_type": "markdown",
      "source": [
        "#### When to use OOB Score ?\n",
        "\n",
        "Cross validation score is more reliable. However, **occasionally the dataset is not big enough and hence set aside a part of it for validation is unaffordable**.\n",
        "\n",
        "So, if we have less data: Random Forests, inherently keep some data aside for each tree, so we can utilise this and try to get an estimate of performance by measuring individual tree performance on OOB data. "
      ],
      "metadata": {
        "id": "GPPeodWOu7ja"
      }
    },
    {
      "cell_type": "markdown",
      "source": [
        "# **RandomForest Using SK-Learn**\n",
        "\n",
        "Now that we have seen some theory, lets try to train a simple RF classifier for our given problem."
      ],
      "metadata": {
        "id": "hdDs8d3f1uq2"
      }
    },
    {
      "cell_type": "code",
      "source": [
        "from sklearn.ensemble import RandomForestClassifier\n",
        "from sklearn.model_selection import KFold, cross_validate\n",
        "\n",
        "tree_clf = RandomForestClassifier(random_state=7, max_depth=4, n_estimators=100)\n",
        "kfold = KFold(n_splits=10)\n",
        "cv_acc_results = cross_validate(tree_clf, X_sm, y_sm, cv = kfold, scoring = 'accuracy', return_train_score = True)\n",
        "\n",
        "print(f\"K-Fold Accuracy Mean: Train: {cv_acc_results['train_score'].mean()*100} Validation: {cv_acc_results['test_score'].mean()*100}\")\n",
        "print(f\"K-Fold Accuracy Std: Train: {cv_acc_results['train_score'].std()*100} Validation: {cv_acc_results['test_score'].std()*100}\")"
      ],
      "metadata": {
        "colab": {
          "base_uri": "https://localhost:8080/"
        },
        "id": "Cb0pgWOJt8Un",
        "outputId": "820ea258-3938-4205-b917-cb7e13bca920"
      },
      "execution_count": null,
      "outputs": [
        {
          "output_type": "stream",
          "name": "stdout",
          "text": [
            "K-Fold Accuracy Mean: Train: 88.40789279684536 Validation: 84.25910693301996\n",
            "K-Fold Accuracy Std: Train: 0.4472850758471545 Validation: 5.962976850561776\n"
          ]
        }
      ]
    },
    {
      "cell_type": "markdown",
      "source": [
        "**As we can see that this performance is significantly better than the single Decision Tree**\n",
        "\n",
        "- Train Set: **88%**\n",
        "- Test Set : **84%**\n",
        "\n",
        "We will learn more about turning the model and hyperparameters in a bit"
      ],
      "metadata": {
        "id": "0xIc26ZWxwA8"
      }
    },
    {
      "cell_type": "markdown",
      "source": [
        "# **Can we compute Feature Importance ?**"
      ],
      "metadata": {
        "id": "AT7Y8R9act-o"
      }
    },
    {
      "cell_type": "markdown",
      "source": [
        "Now, let's compute the feature importances for the Random forest"
      ],
      "metadata": {
        "id": "XTN20dxlhPXC"
      }
    },
    {
      "cell_type": "markdown",
      "source": [
        "* In this plot, we can see significant change when comapred to the Decision tree\n",
        "* This is because we made the model little complex due to which it is able to capture more information from the dataset."
      ],
      "metadata": {
        "id": "T5R4ZTExhgNC"
      }
    },
    {
      "cell_type": "markdown",
      "source": [
        "**How does Feature importance in a Random Forest work?**"
      ],
      "metadata": {
        "id": "zDaT9zRiidof"
      }
    },
    {
      "cell_type": "markdown",
      "source": [
        "* A simple way of finding the feature importance in Random Forest is by computing the feature importance of a feature in each Decision Tree and take the average of these values."
      ],
      "metadata": {
        "id": "cZOZ8G2_in2h"
      }
    },
    {
      "cell_type": "markdown",
      "source": [
        "**What if some base learners don't have the feature?**"
      ],
      "metadata": {
        "id": "dTa1QcLDpAjl"
      }
    },
    {
      "cell_type": "markdown",
      "source": [
        "* The importance of that feature will be considered 0, in that Base learner \n",
        "* Even if we take average of trees in which the feature is not present, it do not effect much because all the features have equal importance of being chosen.\n",
        "* Let's assume there are 100 tress and column sampling rate is 0.1 , so a feature $f_{10}$  will approximately be in 10 base learners same happens with all other features also.\n",
        "* So deviding by 10 or 100 doesn't matter  "
      ],
      "metadata": {
        "id": "ETihVzkIpHkJ"
      }
    },
    {
      "cell_type": "markdown",
      "source": [
        "\n",
        "<img src='https://drive.google.com/uc?id=1LVomOHNxqGG-_VUpvI7ApjaRW5ZEkWN_' >\n"
      ],
      "metadata": {
        "id": "OOwO7bwmbVOG"
      }
    },
    {
      "cell_type": "code",
      "source": [
        "Gri# Feature importance\n",
        "import numpy as np \n",
        "import matplotlib.pyplot as plt\n",
        "\n",
        "clf = RandomForestClassifier(random_state=7, max_depth=4, n_estimators=100)\n",
        "clf.fit(X_sm, y_sm)\n",
        "importances = clf.feature_importances_\n",
        "indices = np.argsort(importances)[::-1] # Sort feature importances in descending order\n",
        "names = [X_sm.columns[i] for i in indices] # Rearrange feature names so they match the sorted feature importances\n",
        "plt.figure(figsize=(15, 7)) # Create plot\n",
        "plt.title(\"Feature Importance\") # Create plot title\n",
        "plt.bar(range(X_sm.shape[1]), importances[indices]) # Add bars\n",
        "plt.xticks(range(X_sm.shape[1]), names, rotation=90) # Add feature names as x-axis labels\n",
        "plt.show() # Show plot"
      ],
      "metadata": {
        "colab": {
          "base_uri": "https://localhost:8080/",
          "height": 627
        },
        "id": "0o-YU6-Chash",
        "outputId": "ff3ea3a8-de55-44b2-cabf-970abfdfc12e"
      },
      "execution_count": null,
      "outputs": [
        {
          "output_type": "display_data",
          "data": {
            "text/plain": [
              "<Figure size 1080x504 with 1 Axes>"
            ],
            "image/png": "[encoded data removed]"
          },
          "metadata": {
            "needs_background": "light"
          }
        }
      ]
    },
    {
      "cell_type": "markdown",
      "source": [
        "# **What are the Hyper-parameters of RF?**"
      ],
      "metadata": {
        "id": "_PmfUSzfRnjh"
      }
    },
    {
      "cell_type": "markdown",
      "source": [
        "Now lets see  various hyper parameters of Random Forest\n",
        "* Note that we consider the whole dataset $D$ not only the $D_{train}$ which is split into train data set for base learners "
      ],
      "metadata": {
        "id": "lcLlC7TlR9rq"
      }
    },
    {
      "cell_type": "markdown",
      "source": [
        "**What are the hyper parameters for random forest?**\n",
        " "
      ],
      "metadata": {
        "id": "H3LQLxOVPRJR"
      }
    },
    {
      "cell_type": "markdown",
      "source": [
        "### 1. Number of Trees($k$)"
      ],
      "metadata": {
        "id": "3h5Ik9k7XvCf"
      }
    },
    {
      "cell_type": "markdown",
      "source": [
        "**What happens if number of base learners ($k$) increases?**"
      ],
      "metadata": {
        "id": "N3tt1qwOSpnR"
      }
    },
    {
      "cell_type": "markdown",
      "source": [
        "* As $k$ increases, we Aggregate more number of base learners\n",
        "* We already saw that, Aggregation decreases the varaince without any significant increase in the bias.\n",
        "* Hence, we can say that we avoid overfitting."
      ],
      "metadata": {
        "id": "KRkWAjf6S21z"
      }
    },
    {
      "cell_type": "markdown",
      "source": [
        "\n",
        "\n",
        "\n",
        "<img src='https://drive.google.com/uc?id=1ZJB00f8_E465mwVr6h_FEZ1KwDMTkM9d'>\n"
      ],
      "metadata": {
        "id": "_UqGnNpnUWXj"
      }
    },
    {
      "cell_type": "markdown",
      "source": [
        "**What if my base learners underfit instead being overfit?**\n",
        "\n",
        "* If the base learners underfit, the varaince is  already low\n",
        "* Hence the aggregation which should reduce the variance doesn't work as expected."
      ],
      "metadata": {
        "id": "GuaeN8eYWjy-"
      }
    },
    {
      "cell_type": "markdown",
      "source": [
        "### 2. Row sample size ($m$)\n",
        "\n",
        "\n",
        "\n",
        "* In some libraries $\\frac{m}{n}$ is also considered where this value becomes maximum i.e 1 ,when $m=n$"
      ],
      "metadata": {
        "id": "SepeRaGuX626"
      }
    },
    {
      "cell_type": "markdown",
      "source": [
        "**What happens when $m=n$ ? ($d=d'$)**\n",
        "* All  Base learners overfit on the whole data and they be similar. \n",
        "* So, as the $\\frac{m}{n}$ increases the over-fitting of the model  increases"
      ],
      "metadata": {
        "id": "B-pxhXdzZR99"
      }
    },
    {
      "cell_type": "markdown",
      "source": [
        "### 3. Number of columns Sampled ($d'$)\n",
        "* Consider $m=n$\n"
      ],
      "metadata": {
        "id": "NkTXdSTXaUT4"
      }
    },
    {
      "cell_type": "markdown",
      "source": [
        "* As $\\frac{d'}{d}$ increases, then all the features are being  used by each of the tree.\n",
        "* This implies the overfitting increases i.e the variance increases  \n"
      ],
      "metadata": {
        "id": "GM6JKchMbWIt"
      }
    },
    {
      "cell_type": "markdown",
      "source": [
        "### 4. Depth of Base learners \n",
        "* This is optional, some libraries let us use this when we dont want to use the Out Of Bag (OOB) data  fro cross validation \n",
        "* As depth increases, the overfitting increases \n",
        " * When the ratios $\\frac{m}{n}$ and $\\frac{d'}{d}$ are very less, that is when the base leraners are seeing very few columns and rows , and when the number of trees increases ($k$) the overfitting chances are low.  "
      ],
      "metadata": {
        "id": "Cdq_NI3CcdgW"
      }
    },
    {
      "cell_type": "markdown",
      "source": [
        "\n",
        "\n",
        "\n",
        "<img src='https://drive.google.com/uc?id=1fxH8dxv8mvAJM8SucB54Q4kBpudeBnzS'>\n"
      ],
      "metadata": {
        "id": "PuQMNluDeYkc"
      }
    },
    {
      "cell_type": "markdown",
      "source": [
        "\n",
        "<img src='https://drive.google.com/uc?id=1kvcAmHsp6HMVhi3r0s_OqU-waLTKqwOk'>\n"
      ],
      "metadata": {
        "id": "ekttkpwXeiJU"
      }
    },
    {
      "cell_type": "markdown",
      "source": [
        "There are also other hyper-parameters same as DTs"
      ],
      "metadata": {
        "id": "ORVjEX1wjiwR"
      }
    },
    {
      "cell_type": "markdown",
      "source": [
        "### Sklearn library (terms and usage):\n",
        "\n",
        "\n",
        "\n",
        "https://scikit-learn.org/stable/modules/generated/sklearn.ensemble.RandomForestClassifier.html\n",
        "\n",
        "\n",
        "<img src='https://drive.google.com/uc?id=1xX95OGPg52IwYlSfPKqQPZRFuvOl8wYQ'>"
      ],
      "metadata": {
        "id": "NxrVw-TXxNY3"
      }
    },
    {
      "cell_type": "markdown",
      "source": [
        "# Note"
      ],
      "metadata": {
        "id": "GyAdPTnpcwlE"
      }
    },
    {
      "cell_type": "markdown",
      "source": [
        "- There’s one more that uses bagging principle: **Bagging meta estimator**. Here, base learners can be any model\n",
        "\n",
        "- RF is just an extension to bagging meta estimator with base learners as trees.\n",
        "\n",
        "- The only difference in bagging meta estimator and RF is RF also does feature sampling along with row sampling.\n",
        "\n",
        "Refer: https://scikit-learn.org/stable/modules/generated/sklearn.ensemble.BaggingClassifier.html"
      ],
      "metadata": {
        "id": "nLn5GKAccx4h"
      }
    }
  ]
}