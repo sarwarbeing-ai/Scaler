{
  "nbformat": 4,
  "nbformat_minor": 0,
  "metadata": {
    "colab": {
      "provenance": []
    },
    "kernelspec": {
      "name": "python3",
      "display_name": "Python 3"
    },
    "language_info": {
      "name": "python"
    }
  },
  "cells": [
    {
      "cell_type": "markdown",
      "source": [
        "Before diving into today's Lecture, \n",
        "\n",
        "lets revise a couple of \n",
        "\n",
        "#### Simple Derivation rules\n",
        "\n",
        "Which will be important for today's Lecture\n",
        "\n",
        "\n",
        "\n",
        "\n",
        "\n",
        "\n",
        "\n",
        "\n",
        "\n"
      ],
      "metadata": {
        "id": "fIyXDADdwNC9"
      }
    },
    {
      "cell_type": "markdown",
      "source": [
        "1. **Power Derivative**\n",
        "\n",
        " $$\\frac{d x^{n}}{dx} = n.x^{n-1}$$\n",
        "\n",
        " Similarly\n",
        "\n",
        "  $$\\frac{d x^{-n}}{dx} = -n.x^{-(n+1)}$$"
      ],
      "metadata": {
        "id": "3c6dI7a_we4o"
      }
    },
    {
      "cell_type": "markdown",
      "source": [
        "2. **Log Derivative**\n",
        "\n",
        "$$\\frac{d log(x)}{dx} = \\frac{1}{x}$$"
      ],
      "metadata": {
        "id": "4h3kBI1Twgcn"
      }
    },
    {
      "cell_type": "markdown",
      "source": [
        "3. **Exponential Derivative**\n",
        "\n",
        " $$\\frac{d e^{ax}}{dx} = a.e^{ax}$$\n",
        "\n",
        " Similarly, \n",
        "\n",
        " $$\\frac{d e^{-ax}}{dx} = -a.e^{-ax}$$"
      ],
      "metadata": {
        "id": "yQTSNhV7wiXT"
      }
    }
  ]
}