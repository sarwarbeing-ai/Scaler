{
 "cells": [
  {
   "cell_type": "code",
   "execution_count": 3,
   "id": "238ef55d",
   "metadata": {},
   "outputs": [],
   "source": [
    "import pandas as pd\n",
    "import seaborn as sbn\n",
    "import matplotlib.pyplot as plt\n",
    "from statsmodels.stats.proportion import proportions_ztest # For proportion Z-test\n",
    "from statsmodels.formula.api import ols      # For n-way ANOVA\n",
    "from statsmodels.stats.anova import anova_lm # For n-way ANOVA\n",
    "from   scipy.stats import chi2_contingency   # For Chi-Sq \n",
    "from scipy import stats"
   ]
  },
  {
   "cell_type": "code",
   "execution_count": 4,
   "id": "91503a73",
   "metadata": {},
   "outputs": [
    {
     "name": "stdout",
     "output_type": "stream",
     "text": [
      "--2022-07-27 19:15:47--  https://d2beiqkhq929f0.cloudfront.net/public_assets/assets/000/001/681/original/scaler_apollo_hospitals.csv\n",
      "Resolving d2beiqkhq929f0.cloudfront.net (d2beiqkhq929f0.cloudfront.net)... 143.204.253.229, 143.204.253.200, 143.204.253.39, ...\n",
      "Connecting to d2beiqkhq929f0.cloudfront.net (d2beiqkhq929f0.cloudfront.net)|143.204.253.229|:443... connected.\n",
      "HTTP request sent, awaiting response... 200 OK\n",
      "Length: 53047 (52K) [text/plain]\n",
      "Saving to: 'scaler_apollo_hospitals.csv.4'\n",
      "\n",
      "scaler_apollo_hospi 100%[===================>]  51.80K  --.-KB/s    in 0.003s  \n",
      "\n",
      "2022-07-27 19:15:47 (15.7 MB/s) - 'scaler_apollo_hospitals.csv.4' saved [53047/53047]\n",
      "\n"
     ]
    }
   ],
   "source": [
    "!wget 'https://d2beiqkhq929f0.cloudfront.net/public_assets/assets/000/001/681/original/scaler_apollo_hospitals.csv'"
   ]
  },
  {
   "cell_type": "code",
   "execution_count": 5,
   "id": "48bca864",
   "metadata": {},
   "outputs": [],
   "source": [
    "df=pd.read_csv('scaler_apollo_hospitals.csv')"
   ]
  },
  {
   "cell_type": "code",
   "execution_count": 10,
   "id": "38a5c335",
   "metadata": {},
   "outputs": [
    {
     "data": {
      "text/html": [
       "<div>\n",
       "<style scoped>\n",
       "    .dataframe tbody tr th:only-of-type {\n",
       "        vertical-align: middle;\n",
       "    }\n",
       "\n",
       "    .dataframe tbody tr th {\n",
       "        vertical-align: top;\n",
       "    }\n",
       "\n",
       "    .dataframe thead th {\n",
       "        text-align: right;\n",
       "    }\n",
       "</style>\n",
       "<table border=\"1\" class=\"dataframe\">\n",
       "  <thead>\n",
       "    <tr style=\"text-align: right;\">\n",
       "      <th></th>\n",
       "      <th>Unnamed: 0</th>\n",
       "      <th>age</th>\n",
       "      <th>sex</th>\n",
       "      <th>smoker</th>\n",
       "      <th>region</th>\n",
       "      <th>viral load</th>\n",
       "      <th>severity level</th>\n",
       "      <th>hospitalization charges</th>\n",
       "    </tr>\n",
       "  </thead>\n",
       "  <tbody>\n",
       "    <tr>\n",
       "      <th>0</th>\n",
       "      <td>0</td>\n",
       "      <td>19</td>\n",
       "      <td>female</td>\n",
       "      <td>yes</td>\n",
       "      <td>southwest</td>\n",
       "      <td>9.30</td>\n",
       "      <td>0</td>\n",
       "      <td>42212</td>\n",
       "    </tr>\n",
       "    <tr>\n",
       "      <th>1</th>\n",
       "      <td>1</td>\n",
       "      <td>18</td>\n",
       "      <td>male</td>\n",
       "      <td>no</td>\n",
       "      <td>southeast</td>\n",
       "      <td>11.26</td>\n",
       "      <td>1</td>\n",
       "      <td>4314</td>\n",
       "    </tr>\n",
       "    <tr>\n",
       "      <th>2</th>\n",
       "      <td>2</td>\n",
       "      <td>28</td>\n",
       "      <td>male</td>\n",
       "      <td>no</td>\n",
       "      <td>southeast</td>\n",
       "      <td>11.00</td>\n",
       "      <td>3</td>\n",
       "      <td>11124</td>\n",
       "    </tr>\n",
       "    <tr>\n",
       "      <th>3</th>\n",
       "      <td>3</td>\n",
       "      <td>33</td>\n",
       "      <td>male</td>\n",
       "      <td>no</td>\n",
       "      <td>northwest</td>\n",
       "      <td>7.57</td>\n",
       "      <td>0</td>\n",
       "      <td>54961</td>\n",
       "    </tr>\n",
       "    <tr>\n",
       "      <th>4</th>\n",
       "      <td>4</td>\n",
       "      <td>32</td>\n",
       "      <td>male</td>\n",
       "      <td>no</td>\n",
       "      <td>northwest</td>\n",
       "      <td>9.63</td>\n",
       "      <td>0</td>\n",
       "      <td>9667</td>\n",
       "    </tr>\n",
       "  </tbody>\n",
       "</table>\n",
       "</div>"
      ],
      "text/plain": [
       "   Unnamed: 0  age     sex smoker     region  viral load  severity level  \\\n",
       "0           0   19  female    yes  southwest        9.30               0   \n",
       "1           1   18    male     no  southeast       11.26               1   \n",
       "2           2   28    male     no  southeast       11.00               3   \n",
       "3           3   33    male     no  northwest        7.57               0   \n",
       "4           4   32    male     no  northwest        9.63               0   \n",
       "\n",
       "   hospitalization charges  \n",
       "0                    42212  \n",
       "1                     4314  \n",
       "2                    11124  \n",
       "3                    54961  \n",
       "4                     9667  "
      ]
     },
     "execution_count": 10,
     "metadata": {},
     "output_type": "execute_result"
    }
   ],
   "source": [
    "df.head()"
   ]
  },
  {
   "cell_type": "code",
   "execution_count": null,
   "id": "9ca02dc3",
   "metadata": {},
   "outputs": [],
   "source": [
    "df.info()"
   ]
  },
  {
   "cell_type": "code",
   "execution_count": 6,
   "id": "93c907d8",
   "metadata": {},
   "outputs": [
    {
     "data": {
      "text/plain": [
       "Unnamed: 0                 0.0\n",
       "age                        0.0\n",
       "sex                        0.0\n",
       "smoker                     0.0\n",
       "region                     0.0\n",
       "viral load                 0.0\n",
       "severity level             0.0\n",
       "hospitalization charges    0.0\n",
       "dtype: float64"
      ]
     },
     "execution_count": 6,
     "metadata": {},
     "output_type": "execute_result"
    }
   ],
   "source": [
    "df.isnull().sum()/len(df)*100"
   ]
  },
  {
   "cell_type": "code",
   "execution_count": 8,
   "id": "c8dd1629",
   "metadata": {},
   "outputs": [],
   "source": [
    "df.drop(columns=['Unnamed: 0'],inplace=True)"
   ]
  },
  {
   "cell_type": "code",
   "execution_count": 9,
   "id": "32e9c44a",
   "metadata": {},
   "outputs": [
    {
     "data": {
      "text/html": [
       "<div>\n",
       "<style scoped>\n",
       "    .dataframe tbody tr th:only-of-type {\n",
       "        vertical-align: middle;\n",
       "    }\n",
       "\n",
       "    .dataframe tbody tr th {\n",
       "        vertical-align: top;\n",
       "    }\n",
       "\n",
       "    .dataframe thead th {\n",
       "        text-align: right;\n",
       "    }\n",
       "</style>\n",
       "<table border=\"1\" class=\"dataframe\">\n",
       "  <thead>\n",
       "    <tr style=\"text-align: right;\">\n",
       "      <th></th>\n",
       "      <th>age</th>\n",
       "      <th>sex</th>\n",
       "      <th>smoker</th>\n",
       "      <th>region</th>\n",
       "      <th>viral load</th>\n",
       "      <th>severity level</th>\n",
       "      <th>hospitalization charges</th>\n",
       "    </tr>\n",
       "  </thead>\n",
       "  <tbody>\n",
       "    <tr>\n",
       "      <th>0</th>\n",
       "      <td>19</td>\n",
       "      <td>female</td>\n",
       "      <td>yes</td>\n",
       "      <td>southwest</td>\n",
       "      <td>9.30</td>\n",
       "      <td>0</td>\n",
       "      <td>42212</td>\n",
       "    </tr>\n",
       "    <tr>\n",
       "      <th>1</th>\n",
       "      <td>18</td>\n",
       "      <td>male</td>\n",
       "      <td>no</td>\n",
       "      <td>southeast</td>\n",
       "      <td>11.26</td>\n",
       "      <td>1</td>\n",
       "      <td>4314</td>\n",
       "    </tr>\n",
       "    <tr>\n",
       "      <th>2</th>\n",
       "      <td>28</td>\n",
       "      <td>male</td>\n",
       "      <td>no</td>\n",
       "      <td>southeast</td>\n",
       "      <td>11.00</td>\n",
       "      <td>3</td>\n",
       "      <td>11124</td>\n",
       "    </tr>\n",
       "    <tr>\n",
       "      <th>3</th>\n",
       "      <td>33</td>\n",
       "      <td>male</td>\n",
       "      <td>no</td>\n",
       "      <td>northwest</td>\n",
       "      <td>7.57</td>\n",
       "      <td>0</td>\n",
       "      <td>54961</td>\n",
       "    </tr>\n",
       "    <tr>\n",
       "      <th>4</th>\n",
       "      <td>32</td>\n",
       "      <td>male</td>\n",
       "      <td>no</td>\n",
       "      <td>northwest</td>\n",
       "      <td>9.63</td>\n",
       "      <td>0</td>\n",
       "      <td>9667</td>\n",
       "    </tr>\n",
       "    <tr>\n",
       "      <th>...</th>\n",
       "      <td>...</td>\n",
       "      <td>...</td>\n",
       "      <td>...</td>\n",
       "      <td>...</td>\n",
       "      <td>...</td>\n",
       "      <td>...</td>\n",
       "      <td>...</td>\n",
       "    </tr>\n",
       "    <tr>\n",
       "      <th>1333</th>\n",
       "      <td>50</td>\n",
       "      <td>male</td>\n",
       "      <td>no</td>\n",
       "      <td>northwest</td>\n",
       "      <td>10.32</td>\n",
       "      <td>3</td>\n",
       "      <td>26501</td>\n",
       "    </tr>\n",
       "    <tr>\n",
       "      <th>1334</th>\n",
       "      <td>18</td>\n",
       "      <td>female</td>\n",
       "      <td>no</td>\n",
       "      <td>northeast</td>\n",
       "      <td>10.64</td>\n",
       "      <td>0</td>\n",
       "      <td>5515</td>\n",
       "    </tr>\n",
       "    <tr>\n",
       "      <th>1335</th>\n",
       "      <td>18</td>\n",
       "      <td>female</td>\n",
       "      <td>no</td>\n",
       "      <td>southeast</td>\n",
       "      <td>12.28</td>\n",
       "      <td>0</td>\n",
       "      <td>4075</td>\n",
       "    </tr>\n",
       "    <tr>\n",
       "      <th>1336</th>\n",
       "      <td>21</td>\n",
       "      <td>female</td>\n",
       "      <td>no</td>\n",
       "      <td>southwest</td>\n",
       "      <td>8.60</td>\n",
       "      <td>0</td>\n",
       "      <td>5020</td>\n",
       "    </tr>\n",
       "    <tr>\n",
       "      <th>1337</th>\n",
       "      <td>61</td>\n",
       "      <td>female</td>\n",
       "      <td>yes</td>\n",
       "      <td>northwest</td>\n",
       "      <td>9.69</td>\n",
       "      <td>0</td>\n",
       "      <td>72853</td>\n",
       "    </tr>\n",
       "  </tbody>\n",
       "</table>\n",
       "<p>1338 rows × 7 columns</p>\n",
       "</div>"
      ],
      "text/plain": [
       "      age     sex smoker     region  viral load  severity level  \\\n",
       "0      19  female    yes  southwest        9.30               0   \n",
       "1      18    male     no  southeast       11.26               1   \n",
       "2      28    male     no  southeast       11.00               3   \n",
       "3      33    male     no  northwest        7.57               0   \n",
       "4      32    male     no  northwest        9.63               0   \n",
       "...   ...     ...    ...        ...         ...             ...   \n",
       "1333   50    male     no  northwest       10.32               3   \n",
       "1334   18  female     no  northeast       10.64               0   \n",
       "1335   18  female     no  southeast       12.28               0   \n",
       "1336   21  female     no  southwest        8.60               0   \n",
       "1337   61  female    yes  northwest        9.69               0   \n",
       "\n",
       "      hospitalization charges  \n",
       "0                       42212  \n",
       "1                        4314  \n",
       "2                       11124  \n",
       "3                       54961  \n",
       "4                        9667  \n",
       "...                       ...  \n",
       "1333                    26501  \n",
       "1334                     5515  \n",
       "1335                     4075  \n",
       "1336                     5020  \n",
       "1337                    72853  \n",
       "\n",
       "[1338 rows x 7 columns]"
      ]
     },
     "execution_count": 9,
     "metadata": {},
     "output_type": "execute_result"
    }
   ],
   "source": [
    "df"
   ]
  },
  {
   "cell_type": "code",
   "execution_count": 9,
   "id": "d75c2c7b",
   "metadata": {},
   "outputs": [
    {
     "data": {
      "text/plain": [
       "Index(['sex', 'smoker', 'region'], dtype='object')"
      ]
     },
     "execution_count": 9,
     "metadata": {},
     "output_type": "execute_result"
    }
   ],
   "source": [
    "df.select_dtypes('object').columns"
   ]
  },
  {
   "cell_type": "code",
   "execution_count": 10,
   "id": "4627ecef",
   "metadata": {},
   "outputs": [
    {
     "data": {
      "image/png": "[encoded data removed]",
      "text/plain": [
       "<Figure size 1080x432 with 3 Axes>"
      ]
     },
     "metadata": {
      "needs_background": "light"
     },
     "output_type": "display_data"
    }
   ],
   "source": [
    "plt.figure(figsize=(15,6))\n",
    "for i,j in enumerate(list(df.select_dtypes('object').columns)):\n",
    "    plt.subplot(1,3,i+1)\n",
    "    plt.subplots_adjust(hspace = 0.8)\n",
    "    sbn.boxplot(x=j, y='hospitalization charges', data=df)\n",
    "    plt.tight_layout(pad=1)"
   ]
  },
  {
   "cell_type": "code",
   "execution_count": 11,
   "id": "85e3d079",
   "metadata": {},
   "outputs": [
    {
     "data": {
      "text/html": [
       "<div>\n",
       "<style scoped>\n",
       "    .dataframe tbody tr th:only-of-type {\n",
       "        vertical-align: middle;\n",
       "    }\n",
       "\n",
       "    .dataframe tbody tr th {\n",
       "        vertical-align: top;\n",
       "    }\n",
       "\n",
       "    .dataframe thead th {\n",
       "        text-align: right;\n",
       "    }\n",
       "</style>\n",
       "<table border=\"1\" class=\"dataframe\">\n",
       "  <thead>\n",
       "    <tr style=\"text-align: right;\">\n",
       "      <th></th>\n",
       "      <th>count</th>\n",
       "      <th>unique</th>\n",
       "      <th>top</th>\n",
       "      <th>freq</th>\n",
       "    </tr>\n",
       "  </thead>\n",
       "  <tbody>\n",
       "    <tr>\n",
       "      <th>sex</th>\n",
       "      <td>1338</td>\n",
       "      <td>2</td>\n",
       "      <td>male</td>\n",
       "      <td>676</td>\n",
       "    </tr>\n",
       "    <tr>\n",
       "      <th>smoker</th>\n",
       "      <td>1338</td>\n",
       "      <td>2</td>\n",
       "      <td>no</td>\n",
       "      <td>1064</td>\n",
       "    </tr>\n",
       "    <tr>\n",
       "      <th>region</th>\n",
       "      <td>1338</td>\n",
       "      <td>4</td>\n",
       "      <td>southeast</td>\n",
       "      <td>364</td>\n",
       "    </tr>\n",
       "  </tbody>\n",
       "</table>\n",
       "</div>"
      ],
      "text/plain": [
       "       count unique        top  freq\n",
       "sex     1338      2       male   676\n",
       "smoker  1338      2         no  1064\n",
       "region  1338      4  southeast   364"
      ]
     },
     "execution_count": 11,
     "metadata": {},
     "output_type": "execute_result"
    }
   ],
   "source": [
    "df.describe(include='object').T"
   ]
  },
  {
   "cell_type": "code",
   "execution_count": 12,
   "id": "ffe9bb55",
   "metadata": {},
   "outputs": [
    {
     "data": {
      "text/html": [
       "<div>\n",
       "<style scoped>\n",
       "    .dataframe tbody tr th:only-of-type {\n",
       "        vertical-align: middle;\n",
       "    }\n",
       "\n",
       "    .dataframe tbody tr th {\n",
       "        vertical-align: top;\n",
       "    }\n",
       "\n",
       "    .dataframe thead th {\n",
       "        text-align: right;\n",
       "    }\n",
       "</style>\n",
       "<table border=\"1\" class=\"dataframe\">\n",
       "  <thead>\n",
       "    <tr style=\"text-align: right;\">\n",
       "      <th></th>\n",
       "      <th>count</th>\n",
       "      <th>mean</th>\n",
       "      <th>std</th>\n",
       "      <th>min</th>\n",
       "      <th>25%</th>\n",
       "      <th>50%</th>\n",
       "      <th>75%</th>\n",
       "      <th>max</th>\n",
       "    </tr>\n",
       "  </thead>\n",
       "  <tbody>\n",
       "    <tr>\n",
       "      <th>age</th>\n",
       "      <td>1338.0</td>\n",
       "      <td>39.207025</td>\n",
       "      <td>14.049960</td>\n",
       "      <td>18.00</td>\n",
       "      <td>27.0000</td>\n",
       "      <td>39.00</td>\n",
       "      <td>51.0000</td>\n",
       "      <td>64.00</td>\n",
       "    </tr>\n",
       "    <tr>\n",
       "      <th>viral load</th>\n",
       "      <td>1338.0</td>\n",
       "      <td>10.221233</td>\n",
       "      <td>2.032796</td>\n",
       "      <td>5.32</td>\n",
       "      <td>8.7625</td>\n",
       "      <td>10.13</td>\n",
       "      <td>11.5675</td>\n",
       "      <td>17.71</td>\n",
       "    </tr>\n",
       "    <tr>\n",
       "      <th>severity level</th>\n",
       "      <td>1338.0</td>\n",
       "      <td>1.094918</td>\n",
       "      <td>1.205493</td>\n",
       "      <td>0.00</td>\n",
       "      <td>0.0000</td>\n",
       "      <td>1.00</td>\n",
       "      <td>2.0000</td>\n",
       "      <td>5.00</td>\n",
       "    </tr>\n",
       "    <tr>\n",
       "      <th>hospitalization charges</th>\n",
       "      <td>1338.0</td>\n",
       "      <td>33176.058296</td>\n",
       "      <td>30275.029296</td>\n",
       "      <td>2805.00</td>\n",
       "      <td>11851.0000</td>\n",
       "      <td>23455.00</td>\n",
       "      <td>41599.5000</td>\n",
       "      <td>159426.00</td>\n",
       "    </tr>\n",
       "  </tbody>\n",
       "</table>\n",
       "</div>"
      ],
      "text/plain": [
       "                          count          mean           std      min  \\\n",
       "age                      1338.0     39.207025     14.049960    18.00   \n",
       "viral load               1338.0     10.221233      2.032796     5.32   \n",
       "severity level           1338.0      1.094918      1.205493     0.00   \n",
       "hospitalization charges  1338.0  33176.058296  30275.029296  2805.00   \n",
       "\n",
       "                                25%       50%         75%        max  \n",
       "age                         27.0000     39.00     51.0000      64.00  \n",
       "viral load                   8.7625     10.13     11.5675      17.71  \n",
       "severity level               0.0000      1.00      2.0000       5.00  \n",
       "hospitalization charges  11851.0000  23455.00  41599.5000  159426.00  "
      ]
     },
     "execution_count": 12,
     "metadata": {},
     "output_type": "execute_result"
    }
   ],
   "source": [
    "import numpy as np\n",
    "df.describe(include=np.number).T"
   ]
  },
  {
   "cell_type": "code",
   "execution_count": 13,
   "id": "b9cdcc79",
   "metadata": {},
   "outputs": [
    {
     "name": "stdout",
     "output_type": "stream",
     "text": [
      "<class 'pandas.core.frame.DataFrame'>\n",
      "RangeIndex: 1338 entries, 0 to 1337\n",
      "Data columns (total 7 columns):\n",
      " #   Column                   Non-Null Count  Dtype  \n",
      "---  ------                   --------------  -----  \n",
      " 0   age                      1338 non-null   int64  \n",
      " 1   sex                      1338 non-null   object \n",
      " 2   smoker                   1338 non-null   object \n",
      " 3   region                   1338 non-null   object \n",
      " 4   viral load               1338 non-null   float64\n",
      " 5   severity level           1338 non-null   int64  \n",
      " 6   hospitalization charges  1338 non-null   int64  \n",
      "dtypes: float64(1), int64(3), object(3)\n",
      "memory usage: 73.3+ KB\n"
     ]
    }
   ],
   "source": [
    "df.info()"
   ]
  },
  {
   "cell_type": "code",
   "execution_count": 14,
   "id": "86669afd",
   "metadata": {},
   "outputs": [
    {
     "data": {
      "text/plain": [
       "Index(['age', 'viral load', 'severity level', 'hospitalization charges'], dtype='object')"
      ]
     },
     "execution_count": 14,
     "metadata": {},
     "output_type": "execute_result"
    }
   ],
   "source": [
    "df.select_dtypes(np.number).columns"
   ]
  },
  {
   "cell_type": "code",
   "execution_count": 15,
   "id": "0ec930f4",
   "metadata": {},
   "outputs": [],
   "source": [
    "#outlier treatment\n",
    "for i,j in enumeraxte(list(df.select_dtypes(np.number).columns)):\n",
    "    q1=df[j].quantile(0.25)\n",
    "    q3=df[j].quantile(0.75)\n",
    "    iqr=q3-q1\n",
    "\n",
    "    df=df[(df[j]>=q1-1.5*iqr)&(df[j]<=q3+1.5*iqr)]"
   ]
  },
  {
   "cell_type": "code",
   "execution_count": 16,
   "id": "1cdb0166",
   "metadata": {},
   "outputs": [
    {
     "data": {
      "image/png": "[encoded data removed]",
      "text/plain": [
       "<Figure size 1080x432 with 3 Axes>"
      ]
     },
     "metadata": {
      "needs_background": "light"
     },
     "output_type": "display_data"
    }
   ],
   "source": [
    "plt.figure(figsize=(15,6))\n",
    "for i,j in enumerate(list(df.select_dtypes('object').columns)):\n",
    "    plt.subplot(1,3,i+1)\n",
    "    plt.subplots_adjust(hspace = 0.8)\n",
    "    sbn.boxplot(x=j, y='hospitalization charges', data=df)\n",
    "    plt.tight_layout(pad=1)"
   ]
  },
  {
   "cell_type": "code",
   "execution_count": 17,
   "id": "1f29930c",
   "metadata": {},
   "outputs": [
    {
     "data": {
      "image/png": "[encoded data removed]",
      "text/plain": [
       "<Figure size 1080x432 with 3 Axes>"
      ]
     },
     "metadata": {
      "needs_background": "light"
     },
     "output_type": "display_data"
    }
   ],
   "source": [
    "plt.figure(figsize=(15,6))\n",
    "for i,j in enumerate(list(df.select_dtypes('object').columns)):\n",
    "    plt.subplot(1,3,i+1)\n",
    "    plt.subplots_adjust(hspace = 0.8)\n",
    "    sbn.boxplot(x=j, y='xd', data=df)\n",
    "    plt.tight_layout(pad=1)"
   ]
  },
  {
   "cell_type": "code",
   "execution_count": 18,
   "id": "d961236c",
   "metadata": {},
   "outputs": [
    {
     "data": {
      "image/png": "[encoded data removed]",
      "text/plain": [
       "<Figure size 1080x432 with 3 Axes>"
      ]
     },
     "metadata": {
      "needs_background": "light"
     },
     "output_type": "display_data"
    }
   ],
   "source": [
    "plt.figure(figsize=(15,6))\n",
    "for i,j in enumerate(list(df.select_dtypes('object').columns)):\n",
    "    plt.subplot(1,3,i+1)\n",
    "    plt.subplots_adjust(hspace = 0.8)\n",
    "    sbn.boxplot(x=j, y='severity level', data=df)\n",
    "    plt.tight_layout(pad=1)"
   ]
  },
  {
   "cell_type": "code",
   "execution_count": 19,
   "id": "ed66694a",
   "metadata": {},
   "outputs": [
    {
     "name": "stdout",
     "output_type": "stream",
     "text": [
      "<class 'pandas.core.frame.DataFrame'>\n",
      "Int64Index: 1191 entries, 0 to 1337\n",
      "Data columns (total 7 columns):\n",
      " #   Column                   Non-Null Count  Dtype  \n",
      "---  ------                   --------------  -----  \n",
      " 0   age                      1191 non-null   int64  \n",
      " 1   sex                      1191 non-null   object \n",
      " 2   smoker                   1191 non-null   object \n",
      " 3   region                   1191 non-null   object \n",
      " 4   viral load               1191 non-null   float64\n",
      " 5   severity level           1191 non-null   int64  \n",
      " 6   hospitalization charges  1191 non-null   int64  \n",
      "dtypes: float64(1), int64(3), object(3)\n",
      "memory usage: 106.7+ KB\n"
     ]
    }
   ],
   "source": [
    "df.info()"
   ]
  },
  {
   "cell_type": "code",
   "execution_count": 20,
   "id": "da760071",
   "metadata": {},
   "outputs": [
    {
     "data": {
      "image/png": "[encoded data removed]",
      "text/plain": [
       "<Figure size 1080x360 with 2 Axes>"
      ]
     },
     "metadata": {
      "needs_background": "light"
     },
     "output_type": "display_data"
    }
   ],
   "source": [
    "plt.figure(figsize=(15,5))\n",
    "sbn.heatmap(df.corr(),annot=True ,cmap=\"YlGn\" )\n",
    "plt.show()"
   ]
  },
  {
   "cell_type": "markdown",
   "id": "9374beb9",
   "metadata": {},
   "source": [
    "# Deep Dive into Age "
   ]
  },
  {
   "cell_type": "code",
   "execution_count": 21,
   "id": "180c9396",
   "metadata": {},
   "outputs": [],
   "source": [
    "# as age has the highest correlation with the charges, therefore, let's check charges by age bin\n",
    "df['age bins']=pd.cut(x=df['age'], bins=[0,18,28,38,48,58,68,100],labels=['0-18','18-28','28-38','38-48','48-58','58-68','68-100'])"
   ]
  },
  {
   "cell_type": "code",
   "execution_count": 22,
   "id": "26384d2b",
   "metadata": {},
   "outputs": [
    {
     "data": {
      "text/plain": [
       "<AxesSubplot:xlabel='age', ylabel='hospitalization charges'>"
      ]
     },
     "execution_count": 22,
     "metadata": {},
     "output_type": "execute_result"
    },
    {
     "data": {
      "image/png": "[encoded data removed]",
      "text/plain": [
       "<Figure size 864x576 with 1 Axes>"
      ]
     },
     "metadata": {
      "needs_background": "light"
     },
     "output_type": "display_data"
    }
   ],
   "source": [
    "plt.figure(figsize=(12,8))\n",
    "sbn.lineplot(x='age', y='hospitalization charges', data=df, hue='sex')"
   ]
  },
  {
   "cell_type": "code",
   "execution_count": 23,
   "id": "58edf4a3",
   "metadata": {},
   "outputs": [
    {
     "data": {
      "text/plain": [
       "<AxesSubplot:xlabel='age bins', ylabel='hospitalization charges'>"
      ]
     },
     "execution_count": 23,
     "metadata": {},
     "output_type": "execute_result"
    },
    {
     "data": {
      "image/png": "[encoded data removed]",
      "text/plain": [
       "<Figure size 864x576 with 1 Axes>"
      ]
     },
     "metadata": {
      "needs_background": "light"
     },
     "output_type": "display_data"
    }
   ],
   "source": [
    "plt.figure(figsize=(12,8))\n",
    "sbn.barplot(x='age bins', y='hospitalization charges', data=df)"
   ]
  },
  {
   "cell_type": "code",
   "execution_count": 24,
   "id": "838515b4",
   "metadata": {},
   "outputs": [
    {
     "data": {
      "text/html": [
       "<div>\n",
       "<style scoped>\n",
       "    .dataframe tbody tr th:only-of-type {\n",
       "        vertical-align: middle;\n",
       "    }\n",
       "\n",
       "    .dataframe tbody tr th {\n",
       "        vertical-align: top;\n",
       "    }\n",
       "\n",
       "    .dataframe thead th {\n",
       "        text-align: right;\n",
       "    }\n",
       "</style>\n",
       "<table border=\"1\" class=\"dataframe\">\n",
       "  <thead>\n",
       "    <tr style=\"text-align: right;\">\n",
       "      <th></th>\n",
       "      <th>smoker</th>\n",
       "      <th>no</th>\n",
       "      <th>yes</th>\n",
       "    </tr>\n",
       "    <tr>\n",
       "      <th>region</th>\n",
       "      <th>sex</th>\n",
       "      <th></th>\n",
       "      <th></th>\n",
       "    </tr>\n",
       "  </thead>\n",
       "  <tbody>\n",
       "    <tr>\n",
       "      <th rowspan=\"2\" valign=\"top\">northeast</th>\n",
       "      <th>female</th>\n",
       "      <td>24105.053435</td>\n",
       "      <td>48756.263158</td>\n",
       "    </tr>\n",
       "    <tr>\n",
       "      <th>male</th>\n",
       "      <td>21660.096000</td>\n",
       "      <td>56480.500000</td>\n",
       "    </tr>\n",
       "    <tr>\n",
       "      <th rowspan=\"2\" valign=\"top\">northwest</th>\n",
       "      <th>female</th>\n",
       "      <td>21967.518519</td>\n",
       "      <td>58942.350000</td>\n",
       "    </tr>\n",
       "    <tr>\n",
       "      <th>male</th>\n",
       "      <td>20801.734848</td>\n",
       "      <td>56219.444444</td>\n",
       "    </tr>\n",
       "    <tr>\n",
       "      <th rowspan=\"2\" valign=\"top\">southeast</th>\n",
       "      <th>female</th>\n",
       "      <td>20590.739130</td>\n",
       "      <td>56240.470588</td>\n",
       "    </tr>\n",
       "    <tr>\n",
       "      <th>male</th>\n",
       "      <td>19123.868217</td>\n",
       "      <td>53855.058824</td>\n",
       "    </tr>\n",
       "    <tr>\n",
       "      <th rowspan=\"2\" valign=\"top\">southwest</th>\n",
       "      <th>female</th>\n",
       "      <td>19585.122302</td>\n",
       "      <td>54129.909091</td>\n",
       "    </tr>\n",
       "    <tr>\n",
       "      <th>male</th>\n",
       "      <td>19447.293651</td>\n",
       "      <td>50628.571429</td>\n",
       "    </tr>\n",
       "  </tbody>\n",
       "</table>\n",
       "</div>"
      ],
      "text/plain": [
       "smoker                      no           yes\n",
       "region    sex                               \n",
       "northeast female  24105.053435  48756.263158\n",
       "          male    21660.096000  56480.500000\n",
       "northwest female  21967.518519  58942.350000\n",
       "          male    20801.734848  56219.444444\n",
       "southeast female  20590.739130  56240.470588\n",
       "          male    19123.868217  53855.058824\n",
       "southwest female  19585.122302  54129.909091\n",
       "          male    19447.293651  50628.571429"
      ]
     },
     "execution_count": 24,
     "metadata": {},
     "output_type": "execute_result"
    }
   ],
   "source": [
    "df.groupby(['region','sex','smoker']).mean()['hospitalization charges'].unstack()"
   ]
  },
  {
   "cell_type": "markdown",
   "id": "7828f71b",
   "metadata": {},
   "source": [
    "# Some Conclusions based on EDA\n",
    "- As expected , as the age of the beneficiary  increases ,the cost to insurance increases.\n",
    "- Males who smoke have most claims and have higher bills.\n",
    "- Female who are nonsmoker also have more claims to nonsmoker males this may be because of child birth , need to explore claims type to understand better.\n"
   ]
  },
  {
   "cell_type": "markdown",
   "id": "35e0ece6",
   "metadata": {},
   "source": [
    "## 1. Prove (or disprove) that the hospitalisation of people who do smoking is greater than those who don't? (t-test Right tailed)"
   ]
  },
  {
   "cell_type": "code",
   "execution_count": 25,
   "id": "6b173517",
   "metadata": {},
   "outputs": [
    {
     "data": {
      "text/html": [
       "<div>\n",
       "<style scoped>\n",
       "    .dataframe tbody tr th:only-of-type {\n",
       "        vertical-align: middle;\n",
       "    }\n",
       "\n",
       "    .dataframe tbody tr th {\n",
       "        vertical-align: top;\n",
       "    }\n",
       "\n",
       "    .dataframe thead th {\n",
       "        text-align: right;\n",
       "    }\n",
       "</style>\n",
       "<table border=\"1\" class=\"dataframe\">\n",
       "  <thead>\n",
       "    <tr style=\"text-align: right;\">\n",
       "      <th></th>\n",
       "      <th>count</th>\n",
       "      <th>mean</th>\n",
       "      <th>std</th>\n",
       "      <th>min</th>\n",
       "      <th>25%</th>\n",
       "      <th>50%</th>\n",
       "      <th>75%</th>\n",
       "      <th>max</th>\n",
       "    </tr>\n",
       "    <tr>\n",
       "      <th>smoker</th>\n",
       "      <th></th>\n",
       "      <th></th>\n",
       "      <th></th>\n",
       "      <th></th>\n",
       "      <th></th>\n",
       "      <th></th>\n",
       "      <th></th>\n",
       "      <th></th>\n",
       "    </tr>\n",
       "  </thead>\n",
       "  <tbody>\n",
       "    <tr>\n",
       "      <th>no</th>\n",
       "      <td>1055.0</td>\n",
       "      <td>20907.971564</td>\n",
       "      <td>14563.067125</td>\n",
       "      <td>2805.0</td>\n",
       "      <td>9962.5</td>\n",
       "      <td>18313.0</td>\n",
       "      <td>28387.5</td>\n",
       "      <td>83680.0</td>\n",
       "    </tr>\n",
       "    <tr>\n",
       "      <th>yes</th>\n",
       "      <td>136.0</td>\n",
       "      <td>54578.154412</td>\n",
       "      <td>13360.849267</td>\n",
       "      <td>32074.0</td>\n",
       "      <td>44663.5</td>\n",
       "      <td>51899.5</td>\n",
       "      <td>61421.5</td>\n",
       "      <td>85758.0</td>\n",
       "    </tr>\n",
       "  </tbody>\n",
       "</table>\n",
       "</div>"
      ],
      "text/plain": [
       "         count          mean           std      min      25%      50%  \\\n",
       "smoker                                                                  \n",
       "no      1055.0  20907.971564  14563.067125   2805.0   9962.5  18313.0   \n",
       "yes      136.0  54578.154412  13360.849267  32074.0  44663.5  51899.5   \n",
       "\n",
       "            75%      max  \n",
       "smoker                    \n",
       "no      28387.5  83680.0  \n",
       "yes     61421.5  85758.0  "
      ]
     },
     "execution_count": 25,
     "metadata": {},
     "output_type": "execute_result"
    }
   ],
   "source": [
    "df.groupby('smoker')['hospitalization charges'].describe()"
   ]
  },
  {
   "cell_type": "markdown",
   "id": "3a2cd1ef",
   "metadata": {},
   "source": [
    "<b>Step 1: Define null and alternative hypothesis</b></font><br>\n",
    "<br>\n",
    "$\\ H_0  :  \\mu_1 <= \\mu_2  $ The average charges of smokers is less than or equal to nonsmokers \n",
    " <br>\n",
    " \n",
    "\n",
    "$\\ H_a  :\\mu_1 > \\mu_2 $ The average charges of smokers is greater than nonsmokers  <br>\n",
    "</div>\n",
    "<br>\n",
    "\n",
    "<b>Step 2: Decide the significance level. If P values is less than alpha reject the null hypothesis.</b></font>\n",
    "\n",
    "α = 0.05\n",
    "\n",
    "\n",
    "\n",
    "    \n",
    "\n",
    "\n",
    "#### Step3: \n",
    "\n",
    "<b>Standard deviation of the population is not known  ,will perform a T stat test .  The > sign in alternate hypothesis indicate  test is right tailed, that is all z values that would cause us to reject null hypothesis are in just one tail to the right of  sampling  distribution curve. </b>"
   ]
  },
  {
   "cell_type": "code",
   "execution_count": 26,
   "id": "92179086",
   "metadata": {},
   "outputs": [],
   "source": [
    "smoker=df[df['smoker']=='yes']['hospitalization charges'].sample(109)\n",
    "non_smoker=df[df['smoker']=='no']['hospitalization charges'].sample(109)"
   ]
  },
  {
   "cell_type": "code",
   "execution_count": 27,
   "id": "83a92880",
   "metadata": {},
   "outputs": [
    {
     "name": "stdout",
     "output_type": "stream",
     "text": [
      "Test statistic = 19.10483863138369 , Pvalue =2.768869225260506e-48 , OnetailPvalue = 1.384434612630253e-48\n"
     ]
    }
   ],
   "source": [
    "alpha=0.05\n",
    "t_statistic, p_value = stats.ttest_ind(smoker, non_smoker,equal_var=False)\n",
    "#equal_var=False --> welch test--> doesn't assume variance to be equal\n",
    "p_value_onetail=p_value/2\n",
    "\n",
    "print(\"Test statistic = {} , Pvalue ={} , OnetailPvalue = {}\".format(t_statistic,p_value, p_value_onetail ))\n"
   ]
  },
  {
   "cell_type": "code",
   "execution_count": 28,
   "id": "6bdff1fa",
   "metadata": {},
   "outputs": [
    {
     "name": "stdout",
     "output_type": "stream",
     "text": [
      "Conclusion:Since P value 1.384434612630253e-48 is less than alpha 0.05 \n",
      "Reject Null Hypothesis that Average charges for smokers are less than or equal to nonsmoker.\n"
     ]
    }
   ],
   "source": [
    "if p_value<alpha :\n",
    "    print(\"Conclusion:Since P value {} is less than alpha {} \". format (p_value_onetail,alpha) )\n",
    "    print(\"Reject Null Hypothesis that Average charges for smokers are less than or equal to nonsmoker.\")\n",
    "    \n",
    "else:\n",
    "    print(\"Conclusion:Since P value {} is greater than alpha {} \". format (p_value_onetail,alpha))\n",
    "    print(\"Failed to Reject Null Hypothesis that Average charges for smokers are less than nonsmoker.\")"
   ]
  },
  {
   "cell_type": "code",
   "execution_count": 29,
   "id": "3fd4046b",
   "metadata": {},
   "outputs": [],
   "source": [
    "#Alternative hypothesis is true"
   ]
  },
  {
   "cell_type": "markdown",
   "id": "65d3a42d",
   "metadata": {},
   "source": [
    "# or"
   ]
  },
  {
   "cell_type": "code",
   "execution_count": 30,
   "id": "b207d5fd",
   "metadata": {},
   "outputs": [
    {
     "name": "stdout",
     "output_type": "stream",
     "text": [
      "Here Pvalue is automatically of ONE TAIL P VALUE =1.384434612630253e-48 as you have specified that the alternative = greater which means one tail test \n"
     ]
    }
   ],
   "source": [
    "alpha=0.05\n",
    "t_statistic, p_value = stats.ttest_ind(smoker, non_smoker, alternative='greater', equal_var=False)\n",
    "\n",
    "print(\"Here Pvalue is automatically of ONE TAIL P VALUE ={} as you have specified that the alternative = greater which means one tail test \".format(p_value ))\n"
   ]
  },
  {
   "cell_type": "markdown",
   "id": "c888a95e",
   "metadata": {},
   "source": [
    "# 2. Prove (or disprove) with statistical evidence that the viral load of females is different from that of males"
   ]
  },
  {
   "cell_type": "code",
   "execution_count": 31,
   "id": "5195ad8e",
   "metadata": {},
   "outputs": [
    {
     "data": {
      "text/html": [
       "<div>\n",
       "<style scoped>\n",
       "    .dataframe tbody tr th:only-of-type {\n",
       "        vertical-align: middle;\n",
       "    }\n",
       "\n",
       "    .dataframe tbody tr th {\n",
       "        vertical-align: top;\n",
       "    }\n",
       "\n",
       "    .dataframe thead th {\n",
       "        text-align: right;\n",
       "    }\n",
       "</style>\n",
       "<table border=\"1\" class=\"dataframe\">\n",
       "  <thead>\n",
       "    <tr style=\"text-align: right;\">\n",
       "      <th></th>\n",
       "      <th>count</th>\n",
       "      <th>mean</th>\n",
       "      <th>std</th>\n",
       "      <th>min</th>\n",
       "      <th>25%</th>\n",
       "      <th>50%</th>\n",
       "      <th>75%</th>\n",
       "      <th>max</th>\n",
       "    </tr>\n",
       "    <tr>\n",
       "      <th>sex</th>\n",
       "      <th></th>\n",
       "      <th></th>\n",
       "      <th></th>\n",
       "      <th></th>\n",
       "      <th></th>\n",
       "      <th></th>\n",
       "      <th></th>\n",
       "      <th></th>\n",
       "    </tr>\n",
       "  </thead>\n",
       "  <tbody>\n",
       "    <tr>\n",
       "      <th>female</th>\n",
       "      <td>610.0</td>\n",
       "      <td>9.966541</td>\n",
       "      <td>1.96940</td>\n",
       "      <td>5.60</td>\n",
       "      <td>8.585</td>\n",
       "      <td>9.855</td>\n",
       "      <td>11.1725</td>\n",
       "      <td>15.58</td>\n",
       "    </tr>\n",
       "    <tr>\n",
       "      <th>male</th>\n",
       "      <td>581.0</td>\n",
       "      <td>10.030947</td>\n",
       "      <td>1.94495</td>\n",
       "      <td>5.32</td>\n",
       "      <td>8.600</td>\n",
       "      <td>9.940</td>\n",
       "      <td>11.2900</td>\n",
       "      <td>15.51</td>\n",
       "    </tr>\n",
       "  </tbody>\n",
       "</table>\n",
       "</div>"
      ],
      "text/plain": [
       "        count       mean      std   min    25%    50%      75%    max\n",
       "sex                                                                  \n",
       "female  610.0   9.966541  1.96940  5.60  8.585  9.855  11.1725  15.58\n",
       "male    581.0  10.030947  1.94495  5.32  8.600  9.940  11.2900  15.51"
      ]
     },
     "execution_count": 31,
     "metadata": {},
     "output_type": "execute_result"
    }
   ],
   "source": [
    "df.groupby('sex')['viral load'].describe()"
   ]
  },
  {
   "cell_type": "code",
   "execution_count": 33,
   "id": "95802fd0",
   "metadata": {},
   "outputs": [],
   "source": [
    "male=df[df['sex']=='male']['viral load'].sample(581)\n",
    "female=df[df['sex']=='female']['viral load'].sample(581)"
   ]
  },
  {
   "cell_type": "markdown",
   "id": "09dd76bb",
   "metadata": {},
   "source": [
    "<b>Step 1: Define null and alternative hypothesis</b></font><br>\n",
    "<br>\n",
    "$\\ H_0  :  \\mu_1 = \\mu_2  $ No difference in the viral load of females and males\n",
    " <br>\n",
    " \n",
    "\n",
    "$\\ H_a  :\\mu_1 != \\mu_2 $  Difference in the viral load of females and males <br>\n",
    "</div>\n",
    "<br>\n",
    "\n",
    "<b>Step 2: Decide the significance level. If P values is less than alpha reject the null hypothesis.</b></font>\n",
    "\n",
    "α = 0.05\n",
    "\n",
    "\n",
    "\n",
    "    \n",
    "\n",
    "\n",
    "#### Step3: \n",
    "\n",
    "Standard deviation of the population is not known ,will perform a T stat test. Not equal to sign in alternate hypothesis indicate its a two tailed test."
   ]
  },
  {
   "cell_type": "code",
   "execution_count": 34,
   "id": "fae0faa8",
   "metadata": {},
   "outputs": [
    {
     "name": "stdout",
     "output_type": "stream",
     "text": [
      "Test statistic = 0.5501358940572972 , Pvalue =0.5823320795804493 \n"
     ]
    }
   ],
   "source": [
    "alpha=0.05\n",
    "t_statistic, p_value = stats.ttest_ind(male, female, alternative='two-sided')\n",
    "\n",
    "print(\"Test statistic = {} , Pvalue ={} \".format(t_statistic,p_value ))\n"
   ]
  },
  {
   "cell_type": "code",
   "execution_count": 35,
   "id": "ef4ae4c8",
   "metadata": {},
   "outputs": [
    {
     "name": "stderr",
     "output_type": "stream",
     "text": [
      "/Users/suraaj/opt/anaconda3/lib/python3.9/site-packages/seaborn/distributions.py:2619: FutureWarning: `distplot` is a deprecated function and will be removed in a future version. Please adapt your code to use either `displot` (a figure-level function with similar flexibility) or `kdeplot` (an axes-level function for kernel density plots).\n",
      "  warnings.warn(msg, FutureWarning)\n",
      "/Users/suraaj/opt/anaconda3/lib/python3.9/site-packages/seaborn/distributions.py:2619: FutureWarning: `distplot` is a deprecated function and will be removed in a future version. Please adapt your code to use either `displot` (a figure-level function with similar flexibility) or `kdeplot` (an axes-level function for kernel density plots).\n",
      "  warnings.warn(msg, FutureWarning)\n"
     ]
    },
    {
     "data": {
      "text/plain": [
       "<AxesSubplot:xlabel='viral load', ylabel='Density'>"
      ]
     },
     "execution_count": 35,
     "metadata": {},
     "output_type": "execute_result"
    },
    {
     "data": {
      "image/png": "[encoded data removed]",
      "text/plain": [
       "<Figure size 432x288 with 1 Axes>"
      ]
     },
     "metadata": {
      "needs_background": "light"
     },
     "output_type": "display_data"
    }
   ],
   "source": [
    "sbn.distplot(male,color='green',hist=False)\n",
    "sbn.distplot(female,color='red',hist=False)"
   ]
  },
  {
   "cell_type": "markdown",
   "id": "3605bbcd",
   "metadata": {},
   "source": [
    " #### We fail to reject the null hypothesis and can conclude that There is no difference between viral load of Female and viral load of Males. "
   ]
  },
  {
   "cell_type": "markdown",
   "id": "5cb03307",
   "metadata": {},
   "source": [
    "# 3. Is the proportion of smoking significantly different across different regions? (chi-square)"
   ]
  },
  {
   "cell_type": "markdown",
   "id": "69f7ea63",
   "metadata": {},
   "source": [
    "\n",
    "$H_0  : $Smokers proportions is not significantly different across different regions <br>\n",
    "<br>$ H_1  : $Smokers proportions is  different across different regions  <br>\n",
    "</div>\n",
    "\n",
    "#### Here we are comparing two different categorical variables, smoker and  different region. So perform a  Chi-sq Test.\n"
   ]
  },
  {
   "cell_type": "code",
   "execution_count": 36,
   "id": "c905658b",
   "metadata": {},
   "outputs": [
    {
     "data": {
      "text/html": [
       "<div>\n",
       "<style scoped>\n",
       "    .dataframe tbody tr th:only-of-type {\n",
       "        vertical-align: middle;\n",
       "    }\n",
       "\n",
       "    .dataframe tbody tr th {\n",
       "        vertical-align: top;\n",
       "    }\n",
       "\n",
       "    .dataframe thead th {\n",
       "        text-align: right;\n",
       "    }\n",
       "</style>\n",
       "<table border=\"1\" class=\"dataframe\">\n",
       "  <thead>\n",
       "    <tr style=\"text-align: right;\">\n",
       "      <th>smoker</th>\n",
       "      <th>no</th>\n",
       "      <th>yes</th>\n",
       "    </tr>\n",
       "    <tr>\n",
       "      <th>region</th>\n",
       "      <th></th>\n",
       "      <th></th>\n",
       "    </tr>\n",
       "  </thead>\n",
       "  <tbody>\n",
       "    <tr>\n",
       "      <th>northeast</th>\n",
       "      <td>256</td>\n",
       "      <td>39</td>\n",
       "    </tr>\n",
       "    <tr>\n",
       "      <th>northwest</th>\n",
       "      <td>267</td>\n",
       "      <td>38</td>\n",
       "    </tr>\n",
       "    <tr>\n",
       "      <th>southeast</th>\n",
       "      <td>267</td>\n",
       "      <td>34</td>\n",
       "    </tr>\n",
       "    <tr>\n",
       "      <th>southwest</th>\n",
       "      <td>265</td>\n",
       "      <td>25</td>\n",
       "    </tr>\n",
       "  </tbody>\n",
       "</table>\n",
       "</div>"
      ],
      "text/plain": [
       "smoker      no  yes\n",
       "region             \n",
       "northeast  256   39\n",
       "northwest  267   38\n",
       "southeast  267   34\n",
       "southwest  265   25"
      ]
     },
     "execution_count": 36,
     "metadata": {},
     "output_type": "execute_result"
    }
   ],
   "source": [
    "contigency= pd.crosstab(df.region, df.smoker)\n",
    "contigency"
   ]
  },
  {
   "cell_type": "code",
   "execution_count": 37,
   "id": "d2bf774f",
   "metadata": {},
   "outputs": [
    {
     "data": {
      "text/html": [
       "<div>\n",
       "<style scoped>\n",
       "    .dataframe tbody tr th:only-of-type {\n",
       "        vertical-align: middle;\n",
       "    }\n",
       "\n",
       "    .dataframe tbody tr th {\n",
       "        vertical-align: top;\n",
       "    }\n",
       "\n",
       "    .dataframe thead th {\n",
       "        text-align: right;\n",
       "    }\n",
       "</style>\n",
       "<table border=\"1\" class=\"dataframe\">\n",
       "  <thead>\n",
       "    <tr style=\"text-align: right;\">\n",
       "      <th>smoker</th>\n",
       "      <th>no</th>\n",
       "      <th>yes</th>\n",
       "    </tr>\n",
       "    <tr>\n",
       "      <th>region</th>\n",
       "      <th></th>\n",
       "      <th></th>\n",
       "    </tr>\n",
       "  </thead>\n",
       "  <tbody>\n",
       "    <tr>\n",
       "      <th>northeast</th>\n",
       "      <td>256</td>\n",
       "      <td>39</td>\n",
       "    </tr>\n",
       "    <tr>\n",
       "      <th>northwest</th>\n",
       "      <td>267</td>\n",
       "      <td>38</td>\n",
       "    </tr>\n",
       "    <tr>\n",
       "      <th>southeast</th>\n",
       "      <td>267</td>\n",
       "      <td>34</td>\n",
       "    </tr>\n",
       "    <tr>\n",
       "      <th>southwest</th>\n",
       "      <td>265</td>\n",
       "      <td>25</td>\n",
       "    </tr>\n",
       "  </tbody>\n",
       "</table>\n",
       "</div>"
      ],
      "text/plain": [
       "smoker      no  yes\n",
       "region             \n",
       "northeast  256   39\n",
       "northwest  267   38\n",
       "southeast  267   34\n",
       "southwest  265   25"
      ]
     },
     "execution_count": 37,
     "metadata": {},
     "output_type": "execute_result"
    }
   ],
   "source": [
    "df.groupby(['region','smoker'])['age'].count().unstack()"
   ]
  },
  {
   "cell_type": "code",
   "execution_count": 38,
   "id": "26d65e7b",
   "metadata": {},
   "outputs": [
    {
     "data": {
      "text/plain": [
       "<AxesSubplot:xlabel='region'>"
      ]
     },
     "execution_count": 38,
     "metadata": {},
     "output_type": "execute_result"
    },
    {
     "data": {
      "image/png": "[encoded data removed]",
      "text/plain": [
       "<Figure size 432x288 with 1 Axes>"
      ]
     },
     "metadata": {
      "needs_background": "light"
     },
     "output_type": "display_data"
    }
   ],
   "source": [
    "contigency.plot(kind='bar')"
   ]
  },
  {
   "cell_type": "code",
   "execution_count": 39,
   "id": "6da47bc5",
   "metadata": {},
   "outputs": [
    {
     "name": "stdout",
     "output_type": "stream",
     "text": [
      "chi-square statistic: 3.5220357595425758 , Pvalue: 0.31791538258247426 , Degree of freedom: 3 ,expected frequencies: [[261.31402183  33.68597817]\n",
      " [270.17212427  34.82787573]\n",
      " [266.62888329  34.37111671]\n",
      " [256.88497061  33.11502939]] \n"
     ]
    }
   ],
   "source": [
    "# Using the chi2_contingency test \n",
    "chi2, pval, dof, exp_freq = chi2_contingency(contigency, correction = False)\n",
    "print('chi-square statistic: {} , Pvalue: {} , Degree of freedom: {} ,expected frequencies: {} '.format(chi2, pval, dof, exp_freq))"
   ]
  },
  {
   "cell_type": "code",
   "execution_count": 40,
   "id": "fb7e95fe",
   "metadata": {},
   "outputs": [
    {
     "name": "stdout",
     "output_type": "stream",
     "text": [
      "Failed to reject Null Hypothesis\n"
     ]
    }
   ],
   "source": [
    "if (pval < 0.05):\n",
    "    print('Reject Null Hypothesis')\n",
    "else:\n",
    "    print('Failed to reject Null Hypothesis')"
   ]
  },
  {
   "cell_type": "markdown",
   "id": "f3fb6214",
   "metadata": {},
   "source": [
    "# 4. Is the mean viral load of women with 0 Severity level , 1 Severity level, and 2 Severity level the same? Explain your answer with statistical evidence. "
   ]
  },
  {
   "cell_type": "markdown",
   "id": "25f31e27",
   "metadata": {},
   "source": [
    "\n",
    "$H_0: $μ1 = μ2 = μ3  The mean viral load of women with no severity level , one severity level,two severity level is same <br>\n",
    "\n",
    "$H_a:$  Atleast  one of mean viral load of women is not same <br>\n",
    "</div>"
   ]
  },
  {
   "cell_type": "markdown",
   "id": "4eb54620",
   "metadata": {},
   "source": [
    "#### One-way ANOVA - Equality of population through variances of samples."
   ]
  },
  {
   "cell_type": "code",
   "execution_count": 41,
   "id": "a5a3f61f",
   "metadata": {},
   "outputs": [
    {
     "data": {
      "text/html": [
       "<div>\n",
       "<style scoped>\n",
       "    .dataframe tbody tr th:only-of-type {\n",
       "        vertical-align: middle;\n",
       "    }\n",
       "\n",
       "    .dataframe tbody tr th {\n",
       "        vertical-align: top;\n",
       "    }\n",
       "\n",
       "    .dataframe thead th {\n",
       "        text-align: right;\n",
       "    }\n",
       "</style>\n",
       "<table border=\"1\" class=\"dataframe\">\n",
       "  <thead>\n",
       "    <tr style=\"text-align: right;\">\n",
       "      <th></th>\n",
       "      <th>count</th>\n",
       "      <th>mean</th>\n",
       "      <th>std</th>\n",
       "      <th>min</th>\n",
       "      <th>25%</th>\n",
       "      <th>50%</th>\n",
       "      <th>75%</th>\n",
       "      <th>max</th>\n",
       "    </tr>\n",
       "    <tr>\n",
       "      <th>severity level</th>\n",
       "      <th></th>\n",
       "      <th></th>\n",
       "      <th></th>\n",
       "      <th></th>\n",
       "      <th></th>\n",
       "      <th></th>\n",
       "      <th></th>\n",
       "      <th></th>\n",
       "    </tr>\n",
       "  </thead>\n",
       "  <tbody>\n",
       "    <tr>\n",
       "      <th>0</th>\n",
       "      <td>268.0</td>\n",
       "      <td>9.963209</td>\n",
       "      <td>1.936862</td>\n",
       "      <td>5.76</td>\n",
       "      <td>8.6075</td>\n",
       "      <td>9.695</td>\n",
       "      <td>11.1300</td>\n",
       "      <td>14.92</td>\n",
       "    </tr>\n",
       "    <tr>\n",
       "      <th>1</th>\n",
       "      <td>147.0</td>\n",
       "      <td>9.908844</td>\n",
       "      <td>1.918987</td>\n",
       "      <td>5.60</td>\n",
       "      <td>8.6000</td>\n",
       "      <td>9.670</td>\n",
       "      <td>11.1300</td>\n",
       "      <td>15.36</td>\n",
       "    </tr>\n",
       "    <tr>\n",
       "      <th>2</th>\n",
       "      <td>106.0</td>\n",
       "      <td>9.945000</td>\n",
       "      <td>2.092305</td>\n",
       "      <td>5.73</td>\n",
       "      <td>8.3450</td>\n",
       "      <td>10.060</td>\n",
       "      <td>11.2025</td>\n",
       "      <td>15.57</td>\n",
       "    </tr>\n",
       "  </tbody>\n",
       "</table>\n",
       "</div>"
      ],
      "text/plain": [
       "                count      mean       std   min     25%     50%      75%  \\\n",
       "severity level                                                             \n",
       "0               268.0  9.963209  1.936862  5.76  8.6075   9.695  11.1300   \n",
       "1               147.0  9.908844  1.918987  5.60  8.6000   9.670  11.1300   \n",
       "2               106.0  9.945000  2.092305  5.73  8.3450  10.060  11.2025   \n",
       "\n",
       "                  max  \n",
       "severity level         \n",
       "0               14.92  \n",
       "1               15.36  \n",
       "2               15.57  "
      ]
     },
     "execution_count": 41,
     "metadata": {},
     "output_type": "execute_result"
    }
   ],
   "source": [
    "df[df['sex']=='female'].groupby('severity level')['viral load'].describe().head(3)"
   ]
  },
  {
   "cell_type": "code",
   "execution_count": 42,
   "id": "75bf1db9",
   "metadata": {},
   "outputs": [],
   "source": [
    "df_female_severe=df[df['sex']=='female'].loc[df[df['sex']=='female']['severity level']<=2]"
   ]
  },
  {
   "cell_type": "code",
   "execution_count": 43,
   "id": "dacb43ce",
   "metadata": {},
   "outputs": [
    {
     "data": {
      "text/html": [
       "<div>\n",
       "<style scoped>\n",
       "    .dataframe tbody tr th:only-of-type {\n",
       "        vertical-align: middle;\n",
       "    }\n",
       "\n",
       "    .dataframe tbody tr th {\n",
       "        vertical-align: top;\n",
       "    }\n",
       "\n",
       "    .dataframe thead th {\n",
       "        text-align: right;\n",
       "    }\n",
       "</style>\n",
       "<table border=\"1\" class=\"dataframe\">\n",
       "  <thead>\n",
       "    <tr style=\"text-align: right;\">\n",
       "      <th></th>\n",
       "      <th>age</th>\n",
       "      <th>sex</th>\n",
       "      <th>smoker</th>\n",
       "      <th>region</th>\n",
       "      <th>viral load</th>\n",
       "      <th>severity level</th>\n",
       "      <th>hospitalization charges</th>\n",
       "      <th>age bins</th>\n",
       "    </tr>\n",
       "  </thead>\n",
       "  <tbody>\n",
       "    <tr>\n",
       "      <th>0</th>\n",
       "      <td>19</td>\n",
       "      <td>female</td>\n",
       "      <td>yes</td>\n",
       "      <td>southwest</td>\n",
       "      <td>9.30</td>\n",
       "      <td>0</td>\n",
       "      <td>42212</td>\n",
       "      <td>18-28</td>\n",
       "    </tr>\n",
       "    <tr>\n",
       "      <th>5</th>\n",
       "      <td>31</td>\n",
       "      <td>female</td>\n",
       "      <td>no</td>\n",
       "      <td>southeast</td>\n",
       "      <td>8.58</td>\n",
       "      <td>0</td>\n",
       "      <td>9392</td>\n",
       "      <td>28-38</td>\n",
       "    </tr>\n",
       "    <tr>\n",
       "      <th>6</th>\n",
       "      <td>46</td>\n",
       "      <td>female</td>\n",
       "      <td>no</td>\n",
       "      <td>southeast</td>\n",
       "      <td>11.15</td>\n",
       "      <td>1</td>\n",
       "      <td>20601</td>\n",
       "      <td>38-48</td>\n",
       "    </tr>\n",
       "    <tr>\n",
       "      <th>9</th>\n",
       "      <td>60</td>\n",
       "      <td>female</td>\n",
       "      <td>no</td>\n",
       "      <td>northwest</td>\n",
       "      <td>8.61</td>\n",
       "      <td>0</td>\n",
       "      <td>72308</td>\n",
       "      <td>58-68</td>\n",
       "    </tr>\n",
       "    <tr>\n",
       "      <th>11</th>\n",
       "      <td>62</td>\n",
       "      <td>female</td>\n",
       "      <td>yes</td>\n",
       "      <td>southeast</td>\n",
       "      <td>8.76</td>\n",
       "      <td>0</td>\n",
       "      <td>69522</td>\n",
       "      <td>58-68</td>\n",
       "    </tr>\n",
       "  </tbody>\n",
       "</table>\n",
       "</div>"
      ],
      "text/plain": [
       "    age     sex smoker     region  viral load  severity level  \\\n",
       "0    19  female    yes  southwest        9.30               0   \n",
       "5    31  female     no  southeast        8.58               0   \n",
       "6    46  female     no  southeast       11.15               1   \n",
       "9    60  female     no  northwest        8.61               0   \n",
       "11   62  female    yes  southeast        8.76               0   \n",
       "\n",
       "    hospitalization charges age bins  \n",
       "0                     42212    18-28  \n",
       "5                      9392    28-38  \n",
       "6                     20601    38-48  \n",
       "9                     72308    58-68  \n",
       "11                    69522    58-68  "
      ]
     },
     "execution_count": 43,
     "metadata": {},
     "output_type": "execute_result"
    }
   ],
   "source": [
    "df_female_severe.head()"
   ]
  },
  {
   "cell_type": "code",
   "execution_count": 44,
   "id": "89e6d104",
   "metadata": {},
   "outputs": [
    {
     "data": {
      "text/plain": [
       "0    268\n",
       "1    147\n",
       "2    106\n",
       "Name: severity level, dtype: int64"
      ]
     },
     "execution_count": 44,
     "metadata": {},
     "output_type": "execute_result"
    }
   ],
   "source": [
    "df_female_severe['severity level'].value_counts()"
   ]
  },
  {
   "cell_type": "code",
   "execution_count": 45,
   "id": "bf7fd563",
   "metadata": {},
   "outputs": [
    {
     "data": {
      "text/plain": [
       "<AxesSubplot:xlabel='severity level', ylabel='viral load'>"
      ]
     },
     "execution_count": 45,
     "metadata": {},
     "output_type": "execute_result"
    },
    {
     "data": {
      "image/png": "[encoded data removed]",
      "text/plain": [
       "<Figure size 432x288 with 1 Axes>"
      ]
     },
     "metadata": {
      "needs_background": "light"
     },
     "output_type": "display_data"
    }
   ],
   "source": [
    "sbn.boxplot(x='severity level', y='viral load', data=df_female_severe)"
   ]
  },
  {
   "cell_type": "markdown",
   "id": "ee71fb43",
   "metadata": {},
   "source": [
    "#### Normality Assumption Check"
   ]
  },
  {
   "cell_type": "markdown",
   "id": "406386ec",
   "metadata": {},
   "source": [
    "### Shapiro-Wilk’s test\n",
    "\n",
    "We will test the null hypothesis\n",
    "\n",
    ">$H_0:$ viral load follows normal distribution\n",
    "\n",
    "against the alternative hypothesis\n",
    "\n",
    ">$H_a:$ viral load doesn't follow normal distribution\n"
   ]
  },
  {
   "cell_type": "code",
   "execution_count": 46,
   "id": "20c8b597",
   "metadata": {},
   "outputs": [
    {
     "name": "stdout",
     "output_type": "stream",
     "text": [
      "The p-value is 0.006814346183091402\n"
     ]
    }
   ],
   "source": [
    "# Assumption 1: Normality\n",
    "# import the required function\n",
    "from scipy.stats import shapiro\n",
    "\n",
    "# find the p-value\n",
    "w, p_value = shapiro(df_female_severe['viral load']) \n",
    "print('The p-value is', p_value)"
   ]
  },
  {
   "cell_type": "code",
   "execution_count": 47,
   "id": "f5fa84b8",
   "metadata": {},
   "outputs": [
    {
     "data": {
      "text/plain": [
       "<seaborn.axisgrid.FacetGrid at 0x7fc050eb3040>"
      ]
     },
     "execution_count": 47,
     "metadata": {},
     "output_type": "execute_result"
    },
    {
     "data": {
      "image/png": "[encoded data removed]",
      "text/plain": [
       "<Figure size 360x360 with 1 Axes>"
      ]
     },
     "metadata": {
      "needs_background": "light"
     },
     "output_type": "display_data"
    }
   ],
   "source": [
    "sbn.displot(df_female_severe['viral load'],bins=25) #this looks normal. since the data is not continuous"
   ]
  },
  {
   "cell_type": "code",
   "execution_count": 49,
   "id": "40b6efdf",
   "metadata": {},
   "outputs": [
    {
     "name": "stdout",
     "output_type": "stream",
     "text": [
      "The p-value is 0.009911485947668552\n"
     ]
    }
   ],
   "source": [
    "# Assumption 1: Normality\n",
    "# import the required function\n",
    "from scipy.stats import shapiro\n",
    "\n",
    "# find the p-value\n",
    "w, p_value = shapiro(np.log(df_female_severe['viral load']) )\n",
    "print('The p-value is', p_value)"
   ]
  },
  {
   "cell_type": "markdown",
   "id": "d163bef6",
   "metadata": {},
   "source": [
    "Please continue doing the analysis even If some assumption fail (levene’s test) but double check using visual analysis and report wherever necessary"
   ]
  },
  {
   "cell_type": "markdown",
   "id": "98d45f23",
   "metadata": {},
   "source": [
    "Anova is not very sensitive to moderate deviations from normality; simulation studies, using a variety of non-normal distributions, have shown that the false positive rate is not affected very much by this violation of the assumption (Glass et al. 1972, Harwell et al. 1992, Lix et al. 1996). This is because when you take a large number of random samples from a population, the means of those samples are approximately normally distributed even when the population is not normal."
   ]
  },
  {
   "cell_type": "markdown",
   "id": "517a2596",
   "metadata": {},
   "source": [
    "##### Homogeneity of variance Assumption Check"
   ]
  },
  {
   "cell_type": "markdown",
   "id": "837cb726",
   "metadata": {},
   "source": [
    "### Levene’s test\n",
    "\n",
    "We will test the null hypothesis\n",
    "\n",
    ">$H_0$: All the viral load variances are equal\n",
    "\n",
    "against the alternative hypothesis\n",
    "\n",
    ">$H_a$: At least one variance is different from the rest"
   ]
  },
  {
   "cell_type": "code",
   "execution_count": 53,
   "id": "1b8e5db3",
   "metadata": {},
   "outputs": [
    {
     "name": "stdout",
     "output_type": "stream",
     "text": [
      "The p-value is 0.8835210445559333\n"
     ]
    }
   ],
   "source": [
    "#Assumption 2: Homogeneity of Variance\n",
    "#import the required function\n",
    "from scipy.stats import levene\n",
    "statistic, p_value = levene( df_female_severe[df_female_severe['severity level']==0]['viral load'].sample(106), \n",
    "                             df_female_severe[df_female_severe['severity level']==1]['viral load'].sample(106), \n",
    "                             df_female_severe[df_female_severe['severity level']==2]['viral load'].sample(106))\n",
    "# find the p-value\n",
    "print('The p-value is', p_value)"
   ]
  },
  {
   "cell_type": "code",
   "execution_count": 54,
   "id": "af536b8c",
   "metadata": {},
   "outputs": [
    {
     "data": {
      "text/plain": [
       "True"
      ]
     },
     "execution_count": 54,
     "metadata": {},
     "output_type": "execute_result"
    }
   ],
   "source": [
    "p_value>0.05\n"
   ]
  },
  {
   "cell_type": "markdown",
   "id": "9c8f254d",
   "metadata": {},
   "source": [
    "### Anova"
   ]
  },
  {
   "cell_type": "code",
   "execution_count": 55,
   "id": "64d23bb2",
   "metadata": {},
   "outputs": [
    {
     "name": "stdout",
     "output_type": "stream",
     "text": [
      "The p-value is 0.552014453161594\n"
     ]
    }
   ],
   "source": [
    "# import the required function\n",
    "from scipy.stats import f_oneway\n",
    "# find the p-value\n",
    "test_stat, p_value = f_oneway(df_female_severe[df_female_severe['severity level']==0]['viral load'].sample(106), \n",
    "                             df_female_severe[df_female_severe['severity level']==1]['viral load'].sample(106), \n",
    "                             df_female_severe[df_female_severe['severity level']==2]['viral load'].sample(106))\n",
    "# print the p-value\n",
    "print('The p-value is', p_value)"
   ]
  },
  {
   "cell_type": "code",
   "execution_count": 56,
   "id": "84fb08b4",
   "metadata": {},
   "outputs": [
    {
     "name": "stdout",
     "output_type": "stream",
     "text": [
      "As the p-value 0.552014453161594 is greater than the level of significance, we fail to reject the null hypothesis.\n"
     ]
    }
   ],
   "source": [
    "# print the conclusion based on p-value\n",
    "if p_value < 0.05:\n",
    "    print(f'As the p-value {p_value} is less than the level of significance, we reject the null hypothesis.')\n",
    "else:\n",
    "    print(f'As the p-value {p_value} is greater than the level of significance, we fail to reject the null hypothesis.')"
   ]
  },
  {
   "cell_type": "markdown",
   "id": "2b00b198",
   "metadata": {},
   "source": [
    "## Recommendation Examples\n",
    "\n",
    "Based on EDA and statistical evidence it can be seen that customer who smoke or have higher viral load have more higher hospitalization charges.\n",
    "<br>\n",
    "<br>\n",
    "We can encourage customers to quit smoking by providing them incentive points for talking to life coach, get help for improving lifestyle habits, Quit Tobacco- 28 day program. Give gift cards when customer accumulates specific number of points.\n",
    "<br>\n",
    "<br>\n",
    "High viral load is primarily because of less immunity in the body. We can provide patients with high vitamins rich diet plans and wellness health coaches which can help them to make right choices.\n"
   ]
  },
  {
   "cell_type": "code",
   "execution_count": null,
   "id": "4956f832",
   "metadata": {},
   "outputs": [],
   "source": []
  }
 ],
 "metadata": {
  "kernelspec": {
   "display_name": "Python 3",
   "language": "python",
   "name": "python3"
  },
  "language_info": {
   "codemirror_mode": {
    "name": "ipython",
    "version": 3
   },
   "file_extension": ".py",
   "mimetype": "text/x-python",
   "name": "python",
   "nbconvert_exporter": "python",
   "pygments_lexer": "ipython3",
   "version": "3.9.12"
  }
 },
 "nbformat": 4,
 "nbformat_minor": 5
}
