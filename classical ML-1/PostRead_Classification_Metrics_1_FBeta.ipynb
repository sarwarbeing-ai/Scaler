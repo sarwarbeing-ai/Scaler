{
  "nbformat": 4,
  "nbformat_minor": 0,
  "metadata": {
    "colab": {
      "provenance": [],
      "toc_visible": true
    },
    "kernelspec": {
      "name": "python3",
      "display_name": "Python 3"
    },
    "language_info": {
      "name": "python"
    }
  },
  "cells": [
    {
      "cell_type": "markdown",
      "source": [
        "## Content\n",
        "- **F-beta score**\n",
        "    - F-2 score\n",
        "    - F-0.5 score"
      ],
      "metadata": {
        "id": "USdqSTYnJZLr"
      }
    },
    {
      "cell_type": "markdown",
      "source": [
        "#### Revision"
      ],
      "metadata": {
        "id": "MMyMdNPvLjYp"
      }
    },
    {
      "cell_type": "markdown",
      "source": [
        "\n",
        "\n",
        "Let's recall what we studied in lecture: \n",
        "\n",
        "- F1-measure balances the precision and recall.\n",
        "- Precision is a metric that quantifies the number of correct positive predictions made.\n",
        "  - $Precision = \\frac{TruePositives}{TruePositives + FalsePositives}$\n",
        "\n",
        "- Recall is a metric that quantifies the number of correct positive predictions made out of all positive predictions that could have been made.\n",
        "\n",
        " - $Recall = \\frac{TruePositives}{TruePositives + FalseNegatives} $\n",
        "\n",
        "\n",
        "\n",
        "\n"
      ],
      "metadata": {
        "id": "q-R2PmniIWia"
      }
    },
    {
      "cell_type": "markdown",
      "source": [
        "### F-beta score"
      ],
      "metadata": {
        "id": "-tZLh1UeLhNQ"
      }
    },
    {
      "cell_type": "markdown",
      "source": [
        "But On some problems, we might be interested in an F-measure with more attention put on precision, such as when false positives are more important to minimize.\n",
        "\n",
        "\n",
        "\n",
        "The solution is the **Fbeta-measure.**\n",
        "- Defined as Fbeta = $\\frac{((1 + beta^2) * Precision * Recall)} {(beta^2 * Precision + Recall)}$\n",
        "\n",
        "\n",
        "      \n",
        "\n",
        "\n"
      ],
      "metadata": {
        "id": "5McQSjmjIcJH"
      }
    },
    {
      "cell_type": "markdown",
      "source": [
        "#### F-2 Score"
      ],
      "metadata": {
        "id": "V9a6Fx4lKdqe"
      }
    },
    {
      "cell_type": "markdown",
      "source": [
        "\n",
        "When it is more important to optimise **recall than precision**\n",
        "- we use the **F2 score**\n",
        "- Defined as: $F2 = \\frac{(1+2^2)*precision*recall}{(2^2)*precision+recall}$"
      ],
      "metadata": {
        "id": "sA4bVERZI3TJ"
      }
    },
    {
      "cell_type": "markdown",
      "source": [
        "#### F-0.5 Score"
      ],
      "metadata": {
        "id": "A0u5QwCxL1M1"
      }
    },
    {
      "cell_type": "markdown",
      "source": [
        "Now what if we might be interested in an F-measure with **more attention put on precision**, \n",
        "\n",
        "- such as when **false positive are more important to minimize**\n"
      ],
      "metadata": {
        "id": "JB3GTI_aJxUf"
      }
    },
    {
      "cell_type": "markdown",
      "source": [
        "- We use the **F0.5 score**\n",
        "- $F0.5 = \\frac{(1+0.5^2)*precision*recall}{(0.5^2)precision+recall}$"
      ],
      "metadata": {
        "id": "w834LzbFL0p1"
      }
    }
  ]
}