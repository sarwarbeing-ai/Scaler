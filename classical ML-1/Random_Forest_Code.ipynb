{
  "nbformat": 4,
  "nbformat_minor": 0,
  "metadata": {
    "colab": {
      "provenance": [],
      "collapsed_sections": []
    },
    "kernelspec": {
      "name": "python3",
      "display_name": "Python 3"
    },
    "language_info": {
      "name": "python"
    }
  },
  "cells": [
    {
      "cell_type": "code",
      "execution_count": 3,
      "metadata": {
        "id": "zsilLxDXU27g"
      },
      "outputs": [],
      "source": [
        "import numpy as np\n",
        "import pandas as pd\n",
        "import matplotlib.pyplot as plt"
      ]
    },
    {
      "cell_type": "code",
      "source": [
        "# !gdown 16KtxSt_QEGQvfluEaMls5cCHPwhRXgCk\n",
        "!gdown 19L3rYatfhbBL1r5MHrv-p_oM2wlvrhqk\n",
        "!gdown 1OHLKJwA3qZopKPvlKoRldM6BvA1A4dYF\n",
        "!gdown 1N7O_fWCTJLu8SIa_paKcDEzllgpMk8sK\n",
        "!gdown 12Bh2AN8LcZAlg20ehpQrEWccUDaSdsOG"
      ],
      "metadata": {
        "colab": {
          "base_uri": "https://localhost:8080/"
        },
        "id": "IcNko5kkU3dS",
        "outputId": "b4a326f1-9f2b-4a2d-cb85-9c36de030ddb"
      },
      "execution_count": 2,
      "outputs": [
        {
          "output_type": "stream",
          "name": "stdout",
          "text": [
            "Downloading...\n",
            "From: https://drive.google.com/uc?id=19L3rYatfhbBL1r5MHrv-p_oM2wlvrhqk\n",
            "To: /content/preprocessed_X_sm.pickle\n",
            "100% 534k/534k [00:00<00:00, 100MB/s]\n",
            "Downloading...\n",
            "From: https://drive.google.com/uc?id=1OHLKJwA3qZopKPvlKoRldM6BvA1A4dYF\n",
            "To: /content/X_test.pickle\n",
            "100% 111k/111k [00:00<00:00, 53.6MB/s]\n",
            "Downloading...\n",
            "From: https://drive.google.com/uc?id=1N7O_fWCTJLu8SIa_paKcDEzllgpMk8sK\n",
            "To: /content/y_sm.pickle\n",
            "100% 15.4k/15.4k [00:00<00:00, 20.9MB/s]\n",
            "Downloading...\n",
            "From: https://drive.google.com/uc?id=12Bh2AN8LcZAlg20ehpQrEWccUDaSdsOG\n",
            "To: /content/y_test.pickle\n",
            "100% 9.49k/9.49k [00:00<00:00, 11.6MB/s]\n"
          ]
        }
      ]
    },
    {
      "cell_type": "code",
      "source": [
        "import pickle\n",
        "\n",
        "# Load data (deserialize)\n",
        "\n",
        "with open('preprocessed_X_sm.pickle', 'rb') as handle:\n",
        "    X_sm = pickle.load(handle)\n",
        "\n",
        "with open('y_sm.pickle', 'rb') as handle:\n",
        "    y_sm = pickle.load(handle)"
      ],
      "metadata": {
        "id": "6l9dJKu0U30_"
      },
      "execution_count": 4,
      "outputs": []
    },
    {
      "cell_type": "code",
      "source": [
        "# Using the best decision tree model as observed in the last lecture\n",
        "from sklearn.tree import DecisionTreeClassifier\n",
        "from sklearn.model_selection import  cross_validate\n",
        "\n",
        "tree_clf = DecisionTreeClassifier(random_state=7, max_depth = 7)\n",
        "cv_acc_results = cross_validate(tree_clf, X_sm, y_sm, cv = 10, scoring = 'accuracy', return_train_score = True)\n",
        "\n",
        "print(f\"K-Fold Accuracy Mean: Train: {cv_acc_results['train_score'].mean()*100} Validation: {cv_acc_results['test_score'].mean()*100}\")\n",
        "print(f\"K-Fold Accuracy Std: Train: {cv_acc_results['train_score'].std()*100} Validation: {cv_acc_results['test_score'].std()*100}\")"
      ],
      "metadata": {
        "colab": {
          "base_uri": "https://localhost:8080/"
        },
        "id": "own6hn5DVAoZ",
        "outputId": "fcf09446-519e-4d3e-955c-8af3ac22d349"
      },
      "execution_count": 6,
      "outputs": [
        {
          "output_type": "stream",
          "name": "stdout",
          "text": [
            "K-Fold Accuracy Mean: Train: 93.3743068886165 Validation: 83.44770857814338\n",
            "K-Fold Accuracy Std: Train: 1.104155419490005 Validation: 10.726471022809651\n"
          ]
        }
      ]
    },
    {
      "cell_type": "code",
      "source": [
        "from sklearn.ensemble import RandomForestClassifier\n",
        "from sklearn.model_selection import cross_validate\n",
        "\n",
        "rfc = RandomForestClassifier(random_state=7, max_depth=9, n_estimators=100)\n",
        "cv_acc_results = cross_validate(rfc, X_sm, y_sm, cv = 10, scoring = 'accuracy', return_train_score = True)\n",
        "\n",
        "print(f\"K-Fold Accuracy Mean: Train: {cv_acc_results['train_score'].mean()*100} Validation: {cv_acc_results['test_score'].mean()*100}\")\n",
        "print(f\"K-Fold Accuracy Std: Train: {cv_acc_results['train_score'].std()*100} Validation: {cv_acc_results['test_score'].std()*100}\")"
      ],
      "metadata": {
        "colab": {
          "base_uri": "https://localhost:8080/"
        },
        "id": "dLchvegHVGT4",
        "outputId": "80f02e8d-6a5e-47c0-db8c-76864f5c23c3"
      },
      "execution_count": 12,
      "outputs": [
        {
          "output_type": "stream",
          "name": "stdout",
          "text": [
            "K-Fold Accuracy Mean: Train: 99.0019376763495 Validation: 91.78172737955347\n",
            "K-Fold Accuracy Std: Train: 0.16392541404553004 Validation: 10.518640882803947\n"
          ]
        }
      ]
    },
    {
      "cell_type": "code",
      "source": [],
      "metadata": {
        "id": "3JAvRGxyVPFk"
      },
      "execution_count": 7,
      "outputs": []
    },
    {
      "cell_type": "code",
      "source": [
        "rfc.fit(X_sm, y_sm)"
      ],
      "metadata": {
        "colab": {
          "base_uri": "https://localhost:8080/"
        },
        "id": "rOd4h5abVSBP",
        "outputId": "286e0607-561a-4908-e6d9-6728f1a82bba"
      },
      "execution_count": 14,
      "outputs": [
        {
          "output_type": "execute_result",
          "data": {
            "text/plain": [
              "RandomForestClassifier(max_depth=9, random_state=7)"
            ]
          },
          "metadata": {},
          "execution_count": 14
        }
      ]
    },
    {
      "cell_type": "code",
      "source": [
        "rfc.feature_importances_"
      ],
      "metadata": {
        "colab": {
          "base_uri": "https://localhost:8080/"
        },
        "id": "so-XvaEVUF-Q",
        "outputId": "e3696743-f491-4e4e-d608-bd71e269748a"
      },
      "execution_count": 16,
      "outputs": [
        {
          "output_type": "execute_result",
          "data": {
            "text/plain": [
              "array([0.02654229, 0.02148973, 0.02338462, 0.0112961 , 0.05759396,\n",
              "       0.03174176, 0.00646859, 0.02569141, 0.03281739, 0.02868486,\n",
              "       0.06091598, 0.04402998, 0.0505841 , 0.02884426, 0.01454954,\n",
              "       0.01283172, 0.01489239, 0.00300922, 0.02548618, 0.06630265,\n",
              "       0.02226385, 0.01899949, 0.02175118, 0.02035025, 0.01922057,\n",
              "       0.01612914, 0.0198127 , 0.0069574 , 0.02157419, 0.01309199,\n",
              "       0.00356022, 0.05526193, 0.02991489, 0.02239854, 0.04114997,\n",
              "       0.08040695])"
            ]
          },
          "metadata": {},
          "execution_count": 16
        }
      ]
    },
    {
      "cell_type": "code",
      "source": [],
      "metadata": {
        "id": "w3pDKkYGUHxt"
      },
      "execution_count": null,
      "outputs": []
    }
  ]
}