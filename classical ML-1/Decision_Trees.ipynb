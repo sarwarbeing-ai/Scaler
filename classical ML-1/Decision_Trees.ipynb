{
 "cells": [
  {
   "cell_type": "code",
   "execution_count": 1,
   "id": "421c8b32",
   "metadata": {},
   "outputs": [],
   "source": [
    "import pandas as pd\n",
    "import numpy as np"
   ]
  },
  {
   "cell_type": "code",
   "execution_count": 2,
   "id": "5d88ecfa",
   "metadata": {},
   "outputs": [],
   "source": [
    "data = pd.read_csv('sample_data.csv')"
   ]
  },
  {
   "cell_type": "code",
   "execution_count": 4,
   "id": "9355f22f",
   "metadata": {},
   "outputs": [
    {
     "data": {
      "text/html": [
       "<div>\n",
       "<style scoped>\n",
       "    .dataframe tbody tr th:only-of-type {\n",
       "        vertical-align: middle;\n",
       "    }\n",
       "\n",
       "    .dataframe tbody tr th {\n",
       "        vertical-align: top;\n",
       "    }\n",
       "\n",
       "    .dataframe thead th {\n",
       "        text-align: right;\n",
       "    }\n",
       "</style>\n",
       "<table border=\"1\" class=\"dataframe\">\n",
       "  <thead>\n",
       "    <tr style=\"text-align: right;\">\n",
       "      <th></th>\n",
       "      <th>Gender</th>\n",
       "      <th>Age_less_35</th>\n",
       "      <th>JobRole</th>\n",
       "      <th>Attrition</th>\n",
       "    </tr>\n",
       "  </thead>\n",
       "  <tbody>\n",
       "    <tr>\n",
       "      <th>0</th>\n",
       "      <td>Male</td>\n",
       "      <td>True</td>\n",
       "      <td>Laboratory Technician</td>\n",
       "      <td>0</td>\n",
       "    </tr>\n",
       "    <tr>\n",
       "      <th>1</th>\n",
       "      <td>Male</td>\n",
       "      <td>False</td>\n",
       "      <td>Sales Executive</td>\n",
       "      <td>1</td>\n",
       "    </tr>\n",
       "    <tr>\n",
       "      <th>2</th>\n",
       "      <td>Male</td>\n",
       "      <td>True</td>\n",
       "      <td>Sales Representative</td>\n",
       "      <td>1</td>\n",
       "    </tr>\n",
       "    <tr>\n",
       "      <th>3</th>\n",
       "      <td>Female</td>\n",
       "      <td>False</td>\n",
       "      <td>Healthcare Representative</td>\n",
       "      <td>0</td>\n",
       "    </tr>\n",
       "    <tr>\n",
       "      <th>4</th>\n",
       "      <td>Male</td>\n",
       "      <td>True</td>\n",
       "      <td>Sales Executive</td>\n",
       "      <td>0</td>\n",
       "    </tr>\n",
       "  </tbody>\n",
       "</table>\n",
       "</div>"
      ],
      "text/plain": [
       "   Gender  Age_less_35                    JobRole  Attrition\n",
       "0    Male         True      Laboratory Technician          0\n",
       "1    Male        False            Sales Executive          1\n",
       "2    Male         True       Sales Representative          1\n",
       "3  Female        False  Healthcare Representative          0\n",
       "4    Male         True            Sales Executive          0"
      ]
     },
     "execution_count": 4,
     "metadata": {},
     "output_type": "execute_result"
    }
   ],
   "source": [
    "data.head()"
   ]
  },
  {
   "cell_type": "code",
   "execution_count": 12,
   "id": "3d288467",
   "metadata": {},
   "outputs": [],
   "source": [
    "p = data['Attrition'].value_counts(normalize = True).values"
   ]
  },
  {
   "cell_type": "code",
   "execution_count": 18,
   "id": "d8ad059b",
   "metadata": {},
   "outputs": [
    {
     "data": {
      "text/plain": [
       "0.6554120818442417"
      ]
     },
     "execution_count": 18,
     "metadata": {},
     "output_type": "execute_result"
    }
   ],
   "source": [
    "-np.sum(p*np.log2(p))"
   ]
  },
  {
   "cell_type": "code",
   "execution_count": 31,
   "id": "3bbfb9ad",
   "metadata": {},
   "outputs": [],
   "source": [
    "def entropy(y):\n",
    "    p = y.value_counts(normalize = True).values\n",
    "    ent = -np.sum(p*np.log2(p))\n",
    "    return ent"
   ]
  },
  {
   "cell_type": "code",
   "execution_count": 32,
   "id": "7e078100",
   "metadata": {},
   "outputs": [
    {
     "data": {
      "text/plain": [
       "0.6554120818442417"
      ]
     },
     "execution_count": 32,
     "metadata": {},
     "output_type": "execute_result"
    }
   ],
   "source": [
    "entropy(data['Attrition'])"
   ]
  },
  {
   "cell_type": "code",
   "execution_count": null,
   "id": "21a64f68",
   "metadata": {},
   "outputs": [],
   "source": []
  },
  {
   "cell_type": "code",
   "execution_count": 40,
   "id": "bd0bba54",
   "metadata": {},
   "outputs": [],
   "source": [
    "def calucalte_weighted_entropy(feature, y):\n",
    "    categories = feature.unique()\n",
    "\n",
    "    weighted_entropy = 0.0\n",
    "    \n",
    "    for category in categories:\n",
    "        y_category = y[category == feature]\n",
    "        ent_category = entropy(y_category)\n",
    "        \n",
    "        weighted_entropy += (len(y_category)/len(y)) * ent_category\n",
    "        \n",
    "    return weighted_entropy"
   ]
  },
  {
   "cell_type": "code",
   "execution_count": 44,
   "id": "123ae1df",
   "metadata": {},
   "outputs": [
    {
     "data": {
      "text/plain": [
       "0.6339490169245043"
      ]
     },
     "execution_count": 44,
     "metadata": {},
     "output_type": "execute_result"
    }
   ],
   "source": [
    "calucalte_weighted_entropy(data['Age_less_35'], data['Attrition'])"
   ]
  },
  {
   "cell_type": "code",
   "execution_count": 39,
   "id": "c78ff6de",
   "metadata": {},
   "outputs": [],
   "source": [
    "categories = data['Age_less_35'].unique()"
   ]
  },
  {
   "cell_type": "code",
   "execution_count": 36,
   "id": "8f67f10e",
   "metadata": {},
   "outputs": [
    {
     "data": {
      "text/plain": [
       "0.6568540844475503"
      ]
     },
     "execution_count": 36,
     "metadata": {},
     "output_type": "execute_result"
    }
   ],
   "source": [
    "entropy(data['Attrition'][data[\"Gender\"]=='Male'])"
   ]
  },
  {
   "cell_type": "code",
   "execution_count": 37,
   "id": "decab018",
   "metadata": {},
   "outputs": [
    {
     "data": {
      "text/plain": [
       "0.6530606453563348"
      ]
     },
     "execution_count": 37,
     "metadata": {},
     "output_type": "execute_result"
    }
   ],
   "source": [
    "entropy(data['Attrition'][data[\"Gender\"]=='Female'])"
   ]
  },
  {
   "cell_type": "code",
   "execution_count": null,
   "id": "a1c511ed",
   "metadata": {},
   "outputs": [],
   "source": []
  },
  {
   "cell_type": "code",
   "execution_count": 45,
   "id": "d6a5c0dc",
   "metadata": {},
   "outputs": [],
   "source": [
    "def information_gain(feature, y):\n",
    "    parent_entropy = entropy(y)\n",
    "    \n",
    "    child_entropy = calucalte_weighted_entropy(feature, y)\n",
    "    \n",
    "    ig = parent_entropy - child_entropy\n",
    "    \n",
    "    return ig"
   ]
  },
  {
   "cell_type": "code",
   "execution_count": 57,
   "id": "a78aec0c",
   "metadata": {},
   "outputs": [
    {
     "name": "stdout",
     "output_type": "stream",
     "text": [
      "Feature (Gender) : 0.0\n",
      "Feature (Age_less_35) : 0.02146\n",
      "Feature (JobRole) : 0.0543\n"
     ]
    }
   ],
   "source": [
    "for f in data.columns[:-1]:\n",
    "    print(f\"Feature ({f}) : {information_gain(data[f], data['Attrition']).round(5)}\")"
   ]
  },
  {
   "cell_type": "code",
   "execution_count": null,
   "id": "ad37b8a0",
   "metadata": {},
   "outputs": [],
   "source": []
  },
  {
   "cell_type": "markdown",
   "id": "1b5ecdea",
   "metadata": {},
   "source": [
    "## Gini "
   ]
  },
  {
   "cell_type": "code",
   "execution_count": 59,
   "id": "eb7df2c4",
   "metadata": {},
   "outputs": [
    {
     "data": {
      "text/plain": [
       "0.5"
      ]
     },
     "execution_count": 59,
     "metadata": {},
     "output_type": "execute_result"
    }
   ],
   "source": [
    "1 - (0.5**2 + 0.5**2)"
   ]
  },
  {
   "cell_type": "code",
   "execution_count": 60,
   "id": "82cc3b9e",
   "metadata": {},
   "outputs": [
    {
     "data": {
      "text/plain": [
       "0.42000000000000004"
      ]
     },
     "execution_count": 60,
     "metadata": {},
     "output_type": "execute_result"
    }
   ],
   "source": [
    "1- (0.3**2 + 0.7**2)"
   ]
  },
  {
   "cell_type": "code",
   "execution_count": 61,
   "id": "17e8ea35",
   "metadata": {},
   "outputs": [
    {
     "data": {
      "text/plain": [
       "0"
      ]
     },
     "execution_count": 61,
     "metadata": {},
     "output_type": "execute_result"
    }
   ],
   "source": [
    "1- (1**2 + 0**2)"
   ]
  },
  {
   "cell_type": "code",
   "execution_count": null,
   "id": "42d6318e",
   "metadata": {},
   "outputs": [],
   "source": []
  },
  {
   "cell_type": "code",
   "execution_count": 62,
   "id": "428e8af7",
   "metadata": {},
   "outputs": [],
   "source": [
    "def gini(y):\n",
    "    p = y.value_counts(normalize = True).values\n",
    "    g = 1-np.sum(p**2)\n",
    "    return g"
   ]
  },
  {
   "cell_type": "code",
   "execution_count": null,
   "id": "297ad7cd",
   "metadata": {},
   "outputs": [],
   "source": []
  },
  {
   "cell_type": "code",
   "execution_count": null,
   "id": "0f066fb9",
   "metadata": {},
   "outputs": [],
   "source": []
  }
 ],
 "metadata": {
  "kernelspec": {
   "display_name": "Python 3",
   "language": "python",
   "name": "python3"
  },
  "language_info": {
   "codemirror_mode": {
    "name": "ipython",
    "version": 3
   },
   "file_extension": ".py",
   "mimetype": "text/x-python",
   "name": "python",
   "nbconvert_exporter": "python",
   "pygments_lexer": "ipython3",
   "version": "3.8.8"
  }
 },
 "nbformat": 4,
 "nbformat_minor": 5
}
