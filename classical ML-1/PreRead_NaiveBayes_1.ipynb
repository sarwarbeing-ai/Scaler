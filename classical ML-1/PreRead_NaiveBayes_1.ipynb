{
  "nbformat": 4,
  "nbformat_minor": 0,
  "metadata": {
    "colab": {
      "provenance": []
    },
    "kernelspec": {
      "name": "python3",
      "display_name": "Python 3"
    },
    "language_info": {
      "name": "python"
    }
  },
  "cells": [
    {
      "cell_type": "markdown",
      "source": [
        "#Content\n",
        "1. Conditional Probability\n",
        "2. Bayes Theorem"
      ],
      "metadata": {
        "id": "eVBQR0QfzA22"
      }
    },
    {
      "cell_type": "markdown",
      "source": [
        "## Conditional Probability"
      ],
      "metadata": {
        "id": "OcLbJzAsDZ31"
      }
    },
    {
      "cell_type": "markdown",
      "source": [
        "#### Q. What is meant by conditional probability of two events?\n",
        " The probability of occurrence of any event A when another event B in relation to A has already occurred is known as conditional probability. It is depicted by P(A|B).\n",
        "\n",
        " #### Q. How do we calculate conditional probability?\n",
        "- The conditional probability of the two events A and B $P(A|B)$ is the ratio of the probability of intersection of the two events $P(A \\cap B)$ and the probability of the conditioned event $P(B)$\n",
        " - $P(A|B) = \\frac{P(A \\cap B)}{P(B)} $\n",
        "\n",
        "#### Q. How can we simplify the conditional probability value?\n",
        "- Consider $P(A \\cap B)$ term\n",
        " - Let N represent the total number of elements in the sample space.\n",
        " - Let N(A ∩ B) be the number of elements common to both A and B.\n",
        " - We know that $P(A \\cap B) = \\frac{N(A \\cap B)}{N}$\n",
        "\n",
        "- Consider $P(B)$ term\n",
        " - Let N(B) be the number of elements in B, and it cannot be equal to zero.\n",
        " - Hence, we can say that $P(B) = \\frac{N(B)}{N}$ and $P(B) \\neq 0$\n",
        "\n",
        "- Plugging in the values, we get,\n",
        " $P(A|B) = \\frac{\\frac{N(A \\cap B)}{N}}{\\frac{N(B)}{N}} = \\frac{N(A \\cap B)}{N(B)}$\n",
        "\n",
        "#### Q. Why do we need conditional probability?\n",
        "Conditional probability is required when some events may occur in relation to the occurrence of another event.\n",
        "\n",
        "#### Q. What does given mean in probability?\n",
        "While writing the conditional probability of A given B, i.e. P(A|B), the symbol “|” represent the word “given”. This means the event after “|” is already occurred."
      ],
      "metadata": {
        "id": "zFUA0kKEDu7y"
      }
    },
    {
      "cell_type": "markdown",
      "source": [
        "#### Let's understand with an example\n",
        "**Problem Statement:** Two dies are thrown simultaneously, and the sum of the numbers obtained is found to be 7. What is the probability that the number 3 has appeared at least once?\n",
        "\n",
        "**Solution:** The sample space S would consist of all the numbers possible by the combination of two dies. Therefore S consists of 6 × 6, i.e. 36 events.\n",
        "\n",
        "Event A indicates the combination in which 3 has appeared at least once.\n",
        "\n",
        "Event B indicates the combination of the numbers which sum up to 7.\n",
        "\n",
        "A = {(3, 1), (3, 2), (3, 3)(3, 4)(3, 5)(3, 6)(1, 3)(2, 3)(4, 3)(5, 3)(6, 3)}\n",
        "\n",
        "B = {(1, 6)(2, 5)(3, 4)(4, 3)(5, 2)(6, 1)}\n",
        "\n",
        "$P(A) = \\frac{11}{36}$\n",
        "\n",
        "$P(B) = \\frac{6}{36}$\n",
        "\n",
        "$N(A ∩ B) = 2$\n",
        "\n",
        "$P(A ∩ B) = \\frac{2}{36}$\n",
        "\n",
        "Applying the conditional probability formula we get,\n",
        "\n",
        "$P(A|B) = \\frac{P(A∩B)}{P(B)} = \\frac{\\frac{2}{36}}{\\frac{6}{36}} = \\frac{1}{3}$\n",
        "\n",
        "The probability that the number 3 has appeared at least once is 0.33\n",
        "\n"
      ],
      "metadata": {
        "id": "eo1knsCHZhWH"
      }
    },
    {
      "cell_type": "markdown",
      "source": [
        "## Baye's Theorm"
      ],
      "metadata": {
        "id": "Ye0SFhZhQZfW"
      }
    },
    {
      "cell_type": "markdown",
      "source": [
        "#### Q. What is Bayes Theorem?\n",
        "Bayes theorem, in simple words, determines the conditional probability of an event A given that event B has already occurred.\n",
        "\n",
        "#### Q. What is the Bayes Theorm formulation?\n",
        "- If A and B are two events, we know that the probability of A given B is the ratio of the probability of their intersection and the probability of B, i.e., <br>\n",
        "$P(A|B) = \\frac{P(A∩B)}{P(B)}, P(B) ≠ 0$\n",
        "\n",
        "- Similarly, the probability of B given A is the ratio of the probability of their\n",
        "intersection and the probability of A, i.e., <br>\n",
        "$P(B|A) = P(B∩A) / P(A)$\n",
        "\n",
        "- Now, as P(A∩B) = P(B∩A), from the above two equations, we get <br>\n",
        "$P(A|B) = \\frac{P(B|A) * P(A)}{P(B)}, P(B) ≠ 0$"
      ],
      "metadata": {
        "id": "PCRj-rZpQbuU"
      }
    },
    {
      "cell_type": "markdown",
      "source": [
        "#### Q. What are some properties of Bayes theorm?\n",
        "- **Property 1:** Let E and F be events of a sample space S of an experiment, then we have: $P(S|F) = P(F|F) = 1$\n",
        "\n",
        "- **Property 2:** If A and B are any two events of a sample space S and F is an event of S such that P(F) ≠ 0, then;\n",
        "$P((A ∪ B)|F) = P(A|F) + P(B|F) – P((A ∩ B)|F)$\n",
        "\n",
        "- **Property 3:** P(A′|B) = 1 − P(A|B)"
      ],
      "metadata": {
        "id": "thjSyPx6TZQd"
      }
    },
    {
      "cell_type": "markdown",
      "source": [
        "#### Let's understand with an example.\n",
        "**Problem Statement:** A man is known to speak the truth 3/4 times. He draws a card and reports it is king. Find the probability that it is actually a king.\n",
        "\n",
        "**Solution:**\n",
        "\n",
        "Let E be the event that the man reports that king is drawn from the pack of cards\n",
        "\n",
        "A be the event that the king is drawn\n",
        "\n",
        "B be the event that the king is not drawn.\n",
        "\n",
        "Then we have P(A) = probability that king is drawn = 1/4\n",
        "\n",
        "P(B) = probability that king is drawn = 3/4\n",
        "\n",
        "P(E|A) = Probability that the man says the truth that king is drawn when actually king is drawn = P(truth) = 3/4\n",
        "\n",
        "P(E|B)= Probability that the man lies that king is drawn when actually king is drawn = P(lie) = 1/4\n",
        "\n",
        "Then according to Bayes theorem, the probability that it is actually a king = P(A|E)\n",
        "\n",
        "$P(A|E) = \\frac{P(A) * P(E|A)}{P(A) * P(E|A) + P(B) * P(E|B)}$\n",
        "\n",
        "$P(A|E) = \\frac{\\frac{1}{4} * \\frac{3}{4}}{\\frac{1}{4} * \\frac{3}{4} + \\frac{1}{4} * \\frac{3}{4}} = 0.5 $\n",
        "\n",
        "Thus the probability that the drawn card is actually a king = 0.5\n"
      ],
      "metadata": {
        "id": "Iw5fVlJbXYWD"
      }
    }
  ]
}