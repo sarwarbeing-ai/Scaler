{
  "nbformat": 4,
  "nbformat_minor": 0,
  "metadata": {
    "colab": {
      "provenance": [],
      "collapsed_sections": []
    },
    "kernelspec": {
      "name": "python3",
      "display_name": "Python 3"
    },
    "language_info": {
      "name": "python"
    }
  },
  "cells": [
    {
      "cell_type": "code",
      "execution_count": 1,
      "metadata": {
        "id": "wjog3peMehr-"
      },
      "outputs": [],
      "source": [
        "import numpy as np\n",
        "import pandas as pd\n",
        "import matplotlib.pyplot as plt"
      ]
    },
    {
      "cell_type": "code",
      "source": [
        "!gdown 1UpLnYA48Vy_lGUMMLG-uQE1gf_Je12Lh"
      ],
      "metadata": {
        "colab": {
          "base_uri": "https://localhost:8080/"
        },
        "id": "IwMc9Sqnem53",
        "outputId": "28d1517c-8cff-45c2-e0c9-39a64af309b3"
      },
      "execution_count": 2,
      "outputs": [
        {
          "output_type": "stream",
          "name": "stdout",
          "text": [
            "Downloading...\n",
            "From: https://drive.google.com/uc?id=1UpLnYA48Vy_lGUMMLG-uQE1gf_Je12Lh\n",
            "To: /content/cars24-car-price-clean.csv\n",
            "\r  0% 0.00/7.10M [00:00<?, ?B/s]\r 66% 4.72M/7.10M [00:00<00:00, 25.3MB/s]\r100% 7.10M/7.10M [00:00<00:00, 34.9MB/s]\n"
          ]
        }
      ]
    },
    {
      "cell_type": "code",
      "source": [
        "df = pd.read_csv('cars24-data.csv')\n",
        "df.head()"
      ],
      "metadata": {
        "colab": {
          "base_uri": "https://localhost:8080/",
          "height": 288
        },
        "id": "9RmiuBHYeycV",
        "outputId": "29283a7e-e9aa-4427-eee6-25c08cbc71ab"
      },
      "execution_count": 4,
      "outputs": [
        {
          "output_type": "execute_result",
          "data": {
            "text/plain": [
              "   selling_price      year  km_driven   mileage    engine  max_power  \\\n",
              "0      -1.111046 -0.801317   1.195828  0.045745 -1.310754  -1.157780   \n",
              "1      -0.223944  0.450030  -0.737872 -0.140402 -0.537456  -0.360203   \n",
              "2      -0.915058 -1.426990   0.035608 -0.582501 -0.537456  -0.404885   \n",
              "3      -0.892365 -0.801317  -0.409143  0.329620 -0.921213  -0.693085   \n",
              "4      -0.182683  0.137194  -0.544502  0.760085  0.042999   0.010435   \n",
              "\n",
              "        age      make     model  Individual  Trustmark Dealer    Diesel  \\\n",
              "0  0.801317 -0.433854 -1.125683    1.248892         -0.098382 -0.985275   \n",
              "1 -0.450030 -0.327501 -0.333227    1.248892         -0.098382 -0.985275   \n",
              "2  1.426990 -0.327501 -0.789807    1.248892         -0.098382 -0.985275   \n",
              "3  0.801317 -0.433854 -0.905265    1.248892         -0.098382 -0.985275   \n",
              "4 -0.137194 -0.246579 -0.013096   -0.800710         -0.098382  1.014945   \n",
              "\n",
              "   Electric       LPG    Petrol    Manual         5        >5  \n",
              "0 -0.020095 -0.056917  1.024622  0.495818  0.444503 -0.424728  \n",
              "1 -0.020095 -0.056917  1.024622  0.495818  0.444503 -0.424728  \n",
              "2 -0.020095 -0.056917  1.024622  0.495818  0.444503 -0.424728  \n",
              "3 -0.020095 -0.056917  1.024622  0.495818  0.444503 -0.424728  \n",
              "4 -0.020095 -0.056917 -0.975970  0.495818  0.444503 -0.424728  "
            ],
            "text/html": [
              "\n",
              "  <div id=\"df-c2bd5ac6-4920-44a6-b059-e8f9bf804d8a\">\n",
              "    <div class=\"colab-df-container\">\n",
              "      <div>\n",
              "<style scoped>\n",
              "    .dataframe tbody tr th:only-of-type {\n",
              "        vertical-align: middle;\n",
              "    }\n",
              "\n",
              "    .dataframe tbody tr th {\n",
              "        vertical-align: top;\n",
              "    }\n",
              "\n",
              "    .dataframe thead th {\n",
              "        text-align: right;\n",
              "    }\n",
              "</style>\n",
              "<table border=\"1\" class=\"dataframe\">\n",
              "  <thead>\n",
              "    <tr style=\"text-align: right;\">\n",
              "      <th></th>\n",
              "      <th>selling_price</th>\n",
              "      <th>year</th>\n",
              "      <th>km_driven</th>\n",
              "      <th>mileage</th>\n",
              "      <th>engine</th>\n",
              "      <th>max_power</th>\n",
              "      <th>age</th>\n",
              "      <th>make</th>\n",
              "      <th>model</th>\n",
              "      <th>Individual</th>\n",
              "      <th>Trustmark Dealer</th>\n",
              "      <th>Diesel</th>\n",
              "      <th>Electric</th>\n",
              "      <th>LPG</th>\n",
              "      <th>Petrol</th>\n",
              "      <th>Manual</th>\n",
              "      <th>5</th>\n",
              "      <th>&gt;5</th>\n",
              "    </tr>\n",
              "  </thead>\n",
              "  <tbody>\n",
              "    <tr>\n",
              "      <th>0</th>\n",
              "      <td>-1.111046</td>\n",
              "      <td>-0.801317</td>\n",
              "      <td>1.195828</td>\n",
              "      <td>0.045745</td>\n",
              "      <td>-1.310754</td>\n",
              "      <td>-1.157780</td>\n",
              "      <td>0.801317</td>\n",
              "      <td>-0.433854</td>\n",
              "      <td>-1.125683</td>\n",
              "      <td>1.248892</td>\n",
              "      <td>-0.098382</td>\n",
              "      <td>-0.985275</td>\n",
              "      <td>-0.020095</td>\n",
              "      <td>-0.056917</td>\n",
              "      <td>1.024622</td>\n",
              "      <td>0.495818</td>\n",
              "      <td>0.444503</td>\n",
              "      <td>-0.424728</td>\n",
              "    </tr>\n",
              "    <tr>\n",
              "      <th>1</th>\n",
              "      <td>-0.223944</td>\n",
              "      <td>0.450030</td>\n",
              "      <td>-0.737872</td>\n",
              "      <td>-0.140402</td>\n",
              "      <td>-0.537456</td>\n",
              "      <td>-0.360203</td>\n",
              "      <td>-0.450030</td>\n",
              "      <td>-0.327501</td>\n",
              "      <td>-0.333227</td>\n",
              "      <td>1.248892</td>\n",
              "      <td>-0.098382</td>\n",
              "      <td>-0.985275</td>\n",
              "      <td>-0.020095</td>\n",
              "      <td>-0.056917</td>\n",
              "      <td>1.024622</td>\n",
              "      <td>0.495818</td>\n",
              "      <td>0.444503</td>\n",
              "      <td>-0.424728</td>\n",
              "    </tr>\n",
              "    <tr>\n",
              "      <th>2</th>\n",
              "      <td>-0.915058</td>\n",
              "      <td>-1.426990</td>\n",
              "      <td>0.035608</td>\n",
              "      <td>-0.582501</td>\n",
              "      <td>-0.537456</td>\n",
              "      <td>-0.404885</td>\n",
              "      <td>1.426990</td>\n",
              "      <td>-0.327501</td>\n",
              "      <td>-0.789807</td>\n",
              "      <td>1.248892</td>\n",
              "      <td>-0.098382</td>\n",
              "      <td>-0.985275</td>\n",
              "      <td>-0.020095</td>\n",
              "      <td>-0.056917</td>\n",
              "      <td>1.024622</td>\n",
              "      <td>0.495818</td>\n",
              "      <td>0.444503</td>\n",
              "      <td>-0.424728</td>\n",
              "    </tr>\n",
              "    <tr>\n",
              "      <th>3</th>\n",
              "      <td>-0.892365</td>\n",
              "      <td>-0.801317</td>\n",
              "      <td>-0.409143</td>\n",
              "      <td>0.329620</td>\n",
              "      <td>-0.921213</td>\n",
              "      <td>-0.693085</td>\n",
              "      <td>0.801317</td>\n",
              "      <td>-0.433854</td>\n",
              "      <td>-0.905265</td>\n",
              "      <td>1.248892</td>\n",
              "      <td>-0.098382</td>\n",
              "      <td>-0.985275</td>\n",
              "      <td>-0.020095</td>\n",
              "      <td>-0.056917</td>\n",
              "      <td>1.024622</td>\n",
              "      <td>0.495818</td>\n",
              "      <td>0.444503</td>\n",
              "      <td>-0.424728</td>\n",
              "    </tr>\n",
              "    <tr>\n",
              "      <th>4</th>\n",
              "      <td>-0.182683</td>\n",
              "      <td>0.137194</td>\n",
              "      <td>-0.544502</td>\n",
              "      <td>0.760085</td>\n",
              "      <td>0.042999</td>\n",
              "      <td>0.010435</td>\n",
              "      <td>-0.137194</td>\n",
              "      <td>-0.246579</td>\n",
              "      <td>-0.013096</td>\n",
              "      <td>-0.800710</td>\n",
              "      <td>-0.098382</td>\n",
              "      <td>1.014945</td>\n",
              "      <td>-0.020095</td>\n",
              "      <td>-0.056917</td>\n",
              "      <td>-0.975970</td>\n",
              "      <td>0.495818</td>\n",
              "      <td>0.444503</td>\n",
              "      <td>-0.424728</td>\n",
              "    </tr>\n",
              "  </tbody>\n",
              "</table>\n",
              "</div>\n",
              "      <button class=\"colab-df-convert\" onclick=\"convertToInteractive('df-c2bd5ac6-4920-44a6-b059-e8f9bf804d8a')\"\n",
              "              title=\"Convert this dataframe to an interactive table.\"\n",
              "              style=\"display:none;\">\n",
              "        \n",
              "  <svg xmlns=\"http://www.w3.org/2000/svg\" height=\"24px\"viewBox=\"0 0 24 24\"\n",
              "       width=\"24px\">\n",
              "    <path d=\"M0 0h24v24H0V0z\" fill=\"none\"/>\n",
              "    <path d=\"M18.56 5.44l.94 2.06.94-2.06 2.06-.94-2.06-.94-.94-2.06-.94 2.06-2.06.94zm-11 1L8.5 8.5l.94-2.06 2.06-.94-2.06-.94L8.5 2.5l-.94 2.06-2.06.94zm10 10l.94 2.06.94-2.06 2.06-.94-2.06-.94-.94-2.06-.94 2.06-2.06.94z\"/><path d=\"M17.41 7.96l-1.37-1.37c-.4-.4-.92-.59-1.43-.59-.52 0-1.04.2-1.43.59L10.3 9.45l-7.72 7.72c-.78.78-.78 2.05 0 2.83L4 21.41c.39.39.9.59 1.41.59.51 0 1.02-.2 1.41-.59l7.78-7.78 2.81-2.81c.8-.78.8-2.07 0-2.86zM5.41 20L4 18.59l7.72-7.72 1.47 1.35L5.41 20z\"/>\n",
              "  </svg>\n",
              "      </button>\n",
              "      \n",
              "  <style>\n",
              "    .colab-df-container {\n",
              "      display:flex;\n",
              "      flex-wrap:wrap;\n",
              "      gap: 12px;\n",
              "    }\n",
              "\n",
              "    .colab-df-convert {\n",
              "      background-color: #E8F0FE;\n",
              "      border: none;\n",
              "      border-radius: 50%;\n",
              "      cursor: pointer;\n",
              "      display: none;\n",
              "      fill: #1967D2;\n",
              "      height: 32px;\n",
              "      padding: 0 0 0 0;\n",
              "      width: 32px;\n",
              "    }\n",
              "\n",
              "    .colab-df-convert:hover {\n",
              "      background-color: #E2EBFA;\n",
              "      box-shadow: 0px 1px 2px rgba(60, 64, 67, 0.3), 0px 1px 3px 1px rgba(60, 64, 67, 0.15);\n",
              "      fill: #174EA6;\n",
              "    }\n",
              "\n",
              "    [theme=dark] .colab-df-convert {\n",
              "      background-color: #3B4455;\n",
              "      fill: #D2E3FC;\n",
              "    }\n",
              "\n",
              "    [theme=dark] .colab-df-convert:hover {\n",
              "      background-color: #434B5C;\n",
              "      box-shadow: 0px 1px 3px 1px rgba(0, 0, 0, 0.15);\n",
              "      filter: drop-shadow(0px 1px 2px rgba(0, 0, 0, 0.3));\n",
              "      fill: #FFFFFF;\n",
              "    }\n",
              "  </style>\n",
              "\n",
              "      <script>\n",
              "        const buttonEl =\n",
              "          document.querySelector('#df-c2bd5ac6-4920-44a6-b059-e8f9bf804d8a button.colab-df-convert');\n",
              "        buttonEl.style.display =\n",
              "          google.colab.kernel.accessAllowed ? 'block' : 'none';\n",
              "\n",
              "        async function convertToInteractive(key) {\n",
              "          const element = document.querySelector('#df-c2bd5ac6-4920-44a6-b059-e8f9bf804d8a');\n",
              "          const dataTable =\n",
              "            await google.colab.kernel.invokeFunction('convertToInteractive',\n",
              "                                                     [key], {});\n",
              "          if (!dataTable) return;\n",
              "\n",
              "          const docLinkHtml = 'Like what you see? Visit the ' +\n",
              "            '<a target=\"_blank\" href=https://colab.research.google.com/notebooks/data_table.ipynb>data table notebook</a>'\n",
              "            + ' to learn more about interactive tables.';\n",
              "          element.innerHTML = '';\n",
              "          dataTable['output_type'] = 'display_data';\n",
              "          await google.colab.output.renderOutput(dataTable, element);\n",
              "          const docLink = document.createElement('div');\n",
              "          docLink.innerHTML = docLinkHtml;\n",
              "          element.appendChild(docLink);\n",
              "        }\n",
              "      </script>\n",
              "    </div>\n",
              "  </div>\n",
              "  "
            ]
          },
          "metadata": {},
          "execution_count": 4
        }
      ]
    },
    {
      "cell_type": "code",
      "source": [
        "df.shape"
      ],
      "metadata": {
        "colab": {
          "base_uri": "https://localhost:8080/"
        },
        "id": "mkl-gTA2e42L",
        "outputId": "5dbb99e6-05c7-4186-d1ca-0cecd070607a"
      },
      "execution_count": 5,
      "outputs": [
        {
          "output_type": "execute_result",
          "data": {
            "text/plain": [
              "(19820, 18)"
            ]
          },
          "metadata": {},
          "execution_count": 5
        }
      ]
    },
    {
      "cell_type": "markdown",
      "source": [
        "# Simple Linear Regression \n",
        "## Univariate Linear Regression"
      ],
      "metadata": {
        "id": "5wCUxYM4fDtb"
      }
    },
    {
      "cell_type": "code",
      "source": [
        "X = df['model'].values\n",
        "y = df['selling_price'].values"
      ],
      "metadata": {
        "id": "YJtgbiNofDUn"
      },
      "execution_count": 6,
      "outputs": []
    },
    {
      "cell_type": "code",
      "source": [
        "X.shape, y.shape"
      ],
      "metadata": {
        "colab": {
          "base_uri": "https://localhost:8080/"
        },
        "id": "yjZuwBkUe68N",
        "outputId": "12d5d73d-144a-4aa6-eb81-a10b5f1a7957"
      },
      "execution_count": 7,
      "outputs": [
        {
          "output_type": "execute_result",
          "data": {
            "text/plain": [
              "((19820,), (19820,))"
            ]
          },
          "metadata": {},
          "execution_count": 7
        }
      ]
    },
    {
      "cell_type": "code",
      "source": [
        "plt.scatter(X, y)\n",
        "plt.xlabel(\"Model\")\n",
        "plt.ylabel(\"Price\")\n",
        "plt.show()"
      ],
      "metadata": {
        "colab": {
          "base_uri": "https://localhost:8080/",
          "height": 279
        },
        "id": "FWVC_izyfqEV",
        "outputId": "f3735ddf-5c3e-4f05-dedb-a7473478ed63"
      },
      "execution_count": 8,
      "outputs": [
        {
          "output_type": "display_data",
          "data": {
            "text/plain": [
              "<Figure size 432x288 with 1 Axes>"
            ],
            "image/png": "[encoded data removed]"
          },
          "metadata": {
            "needs_background": "light"
          }
        }
      ]
    },
    {
      "cell_type": "code",
      "source": [
        "def predict(x, weights):\n",
        "  # y^ = w1.x + w0\n",
        "  y_hat = weights[1]*x + weights[0]\n",
        "  return y_hat"
      ],
      "metadata": {
        "id": "8nrczRvqf12c"
      },
      "execution_count": 9,
      "outputs": []
    },
    {
      "cell_type": "code",
      "source": [
        "def error(X, Y, weights):\n",
        "  '''Implementation of MSE'''\n",
        "  n = X.shape[0] # 19820\n",
        "  \n",
        "  total_err = 0.0\n",
        "\n",
        "  for i in range(n):\n",
        "    y_hat = predict(X[i], weights)\n",
        "    total_err += ( Y[i] - y_hat )**2\n",
        "  \n",
        "  return total_err/n"
      ],
      "metadata": {
        "id": "WFGCS7f0gnO1"
      },
      "execution_count": 10,
      "outputs": []
    },
    {
      "cell_type": "code",
      "source": [
        "def gradient(X, Y, weights):\n",
        "  n = X.shape[0] # 19820\n",
        "\n",
        "  grad = np.zeros((2,))\n",
        "\n",
        "  for i in range(n):\n",
        "    y_hat = predict(X[i], weights)\n",
        "    grad[0] += (y_hat - Y[i])\n",
        "    grad[1] += (y_hat - Y[i])*X[i]\n",
        "\n",
        "  \n",
        "  return 2*grad/n"
      ],
      "metadata": {
        "id": "XhYS_YH1mMIC"
      },
      "execution_count": 11,
      "outputs": []
    },
    {
      "cell_type": "code",
      "source": [
        "def gradient_descent(X, Y, n_itr = 100, eta = 0.1):\n",
        "  weights =  np.random.randn(2,)\n",
        "  error_list = []\n",
        "\n",
        "  for i in range(n_itr):\n",
        "    e = error(X,Y, weights)\n",
        "    error_list.append(e)\n",
        "    grad = gradient(X, Y, weights)\n",
        "    weights[0] = weights[0] - eta*grad[0]\n",
        "    weights[1] = weights[1] - eta*grad[1]\n",
        "\n",
        "  return weights.round(2), error_list"
      ],
      "metadata": {
        "id": "CozAkyxThz9y"
      },
      "execution_count": 12,
      "outputs": []
    },
    {
      "cell_type": "code",
      "source": [
        "opt_weights, error_list = gradient_descent(X, y)"
      ],
      "metadata": {
        "id": "PzrpYKmQlyX2"
      },
      "execution_count": 13,
      "outputs": []
    },
    {
      "cell_type": "code",
      "source": [
        "opt_weights"
      ],
      "metadata": {
        "colab": {
          "base_uri": "https://localhost:8080/"
        },
        "id": "AjPfwbtKlzmz",
        "outputId": "1836845e-7c29-449f-b41b-1feba2aeee0f"
      },
      "execution_count": 14,
      "outputs": [
        {
          "output_type": "execute_result",
          "data": {
            "text/plain": [
              "array([-0.  ,  0.97])"
            ]
          },
          "metadata": {},
          "execution_count": 14
        }
      ]
    },
    {
      "cell_type": "code",
      "source": [
        "plt.plot(error_list)"
      ],
      "metadata": {
        "colab": {
          "base_uri": "https://localhost:8080/",
          "height": 283
        },
        "id": "x_fWV2E5o1AH",
        "outputId": "af7a6758-0142-41ed-98b4-4efaf32f20de"
      },
      "execution_count": 15,
      "outputs": [
        {
          "output_type": "execute_result",
          "data": {
            "text/plain": [
              "[<matplotlib.lines.Line2D at 0x7fc19b51b910>]"
            ]
          },
          "metadata": {},
          "execution_count": 15
        },
        {
          "output_type": "display_data",
          "data": {
            "text/plain": [
              "<Figure size 432x288 with 1 Axes>"
            ],
            "image/png": "[encoded data removed]"
          },
          "metadata": {
            "needs_background": "light"
          }
        }
      ]
    },
    {
      "cell_type": "code",
      "source": [
        "x_new = np.array([-1, 3])\n",
        "\n",
        "predict(-1, opt_weights)\n",
        "predict(3, opt_weights)"
      ],
      "metadata": {
        "colab": {
          "base_uri": "https://localhost:8080/"
        },
        "id": "MEHBa5lMnZI-",
        "outputId": "2f31fc63-f21a-44b3-d7e6-725a1209cf6e"
      },
      "execution_count": 16,
      "outputs": [
        {
          "output_type": "execute_result",
          "data": {
            "text/plain": [
              "2.91"
            ]
          },
          "metadata": {},
          "execution_count": 16
        }
      ]
    },
    {
      "cell_type": "code",
      "source": [
        "# (-1, -0.97), (3, 2.91)"
      ],
      "metadata": {
        "id": "xw-h7IiPn6DJ"
      },
      "execution_count": 17,
      "outputs": []
    },
    {
      "cell_type": "code",
      "source": [
        "\n",
        "plt.scatter(X, y)\n",
        "plt.xlabel(\"Model\")\n",
        "plt.ylabel(\"Price\")\n",
        "\n",
        "plt.plot([-1, 3], [-0.97, 2.91], c ='red')\n",
        "\n",
        "plt.show()"
      ],
      "metadata": {
        "colab": {
          "base_uri": "https://localhost:8080/",
          "height": 279
        },
        "id": "roXIgfnFoBH4",
        "outputId": "604fffc6-d034-4170-e26c-14fa5dd72140"
      },
      "execution_count": 18,
      "outputs": [
        {
          "output_type": "display_data",
          "data": {
            "text/plain": [
              "<Figure size 432x288 with 1 Axes>"
            ],
            "image/png": "[encoded data removed]"
          },
          "metadata": {
            "needs_background": "light"
          }
        }
      ]
    },
    {
      "cell_type": "code",
      "source": [],
      "metadata": {
        "id": "6cvIeQOWrRjh"
      },
      "execution_count": 18,
      "outputs": []
    },
    {
      "cell_type": "markdown",
      "source": [
        "## R2 Score"
      ],
      "metadata": {
        "id": "x8dQv9WfrSe7"
      }
    },
    {
      "cell_type": "code",
      "source": [
        "opt_weights"
      ],
      "metadata": {
        "colab": {
          "base_uri": "https://localhost:8080/"
        },
        "id": "_BaiffhorRg1",
        "outputId": "2ec4feb9-7ebc-460e-94ba-8d46a1e8607c"
      },
      "execution_count": 19,
      "outputs": [
        {
          "output_type": "execute_result",
          "data": {
            "text/plain": [
              "array([-0.  ,  0.97])"
            ]
          },
          "metadata": {},
          "execution_count": 19
        }
      ]
    },
    {
      "cell_type": "code",
      "source": [
        "y_hat = np.array([predict(point, opt_weights) for point in X])"
      ],
      "metadata": {
        "id": "JLWZgDe2sGBk"
      },
      "execution_count": 24,
      "outputs": []
    },
    {
      "cell_type": "code",
      "source": [
        "y_hat[:5]"
      ],
      "metadata": {
        "id": "dSDLio4hoEqq",
        "colab": {
          "base_uri": "https://localhost:8080/"
        },
        "outputId": "a4cdce53-446f-4b2d-8d43-2a2d907e7fb4"
      },
      "execution_count": 25,
      "outputs": [
        {
          "output_type": "execute_result",
          "data": {
            "text/plain": [
              "array([-1.09191218, -0.32323029, -0.76611323, -0.87810662, -0.01270316])"
            ]
          },
          "metadata": {},
          "execution_count": 25
        }
      ]
    },
    {
      "cell_type": "code",
      "source": [
        "y[:5]"
      ],
      "metadata": {
        "colab": {
          "base_uri": "https://localhost:8080/"
        },
        "id": "dJaALTIxsC7r",
        "outputId": "58426dda-7fcf-4307-ca56-abda8979dd7c"
      },
      "execution_count": 26,
      "outputs": [
        {
          "output_type": "execute_result",
          "data": {
            "text/plain": [
              "array([-1.11104589, -0.22394353, -0.91505816, -0.89236484, -0.18268296])"
            ]
          },
          "metadata": {},
          "execution_count": 26
        }
      ]
    },
    {
      "cell_type": "code",
      "source": [
        "def r2_score(y, y_hat):\n",
        "  num = np.sum((y - y_hat)**2)\n",
        "  denom = np.sum((y - y.mean())**2)\n",
        "\n",
        "  return 1 - (num/denom)"
      ],
      "metadata": {
        "id": "ScA90laXsZNc"
      },
      "execution_count": 27,
      "outputs": []
    },
    {
      "cell_type": "code",
      "source": [
        "r2_score(y, y_hat)"
      ],
      "metadata": {
        "colab": {
          "base_uri": "https://localhost:8080/"
        },
        "id": "wJqL35r1s5h-",
        "outputId": "5b7fef0d-5bb0-41cf-db99-a39a4cbd79c0"
      },
      "execution_count": 28,
      "outputs": [
        {
          "output_type": "execute_result",
          "data": {
            "text/plain": [
              "0.9312991715379575"
            ]
          },
          "metadata": {},
          "execution_count": 28
        }
      ]
    },
    {
      "cell_type": "code",
      "source": [
        "# step -1 import Algorithm\n",
        "from sklearn.linear_model import LinearRegression"
      ],
      "metadata": {
        "id": "JXWzOnmls9sp"
      },
      "execution_count": 30,
      "outputs": []
    },
    {
      "cell_type": "code",
      "source": [
        "# step -2 create model/object\n",
        "model = LinearRegression()"
      ],
      "metadata": {
        "id": "PmxO-gdtwU9R"
      },
      "execution_count": 31,
      "outputs": []
    },
    {
      "cell_type": "code",
      "source": [
        "X = X.reshape(-1, 1)"
      ],
      "metadata": {
        "id": "JzNkbk2-x4yC"
      },
      "execution_count": 34,
      "outputs": []
    },
    {
      "cell_type": "code",
      "source": [
        "# step -3 train/fit model\n",
        "model.fit(X, y)"
      ],
      "metadata": {
        "colab": {
          "base_uri": "https://localhost:8080/"
        },
        "id": "OAvigOfrwwoP",
        "outputId": "47424ea9-ff39-44b9-80d1-8cd9c5c92932"
      },
      "execution_count": 35,
      "outputs": [
        {
          "output_type": "execute_result",
          "data": {
            "text/plain": [
              "LinearRegression()"
            ]
          },
          "metadata": {},
          "execution_count": 35
        }
      ]
    },
    {
      "cell_type": "code",
      "source": [
        "y_hat = model.predict(X)"
      ],
      "metadata": {
        "id": "-6J3YU3wxA7E"
      },
      "execution_count": 37,
      "outputs": []
    },
    {
      "cell_type": "code",
      "source": [
        "y_hat[:5]"
      ],
      "metadata": {
        "colab": {
          "base_uri": "https://localhost:8080/"
        },
        "id": "iCbmFPL4xWeR",
        "outputId": "c81b4697-5569-4393-9a06-d547f9b5fa81"
      },
      "execution_count": 38,
      "outputs": [
        {
          "output_type": "execute_result",
          "data": {
            "text/plain": [
              "array([-1.08634131, -0.32158118, -0.76220457, -0.87362657, -0.01263835])"
            ]
          },
          "metadata": {},
          "execution_count": 38
        }
      ]
    },
    {
      "cell_type": "code",
      "source": [
        "model.score(X, y)"
      ],
      "metadata": {
        "colab": {
          "base_uri": "https://localhost:8080/"
        },
        "id": "LX6GDd3ByFyV",
        "outputId": "2e8ba40d-3074-444e-822e-62c62466a607"
      },
      "execution_count": 39,
      "outputs": [
        {
          "output_type": "execute_result",
          "data": {
            "text/plain": [
              "0.9313236629576508"
            ]
          },
          "metadata": {},
          "execution_count": 39
        }
      ]
    },
    {
      "cell_type": "code",
      "source": [
        "model.coef_.round(2)"
      ],
      "metadata": {
        "colab": {
          "base_uri": "https://localhost:8080/"
        },
        "id": "J4CYUl3-yda1",
        "outputId": "c07d2fcd-b266-4cbf-9968-fda9552c86f4"
      },
      "execution_count": 43,
      "outputs": [
        {
          "output_type": "execute_result",
          "data": {
            "text/plain": [
              "array([0.97])"
            ]
          },
          "metadata": {},
          "execution_count": 43
        }
      ]
    },
    {
      "cell_type": "code",
      "source": [
        "model.intercept_.round(2)"
      ],
      "metadata": {
        "colab": {
          "base_uri": "https://localhost:8080/"
        },
        "id": "aBEg7H8Jyp66",
        "outputId": "1d3c113b-3d86-4b5e-bab8-3661dc264661"
      },
      "execution_count": 42,
      "outputs": [
        {
          "output_type": "execute_result",
          "data": {
            "text/plain": [
              "-0.0"
            ]
          },
          "metadata": {},
          "execution_count": 42
        }
      ]
    },
    {
      "cell_type": "markdown",
      "source": [
        "# Multiple Linear Regression"
      ],
      "metadata": {
        "id": "3ik5u_JC5YgD"
      }
    },
    {
      "cell_type": "code",
      "source": [
        "y = df['selling_price'].values\n",
        "X = df.drop('selling_price', axis=1).values"
      ],
      "metadata": {
        "id": "ImXbLXPm5YSP"
      },
      "execution_count": 49,
      "outputs": []
    },
    {
      "cell_type": "code",
      "source": [
        "X.shape"
      ],
      "metadata": {
        "colab": {
          "base_uri": "https://localhost:8080/"
        },
        "id": "102jzy5s5eIK",
        "outputId": "79928f55-4b0f-445e-bd9f-bfcccee8fe1c"
      },
      "execution_count": 51,
      "outputs": [
        {
          "output_type": "execute_result",
          "data": {
            "text/plain": [
              "(19820, 17)"
            ]
          },
          "metadata": {},
          "execution_count": 51
        }
      ]
    },
    {
      "cell_type": "code",
      "source": [
        "y  = y.reshape(-1, 1)\n",
        "y.shape"
      ],
      "metadata": {
        "colab": {
          "base_uri": "https://localhost:8080/"
        },
        "id": "PjzHSQAi5d9r",
        "outputId": "a7846092-e02b-4c9c-c443-b924d0537632"
      },
      "execution_count": 53,
      "outputs": [
        {
          "output_type": "execute_result",
          "data": {
            "text/plain": [
              "(19820, 1)"
            ]
          },
          "metadata": {},
          "execution_count": 53
        }
      ]
    },
    {
      "cell_type": "code",
      "source": [
        "ones = np.ones((len(X), 1))\n",
        "X_new = np.hstack((ones, X))\n",
        "X_new.shape"
      ],
      "metadata": {
        "colab": {
          "base_uri": "https://localhost:8080/"
        },
        "id": "QWUgQFFl5d5U",
        "outputId": "79832160-d323-48aa-b989-64f705a7b632"
      },
      "execution_count": 55,
      "outputs": [
        {
          "output_type": "execute_result",
          "data": {
            "text/plain": [
              "(19820, 18)"
            ]
          },
          "metadata": {},
          "execution_count": 55
        }
      ]
    },
    {
      "cell_type": "code",
      "source": [
        "# X@W\n",
        "# np.matmul(X,W)\n",
        "# np.dot(X,W)\n",
        "# X.dot(W)"
      ],
      "metadata": {
        "id": "3hfM0ZSXyyHa"
      },
      "execution_count": null,
      "outputs": []
    },
    {
      "cell_type": "code",
      "source": [
        "def predict(X, W):\n",
        "  '''\n",
        "  X : (n,d) it'a input matrix\n",
        "  W : (d, 1) all the weights\n",
        "  '''\n",
        "  return np.dot(X,W)"
      ],
      "metadata": {
        "id": "pkJQqpDw6MKy"
      },
      "execution_count": 57,
      "outputs": []
    },
    {
      "cell_type": "code",
      "source": [
        "def error(X, y, W):\n",
        "\n",
        "  y_hat = predict(X, W)\n",
        "  err = np.mean((y - y_hat)**2)\n",
        "\n",
        "  return err"
      ],
      "metadata": {
        "id": "_n4vqp4w6MEi"
      },
      "execution_count": 58,
      "outputs": []
    },
    {
      "cell_type": "code",
      "source": [
        "def gradient(X, y, W):\n",
        "  y_hat = predict(X, W)\n",
        "  grad = np.dot(X.T , y_hat - y )\n",
        "\n",
        "  return 2*grad/len(X)"
      ],
      "metadata": {
        "id": "v1NEossE7Jkp"
      },
      "execution_count": 59,
      "outputs": []
    },
    {
      "cell_type": "code",
      "source": [
        "def gradient_descent(X, Y, n_itr = 400, eta = 0.1):\n",
        "  weights =  np.random.randn(X.shape[1],1)\n",
        "  error_list = []\n",
        "\n",
        "  for i in range(n_itr):\n",
        "    e = error(X,Y, weights)\n",
        "    error_list.append(e)\n",
        "    grad = gradient(X, Y, weights)\n",
        "    weights = weights - eta*grad\n",
        "\n",
        "  return weights.round(2), error_list"
      ],
      "metadata": {
        "id": "1D2r90Y9_Na1"
      },
      "execution_count": 122,
      "outputs": []
    },
    {
      "cell_type": "code",
      "source": [
        "X_new.shape,  y.shape"
      ],
      "metadata": {
        "colab": {
          "base_uri": "https://localhost:8080/"
        },
        "id": "8wPwHfSv_xkI",
        "outputId": "cc0add31-7e3d-4e5c-8a91-8c3ae600a687"
      },
      "execution_count": 123,
      "outputs": [
        {
          "output_type": "execute_result",
          "data": {
            "text/plain": [
              "((19820, 18), (19820, 1))"
            ]
          },
          "metadata": {},
          "execution_count": 123
        }
      ]
    },
    {
      "cell_type": "code",
      "source": [
        "opt_weights, error_list = gradient_descent(X_new, y)"
      ],
      "metadata": {
        "id": "UtXhms12_tWy"
      },
      "execution_count": 124,
      "outputs": []
    },
    {
      "cell_type": "code",
      "source": [
        "print(opt_weights)"
      ],
      "metadata": {
        "colab": {
          "base_uri": "https://localhost:8080/"
        },
        "id": "W94swR1K_4Am",
        "outputId": "a02e7a36-24de-41cd-d23e-6f4e57e57084"
      },
      "execution_count": 125,
      "outputs": [
        {
          "output_type": "stream",
          "name": "stdout",
          "text": [
            "[[ 0.  ]\n",
            " [ 0.19]\n",
            " [-0.02]\n",
            " [-0.05]\n",
            " [ 0.03]\n",
            " [ 0.03]\n",
            " [ 0.06]\n",
            " [ 0.06]\n",
            " [ 0.79]\n",
            " [-0.02]\n",
            " [-0.  ]\n",
            " [ 0.01]\n",
            " [ 0.01]\n",
            " [ 0.  ]\n",
            " [-0.03]\n",
            " [-0.01]\n",
            " [-0.02]\n",
            " [-0.03]]\n"
          ]
        }
      ]
    },
    {
      "cell_type": "code",
      "source": [
        "plt.plot(error_list)"
      ],
      "metadata": {
        "colab": {
          "base_uri": "https://localhost:8080/",
          "height": 283
        },
        "id": "iLeeF8QB_8Ox",
        "outputId": "f43082df-c7f0-4daf-b81b-ede454b1e298"
      },
      "execution_count": 126,
      "outputs": [
        {
          "output_type": "execute_result",
          "data": {
            "text/plain": [
              "[<matplotlib.lines.Line2D at 0x7fc189113a90>]"
            ]
          },
          "metadata": {},
          "execution_count": 126
        },
        {
          "output_type": "display_data",
          "data": {
            "text/plain": [
              "<Figure size 432x288 with 1 Axes>"
            ],
            "image/png": "[encoded data removed]"
          },
          "metadata": {
            "needs_background": "light"
          }
        }
      ]
    },
    {
      "cell_type": "code",
      "source": [
        "error_list[-10:]"
      ],
      "metadata": {
        "colab": {
          "base_uri": "https://localhost:8080/"
        },
        "id": "-rK1EanVABc2",
        "outputId": "2c0f770d-638d-4b8e-8a4a-6103bc559a64"
      },
      "execution_count": 127,
      "outputs": [
        {
          "output_type": "execute_result",
          "data": {
            "text/plain": [
              "[0.057814090747183695,\n",
              " 0.05781404815289129,\n",
              " 0.05781400616932907,\n",
              " 0.05781396478752901,\n",
              " 0.05781392399865771,\n",
              " 0.057813883794014184,\n",
              " 0.057813844165028036,\n",
              " 0.057813805103257274,\n",
              " 0.0578137666003865,\n",
              " 0.057813728648224864]"
            ]
          },
          "metadata": {},
          "execution_count": 127
        }
      ]
    },
    {
      "cell_type": "code",
      "source": [
        "y_hat = predict(X_new, opt_weights)"
      ],
      "metadata": {
        "id": "SiNhQhL-AH6b"
      },
      "execution_count": 128,
      "outputs": []
    },
    {
      "cell_type": "code",
      "source": [
        "def r2_score(y, y_hat):\n",
        "  num = np.sum((y - y_hat)**2)\n",
        "  denom = np.sum((y - y.mean())**2)\n",
        "\n",
        "  return 1 - (num/denom)"
      ],
      "metadata": {
        "id": "zAtgJijhA_67"
      },
      "execution_count": 129,
      "outputs": []
    },
    {
      "cell_type": "code",
      "source": [
        "r2_score(y, y_hat)"
      ],
      "metadata": {
        "colab": {
          "base_uri": "https://localhost:8080/"
        },
        "id": "Gd9cf0PkAa7Y",
        "outputId": "d3401618-ae46-4b24-c434-53d6feb305a8"
      },
      "execution_count": 130,
      "outputs": [
        {
          "output_type": "execute_result",
          "data": {
            "text/plain": [
              "0.942121294327256"
            ]
          },
          "metadata": {},
          "execution_count": 130
        }
      ]
    },
    {
      "cell_type": "code",
      "source": [
        "y_hat"
      ],
      "metadata": {
        "colab": {
          "base_uri": "https://localhost:8080/"
        },
        "id": "hWkUdfxuAosL",
        "outputId": "97b3d5ab-ffe5-4cbb-cf9e-55c87f644fd7"
      },
      "execution_count": 131,
      "outputs": [
        {
          "output_type": "execute_result",
          "data": {
            "text/plain": [
              "array([[-1.18662814],\n",
              "       [-0.29642435],\n",
              "       [-0.89584055],\n",
              "       ...,\n",
              "       [-0.31449048],\n",
              "       [-0.98791511],\n",
              "       [ 1.03720729]])"
            ]
          },
          "metadata": {},
          "execution_count": 131
        }
      ]
    },
    {
      "cell_type": "code",
      "source": [],
      "metadata": {
        "id": "4SAsDCB_BBuJ"
      },
      "execution_count": null,
      "outputs": []
    }
  ]
}