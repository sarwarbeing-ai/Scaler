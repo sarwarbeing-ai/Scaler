{
  "nbformat": 4,
  "nbformat_minor": 0,
  "metadata": {
    "colab": {
      "provenance": [],
      "toc_visible": true
    },
    "kernelspec": {
      "name": "python3",
      "display_name": "Python 3"
    },
    "language_info": {
      "name": "python"
    }
  },
  "cells": [
    {
      "cell_type": "markdown",
      "source": [
        "## Content\n",
        "\n",
        "- **Split for numerical features**\n",
        "\n",
        "\n",
        "- **Overfitting/Underfitting**\n",
        "    - Geometric Intuition\n",
        "\n",
        "- **Hyperparameter tuning**\n",
        "\n",
        "- **Impact of Outliers**\n",
        "\n",
        "- **Standardization**\n",
        "\n",
        "- **Encoding of categorical features for DT** (with large categories)\n",
        "\n",
        "- **DT for High demensionality data**\n",
        "\n",
        "- **Imbalance in DT**\n",
        "\n",
        "- **Runtime complexity**\n",
        "\n",
        "- **Multiclass classification** \n",
        "\n",
        "- **Using feature twice for split**\n",
        "\n",
        "- **Feature importance**\n",
        "\n",
        "- **Greedy Approximation of DT**\n",
        "\n",
        "- **Summary**\n"
      ],
      "metadata": {
        "id": "uGlNAU4D0C6j"
      }
    },
    {
      "cell_type": "markdown",
      "metadata": {
        "id": "F_wrwHyIOotR"
      },
      "source": [
        "# **Splitting numerical features**\n",
        "\n"
      ]
    },
    {
      "cell_type": "markdown",
      "metadata": {
        "id": "zC1hYpFMPyWu"
      },
      "source": [
        "If we have categorical features we can simply split basing on features, \n",
        "- but for numerical features, there are no categories.\n",
        "\n",
        "#### How do we do the splitting for numerical features?\n"
      ]
    },
    {
      "cell_type": "markdown",
      "metadata": {
        "id": "RgnVTsNpPdsu"
      },
      "source": [
        "\n",
        "<img src='https://drive.google.com/uc?id=1KnWSO5NlyG5HIOaUITYIyf4sQk_OAw-0'>\n"
      ]
    },
    {
      "cell_type": "markdown",
      "metadata": {
        "id": "MlF4VB3NQJVj"
      },
      "source": [
        "let us consider a numerical feature $f_1$ of $n$ values and categorical feature $f_2$\n",
        "\n",
        "Typically, we will have threshold and \n",
        "- We compare the each value of $f_1$ with a threshold \n",
        "- and split them basing on the threshold.\n",
        "\n",
        "\n",
        "#### But, how do we choose the threshold?\n",
        "\n",
        "- First we arrange $f_1$ in increasing order and \n",
        "    - set each value of $f_1$ as threshold\n",
        "    - Next, we calculate the IG of that split. \n",
        "    - Which gives us n IG values say IG$_1^1$, IG$_2^1$, IG$_3^1$ ..... IG$_n^1$ (for feature 1)\n",
        "\n",
        "- Now, we compare \n",
        "    - $n$ Information Gain values of numerical feature and IG values of categorical feature (IG$_1^2$)\n",
        "    - Amongst all of these, we choose the split has maximum Information Gain (IG).\n"
      ]
    },
    {
      "cell_type": "markdown",
      "metadata": {
        "id": "pr4aPFDJWeX6"
      },
      "source": [
        "<img src='https://drive.google.com/uc?id=149zkQMS_cNc_PVrvShQHUPWlX5kPXKd1'>\n"
      ]
    },
    {
      "cell_type": "markdown",
      "metadata": {
        "id": "EaoucTltWlNN"
      },
      "source": [
        "<img src='https://drive.google.com/uc?id=10-a4b97a0dLnP3V416rRJD_eGXv8trEm'>\n"
      ]
    },
    {
      "cell_type": "markdown",
      "metadata": {
        "id": "6kAgu9RBV19i"
      },
      "source": [
        "#### Question: What if two features are giving equal IG?\n",
        "\n",
        "Ans:  we can pick any one and do the splitting."
      ]
    },
    {
      "cell_type": "markdown",
      "metadata": {
        "id": "tXMxhYI_U0co"
      },
      "source": [
        "#### Optimizing feature split for numerical feature\n",
        "\n",
        "Computing IG for every feature is not very computationally efficient. so, \n",
        "- algorithms follow set of rules to bin it carefuuly.\n",
        "- The purpose of binning is to make it more computationally efficient.\n",
        "- There are some techniques to do binning but the simplest binning method is to use Quantiles (Q1,Q2,Q3,Q4)"
      ]
    },
    {
      "cell_type": "markdown",
      "metadata": {
        "id": "ciQZykTfmwGb"
      },
      "source": [
        "<img src='https://drive.google.com/uc?id=1gEqCxZWlf7nMZLPre0rEO52ZmmcwdKEv'>\n"
      ]
    },
    {
      "cell_type": "markdown",
      "metadata": {
        "id": "fgABfTXDWUzf"
      },
      "source": [
        "# **Overfit Vs Underfit**"
      ]
    },
    {
      "cell_type": "markdown",
      "metadata": {
        "id": "bQN6eRoSW5OM"
      },
      "source": [
        "### Question : When do you think we will overfit a decision tree model?\n",
        "\n",
        "We can say that the model is overfit when we go on splitting, which increases the Depth of the tree.\n",
        "\n",
        "**Depth** is the distance from the root node to the farthest leaf.\n",
        "\n",
        "In simple terms we can say that , as the depth increses we overfit more and more\n",
        "\n",
        "\n",
        "\n"
      ]
    },
    {
      "cell_type": "markdown",
      "metadata": {
        "id": "Pg7rLH3Z46iN"
      },
      "source": [
        "\n",
        "<img src='https://drive.google.com/uc?id=1J71DJWj-ROTjF7HO8iaXmVSTSvWQUKs9'>\n",
        "\n"
      ]
    },
    {
      "cell_type": "markdown",
      "metadata": {
        "id": "_E1n3dB14-YQ"
      },
      "source": [
        "\n",
        "## **Why does DT overfit as depth increases?** \n",
        "\n",
        "Imagine we have 1000 datapoints,\n",
        "- As the depth increases, the data set becomes smaller.\n",
        "\n",
        "Suppose by the time we reach the leaf node, we got a pure node but only 5 datapoints.\n",
        "\n",
        "As you go deeper, there will be fewer points\n",
        "\n",
        "- there may be chance these points (@ leaf node) are noise or outliers\n",
        "\n",
        "This results in Overfit.\n",
        "\n",
        "**Key lesson** : Too much depth is bad"
      ]
    },
    {
      "cell_type": "markdown",
      "metadata": {
        "id": "LJsfo0gIZf28"
      },
      "source": [
        "<img src='https://drive.google.com/uc?id=1nlGGvUplV-nqDCnB13U2GVx3FN9fSTZ4'>\n"
      ]
    },
    {
      "cell_type": "markdown",
      "metadata": {
        "id": "ncN1il-6ZuMH"
      },
      "source": [
        "## **What if the depth is too low? (Underfit)**"
      ]
    },
    {
      "cell_type": "markdown",
      "metadata": {
        "id": "71PaeiyNZ42H"
      },
      "source": [
        "Consider same example with 1000 datapoints at root node.\n",
        "\n",
        "Now, we usually grow a tree until we get pure node.\n",
        "\n",
        "Here, we are stopping the tree growth at depth =2\n",
        "- i.e. we are **pruning** the tree\n",
        "- In other words, we are cutting the  tree\n",
        "\n",
        "\n",
        "Suppose at one leaf node, we got\n",
        "- 500 +ve points\n",
        "- 200 -ve points\n",
        "\n",
        "Now, at test time we got a query point $x_q$ which ended up at same leaf now.\n",
        "\n",
        "**What class do we classify the query point ?** Positive class\n",
        "\n",
        "\n",
        "\n",
        "\n",
        "\n",
        "\n",
        "\n",
        "\n"
      ]
    },
    {
      "cell_type": "markdown",
      "metadata": {
        "id": "XwdGzlb5_eRs"
      },
      "source": [
        "<img src='https://drive.google.com/uc?id=1BhkvlILlmWzuwWQoxIff4y7TT954Rh3v'>\n"
      ]
    },
    {
      "cell_type": "markdown",
      "metadata": {
        "id": "VUlhwN_7_odY"
      },
      "source": [
        "\n",
        "## **What if the depth is 0? (Extreme case)**\n",
        "\n",
        "Depth = 0 means\n",
        "- we only have single node\n",
        "\n",
        "Suppose the datapoint distribution is\n",
        "- 55% +ve class\n",
        "- 45% -ve class\n",
        "\n",
        "For every query point $x_q$, we will say it is positive clss\n",
        "\n",
        "This results in **Underfitting**"
      ]
    },
    {
      "cell_type": "markdown",
      "metadata": {
        "id": "foMRqbbl50fY"
      },
      "source": [
        "\n",
        "\n",
        "<img src='https://drive.google.com/uc?id=1cB0ksNzTt8rXQFQoL4kfPnUXNOWWWdMi'>"
      ]
    },
    {
      "cell_type": "markdown",
      "metadata": {
        "id": "4G8cXuyHkCbd"
      },
      "source": [
        "## **Decision Stump**"
      ]
    },
    {
      "cell_type": "markdown",
      "metadata": {
        "id": "EiaGZzuHu1Fh"
      },
      "source": [
        "There are few other terminology related to decision tree\n",
        "\n",
        "* A **Decision Stump** is a Decision Tree with depth 1.\n",
        "\n",
        "- **Shallow tree** : A tree with small depth\n",
        "- **Deep tree**: Tree where depth is large\n"
      ]
    },
    {
      "cell_type": "markdown",
      "metadata": {
        "id": "eSh0pNLDvXf6"
      },
      "source": [
        "\n",
        "<img src='https://drive.google.com/uc?id=1ZAlYbClUnSZIm4p-B-tgT5BPUwzWwo0d'>"
      ]
    },
    {
      "cell_type": "markdown",
      "metadata": {
        "id": "gA9XSoUxkOsm"
      },
      "source": [
        "# **Geometrical Interpretation**\n",
        "\n"
      ]
    },
    {
      "cell_type": "markdown",
      "metadata": {
        "id": "wstbU8rxPVdq"
      },
      "source": [
        "### **Low Depth**"
      ]
    },
    {
      "cell_type": "markdown",
      "metadata": {
        "id": "OBvLZRRBv4y3"
      },
      "source": [
        "Lets assume we have 2 features $f_1,f_2$\n",
        "* Geometrically every split is a axis parallel hyper-plane which divides your data space\n",
        "\n",
        "* In case of a **shallow tree**, the depth is less \n",
        "    - which means the splits are less \n",
        "    - which there by infer that the **number of hyper-planes deviding the data space are less** i.e less chances of overfitting "
      ]
    },
    {
      "cell_type": "markdown",
      "metadata": {
        "id": "8Viyn6RIxPIW"
      },
      "source": [
        "\n",
        "<img src='https://drive.google.com/uc?id=12_9IScV4HNiq4WdO8Ungdxfded4jvMOM'>"
      ]
    },
    {
      "cell_type": "markdown",
      "metadata": {
        "id": "khyQb4JwxXlf"
      },
      "source": [
        "### **High depth**\n",
        "\n",
        "#### What happes when the depth is high?"
      ]
    },
    {
      "cell_type": "markdown",
      "metadata": {
        "id": "2Q9y2gAGxewW"
      },
      "source": [
        "When the depth is high, we are breaking the  data space into many small divisions.\n",
        "* These small spaces may have very few data points\n",
        "- those might also be outliers or noise.\n",
        "* Hence the higher chances of overfitting."
      ]
    },
    {
      "cell_type": "markdown",
      "metadata": {
        "id": "CoNk0cX4yAoT"
      },
      "source": [
        "\n",
        "<img src='https://drive.google.com/uc?id=1u6QT5zyH5KilyYom5Opp8UwCzDe59aEd'>"
      ]
    },
    {
      "cell_type": "markdown",
      "metadata": {
        "id": "SM5p2GUZFPRB"
      },
      "source": [
        "# **Tradeoff** "
      ]
    },
    {
      "cell_type": "markdown",
      "metadata": {
        "id": "kxOZUOeLbjO1"
      },
      "source": [
        "So, here **depth is the control**\n",
        "\n",
        "Now, to control depth, there are multiple ways\n",
        "- Split only if atleast $m$ data points are there.\n",
        "    - For example: split only if there are atleast 20 datapoints in node.\n",
        "- Split only if IG is greater than some threshold value $x$\n",
        "\n",
        "Ideally, we want the leaf nodes to have pure node.\n",
        "- But if we increase the depth in order to achieve depth\n",
        "    - it'll end up overfitting to noise or outliers\n",
        "\n",
        "\n",
        "\n"
      ]
    },
    {
      "cell_type": "markdown",
      "metadata": {
        "id": "rnGf-sLhBVbt"
      },
      "source": [
        "\n",
        "\n",
        "<img src='https://drive.google.com/uc?id=1JM4eEyDozaewgQ_JUN-ueUxK5pkEMjzS'>\n"
      ]
    },
    {
      "cell_type": "markdown",
      "metadata": {
        "id": "JxBh7G6KDs-z"
      },
      "source": [
        "The idea here is\n",
        "- we treat **depth** as **hyperparameter**\n",
        "\n",
        "\n",
        "We try multiple values of depth.\n",
        "- We train model using various depth values\n",
        "- Check the cv error \n",
        "- pick the depth which gives us the lowest cv error\n"
      ]
    },
    {
      "cell_type": "markdown",
      "metadata": {
        "id": "jJ5hOZ6S4l5D"
      },
      "source": [
        "\n",
        "\n",
        "<img src='https://drive.google.com/uc?id=15_fyrfmYjUOkYSu99xv_kwkNuz7e2v7C'>\n"
      ]
    },
    {
      "cell_type": "markdown",
      "metadata": {
        "id": "fVxXhWJhSIxF"
      },
      "source": [
        "### Visualizing Decision Tree"
      ]
    },
    {
      "cell_type": "code",
      "execution_count": null,
      "metadata": {
        "id": "WLEr_32hutd0"
      },
      "outputs": [],
      "source": [
        "import numpy as np\n",
        "import pandas as pd\n",
        "import matplotlib.pyplot as plt\n",
        "import io"
      ]
    },
    {
      "cell_type": "markdown",
      "source": [
        "Preprocessed Data"
      ],
      "metadata": {
        "id": "Gy621ZV-lYPX"
      }
    },
    {
      "cell_type": "code",
      "source": [
        "!gdown 12G_J8gBel8MpspdXJruZuuMvyrm9upNb\n",
        "!gdown 1-zjfYbZm8JC4wog9tG4zltMPuZM6p9_A\n",
        "\n",
        "\n",
        "!gdown 1p03Ltdto8XoOdu14YlcQjzE-360SyI89\n",
        "!gdown 1mNcWfaEW19ql8WCih6HiqRryCcjFUUqx\n"
      ],
      "metadata": {
        "colab": {
          "base_uri": "https://localhost:8080/"
        },
        "id": "LquFHX1klR2g",
        "outputId": "870ba2f3-459b-4b57-d9a9-3ff5aaf65a20"
      },
      "execution_count": null,
      "outputs": [
        {
          "output_type": "stream",
          "name": "stdout",
          "text": [
            "Downloading...\n",
            "From: https://drive.google.com/uc?id=12G_J8gBel8MpspdXJruZuuMvyrm9upNb\n",
            "To: /content/X_test.csv\n",
            "100% 51.7k/51.7k [00:00<00:00, 41.1MB/s]\n",
            "Downloading...\n",
            "From: https://drive.google.com/uc?id=1-zjfYbZm8JC4wog9tG4zltMPuZM6p9_A\n",
            "To: /content/X_train.csv\n",
            "100% 154k/154k [00:00<00:00, 67.2MB/s]\n",
            "Downloading...\n",
            "From: https://drive.google.com/uc?id=1p03Ltdto8XoOdu14YlcQjzE-360SyI89\n",
            "To: /content/y_test.csv\n",
            "100% 743/743 [00:00<00:00, 1.28MB/s]\n",
            "Downloading...\n",
            "From: https://drive.google.com/uc?id=1mNcWfaEW19ql8WCih6HiqRryCcjFUUqx\n",
            "To: /content/y_train.csv\n",
            "100% 2.21k/2.21k [00:00<00:00, 3.94MB/s]\n"
          ]
        }
      ]
    },
    {
      "cell_type": "code",
      "source": [
        "X_train = pd.read_csv('X_train.csv')\n",
        "X_test = pd.read_csv('X_test.csv')\n",
        "y_train = pd.read_csv('y_train.csv')\n",
        "y_test = pd.read_csv('y_test.csv')"
      ],
      "metadata": {
        "id": "GzL8l4XgnHFb"
      },
      "execution_count": null,
      "outputs": []
    },
    {
      "cell_type": "code",
      "execution_count": null,
      "metadata": {
        "colab": {
          "base_uri": "https://localhost:8080/"
        },
        "id": "ofi_wcARy5qy",
        "outputId": "98c1df9d-b10a-4d43-e8e4-c4b95c2cdd6a"
      },
      "outputs": [
        {
          "output_type": "stream",
          "name": "stdout",
          "text": [
            "Resampled dataset shape Counter({'Target': 1})\n"
          ]
        }
      ],
      "source": [
        "from imblearn.over_sampling import SMOTE\n",
        "from collections import Counter\n",
        "\n",
        "smt = SMOTE()\n",
        "X_sm, y_sm = smt.fit_resample(X_train, y_train)\n",
        "\n",
        "print('Resampled dataset shape {}'.format(Counter(y_sm)))"
      ]
    },
    {
      "cell_type": "code",
      "execution_count": null,
      "metadata": {
        "id": "jHOHU8VSip85"
      },
      "outputs": [],
      "source": [
        "from sklearn.tree import DecisionTreeClassifier\n",
        "tree_clf = DecisionTreeClassifier(random_state=42)"
      ]
    },
    {
      "cell_type": "code",
      "source": [
        "# Train on training data\n",
        "tree_clf.fit(X_sm,y_sm)\n",
        "\n",
        "# predict on test data\n",
        "tree_clf.score(X_test,y_test)"
      ],
      "metadata": {
        "id": "DDs4NfvKrYsb",
        "colab": {
          "base_uri": "https://localhost:8080/"
        },
        "outputId": "cd5d2850-298d-4265-9e7d-cd57f23b9fe9"
      },
      "execution_count": null,
      "outputs": [
        {
          "output_type": "execute_result",
          "data": {
            "text/plain": [
              "0.8016304347826086"
            ]
          },
          "metadata": {},
          "execution_count": 6
        }
      ]
    },
    {
      "cell_type": "code",
      "execution_count": null,
      "metadata": {
        "id": "7UgR2c9ASLSW"
      },
      "outputs": [],
      "source": [
        "from IPython.display import Image\n",
        "from six import StringIO\n",
        "from sklearn.tree import export_graphviz\n",
        "import pydot\n",
        "\n",
        "features = list(X_sm.columns)\n",
        "#Ensure the target variable 'Attrition' is not there in the feature list"
      ]
    },
    {
      "cell_type": "code",
      "source": [
        "from sklearn.tree import plot_tree\n"
      ],
      "metadata": {
        "id": "1yP9LKXW2Dxl"
      },
      "execution_count": null,
      "outputs": []
    },
    {
      "cell_type": "code",
      "source": [
        "tree_clf = tree_clf.fit(X_sm, y_sm)\n",
        "\n",
        "plt.figure(figsize=(12,12))\n",
        "plot_tree(tree_clf, filled=True);"
      ],
      "metadata": {
        "colab": {
          "base_uri": "https://localhost:8080/",
          "height": 683
        },
        "id": "Ufwq_Z1Wl7On",
        "outputId": "3340d3d7-7be1-4152-bd91-607def3f58e5"
      },
      "execution_count": null,
      "outputs": [
        {
          "output_type": "display_data",
          "data": {
            "text/plain": [
              "<Figure size 864x864 with 1 Axes>"
            ],
            "image/png": "[encoded data removed]"
          },
          "metadata": {
            "needs_background": "light"
          }
        }
      ]
    },
    {
      "cell_type": "markdown",
      "metadata": {
        "id": "yOkOGg_gSXmU"
      },
      "source": [
        "Notice the depth of the model. \n",
        "\n",
        "#### What can we infer from this visualisation ?\n",
        "If you zoom into the above image and look into all the leaf nodes, you will see that all are homogeneously split.\n",
        "\n",
        "This shows that the model has learnt all the noise as well and hence overfitting\n",
        "\n"
      ]
    },
    {
      "cell_type": "markdown",
      "metadata": {
        "id": "kYs_JTaRDsE-"
      },
      "source": [
        "# **Hyperparameters**"
      ]
    },
    {
      "cell_type": "markdown",
      "metadata": {
        "id": "WDwMOSDwFeA4"
      },
      "source": [
        "Let's look at various hyperparmeter that we can use from sklearn library"
      ]
    },
    {
      "cell_type": "markdown",
      "metadata": {
        "id": "rvSk_QmnGJiz"
      },
      "source": [
        "\n",
        "\n",
        "<img src='https://drive.google.com/uc?id=1z8KTHw3qq0wonrM-zxnSD_Tunh477zLv'>\n",
        "\n"
      ]
    },
    {
      "cell_type": "markdown",
      "metadata": {
        "id": "HXEbToB4eUYR"
      },
      "source": [
        "* **Criterion = gini**, states that make splits basing on gini impurity\n",
        "* **Splitter = best**, states that \n",
        "    - make the split basing on the best computed value insteaD of random values\n",
        "    - these random values are used in Extremely Randomised Trees (will learn later).\n",
        "\n",
        "\n",
        "* **max_depth** used set maximium depth upto which a tree will grow\n",
        "    - By default, it is **None** meaning it'll grow until all leaves are pure.\n",
        "\n",
        "* **min_samples_split** is used to set the minimum number of data points required to split further.\n",
        "    - helps us to control depth which therefore prevents **overfit**.\n",
        "    - By default, it is 2\n",
        "\n",
        "* **min_samples_leaf** helps us to set the minimum number of samples which a leaf node can have \n",
        "\n",
        "\n",
        "\n",
        "\n",
        "\n"
      ]
    },
    {
      "cell_type": "markdown",
      "metadata": {
        "id": "aScvhgoLjAhl"
      },
      "source": [
        "* **max_leaf_nodes** helps us to set the maximum number of leaf nodes that a tree can have. \n",
        "    - If we keep a limit on number of leaf nodes\n",
        "        - means we are indirectly controlling the depth"
      ]
    },
    {
      "cell_type": "markdown",
      "metadata": {
        "id": "epKABjgTjHtN"
      },
      "source": [
        "\n",
        "* **max_features** is used to set the features to be considered while deciding the best split.\n",
        "    - By default, it considers all the features for split\n",
        "    - In case we have too many features\n",
        "        - and we want to make it computationally efficient,\n",
        "        - we can try **max_features =sqrt/log2**\n",
        "        - it'll try out random subset of features\n",
        "\n",
        "<img src='https://drive.google.com/uc?id=1mddwaljVp4_V7fKzYDCpPEo7IRaL3Ju8'>\n"
      ]
    },
    {
      "cell_type": "markdown",
      "metadata": {
        "id": "4KmIjHLJTRsD"
      },
      "source": [
        "### Code for DT - Hyperparameter tuning"
      ]
    },
    {
      "cell_type": "code",
      "source": [
        "from sklearn.model_selection import KFold, cross_validate\n",
        "kfold = KFold(n_splits=10)\n"
      ],
      "metadata": {
        "id": "pMugdi5v2M67"
      },
      "execution_count": null,
      "outputs": []
    },
    {
      "cell_type": "code",
      "execution_count": null,
      "metadata": {
        "colab": {
          "base_uri": "https://localhost:8080/"
        },
        "id": "u64_GrZjTWgK",
        "outputId": "b3a0d574-64b1-48be-a34f-1c767cf76f84"
      },
      "outputs": [
        {
          "output_type": "stream",
          "name": "stdout",
          "text": [
            "K-Fold for depth:3 Accuracy Mean: Train: 78.64356512211481 Validation: 71.10517038777908\n",
            "K-Fold for depth: 3 Accuracy Std: Train: 0.7326429478902082 Validation: 5.600865282145077\n",
            "***************\n",
            "K-Fold for depth:4 Accuracy Mean: Train: 82.77416927818123 Validation: 77.927732079906\n",
            "K-Fold for depth: 4 Accuracy Std: Train: 0.9541040217790394 Validation: 6.86449235966525\n",
            "***************\n",
            "K-Fold for depth:5 Accuracy Mean: Train: 87.0851341701744 Validation: 80.63454759106932\n",
            "K-Fold for depth: 5 Accuracy Std: Train: 0.6042549884434616 Validation: 5.538416127191793\n",
            "***************\n",
            "K-Fold for depth:67 Accuracy Mean: Train: 100.0 Validation: 83.39923619271445\n",
            "K-Fold for depth: 67 Accuracy Std: Train: 0.0 Validation: 8.470364073880969\n",
            "***************\n",
            "K-Fold for depth:9 Accuracy Mean: Train: 97.27637942897451 Validation: 82.04465334900118\n",
            "K-Fold for depth: 9 Accuracy Std: Train: 0.7838521387815447 Validation: 7.524299642331342\n",
            "***************\n",
            "K-Fold for depth:11 Accuracy Mean: Train: 99.14019135367039 Validation: 82.69418331374852\n",
            "K-Fold for depth: 11 Accuracy Std: Train: 0.3784881738959117 Validation: 8.109007304019558\n",
            "***************\n",
            "K-Fold for depth:13 Accuracy Mean: Train: 99.81361158009157 Validation: 83.07432432432431\n",
            "K-Fold for depth: 13 Accuracy Std: Train: 0.17928936768025708 Validation: 8.493819691979283\n",
            "***************\n",
            "K-Fold for depth:15 Accuracy Mean: Train: 99.97594708358389 Validation: 83.39923619271445\n",
            "K-Fold for depth: 15 Accuracy Std: Train: 0.05511215508064881 Validation: 8.428868593220002\n",
            "***************\n"
          ]
        }
      ],
      "source": [
        "depths = [3,4,5,67,9,11,13,15]\n",
        "\n",
        "for depth in depths:\n",
        "    tree_clf = DecisionTreeClassifier(random_state=7, max_depth = depth)\n",
        "\n",
        "    cv_acc_results = cross_validate(tree_clf, X_sm, y_sm, cv = kfold, scoring = 'accuracy', return_train_score = True)\n",
        "\n",
        "    print(f\"K-Fold for depth:{depth} Accuracy Mean: Train: {cv_acc_results['train_score'].mean()*100} Validation: {cv_acc_results['test_score'].mean()*100}\")\n",
        "    print(f\"K-Fold for depth: {depth} Accuracy Std: Train: {cv_acc_results['train_score'].std()*100} Validation: {cv_acc_results['test_score'].std()*100}\")\n",
        "    print('***************')"
      ]
    },
    {
      "cell_type": "markdown",
      "metadata": {
        "id": "LxNHmee7WmbM"
      },
      "source": [
        "#### Training with best params"
      ]
    },
    {
      "cell_type": "code",
      "execution_count": null,
      "metadata": {
        "id": "cxhFzQOVWks_"
      },
      "outputs": [],
      "source": [
        "tree_clf = DecisionTreeClassifier(random_state=7, max_depth = 4)\n",
        "tree_clf=tree_clf.fit(X_sm, y_sm)\n",
        "pred = tree_clf.predict(X_test)"
      ]
    },
    {
      "cell_type": "markdown",
      "metadata": {
        "id": "LXU_utleWvMU"
      },
      "source": [
        "#### Visualizing DT"
      ]
    },
    {
      "cell_type": "code",
      "source": [
        "plt.figure(figsize=(12,12))\n",
        "plot_tree(tree_clf, filled=True);"
      ],
      "metadata": {
        "colab": {
          "base_uri": "https://localhost:8080/",
          "height": 683
        },
        "id": "rl2gJFRHmNiO",
        "outputId": "e67af196-9782-4cce-d58e-73c27d1775ea"
      },
      "execution_count": null,
      "outputs": [
        {
          "output_type": "display_data",
          "data": {
            "text/plain": [
              "<Figure size 864x864 with 1 Axes>"
            ],
            "image/png": "[encoded data removed]"
          },
          "metadata": {
            "needs_background": "light"
          }
        }
      ]
    },
    {
      "cell_type": "markdown",
      "metadata": {
        "id": "dIvqS39cWyUN"
      },
      "source": [
        "Notice how the tree is pruned now i.e. depth has reduced"
      ]
    },
    {
      "cell_type": "markdown",
      "metadata": {
        "id": "4SKgMF5hW3-_"
      },
      "source": [
        "What can we infer from this visualisation ?\n",
        "- The tree is now much shorter in depth\n",
        "- The leaf nodes are more generalised as well\n",
        "- This is what the hyperparameter tuning helped achieve"
      ]
    },
    {
      "cell_type": "markdown",
      "metadata": {
        "id": "Y2IZNzbUYFvd"
      },
      "source": [
        "#### **Confusion Matrix**"
      ]
    },
    {
      "cell_type": "markdown",
      "metadata": {
        "id": "dgzlNggGXA6q"
      },
      "source": [
        "Let's also plot the confusion matrix for test data\n",
        "\n",
        "Recall the TP,TN,FN,FP we discussed in performance metric lecture\n",
        "\n"
      ]
    },
    {
      "cell_type": "code",
      "execution_count": null,
      "metadata": {
        "colab": {
          "base_uri": "https://localhost:8080/",
          "height": 345
        },
        "id": "N-yz6bWXXKjv",
        "outputId": "2081b68a-3e90-44bd-a97e-4ad2ef1918dc"
      },
      "outputs": [
        {
          "output_type": "execute_result",
          "data": {
            "text/plain": [
              "Text(0.5, 15.0, 'Predicted label')"
            ]
          },
          "metadata": {},
          "execution_count": 18
        },
        {
          "output_type": "display_data",
          "data": {
            "text/plain": [
              "<Figure size 432x288 with 2 Axes>"
            ],
            "image/png": "[encoded data removed]"
          },
          "metadata": {
            "needs_background": "light"
          }
        }
      ],
      "source": [
        "## Confusion Matrix\n",
        "\n",
        "from sklearn.metrics import confusion_matrix\n",
        "import seaborn as sns\n",
        "\n",
        "cnf_matrix = confusion_matrix(y_test, tree_clf.predict(X_test))\n",
        "# class_names=[0,1] # name  of classes\n",
        "fig, ax = plt.subplots()\n",
        "# tick_marks = np.arange(len(class_names))\n",
        "# plt.xticks(tick_marks, class_names)\n",
        "# plt.yticks(tick_marks, class_names)\n",
        "# create heatmap\n",
        "sns.heatmap(pd.DataFrame(cnf_matrix), annot=True, cmap=\"YlGnBu\" ,fmt='g')\n",
        "# ax.xaxis.set_label_position(\"top\")\n",
        "plt.tight_layout()\n",
        "plt.title('Confusion matrix')\n",
        "plt.ylabel('Actual label')\n",
        "plt.xlabel('Predicted label')"
      ]
    },
    {
      "cell_type": "markdown",
      "metadata": {
        "id": "6hfFzNK7YRpD"
      },
      "source": [
        "Notice that \n",
        "- model is classifying class 0 quite well\n",
        "- However, the number of FN is large."
      ]
    },
    {
      "cell_type": "markdown",
      "metadata": {
        "id": "G67KwdaQacX-"
      },
      "source": [
        "# **Impact of outliers**\n"
      ]
    },
    {
      "cell_type": "markdown",
      "metadata": {
        "id": "J8S9i1XKaU_I"
      },
      "source": [
        "#### Question: Will outliers impact the DT ?\n",
        "\n",
        "Outliers impact a decision tree when the depth is high i.e. overfitted model \n",
        "\n",
        "Imagine a scenario where\n",
        "- we have 1000 datapoints at root node\n",
        "- we built a tree\n",
        "- After splitting agressively i.e. depth is high we got\n",
        "    - 5 +ve point in one leaf nodes\n",
        "\n",
        "There may be chance these 5 points are noise / outliers. \n",
        "\n",
        "Hence, outliers will only impact tree with large depth"
      ]
    },
    {
      "cell_type": "markdown",
      "metadata": {
        "id": "ODFrBFgGwLKn"
      },
      "source": [
        "<img src='https://drive.google.com/uc?id=1nlGGvUplV-nqDCnB13U2GVx3FN9fSTZ4'>\n"
      ]
    },
    {
      "cell_type": "markdown",
      "metadata": {
        "id": "0HiwzqbvvfRc"
      },
      "source": [
        "## **Standardization**"
      ]
    },
    {
      "cell_type": "markdown",
      "metadata": {
        "id": "q9P2RQjdwORP"
      },
      "source": [
        "#### (Revision question) Did we standardize data for Linear Regression & PCA?\n",
        "\n",
        "Yes."
      ]
    },
    {
      "cell_type": "markdown",
      "metadata": {
        "id": "KcyPVYbaWMNj"
      },
      "source": [
        "#### Question: Is Standardisation  required for Decision tree?\n",
        "\n",
        "Imagine we have a numerical feature $f_i$\n",
        "- values are say, 2.1, 2.6, 2.8 and so on ..\n",
        "\n",
        "Let's say we standardized it\n",
        "- values we go -1.2, -1, 0 , .. and so on\n",
        "\n",
        "For calculating entropy, we are using the values as threshold only as splitting criteria.\n",
        "\n",
        "Entropy isn't dependent on value\n",
        "- it depends on number of +ve/ -ve datapoints\n",
        "- and in turn dependend on thresold\n",
        "\n",
        "Threshold order won't change with standardization.\n",
        "\n",
        "Standardization does not impact entropy and Information gain\n",
        "\n",
        "<br>\n",
        "\n",
        "**Key lesson**:\n",
        "\n",
        "Though standardisation is required in optimisation based problems like Linear Regression, Logistic Regression, PCA, \n",
        "- as standardisation **doesn't effect the entropy or the Information Gain** of the data it doesn't add any value in Decision tree.\n",
        "\n"
      ]
    },
    {
      "cell_type": "markdown",
      "metadata": {
        "id": "3aqO0LIAXPdJ"
      },
      "source": [
        "\n",
        "<img src='https://drive.google.com/uc?id=1TKSiPMLUt14FHs1AjAqySZQycgyhwWs0'>"
      ]
    },
    {
      "cell_type": "markdown",
      "metadata": {
        "id": "csgXgiT-yq_q"
      },
      "source": [
        "# **Encoding of categorial features for DT**"
      ]
    },
    {
      "cell_type": "markdown",
      "metadata": {
        "id": "qbVwTXbJXZBp"
      },
      "source": [
        "Imagine we have a categorical feature with many categories  (for example: zipcode with 10,000 values)\n",
        "\n",
        "\n",
        "#### Question: How can we encode  a categorical feature with many categories ?  \n",
        "\n",
        "* We can do **\"no encoding\"**\n",
        " * if we did not do encoding\n",
        "    - we'll get 10,000 child nodes\n",
        "    - data set becomes too small in some nodes\n",
        "    - prediction may suffer as we don't have enough datapoints (can be outliers or noise) in node to affirmly back our prediction\n",
        "    - not a wise choice\n",
        "\n",
        "* We can do **target encoding** \n",
        " * covert to numerical and then give it to decision tree\n",
        "\n",
        "* We **should not do one hot encoding**\n",
        "  * Because that increases the dimensionality of the data \n",
        "\n",
        "**Key lesson:**\n",
        "* Appropriate feature encoding depends on the model that you are using like if you are using logistic regression you can use one hat encoding but not in decision tree.\n"
      ]
    },
    {
      "cell_type": "markdown",
      "metadata": {
        "id": "tAQzP0YoDDAK"
      },
      "source": [
        "\n",
        "\n",
        "<img src='https://drive.google.com/uc?id=1gtSEg36jCNkhdaAYOPuctlWEqJEH7l2j'>"
      ]
    },
    {
      "cell_type": "markdown",
      "metadata": {
        "id": "JFFx6XiB2PHi"
      },
      "source": [
        "# **DT for high dimension data**"
      ]
    },
    {
      "cell_type": "markdown",
      "metadata": {
        "id": "0sWPccRGwv73"
      },
      "source": [
        "### Question: Why should we avoid DT for high dimensional data? "
      ]
    },
    {
      "cell_type": "markdown",
      "metadata": {
        "id": "AHPhbIMs2dQc"
      },
      "source": [
        "\n",
        "If there are lots of features it takes a lot of time to check every possible split and compute entropy\n",
        "\n",
        "Hence, time to build DT shoots up \n",
        "\n",
        "**So, what can be done about that.?**\n",
        "* We can use distributed computing or multi-processing\n",
        " * **Distributed Computing** is a process in which the data is split and worked on different cores.\n",
        "* We avoid using Decision trees as when the dimensionality is high a simple linear seperator can be used, by using logistic regression\n",
        "* Either use Random forest or GBDT\n"
      ]
    },
    {
      "cell_type": "markdown",
      "metadata": {
        "id": "TB9UDani2euw"
      },
      "source": [
        "\n",
        "\n",
        "<img src='https://drive.google.com/uc?id=1UcqJB8hfzbXaxnU4zwIygyshwoY1T46R'>\n"
      ]
    },
    {
      "cell_type": "markdown",
      "metadata": {
        "id": "lXvhuF3Z2u4M"
      },
      "source": [
        "# **Imbalance data in DT**"
      ]
    },
    {
      "cell_type": "markdown",
      "metadata": {
        "id": "nMny_aMv7AkT"
      },
      "source": [
        "#### Question: Will imbalance data impact DT? \n",
        "\n"
      ]
    },
    {
      "cell_type": "markdown",
      "metadata": {
        "id": "ODkNXTitN74U"
      },
      "source": [
        "Recall that Entropy and Gini Impurity are fucntions of probability\n",
        "\n",
        "* Assume  a condition where there is an imbalance in the root node \n",
        "  * **having 99% positive data**\n",
        "  * **This skews the entropy or Gini Impurity**\n",
        "\n",
        "So, we have to rebalance the data. (which is what we did in the beginning)\n",
        "\n",
        "* We can rebalance in many ways like \n",
        " * using class weights\n",
        " * up - samplinig\n",
        " * SMOTE can be used.  "
      ]
    },
    {
      "cell_type": "markdown",
      "metadata": {
        "id": "Zp0Z2b7BbGzO"
      },
      "source": [
        "\n",
        "\n",
        "<img src='https://drive.google.com/uc?id=1HKUqza2v3zHmYP3-zYRKWD_Mi5MUs8PX'>"
      ]
    },
    {
      "cell_type": "markdown",
      "metadata": {
        "id": "sdCwgPjQ4ur3"
      },
      "source": [
        "# **Train/Run time complexity**"
      ]
    },
    {
      "cell_type": "markdown",
      "metadata": {
        "id": "pOeWK7zb8JK3"
      },
      "source": [
        "#### Question: What do you think will be run time and space complexity will be ? "
      ]
    },
    {
      "cell_type": "markdown",
      "metadata": {
        "id": "R4uADt855zMo"
      },
      "source": [
        "Let \n",
        "- n be the number of data points \n",
        "- m be the number of nodes and \n",
        "- d be the depth of the tree \n",
        "\n",
        "Then, \n",
        "* **Train time complexity** is **$O(nlog(n)*d)$**\n",
        "    - where nlog(n) is the time taken to sort numerical features\n",
        "    - multiplied by d, as you have to calculate split for d features\n",
        "\n",
        "* The **Run Time complexity** of the tree of depth d is O(depth) \n",
        "    - as we only have to evaluate at max d condtions\n",
        "\n",
        "* The **Space complexity** of the tree is O(m)\n",
        "    - we only have to store **m if else condtions**\n",
        "\n",
        "Here,  depth is the function of number of nodes i.e log(m)   \n",
        " \n",
        "If $d_{best}$ is computated using cross validation the decision tree will be very efficient at runtime.\n",
        "\n"
      ]
    },
    {
      "cell_type": "markdown",
      "metadata": {
        "id": "MEd1KnQfB0CM"
      },
      "source": [
        "\n",
        "<img src='https://drive.google.com/uc?id=1lgpPR9T2IxGxWsmUH9D8hO-5NTQtJFqE'>"
      ]
    },
    {
      "cell_type": "markdown",
      "metadata": {
        "id": "Hel_aeClPzzf"
      },
      "source": [
        "# **Multi class classification**"
      ]
    },
    {
      "cell_type": "markdown",
      "metadata": {
        "id": "VFh6NmauF8_a"
      },
      "source": [
        "#### How will DT work for multi class classification?"
      ]
    },
    {
      "cell_type": "markdown",
      "metadata": {
        "id": "H1s9aViHQFlp"
      },
      "source": [
        "Whether it is binary or multiclass, DT works the same.\n",
        "\n",
        "We just need to calculate the Entropy or Gini Impurity.\n",
        "\n",
        "However, there is a catch\n",
        "* at the leaf node if we have more classes we take the majority class.\n"
      ]
    },
    {
      "cell_type": "markdown",
      "metadata": {
        "id": "Wot1LN-RWnrs"
      },
      "source": [
        "\n",
        "<img src='https://drive.google.com/uc?id=1dDWifTRTzncApzTa-M6ExppyCJj5m6-Q'>\n"
      ]
    },
    {
      "cell_type": "markdown",
      "metadata": {
        "id": "TtLFTvjaHcn3"
      },
      "source": [
        "# **Interpretibility**"
      ]
    },
    {
      "cell_type": "markdown",
      "metadata": {
        "id": "UwpyJWzwIKxT"
      },
      "source": [
        "Decision Trees are hyper interpretable\n",
        "- as we can read them as if else condition\n",
        "- can be understood by non expert"
      ]
    },
    {
      "cell_type": "markdown",
      "metadata": {
        "id": "_crMG3fRIFdV"
      },
      "source": [
        "\n",
        "<img src='https://drive.google.com/uc?id=1S8XxE09aiBO_RK_Bte8jKIGjr81An7Ef'>\n",
        "\n"
      ]
    },
    {
      "cell_type": "markdown",
      "metadata": {
        "id": "jZdovsTcIYMZ"
      },
      "source": [
        "## **Using feature twice for split**"
      ]
    },
    {
      "cell_type": "markdown",
      "metadata": {
        "id": "5yYH04q9Ii3Q"
      },
      "source": [
        "#### Question: Can we use a feature twice for splitting?"
      ]
    },
    {
      "cell_type": "markdown",
      "metadata": {
        "id": "afSNZG1YIWPM"
      },
      "source": [
        "\n",
        "\n",
        "Imagine we split the root node using feature $f_1$ \n",
        "\n",
        "**Can we use this feature again to split the child node ?**"
      ]
    },
    {
      "cell_type": "markdown",
      "metadata": {
        "id": "t1AWD3QLIh6r"
      },
      "source": [
        "\n",
        "<img src='https://drive.google.com/uc?id=1Ve7CZ5Pb8Tufhb98AhmEg5L9rVHgm1-z'>\n",
        "\n"
      ]
    },
    {
      "cell_type": "markdown",
      "metadata": {
        "id": "iBRg2JbUJj-N"
      },
      "source": [
        "Let's see for both categorical as well as numerical features\n",
        "\n",
        "Let's say we have \n",
        "- 100 +ve points\n",
        "- 100 -ve points at root node.\n",
        "\n",
        "### **Categorical feature**\n",
        "\n",
        "We used Gender (categorical) to split the data\n",
        "\n",
        "We got two child nodes\n",
        "- Male node:\n",
        "    - 70 +ve\n",
        "    - 30 -ve\n",
        "\n",
        "- Female node:\n",
        "    - 30 +ve\n",
        "    - 70 -ve\n",
        "\n",
        "**Can we again use Gender to split Male node?**\n",
        "\n",
        "No. \n",
        "Even if we use, we only have Male category data in current node.\n",
        "- there will be no information gain i.e. info gain = 0\n",
        "\n",
        "\n",
        "\n",
        "\n"
      ]
    },
    {
      "cell_type": "markdown",
      "metadata": {
        "id": "I6dIIMNZKC96"
      },
      "source": [
        "\n",
        "<img src='https://drive.google.com/uc?id=1g_zrbs47bI4XqaQ4lJulVnal-B2mzfhn'>\n",
        "\n"
      ]
    },
    {
      "cell_type": "markdown",
      "metadata": {
        "id": "IH_Bng1AVB7s"
      },
      "source": [
        "But, there's an exception\n",
        "- A single categorical feature can be used more than once in different branches of tree"
      ]
    },
    {
      "cell_type": "markdown",
      "metadata": {
        "id": "IaKPSvDnVz9W"
      },
      "source": [
        "\n",
        "<img src='https://drive.google.com/uc?id=16L9ZMNk4hz9eMrafNrPxcL4w-zLfNGrt'>\n",
        "\n"
      ]
    },
    {
      "cell_type": "markdown",
      "metadata": {
        "id": "FRa04OCyMCE0"
      },
      "source": [
        "### **Numerical feature**\n",
        "\n",
        "Now, let's say we are splitting the root node numerical feature i.e. Years of Experience.\n",
        "\n",
        "First, we found out IG for each threshold and YOE of 12 yrs was giving the best IG.\n",
        "- We split the node with $YOE ≤ 12$\n",
        "\n",
        "#### Question: Can we again use numerical feature for split?\n",
        "\n",
        "Yes. It is possible that same feature for different threshold may give best IG among all features at child node.\n",
        "\n"
      ]
    },
    {
      "cell_type": "markdown",
      "metadata": {
        "id": "ddj37Pj8Nrx1"
      },
      "source": [
        "\n",
        "<img src='https://drive.google.com/uc?id=10CQM-YGajNRnSIMlPTvUvosTnCoXFEcb'>\n",
        "\n"
      ]
    },
    {
      "cell_type": "markdown",
      "metadata": {
        "id": "fMT9P1XgNo7W"
      },
      "source": [
        "# **Feature Importance**"
      ]
    },
    {
      "cell_type": "markdown",
      "metadata": {
        "id": "xsFTHs9oNgLT"
      },
      "source": [
        "Recall,\n",
        "* In case of logistic and linear regression after standardisation we can just consider absolute value of weights which give us feature importance \n",
        "\n",
        "But we don't have any weights in DT.\n",
        "\n",
        "#### **Question: How can we get Feature importance for DT ? Any ideas?**\n",
        "\n",
        "Suppose we have 10,000 datapoints @ root node.\n",
        "\n",
        "Let us consider a feature $f_i$ which is used twice in splitting a decision tree \n",
        "\n",
        "* At first split let the number of data points be 5000($n_1$) and Infromation Gain is IG$_1$\n",
        "* Let number of data points at second split be 500($n_2$) and Infromation Gain is IG$_2$\n",
        "\n",
        "* We calculate feature importaance of $f_i$ by \n",
        " - $f_i$ = IG$_1$ * $\\frac{n_1}{n}$ + IG$_2$ * $\\frac{n_2}{n}$ \n",
        " * i.e $f_i$ = IG$_1$ * $\\frac{5000}{10,000}$ + IG$_2$ * $\\frac{500}{10,000}$ \n",
        "\n",
        "This is called **normalized information gain.**\n",
        "\n",
        "* Closer to the root node, more the weightage\n",
        "    - it gives more weightage based on number of datapoints it is impacting.\n"
      ]
    },
    {
      "cell_type": "markdown",
      "metadata": {
        "id": "RTSKeOpqbaE1"
      },
      "source": [
        "\n",
        "\n",
        "<img src='https://drive.google.com/uc?id=12gJv36lGDumsuJ0bdafTB1Iq8bPpbs68'>\n"
      ]
    },
    {
      "cell_type": "markdown",
      "metadata": {
        "id": "hQOYWdHTcSWq"
      },
      "source": [
        "We calculate normalized information gain for all features and \n",
        "- this Normalized IG is used as feature importances.\n",
        "\n",
        "\n",
        "Do note that this is one of the popular way of calulating Feature importance.\n",
        "\n",
        "Different libraries may use different way of calculating Feature importance i.e. implementation specific.\n",
        "\n"
      ]
    },
    {
      "cell_type": "markdown",
      "metadata": {
        "id": "OH3nHrc9NonL"
      },
      "source": [
        "\n",
        "\n",
        "<img src='https://drive.google.com/uc?id=1_89mxH7bzeSeuR90uQjSwU-jPlSGkeqV'>\n"
      ]
    },
    {
      "cell_type": "markdown",
      "metadata": {
        "id": "s64u0nqV8u_W"
      },
      "source": [
        "### Code walkthrough"
      ]
    },
    {
      "cell_type": "code",
      "execution_count": null,
      "metadata": {
        "colab": {
          "base_uri": "https://localhost:8080/",
          "height": 627
        },
        "id": "cY19KT0a7wum",
        "outputId": "a49b0e75-cbdf-41c2-aa40-8c5969f03f8f"
      },
      "outputs": [
        {
          "output_type": "display_data",
          "data": {
            "text/plain": [
              "<Figure size 1080x504 with 1 Axes>"
            ],
            "image/png": "[encoded data removed]"
          },
          "metadata": {
            "needs_background": "light"
          }
        }
      ],
      "source": [
        "importances = tree_clf.feature_importances_\n",
        "indices = np.argsort(importances)[::-1] # Sort feature importances in descending order\n",
        "names = [X_train.columns[i] for i in indices] # Rearrange feature names so they match the sorted feature importances\n",
        "\n",
        "plt.figure(figsize=(15, 7)) # Create plot\n",
        "plt.title(\"Feature Importance\") # Create plot title\n",
        "plt.bar(range(X_train.shape[1]), importances[indices]) # Add bars\n",
        "plt.xticks(range(X_train.shape[1]), names, rotation=90) # Add feature names as x-axis labels\n",
        "plt.show() # Show plot"
      ]
    },
    {
      "cell_type": "code",
      "execution_count": null,
      "metadata": {
        "colab": {
          "base_uri": "https://localhost:8080/",
          "height": 363
        },
        "id": "_nIJC5_Z8l7L",
        "outputId": "d2811478-efa2-4944-c770-6e2a56a8235f"
      },
      "outputs": [
        {
          "output_type": "execute_result",
          "data": {
            "text/plain": [
              "                            Feature  Coefficient\n",
              "0              MaritalStatus_Single     0.634837\n",
              "1                           JobRole     0.076290\n",
              "2                    JobInvolvement     0.067255\n",
              "3                     MonthlyIncome     0.064441\n",
              "4                   JobSatisfaction     0.058736\n",
              "5           EnvironmentSatisfaction     0.045928\n",
              "6                          OverTime     0.023322\n",
              "7                         DailyRate     0.011289\n",
              "8                               Age     0.008961\n",
              "9  BusinessTravel_Travel_Frequently     0.008941"
            ],
            "text/html": [
              "\n",
              "  <div id=\"df-eaf5c9fc-eda9-4937-98c8-8e939c5f72e5\">\n",
              "    <div class=\"colab-df-container\">\n",
              "      <div>\n",
              "<style scoped>\n",
              "    .dataframe tbody tr th:only-of-type {\n",
              "        vertical-align: middle;\n",
              "    }\n",
              "\n",
              "    .dataframe tbody tr th {\n",
              "        vertical-align: top;\n",
              "    }\n",
              "\n",
              "    .dataframe thead th {\n",
              "        text-align: right;\n",
              "    }\n",
              "</style>\n",
              "<table border=\"1\" class=\"dataframe\">\n",
              "  <thead>\n",
              "    <tr style=\"text-align: right;\">\n",
              "      <th></th>\n",
              "      <th>Feature</th>\n",
              "      <th>Coefficient</th>\n",
              "    </tr>\n",
              "  </thead>\n",
              "  <tbody>\n",
              "    <tr>\n",
              "      <th>0</th>\n",
              "      <td>MaritalStatus_Single</td>\n",
              "      <td>0.634837</td>\n",
              "    </tr>\n",
              "    <tr>\n",
              "      <th>1</th>\n",
              "      <td>JobRole</td>\n",
              "      <td>0.076290</td>\n",
              "    </tr>\n",
              "    <tr>\n",
              "      <th>2</th>\n",
              "      <td>JobInvolvement</td>\n",
              "      <td>0.067255</td>\n",
              "    </tr>\n",
              "    <tr>\n",
              "      <th>3</th>\n",
              "      <td>MonthlyIncome</td>\n",
              "      <td>0.064441</td>\n",
              "    </tr>\n",
              "    <tr>\n",
              "      <th>4</th>\n",
              "      <td>JobSatisfaction</td>\n",
              "      <td>0.058736</td>\n",
              "    </tr>\n",
              "    <tr>\n",
              "      <th>5</th>\n",
              "      <td>EnvironmentSatisfaction</td>\n",
              "      <td>0.045928</td>\n",
              "    </tr>\n",
              "    <tr>\n",
              "      <th>6</th>\n",
              "      <td>OverTime</td>\n",
              "      <td>0.023322</td>\n",
              "    </tr>\n",
              "    <tr>\n",
              "      <th>7</th>\n",
              "      <td>DailyRate</td>\n",
              "      <td>0.011289</td>\n",
              "    </tr>\n",
              "    <tr>\n",
              "      <th>8</th>\n",
              "      <td>Age</td>\n",
              "      <td>0.008961</td>\n",
              "    </tr>\n",
              "    <tr>\n",
              "      <th>9</th>\n",
              "      <td>BusinessTravel_Travel_Frequently</td>\n",
              "      <td>0.008941</td>\n",
              "    </tr>\n",
              "  </tbody>\n",
              "</table>\n",
              "</div>\n",
              "      <button class=\"colab-df-convert\" onclick=\"convertToInteractive('df-eaf5c9fc-eda9-4937-98c8-8e939c5f72e5')\"\n",
              "              title=\"Convert this dataframe to an interactive table.\"\n",
              "              style=\"display:none;\">\n",
              "        \n",
              "  <svg xmlns=\"http://www.w3.org/2000/svg\" height=\"24px\"viewBox=\"0 0 24 24\"\n",
              "       width=\"24px\">\n",
              "    <path d=\"M0 0h24v24H0V0z\" fill=\"none\"/>\n",
              "    <path d=\"M18.56 5.44l.94 2.06.94-2.06 2.06-.94-2.06-.94-.94-2.06-.94 2.06-2.06.94zm-11 1L8.5 8.5l.94-2.06 2.06-.94-2.06-.94L8.5 2.5l-.94 2.06-2.06.94zm10 10l.94 2.06.94-2.06 2.06-.94-2.06-.94-.94-2.06-.94 2.06-2.06.94z\"/><path d=\"M17.41 7.96l-1.37-1.37c-.4-.4-.92-.59-1.43-.59-.52 0-1.04.2-1.43.59L10.3 9.45l-7.72 7.72c-.78.78-.78 2.05 0 2.83L4 21.41c.39.39.9.59 1.41.59.51 0 1.02-.2 1.41-.59l7.78-7.78 2.81-2.81c.8-.78.8-2.07 0-2.86zM5.41 20L4 18.59l7.72-7.72 1.47 1.35L5.41 20z\"/>\n",
              "  </svg>\n",
              "      </button>\n",
              "      \n",
              "  <style>\n",
              "    .colab-df-container {\n",
              "      display:flex;\n",
              "      flex-wrap:wrap;\n",
              "      gap: 12px;\n",
              "    }\n",
              "\n",
              "    .colab-df-convert {\n",
              "      background-color: #E8F0FE;\n",
              "      border: none;\n",
              "      border-radius: 50%;\n",
              "      cursor: pointer;\n",
              "      display: none;\n",
              "      fill: #1967D2;\n",
              "      height: 32px;\n",
              "      padding: 0 0 0 0;\n",
              "      width: 32px;\n",
              "    }\n",
              "\n",
              "    .colab-df-convert:hover {\n",
              "      background-color: #E2EBFA;\n",
              "      box-shadow: 0px 1px 2px rgba(60, 64, 67, 0.3), 0px 1px 3px 1px rgba(60, 64, 67, 0.15);\n",
              "      fill: #174EA6;\n",
              "    }\n",
              "\n",
              "    [theme=dark] .colab-df-convert {\n",
              "      background-color: #3B4455;\n",
              "      fill: #D2E3FC;\n",
              "    }\n",
              "\n",
              "    [theme=dark] .colab-df-convert:hover {\n",
              "      background-color: #434B5C;\n",
              "      box-shadow: 0px 1px 3px 1px rgba(0, 0, 0, 0.15);\n",
              "      filter: drop-shadow(0px 1px 2px rgba(0, 0, 0, 0.3));\n",
              "      fill: #FFFFFF;\n",
              "    }\n",
              "  </style>\n",
              "\n",
              "      <script>\n",
              "        const buttonEl =\n",
              "          document.querySelector('#df-eaf5c9fc-eda9-4937-98c8-8e939c5f72e5 button.colab-df-convert');\n",
              "        buttonEl.style.display =\n",
              "          google.colab.kernel.accessAllowed ? 'block' : 'none';\n",
              "\n",
              "        async function convertToInteractive(key) {\n",
              "          const element = document.querySelector('#df-eaf5c9fc-eda9-4937-98c8-8e939c5f72e5');\n",
              "          const dataTable =\n",
              "            await google.colab.kernel.invokeFunction('convertToInteractive',\n",
              "                                                     [key], {});\n",
              "          if (!dataTable) return;\n",
              "\n",
              "          const docLinkHtml = 'Like what you see? Visit the ' +\n",
              "            '<a target=\"_blank\" href=https://colab.research.google.com/notebooks/data_table.ipynb>data table notebook</a>'\n",
              "            + ' to learn more about interactive tables.';\n",
              "          element.innerHTML = '';\n",
              "          dataTable['output_type'] = 'display_data';\n",
              "          await google.colab.output.renderOutput(dataTable, element);\n",
              "          const docLink = document.createElement('div');\n",
              "          docLink.innerHTML = docLinkHtml;\n",
              "          element.appendChild(docLink);\n",
              "        }\n",
              "      </script>\n",
              "    </div>\n",
              "  </div>\n",
              "  "
            ]
          },
          "metadata": {},
          "execution_count": 20
        }
      ],
      "source": [
        "df_param_coeff = pd.DataFrame(columns=['Feature', 'Coefficient'])\n",
        "for i in range(len(list(X_sm.columns))):\n",
        "    feat = X_sm.columns[i]\n",
        "    coeff = importances[i]\n",
        "    df_param_coeff.loc[i] = (feat, coeff)\n",
        "df_param_coeff.sort_values(by='Coefficient', ascending=False, inplace=True)\n",
        "df_param_coeff = df_param_coeff.reset_index(drop=True)\n",
        "df_param_coeff.head(10)"
      ]
    },
    {
      "cell_type": "markdown",
      "metadata": {
        "id": "U_xv-Cv78qJ9"
      },
      "source": [
        "#### What can we infer from this data ?\n",
        "- StockOptionLevel affects attrition the most\n",
        "- So the company can focus on providing more stocks to employees\n",
        "- Then comes factors such as Job_Satisfaction and JobRole."
      ]
    },
    {
      "cell_type": "markdown",
      "metadata": {
        "id": "bja_aP2sc-bH"
      },
      "source": [
        "## Good to know: Greedy Approximation of DT"
      ]
    },
    {
      "cell_type": "markdown",
      "metadata": {
        "id": "OuEnRiCDcRgl"
      },
      "source": [
        "There is no guarantee that DT being created is going to be the most opitmal one\n",
        "\n",
        "* **Building an optimal Decision Tree is a NP-Complete problem** \n",
        "    - This means it can't be done in polynomial time\n",
        "   \n",
        "\n",
        "* So, we do **Greedy approximation**, which picks the feature which gives the best Information Gain\n",
        "    - The decision taken is the one that is best at that time\n",
        "    - It might not be the best for entire decision tree"
      ]
    },
    {
      "cell_type": "markdown",
      "metadata": {
        "id": "sLmD7qDydDHa"
      },
      "source": [
        "\n",
        "\n",
        "<img src='https://drive.google.com/uc?id=1RPdMDPcY6yPSngdtIYo9fMA9aFmadjg6'>\n"
      ]
    },
    {
      "cell_type": "markdown",
      "metadata": {
        "id": "xWMzXsKF7Y21"
      },
      "source": [
        "## Summary of Decision Tree"
      ]
    },
    {
      "cell_type": "markdown",
      "metadata": {
        "id": "uTxatbr07ecp"
      },
      "source": [
        "To summarise everything what we have learnt about decision tree:\n",
        "\n",
        "1.   Decision Trees work well **when the d (depth) is not too large**\n",
        "2. They have a very low **Run-time complexity** \n",
        "3. **No standardisation** is needed.\n",
        "4. Depth is the key **hyper-parameter**\n",
        "\n",
        "\n"
      ]
    },
    {
      "cell_type": "markdown",
      "metadata": {
        "id": "gPaE3__iBpWP"
      },
      "source": [
        "\n",
        "<img src='https://drive.google.com/uc?id=1qAHiBvWa19rqX-lI49DmmdZ4ATwoW9AB'>"
      ]
    }
  ]
}