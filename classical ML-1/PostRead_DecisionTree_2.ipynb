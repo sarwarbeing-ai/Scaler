{
  "cells": [
    {
      "cell_type": "markdown",
      "metadata": {
        "id": "M1Ik0cdLB2mp"
      },
      "source": [
        "## Content \n",
        "- **Entropy for Continuous Random Variable**\n",
        "\n",
        "- **Comparing Entropy for Continuous R.V**\n",
        "\n",
        "- **Gini Impurity Code walkthrough**"
      ]
    },
    {
      "cell_type": "markdown",
      "metadata": {
        "id": "smJdKVjf0xOt"
      },
      "source": [
        "## Formulation - Continuous R.V\n"
      ]
    },
    {
      "cell_type": "markdown",
      "metadata": {
        "id": "arR-KtLTiArS"
      },
      "source": [
        "In discrete random variable, we use summation over all values.\n",
        "\n",
        "When we have continous RV, this summation turns into integration.\n",
        "\n",
        "The forumlation becomes\n",
        "\n",
        "$H(Y) = -∫_∞^∞P(y)log(P(y))dy$\n",
        "\n",
        "where p(y) is probability density function\n",
        "\n"
      ]
    },
    {
      "cell_type": "markdown",
      "metadata": {
        "id": "r8JoxJ61hOFW"
      },
      "source": [
        "\n",
        "<img src='https://drive.google.com/uc?id=1L6Fn7ToAiY55yMPOjBU1FSuhD4HrEBEc'>\n",
        "\n"
      ]
    },
    {
      "cell_type": "markdown",
      "metadata": {
        "id": "oaU7fXFKFE34"
      },
      "source": [
        "## Comparing entropy for continuous R.V"
      ]
    },
    {
      "cell_type": "markdown",
      "metadata": {
        "id": "zBRJgRtD-1lU"
      },
      "source": [
        "\n",
        "```\n",
        "Say we have 3 continous random variables X, Y, Z \n",
        "and their distribution (PFF) is as follows:\n",
        "\n",
        "```\n",
        "\n",
        "\n",
        "<img src='https://drive.google.com/uc?id=1dh0CWPv6eAzELWlFHRIY6iODOAdGQdSz' width = 800>\n",
        "\n",
        "What will be the order of random variable in increasing order of entropy ? \n",
        "\n",
        " **Z < Y < X**\n",
        "\n",
        "Remember that entropy is the measure of randomness.\n",
        "\n",
        "- Here, Z has a peaked curve\n",
        "    - We are more likely to observe values in very small range (low variance) \n",
        "    - Means there is more certainity and less randomness\n",
        "    - Hence, Z will have lowest entropy\n",
        "\n",
        "- Random Variable Y has a large spread compared to Z\n",
        "    - we are more likely to observe value from a wider range\n",
        "    - meaning, there is more randomness in values\n",
        "    - Hence, it'll have high entropy compared to Z\n",
        "\n",
        "In similar fashion, X having the largest spread will have maximum entropy\n",
        "\n",
        "**More the variance, more the entropy**\n",
        "\n",
        "So, the order becomes Z < Y < X"
      ]
    },
    {
      "cell_type": "markdown",
      "source": [
        "## Gini Impurity"
      ],
      "metadata": {
        "id": "igGrSdjOE9bd"
      }
    },
    {
      "cell_type": "markdown",
      "source": [
        "### Code Walkthrough"
      ],
      "metadata": {
        "id": "2gykuYtyKNpb"
      }
    },
    {
      "cell_type": "code",
      "source": [
        "import pandas as pd\n",
        "import numpy as np\n"
      ],
      "metadata": {
        "id": "Mh7XPFCTL1s_"
      },
      "execution_count": null,
      "outputs": []
    },
    {
      "cell_type": "code",
      "source": [
        "!gdown  1l53Fgkg1G1ekCxxgaDQ00EXrnSMTeJj-"
      ],
      "metadata": {
        "colab": {
          "base_uri": "https://localhost:8080/"
        },
        "id": "uirV4ot4Lwf4",
        "outputId": "ed8ab15d-75b4-4ef3-bd0e-0153aa367e1e"
      },
      "execution_count": null,
      "outputs": [
        {
          "output_type": "stream",
          "name": "stdout",
          "text": [
            "Downloading...\n",
            "From: https://drive.google.com/uc?id=1l53Fgkg1G1ekCxxgaDQ00EXrnSMTeJj-\n",
            "To: /content/sample_data.csv\n",
            "\r  0% 0.00/32.5k [00:00<?, ?B/s]\r100% 32.5k/32.5k [00:00<00:00, 24.8MB/s]\n"
          ]
        }
      ]
    },
    {
      "cell_type": "code",
      "source": [
        "sample_data = pd.read_csv('sample_data.csv')"
      ],
      "metadata": {
        "id": "fIa-41qlLyuh"
      },
      "execution_count": null,
      "outputs": []
    },
    {
      "cell_type": "code",
      "source": [
        "sample_data"
      ],
      "metadata": {
        "colab": {
          "base_uri": "https://localhost:8080/",
          "height": 424
        },
        "id": "CfPhBr4UL1Fq",
        "outputId": "fa65491b-8ce2-430f-ed4a-202b01038743"
      },
      "execution_count": null,
      "outputs": [
        {
          "output_type": "execute_result",
          "data": {
            "text/plain": [
              "     Gender  Age_less_35                    JobRole  Attrition\n",
              "0      Male         True      Laboratory Technician          0\n",
              "1      Male        False            Sales Executive          1\n",
              "2      Male         True       Sales Representative          1\n",
              "3    Female        False  Healthcare Representative          0\n",
              "4      Male         True            Sales Executive          0\n",
              "..      ...          ...                        ...        ...\n",
              "995    Male        False      Laboratory Technician          1\n",
              "996  Female        False     Manufacturing Director          0\n",
              "997  Female         True            Sales Executive          0\n",
              "998    Male        False                    Manager          0\n",
              "999  Female         True      Laboratory Technician          0\n",
              "\n",
              "[1000 rows x 4 columns]"
            ],
            "text/html": [
              "\n",
              "  <div id=\"df-fb2362b6-7501-4e84-a657-b450203ac101\">\n",
              "    <div class=\"colab-df-container\">\n",
              "      <div>\n",
              "<style scoped>\n",
              "    .dataframe tbody tr th:only-of-type {\n",
              "        vertical-align: middle;\n",
              "    }\n",
              "\n",
              "    .dataframe tbody tr th {\n",
              "        vertical-align: top;\n",
              "    }\n",
              "\n",
              "    .dataframe thead th {\n",
              "        text-align: right;\n",
              "    }\n",
              "</style>\n",
              "<table border=\"1\" class=\"dataframe\">\n",
              "  <thead>\n",
              "    <tr style=\"text-align: right;\">\n",
              "      <th></th>\n",
              "      <th>Gender</th>\n",
              "      <th>Age_less_35</th>\n",
              "      <th>JobRole</th>\n",
              "      <th>Attrition</th>\n",
              "    </tr>\n",
              "  </thead>\n",
              "  <tbody>\n",
              "    <tr>\n",
              "      <th>0</th>\n",
              "      <td>Male</td>\n",
              "      <td>True</td>\n",
              "      <td>Laboratory Technician</td>\n",
              "      <td>0</td>\n",
              "    </tr>\n",
              "    <tr>\n",
              "      <th>1</th>\n",
              "      <td>Male</td>\n",
              "      <td>False</td>\n",
              "      <td>Sales Executive</td>\n",
              "      <td>1</td>\n",
              "    </tr>\n",
              "    <tr>\n",
              "      <th>2</th>\n",
              "      <td>Male</td>\n",
              "      <td>True</td>\n",
              "      <td>Sales Representative</td>\n",
              "      <td>1</td>\n",
              "    </tr>\n",
              "    <tr>\n",
              "      <th>3</th>\n",
              "      <td>Female</td>\n",
              "      <td>False</td>\n",
              "      <td>Healthcare Representative</td>\n",
              "      <td>0</td>\n",
              "    </tr>\n",
              "    <tr>\n",
              "      <th>4</th>\n",
              "      <td>Male</td>\n",
              "      <td>True</td>\n",
              "      <td>Sales Executive</td>\n",
              "      <td>0</td>\n",
              "    </tr>\n",
              "    <tr>\n",
              "      <th>...</th>\n",
              "      <td>...</td>\n",
              "      <td>...</td>\n",
              "      <td>...</td>\n",
              "      <td>...</td>\n",
              "    </tr>\n",
              "    <tr>\n",
              "      <th>995</th>\n",
              "      <td>Male</td>\n",
              "      <td>False</td>\n",
              "      <td>Laboratory Technician</td>\n",
              "      <td>1</td>\n",
              "    </tr>\n",
              "    <tr>\n",
              "      <th>996</th>\n",
              "      <td>Female</td>\n",
              "      <td>False</td>\n",
              "      <td>Manufacturing Director</td>\n",
              "      <td>0</td>\n",
              "    </tr>\n",
              "    <tr>\n",
              "      <th>997</th>\n",
              "      <td>Female</td>\n",
              "      <td>True</td>\n",
              "      <td>Sales Executive</td>\n",
              "      <td>0</td>\n",
              "    </tr>\n",
              "    <tr>\n",
              "      <th>998</th>\n",
              "      <td>Male</td>\n",
              "      <td>False</td>\n",
              "      <td>Manager</td>\n",
              "      <td>0</td>\n",
              "    </tr>\n",
              "    <tr>\n",
              "      <th>999</th>\n",
              "      <td>Female</td>\n",
              "      <td>True</td>\n",
              "      <td>Laboratory Technician</td>\n",
              "      <td>0</td>\n",
              "    </tr>\n",
              "  </tbody>\n",
              "</table>\n",
              "<p>1000 rows × 4 columns</p>\n",
              "</div>\n",
              "      <button class=\"colab-df-convert\" onclick=\"convertToInteractive('df-fb2362b6-7501-4e84-a657-b450203ac101')\"\n",
              "              title=\"Convert this dataframe to an interactive table.\"\n",
              "              style=\"display:none;\">\n",
              "        \n",
              "  <svg xmlns=\"http://www.w3.org/2000/svg\" height=\"24px\"viewBox=\"0 0 24 24\"\n",
              "       width=\"24px\">\n",
              "    <path d=\"M0 0h24v24H0V0z\" fill=\"none\"/>\n",
              "    <path d=\"M18.56 5.44l.94 2.06.94-2.06 2.06-.94-2.06-.94-.94-2.06-.94 2.06-2.06.94zm-11 1L8.5 8.5l.94-2.06 2.06-.94-2.06-.94L8.5 2.5l-.94 2.06-2.06.94zm10 10l.94 2.06.94-2.06 2.06-.94-2.06-.94-.94-2.06-.94 2.06-2.06.94z\"/><path d=\"M17.41 7.96l-1.37-1.37c-.4-.4-.92-.59-1.43-.59-.52 0-1.04.2-1.43.59L10.3 9.45l-7.72 7.72c-.78.78-.78 2.05 0 2.83L4 21.41c.39.39.9.59 1.41.59.51 0 1.02-.2 1.41-.59l7.78-7.78 2.81-2.81c.8-.78.8-2.07 0-2.86zM5.41 20L4 18.59l7.72-7.72 1.47 1.35L5.41 20z\"/>\n",
              "  </svg>\n",
              "      </button>\n",
              "      \n",
              "  <style>\n",
              "    .colab-df-container {\n",
              "      display:flex;\n",
              "      flex-wrap:wrap;\n",
              "      gap: 12px;\n",
              "    }\n",
              "\n",
              "    .colab-df-convert {\n",
              "      background-color: #E8F0FE;\n",
              "      border: none;\n",
              "      border-radius: 50%;\n",
              "      cursor: pointer;\n",
              "      display: none;\n",
              "      fill: #1967D2;\n",
              "      height: 32px;\n",
              "      padding: 0 0 0 0;\n",
              "      width: 32px;\n",
              "    }\n",
              "\n",
              "    .colab-df-convert:hover {\n",
              "      background-color: #E2EBFA;\n",
              "      box-shadow: 0px 1px 2px rgba(60, 64, 67, 0.3), 0px 1px 3px 1px rgba(60, 64, 67, 0.15);\n",
              "      fill: #174EA6;\n",
              "    }\n",
              "\n",
              "    [theme=dark] .colab-df-convert {\n",
              "      background-color: #3B4455;\n",
              "      fill: #D2E3FC;\n",
              "    }\n",
              "\n",
              "    [theme=dark] .colab-df-convert:hover {\n",
              "      background-color: #434B5C;\n",
              "      box-shadow: 0px 1px 3px 1px rgba(0, 0, 0, 0.15);\n",
              "      filter: drop-shadow(0px 1px 2px rgba(0, 0, 0, 0.3));\n",
              "      fill: #FFFFFF;\n",
              "    }\n",
              "  </style>\n",
              "\n",
              "      <script>\n",
              "        const buttonEl =\n",
              "          document.querySelector('#df-fb2362b6-7501-4e84-a657-b450203ac101 button.colab-df-convert');\n",
              "        buttonEl.style.display =\n",
              "          google.colab.kernel.accessAllowed ? 'block' : 'none';\n",
              "\n",
              "        async function convertToInteractive(key) {\n",
              "          const element = document.querySelector('#df-fb2362b6-7501-4e84-a657-b450203ac101');\n",
              "          const dataTable =\n",
              "            await google.colab.kernel.invokeFunction('convertToInteractive',\n",
              "                                                     [key], {});\n",
              "          if (!dataTable) return;\n",
              "\n",
              "          const docLinkHtml = 'Like what you see? Visit the ' +\n",
              "            '<a target=\"_blank\" href=https://colab.research.google.com/notebooks/data_table.ipynb>data table notebook</a>'\n",
              "            + ' to learn more about interactive tables.';\n",
              "          element.innerHTML = '';\n",
              "          dataTable['output_type'] = 'display_data';\n",
              "          await google.colab.output.renderOutput(dataTable, element);\n",
              "          const docLink = document.createElement('div');\n",
              "          docLink.innerHTML = docLinkHtml;\n",
              "          element.appendChild(docLink);\n",
              "        }\n",
              "      </script>\n",
              "    </div>\n",
              "  </div>\n",
              "  "
            ]
          },
          "metadata": {},
          "execution_count": 6
        }
      ]
    },
    {
      "cell_type": "code",
      "source": [
        "sample_data.Attrition.value_counts()"
      ],
      "metadata": {
        "colab": {
          "base_uri": "https://localhost:8080/"
        },
        "id": "nr20EM3-L7Sb",
        "outputId": "e673bad0-ca73-41ac-8dca-c13c8f310994"
      },
      "execution_count": null,
      "outputs": [
        {
          "output_type": "execute_result",
          "data": {
            "text/plain": [
              "0    831\n",
              "1    169\n",
              "Name: Attrition, dtype: int64"
            ]
          },
          "metadata": {},
          "execution_count": 7
        }
      ]
    },
    {
      "cell_type": "code",
      "source": [
        "def gini_impurity(y):\n",
        "    \n",
        "  if isinstance(y, pd.Series):\n",
        "    p = y.value_counts()/y.shape[0]\n",
        "    gini = 1-np.sum(p**2)\n",
        "    return gini\n",
        "\n",
        "  else:\n",
        "    raise('Object must be a Pandas Series.')"
      ],
      "metadata": {
        "id": "ZnXguOWCD6yp"
      },
      "execution_count": null,
      "outputs": []
    },
    {
      "cell_type": "code",
      "source": [
        "gini_impurity(sample_data.Attrition)"
      ],
      "metadata": {
        "colab": {
          "base_uri": "https://localhost:8080/"
        },
        "id": "je4xU5JZGth7",
        "outputId": "49d8cb33-6dcc-47ee-9ec8-3871931e452d"
      },
      "execution_count": null,
      "outputs": [
        {
          "output_type": "execute_result",
          "data": {
            "text/plain": [
              "0.28087799999999996"
            ]
          },
          "metadata": {},
          "execution_count": 9
        }
      ]
    },
    {
      "cell_type": "markdown",
      "source": [
        "#### Weighted Gini impurity for child node"
      ],
      "metadata": {
        "id": "lQmRJwaPHavh"
      }
    },
    {
      "cell_type": "code",
      "source": [
        "def calculate_weighted_gini(feature, y):\n",
        "    categories = feature.unique()\n",
        "\n",
        "    weighted_gini_impurity = 0\n",
        "\n",
        "    for category in categories:\n",
        "        y_category = y[feature == category]\n",
        "        gini_impurity_category = gini_impurity(y_category)\n",
        "        # print(category)\n",
        "        # print(gini_impurity_category)\n",
        "        weighted_gini_impurity += y_category.shape[0]/y.shape[0]*gini_impurity_category\n",
        "\n",
        "    \n",
        "    return weighted_gini_impurity"
      ],
      "metadata": {
        "id": "yGSoX93wGLK9"
      },
      "execution_count": null,
      "outputs": []
    },
    {
      "cell_type": "code",
      "source": [
        "calculate_weighted_gini(sample_data.Age_less_35, sample_data.Attrition)"
      ],
      "metadata": {
        "colab": {
          "base_uri": "https://localhost:8080/"
        },
        "id": "ZOVzVT1eG3oM",
        "outputId": "eddd2c6d-3e07-4665-a45d-fcc785c3c6d5"
      },
      "execution_count": null,
      "outputs": [
        {
          "output_type": "execute_result",
          "data": {
            "text/plain": [
              "0.2724771918985819"
            ]
          },
          "metadata": {},
          "execution_count": 11
        }
      ]
    }
  ],
  "metadata": {
    "colab": {
      "provenance": [],
      "toc_visible": true
    },
    "kernelspec": {
      "display_name": "Python 3",
      "name": "python3"
    },
    "language_info": {
      "name": "python"
    }
  },
  "nbformat": 4,
  "nbformat_minor": 0
}