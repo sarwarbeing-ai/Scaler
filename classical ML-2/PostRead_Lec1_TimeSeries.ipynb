{
  "nbformat": 4,
  "nbformat_minor": 0,
  "metadata": {
    "colab": {
      "provenance": []
    },
    "kernelspec": {
      "name": "python3",
      "display_name": "Python 3"
    },
    "language_info": {
      "name": "python"
    }
  },
  "cells": [
    {
      "cell_type": "markdown",
      "source": [
        "## Content\n",
        "- Resampling\n",
        "- Performance metrics for time series"
      ],
      "metadata": {
        "id": "uDnaqHqkceRW"
      }
    },
    {
      "cell_type": "markdown",
      "source": [
        "Importing the dependencies"
      ],
      "metadata": {
        "id": "PIdzOB5_z78A"
      }
    },
    {
      "cell_type": "code",
      "source": [
        "import numpy as np\n",
        "import pandas as pd\n",
        "import matplotlib.pyplot as plt\n",
        "\n",
        "plt.rcParams['figure.figsize'] = (20, 6)"
      ],
      "metadata": {
        "id": "nofQvOJjzvYG"
      },
      "execution_count": null,
      "outputs": []
    },
    {
      "cell_type": "markdown",
      "source": [
        "Let's use the same dataset as the one in lecture: **Mobilplus sales forecasting usecase**\n",
        "\n",
        "We will look into this time series data in depth during the lecture. For now, we're just using this"
      ],
      "metadata": {
        "id": "6Nod-wl-z_OX"
      }
    },
    {
      "cell_type": "code",
      "source": [
        "!gdown 1-pOuGRd8zuAUKBll-1xkr7_867NwoWHg"
      ],
      "metadata": {
        "colab": {
          "base_uri": "https://localhost:8080/"
        },
        "id": "DzBCrrzLzzJr",
        "outputId": "84317de3-b1c1-48ca-c5b9-2d9451ad5b5b"
      },
      "execution_count": null,
      "outputs": [
        {
          "output_type": "stream",
          "name": "stdout",
          "text": [
            "Downloading...\n",
            "From: https://drive.google.com/uc?id=1-pOuGRd8zuAUKBll-1xkr7_867NwoWHg\n",
            "To: /content/mobilesales.xlsx\n",
            "\r  0% 0.00/13.7k [00:00<?, ?B/s]\r100% 13.7k/13.7k [00:00<00:00, 11.1MB/s]\n"
          ]
        }
      ]
    },
    {
      "cell_type": "code",
      "source": [
        "mobile_sales = pd.read_excel('/content/mobilesales.xlsx')\n",
        "mobile_sales.head()"
      ],
      "metadata": {
        "colab": {
          "base_uri": "https://localhost:8080/",
          "height": 206
        },
        "id": "7lnuGtGKz1gD",
        "outputId": "6e86d813-f634-449b-b53d-7d4dd74df0c2"
      },
      "execution_count": null,
      "outputs": [
        {
          "output_type": "execute_result",
          "data": {
            "text/plain": [
              "        DATE   Sales\n",
              "0 2001-01-01  6519.0\n",
              "1 2001-02-01  6654.0\n",
              "2 2001-03-01  7332.0\n",
              "3 2001-04-01  7332.0\n",
              "4 2001-05-01  8240.0"
            ],
            "text/html": [
              "\n",
              "  <div id=\"df-fafc7e75-9cb5-4009-b2bd-2d6908420abd\">\n",
              "    <div class=\"colab-df-container\">\n",
              "      <div>\n",
              "<style scoped>\n",
              "    .dataframe tbody tr th:only-of-type {\n",
              "        vertical-align: middle;\n",
              "    }\n",
              "\n",
              "    .dataframe tbody tr th {\n",
              "        vertical-align: top;\n",
              "    }\n",
              "\n",
              "    .dataframe thead th {\n",
              "        text-align: right;\n",
              "    }\n",
              "</style>\n",
              "<table border=\"1\" class=\"dataframe\">\n",
              "  <thead>\n",
              "    <tr style=\"text-align: right;\">\n",
              "      <th></th>\n",
              "      <th>DATE</th>\n",
              "      <th>Sales</th>\n",
              "    </tr>\n",
              "  </thead>\n",
              "  <tbody>\n",
              "    <tr>\n",
              "      <th>0</th>\n",
              "      <td>2001-01-01</td>\n",
              "      <td>6519.0</td>\n",
              "    </tr>\n",
              "    <tr>\n",
              "      <th>1</th>\n",
              "      <td>2001-02-01</td>\n",
              "      <td>6654.0</td>\n",
              "    </tr>\n",
              "    <tr>\n",
              "      <th>2</th>\n",
              "      <td>2001-03-01</td>\n",
              "      <td>7332.0</td>\n",
              "    </tr>\n",
              "    <tr>\n",
              "      <th>3</th>\n",
              "      <td>2001-04-01</td>\n",
              "      <td>7332.0</td>\n",
              "    </tr>\n",
              "    <tr>\n",
              "      <th>4</th>\n",
              "      <td>2001-05-01</td>\n",
              "      <td>8240.0</td>\n",
              "    </tr>\n",
              "  </tbody>\n",
              "</table>\n",
              "</div>\n",
              "      <button class=\"colab-df-convert\" onclick=\"convertToInteractive('df-fafc7e75-9cb5-4009-b2bd-2d6908420abd')\"\n",
              "              title=\"Convert this dataframe to an interactive table.\"\n",
              "              style=\"display:none;\">\n",
              "        \n",
              "  <svg xmlns=\"http://www.w3.org/2000/svg\" height=\"24px\"viewBox=\"0 0 24 24\"\n",
              "       width=\"24px\">\n",
              "    <path d=\"M0 0h24v24H0V0z\" fill=\"none\"/>\n",
              "    <path d=\"M18.56 5.44l.94 2.06.94-2.06 2.06-.94-2.06-.94-.94-2.06-.94 2.06-2.06.94zm-11 1L8.5 8.5l.94-2.06 2.06-.94-2.06-.94L8.5 2.5l-.94 2.06-2.06.94zm10 10l.94 2.06.94-2.06 2.06-.94-2.06-.94-.94-2.06-.94 2.06-2.06.94z\"/><path d=\"M17.41 7.96l-1.37-1.37c-.4-.4-.92-.59-1.43-.59-.52 0-1.04.2-1.43.59L10.3 9.45l-7.72 7.72c-.78.78-.78 2.05 0 2.83L4 21.41c.39.39.9.59 1.41.59.51 0 1.02-.2 1.41-.59l7.78-7.78 2.81-2.81c.8-.78.8-2.07 0-2.86zM5.41 20L4 18.59l7.72-7.72 1.47 1.35L5.41 20z\"/>\n",
              "  </svg>\n",
              "      </button>\n",
              "      \n",
              "  <style>\n",
              "    .colab-df-container {\n",
              "      display:flex;\n",
              "      flex-wrap:wrap;\n",
              "      gap: 12px;\n",
              "    }\n",
              "\n",
              "    .colab-df-convert {\n",
              "      background-color: #E8F0FE;\n",
              "      border: none;\n",
              "      border-radius: 50%;\n",
              "      cursor: pointer;\n",
              "      display: none;\n",
              "      fill: #1967D2;\n",
              "      height: 32px;\n",
              "      padding: 0 0 0 0;\n",
              "      width: 32px;\n",
              "    }\n",
              "\n",
              "    .colab-df-convert:hover {\n",
              "      background-color: #E2EBFA;\n",
              "      box-shadow: 0px 1px 2px rgba(60, 64, 67, 0.3), 0px 1px 3px 1px rgba(60, 64, 67, 0.15);\n",
              "      fill: #174EA6;\n",
              "    }\n",
              "\n",
              "    [theme=dark] .colab-df-convert {\n",
              "      background-color: #3B4455;\n",
              "      fill: #D2E3FC;\n",
              "    }\n",
              "\n",
              "    [theme=dark] .colab-df-convert:hover {\n",
              "      background-color: #434B5C;\n",
              "      box-shadow: 0px 1px 3px 1px rgba(0, 0, 0, 0.15);\n",
              "      filter: drop-shadow(0px 1px 2px rgba(0, 0, 0, 0.3));\n",
              "      fill: #FFFFFF;\n",
              "    }\n",
              "  </style>\n",
              "\n",
              "      <script>\n",
              "        const buttonEl =\n",
              "          document.querySelector('#df-fafc7e75-9cb5-4009-b2bd-2d6908420abd button.colab-df-convert');\n",
              "        buttonEl.style.display =\n",
              "          google.colab.kernel.accessAllowed ? 'block' : 'none';\n",
              "\n",
              "        async function convertToInteractive(key) {\n",
              "          const element = document.querySelector('#df-fafc7e75-9cb5-4009-b2bd-2d6908420abd');\n",
              "          const dataTable =\n",
              "            await google.colab.kernel.invokeFunction('convertToInteractive',\n",
              "                                                     [key], {});\n",
              "          if (!dataTable) return;\n",
              "\n",
              "          const docLinkHtml = 'Like what you see? Visit the ' +\n",
              "            '<a target=\"_blank\" href=https://colab.research.google.com/notebooks/data_table.ipynb>data table notebook</a>'\n",
              "            + ' to learn more about interactive tables.';\n",
              "          element.innerHTML = '';\n",
              "          dataTable['output_type'] = 'display_data';\n",
              "          await google.colab.output.renderOutput(dataTable, element);\n",
              "          const docLink = document.createElement('div');\n",
              "          docLink.innerHTML = docLinkHtml;\n",
              "          element.appendChild(docLink);\n",
              "        }\n",
              "      </script>\n",
              "    </div>\n",
              "  </div>\n",
              "  "
            ]
          },
          "metadata": {},
          "execution_count": 21
        }
      ]
    },
    {
      "cell_type": "code",
      "source": [
        "# set index as date\n",
        "mobile_sales.set_index('DATE', inplace=True)\n",
        "\n",
        "mobile_sales.head()"
      ],
      "metadata": {
        "colab": {
          "base_uri": "https://localhost:8080/",
          "height": 237
        },
        "id": "buxLRpDxcYUU",
        "outputId": "e0f3256c-ae49-4ebb-bf92-b9a3e43f711f"
      },
      "execution_count": null,
      "outputs": [
        {
          "output_type": "execute_result",
          "data": {
            "text/plain": [
              "             Sales\n",
              "DATE              \n",
              "2001-01-01  6519.0\n",
              "2001-02-01  6654.0\n",
              "2001-03-01  7332.0\n",
              "2001-04-01  7332.0\n",
              "2001-05-01  8240.0"
            ],
            "text/html": [
              "\n",
              "  <div id=\"df-91e523b0-6a5c-47e4-9797-1e8c1296de13\">\n",
              "    <div class=\"colab-df-container\">\n",
              "      <div>\n",
              "<style scoped>\n",
              "    .dataframe tbody tr th:only-of-type {\n",
              "        vertical-align: middle;\n",
              "    }\n",
              "\n",
              "    .dataframe tbody tr th {\n",
              "        vertical-align: top;\n",
              "    }\n",
              "\n",
              "    .dataframe thead th {\n",
              "        text-align: right;\n",
              "    }\n",
              "</style>\n",
              "<table border=\"1\" class=\"dataframe\">\n",
              "  <thead>\n",
              "    <tr style=\"text-align: right;\">\n",
              "      <th></th>\n",
              "      <th>Sales</th>\n",
              "    </tr>\n",
              "    <tr>\n",
              "      <th>DATE</th>\n",
              "      <th></th>\n",
              "    </tr>\n",
              "  </thead>\n",
              "  <tbody>\n",
              "    <tr>\n",
              "      <th>2001-01-01</th>\n",
              "      <td>6519.0</td>\n",
              "    </tr>\n",
              "    <tr>\n",
              "      <th>2001-02-01</th>\n",
              "      <td>6654.0</td>\n",
              "    </tr>\n",
              "    <tr>\n",
              "      <th>2001-03-01</th>\n",
              "      <td>7332.0</td>\n",
              "    </tr>\n",
              "    <tr>\n",
              "      <th>2001-04-01</th>\n",
              "      <td>7332.0</td>\n",
              "    </tr>\n",
              "    <tr>\n",
              "      <th>2001-05-01</th>\n",
              "      <td>8240.0</td>\n",
              "    </tr>\n",
              "  </tbody>\n",
              "</table>\n",
              "</div>\n",
              "      <button class=\"colab-df-convert\" onclick=\"convertToInteractive('df-91e523b0-6a5c-47e4-9797-1e8c1296de13')\"\n",
              "              title=\"Convert this dataframe to an interactive table.\"\n",
              "              style=\"display:none;\">\n",
              "        \n",
              "  <svg xmlns=\"http://www.w3.org/2000/svg\" height=\"24px\"viewBox=\"0 0 24 24\"\n",
              "       width=\"24px\">\n",
              "    <path d=\"M0 0h24v24H0V0z\" fill=\"none\"/>\n",
              "    <path d=\"M18.56 5.44l.94 2.06.94-2.06 2.06-.94-2.06-.94-.94-2.06-.94 2.06-2.06.94zm-11 1L8.5 8.5l.94-2.06 2.06-.94-2.06-.94L8.5 2.5l-.94 2.06-2.06.94zm10 10l.94 2.06.94-2.06 2.06-.94-2.06-.94-.94-2.06-.94 2.06-2.06.94z\"/><path d=\"M17.41 7.96l-1.37-1.37c-.4-.4-.92-.59-1.43-.59-.52 0-1.04.2-1.43.59L10.3 9.45l-7.72 7.72c-.78.78-.78 2.05 0 2.83L4 21.41c.39.39.9.59 1.41.59.51 0 1.02-.2 1.41-.59l7.78-7.78 2.81-2.81c.8-.78.8-2.07 0-2.86zM5.41 20L4 18.59l7.72-7.72 1.47 1.35L5.41 20z\"/>\n",
              "  </svg>\n",
              "      </button>\n",
              "      \n",
              "  <style>\n",
              "    .colab-df-container {\n",
              "      display:flex;\n",
              "      flex-wrap:wrap;\n",
              "      gap: 12px;\n",
              "    }\n",
              "\n",
              "    .colab-df-convert {\n",
              "      background-color: #E8F0FE;\n",
              "      border: none;\n",
              "      border-radius: 50%;\n",
              "      cursor: pointer;\n",
              "      display: none;\n",
              "      fill: #1967D2;\n",
              "      height: 32px;\n",
              "      padding: 0 0 0 0;\n",
              "      width: 32px;\n",
              "    }\n",
              "\n",
              "    .colab-df-convert:hover {\n",
              "      background-color: #E2EBFA;\n",
              "      box-shadow: 0px 1px 2px rgba(60, 64, 67, 0.3), 0px 1px 3px 1px rgba(60, 64, 67, 0.15);\n",
              "      fill: #174EA6;\n",
              "    }\n",
              "\n",
              "    [theme=dark] .colab-df-convert {\n",
              "      background-color: #3B4455;\n",
              "      fill: #D2E3FC;\n",
              "    }\n",
              "\n",
              "    [theme=dark] .colab-df-convert:hover {\n",
              "      background-color: #434B5C;\n",
              "      box-shadow: 0px 1px 3px 1px rgba(0, 0, 0, 0.15);\n",
              "      filter: drop-shadow(0px 1px 2px rgba(0, 0, 0, 0.3));\n",
              "      fill: #FFFFFF;\n",
              "    }\n",
              "  </style>\n",
              "\n",
              "      <script>\n",
              "        const buttonEl =\n",
              "          document.querySelector('#df-91e523b0-6a5c-47e4-9797-1e8c1296de13 button.colab-df-convert');\n",
              "        buttonEl.style.display =\n",
              "          google.colab.kernel.accessAllowed ? 'block' : 'none';\n",
              "\n",
              "        async function convertToInteractive(key) {\n",
              "          const element = document.querySelector('#df-91e523b0-6a5c-47e4-9797-1e8c1296de13');\n",
              "          const dataTable =\n",
              "            await google.colab.kernel.invokeFunction('convertToInteractive',\n",
              "                                                     [key], {});\n",
              "          if (!dataTable) return;\n",
              "\n",
              "          const docLinkHtml = 'Like what you see? Visit the ' +\n",
              "            '<a target=\"_blank\" href=https://colab.research.google.com/notebooks/data_table.ipynb>data table notebook</a>'\n",
              "            + ' to learn more about interactive tables.';\n",
              "          element.innerHTML = '';\n",
              "          dataTable['output_type'] = 'display_data';\n",
              "          await google.colab.output.renderOutput(dataTable, element);\n",
              "          const docLink = document.createElement('div');\n",
              "          docLink.innerHTML = docLinkHtml;\n",
              "          element.appendChild(docLink);\n",
              "        }\n",
              "      </script>\n",
              "    </div>\n",
              "  </div>\n",
              "  "
            ]
          },
          "metadata": {},
          "execution_count": 22
        }
      ]
    },
    {
      "cell_type": "markdown",
      "source": [
        "\n",
        "\n",
        "## Resampling"
      ],
      "metadata": {
        "id": "iagVF4qYn6H0"
      }
    },
    {
      "cell_type": "markdown",
      "source": [
        "Looking at the datatime column, pandas can figure out that our data is indexed monthly.\n",
        "\n",
        "> **Q. What if instead of forecasting for a couple months, the client wants us to forecast the data for the next say, 3 years?**\n",
        "\n",
        "This is where the concept of **resampling** comes in.\n",
        "\n",
        "Here, it makes sense to resample the data into a year.\n",
        "\n",
        "This means, that instead of having monthly data, we resample the dataset to obtain yearly data.\n",
        "\n",
        "<br>\n",
        "\n",
        "#### Q. How can we obtain yearly sales data from monthly data?\n",
        "We can convert our monthly data to yearly data by simply adding the data for all 12 months in a year, and assigning that to a new variable, that represents that particular year.\n",
        "\n",
        "We do this by using the `resample()` method of pandas. \n",
        "\n",
        "Since we need to resample by year, we pass `'Y'` in the resample method.\n",
        "\n",
        "\n",
        "![picture](https://drive.google.com/uc?export=view&id=1ced-VScgLuErLA860uH1u8ihoNPk1nkx)\n",
        "\n",
        "\n",
        "<br>\n",
        "\n",
        "**NOTE:** \n",
        "- When we resample up to a year from monthly data, this is called **upsampling**.\n",
        "\n",
        "- This is very easy as we can simply take the sum of all the data points in a bucket, to obtain the upsampled data.\n"
      ],
      "metadata": {
        "id": "h8tHuj6Rc2bu"
      }
    },
    {
      "cell_type": "code",
      "source": [
        "mobile_sales.resample('Y').sum().head()"
      ],
      "metadata": {
        "colab": {
          "base_uri": "https://localhost:8080/",
          "height": 237
        },
        "id": "mvn51qGGk_vY",
        "outputId": "11cedba2-7017-40ad-ee19-ffbbd6ebf1c8"
      },
      "execution_count": null,
      "outputs": [
        {
          "output_type": "execute_result",
          "data": {
            "text/plain": [
              "               Sales\n",
              "DATE                \n",
              "2001-12-31   92119.0\n",
              "2002-12-31   72070.0\n",
              "2003-12-31   91843.0\n",
              "2004-12-31  104200.0\n",
              "2005-12-31  100343.0"
            ],
            "text/html": [
              "\n",
              "  <div id=\"df-efd8b610-e9ef-4145-b7e2-90a524f117e6\">\n",
              "    <div class=\"colab-df-container\">\n",
              "      <div>\n",
              "<style scoped>\n",
              "    .dataframe tbody tr th:only-of-type {\n",
              "        vertical-align: middle;\n",
              "    }\n",
              "\n",
              "    .dataframe tbody tr th {\n",
              "        vertical-align: top;\n",
              "    }\n",
              "\n",
              "    .dataframe thead th {\n",
              "        text-align: right;\n",
              "    }\n",
              "</style>\n",
              "<table border=\"1\" class=\"dataframe\">\n",
              "  <thead>\n",
              "    <tr style=\"text-align: right;\">\n",
              "      <th></th>\n",
              "      <th>Sales</th>\n",
              "    </tr>\n",
              "    <tr>\n",
              "      <th>DATE</th>\n",
              "      <th></th>\n",
              "    </tr>\n",
              "  </thead>\n",
              "  <tbody>\n",
              "    <tr>\n",
              "      <th>2001-12-31</th>\n",
              "      <td>92119.0</td>\n",
              "    </tr>\n",
              "    <tr>\n",
              "      <th>2002-12-31</th>\n",
              "      <td>72070.0</td>\n",
              "    </tr>\n",
              "    <tr>\n",
              "      <th>2003-12-31</th>\n",
              "      <td>91843.0</td>\n",
              "    </tr>\n",
              "    <tr>\n",
              "      <th>2004-12-31</th>\n",
              "      <td>104200.0</td>\n",
              "    </tr>\n",
              "    <tr>\n",
              "      <th>2005-12-31</th>\n",
              "      <td>100343.0</td>\n",
              "    </tr>\n",
              "  </tbody>\n",
              "</table>\n",
              "</div>\n",
              "      <button class=\"colab-df-convert\" onclick=\"convertToInteractive('df-efd8b610-e9ef-4145-b7e2-90a524f117e6')\"\n",
              "              title=\"Convert this dataframe to an interactive table.\"\n",
              "              style=\"display:none;\">\n",
              "        \n",
              "  <svg xmlns=\"http://www.w3.org/2000/svg\" height=\"24px\"viewBox=\"0 0 24 24\"\n",
              "       width=\"24px\">\n",
              "    <path d=\"M0 0h24v24H0V0z\" fill=\"none\"/>\n",
              "    <path d=\"M18.56 5.44l.94 2.06.94-2.06 2.06-.94-2.06-.94-.94-2.06-.94 2.06-2.06.94zm-11 1L8.5 8.5l.94-2.06 2.06-.94-2.06-.94L8.5 2.5l-.94 2.06-2.06.94zm10 10l.94 2.06.94-2.06 2.06-.94-2.06-.94-.94-2.06-.94 2.06-2.06.94z\"/><path d=\"M17.41 7.96l-1.37-1.37c-.4-.4-.92-.59-1.43-.59-.52 0-1.04.2-1.43.59L10.3 9.45l-7.72 7.72c-.78.78-.78 2.05 0 2.83L4 21.41c.39.39.9.59 1.41.59.51 0 1.02-.2 1.41-.59l7.78-7.78 2.81-2.81c.8-.78.8-2.07 0-2.86zM5.41 20L4 18.59l7.72-7.72 1.47 1.35L5.41 20z\"/>\n",
              "  </svg>\n",
              "      </button>\n",
              "      \n",
              "  <style>\n",
              "    .colab-df-container {\n",
              "      display:flex;\n",
              "      flex-wrap:wrap;\n",
              "      gap: 12px;\n",
              "    }\n",
              "\n",
              "    .colab-df-convert {\n",
              "      background-color: #E8F0FE;\n",
              "      border: none;\n",
              "      border-radius: 50%;\n",
              "      cursor: pointer;\n",
              "      display: none;\n",
              "      fill: #1967D2;\n",
              "      height: 32px;\n",
              "      padding: 0 0 0 0;\n",
              "      width: 32px;\n",
              "    }\n",
              "\n",
              "    .colab-df-convert:hover {\n",
              "      background-color: #E2EBFA;\n",
              "      box-shadow: 0px 1px 2px rgba(60, 64, 67, 0.3), 0px 1px 3px 1px rgba(60, 64, 67, 0.15);\n",
              "      fill: #174EA6;\n",
              "    }\n",
              "\n",
              "    [theme=dark] .colab-df-convert {\n",
              "      background-color: #3B4455;\n",
              "      fill: #D2E3FC;\n",
              "    }\n",
              "\n",
              "    [theme=dark] .colab-df-convert:hover {\n",
              "      background-color: #434B5C;\n",
              "      box-shadow: 0px 1px 3px 1px rgba(0, 0, 0, 0.15);\n",
              "      filter: drop-shadow(0px 1px 2px rgba(0, 0, 0, 0.3));\n",
              "      fill: #FFFFFF;\n",
              "    }\n",
              "  </style>\n",
              "\n",
              "      <script>\n",
              "        const buttonEl =\n",
              "          document.querySelector('#df-efd8b610-e9ef-4145-b7e2-90a524f117e6 button.colab-df-convert');\n",
              "        buttonEl.style.display =\n",
              "          google.colab.kernel.accessAllowed ? 'block' : 'none';\n",
              "\n",
              "        async function convertToInteractive(key) {\n",
              "          const element = document.querySelector('#df-efd8b610-e9ef-4145-b7e2-90a524f117e6');\n",
              "          const dataTable =\n",
              "            await google.colab.kernel.invokeFunction('convertToInteractive',\n",
              "                                                     [key], {});\n",
              "          if (!dataTable) return;\n",
              "\n",
              "          const docLinkHtml = 'Like what you see? Visit the ' +\n",
              "            '<a target=\"_blank\" href=https://colab.research.google.com/notebooks/data_table.ipynb>data table notebook</a>'\n",
              "            + ' to learn more about interactive tables.';\n",
              "          element.innerHTML = '';\n",
              "          dataTable['output_type'] = 'display_data';\n",
              "          await google.colab.output.renderOutput(dataTable, element);\n",
              "          const docLink = document.createElement('div');\n",
              "          docLink.innerHTML = docLinkHtml;\n",
              "          element.appendChild(docLink);\n",
              "        }\n",
              "      </script>\n",
              "    </div>\n",
              "  </div>\n",
              "  "
            ]
          },
          "metadata": {},
          "execution_count": 23
        }
      ]
    },
    {
      "cell_type": "markdown",
      "source": [
        "Notice that here, instead of monthly data, we get one data point for each year, with the date set as 31st December for each year.\n",
        "\n",
        "\n",
        "Lets plot this yearly data, to see how it looks."
      ],
      "metadata": {
        "id": "7G2HVsjzw2Jt"
      }
    },
    {
      "cell_type": "code",
      "source": [
        "mobile_sales.resample('Y').sum().plot(style='-o')"
      ],
      "metadata": {
        "colab": {
          "base_uri": "https://localhost:8080/",
          "height": 407
        },
        "id": "Eylmt64Ewv76",
        "outputId": "0919fcb1-6e22-4be3-916d-78bd3bcdfdfa"
      },
      "execution_count": null,
      "outputs": [
        {
          "output_type": "execute_result",
          "data": {
            "text/plain": [
              "<matplotlib.axes._subplots.AxesSubplot at 0x7fa2a470e690>"
            ]
          },
          "metadata": {},
          "execution_count": 24
        },
        {
          "output_type": "display_data",
          "data": {
            "text/plain": [
              "<Figure size 1440x432 with 1 Axes>"
            ],
            "image/png": "[encoded data removed]"
          },
          "metadata": {
            "needs_background": "light"
          }
        }
      ]
    },
    {
      "cell_type": "markdown",
      "source": [
        "> **Q. So What exactly is resampling?**\n",
        "\n",
        "Since we are looking at time series data, there may arise situations where we wish to manipulate the time frame of our data (seconds, days, months, years).\n",
        "\n",
        "Resampling means sampling the existing data according to our requirement, by either upsampling or downsampling.\n",
        "\n",
        "<br>\n",
        "\n",
        "> **Q. Why do we need to perform resampling?**\n",
        "\n",
        "In practice, there are 2 main reasons why using resample.\n",
        "1. To inspect how data behaves differently under different resolutions or frequency.\n",
        "2. To join datasets/tables with different resolutions.\n",
        "\n",
        "\n",
        "<br>\n",
        "\n",
        "> **Q. Are there any pre requisites to resampling?**\n",
        "\n",
        "There are 2 prerequisites to carry out resampling:\n",
        "\n",
        "1. The Datetime column must be in “datetime” or “timestamp” data type.\n",
        "2. The Datetime column must be the index. \n",
        " - Alternatively, you can use the ‘on’ parameter to define the column to carry out resampling (not supported in upsampling).\n",
        "\n",
        "As you can see, both these conditions are already met in our dataset.\n",
        "\n",
        " <br>\n",
        "\n",
        "> **Q. Why did we use `sum()`, is there any other way of doing resampling?**\n",
        "\n",
        "During resampling, we used the `sum()` method, because it makes logical sense to add up the monthly sales in order to obtain the yearly sale values.\n",
        "\n",
        "Yes, there are other ways of resampling.\n",
        "\n",
        "Instead of `sum()`, we could've theoretically used other methods such as `max(), min(), or mean()`. \n",
        "\n",
        "But in the context of upsampling in time series, that does not make sense."
      ],
      "metadata": {
        "id": "pcPPfuKMw-Cn"
      }
    },
    {
      "cell_type": "markdown",
      "source": [
        "We saw how we can upsample our data, by taking sum. \n",
        "\n",
        "> **Q. Can we downsample data as well?**\n",
        "\n",
        "Yes.\n",
        "\n",
        "Let's try downsampling by finding data indexed by **day**.\n",
        "\n",
        "For doing so, we will use `'D'` inside the `resample()` method."
      ],
      "metadata": {
        "id": "Tsg9yeCkl3NJ"
      }
    },
    {
      "cell_type": "code",
      "source": [
        "mobile_sales.resample('D').sum().head()"
      ],
      "metadata": {
        "id": "OwKoP56UmtHr",
        "colab": {
          "base_uri": "https://localhost:8080/",
          "height": 237
        },
        "outputId": "f0dcd246-8915-49e7-8c76-8bbaff31bf15"
      },
      "execution_count": null,
      "outputs": [
        {
          "output_type": "execute_result",
          "data": {
            "text/plain": [
              "             Sales\n",
              "DATE              \n",
              "2001-01-01  6519.0\n",
              "2001-01-02     0.0\n",
              "2001-01-03     0.0\n",
              "2001-01-04     0.0\n",
              "2001-01-05     0.0"
            ],
            "text/html": [
              "\n",
              "  <div id=\"df-a0792271-91e8-47a9-af35-16a5eb256f1b\">\n",
              "    <div class=\"colab-df-container\">\n",
              "      <div>\n",
              "<style scoped>\n",
              "    .dataframe tbody tr th:only-of-type {\n",
              "        vertical-align: middle;\n",
              "    }\n",
              "\n",
              "    .dataframe tbody tr th {\n",
              "        vertical-align: top;\n",
              "    }\n",
              "\n",
              "    .dataframe thead th {\n",
              "        text-align: right;\n",
              "    }\n",
              "</style>\n",
              "<table border=\"1\" class=\"dataframe\">\n",
              "  <thead>\n",
              "    <tr style=\"text-align: right;\">\n",
              "      <th></th>\n",
              "      <th>Sales</th>\n",
              "    </tr>\n",
              "    <tr>\n",
              "      <th>DATE</th>\n",
              "      <th></th>\n",
              "    </tr>\n",
              "  </thead>\n",
              "  <tbody>\n",
              "    <tr>\n",
              "      <th>2001-01-01</th>\n",
              "      <td>6519.0</td>\n",
              "    </tr>\n",
              "    <tr>\n",
              "      <th>2001-01-02</th>\n",
              "      <td>0.0</td>\n",
              "    </tr>\n",
              "    <tr>\n",
              "      <th>2001-01-03</th>\n",
              "      <td>0.0</td>\n",
              "    </tr>\n",
              "    <tr>\n",
              "      <th>2001-01-04</th>\n",
              "      <td>0.0</td>\n",
              "    </tr>\n",
              "    <tr>\n",
              "      <th>2001-01-05</th>\n",
              "      <td>0.0</td>\n",
              "    </tr>\n",
              "  </tbody>\n",
              "</table>\n",
              "</div>\n",
              "      <button class=\"colab-df-convert\" onclick=\"convertToInteractive('df-a0792271-91e8-47a9-af35-16a5eb256f1b')\"\n",
              "              title=\"Convert this dataframe to an interactive table.\"\n",
              "              style=\"display:none;\">\n",
              "        \n",
              "  <svg xmlns=\"http://www.w3.org/2000/svg\" height=\"24px\"viewBox=\"0 0 24 24\"\n",
              "       width=\"24px\">\n",
              "    <path d=\"M0 0h24v24H0V0z\" fill=\"none\"/>\n",
              "    <path d=\"M18.56 5.44l.94 2.06.94-2.06 2.06-.94-2.06-.94-.94-2.06-.94 2.06-2.06.94zm-11 1L8.5 8.5l.94-2.06 2.06-.94-2.06-.94L8.5 2.5l-.94 2.06-2.06.94zm10 10l.94 2.06.94-2.06 2.06-.94-2.06-.94-.94-2.06-.94 2.06-2.06.94z\"/><path d=\"M17.41 7.96l-1.37-1.37c-.4-.4-.92-.59-1.43-.59-.52 0-1.04.2-1.43.59L10.3 9.45l-7.72 7.72c-.78.78-.78 2.05 0 2.83L4 21.41c.39.39.9.59 1.41.59.51 0 1.02-.2 1.41-.59l7.78-7.78 2.81-2.81c.8-.78.8-2.07 0-2.86zM5.41 20L4 18.59l7.72-7.72 1.47 1.35L5.41 20z\"/>\n",
              "  </svg>\n",
              "      </button>\n",
              "      \n",
              "  <style>\n",
              "    .colab-df-container {\n",
              "      display:flex;\n",
              "      flex-wrap:wrap;\n",
              "      gap: 12px;\n",
              "    }\n",
              "\n",
              "    .colab-df-convert {\n",
              "      background-color: #E8F0FE;\n",
              "      border: none;\n",
              "      border-radius: 50%;\n",
              "      cursor: pointer;\n",
              "      display: none;\n",
              "      fill: #1967D2;\n",
              "      height: 32px;\n",
              "      padding: 0 0 0 0;\n",
              "      width: 32px;\n",
              "    }\n",
              "\n",
              "    .colab-df-convert:hover {\n",
              "      background-color: #E2EBFA;\n",
              "      box-shadow: 0px 1px 2px rgba(60, 64, 67, 0.3), 0px 1px 3px 1px rgba(60, 64, 67, 0.15);\n",
              "      fill: #174EA6;\n",
              "    }\n",
              "\n",
              "    [theme=dark] .colab-df-convert {\n",
              "      background-color: #3B4455;\n",
              "      fill: #D2E3FC;\n",
              "    }\n",
              "\n",
              "    [theme=dark] .colab-df-convert:hover {\n",
              "      background-color: #434B5C;\n",
              "      box-shadow: 0px 1px 3px 1px rgba(0, 0, 0, 0.15);\n",
              "      filter: drop-shadow(0px 1px 2px rgba(0, 0, 0, 0.3));\n",
              "      fill: #FFFFFF;\n",
              "    }\n",
              "  </style>\n",
              "\n",
              "      <script>\n",
              "        const buttonEl =\n",
              "          document.querySelector('#df-a0792271-91e8-47a9-af35-16a5eb256f1b button.colab-df-convert');\n",
              "        buttonEl.style.display =\n",
              "          google.colab.kernel.accessAllowed ? 'block' : 'none';\n",
              "\n",
              "        async function convertToInteractive(key) {\n",
              "          const element = document.querySelector('#df-a0792271-91e8-47a9-af35-16a5eb256f1b');\n",
              "          const dataTable =\n",
              "            await google.colab.kernel.invokeFunction('convertToInteractive',\n",
              "                                                     [key], {});\n",
              "          if (!dataTable) return;\n",
              "\n",
              "          const docLinkHtml = 'Like what you see? Visit the ' +\n",
              "            '<a target=\"_blank\" href=https://colab.research.google.com/notebooks/data_table.ipynb>data table notebook</a>'\n",
              "            + ' to learn more about interactive tables.';\n",
              "          element.innerHTML = '';\n",
              "          dataTable['output_type'] = 'display_data';\n",
              "          await google.colab.output.renderOutput(dataTable, element);\n",
              "          const docLink = document.createElement('div');\n",
              "          docLink.innerHTML = docLinkHtml;\n",
              "          element.appendChild(docLink);\n",
              "        }\n",
              "      </script>\n",
              "    </div>\n",
              "  </div>\n",
              "  "
            ]
          },
          "metadata": {},
          "execution_count": 25
        }
      ]
    },
    {
      "cell_type": "markdown",
      "source": [
        "Uh-oh, there seems to be a problem!\n",
        "\n",
        "<br>\n",
        "\n",
        "> **Q. What went wrong in downsampling?**\n",
        "\n",
        "We are trying to find out daily sales data from the given monthly sales data.\n",
        "\n",
        "And we used `sum()` method as the aggregate function for resampling.\n",
        "\n",
        "So, technically, nothing went wrong \n",
        "- We were able to successfully obtain daily sales data such that \n",
        "- the sum of daily mobile sales in a month is in fact equal to the monthly sale values.\n",
        "\n",
        "We are essentially trying to fill in the values that we don't have.\n",
        "\n",
        "<br>\n",
        "\n",
        "> **Q. How do we go about solving this problem?**\n",
        "\n",
        "Intuitively, we can think that if the number of mobiles sold in a month, say January is X, then the number of mobiles sold each day is $X / 31$, where 31 is the number of days in the month of January.\n",
        "\n",
        "$\\frac{X}{31} + \\frac{X}{31} + ...31 \\ times = X$\n",
        "\n",
        "This will give us the best estimate for daily data\n",
        "\n",
        "<br>\n",
        "\n",
        "So we use **forward fill** here, which replaces all values of days in January with the monthly value of January, and then we can simply divide this with the number of months in January i.e. 31\n",
        "\n",
        "<br>\n",
        "\n",
        "> **Q. So essentially we're taking the average of values, why not just change the aggregate function to `mean()`?**\n",
        "\n",
        "\n",
        "This makes logical sense, Let's try doing this."
      ],
      "metadata": {
        "id": "ivVZkLBYmxm7"
      }
    },
    {
      "cell_type": "code",
      "source": [
        "mobile_sales.resample('D').mean().head()"
      ],
      "metadata": {
        "id": "WNb68B_oMSvV",
        "colab": {
          "base_uri": "https://localhost:8080/",
          "height": 237
        },
        "outputId": "a0c59fea-adb8-425f-b3d0-17fb16dadbb6"
      },
      "execution_count": null,
      "outputs": [
        {
          "output_type": "execute_result",
          "data": {
            "text/plain": [
              "             Sales\n",
              "DATE              \n",
              "2001-01-01  6519.0\n",
              "2001-01-02     NaN\n",
              "2001-01-03     NaN\n",
              "2001-01-04     NaN\n",
              "2001-01-05     NaN"
            ],
            "text/html": [
              "\n",
              "  <div id=\"df-014f99c8-cf26-48c1-9148-a8f2d9089f20\">\n",
              "    <div class=\"colab-df-container\">\n",
              "      <div>\n",
              "<style scoped>\n",
              "    .dataframe tbody tr th:only-of-type {\n",
              "        vertical-align: middle;\n",
              "    }\n",
              "\n",
              "    .dataframe tbody tr th {\n",
              "        vertical-align: top;\n",
              "    }\n",
              "\n",
              "    .dataframe thead th {\n",
              "        text-align: right;\n",
              "    }\n",
              "</style>\n",
              "<table border=\"1\" class=\"dataframe\">\n",
              "  <thead>\n",
              "    <tr style=\"text-align: right;\">\n",
              "      <th></th>\n",
              "      <th>Sales</th>\n",
              "    </tr>\n",
              "    <tr>\n",
              "      <th>DATE</th>\n",
              "      <th></th>\n",
              "    </tr>\n",
              "  </thead>\n",
              "  <tbody>\n",
              "    <tr>\n",
              "      <th>2001-01-01</th>\n",
              "      <td>6519.0</td>\n",
              "    </tr>\n",
              "    <tr>\n",
              "      <th>2001-01-02</th>\n",
              "      <td>NaN</td>\n",
              "    </tr>\n",
              "    <tr>\n",
              "      <th>2001-01-03</th>\n",
              "      <td>NaN</td>\n",
              "    </tr>\n",
              "    <tr>\n",
              "      <th>2001-01-04</th>\n",
              "      <td>NaN</td>\n",
              "    </tr>\n",
              "    <tr>\n",
              "      <th>2001-01-05</th>\n",
              "      <td>NaN</td>\n",
              "    </tr>\n",
              "  </tbody>\n",
              "</table>\n",
              "</div>\n",
              "      <button class=\"colab-df-convert\" onclick=\"convertToInteractive('df-014f99c8-cf26-48c1-9148-a8f2d9089f20')\"\n",
              "              title=\"Convert this dataframe to an interactive table.\"\n",
              "              style=\"display:none;\">\n",
              "        \n",
              "  <svg xmlns=\"http://www.w3.org/2000/svg\" height=\"24px\"viewBox=\"0 0 24 24\"\n",
              "       width=\"24px\">\n",
              "    <path d=\"M0 0h24v24H0V0z\" fill=\"none\"/>\n",
              "    <path d=\"M18.56 5.44l.94 2.06.94-2.06 2.06-.94-2.06-.94-.94-2.06-.94 2.06-2.06.94zm-11 1L8.5 8.5l.94-2.06 2.06-.94-2.06-.94L8.5 2.5l-.94 2.06-2.06.94zm10 10l.94 2.06.94-2.06 2.06-.94-2.06-.94-.94-2.06-.94 2.06-2.06.94z\"/><path d=\"M17.41 7.96l-1.37-1.37c-.4-.4-.92-.59-1.43-.59-.52 0-1.04.2-1.43.59L10.3 9.45l-7.72 7.72c-.78.78-.78 2.05 0 2.83L4 21.41c.39.39.9.59 1.41.59.51 0 1.02-.2 1.41-.59l7.78-7.78 2.81-2.81c.8-.78.8-2.07 0-2.86zM5.41 20L4 18.59l7.72-7.72 1.47 1.35L5.41 20z\"/>\n",
              "  </svg>\n",
              "      </button>\n",
              "      \n",
              "  <style>\n",
              "    .colab-df-container {\n",
              "      display:flex;\n",
              "      flex-wrap:wrap;\n",
              "      gap: 12px;\n",
              "    }\n",
              "\n",
              "    .colab-df-convert {\n",
              "      background-color: #E8F0FE;\n",
              "      border: none;\n",
              "      border-radius: 50%;\n",
              "      cursor: pointer;\n",
              "      display: none;\n",
              "      fill: #1967D2;\n",
              "      height: 32px;\n",
              "      padding: 0 0 0 0;\n",
              "      width: 32px;\n",
              "    }\n",
              "\n",
              "    .colab-df-convert:hover {\n",
              "      background-color: #E2EBFA;\n",
              "      box-shadow: 0px 1px 2px rgba(60, 64, 67, 0.3), 0px 1px 3px 1px rgba(60, 64, 67, 0.15);\n",
              "      fill: #174EA6;\n",
              "    }\n",
              "\n",
              "    [theme=dark] .colab-df-convert {\n",
              "      background-color: #3B4455;\n",
              "      fill: #D2E3FC;\n",
              "    }\n",
              "\n",
              "    [theme=dark] .colab-df-convert:hover {\n",
              "      background-color: #434B5C;\n",
              "      box-shadow: 0px 1px 3px 1px rgba(0, 0, 0, 0.15);\n",
              "      filter: drop-shadow(0px 1px 2px rgba(0, 0, 0, 0.3));\n",
              "      fill: #FFFFFF;\n",
              "    }\n",
              "  </style>\n",
              "\n",
              "      <script>\n",
              "        const buttonEl =\n",
              "          document.querySelector('#df-014f99c8-cf26-48c1-9148-a8f2d9089f20 button.colab-df-convert');\n",
              "        buttonEl.style.display =\n",
              "          google.colab.kernel.accessAllowed ? 'block' : 'none';\n",
              "\n",
              "        async function convertToInteractive(key) {\n",
              "          const element = document.querySelector('#df-014f99c8-cf26-48c1-9148-a8f2d9089f20');\n",
              "          const dataTable =\n",
              "            await google.colab.kernel.invokeFunction('convertToInteractive',\n",
              "                                                     [key], {});\n",
              "          if (!dataTable) return;\n",
              "\n",
              "          const docLinkHtml = 'Like what you see? Visit the ' +\n",
              "            '<a target=\"_blank\" href=https://colab.research.google.com/notebooks/data_table.ipynb>data table notebook</a>'\n",
              "            + ' to learn more about interactive tables.';\n",
              "          element.innerHTML = '';\n",
              "          dataTable['output_type'] = 'display_data';\n",
              "          await google.colab.output.renderOutput(dataTable, element);\n",
              "          const docLink = document.createElement('div');\n",
              "          docLink.innerHTML = docLinkHtml;\n",
              "          element.appendChild(docLink);\n",
              "        }\n",
              "      </script>\n",
              "    </div>\n",
              "  </div>\n",
              "  "
            ]
          },
          "metadata": {},
          "execution_count": 26
        }
      ]
    },
    {
      "cell_type": "markdown",
      "source": [
        "As you can see, using `mean()` as the aggregate function just ends up assigning the monthly value to the 1st of each month, and assigns all other days' sales value as **NaN**."
      ],
      "metadata": {
        "id": "exulPi7fONuF"
      }
    },
    {
      "cell_type": "code",
      "source": [
        "temp = mobile_sales.resample('D').mean().fillna(method='ffill')\n",
        "temp['year-month'] = temp.index.year * 100 + temp.index.month\n",
        "temp['base'] = temp.groupby('year-month')['Sales'].transform('count')\n",
        "temp['Sales'] = temp['Sales'] / temp['base']\n",
        "temp.head()"
      ],
      "metadata": {
        "id": "a0oJfk7bHDx2",
        "colab": {
          "base_uri": "https://localhost:8080/",
          "height": 237
        },
        "outputId": "6580b906-fb58-43c1-f93f-cc30e34d5cf4"
      },
      "execution_count": null,
      "outputs": [
        {
          "output_type": "execute_result",
          "data": {
            "text/plain": [
              "                 Sales  year-month  base\n",
              "DATE                                    \n",
              "2001-01-01  210.290323      200101    31\n",
              "2001-01-02  210.290323      200101    31\n",
              "2001-01-03  210.290323      200101    31\n",
              "2001-01-04  210.290323      200101    31\n",
              "2001-01-05  210.290323      200101    31"
            ],
            "text/html": [
              "\n",
              "  <div id=\"df-05fffc13-a0f3-4657-870d-0a73934731a9\">\n",
              "    <div class=\"colab-df-container\">\n",
              "      <div>\n",
              "<style scoped>\n",
              "    .dataframe tbody tr th:only-of-type {\n",
              "        vertical-align: middle;\n",
              "    }\n",
              "\n",
              "    .dataframe tbody tr th {\n",
              "        vertical-align: top;\n",
              "    }\n",
              "\n",
              "    .dataframe thead th {\n",
              "        text-align: right;\n",
              "    }\n",
              "</style>\n",
              "<table border=\"1\" class=\"dataframe\">\n",
              "  <thead>\n",
              "    <tr style=\"text-align: right;\">\n",
              "      <th></th>\n",
              "      <th>Sales</th>\n",
              "      <th>year-month</th>\n",
              "      <th>base</th>\n",
              "    </tr>\n",
              "    <tr>\n",
              "      <th>DATE</th>\n",
              "      <th></th>\n",
              "      <th></th>\n",
              "      <th></th>\n",
              "    </tr>\n",
              "  </thead>\n",
              "  <tbody>\n",
              "    <tr>\n",
              "      <th>2001-01-01</th>\n",
              "      <td>210.290323</td>\n",
              "      <td>200101</td>\n",
              "      <td>31</td>\n",
              "    </tr>\n",
              "    <tr>\n",
              "      <th>2001-01-02</th>\n",
              "      <td>210.290323</td>\n",
              "      <td>200101</td>\n",
              "      <td>31</td>\n",
              "    </tr>\n",
              "    <tr>\n",
              "      <th>2001-01-03</th>\n",
              "      <td>210.290323</td>\n",
              "      <td>200101</td>\n",
              "      <td>31</td>\n",
              "    </tr>\n",
              "    <tr>\n",
              "      <th>2001-01-04</th>\n",
              "      <td>210.290323</td>\n",
              "      <td>200101</td>\n",
              "      <td>31</td>\n",
              "    </tr>\n",
              "    <tr>\n",
              "      <th>2001-01-05</th>\n",
              "      <td>210.290323</td>\n",
              "      <td>200101</td>\n",
              "      <td>31</td>\n",
              "    </tr>\n",
              "  </tbody>\n",
              "</table>\n",
              "</div>\n",
              "      <button class=\"colab-df-convert\" onclick=\"convertToInteractive('df-05fffc13-a0f3-4657-870d-0a73934731a9')\"\n",
              "              title=\"Convert this dataframe to an interactive table.\"\n",
              "              style=\"display:none;\">\n",
              "        \n",
              "  <svg xmlns=\"http://www.w3.org/2000/svg\" height=\"24px\"viewBox=\"0 0 24 24\"\n",
              "       width=\"24px\">\n",
              "    <path d=\"M0 0h24v24H0V0z\" fill=\"none\"/>\n",
              "    <path d=\"M18.56 5.44l.94 2.06.94-2.06 2.06-.94-2.06-.94-.94-2.06-.94 2.06-2.06.94zm-11 1L8.5 8.5l.94-2.06 2.06-.94-2.06-.94L8.5 2.5l-.94 2.06-2.06.94zm10 10l.94 2.06.94-2.06 2.06-.94-2.06-.94-.94-2.06-.94 2.06-2.06.94z\"/><path d=\"M17.41 7.96l-1.37-1.37c-.4-.4-.92-.59-1.43-.59-.52 0-1.04.2-1.43.59L10.3 9.45l-7.72 7.72c-.78.78-.78 2.05 0 2.83L4 21.41c.39.39.9.59 1.41.59.51 0 1.02-.2 1.41-.59l7.78-7.78 2.81-2.81c.8-.78.8-2.07 0-2.86zM5.41 20L4 18.59l7.72-7.72 1.47 1.35L5.41 20z\"/>\n",
              "  </svg>\n",
              "      </button>\n",
              "      \n",
              "  <style>\n",
              "    .colab-df-container {\n",
              "      display:flex;\n",
              "      flex-wrap:wrap;\n",
              "      gap: 12px;\n",
              "    }\n",
              "\n",
              "    .colab-df-convert {\n",
              "      background-color: #E8F0FE;\n",
              "      border: none;\n",
              "      border-radius: 50%;\n",
              "      cursor: pointer;\n",
              "      display: none;\n",
              "      fill: #1967D2;\n",
              "      height: 32px;\n",
              "      padding: 0 0 0 0;\n",
              "      width: 32px;\n",
              "    }\n",
              "\n",
              "    .colab-df-convert:hover {\n",
              "      background-color: #E2EBFA;\n",
              "      box-shadow: 0px 1px 2px rgba(60, 64, 67, 0.3), 0px 1px 3px 1px rgba(60, 64, 67, 0.15);\n",
              "      fill: #174EA6;\n",
              "    }\n",
              "\n",
              "    [theme=dark] .colab-df-convert {\n",
              "      background-color: #3B4455;\n",
              "      fill: #D2E3FC;\n",
              "    }\n",
              "\n",
              "    [theme=dark] .colab-df-convert:hover {\n",
              "      background-color: #434B5C;\n",
              "      box-shadow: 0px 1px 3px 1px rgba(0, 0, 0, 0.15);\n",
              "      filter: drop-shadow(0px 1px 2px rgba(0, 0, 0, 0.3));\n",
              "      fill: #FFFFFF;\n",
              "    }\n",
              "  </style>\n",
              "\n",
              "      <script>\n",
              "        const buttonEl =\n",
              "          document.querySelector('#df-05fffc13-a0f3-4657-870d-0a73934731a9 button.colab-df-convert');\n",
              "        buttonEl.style.display =\n",
              "          google.colab.kernel.accessAllowed ? 'block' : 'none';\n",
              "\n",
              "        async function convertToInteractive(key) {\n",
              "          const element = document.querySelector('#df-05fffc13-a0f3-4657-870d-0a73934731a9');\n",
              "          const dataTable =\n",
              "            await google.colab.kernel.invokeFunction('convertToInteractive',\n",
              "                                                     [key], {});\n",
              "          if (!dataTable) return;\n",
              "\n",
              "          const docLinkHtml = 'Like what you see? Visit the ' +\n",
              "            '<a target=\"_blank\" href=https://colab.research.google.com/notebooks/data_table.ipynb>data table notebook</a>'\n",
              "            + ' to learn more about interactive tables.';\n",
              "          element.innerHTML = '';\n",
              "          dataTable['output_type'] = 'display_data';\n",
              "          await google.colab.output.renderOutput(dataTable, element);\n",
              "          const docLink = document.createElement('div');\n",
              "          docLink.innerHTML = docLinkHtml;\n",
              "          element.appendChild(docLink);\n",
              "        }\n",
              "      </script>\n",
              "    </div>\n",
              "  </div>\n",
              "  "
            ]
          },
          "metadata": {},
          "execution_count": 27
        }
      ]
    },
    {
      "cell_type": "markdown",
      "source": [
        "> **Q. Why bother performing downsampling?**\n",
        "\n",
        "Though, this is not adding any more information, there may arise a situation where we need to resample just because we need to **mix up** another signal which is in daily level.\n",
        "\n",
        "So, in order to mix the two signals, we need to first downsample our given data, which is in monthly level.\n",
        "\n",
        "![picture](https://drive.google.com/uc?export=view&id=1-sZGuTrCa4WMPzug1rA2yg4scLERYLhD)\n",
        "\n",
        "<br>\n",
        "\n"
      ],
      "metadata": {
        "id": "2TYV-6Y-goVq"
      }
    },
    {
      "cell_type": "markdown",
      "source": [
        "## Performance Metrics in a time series"
      ],
      "metadata": {
        "id": "85qNls5_Uwpa"
      }
    },
    {
      "cell_type": "markdown",
      "source": [
        "Before getting into performance metrics, Let's do all the data processing we learnt about in the lecture\n",
        "- Setting index as date\n",
        "- Perform linear interpolation\n",
        "- Taking care of anomalies by clipping values using quantiles\n",
        "- Plotting the resultant time series"
      ],
      "metadata": {
        "id": "jhZs6DcK0uHC"
      }
    },
    {
      "cell_type": "code",
      "source": [
        "# index already set as date column\n",
        "\n",
        "# linear interpolation \n",
        "mobile_sales.Sales = mobile_sales.Sales.interpolate(method='linear')\n",
        "\n",
        "# anomalies - clip quantiles\n",
        "mobile_sales.Sales = mobile_sales.Sales.clip(upper=mobile_sales.Sales.quantile(0.98), lower=mobile_sales.Sales.quantile(0.02))\n",
        "\n",
        "# plot\n",
        "mobile_sales.Sales.plot(style='-o', figsize=(20,6))"
      ],
      "metadata": {
        "colab": {
          "base_uri": "https://localhost:8080/",
          "height": 406
        },
        "id": "pQV-Dayk0h5V",
        "outputId": "3563e6c9-d9a2-4ec8-ab40-c329d6ef1f83"
      },
      "execution_count": null,
      "outputs": [
        {
          "output_type": "execute_result",
          "data": {
            "text/plain": [
              "<matplotlib.axes._subplots.AxesSubplot at 0x7fa2a46be650>"
            ]
          },
          "metadata": {},
          "execution_count": 28
        },
        {
          "output_type": "display_data",
          "data": {
            "text/plain": [
              "<Figure size 1440x432 with 1 Axes>"
            ],
            "image/png": "[encoded data removed]"
          },
          "metadata": {
            "needs_background": "light"
          }
        }
      ]
    },
    {
      "cell_type": "code",
      "source": [
        "# Splitting our data in train and test sets\n",
        "# Will be covered in Lecture 2 of time series\n",
        "\n",
        "train_x = mobile_sales.loc[mobile_sales.index < mobile_sales.index[-12]].copy()\n",
        "test_x = mobile_sales.loc[mobile_sales.index >= mobile_sales.index[-12]].copy()"
      ],
      "metadata": {
        "id": "gKpFSSX6xO7Z"
      },
      "execution_count": null,
      "outputs": []
    },
    {
      "cell_type": "markdown",
      "source": [
        "\n",
        "\n",
        "Lets take a look at a few performance metrics that help us evaluate how good or bad our forecasts are in a time series, by implementing them over a simple **Naive Model** of forecasting.\n",
        "\n",
        "You have already learnt all of these metrics.\n",
        "\n",
        "Let's see them getting used in context  of time series."
      ],
      "metadata": {
        "id": "3NmZ93dQX_2L"
      }
    },
    {
      "cell_type": "code",
      "source": [
        "# Naive forecast: Forecasting the last value of the series forever\n",
        "\n",
        "test_x['pred'] = train_x['Sales'][-1]"
      ],
      "metadata": {
        "id": "H_0_7QH_xqHC"
      },
      "execution_count": null,
      "outputs": []
    },
    {
      "cell_type": "markdown",
      "source": [
        "### 1. Mean Error"
      ],
      "metadata": {
        "id": "HD4n1jkI1RQf"
      }
    },
    {
      "cell_type": "markdown",
      "source": [
        "ME is a measure of the average of the difference between each Actual and predicted value.\n",
        "\n",
        "The formula for Mean Absolute Error is as follows:\n"
      ],
      "metadata": {
        "id": "Zyo1h15x1VLP"
      }
    },
    {
      "cell_type": "markdown",
      "source": [
        "<center><h3> $ME = \\frac{1}{N} \\sum_{i=1}^{N} y_{i}-\\hat{y}_{i}$</h3></center>\n",
        "\n",
        "In the above equation, \n",
        "\n",
        "$\\hat{y}$ -> predicted value and  <br>\n",
        "y -> actual value. <br>\n",
        "N -> total no. of observations\n",
        "\n",
        "\n",
        "AIM: to get a ME value near 0"
      ],
      "metadata": {
        "id": "TKcLZwFx327O"
      }
    },
    {
      "cell_type": "code",
      "source": [
        "mean_error = np.sum(test_x['Sales'] - test_x['pred']) / len(test_x)\n",
        "\n",
        "print(mean_error)"
      ],
      "metadata": {
        "colab": {
          "base_uri": "https://localhost:8080/"
        },
        "id": "i9C8jCoDxn7k",
        "outputId": "b7c677cc-393a-4224-c00f-dec4a2342bd6"
      },
      "execution_count": null,
      "outputs": [
        {
          "output_type": "stream",
          "name": "stdout",
          "text": [
            "3434.2333333333336\n"
          ]
        }
      ]
    },
    {
      "cell_type": "markdown",
      "source": [
        "\n",
        "**Note:** This is the same as **residual** we looked in the lecture.\n",
        "\n",
        "<br>\n",
        "\n",
        "#### Q. What do we want our residual to look like?\n",
        "- Ideally we would like a value near 0, this way we know that even though sometimes we overpredict or underpredict, on an average, we're getting negligible error.\n",
        "\n",
        "- Expected to be **normal** distribution.\n",
        "- Have lower standard deviation.\n",
        "\n",
        "<br>\n",
        "\n",
        "#### Q. What is the problem with ME?\n",
        "The problem is that, positive and negative errors cancel each other's effect. \n",
        "\n",
        "So we can get a very good ME score, but the model would actually be performing very bad."
      ],
      "metadata": {
        "id": "D8BQ-Jgw2AOB"
      }
    },
    {
      "cell_type": "markdown",
      "source": [
        "### 2. Mean Absolute Error (MAE)\n",
        "\n",
        "So to overcome this cancellation of negative and positive errors we use **Mean Absolute error** which takes the **absolute error of the terms** \n",
        "\n",
        "Mean Absolute Error is a measure of the average of the absolute difference between each Actual and predicted value.  \n",
        "\n",
        "The formula for Mean Absolute Error is as follows:\n"
      ],
      "metadata": {
        "id": "2DihiA2DZUWG"
      }
    },
    {
      "cell_type": "markdown",
      "source": [
        "<center><h3> $MAE = \\frac{1}{N} \\sum_{i=1}^{N}\\left | y_{i}-\\hat{y}_{i} \\right |$</h3></center>"
      ],
      "metadata": {
        "id": "v-K8eG7Xnb4_"
      }
    },
    {
      "cell_type": "code",
      "source": [
        "from sklearn.metrics import mean_absolute_error as mae\n",
        "\n",
        "print(mae(test_x['Sales'], test_x['pred']))"
      ],
      "metadata": {
        "colab": {
          "base_uri": "https://localhost:8080/"
        },
        "id": "7OqZvC7hyzMl",
        "outputId": "0104b932-62e4-4b89-f79f-410c5d02e7c0"
      },
      "execution_count": null,
      "outputs": [
        {
          "output_type": "stream",
          "name": "stdout",
          "text": [
            "3434.2333333333336\n"
          ]
        }
      ]
    },
    {
      "cell_type": "markdown",
      "source": [
        "\n",
        "AIM: to get a minimum MAE value\n",
        "\n",
        "This will always be a positive value."
      ],
      "metadata": {
        "id": "UDg2NoD1a1cW"
      }
    },
    {
      "cell_type": "markdown",
      "source": [
        "### 3. Mean Square Error (MSE)\n",
        "- Takes the average of the square of the difference between the original values and the predicted values.\n",
        "- As we take square of the error, the effect of **larger errors** (sometimes outliers) become **more pronounced** then smaller error as a result of which model will be **penalized more for bad predictions**.\n",
        "- Before applying MSE, we must **eliminate all nulls/infinites** from the input.\n",
        "- **Not robust** to outliers\n",
        "- **Range (0, + infinity]**\n",
        "\n",
        "Formula to calculate MSE is as follows:-"
      ],
      "metadata": {
        "id": "SGhRhGX4br7g"
      }
    },
    {
      "cell_type": "markdown",
      "source": [
        "<center><h3> $MSE = \\frac{1}{N}\\sum_{i=1}^{N} (y_{i} - \\hat{y}_{i})^2$ </h3></center>"
      ],
      "metadata": {
        "id": "uJYIoNFxnIcz"
      }
    },
    {
      "cell_type": "markdown",
      "source": [
        "AIM: To get minimum MSE value"
      ],
      "metadata": {
        "id": "A927LlJ9cslC"
      }
    },
    {
      "cell_type": "code",
      "source": [
        "# Importing in-built function from sklearn.metrics\n",
        "from sklearn.metrics import mean_squared_error\n",
        "\n",
        "print(\"MSE: \", mean_squared_error(test_x['Sales'], test_x['pred']))"
      ],
      "metadata": {
        "colab": {
          "base_uri": "https://localhost:8080/"
        },
        "id": "CuXkyx9Rcw4D",
        "outputId": "61ecae89-44cb-4f47-9a93-0d7a07e8f1b9"
      },
      "execution_count": null,
      "outputs": [
        {
          "output_type": "stream",
          "name": "stdout",
          "text": [
            "MSE:  13667844.726666668\n"
          ]
        }
      ]
    },
    {
      "cell_type": "markdown",
      "source": [
        "The problem with MSE is that, it becomes **exponentially larger**.\n",
        "\n",
        "It is not in the scale of unit of time series, it is in $(unit)^2$.\n",
        "- Our time series is in range of 6000 to 16,000\n",
        "- MSE is 1,36,67,844.727\n",
        "\n",
        "Hence we look at RMSE."
      ],
      "metadata": {
        "id": "35hx_ugfuUMQ"
      }
    },
    {
      "cell_type": "markdown",
      "source": [
        "### 4. Root Mean Square Error (RMSE)\n",
        "Root mean Squared Error is defined as the square root of the average of the squared difference between the predicted values and actual values.\n",
        "\n",
        "It is essentially the square root of MSE"
      ],
      "metadata": {
        "id": "nlZhdecUdA7B"
      }
    },
    {
      "cell_type": "markdown",
      "source": [
        "<center><h3> $RMSE = \\sqrt{\\frac{\\sum_{i=1}^{N} (y_{i} - \\hat{y}_{i})^2}{N}}$</h3></center>"
      ],
      "metadata": {
        "id": "_vMPBms2m7Nn"
      }
    },
    {
      "cell_type": "code",
      "source": [
        "print(\"RMSE: \", np.sqrt(mean_squared_error(test_x['Sales'], test_x['pred'])))"
      ],
      "metadata": {
        "colab": {
          "base_uri": "https://localhost:8080/"
        },
        "id": "YP4vOkcodY9f",
        "outputId": "fe96ea99-c647-4284-f267-4574bd2f5e42"
      },
      "execution_count": null,
      "outputs": [
        {
          "output_type": "stream",
          "name": "stdout",
          "text": [
            "RMSE:  3697.0048318424833\n"
          ]
        }
      ]
    },
    {
      "cell_type": "markdown",
      "source": [
        "- Notice that the RMSE is **greater than MAE**. \n",
        "- The reason is RMSE is squaring the difference between the predictions and the ground truth, any significant difference is made more substantial when it is being squared. \n",
        "- **RMSE is more sensitive to outliers.**\n",
        "\n",
        "AIM: To get a minimum RMSE value"
      ],
      "metadata": {
        "id": "sxgJhza3dZc5"
      }
    },
    {
      "cell_type": "markdown",
      "source": [
        "### 5. Mean Absolute Percentage Error (MAPE)"
      ],
      "metadata": {
        "id": "9W3EUL1o7lYO"
      }
    },
    {
      "cell_type": "markdown",
      "source": [
        "To get the percentage error values we use **Mean Absolute Percentage Error** (MAPE), which is obtained by dividing the absolute error with actual value and finding the mean of these terms.\n",
        "\n",
        "Formula:\n",
        " "
      ],
      "metadata": {
        "id": "o5VGUfKcRqr2"
      }
    },
    {
      "cell_type": "markdown",
      "source": [
        "<center><h3> $MAPE = \\frac{1}{N} \\sum_{i=1}^{N}\\left | \\frac{y_{i}-\\hat{y}_{i}}{y_i} \\right |$</h3></center>"
      ],
      "metadata": {
        "id": "1dWg13hI7xQv"
      }
    },
    {
      "cell_type": "code",
      "source": [
        "from sklearn.metrics import mean_absolute_percentage_error as mape\n",
        "\n",
        "print(mape(test_x['Sales'], test_x['pred']))"
      ],
      "metadata": {
        "colab": {
          "base_uri": "https://localhost:8080/"
        },
        "id": "-QQgEDkBzycl",
        "outputId": "b44dddc7-5317-4959-a972-2ee73036aa1f"
      },
      "execution_count": null,
      "outputs": [
        {
          "output_type": "stream",
          "name": "stdout",
          "text": [
            "0.2304265941596256\n"
          ]
        }
      ]
    },
    {
      "cell_type": "markdown",
      "source": [
        "So, there is a 23% error in these forecasts. \n",
        "\n",
        "#### Q. What is advantage of MAPE?\n",
        "In other metrics we've seen, we would need to look at that metric's value for all the models we're trying, to understand how each model performs. \n",
        "\n",
        "They provide relative comparison of models.\n",
        "\n",
        "With MAPE, we get an percentage of correct forecasts. We don't need to to look at MAPE values of other models to get an idea of how our model is performing.\n",
        "\n",
        "<br>\n",
        "\n",
        "#### Q. What if y = 0 for a point?\n",
        "That would be a problem as MAPE would become **undefined** for the entire data that way.\n",
        "\n",
        "Therefore, one would have to use another metric for the points where real value is 0. This is just inconvenient.\n"
      ],
      "metadata": {
        "id": "8RBrpW_8sCbp"
      }
    },
    {
      "cell_type": "markdown",
      "source": [
        "**NOTE:**\n",
        "- It isn't always easy to select one single metric for performance evaluation.\n",
        "- Sometimes, based on the domain, you would need to try out a bunch of different metrics, to check the performance."
      ],
      "metadata": {
        "id": "2qDGWpkuuf6S"
      }
    },
    {
      "cell_type": "markdown",
      "source": [
        "So, we can see that the Naive Method of forecasting is not a very good performing method.\n",
        "\n",
        "In the next lecture, we will look at other models of forecasting a time series."
      ],
      "metadata": {
        "id": "SCML6lB-0MPB"
      }
    }
  ]
}