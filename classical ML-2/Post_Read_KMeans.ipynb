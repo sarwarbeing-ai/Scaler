{
  "nbformat": 4,
  "nbformat_minor": 0,
  "metadata": {
    "colab": {
      "provenance": []
    },
    "kernelspec": {
      "name": "python3",
      "display_name": "Python 3"
    },
    "language_info": {
      "name": "python"
    }
  },
  "cells": [
    {
      "cell_type": "markdown",
      "source": [
        "One way that clustering can be defined as 'good' or 'bad' is WCSS. It is Within Cluster Sum of Squares that signifies the squared distances between the centroid and the other cluster points of a respective cluster.\n",
        "\n",
        "\n",
        "Ideally, we would want that our clusters are densely packed by the data points and two clusters are far apart and well separated from each other.\n",
        "\n",
        "The first requirement can be measured by WCSS while the second one cant be. For this, there are two more unit through which we can measure it.\n",
        "\n",
        "They are: \n",
        "1. Dunn Index\n",
        "2. Silhouette Score"
      ],
      "metadata": {
        "id": "0fG5ieqiJC_g"
      }
    },
    {
      "cell_type": "markdown",
      "source": [
        "## **Dunn Index**\n",
        "\n",
        "- It is a metric for evaluating clustering algorithms\n",
        "- The objective of Dunn index is to identify clusters that are:\n",
        " - compact with a small variance between members of the cluster\n",
        " - and well separated.\n",
        "\n",
        "- Dunn Index is denoted by **‘D’** and is given as:\n",
        "\n",
        "$D = \\frac{min_{i,j} distance(i,j)}{max_k distance^{'}(k)}$\n",
        "\n",
        "where; \n",
        "- $distance(i,j)$ → distance between the farthest points of the clusters $C_i$ and $C_j$ → **Inter-Cluster distance**\n",
        "\n",
        "- ${distance^{'}(k)}$ → distance between the farthest points within the $k^{th}$ clusters **Intra-Cluster distance**\n",
        "\n",
        "<img src='https://d2beiqkhq929f0.cloudfront.net/public_assets/assets/000/008/125/original/Screenshot_2022-07-29_at_3.53.47_PM.png?1659089763' height = '500' width = '800'>\n",
        "\n",
        "\n",
        "<img src='https://d2beiqkhq929f0.cloudfront.net/public_assets/assets/000/008/126/original/Screenshot_2022-07-29_at_3.56.07_PM.png?1659089899' height = '500' width = '800'>\n",
        "\n",
        "\n",
        "- If $Dunn-index$ is high, it implies that clusters are well separated and the points in the same cluster are intact. \n",
        "- For every pair of points from $C_i$ and $C_j$, we have to compute **$distance(i,j)$** for getting the inter cluster distance.\n",
        "- Similarly for calculating the **$distance'(k)$** we will have to iterate through each pair of points within $k^{th}$ cluster\n",
        "\n",
        "<img src='https://d2beiqkhq929f0.cloudfront.net/public_assets/assets/000/008/127/original/Screenshot_2022-07-29_at_3.57.44_PM.png?1659089997' height = '500' width = '800'>\n",
        "\n",
        "\n"
      ],
      "metadata": {
        "id": "DCWfj71uKzPt"
      }
    },
    {
      "cell_type": "markdown",
      "source": [
        "## **Silhouette Score**\n",
        "\n",
        "- The silhouette score of a point **measures how close that point lies to its nearest neighbor points, across all clusters**. \n",
        "\n",
        "- It provides information about clustering quality which can be used to determine whether further refinement by clustering should be performed on the current clustering.\n",
        "\n",
        "- An instance’s silhouette coefficient is equal to $\\Large\\frac{(b – a)}{max(a, b)}$, where; \n",
        "\n",
        " - $a$ is the the mean intra-cluster distance (i.e., mean distance to the other instances in the same cluster)\n",
        "\n",
        " - $b$ is the nearest mean inter-cluster distance (i.e., the mean distance to the instances of the next closest cluster). It is defined such that the instance’s own cluster is excluding. \n",
        "\n",
        "<img src='https://d2beiqkhq929f0.cloudfront.net/public_assets/assets/000/008/308/original/Screenshot_2022-08-02_at_6.47.39_PM.png?1659445799' height = '500' width = '800'>\n",
        "\n",
        ">**Instructor Note**:\n",
        "Ask the learners about the range of Silhouette score.\n",
        "\n",
        "**Q. What's the range of silhouette score?**\n",
        "\n",
        "- The range of Silhouette score is [-1, 1].\n",
        "\n",
        "- Score is $1$ when $b > a$ and $a = 0$\n",
        "\n",
        "  - implying that the points in the same cluster are very close. \n",
        "  - In this case the points within the same cluster are very close whereas the points in the other clusters are at some distance.\n",
        "\n",
        "<img src='https://d2beiqkhq929f0.cloudfront.net/public_assets/assets/000/008/311/original/Screenshot_2022-08-02_at_7.05.22_PM.png?1659446843' height = '500' width = '800'>\n",
        "\n",
        "- Score is $-1$ when $a > b$ and $b = 0$\n",
        "\n",
        "  - In this case the points from the same cluster of the current instance are at some distance but the points from the other clusters are overlapping with the current instance.\n",
        "\n",
        "<img src='https://d2beiqkhq929f0.cloudfront.net/public_assets/assets/000/008/310/original/Screenshot_2022-08-02_at_7.02.19_PM.png?1659446661' height = '500' width = '800'>\n",
        "\n",
        "- Ideally we want our Silhouette score to be closer to $1$, because we do want that our inter-cluster distances should be greater than intra-cluster distances.\n",
        "\n",
        "- This is a more precise alternative to **Inertia (within cluster sum of squares (also called SSE))** and Elbow curve!\n",
        "\n",
        "- A more precise approach (but also more computationally expensive) is to use the silhouette score, which is the mean silhouette coefficient over all the instances. \n",
        "\n",
        "#### **Interpreting Silhouette scores**\n",
        "\n",
        "- A coefficient close to $+1$ means that the instance is well inside its own cluster and far from other clusters, \n",
        "\n",
        "- While a coefficient close to $0$ means that it is close to a cluster boundary, \n",
        "\n",
        "- A coefficient close to $–1$ means that the instance may have been assigned to the wrong cluster.\n",
        "\n"
      ],
      "metadata": {
        "id": "Ck0z7oBK72WZ"
      }
    }
  ]
}