{
  "nbformat": 4,
  "nbformat_minor": 0,
  "metadata": {
    "colab": {
      "provenance": []
    },
    "kernelspec": {
      "name": "python3",
      "display_name": "Python 3"
    },
    "language_info": {
      "name": "python"
    }
  },
  "cells": [
    {
      "cell_type": "code",
      "execution_count": null,
      "metadata": {
        "id": "E0Pr64Ur6f64"
      },
      "outputs": [],
      "source": []
    },
    {
      "cell_type": "markdown",
      "metadata": {
        "id": "uuNVKdNaeRfN"
      },
      "source": [
        "# **Porter Delivery time estimation**"
      ]
    },
    {
      "cell_type": "markdown",
      "metadata": {
        "id": "MFS1vKc6d5r_"
      },
      "source": [
        "Porter is India's Largest Marketplace for Intra-City Logistics. Leader in the country's $40 billion intra-city logistics market, Porter strives to improve the lives of 1,50,000+ driver-partners by providing them with consistent earning & independence. Currently, the company has serviced 5+ million customers \n",
        "\n",
        "Porter works with a wide range of restaurants for delivering their items directly to the people.\n"
      ]
    },
    {
      "cell_type": "markdown",
      "metadata": {
        "id": "Jo5GN6wvedT_"
      },
      "source": [
        "**Problem statement**\n",
        "\n",
        "\n",
        "Porter has a number of delivery partners available for delivering the food, from various restaurants and wants to get an estimated delivery time that it can provide the customers on the basis of what they are ordering, from where and also the delivery partners.\n",
        "\n",
        "This dataset has the required data to train a regression model that will do the delivery time esimation, based on all those features"
      ]
    },
    {
      "cell_type": "markdown",
      "metadata": {
        "id": "C2Rt_w9GfNLw"
      },
      "source": [
        "**Data Dictionary**"
      ]
    },
    {
      "cell_type": "markdown",
      "metadata": {
        "id": "YHBYJZgTTcLz"
      },
      "source": [
        "market_id : integer id for the market where the restaurant lies\n",
        "\n",
        "created_at : the timestamp at which the order was placed\n",
        "\n",
        "actual_delivery_time : the timestamp when the order was delivered\n",
        "\n",
        "store_id\t: encoded id for different stores\n",
        "\n",
        "store_primary_category\t: category for the restaurant\n",
        "\n",
        "order_protocol\t: integer code value for order protocol(how the order was placed ie: through porter, call to restaurant, prebooked, third part etc)\n",
        "\n",
        "total_items\tsubtotal\t: final price of the order\n",
        "\n",
        "num_distinct_items\t: the number of distinct items in the order\n",
        "\n",
        "min_item_price\t: price of the cheapest item in the order\n",
        "\n",
        "max_item_price\t: price of the costliest item in order\n",
        "\n",
        "total_onshift_partners\t: number of delivery partners on duty at the time order was placed\n",
        "\n",
        "total_busy_partners\t: number of delivery partners attending to other tasks\n",
        "\n",
        "total_outstanding_orders\t: total number of orders to be fulfilled at the moment\n",
        "\n",
        "\n"
      ]
    },
    {
      "cell_type": "markdown",
      "metadata": {
        "id": "7slC3_3xpeD7"
      },
      "source": [
        "**broad steps in the notebook**\n",
        "\n",
        "*   load the data and understand the features\n",
        "*   feature engineering creating target variable(time taken for each order)\n",
        "*   cleaning the data and visualization\n",
        "*   preparing the data for training\n",
        "*   random forest regression\n",
        "*   neural network regression\n",
        "*   comarision of both ways\n",
        "\n",
        "\n",
        "\n"
      ]
    },
    {
      "cell_type": "code",
      "execution_count": null,
      "metadata": {
        "collapsed": true,
        "id": "MBbeazq5JVNa"
      },
      "outputs": [],
      "source": [
        "#for reding and handling the data\n",
        "import pandas as pd\n",
        "import numpy as np\n",
        "import os\n",
        "\n",
        "#for visualizing and analyzing it\n",
        "import matplotlib.pyplot as plt\n",
        "import seaborn as sns\n",
        "\n",
        "#data preprocessing\n",
        "from sklearn.preprocessing import StandardScaler\n",
        "from sklearn.model_selection import train_test_split\n",
        "\n",
        "#random forest model training\n",
        "from sklearn.metrics import mean_squared_error\n",
        "from sklearn.metrics import r2_score\n",
        "from sklearn.metrics import mean_absolute_error\n",
        "from sklearn.metrics import mean_absolute_percentage_error as sk_mape\n",
        "from sklearn.ensemble import RandomForestRegressor\n",
        "\n",
        "#Ann training\n",
        "import tensorflow as tf\n",
        "from tensorflow.keras import Model\n",
        "from tensorflow.keras import Sequential\n",
        "from tensorflow.keras.optimizers import Adam\n",
        "from tensorflow.keras.layers import Dense, Dropout, BatchNormalization, LeakyReLU\n",
        "from sklearn.model_selection import train_test_split\n",
        "from tensorflow.keras.losses import MeanSquaredLogarithmicError\n",
        "from tensorflow.keras.losses import MeanSquaredError\n",
        "from tensorflow.keras.losses import MeanAbsolutePercentageError\n",
        "\n",
        "\n",
        "from tensorflow.keras.metrics import  mean_absolute_percentage_error\n",
        "from tensorflow.keras.metrics import RootMeanSquaredError\n",
        "from tensorflow.keras.metrics import MeanAbsoluteError\n",
        "from tensorflow.keras.optimizers import SGD, Adam"
      ]
    },
    {
      "cell_type": "code",
      "source": [
        "!pip install --upgrade --no-cache-dir gdown"
      ],
      "metadata": {
        "colab": {
          "base_uri": "https://localhost:8080/"
        },
        "id": "Omgz8kL5GnmU",
        "outputId": "94d04288-e1f5-45b9-b585-e8a8623fbbe2"
      },
      "execution_count": null,
      "outputs": [
        {
          "output_type": "stream",
          "name": "stdout",
          "text": [
            "Looking in indexes: https://pypi.org/simple, https://us-python.pkg.dev/colab-wheels/public/simple/\n",
            "Requirement already satisfied: gdown in /usr/local/lib/python3.8/dist-packages (4.4.0)\n",
            "Collecting gdown\n",
            "  Downloading gdown-4.6.4-py3-none-any.whl (14 kB)\n",
            "Requirement already satisfied: beautifulsoup4 in /usr/local/lib/python3.8/dist-packages (from gdown) (4.6.3)\n",
            "Requirement already satisfied: filelock in /usr/local/lib/python3.8/dist-packages (from gdown) (3.9.0)\n",
            "Requirement already satisfied: six in /usr/local/lib/python3.8/dist-packages (from gdown) (1.15.0)\n",
            "Requirement already satisfied: tqdm in /usr/local/lib/python3.8/dist-packages (from gdown) (4.64.1)\n",
            "Requirement already satisfied: requests[socks] in /usr/local/lib/python3.8/dist-packages (from gdown) (2.25.1)\n",
            "Requirement already satisfied: idna<3,>=2.5 in /usr/local/lib/python3.8/dist-packages (from requests[socks]->gdown) (2.10)\n",
            "Requirement already satisfied: certifi>=2017.4.17 in /usr/local/lib/python3.8/dist-packages (from requests[socks]->gdown) (2022.12.7)\n",
            "Requirement already satisfied: urllib3<1.27,>=1.21.1 in /usr/local/lib/python3.8/dist-packages (from requests[socks]->gdown) (1.24.3)\n",
            "Requirement already satisfied: chardet<5,>=3.0.2 in /usr/local/lib/python3.8/dist-packages (from requests[socks]->gdown) (4.0.0)\n",
            "Requirement already satisfied: PySocks!=1.5.7,>=1.5.6 in /usr/local/lib/python3.8/dist-packages (from requests[socks]->gdown) (1.7.1)\n",
            "Installing collected packages: gdown\n",
            "  Attempting uninstall: gdown\n",
            "    Found existing installation: gdown 4.4.0\n",
            "    Uninstalling gdown-4.4.0:\n",
            "      Successfully uninstalled gdown-4.4.0\n",
            "Successfully installed gdown-4.6.4\n"
          ]
        }
      ]
    },
    {
      "cell_type": "code",
      "execution_count": null,
      "metadata": {
        "id": "hPx2_cQvi_ZW"
      },
      "outputs": [],
      "source": [
        "import gdown"
      ]
    },
    {
      "cell_type": "code",
      "execution_count": null,
      "metadata": {
        "id": "OAs7JQ7U3MGU"
      },
      "outputs": [],
      "source": [
        "sns.set(rc={'figure.figsize':(11.7,8.27)})\n"
      ]
    },
    {
      "cell_type": "code",
      "source": [
        "!gdown 1ZBqyRJ9NTA7Dp94mn6xRY_6nmcDojCCZ"
      ],
      "metadata": {
        "colab": {
          "base_uri": "https://localhost:8080/"
        },
        "id": "XTHxUrpjGEyD",
        "outputId": "0c6c85b8-6b3c-412b-b389-cea12d3e8aed"
      },
      "execution_count": null,
      "outputs": [
        {
          "output_type": "stream",
          "name": "stdout",
          "text": [
            "Downloading...\n",
            "From: https://drive.google.com/uc?id=1ZBqyRJ9NTA7Dp94mn6xRY_6nmcDojCCZ\n",
            "To: /content/dataset.csv\n",
            "100% 23.8M/23.8M [00:00<00:00, 210MB/s]\n"
          ]
        }
      ]
    },
    {
      "cell_type": "code",
      "execution_count": null,
      "metadata": {
        "colab": {
          "base_uri": "https://localhost:8080/",
          "height": 357
        },
        "id": "WfOLy1KdC6PF",
        "outputId": "9d4c6b65-96a1-4009-b3fa-0a9a794269ad"
      },
      "outputs": [
        {
          "output_type": "execute_result",
          "data": {
            "text/plain": [
              "   market_id           created_at actual_delivery_time  \\\n",
              "0        1.0  2015-02-06 22:24:17  2015-02-06 23:27:16   \n",
              "1        2.0  2015-02-10 21:49:25  2015-02-10 22:56:29   \n",
              "2        3.0  2015-01-22 20:39:28  2015-01-22 21:09:09   \n",
              "3        3.0  2015-02-03 21:21:45  2015-02-03 22:13:00   \n",
              "4        3.0  2015-02-15 02:40:36  2015-02-15 03:20:26   \n",
              "\n",
              "                           store_id store_primary_category  order_protocol  \\\n",
              "0  df263d996281d984952c07998dc54358               american             1.0   \n",
              "1  f0ade77b43923b38237db569b016ba25                mexican             2.0   \n",
              "2  f0ade77b43923b38237db569b016ba25                    NaN             1.0   \n",
              "3  f0ade77b43923b38237db569b016ba25                    NaN             1.0   \n",
              "4  f0ade77b43923b38237db569b016ba25                    NaN             1.0   \n",
              "\n",
              "   total_items  subtotal  num_distinct_items  min_item_price  max_item_price  \\\n",
              "0            4      3441                   4             557            1239   \n",
              "1            1      1900                   1            1400            1400   \n",
              "2            1      1900                   1            1900            1900   \n",
              "3            6      6900                   5             600            1800   \n",
              "4            3      3900                   3            1100            1600   \n",
              "\n",
              "   total_onshift_partners  total_busy_partners  total_outstanding_orders  \n",
              "0                    33.0                 14.0                      21.0  \n",
              "1                     1.0                  2.0                       2.0  \n",
              "2                     1.0                  0.0                       0.0  \n",
              "3                     1.0                  1.0                       2.0  \n",
              "4                     6.0                  6.0                       9.0  "
            ],
            "text/html": [
              "\n",
              "  <div id=\"df-af261845-5d34-4fa3-947f-ec5630d2edcd\">\n",
              "    <div class=\"colab-df-container\">\n",
              "      <div>\n",
              "<style scoped>\n",
              "    .dataframe tbody tr th:only-of-type {\n",
              "        vertical-align: middle;\n",
              "    }\n",
              "\n",
              "    .dataframe tbody tr th {\n",
              "        vertical-align: top;\n",
              "    }\n",
              "\n",
              "    .dataframe thead th {\n",
              "        text-align: right;\n",
              "    }\n",
              "</style>\n",
              "<table border=\"1\" class=\"dataframe\">\n",
              "  <thead>\n",
              "    <tr style=\"text-align: right;\">\n",
              "      <th></th>\n",
              "      <th>market_id</th>\n",
              "      <th>created_at</th>\n",
              "      <th>actual_delivery_time</th>\n",
              "      <th>store_id</th>\n",
              "      <th>store_primary_category</th>\n",
              "      <th>order_protocol</th>\n",
              "      <th>total_items</th>\n",
              "      <th>subtotal</th>\n",
              "      <th>num_distinct_items</th>\n",
              "      <th>min_item_price</th>\n",
              "      <th>max_item_price</th>\n",
              "      <th>total_onshift_partners</th>\n",
              "      <th>total_busy_partners</th>\n",
              "      <th>total_outstanding_orders</th>\n",
              "    </tr>\n",
              "  </thead>\n",
              "  <tbody>\n",
              "    <tr>\n",
              "      <th>0</th>\n",
              "      <td>1.0</td>\n",
              "      <td>2015-02-06 22:24:17</td>\n",
              "      <td>2015-02-06 23:27:16</td>\n",
              "      <td>df263d996281d984952c07998dc54358</td>\n",
              "      <td>american</td>\n",
              "      <td>1.0</td>\n",
              "      <td>4</td>\n",
              "      <td>3441</td>\n",
              "      <td>4</td>\n",
              "      <td>557</td>\n",
              "      <td>1239</td>\n",
              "      <td>33.0</td>\n",
              "      <td>14.0</td>\n",
              "      <td>21.0</td>\n",
              "    </tr>\n",
              "    <tr>\n",
              "      <th>1</th>\n",
              "      <td>2.0</td>\n",
              "      <td>2015-02-10 21:49:25</td>\n",
              "      <td>2015-02-10 22:56:29</td>\n",
              "      <td>f0ade77b43923b38237db569b016ba25</td>\n",
              "      <td>mexican</td>\n",
              "      <td>2.0</td>\n",
              "      <td>1</td>\n",
              "      <td>1900</td>\n",
              "      <td>1</td>\n",
              "      <td>1400</td>\n",
              "      <td>1400</td>\n",
              "      <td>1.0</td>\n",
              "      <td>2.0</td>\n",
              "      <td>2.0</td>\n",
              "    </tr>\n",
              "    <tr>\n",
              "      <th>2</th>\n",
              "      <td>3.0</td>\n",
              "      <td>2015-01-22 20:39:28</td>\n",
              "      <td>2015-01-22 21:09:09</td>\n",
              "      <td>f0ade77b43923b38237db569b016ba25</td>\n",
              "      <td>NaN</td>\n",
              "      <td>1.0</td>\n",
              "      <td>1</td>\n",
              "      <td>1900</td>\n",
              "      <td>1</td>\n",
              "      <td>1900</td>\n",
              "      <td>1900</td>\n",
              "      <td>1.0</td>\n",
              "      <td>0.0</td>\n",
              "      <td>0.0</td>\n",
              "    </tr>\n",
              "    <tr>\n",
              "      <th>3</th>\n",
              "      <td>3.0</td>\n",
              "      <td>2015-02-03 21:21:45</td>\n",
              "      <td>2015-02-03 22:13:00</td>\n",
              "      <td>f0ade77b43923b38237db569b016ba25</td>\n",
              "      <td>NaN</td>\n",
              "      <td>1.0</td>\n",
              "      <td>6</td>\n",
              "      <td>6900</td>\n",
              "      <td>5</td>\n",
              "      <td>600</td>\n",
              "      <td>1800</td>\n",
              "      <td>1.0</td>\n",
              "      <td>1.0</td>\n",
              "      <td>2.0</td>\n",
              "    </tr>\n",
              "    <tr>\n",
              "      <th>4</th>\n",
              "      <td>3.0</td>\n",
              "      <td>2015-02-15 02:40:36</td>\n",
              "      <td>2015-02-15 03:20:26</td>\n",
              "      <td>f0ade77b43923b38237db569b016ba25</td>\n",
              "      <td>NaN</td>\n",
              "      <td>1.0</td>\n",
              "      <td>3</td>\n",
              "      <td>3900</td>\n",
              "      <td>3</td>\n",
              "      <td>1100</td>\n",
              "      <td>1600</td>\n",
              "      <td>6.0</td>\n",
              "      <td>6.0</td>\n",
              "      <td>9.0</td>\n",
              "    </tr>\n",
              "  </tbody>\n",
              "</table>\n",
              "</div>\n",
              "      <button class=\"colab-df-convert\" onclick=\"convertToInteractive('df-af261845-5d34-4fa3-947f-ec5630d2edcd')\"\n",
              "              title=\"Convert this dataframe to an interactive table.\"\n",
              "              style=\"display:none;\">\n",
              "        \n",
              "  <svg xmlns=\"http://www.w3.org/2000/svg\" height=\"24px\"viewBox=\"0 0 24 24\"\n",
              "       width=\"24px\">\n",
              "    <path d=\"M0 0h24v24H0V0z\" fill=\"none\"/>\n",
              "    <path d=\"M18.56 5.44l.94 2.06.94-2.06 2.06-.94-2.06-.94-.94-2.06-.94 2.06-2.06.94zm-11 1L8.5 8.5l.94-2.06 2.06-.94-2.06-.94L8.5 2.5l-.94 2.06-2.06.94zm10 10l.94 2.06.94-2.06 2.06-.94-2.06-.94-.94-2.06-.94 2.06-2.06.94z\"/><path d=\"M17.41 7.96l-1.37-1.37c-.4-.4-.92-.59-1.43-.59-.52 0-1.04.2-1.43.59L10.3 9.45l-7.72 7.72c-.78.78-.78 2.05 0 2.83L4 21.41c.39.39.9.59 1.41.59.51 0 1.02-.2 1.41-.59l7.78-7.78 2.81-2.81c.8-.78.8-2.07 0-2.86zM5.41 20L4 18.59l7.72-7.72 1.47 1.35L5.41 20z\"/>\n",
              "  </svg>\n",
              "      </button>\n",
              "      \n",
              "  <style>\n",
              "    .colab-df-container {\n",
              "      display:flex;\n",
              "      flex-wrap:wrap;\n",
              "      gap: 12px;\n",
              "    }\n",
              "\n",
              "    .colab-df-convert {\n",
              "      background-color: #E8F0FE;\n",
              "      border: none;\n",
              "      border-radius: 50%;\n",
              "      cursor: pointer;\n",
              "      display: none;\n",
              "      fill: #1967D2;\n",
              "      height: 32px;\n",
              "      padding: 0 0 0 0;\n",
              "      width: 32px;\n",
              "    }\n",
              "\n",
              "    .colab-df-convert:hover {\n",
              "      background-color: #E2EBFA;\n",
              "      box-shadow: 0px 1px 2px rgba(60, 64, 67, 0.3), 0px 1px 3px 1px rgba(60, 64, 67, 0.15);\n",
              "      fill: #174EA6;\n",
              "    }\n",
              "\n",
              "    [theme=dark] .colab-df-convert {\n",
              "      background-color: #3B4455;\n",
              "      fill: #D2E3FC;\n",
              "    }\n",
              "\n",
              "    [theme=dark] .colab-df-convert:hover {\n",
              "      background-color: #434B5C;\n",
              "      box-shadow: 0px 1px 3px 1px rgba(0, 0, 0, 0.15);\n",
              "      filter: drop-shadow(0px 1px 2px rgba(0, 0, 0, 0.3));\n",
              "      fill: #FFFFFF;\n",
              "    }\n",
              "  </style>\n",
              "\n",
              "      <script>\n",
              "        const buttonEl =\n",
              "          document.querySelector('#df-af261845-5d34-4fa3-947f-ec5630d2edcd button.colab-df-convert');\n",
              "        buttonEl.style.display =\n",
              "          google.colab.kernel.accessAllowed ? 'block' : 'none';\n",
              "\n",
              "        async function convertToInteractive(key) {\n",
              "          const element = document.querySelector('#df-af261845-5d34-4fa3-947f-ec5630d2edcd');\n",
              "          const dataTable =\n",
              "            await google.colab.kernel.invokeFunction('convertToInteractive',\n",
              "                                                     [key], {});\n",
              "          if (!dataTable) return;\n",
              "\n",
              "          const docLinkHtml = 'Like what you see? Visit the ' +\n",
              "            '<a target=\"_blank\" href=https://colab.research.google.com/notebooks/data_table.ipynb>data table notebook</a>'\n",
              "            + ' to learn more about interactive tables.';\n",
              "          element.innerHTML = '';\n",
              "          dataTable['output_type'] = 'display_data';\n",
              "          await google.colab.output.renderOutput(dataTable, element);\n",
              "          const docLink = document.createElement('div');\n",
              "          docLink.innerHTML = docLinkHtml;\n",
              "          element.appendChild(docLink);\n",
              "        }\n",
              "      </script>\n",
              "    </div>\n",
              "  </div>\n",
              "  "
            ]
          },
          "metadata": {},
          "execution_count": 6
        }
      ],
      "source": [
        "df=pd.read_csv('dataset.csv')\n",
        "df.head()"
      ]
    },
    {
      "cell_type": "markdown",
      "metadata": {
        "id": "plqVGt31TsXp"
      },
      "source": [
        "Printing the information and head of the data to get an understanding of it"
      ]
    },
    {
      "cell_type": "code",
      "execution_count": null,
      "metadata": {
        "colab": {
          "base_uri": "https://localhost:8080/"
        },
        "id": "JjBuUdfwC6Lq",
        "outputId": "bfe8df99-803f-4702-acdd-c9aa3732ee8e"
      },
      "outputs": [
        {
          "output_type": "stream",
          "name": "stdout",
          "text": [
            "<class 'pandas.core.frame.DataFrame'>\n",
            "RangeIndex: 197428 entries, 0 to 197427\n",
            "Data columns (total 14 columns):\n",
            " #   Column                    Non-Null Count   Dtype  \n",
            "---  ------                    --------------   -----  \n",
            " 0   market_id                 196441 non-null  float64\n",
            " 1   created_at                197428 non-null  object \n",
            " 2   actual_delivery_time      197421 non-null  object \n",
            " 3   store_id                  197428 non-null  object \n",
            " 4   store_primary_category    192668 non-null  object \n",
            " 5   order_protocol            196433 non-null  float64\n",
            " 6   total_items               197428 non-null  int64  \n",
            " 7   subtotal                  197428 non-null  int64  \n",
            " 8   num_distinct_items        197428 non-null  int64  \n",
            " 9   min_item_price            197428 non-null  int64  \n",
            " 10  max_item_price            197428 non-null  int64  \n",
            " 11  total_onshift_partners    181166 non-null  float64\n",
            " 12  total_busy_partners       181166 non-null  float64\n",
            " 13  total_outstanding_orders  181166 non-null  float64\n",
            "dtypes: float64(5), int64(5), object(4)\n",
            "memory usage: 21.1+ MB\n"
          ]
        }
      ],
      "source": [
        "df.info()"
      ]
    },
    {
      "cell_type": "code",
      "execution_count": null,
      "metadata": {
        "colab": {
          "base_uri": "https://localhost:8080/"
        },
        "id": "5Vw06tLFbmzM",
        "outputId": "2543d783-4a82-49e3-87b4-9dd37b4ed49a"
      },
      "outputs": [
        {
          "output_type": "execute_result",
          "data": {
            "text/plain": [
              "d43ab110ab2489d6b9b2caa394bf920f    937\n",
              "757b505cfd34c64c85ca5b5690ee5293    863\n",
              "faacbcd5bf1d018912c116bf2783e9a1    815\n",
              "cfecdb276f634854f3ef915e2e980c31    765\n",
              "45c48cce2e2d7fbdea1afc51c7c6ad26    721\n",
              "                                   ... \n",
              "adad0f2b196a1ed3e3b9d9025c397132      1\n",
              "2e6d9c6052e99fcdfa61d9b9da273ca2      1\n",
              "25daeb9b3072e9c53f66a2196a92a011      1\n",
              "55285adfd78a019a3245917649e29b3c      1\n",
              "df263d996281d984952c07998dc54358      1\n",
              "Name: store_id, Length: 6743, dtype: int64"
            ]
          },
          "metadata": {},
          "execution_count": 8
        }
      ],
      "source": [
        "df['store_id'].value_counts()"
      ]
    },
    {
      "cell_type": "markdown",
      "metadata": {
        "id": "m79XADEhbv3C"
      },
      "source": [
        "dropping store_id because even the most frequent store has less than 0.005% presence in the data, and would not affect the model.\n",
        "\n",
        "also the model should not depend on store ids if new stores are added for prediction"
      ]
    },
    {
      "cell_type": "code",
      "execution_count": null,
      "metadata": {
        "id": "uhV4QvebLt2H"
      },
      "outputs": [],
      "source": [
        "df.drop(['store_id'],axis=1,inplace=True)"
      ]
    },
    {
      "cell_type": "markdown",
      "metadata": {
        "id": "6L583mi69Cys"
      },
      "source": [
        "# Data preprocessing"
      ]
    },
    {
      "cell_type": "markdown",
      "metadata": {
        "id": "v_f0wD1JiwQi"
      },
      "source": [
        "## Feature engineering\n",
        "we have the time at which the order was placed and time at which it was delivired, so we will create a new column for time taken in delivery and that will be our target column\n",
        "\n",
        "calculating time taken in delivery by subtracting the order timestamp from delivery timestamp\n"
      ]
    },
    {
      "cell_type": "markdown",
      "metadata": {
        "id": "GzmM71W59miF"
      },
      "source": [
        "the time stamos that we have now are in object format and need to be convertd to datetime format for easily working with them as intended.\n",
        "the pandas datetime function checks if the data is in correct format for it and also understands the order of the data and converts accordingly"
      ]
    },
    {
      "cell_type": "code",
      "execution_count": null,
      "metadata": {
        "colab": {
          "base_uri": "https://localhost:8080/"
        },
        "id": "78bqK-AKRzhl",
        "outputId": "51e842b4-2960-4a38-affa-bce1fc06b061"
      },
      "outputs": [
        {
          "output_type": "stream",
          "name": "stdout",
          "text": [
            "<class 'pandas.core.frame.DataFrame'>\n",
            "RangeIndex: 197428 entries, 0 to 197427\n",
            "Data columns (total 13 columns):\n",
            " #   Column                    Non-Null Count   Dtype         \n",
            "---  ------                    --------------   -----         \n",
            " 0   market_id                 196441 non-null  float64       \n",
            " 1   created_at                197428 non-null  datetime64[ns]\n",
            " 2   actual_delivery_time      197421 non-null  datetime64[ns]\n",
            " 3   store_primary_category    192668 non-null  object        \n",
            " 4   order_protocol            196433 non-null  float64       \n",
            " 5   total_items               197428 non-null  int64         \n",
            " 6   subtotal                  197428 non-null  int64         \n",
            " 7   num_distinct_items        197428 non-null  int64         \n",
            " 8   min_item_price            197428 non-null  int64         \n",
            " 9   max_item_price            197428 non-null  int64         \n",
            " 10  total_onshift_partners    181166 non-null  float64       \n",
            " 11  total_busy_partners       181166 non-null  float64       \n",
            " 12  total_outstanding_orders  181166 non-null  float64       \n",
            "dtypes: datetime64[ns](2), float64(5), int64(5), object(1)\n",
            "memory usage: 19.6+ MB\n"
          ]
        }
      ],
      "source": [
        "df['created_at']= pd.to_datetime(df['created_at'])\n",
        "df['actual_delivery_time']= pd.to_datetime(df['actual_delivery_time'])\n",
        "\n",
        "df.info()"
      ]
    },
    {
      "cell_type": "code",
      "execution_count": null,
      "metadata": {
        "colab": {
          "base_uri": "https://localhost:8080/",
          "height": 357
        },
        "id": "fs8K-9RqSLcK",
        "outputId": "0deaa926-f833-4df5-afce-f578abc28690"
      },
      "outputs": [
        {
          "output_type": "execute_result",
          "data": {
            "text/plain": [
              "   market_id          created_at actual_delivery_time store_primary_category  \\\n",
              "0        1.0 2015-02-06 22:24:17  2015-02-06 23:27:16               american   \n",
              "1        2.0 2015-02-10 21:49:25  2015-02-10 22:56:29                mexican   \n",
              "2        3.0 2015-01-22 20:39:28  2015-01-22 21:09:09                    NaN   \n",
              "3        3.0 2015-02-03 21:21:45  2015-02-03 22:13:00                    NaN   \n",
              "4        3.0 2015-02-15 02:40:36  2015-02-15 03:20:26                    NaN   \n",
              "\n",
              "   order_protocol  total_items  subtotal  num_distinct_items  min_item_price  \\\n",
              "0             1.0            4      3441                   4             557   \n",
              "1             2.0            1      1900                   1            1400   \n",
              "2             1.0            1      1900                   1            1900   \n",
              "3             1.0            6      6900                   5             600   \n",
              "4             1.0            3      3900                   3            1100   \n",
              "\n",
              "   max_item_price  total_onshift_partners  total_busy_partners  \\\n",
              "0            1239                    33.0                 14.0   \n",
              "1            1400                     1.0                  2.0   \n",
              "2            1900                     1.0                  0.0   \n",
              "3            1800                     1.0                  1.0   \n",
              "4            1600                     6.0                  6.0   \n",
              "\n",
              "   total_outstanding_orders      time_taken  \n",
              "0                      21.0 0 days 01:02:59  \n",
              "1                       2.0 0 days 01:07:04  \n",
              "2                       0.0 0 days 00:29:41  \n",
              "3                       2.0 0 days 00:51:15  \n",
              "4                       9.0 0 days 00:39:50  "
            ],
            "text/html": [
              "\n",
              "  <div id=\"df-2a1da6e3-8bbd-4782-aa80-f1d40e9e6f79\">\n",
              "    <div class=\"colab-df-container\">\n",
              "      <div>\n",
              "<style scoped>\n",
              "    .dataframe tbody tr th:only-of-type {\n",
              "        vertical-align: middle;\n",
              "    }\n",
              "\n",
              "    .dataframe tbody tr th {\n",
              "        vertical-align: top;\n",
              "    }\n",
              "\n",
              "    .dataframe thead th {\n",
              "        text-align: right;\n",
              "    }\n",
              "</style>\n",
              "<table border=\"1\" class=\"dataframe\">\n",
              "  <thead>\n",
              "    <tr style=\"text-align: right;\">\n",
              "      <th></th>\n",
              "      <th>market_id</th>\n",
              "      <th>created_at</th>\n",
              "      <th>actual_delivery_time</th>\n",
              "      <th>store_primary_category</th>\n",
              "      <th>order_protocol</th>\n",
              "      <th>total_items</th>\n",
              "      <th>subtotal</th>\n",
              "      <th>num_distinct_items</th>\n",
              "      <th>min_item_price</th>\n",
              "      <th>max_item_price</th>\n",
              "      <th>total_onshift_partners</th>\n",
              "      <th>total_busy_partners</th>\n",
              "      <th>total_outstanding_orders</th>\n",
              "      <th>time_taken</th>\n",
              "    </tr>\n",
              "  </thead>\n",
              "  <tbody>\n",
              "    <tr>\n",
              "      <th>0</th>\n",
              "      <td>1.0</td>\n",
              "      <td>2015-02-06 22:24:17</td>\n",
              "      <td>2015-02-06 23:27:16</td>\n",
              "      <td>american</td>\n",
              "      <td>1.0</td>\n",
              "      <td>4</td>\n",
              "      <td>3441</td>\n",
              "      <td>4</td>\n",
              "      <td>557</td>\n",
              "      <td>1239</td>\n",
              "      <td>33.0</td>\n",
              "      <td>14.0</td>\n",
              "      <td>21.0</td>\n",
              "      <td>0 days 01:02:59</td>\n",
              "    </tr>\n",
              "    <tr>\n",
              "      <th>1</th>\n",
              "      <td>2.0</td>\n",
              "      <td>2015-02-10 21:49:25</td>\n",
              "      <td>2015-02-10 22:56:29</td>\n",
              "      <td>mexican</td>\n",
              "      <td>2.0</td>\n",
              "      <td>1</td>\n",
              "      <td>1900</td>\n",
              "      <td>1</td>\n",
              "      <td>1400</td>\n",
              "      <td>1400</td>\n",
              "      <td>1.0</td>\n",
              "      <td>2.0</td>\n",
              "      <td>2.0</td>\n",
              "      <td>0 days 01:07:04</td>\n",
              "    </tr>\n",
              "    <tr>\n",
              "      <th>2</th>\n",
              "      <td>3.0</td>\n",
              "      <td>2015-01-22 20:39:28</td>\n",
              "      <td>2015-01-22 21:09:09</td>\n",
              "      <td>NaN</td>\n",
              "      <td>1.0</td>\n",
              "      <td>1</td>\n",
              "      <td>1900</td>\n",
              "      <td>1</td>\n",
              "      <td>1900</td>\n",
              "      <td>1900</td>\n",
              "      <td>1.0</td>\n",
              "      <td>0.0</td>\n",
              "      <td>0.0</td>\n",
              "      <td>0 days 00:29:41</td>\n",
              "    </tr>\n",
              "    <tr>\n",
              "      <th>3</th>\n",
              "      <td>3.0</td>\n",
              "      <td>2015-02-03 21:21:45</td>\n",
              "      <td>2015-02-03 22:13:00</td>\n",
              "      <td>NaN</td>\n",
              "      <td>1.0</td>\n",
              "      <td>6</td>\n",
              "      <td>6900</td>\n",
              "      <td>5</td>\n",
              "      <td>600</td>\n",
              "      <td>1800</td>\n",
              "      <td>1.0</td>\n",
              "      <td>1.0</td>\n",
              "      <td>2.0</td>\n",
              "      <td>0 days 00:51:15</td>\n",
              "    </tr>\n",
              "    <tr>\n",
              "      <th>4</th>\n",
              "      <td>3.0</td>\n",
              "      <td>2015-02-15 02:40:36</td>\n",
              "      <td>2015-02-15 03:20:26</td>\n",
              "      <td>NaN</td>\n",
              "      <td>1.0</td>\n",
              "      <td>3</td>\n",
              "      <td>3900</td>\n",
              "      <td>3</td>\n",
              "      <td>1100</td>\n",
              "      <td>1600</td>\n",
              "      <td>6.0</td>\n",
              "      <td>6.0</td>\n",
              "      <td>9.0</td>\n",
              "      <td>0 days 00:39:50</td>\n",
              "    </tr>\n",
              "  </tbody>\n",
              "</table>\n",
              "</div>\n",
              "      <button class=\"colab-df-convert\" onclick=\"convertToInteractive('df-2a1da6e3-8bbd-4782-aa80-f1d40e9e6f79')\"\n",
              "              title=\"Convert this dataframe to an interactive table.\"\n",
              "              style=\"display:none;\">\n",
              "        \n",
              "  <svg xmlns=\"http://www.w3.org/2000/svg\" height=\"24px\"viewBox=\"0 0 24 24\"\n",
              "       width=\"24px\">\n",
              "    <path d=\"M0 0h24v24H0V0z\" fill=\"none\"/>\n",
              "    <path d=\"M18.56 5.44l.94 2.06.94-2.06 2.06-.94-2.06-.94-.94-2.06-.94 2.06-2.06.94zm-11 1L8.5 8.5l.94-2.06 2.06-.94-2.06-.94L8.5 2.5l-.94 2.06-2.06.94zm10 10l.94 2.06.94-2.06 2.06-.94-2.06-.94-.94-2.06-.94 2.06-2.06.94z\"/><path d=\"M17.41 7.96l-1.37-1.37c-.4-.4-.92-.59-1.43-.59-.52 0-1.04.2-1.43.59L10.3 9.45l-7.72 7.72c-.78.78-.78 2.05 0 2.83L4 21.41c.39.39.9.59 1.41.59.51 0 1.02-.2 1.41-.59l7.78-7.78 2.81-2.81c.8-.78.8-2.07 0-2.86zM5.41 20L4 18.59l7.72-7.72 1.47 1.35L5.41 20z\"/>\n",
              "  </svg>\n",
              "      </button>\n",
              "      \n",
              "  <style>\n",
              "    .colab-df-container {\n",
              "      display:flex;\n",
              "      flex-wrap:wrap;\n",
              "      gap: 12px;\n",
              "    }\n",
              "\n",
              "    .colab-df-convert {\n",
              "      background-color: #E8F0FE;\n",
              "      border: none;\n",
              "      border-radius: 50%;\n",
              "      cursor: pointer;\n",
              "      display: none;\n",
              "      fill: #1967D2;\n",
              "      height: 32px;\n",
              "      padding: 0 0 0 0;\n",
              "      width: 32px;\n",
              "    }\n",
              "\n",
              "    .colab-df-convert:hover {\n",
              "      background-color: #E2EBFA;\n",
              "      box-shadow: 0px 1px 2px rgba(60, 64, 67, 0.3), 0px 1px 3px 1px rgba(60, 64, 67, 0.15);\n",
              "      fill: #174EA6;\n",
              "    }\n",
              "\n",
              "    [theme=dark] .colab-df-convert {\n",
              "      background-color: #3B4455;\n",
              "      fill: #D2E3FC;\n",
              "    }\n",
              "\n",
              "    [theme=dark] .colab-df-convert:hover {\n",
              "      background-color: #434B5C;\n",
              "      box-shadow: 0px 1px 3px 1px rgba(0, 0, 0, 0.15);\n",
              "      filter: drop-shadow(0px 1px 2px rgba(0, 0, 0, 0.3));\n",
              "      fill: #FFFFFF;\n",
              "    }\n",
              "  </style>\n",
              "\n",
              "      <script>\n",
              "        const buttonEl =\n",
              "          document.querySelector('#df-2a1da6e3-8bbd-4782-aa80-f1d40e9e6f79 button.colab-df-convert');\n",
              "        buttonEl.style.display =\n",
              "          google.colab.kernel.accessAllowed ? 'block' : 'none';\n",
              "\n",
              "        async function convertToInteractive(key) {\n",
              "          const element = document.querySelector('#df-2a1da6e3-8bbd-4782-aa80-f1d40e9e6f79');\n",
              "          const dataTable =\n",
              "            await google.colab.kernel.invokeFunction('convertToInteractive',\n",
              "                                                     [key], {});\n",
              "          if (!dataTable) return;\n",
              "\n",
              "          const docLinkHtml = 'Like what you see? Visit the ' +\n",
              "            '<a target=\"_blank\" href=https://colab.research.google.com/notebooks/data_table.ipynb>data table notebook</a>'\n",
              "            + ' to learn more about interactive tables.';\n",
              "          element.innerHTML = '';\n",
              "          dataTable['output_type'] = 'display_data';\n",
              "          await google.colab.output.renderOutput(dataTable, element);\n",
              "          const docLink = document.createElement('div');\n",
              "          docLink.innerHTML = docLinkHtml;\n",
              "          element.appendChild(docLink);\n",
              "        }\n",
              "      </script>\n",
              "    </div>\n",
              "  </div>\n",
              "  "
            ]
          },
          "metadata": {},
          "execution_count": 11
        }
      ],
      "source": [
        "df['time_taken']=df['actual_delivery_time']-df['created_at']\n",
        "df.head()"
      ]
    },
    {
      "cell_type": "code",
      "execution_count": null,
      "metadata": {
        "colab": {
          "base_uri": "https://localhost:8080/"
        },
        "id": "Fp2P8UOjUluk",
        "outputId": "e6ca570d-111f-42d9-cd93-cfc838de18d5"
      },
      "outputs": [
        {
          "output_type": "stream",
          "name": "stdout",
          "text": [
            "<class 'pandas.core.frame.DataFrame'>\n",
            "RangeIndex: 197428 entries, 0 to 197427\n",
            "Data columns (total 14 columns):\n",
            " #   Column                    Non-Null Count   Dtype          \n",
            "---  ------                    --------------   -----          \n",
            " 0   market_id                 196441 non-null  float64        \n",
            " 1   created_at                197428 non-null  datetime64[ns] \n",
            " 2   actual_delivery_time      197421 non-null  datetime64[ns] \n",
            " 3   store_primary_category    192668 non-null  object         \n",
            " 4   order_protocol            196433 non-null  float64        \n",
            " 5   total_items               197428 non-null  int64          \n",
            " 6   subtotal                  197428 non-null  int64          \n",
            " 7   num_distinct_items        197428 non-null  int64          \n",
            " 8   min_item_price            197428 non-null  int64          \n",
            " 9   max_item_price            197428 non-null  int64          \n",
            " 10  total_onshift_partners    181166 non-null  float64        \n",
            " 11  total_busy_partners       181166 non-null  float64        \n",
            " 12  total_outstanding_orders  181166 non-null  float64        \n",
            " 13  time_taken                197421 non-null  timedelta64[ns]\n",
            "dtypes: datetime64[ns](2), float64(5), int64(5), object(1), timedelta64[ns](1)\n",
            "memory usage: 21.1+ MB\n"
          ]
        }
      ],
      "source": [
        "df.info()"
      ]
    },
    {
      "cell_type": "markdown",
      "metadata": {
        "id": "29yuM5Hko3ih"
      },
      "source": [
        "now that we have our time taken for the delivery we can convert it to minutes and that will be our target variable to train the models"
      ]
    },
    {
      "cell_type": "markdown",
      "metadata": {
        "id": "gLFk58wY-ICB"
      },
      "source": [
        "the timedelta is a datatype that stores the time difference and it is better we convert it to float and converting to minute does that as well"
      ]
    },
    {
      "cell_type": "code",
      "execution_count": null,
      "metadata": {
        "colab": {
          "base_uri": "https://localhost:8080/",
          "height": 357
        },
        "id": "ZXQeIPItTmUp",
        "outputId": "55cf163f-33f2-48fe-e4b3-00936bca971f"
      },
      "outputs": [
        {
          "output_type": "execute_result",
          "data": {
            "text/plain": [
              "   market_id          created_at actual_delivery_time store_primary_category  \\\n",
              "0        1.0 2015-02-06 22:24:17  2015-02-06 23:27:16               american   \n",
              "1        2.0 2015-02-10 21:49:25  2015-02-10 22:56:29                mexican   \n",
              "2        3.0 2015-01-22 20:39:28  2015-01-22 21:09:09                    NaN   \n",
              "3        3.0 2015-02-03 21:21:45  2015-02-03 22:13:00                    NaN   \n",
              "4        3.0 2015-02-15 02:40:36  2015-02-15 03:20:26                    NaN   \n",
              "\n",
              "   order_protocol  total_items  subtotal  num_distinct_items  min_item_price  \\\n",
              "0             1.0            4      3441                   4             557   \n",
              "1             2.0            1      1900                   1            1400   \n",
              "2             1.0            1      1900                   1            1900   \n",
              "3             1.0            6      6900                   5             600   \n",
              "4             1.0            3      3900                   3            1100   \n",
              "\n",
              "   max_item_price  total_onshift_partners  total_busy_partners  \\\n",
              "0            1239                    33.0                 14.0   \n",
              "1            1400                     1.0                  2.0   \n",
              "2            1900                     1.0                  0.0   \n",
              "3            1800                     1.0                  1.0   \n",
              "4            1600                     6.0                  6.0   \n",
              "\n",
              "   total_outstanding_orders      time_taken  time_taken_mins  \n",
              "0                      21.0 0 days 01:02:59        62.983333  \n",
              "1                       2.0 0 days 01:07:04        67.066667  \n",
              "2                       0.0 0 days 00:29:41        29.683333  \n",
              "3                       2.0 0 days 00:51:15        51.250000  \n",
              "4                       9.0 0 days 00:39:50        39.833333  "
            ],
            "text/html": [
              "\n",
              "  <div id=\"df-2eee014f-6b00-457d-be17-1fcf48f6936e\">\n",
              "    <div class=\"colab-df-container\">\n",
              "      <div>\n",
              "<style scoped>\n",
              "    .dataframe tbody tr th:only-of-type {\n",
              "        vertical-align: middle;\n",
              "    }\n",
              "\n",
              "    .dataframe tbody tr th {\n",
              "        vertical-align: top;\n",
              "    }\n",
              "\n",
              "    .dataframe thead th {\n",
              "        text-align: right;\n",
              "    }\n",
              "</style>\n",
              "<table border=\"1\" class=\"dataframe\">\n",
              "  <thead>\n",
              "    <tr style=\"text-align: right;\">\n",
              "      <th></th>\n",
              "      <th>market_id</th>\n",
              "      <th>created_at</th>\n",
              "      <th>actual_delivery_time</th>\n",
              "      <th>store_primary_category</th>\n",
              "      <th>order_protocol</th>\n",
              "      <th>total_items</th>\n",
              "      <th>subtotal</th>\n",
              "      <th>num_distinct_items</th>\n",
              "      <th>min_item_price</th>\n",
              "      <th>max_item_price</th>\n",
              "      <th>total_onshift_partners</th>\n",
              "      <th>total_busy_partners</th>\n",
              "      <th>total_outstanding_orders</th>\n",
              "      <th>time_taken</th>\n",
              "      <th>time_taken_mins</th>\n",
              "    </tr>\n",
              "  </thead>\n",
              "  <tbody>\n",
              "    <tr>\n",
              "      <th>0</th>\n",
              "      <td>1.0</td>\n",
              "      <td>2015-02-06 22:24:17</td>\n",
              "      <td>2015-02-06 23:27:16</td>\n",
              "      <td>american</td>\n",
              "      <td>1.0</td>\n",
              "      <td>4</td>\n",
              "      <td>3441</td>\n",
              "      <td>4</td>\n",
              "      <td>557</td>\n",
              "      <td>1239</td>\n",
              "      <td>33.0</td>\n",
              "      <td>14.0</td>\n",
              "      <td>21.0</td>\n",
              "      <td>0 days 01:02:59</td>\n",
              "      <td>62.983333</td>\n",
              "    </tr>\n",
              "    <tr>\n",
              "      <th>1</th>\n",
              "      <td>2.0</td>\n",
              "      <td>2015-02-10 21:49:25</td>\n",
              "      <td>2015-02-10 22:56:29</td>\n",
              "      <td>mexican</td>\n",
              "      <td>2.0</td>\n",
              "      <td>1</td>\n",
              "      <td>1900</td>\n",
              "      <td>1</td>\n",
              "      <td>1400</td>\n",
              "      <td>1400</td>\n",
              "      <td>1.0</td>\n",
              "      <td>2.0</td>\n",
              "      <td>2.0</td>\n",
              "      <td>0 days 01:07:04</td>\n",
              "      <td>67.066667</td>\n",
              "    </tr>\n",
              "    <tr>\n",
              "      <th>2</th>\n",
              "      <td>3.0</td>\n",
              "      <td>2015-01-22 20:39:28</td>\n",
              "      <td>2015-01-22 21:09:09</td>\n",
              "      <td>NaN</td>\n",
              "      <td>1.0</td>\n",
              "      <td>1</td>\n",
              "      <td>1900</td>\n",
              "      <td>1</td>\n",
              "      <td>1900</td>\n",
              "      <td>1900</td>\n",
              "      <td>1.0</td>\n",
              "      <td>0.0</td>\n",
              "      <td>0.0</td>\n",
              "      <td>0 days 00:29:41</td>\n",
              "      <td>29.683333</td>\n",
              "    </tr>\n",
              "    <tr>\n",
              "      <th>3</th>\n",
              "      <td>3.0</td>\n",
              "      <td>2015-02-03 21:21:45</td>\n",
              "      <td>2015-02-03 22:13:00</td>\n",
              "      <td>NaN</td>\n",
              "      <td>1.0</td>\n",
              "      <td>6</td>\n",
              "      <td>6900</td>\n",
              "      <td>5</td>\n",
              "      <td>600</td>\n",
              "      <td>1800</td>\n",
              "      <td>1.0</td>\n",
              "      <td>1.0</td>\n",
              "      <td>2.0</td>\n",
              "      <td>0 days 00:51:15</td>\n",
              "      <td>51.250000</td>\n",
              "    </tr>\n",
              "    <tr>\n",
              "      <th>4</th>\n",
              "      <td>3.0</td>\n",
              "      <td>2015-02-15 02:40:36</td>\n",
              "      <td>2015-02-15 03:20:26</td>\n",
              "      <td>NaN</td>\n",
              "      <td>1.0</td>\n",
              "      <td>3</td>\n",
              "      <td>3900</td>\n",
              "      <td>3</td>\n",
              "      <td>1100</td>\n",
              "      <td>1600</td>\n",
              "      <td>6.0</td>\n",
              "      <td>6.0</td>\n",
              "      <td>9.0</td>\n",
              "      <td>0 days 00:39:50</td>\n",
              "      <td>39.833333</td>\n",
              "    </tr>\n",
              "  </tbody>\n",
              "</table>\n",
              "</div>\n",
              "      <button class=\"colab-df-convert\" onclick=\"convertToInteractive('df-2eee014f-6b00-457d-be17-1fcf48f6936e')\"\n",
              "              title=\"Convert this dataframe to an interactive table.\"\n",
              "              style=\"display:none;\">\n",
              "        \n",
              "  <svg xmlns=\"http://www.w3.org/2000/svg\" height=\"24px\"viewBox=\"0 0 24 24\"\n",
              "       width=\"24px\">\n",
              "    <path d=\"M0 0h24v24H0V0z\" fill=\"none\"/>\n",
              "    <path d=\"M18.56 5.44l.94 2.06.94-2.06 2.06-.94-2.06-.94-.94-2.06-.94 2.06-2.06.94zm-11 1L8.5 8.5l.94-2.06 2.06-.94-2.06-.94L8.5 2.5l-.94 2.06-2.06.94zm10 10l.94 2.06.94-2.06 2.06-.94-2.06-.94-.94-2.06-.94 2.06-2.06.94z\"/><path d=\"M17.41 7.96l-1.37-1.37c-.4-.4-.92-.59-1.43-.59-.52 0-1.04.2-1.43.59L10.3 9.45l-7.72 7.72c-.78.78-.78 2.05 0 2.83L4 21.41c.39.39.9.59 1.41.59.51 0 1.02-.2 1.41-.59l7.78-7.78 2.81-2.81c.8-.78.8-2.07 0-2.86zM5.41 20L4 18.59l7.72-7.72 1.47 1.35L5.41 20z\"/>\n",
              "  </svg>\n",
              "      </button>\n",
              "      \n",
              "  <style>\n",
              "    .colab-df-container {\n",
              "      display:flex;\n",
              "      flex-wrap:wrap;\n",
              "      gap: 12px;\n",
              "    }\n",
              "\n",
              "    .colab-df-convert {\n",
              "      background-color: #E8F0FE;\n",
              "      border: none;\n",
              "      border-radius: 50%;\n",
              "      cursor: pointer;\n",
              "      display: none;\n",
              "      fill: #1967D2;\n",
              "      height: 32px;\n",
              "      padding: 0 0 0 0;\n",
              "      width: 32px;\n",
              "    }\n",
              "\n",
              "    .colab-df-convert:hover {\n",
              "      background-color: #E2EBFA;\n",
              "      box-shadow: 0px 1px 2px rgba(60, 64, 67, 0.3), 0px 1px 3px 1px rgba(60, 64, 67, 0.15);\n",
              "      fill: #174EA6;\n",
              "    }\n",
              "\n",
              "    [theme=dark] .colab-df-convert {\n",
              "      background-color: #3B4455;\n",
              "      fill: #D2E3FC;\n",
              "    }\n",
              "\n",
              "    [theme=dark] .colab-df-convert:hover {\n",
              "      background-color: #434B5C;\n",
              "      box-shadow: 0px 1px 3px 1px rgba(0, 0, 0, 0.15);\n",
              "      filter: drop-shadow(0px 1px 2px rgba(0, 0, 0, 0.3));\n",
              "      fill: #FFFFFF;\n",
              "    }\n",
              "  </style>\n",
              "\n",
              "      <script>\n",
              "        const buttonEl =\n",
              "          document.querySelector('#df-2eee014f-6b00-457d-be17-1fcf48f6936e button.colab-df-convert');\n",
              "        buttonEl.style.display =\n",
              "          google.colab.kernel.accessAllowed ? 'block' : 'none';\n",
              "\n",
              "        async function convertToInteractive(key) {\n",
              "          const element = document.querySelector('#df-2eee014f-6b00-457d-be17-1fcf48f6936e');\n",
              "          const dataTable =\n",
              "            await google.colab.kernel.invokeFunction('convertToInteractive',\n",
              "                                                     [key], {});\n",
              "          if (!dataTable) return;\n",
              "\n",
              "          const docLinkHtml = 'Like what you see? Visit the ' +\n",
              "            '<a target=\"_blank\" href=https://colab.research.google.com/notebooks/data_table.ipynb>data table notebook</a>'\n",
              "            + ' to learn more about interactive tables.';\n",
              "          element.innerHTML = '';\n",
              "          dataTable['output_type'] = 'display_data';\n",
              "          await google.colab.output.renderOutput(dataTable, element);\n",
              "          const docLink = document.createElement('div');\n",
              "          docLink.innerHTML = docLinkHtml;\n",
              "          element.appendChild(docLink);\n",
              "        }\n",
              "      </script>\n",
              "    </div>\n",
              "  </div>\n",
              "  "
            ]
          },
          "metadata": {},
          "execution_count": 13
        }
      ],
      "source": [
        "df['time_taken_mins']=pd.to_timedelta(df['time_taken'])/pd.Timedelta('60s')\n",
        "df.head()"
      ]
    },
    {
      "cell_type": "code",
      "execution_count": null,
      "metadata": {
        "id": "k4d-bgY4JA7T"
      },
      "outputs": [],
      "source": [
        "df['hour']=df['created_at'].dt.hour"
      ]
    },
    {
      "cell_type": "code",
      "execution_count": null,
      "metadata": {
        "id": "ABpGiPm3PvCh"
      },
      "outputs": [],
      "source": [
        "df['day']=df['created_at'].dt.dayofweek"
      ]
    },
    {
      "cell_type": "code",
      "execution_count": null,
      "metadata": {
        "colab": {
          "base_uri": "https://localhost:8080/",
          "height": 357
        },
        "id": "4wbWOwmyPldD",
        "outputId": "5ac3bb1b-80fb-4eb4-e074-4f093a172b4a"
      },
      "outputs": [
        {
          "output_type": "execute_result",
          "data": {
            "text/plain": [
              "   market_id          created_at actual_delivery_time store_primary_category  \\\n",
              "0        1.0 2015-02-06 22:24:17  2015-02-06 23:27:16               american   \n",
              "1        2.0 2015-02-10 21:49:25  2015-02-10 22:56:29                mexican   \n",
              "2        3.0 2015-01-22 20:39:28  2015-01-22 21:09:09                    NaN   \n",
              "3        3.0 2015-02-03 21:21:45  2015-02-03 22:13:00                    NaN   \n",
              "4        3.0 2015-02-15 02:40:36  2015-02-15 03:20:26                    NaN   \n",
              "\n",
              "   order_protocol  total_items  subtotal  num_distinct_items  min_item_price  \\\n",
              "0             1.0            4      3441                   4             557   \n",
              "1             2.0            1      1900                   1            1400   \n",
              "2             1.0            1      1900                   1            1900   \n",
              "3             1.0            6      6900                   5             600   \n",
              "4             1.0            3      3900                   3            1100   \n",
              "\n",
              "   max_item_price  total_onshift_partners  total_busy_partners  \\\n",
              "0            1239                    33.0                 14.0   \n",
              "1            1400                     1.0                  2.0   \n",
              "2            1900                     1.0                  0.0   \n",
              "3            1800                     1.0                  1.0   \n",
              "4            1600                     6.0                  6.0   \n",
              "\n",
              "   total_outstanding_orders      time_taken  time_taken_mins  hour  day  \n",
              "0                      21.0 0 days 01:02:59        62.983333    22    4  \n",
              "1                       2.0 0 days 01:07:04        67.066667    21    1  \n",
              "2                       0.0 0 days 00:29:41        29.683333    20    3  \n",
              "3                       2.0 0 days 00:51:15        51.250000    21    1  \n",
              "4                       9.0 0 days 00:39:50        39.833333     2    6  "
            ],
            "text/html": [
              "\n",
              "  <div id=\"df-576adeb8-f863-4a56-a172-7f121639cb7d\">\n",
              "    <div class=\"colab-df-container\">\n",
              "      <div>\n",
              "<style scoped>\n",
              "    .dataframe tbody tr th:only-of-type {\n",
              "        vertical-align: middle;\n",
              "    }\n",
              "\n",
              "    .dataframe tbody tr th {\n",
              "        vertical-align: top;\n",
              "    }\n",
              "\n",
              "    .dataframe thead th {\n",
              "        text-align: right;\n",
              "    }\n",
              "</style>\n",
              "<table border=\"1\" class=\"dataframe\">\n",
              "  <thead>\n",
              "    <tr style=\"text-align: right;\">\n",
              "      <th></th>\n",
              "      <th>market_id</th>\n",
              "      <th>created_at</th>\n",
              "      <th>actual_delivery_time</th>\n",
              "      <th>store_primary_category</th>\n",
              "      <th>order_protocol</th>\n",
              "      <th>total_items</th>\n",
              "      <th>subtotal</th>\n",
              "      <th>num_distinct_items</th>\n",
              "      <th>min_item_price</th>\n",
              "      <th>max_item_price</th>\n",
              "      <th>total_onshift_partners</th>\n",
              "      <th>total_busy_partners</th>\n",
              "      <th>total_outstanding_orders</th>\n",
              "      <th>time_taken</th>\n",
              "      <th>time_taken_mins</th>\n",
              "      <th>hour</th>\n",
              "      <th>day</th>\n",
              "    </tr>\n",
              "  </thead>\n",
              "  <tbody>\n",
              "    <tr>\n",
              "      <th>0</th>\n",
              "      <td>1.0</td>\n",
              "      <td>2015-02-06 22:24:17</td>\n",
              "      <td>2015-02-06 23:27:16</td>\n",
              "      <td>american</td>\n",
              "      <td>1.0</td>\n",
              "      <td>4</td>\n",
              "      <td>3441</td>\n",
              "      <td>4</td>\n",
              "      <td>557</td>\n",
              "      <td>1239</td>\n",
              "      <td>33.0</td>\n",
              "      <td>14.0</td>\n",
              "      <td>21.0</td>\n",
              "      <td>0 days 01:02:59</td>\n",
              "      <td>62.983333</td>\n",
              "      <td>22</td>\n",
              "      <td>4</td>\n",
              "    </tr>\n",
              "    <tr>\n",
              "      <th>1</th>\n",
              "      <td>2.0</td>\n",
              "      <td>2015-02-10 21:49:25</td>\n",
              "      <td>2015-02-10 22:56:29</td>\n",
              "      <td>mexican</td>\n",
              "      <td>2.0</td>\n",
              "      <td>1</td>\n",
              "      <td>1900</td>\n",
              "      <td>1</td>\n",
              "      <td>1400</td>\n",
              "      <td>1400</td>\n",
              "      <td>1.0</td>\n",
              "      <td>2.0</td>\n",
              "      <td>2.0</td>\n",
              "      <td>0 days 01:07:04</td>\n",
              "      <td>67.066667</td>\n",
              "      <td>21</td>\n",
              "      <td>1</td>\n",
              "    </tr>\n",
              "    <tr>\n",
              "      <th>2</th>\n",
              "      <td>3.0</td>\n",
              "      <td>2015-01-22 20:39:28</td>\n",
              "      <td>2015-01-22 21:09:09</td>\n",
              "      <td>NaN</td>\n",
              "      <td>1.0</td>\n",
              "      <td>1</td>\n",
              "      <td>1900</td>\n",
              "      <td>1</td>\n",
              "      <td>1900</td>\n",
              "      <td>1900</td>\n",
              "      <td>1.0</td>\n",
              "      <td>0.0</td>\n",
              "      <td>0.0</td>\n",
              "      <td>0 days 00:29:41</td>\n",
              "      <td>29.683333</td>\n",
              "      <td>20</td>\n",
              "      <td>3</td>\n",
              "    </tr>\n",
              "    <tr>\n",
              "      <th>3</th>\n",
              "      <td>3.0</td>\n",
              "      <td>2015-02-03 21:21:45</td>\n",
              "      <td>2015-02-03 22:13:00</td>\n",
              "      <td>NaN</td>\n",
              "      <td>1.0</td>\n",
              "      <td>6</td>\n",
              "      <td>6900</td>\n",
              "      <td>5</td>\n",
              "      <td>600</td>\n",
              "      <td>1800</td>\n",
              "      <td>1.0</td>\n",
              "      <td>1.0</td>\n",
              "      <td>2.0</td>\n",
              "      <td>0 days 00:51:15</td>\n",
              "      <td>51.250000</td>\n",
              "      <td>21</td>\n",
              "      <td>1</td>\n",
              "    </tr>\n",
              "    <tr>\n",
              "      <th>4</th>\n",
              "      <td>3.0</td>\n",
              "      <td>2015-02-15 02:40:36</td>\n",
              "      <td>2015-02-15 03:20:26</td>\n",
              "      <td>NaN</td>\n",
              "      <td>1.0</td>\n",
              "      <td>3</td>\n",
              "      <td>3900</td>\n",
              "      <td>3</td>\n",
              "      <td>1100</td>\n",
              "      <td>1600</td>\n",
              "      <td>6.0</td>\n",
              "      <td>6.0</td>\n",
              "      <td>9.0</td>\n",
              "      <td>0 days 00:39:50</td>\n",
              "      <td>39.833333</td>\n",
              "      <td>2</td>\n",
              "      <td>6</td>\n",
              "    </tr>\n",
              "  </tbody>\n",
              "</table>\n",
              "</div>\n",
              "      <button class=\"colab-df-convert\" onclick=\"convertToInteractive('df-576adeb8-f863-4a56-a172-7f121639cb7d')\"\n",
              "              title=\"Convert this dataframe to an interactive table.\"\n",
              "              style=\"display:none;\">\n",
              "        \n",
              "  <svg xmlns=\"http://www.w3.org/2000/svg\" height=\"24px\"viewBox=\"0 0 24 24\"\n",
              "       width=\"24px\">\n",
              "    <path d=\"M0 0h24v24H0V0z\" fill=\"none\"/>\n",
              "    <path d=\"M18.56 5.44l.94 2.06.94-2.06 2.06-.94-2.06-.94-.94-2.06-.94 2.06-2.06.94zm-11 1L8.5 8.5l.94-2.06 2.06-.94-2.06-.94L8.5 2.5l-.94 2.06-2.06.94zm10 10l.94 2.06.94-2.06 2.06-.94-2.06-.94-.94-2.06-.94 2.06-2.06.94z\"/><path d=\"M17.41 7.96l-1.37-1.37c-.4-.4-.92-.59-1.43-.59-.52 0-1.04.2-1.43.59L10.3 9.45l-7.72 7.72c-.78.78-.78 2.05 0 2.83L4 21.41c.39.39.9.59 1.41.59.51 0 1.02-.2 1.41-.59l7.78-7.78 2.81-2.81c.8-.78.8-2.07 0-2.86zM5.41 20L4 18.59l7.72-7.72 1.47 1.35L5.41 20z\"/>\n",
              "  </svg>\n",
              "      </button>\n",
              "      \n",
              "  <style>\n",
              "    .colab-df-container {\n",
              "      display:flex;\n",
              "      flex-wrap:wrap;\n",
              "      gap: 12px;\n",
              "    }\n",
              "\n",
              "    .colab-df-convert {\n",
              "      background-color: #E8F0FE;\n",
              "      border: none;\n",
              "      border-radius: 50%;\n",
              "      cursor: pointer;\n",
              "      display: none;\n",
              "      fill: #1967D2;\n",
              "      height: 32px;\n",
              "      padding: 0 0 0 0;\n",
              "      width: 32px;\n",
              "    }\n",
              "\n",
              "    .colab-df-convert:hover {\n",
              "      background-color: #E2EBFA;\n",
              "      box-shadow: 0px 1px 2px rgba(60, 64, 67, 0.3), 0px 1px 3px 1px rgba(60, 64, 67, 0.15);\n",
              "      fill: #174EA6;\n",
              "    }\n",
              "\n",
              "    [theme=dark] .colab-df-convert {\n",
              "      background-color: #3B4455;\n",
              "      fill: #D2E3FC;\n",
              "    }\n",
              "\n",
              "    [theme=dark] .colab-df-convert:hover {\n",
              "      background-color: #434B5C;\n",
              "      box-shadow: 0px 1px 3px 1px rgba(0, 0, 0, 0.15);\n",
              "      filter: drop-shadow(0px 1px 2px rgba(0, 0, 0, 0.3));\n",
              "      fill: #FFFFFF;\n",
              "    }\n",
              "  </style>\n",
              "\n",
              "      <script>\n",
              "        const buttonEl =\n",
              "          document.querySelector('#df-576adeb8-f863-4a56-a172-7f121639cb7d button.colab-df-convert');\n",
              "        buttonEl.style.display =\n",
              "          google.colab.kernel.accessAllowed ? 'block' : 'none';\n",
              "\n",
              "        async function convertToInteractive(key) {\n",
              "          const element = document.querySelector('#df-576adeb8-f863-4a56-a172-7f121639cb7d');\n",
              "          const dataTable =\n",
              "            await google.colab.kernel.invokeFunction('convertToInteractive',\n",
              "                                                     [key], {});\n",
              "          if (!dataTable) return;\n",
              "\n",
              "          const docLinkHtml = 'Like what you see? Visit the ' +\n",
              "            '<a target=\"_blank\" href=https://colab.research.google.com/notebooks/data_table.ipynb>data table notebook</a>'\n",
              "            + ' to learn more about interactive tables.';\n",
              "          element.innerHTML = '';\n",
              "          dataTable['output_type'] = 'display_data';\n",
              "          await google.colab.output.renderOutput(dataTable, element);\n",
              "          const docLink = document.createElement('div');\n",
              "          docLink.innerHTML = docLinkHtml;\n",
              "          element.appendChild(docLink);\n",
              "        }\n",
              "      </script>\n",
              "    </div>\n",
              "  </div>\n",
              "  "
            ]
          },
          "metadata": {},
          "execution_count": 16
        }
      ],
      "source": [
        "df.head()"
      ]
    },
    {
      "cell_type": "markdown",
      "metadata": {
        "id": "broOABSwjuus"
      },
      "source": [
        "Dropping the columns that are no longer required"
      ]
    },
    {
      "cell_type": "code",
      "execution_count": null,
      "metadata": {
        "colab": {
          "base_uri": "https://localhost:8080/"
        },
        "id": "e2UF1UNfZHeR",
        "outputId": "8eef07c3-243f-499c-f272-491484ec6ee9"
      },
      "outputs": [
        {
          "output_type": "stream",
          "name": "stdout",
          "text": [
            "<class 'pandas.core.frame.DataFrame'>\n",
            "RangeIndex: 197428 entries, 0 to 197427\n",
            "Data columns (total 14 columns):\n",
            " #   Column                    Non-Null Count   Dtype  \n",
            "---  ------                    --------------   -----  \n",
            " 0   market_id                 196441 non-null  float64\n",
            " 1   store_primary_category    192668 non-null  object \n",
            " 2   order_protocol            196433 non-null  float64\n",
            " 3   total_items               197428 non-null  int64  \n",
            " 4   subtotal                  197428 non-null  int64  \n",
            " 5   num_distinct_items        197428 non-null  int64  \n",
            " 6   min_item_price            197428 non-null  int64  \n",
            " 7   max_item_price            197428 non-null  int64  \n",
            " 8   total_onshift_partners    181166 non-null  float64\n",
            " 9   total_busy_partners       181166 non-null  float64\n",
            " 10  total_outstanding_orders  181166 non-null  float64\n",
            " 11  time_taken_mins           197421 non-null  float64\n",
            " 12  hour                      197428 non-null  int64  \n",
            " 13  day                       197428 non-null  int64  \n",
            "dtypes: float64(6), int64(7), object(1)\n",
            "memory usage: 21.1+ MB\n"
          ]
        }
      ],
      "source": [
        "df.drop(['time_taken','created_at','actual_delivery_time'],axis=1,inplace=True)\n",
        "df.info()"
      ]
    },
    {
      "cell_type": "code",
      "execution_count": null,
      "metadata": {
        "colab": {
          "base_uri": "https://localhost:8080/"
        },
        "id": "vUE9eSH5_LgV",
        "outputId": "97d79596-1eeb-424c-a94f-1dad245ecf0c"
      },
      "outputs": [
        {
          "output_type": "stream",
          "name": "stdout",
          "text": [
            "<class 'pandas.core.frame.DataFrame'>\n",
            "RangeIndex: 197428 entries, 0 to 197427\n",
            "Data columns (total 14 columns):\n",
            " #   Column                    Non-Null Count   Dtype  \n",
            "---  ------                    --------------   -----  \n",
            " 0   market_id                 196441 non-null  float64\n",
            " 1   store_primary_category    197428 non-null  int8   \n",
            " 2   order_protocol            196433 non-null  float64\n",
            " 3   total_items               197428 non-null  int64  \n",
            " 4   subtotal                  197428 non-null  int64  \n",
            " 5   num_distinct_items        197428 non-null  int64  \n",
            " 6   min_item_price            197428 non-null  int64  \n",
            " 7   max_item_price            197428 non-null  int64  \n",
            " 8   total_onshift_partners    181166 non-null  float64\n",
            " 9   total_busy_partners       181166 non-null  float64\n",
            " 10  total_outstanding_orders  181166 non-null  float64\n",
            " 11  time_taken_mins           197421 non-null  float64\n",
            " 12  hour                      197428 non-null  int64  \n",
            " 13  day                       197428 non-null  int64  \n",
            "dtypes: float64(6), int64(7), int8(1)\n",
            "memory usage: 19.8 MB\n"
          ]
        }
      ],
      "source": [
        "df['store_primary_category'] = df['store_primary_category'].astype('category').cat.codes\n",
        "#df['order_protocol'] = df['order_protocol'].astype('category').cat.codes\n",
        "df.info()"
      ]
    },
    {
      "cell_type": "markdown",
      "metadata": {
        "id": "guC3SWUaT2ks"
      },
      "source": [
        "Checking null values in the data"
      ]
    },
    {
      "cell_type": "code",
      "source": [
        "df.isna().sum()"
      ],
      "metadata": {
        "colab": {
          "base_uri": "https://localhost:8080/"
        },
        "id": "weqUe039QzM3",
        "outputId": "d3e2eee4-c166-4ce5-f295-0309dffa924d"
      },
      "execution_count": null,
      "outputs": [
        {
          "output_type": "execute_result",
          "data": {
            "text/plain": [
              "market_id                     987\n",
              "store_primary_category          0\n",
              "order_protocol                995\n",
              "total_items                     0\n",
              "subtotal                        0\n",
              "num_distinct_items              0\n",
              "min_item_price                  0\n",
              "max_item_price                  0\n",
              "total_onshift_partners      16262\n",
              "total_busy_partners         16262\n",
              "total_outstanding_orders    16262\n",
              "time_taken_mins                 7\n",
              "hour                            0\n",
              "day                             0\n",
              "dtype: int64"
            ]
          },
          "metadata": {},
          "execution_count": 19
        }
      ]
    },
    {
      "cell_type": "markdown",
      "source": [
        "Imputing the missing data\n",
        "\n",
        "we will use a combination of knn and most frequent imputer\n",
        "most frequent imputer for object type columns like order protocol and store category.\n",
        "knn for other columns"
      ],
      "metadata": {
        "id": "N2ge9cneYMXx"
      }
    },
    {
      "cell_type": "code",
      "source": [
        "from sklearn.impute import KNNImputer, SimpleImputer\n",
        "si=SimpleImputer(strategy='most_frequent')\n",
        "df[['order_protocol','store_primary_category']]=si.fit_transform(df[['order_protocol','store_primary_category']])\n",
        "\n",
        "\n",
        "knn=KNNImputer(n_neighbors=5)\n",
        "df[['total_onshift_partners','total_outstanding_orders','total_busy_partners']]=knn.fit_transform(df[['total_onshift_partners','total_outstanding_orders','total_busy_partners']])"
      ],
      "metadata": {
        "id": "2s-tVz0T62lW"
      },
      "execution_count": null,
      "outputs": []
    },
    {
      "cell_type": "code",
      "source": [
        "df.info()"
      ],
      "metadata": {
        "colab": {
          "base_uri": "https://localhost:8080/"
        },
        "id": "Hr0rfMQ0M8AZ",
        "outputId": "29f57e19-04d5-4a46-a196-dd7ea50efc5b"
      },
      "execution_count": null,
      "outputs": [
        {
          "output_type": "stream",
          "name": "stdout",
          "text": [
            "<class 'pandas.core.frame.DataFrame'>\n",
            "RangeIndex: 197428 entries, 0 to 197427\n",
            "Data columns (total 14 columns):\n",
            " #   Column                    Non-Null Count   Dtype  \n",
            "---  ------                    --------------   -----  \n",
            " 0   market_id                 196441 non-null  float64\n",
            " 1   store_primary_category    197428 non-null  float64\n",
            " 2   order_protocol            197428 non-null  float64\n",
            " 3   total_items               197428 non-null  int64  \n",
            " 4   subtotal                  197428 non-null  int64  \n",
            " 5   num_distinct_items        197428 non-null  int64  \n",
            " 6   min_item_price            197428 non-null  int64  \n",
            " 7   max_item_price            197428 non-null  int64  \n",
            " 8   total_onshift_partners    197428 non-null  float64\n",
            " 9   total_busy_partners       197428 non-null  float64\n",
            " 10  total_outstanding_orders  197428 non-null  float64\n",
            " 11  time_taken_mins           197421 non-null  float64\n",
            " 12  hour                      197428 non-null  int64  \n",
            " 13  day                       197428 non-null  int64  \n",
            "dtypes: float64(7), int64(7)\n",
            "memory usage: 21.1 MB\n"
          ]
        }
      ]
    },
    {
      "cell_type": "code",
      "source": [
        "df.dropna(inplace=True)\n",
        "df.isna().sum()"
      ],
      "metadata": {
        "colab": {
          "base_uri": "https://localhost:8080/"
        },
        "id": "4LKMkrE8UHRv",
        "outputId": "bc96584b-57dc-486e-cd3d-5c5b181fc1a1"
      },
      "execution_count": null,
      "outputs": [
        {
          "output_type": "execute_result",
          "data": {
            "text/plain": [
              "market_id                   0\n",
              "store_primary_category      0\n",
              "order_protocol              0\n",
              "total_items                 0\n",
              "subtotal                    0\n",
              "num_distinct_items          0\n",
              "min_item_price              0\n",
              "max_item_price              0\n",
              "total_onshift_partners      0\n",
              "total_busy_partners         0\n",
              "total_outstanding_orders    0\n",
              "time_taken_mins             0\n",
              "hour                        0\n",
              "day                         0\n",
              "dtype: int64"
            ]
          },
          "metadata": {},
          "execution_count": 22
        }
      ]
    },
    {
      "cell_type": "code",
      "source": [
        "plt.figure(figsize=(10,4))\n",
        "sns.boxplot(data=df)\n",
        "plt.xticks(rotation=75)\n",
        "plt.show()"
      ],
      "metadata": {
        "colab": {
          "base_uri": "https://localhost:8080/",
          "height": 394
        },
        "id": "Zghv-lWeOUUv",
        "outputId": "8795fbfe-4f40-4959-ff77-f8cc2718c94a"
      },
      "execution_count": null,
      "outputs": [
        {
          "output_type": "display_data",
          "data": {
            "text/plain": [
              "<Figure size 720x288 with 1 Axes>"
            ],
            "image/png": "[encoded data removed]"
          },
          "metadata": {}
        }
      ]
    },
    {
      "cell_type": "code",
      "execution_count": null,
      "metadata": {
        "colab": {
          "base_uri": "https://localhost:8080/",
          "height": 535
        },
        "id": "JMYH0RsiPUn4",
        "outputId": "31fca001-b565-40a5-8e81-bb0c7a4679bf"
      },
      "outputs": [
        {
          "output_type": "execute_result",
          "data": {
            "text/plain": [
              "<AxesSubplot:xlabel='total_items', ylabel='subtotal'>"
            ]
          },
          "metadata": {},
          "execution_count": 24
        },
        {
          "output_type": "display_data",
          "data": {
            "text/plain": [
              "<Figure size 842.4x595.44 with 1 Axes>"
            ],
            "image/png": "[encoded data removed]"
          },
          "metadata": {}
        }
      ],
      "source": [
        "sns.scatterplot(x='total_items', y='subtotal', hue='num_distinct_items',palette='colorblind', data=df)"
      ]
    },
    {
      "cell_type": "code",
      "source": [],
      "metadata": {
        "id": "dZz1o1sqZecd"
      },
      "execution_count": null,
      "outputs": []
    },
    {
      "cell_type": "code",
      "execution_count": null,
      "metadata": {
        "id": "iadSQROLLgDt"
      },
      "outputs": [],
      "source": [
        "\n",
        "def outlier_treatment(datacolumn):\n",
        " sorted(datacolumn)\n",
        " Q1,Q3 = np.percentile(datacolumn , [25,75])\n",
        " IQR = Q3 - Q1\n",
        " lower_range = Q1 - (3 * IQR)\n",
        " upper_range = Q3 + (3 * IQR)\n",
        " return lower_range,upper_range"
      ]
    },
    {
      "cell_type": "markdown",
      "source": [
        "used outer quartile 3* IQR instead of 1.5 * IQR because with it almost 60000 rows are removed.\n",
        "using 1.5 iqr or inner quartile does give a performance boost of over 3-5% MAPE, but then the data is very much limited ( delivery time range is clipped to 85 mins instead of 120+) "
      ],
      "metadata": {
        "id": "ePa-xWJ0YU1d"
      }
    },
    {
      "cell_type": "code",
      "source": [
        "\n",
        "for col in df.columns:\n",
        "  lowerbound,upperbound = outlier_treatment(df[col])\n",
        "  df.drop(df[ (df[col] > upperbound) | (df[col] < lowerbound) ].index , inplace=True)\n"
      ],
      "metadata": {
        "id": "Cg7LqlWscoyo"
      },
      "execution_count": null,
      "outputs": []
    },
    {
      "cell_type": "code",
      "source": [
        "plt.figure(figsize=(15,5))\n",
        "sns.boxplot(data=df)\n",
        "plt.xticks(rotation=90)\n",
        "plt.show()"
      ],
      "metadata": {
        "colab": {
          "base_uri": "https://localhost:8080/",
          "height": 450
        },
        "id": "ngy85lKbx1T-",
        "outputId": "4280e234-3aaa-400c-e85b-57ea60dc1a01"
      },
      "execution_count": null,
      "outputs": [
        {
          "output_type": "display_data",
          "data": {
            "text/plain": [
              "<Figure size 1080x360 with 1 Axes>"
            ],
            "image/png": "[encoded data removed]"
          },
          "metadata": {}
        }
      ]
    },
    {
      "cell_type": "code",
      "execution_count": null,
      "metadata": {
        "id": "F9hOJ5GPuVCC",
        "colab": {
          "base_uri": "https://localhost:8080/",
          "height": 71
        },
        "outputId": "55dcaf48-1bad-44a8-a45a-76efe648b546"
      },
      "outputs": [
        {
          "output_type": "execute_result",
          "data": {
            "text/plain": [
              "'python\\nfrom sklearn.neighbors import LocalOutlierFactor\\nimport matplotlib.pyplot as plt\\nmodel1 = LocalOutlierFactor()\\n#model1.fit(df)\\ndf[\\'lof_anomaly_score\\'] = model1.fit_predict(df)\\n\\n\\nprint(\"number of outliers : \",(len(df.loc[(df[\\'lof_anomaly_score\\'] == -1)])))\\ndf=df.loc[(df[\\'lof_anomaly_score\\'] == 1)]\\n\\ndf.drop([\\'lof_anomaly_score\\'],axis=1,inplace=True)\\n\\ndf.info()\\n'"
            ],
            "application/vnd.google.colaboratory.intrinsic+json": {
              "type": "string"
            }
          },
          "metadata": {},
          "execution_count": 50
        }
      ],
      "source": [
        "'''python\n",
        "from sklearn.neighbors import LocalOutlierFactor\n",
        "import matplotlib.pyplot as plt\n",
        "model1 = LocalOutlierFactor()\n",
        "#model1.fit(df)\n",
        "df['lof_anomaly_score'] = model1.fit_predict(df)\n",
        "\n",
        "\n",
        "print(\"number of outliers : \",(len(df.loc[(df['lof_anomaly_score'] == -1)])))\n",
        "df=df.loc[(df['lof_anomaly_score'] == 1)]\n",
        "\n",
        "df.drop(['lof_anomaly_score'],axis=1,inplace=True)\n",
        "\n",
        "df.info()\n",
        "'''"
      ]
    },
    {
      "cell_type": "markdown",
      "source": [
        "LOF of isolation forest can also be used"
      ],
      "metadata": {
        "id": "2C8ESGQGT6c1"
      }
    },
    {
      "cell_type": "code",
      "source": [
        "df.info()"
      ],
      "metadata": {
        "colab": {
          "base_uri": "https://localhost:8080/"
        },
        "id": "2v5t600CdDQ4",
        "outputId": "17f8cb56-6b5c-40e7-ad41-0df1b60f286f"
      },
      "execution_count": null,
      "outputs": [
        {
          "output_type": "stream",
          "name": "stdout",
          "text": [
            "<class 'pandas.core.frame.DataFrame'>\n",
            "Int64Index: 188450 entries, 0 to 197427\n",
            "Data columns (total 14 columns):\n",
            " #   Column                    Non-Null Count   Dtype  \n",
            "---  ------                    --------------   -----  \n",
            " 0   market_id                 188450 non-null  float64\n",
            " 1   store_primary_category    188450 non-null  float64\n",
            " 2   order_protocol            188450 non-null  float64\n",
            " 3   total_items               188450 non-null  int64  \n",
            " 4   subtotal                  188450 non-null  int64  \n",
            " 5   num_distinct_items        188450 non-null  int64  \n",
            " 6   min_item_price            188450 non-null  int64  \n",
            " 7   max_item_price            188450 non-null  int64  \n",
            " 8   total_onshift_partners    188450 non-null  float64\n",
            " 9   total_busy_partners       188450 non-null  float64\n",
            " 10  total_outstanding_orders  188450 non-null  float64\n",
            " 11  time_taken_mins           188450 non-null  float64\n",
            " 12  hour                      188450 non-null  int64  \n",
            " 13  day                       188450 non-null  int64  \n",
            "dtypes: float64(7), int64(7)\n",
            "memory usage: 25.6 MB\n"
          ]
        }
      ]
    },
    {
      "cell_type": "markdown",
      "metadata": {
        "id": "n_Qc6KovLPVI"
      },
      "source": [
        "We can see that after removing outliers our data is looking better"
      ]
    },
    {
      "cell_type": "code",
      "execution_count": null,
      "metadata": {
        "colab": {
          "base_uri": "https://localhost:8080/",
          "height": 591
        },
        "id": "HdQSSNIZC-po",
        "outputId": "a24ecd04-4346-4c77-caa9-b8e7c744a089"
      },
      "outputs": [
        {
          "output_type": "stream",
          "name": "stderr",
          "text": [
            "/usr/local/lib/python3.8/dist-packages/seaborn/_decorators.py:36: FutureWarning: Pass the following variable as a keyword arg: x. From version 0.12, the only valid positional argument will be `data`, and passing other arguments without an explicit keyword will result in an error or misinterpretation.\n",
            "  warnings.warn(\n"
          ]
        },
        {
          "output_type": "execute_result",
          "data": {
            "text/plain": [
              "<AxesSubplot:xlabel='day', ylabel='count'>"
            ]
          },
          "metadata": {},
          "execution_count": 30
        },
        {
          "output_type": "display_data",
          "data": {
            "text/plain": [
              "<Figure size 842.4x595.44 with 1 Axes>"
            ],
            "image/png": "[encoded data removed]"
          },
          "metadata": {}
        }
      ],
      "source": [
        "sns.countplot(df.day)"
      ]
    },
    {
      "cell_type": "code",
      "execution_count": null,
      "metadata": {
        "colab": {
          "base_uri": "https://localhost:8080/",
          "height": 591
        },
        "id": "Grn_h5SOUOzh",
        "outputId": "a016341c-ee41-484c-e6db-cac430508c55"
      },
      "outputs": [
        {
          "output_type": "stream",
          "name": "stderr",
          "text": [
            "/usr/local/lib/python3.8/dist-packages/seaborn/_decorators.py:36: FutureWarning: Pass the following variable as a keyword arg: x. From version 0.12, the only valid positional argument will be `data`, and passing other arguments without an explicit keyword will result in an error or misinterpretation.\n",
            "  warnings.warn(\n"
          ]
        },
        {
          "output_type": "execute_result",
          "data": {
            "text/plain": [
              "<AxesSubplot:xlabel='hour', ylabel='count'>"
            ]
          },
          "metadata": {},
          "execution_count": 31
        },
        {
          "output_type": "display_data",
          "data": {
            "text/plain": [
              "<Figure size 842.4x595.44 with 1 Axes>"
            ],
            "image/png": "[encoded data removed]"
          },
          "metadata": {}
        }
      ],
      "source": [
        "sns.countplot(df.hour)"
      ]
    },
    {
      "cell_type": "code",
      "source": [
        "print(df.nunique())"
      ],
      "metadata": {
        "colab": {
          "base_uri": "https://localhost:8080/"
        },
        "id": "ZpMP4AZC91Og",
        "outputId": "cefa483d-57c8-4ab7-83ce-393f1563e991"
      },
      "execution_count": null,
      "outputs": [
        {
          "output_type": "stream",
          "name": "stdout",
          "text": [
            "market_id                      6\n",
            "store_primary_category        75\n",
            "order_protocol                 7\n",
            "total_items                   10\n",
            "subtotal                    7019\n",
            "num_distinct_items             9\n",
            "min_item_price              2072\n",
            "max_item_price              2321\n",
            "total_onshift_partners       173\n",
            "total_busy_partners          159\n",
            "total_outstanding_orders     266\n",
            "time_taken_mins             6144\n",
            "hour                          18\n",
            "day                            7\n",
            "dtype: int64\n"
          ]
        }
      ]
    },
    {
      "cell_type": "markdown",
      "metadata": {
        "id": "xDeIBOmwC_bf"
      },
      "source": [
        "## Data Spliting and modeling"
      ]
    },
    {
      "cell_type": "code",
      "source": [
        "df.info()"
      ],
      "metadata": {
        "colab": {
          "base_uri": "https://localhost:8080/"
        },
        "id": "2HkdZnJuObxl",
        "outputId": "1c27c380-1fb2-4035-e905-ca6fbd7b28f6"
      },
      "execution_count": null,
      "outputs": [
        {
          "output_type": "stream",
          "name": "stdout",
          "text": [
            "<class 'pandas.core.frame.DataFrame'>\n",
            "Int64Index: 188450 entries, 0 to 197427\n",
            "Data columns (total 14 columns):\n",
            " #   Column                    Non-Null Count   Dtype  \n",
            "---  ------                    --------------   -----  \n",
            " 0   market_id                 188450 non-null  float64\n",
            " 1   store_primary_category    188450 non-null  float64\n",
            " 2   order_protocol            188450 non-null  float64\n",
            " 3   total_items               188450 non-null  int64  \n",
            " 4   subtotal                  188450 non-null  int64  \n",
            " 5   num_distinct_items        188450 non-null  int64  \n",
            " 6   min_item_price            188450 non-null  int64  \n",
            " 7   max_item_price            188450 non-null  int64  \n",
            " 8   total_onshift_partners    188450 non-null  float64\n",
            " 9   total_busy_partners       188450 non-null  float64\n",
            " 10  total_outstanding_orders  188450 non-null  float64\n",
            " 11  time_taken_mins           188450 non-null  float64\n",
            " 12  hour                      188450 non-null  int64  \n",
            " 13  day                       188450 non-null  int64  \n",
            "dtypes: float64(7), int64(7)\n",
            "memory usage: 25.6 MB\n"
          ]
        }
      ]
    },
    {
      "cell_type": "code",
      "execution_count": null,
      "metadata": {
        "id": "e6XF46ZLwAz9"
      },
      "outputs": [],
      "source": [
        " \n",
        "x = df.drop(['time_taken_mins'], axis=1)\n",
        "y=df['time_taken_mins']\n",
        "\n",
        "X_train, X_test, y_train, y_test = train_test_split(x, y, test_size=0.2)"
      ]
    },
    {
      "cell_type": "code",
      "source": [
        "print(y.mean())"
      ],
      "metadata": {
        "colab": {
          "base_uri": "https://localhost:8080/"
        },
        "id": "XMMleTYRfMi7",
        "outputId": "5e00c236-0d19-4c6d-e50a-ba6995356b71"
      },
      "execution_count": null,
      "outputs": [
        {
          "output_type": "stream",
          "name": "stdout",
          "text": [
            "46.78271389404794\n"
          ]
        }
      ]
    },
    {
      "cell_type": "code",
      "execution_count": null,
      "metadata": {
        "id": "2so1a1n_SawU"
      },
      "outputs": [],
      "source": [
        "from sklearn import preprocessing\n",
        "#scaler = preprocessing.MinMaxScaler()\n",
        "scaler = preprocessing.StandardScaler()\n",
        "x_scaled = scaler.fit_transform(x)\n",
        "#y_scaled = scaler.fit_transform(y.to_numpy().reshape(-1, 1))\n",
        "X_train, X_test, y_train, y_test = train_test_split(x_scaled, y, test_size=0.2)"
      ]
    },
    {
      "cell_type": "markdown",
      "metadata": {
        "id": "R02rkGtiWuPR"
      },
      "source": [
        "## **Random forest** "
      ]
    },
    {
      "cell_type": "code",
      "execution_count": null,
      "metadata": {
        "colab": {
          "base_uri": "https://localhost:8080/"
        },
        "id": "aZENXQIwYX6I",
        "outputId": "097d0ae7-6062-4861-e868-5c3f487b7c13"
      },
      "outputs": [
        {
          "output_type": "execute_result",
          "data": {
            "text/plain": [
              "RandomForestRegressor()"
            ]
          },
          "metadata": {},
          "execution_count": 37
        }
      ],
      "source": [
        "\n",
        "regressor = RandomForestRegressor()\n",
        " \n",
        "regressor.fit(X_train, y_train)"
      ]
    },
    {
      "cell_type": "code",
      "execution_count": null,
      "metadata": {
        "colab": {
          "base_uri": "https://localhost:8080/"
        },
        "id": "-6EsocrOYX2z",
        "outputId": "98fc20ac-b5d9-4d87-87b6-39bfe8d9ae7d"
      },
      "outputs": [
        {
          "output_type": "stream",
          "name": "stdout",
          "text": [
            "mse :  209.48718407936514\n",
            "rmse :  14.47367210072707\n",
            "mae: 11.077095452816838\n",
            "r squred score :  0.2596861246302018\n"
          ]
        }
      ],
      "source": [
        "prediction = regressor.predict(X_test)\n",
        "mse = mean_squared_error(y_test, prediction)\n",
        "rmse = mse**.5\n",
        "print(\"mse : \", mse)\n",
        "print(\"rmse : \",rmse)\n",
        "mae = mean_absolute_error(y_test, prediction)\n",
        "print('mae:' ,mae)\n",
        "print(\"r squred score : \", r2_score(y_test, prediction))"
      ]
    },
    {
      "cell_type": "code",
      "source": [
        "def MAPE(Y_actual,Y_Predicted):\n",
        "    mape = np.mean(np.abs((Y_actual - Y_Predicted)/Y_actual))*100\n",
        "    return mape"
      ],
      "metadata": {
        "id": "PwvnqefHSFg7"
      },
      "execution_count": null,
      "outputs": []
    },
    {
      "cell_type": "code",
      "source": [
        "\n",
        "mape = MAPE(y_test, prediction)\n",
        "print(mape)"
      ],
      "metadata": {
        "colab": {
          "base_uri": "https://localhost:8080/"
        },
        "id": "N2CWH9AUsorW",
        "outputId": "9e508aae-941c-4c6f-bd6a-d24177f053d9"
      },
      "execution_count": null,
      "outputs": [
        {
          "output_type": "stream",
          "name": "stdout",
          "text": [
            "26.41065483977918\n"
          ]
        }
      ]
    },
    {
      "cell_type": "markdown",
      "metadata": {
        "id": "JHOjh4hcqO43"
      },
      "source": [
        "feature importance"
      ]
    },
    {
      "cell_type": "code",
      "execution_count": null,
      "metadata": {
        "colab": {
          "base_uri": "https://localhost:8080/",
          "height": 535
        },
        "id": "zepZDHjqbizY",
        "outputId": "4a0fb3e1-7e65-409e-c9a7-3d71d31bb8f6"
      },
      "outputs": [
        {
          "output_type": "execute_result",
          "data": {
            "text/plain": [
              "Text(0.5, 0, 'Random Forest Feature Importance')"
            ]
          },
          "metadata": {},
          "execution_count": 41
        },
        {
          "output_type": "display_data",
          "data": {
            "text/plain": [
              "<Figure size 842.4x595.44 with 1 Axes>"
            ],
            "image/png": "[encoded data removed]"
          },
          "metadata": {}
        }
      ],
      "source": [
        "sorted_idx = regressor.feature_importances_.argsort()\n",
        "plt.barh(df.columns[sorted_idx], regressor.feature_importances_[sorted_idx])\n",
        "plt.xlabel(\"Random Forest Feature Importance\")"
      ]
    },
    {
      "cell_type": "code",
      "source": [],
      "metadata": {
        "id": "ywF37Y63M7-V"
      },
      "execution_count": null,
      "outputs": []
    },
    {
      "cell_type": "markdown",
      "source": [
        "## neural network for regression"
      ],
      "metadata": {
        "id": "D3Wmm5O2W0SO"
      }
    },
    {
      "cell_type": "markdown",
      "metadata": {
        "id": "as8X0BcGenkQ"
      },
      "source": [
        "We will build a simple neural network to train our regression model\n",
        "it is a sequential model with three layers,\n",
        "\n",
        " we have kept the number of nodes in the first layers equal to the number of input columns, and for the subsequent layers anything from 32-512 or more, which can we changed or experimented with\n",
        "\n",
        " the activation for the layers is kept as relu because it is a great non linear activation function that works for most cases, we could have used leaky relu if we see gradient vanishing.\n",
        "\n",
        " the last layer has one node because it will give the single result that is our delivery time and the activation function for that should be linear"
      ]
    },
    {
      "cell_type": "code",
      "source": [
        "print(X_train.shape)"
      ],
      "metadata": {
        "colab": {
          "base_uri": "https://localhost:8080/"
        },
        "id": "6FP4y74us1cy",
        "outputId": "b78c0c1c-1860-4010-988c-ec502cd6c379"
      },
      "execution_count": null,
      "outputs": [
        {
          "output_type": "stream",
          "name": "stdout",
          "text": [
            "(150760, 13)\n"
          ]
        }
      ]
    },
    {
      "cell_type": "code",
      "execution_count": null,
      "metadata": {
        "id": "ijbbUZEE4IIi"
      },
      "outputs": [],
      "source": [
        "model = Sequential()\n",
        "model.add(Dense(13,  kernel_initializer='normal', activation='relu'))\n",
        "model.add(Dense(128, activation='relu'))\n",
        "model.add(Dense(256, activation='relu'))\n",
        "model.add(Dropout(0.2))\n",
        "model.add(Dense(256, activation='relu'))\n",
        "model.add(Dense(1, activation='linear'))\n",
        "#model.add(Dense(1, activation='relu'))\n"
      ]
    },
    {
      "cell_type": "markdown",
      "metadata": {
        "id": "J3jpU-uAhhj2"
      },
      "source": [
        "we use adam optimizer which is extention to classic schostic gradient descent(SGD) algorithm, but handles much of its drawbacks\n",
        "\n",
        "Stochastic gradient descent maintains a single learning rate (termed alpha) for all weight updates and the learning rate does not change during training.\n",
        "\n",
        "https://machinelearningmastery.com/adam-optimization-algorithm-for-deep-learning/"
      ]
    },
    {
      "cell_type": "code",
      "source": [
        "early_stop = tf.keras.callbacks.EarlyStopping(monitor='loss',patience=10)"
      ],
      "metadata": {
        "id": "i_vFHXZH1ypT"
      },
      "execution_count": null,
      "outputs": []
    },
    {
      "cell_type": "code",
      "execution_count": null,
      "metadata": {
        "colab": {
          "base_uri": "https://localhost:8080/"
        },
        "id": "9FvBY_cEiykk",
        "outputId": "e8c21e18-2d50-4c66-cae4-458834dbfa13"
      },
      "outputs": [
        {
          "output_type": "stream",
          "name": "stdout",
          "text": [
            "Epoch 1/200\n",
            "16/16 [==============================] - 4s 158ms/step - loss: 2390.5845 - mse: 2390.5845 - mae: 45.9356 - val_loss: 2125.8240 - val_mse: 2125.8240 - val_mae: 43.0081\n",
            "Epoch 2/200\n",
            "16/16 [==============================] - 2s 149ms/step - loss: 1418.8710 - mse: 1418.8710 - mae: 32.8619 - val_loss: 384.9592 - val_mse: 384.9592 - val_mae: 15.0364\n",
            "Epoch 3/200\n",
            "16/16 [==============================] - 3s 218ms/step - loss: 430.2242 - mse: 430.2242 - mae: 16.2742 - val_loss: 343.3332 - val_mse: 343.3332 - val_mae: 13.7297\n",
            "Epoch 4/200\n",
            "16/16 [==============================] - 3s 159ms/step - loss: 328.6756 - mse: 328.6756 - mae: 13.5950 - val_loss: 302.2324 - val_mse: 302.2324 - val_mae: 13.6005\n",
            "Epoch 5/200\n",
            "16/16 [==============================] - 2s 146ms/step - loss: 292.5354 - mse: 292.5354 - mae: 13.1463 - val_loss: 278.0009 - val_mse: 278.0009 - val_mae: 12.6365\n",
            "Epoch 6/200\n",
            "16/16 [==============================] - 2s 147ms/step - loss: 277.4372 - mse: 277.4372 - mae: 12.8141 - val_loss: 267.0681 - val_mse: 267.0681 - val_mae: 12.5136\n",
            "Epoch 7/200\n",
            "16/16 [==============================] - 2s 147ms/step - loss: 269.2617 - mse: 269.2617 - mae: 12.5691 - val_loss: 260.6976 - val_mse: 260.6976 - val_mae: 12.4183\n",
            "Epoch 8/200\n",
            "16/16 [==============================] - 3s 216ms/step - loss: 263.1026 - mse: 263.1026 - mae: 12.4616 - val_loss: 255.6768 - val_mse: 255.6768 - val_mae: 12.2395\n",
            "Epoch 9/200\n",
            "16/16 [==============================] - 3s 158ms/step - loss: 258.4184 - mse: 258.4184 - mae: 12.3461 - val_loss: 251.8465 - val_mse: 251.8465 - val_mae: 12.1734\n",
            "Epoch 10/200\n",
            "16/16 [==============================] - 2s 145ms/step - loss: 255.3663 - mse: 255.3663 - mae: 12.2821 - val_loss: 248.8327 - val_mse: 248.8327 - val_mae: 12.0847\n",
            "Epoch 11/200\n",
            "16/16 [==============================] - 2s 146ms/step - loss: 252.5144 - mse: 252.5144 - mae: 12.2025 - val_loss: 246.3595 - val_mse: 246.3595 - val_mae: 12.0090\n",
            "Epoch 12/200\n",
            "16/16 [==============================] - 2s 149ms/step - loss: 250.1735 - mse: 250.1735 - mae: 12.1430 - val_loss: 244.1238 - val_mse: 244.1238 - val_mae: 11.9967\n",
            "Epoch 13/200\n",
            "16/16 [==============================] - 3s 223ms/step - loss: 247.8477 - mse: 247.8477 - mae: 12.0828 - val_loss: 242.0968 - val_mse: 242.0968 - val_mae: 11.9444\n",
            "Epoch 14/200\n",
            "16/16 [==============================] - 3s 158ms/step - loss: 245.6893 - mse: 245.6893 - mae: 12.0398 - val_loss: 240.2738 - val_mse: 240.2738 - val_mae: 11.8986\n",
            "Epoch 15/200\n",
            "16/16 [==============================] - 2s 143ms/step - loss: 243.7480 - mse: 243.7480 - mae: 11.9805 - val_loss: 238.7679 - val_mse: 238.7679 - val_mae: 11.8990\n",
            "Epoch 16/200\n",
            "16/16 [==============================] - 2s 143ms/step - loss: 242.1176 - mse: 242.1176 - mae: 11.9518 - val_loss: 237.0658 - val_mse: 237.0658 - val_mae: 11.8410\n",
            "Epoch 17/200\n",
            "16/16 [==============================] - 2s 141ms/step - loss: 240.1703 - mse: 240.1703 - mae: 11.9109 - val_loss: 235.2961 - val_mse: 235.2961 - val_mae: 11.7599\n",
            "Epoch 18/200\n",
            "16/16 [==============================] - 3s 204ms/step - loss: 238.7606 - mse: 238.7606 - mae: 11.8603 - val_loss: 233.7575 - val_mse: 233.7575 - val_mae: 11.7407\n",
            "Epoch 19/200\n",
            "16/16 [==============================] - 3s 172ms/step - loss: 237.3821 - mse: 237.3821 - mae: 11.8339 - val_loss: 232.3694 - val_mse: 232.3694 - val_mae: 11.7063\n",
            "Epoch 20/200\n",
            "16/16 [==============================] - 2s 144ms/step - loss: 235.4303 - mse: 235.4303 - mae: 11.7681 - val_loss: 230.9213 - val_mse: 230.9213 - val_mae: 11.6768\n",
            "Epoch 21/200\n",
            "16/16 [==============================] - 2s 145ms/step - loss: 234.4832 - mse: 234.4832 - mae: 11.7515 - val_loss: 229.8123 - val_mse: 229.8123 - val_mae: 11.6529\n",
            "Epoch 22/200\n",
            "16/16 [==============================] - 2s 144ms/step - loss: 233.3039 - mse: 233.3039 - mae: 11.7176 - val_loss: 229.0378 - val_mse: 229.0378 - val_mae: 11.6423\n",
            "Epoch 23/200\n",
            "16/16 [==============================] - 3s 206ms/step - loss: 232.0607 - mse: 232.0607 - mae: 11.6852 - val_loss: 228.1887 - val_mse: 228.1887 - val_mae: 11.5618\n",
            "Epoch 24/200\n",
            "16/16 [==============================] - 4s 268ms/step - loss: 231.2837 - mse: 231.2837 - mae: 11.6557 - val_loss: 227.6700 - val_mse: 227.6700 - val_mae: 11.5219\n",
            "Epoch 25/200\n",
            "16/16 [==============================] - 2s 144ms/step - loss: 230.6286 - mse: 230.6286 - mae: 11.6415 - val_loss: 227.2334 - val_mse: 227.2334 - val_mae: 11.5091\n",
            "Epoch 26/200\n",
            "16/16 [==============================] - 2s 144ms/step - loss: 230.5770 - mse: 230.5770 - mae: 11.6259 - val_loss: 226.7063 - val_mse: 226.7063 - val_mae: 11.5042\n",
            "Epoch 27/200\n",
            "16/16 [==============================] - 2s 146ms/step - loss: 229.7119 - mse: 229.7119 - mae: 11.6282 - val_loss: 226.5686 - val_mse: 226.5686 - val_mae: 11.5667\n",
            "Epoch 28/200\n",
            "16/16 [==============================] - 2s 142ms/step - loss: 229.6567 - mse: 229.6567 - mae: 11.6259 - val_loss: 225.8678 - val_mse: 225.8678 - val_mae: 11.5262\n",
            "Epoch 29/200\n",
            "16/16 [==============================] - 4s 239ms/step - loss: 229.0367 - mse: 229.0367 - mae: 11.6005 - val_loss: 225.5437 - val_mse: 225.5437 - val_mae: 11.4597\n",
            "Epoch 30/200\n",
            "16/16 [==============================] - 2s 146ms/step - loss: 228.3333 - mse: 228.3333 - mae: 11.5692 - val_loss: 225.0666 - val_mse: 225.0666 - val_mae: 11.4974\n",
            "Epoch 31/200\n",
            "16/16 [==============================] - 2s 144ms/step - loss: 227.8857 - mse: 227.8857 - mae: 11.5677 - val_loss: 224.5371 - val_mse: 224.5371 - val_mae: 11.4685\n",
            "Epoch 32/200\n",
            "16/16 [==============================] - 2s 145ms/step - loss: 227.8849 - mse: 227.8849 - mae: 11.5747 - val_loss: 224.1643 - val_mse: 224.1643 - val_mae: 11.4529\n",
            "Epoch 33/200\n",
            "16/16 [==============================] - 2s 150ms/step - loss: 227.4607 - mse: 227.4607 - mae: 11.5404 - val_loss: 223.6822 - val_mse: 223.6822 - val_mae: 11.4176\n",
            "Epoch 34/200\n",
            "16/16 [==============================] - 4s 237ms/step - loss: 226.8898 - mse: 226.8898 - mae: 11.5314 - val_loss: 223.1502 - val_mse: 223.1502 - val_mae: 11.4156\n",
            "Epoch 35/200\n",
            "16/16 [==============================] - 2s 149ms/step - loss: 226.3632 - mse: 226.3632 - mae: 11.5346 - val_loss: 222.8444 - val_mse: 222.8444 - val_mae: 11.4118\n",
            "Epoch 36/200\n",
            "16/16 [==============================] - 2s 145ms/step - loss: 226.2377 - mse: 226.2377 - mae: 11.5115 - val_loss: 222.5141 - val_mse: 222.5141 - val_mae: 11.4233\n",
            "Epoch 37/200\n",
            "16/16 [==============================] - 2s 142ms/step - loss: 226.2726 - mse: 226.2726 - mae: 11.5349 - val_loss: 222.3946 - val_mse: 222.3946 - val_mae: 11.4056\n",
            "Epoch 38/200\n",
            "16/16 [==============================] - 2s 146ms/step - loss: 225.9881 - mse: 225.9881 - mae: 11.5026 - val_loss: 221.9460 - val_mse: 221.9460 - val_mae: 11.3807\n",
            "Epoch 39/200\n",
            "16/16 [==============================] - 4s 231ms/step - loss: 225.5913 - mse: 225.5913 - mae: 11.5042 - val_loss: 221.9967 - val_mse: 221.9967 - val_mae: 11.4148\n",
            "Epoch 40/200\n",
            "16/16 [==============================] - 2s 144ms/step - loss: 225.2655 - mse: 225.2655 - mae: 11.4931 - val_loss: 221.7663 - val_mse: 221.7663 - val_mae: 11.3597\n",
            "Epoch 41/200\n",
            "16/16 [==============================] - 2s 145ms/step - loss: 225.2812 - mse: 225.2812 - mae: 11.4968 - val_loss: 221.5756 - val_mse: 221.5756 - val_mae: 11.3429\n",
            "Epoch 42/200\n",
            "16/16 [==============================] - 2s 142ms/step - loss: 225.2344 - mse: 225.2344 - mae: 11.4688 - val_loss: 222.1651 - val_mse: 222.1651 - val_mae: 11.4916\n",
            "Epoch 43/200\n",
            "16/16 [==============================] - 2s 148ms/step - loss: 225.2929 - mse: 225.2929 - mae: 11.5093 - val_loss: 221.3271 - val_mse: 221.3271 - val_mae: 11.3222\n",
            "Epoch 44/200\n",
            "16/16 [==============================] - 4s 226ms/step - loss: 224.9035 - mse: 224.9035 - mae: 11.4876 - val_loss: 221.1760 - val_mse: 221.1760 - val_mae: 11.3666\n",
            "Epoch 45/200\n",
            "16/16 [==============================] - 2s 144ms/step - loss: 224.4357 - mse: 224.4357 - mae: 11.4654 - val_loss: 221.1981 - val_mse: 221.1981 - val_mae: 11.3285\n",
            "Epoch 46/200\n",
            "16/16 [==============================] - 2s 144ms/step - loss: 224.2408 - mse: 224.2408 - mae: 11.4563 - val_loss: 220.9935 - val_mse: 220.9935 - val_mae: 11.3806\n",
            "Epoch 47/200\n",
            "16/16 [==============================] - 2s 145ms/step - loss: 224.3609 - mse: 224.3609 - mae: 11.4602 - val_loss: 220.7682 - val_mse: 220.7682 - val_mae: 11.3710\n",
            "Epoch 48/200\n",
            "16/16 [==============================] - 2s 145ms/step - loss: 224.2414 - mse: 224.2414 - mae: 11.4650 - val_loss: 220.9321 - val_mse: 220.9321 - val_mae: 11.4198\n",
            "Epoch 49/200\n",
            "16/16 [==============================] - 3s 223ms/step - loss: 224.5227 - mse: 224.5227 - mae: 11.4883 - val_loss: 221.0479 - val_mse: 221.0479 - val_mae: 11.2865\n",
            "Epoch 50/200\n",
            "16/16 [==============================] - 3s 154ms/step - loss: 224.1685 - mse: 224.1685 - mae: 11.4552 - val_loss: 220.7493 - val_mse: 220.7493 - val_mae: 11.3975\n",
            "Epoch 51/200\n",
            "16/16 [==============================] - 2s 143ms/step - loss: 223.9275 - mse: 223.9275 - mae: 11.4626 - val_loss: 220.6893 - val_mse: 220.6893 - val_mae: 11.3765\n",
            "Epoch 52/200\n",
            "16/16 [==============================] - 2s 147ms/step - loss: 223.6480 - mse: 223.6480 - mae: 11.4535 - val_loss: 220.5435 - val_mse: 220.5435 - val_mae: 11.3128\n",
            "Epoch 53/200\n",
            "16/16 [==============================] - 2s 145ms/step - loss: 223.7263 - mse: 223.7263 - mae: 11.4386 - val_loss: 220.3154 - val_mse: 220.3154 - val_mae: 11.3631\n",
            "Epoch 54/200\n",
            "16/16 [==============================] - 3s 218ms/step - loss: 223.5477 - mse: 223.5477 - mae: 11.4472 - val_loss: 220.2641 - val_mse: 220.2641 - val_mae: 11.3161\n",
            "Epoch 55/200\n",
            "16/16 [==============================] - 3s 154ms/step - loss: 223.4173 - mse: 223.4173 - mae: 11.4302 - val_loss: 220.5927 - val_mse: 220.5927 - val_mae: 11.4376\n",
            "Epoch 56/200\n",
            "16/16 [==============================] - 2s 143ms/step - loss: 223.7581 - mse: 223.7581 - mae: 11.4516 - val_loss: 220.1563 - val_mse: 220.1563 - val_mae: 11.3735\n",
            "Epoch 57/200\n",
            "16/16 [==============================] - 3s 158ms/step - loss: 223.4502 - mse: 223.4502 - mae: 11.4569 - val_loss: 220.1315 - val_mse: 220.1315 - val_mae: 11.2970\n",
            "Epoch 58/200\n",
            "16/16 [==============================] - 2s 147ms/step - loss: 223.0507 - mse: 223.0507 - mae: 11.4236 - val_loss: 219.9040 - val_mse: 219.9040 - val_mae: 11.3498\n",
            "Epoch 59/200\n",
            "16/16 [==============================] - 3s 222ms/step - loss: 223.0561 - mse: 223.0561 - mae: 11.4278 - val_loss: 219.9424 - val_mse: 219.9424 - val_mae: 11.3486\n",
            "Epoch 60/200\n",
            "16/16 [==============================] - 3s 163ms/step - loss: 223.1964 - mse: 223.1964 - mae: 11.4352 - val_loss: 219.7571 - val_mse: 219.7571 - val_mae: 11.3499\n",
            "Epoch 61/200\n",
            "16/16 [==============================] - 2s 150ms/step - loss: 222.9177 - mse: 222.9177 - mae: 11.4362 - val_loss: 219.9819 - val_mse: 219.9819 - val_mae: 11.2742\n",
            "Epoch 62/200\n",
            "16/16 [==============================] - 2s 148ms/step - loss: 222.7684 - mse: 222.7684 - mae: 11.4180 - val_loss: 219.6776 - val_mse: 219.6776 - val_mae: 11.3597\n",
            "Epoch 63/200\n",
            "16/16 [==============================] - 2s 148ms/step - loss: 223.0553 - mse: 223.0553 - mae: 11.4358 - val_loss: 219.8247 - val_mse: 219.8247 - val_mae: 11.3461\n",
            "Epoch 64/200\n",
            "16/16 [==============================] - 3s 222ms/step - loss: 222.8964 - mse: 222.8964 - mae: 11.4313 - val_loss: 219.6650 - val_mse: 219.6650 - val_mae: 11.3174\n",
            "Epoch 65/200\n",
            "16/16 [==============================] - 2s 150ms/step - loss: 222.8810 - mse: 222.8810 - mae: 11.4211 - val_loss: 219.6573 - val_mse: 219.6573 - val_mae: 11.3311\n",
            "Epoch 66/200\n",
            "16/16 [==============================] - 2s 144ms/step - loss: 222.6166 - mse: 222.6166 - mae: 11.4252 - val_loss: 220.0884 - val_mse: 220.0884 - val_mae: 11.2331\n",
            "Epoch 67/200\n",
            "16/16 [==============================] - 2s 147ms/step - loss: 223.0821 - mse: 223.0821 - mae: 11.4123 - val_loss: 220.0366 - val_mse: 220.0366 - val_mae: 11.4355\n",
            "Epoch 68/200\n",
            "16/16 [==============================] - 2s 145ms/step - loss: 223.2701 - mse: 223.2701 - mae: 11.4301 - val_loss: 219.3851 - val_mse: 219.3851 - val_mae: 11.3291\n",
            "Epoch 69/200\n",
            "16/16 [==============================] - 3s 205ms/step - loss: 222.7273 - mse: 222.7273 - mae: 11.4328 - val_loss: 219.4611 - val_mse: 219.4611 - val_mae: 11.3688\n",
            "Epoch 70/200\n",
            "16/16 [==============================] - 3s 161ms/step - loss: 222.7033 - mse: 222.7033 - mae: 11.4117 - val_loss: 219.4715 - val_mse: 219.4715 - val_mae: 11.3628\n",
            "Epoch 71/200\n",
            "16/16 [==============================] - 2s 144ms/step - loss: 222.5708 - mse: 222.5708 - mae: 11.4193 - val_loss: 219.3028 - val_mse: 219.3028 - val_mae: 11.3557\n",
            "Epoch 72/200\n",
            "16/16 [==============================] - 2s 144ms/step - loss: 222.6370 - mse: 222.6370 - mae: 11.4334 - val_loss: 219.2488 - val_mse: 219.2488 - val_mae: 11.2648\n",
            "Epoch 73/200\n",
            "16/16 [==============================] - 2s 146ms/step - loss: 222.3687 - mse: 222.3687 - mae: 11.4113 - val_loss: 219.1060 - val_mse: 219.1060 - val_mae: 11.3048\n",
            "Epoch 74/200\n",
            "16/16 [==============================] - 3s 203ms/step - loss: 222.4116 - mse: 222.4116 - mae: 11.4105 - val_loss: 219.2511 - val_mse: 219.2511 - val_mae: 11.3617\n",
            "Epoch 75/200\n",
            "16/16 [==============================] - 3s 172ms/step - loss: 222.5054 - mse: 222.5054 - mae: 11.4064 - val_loss: 219.2253 - val_mse: 219.2253 - val_mae: 11.3592\n",
            "Epoch 76/200\n",
            "16/16 [==============================] - 2s 144ms/step - loss: 222.3761 - mse: 222.3761 - mae: 11.4201 - val_loss: 218.9842 - val_mse: 218.9842 - val_mae: 11.2655\n",
            "Epoch 77/200\n",
            "16/16 [==============================] - 2s 144ms/step - loss: 222.3262 - mse: 222.3262 - mae: 11.4184 - val_loss: 219.4457 - val_mse: 219.4457 - val_mae: 11.2139\n",
            "Epoch 78/200\n",
            "16/16 [==============================] - 2s 146ms/step - loss: 222.4072 - mse: 222.4072 - mae: 11.4095 - val_loss: 219.0200 - val_mse: 219.0200 - val_mae: 11.3107\n",
            "Epoch 79/200\n",
            "16/16 [==============================] - 3s 203ms/step - loss: 222.5100 - mse: 222.5100 - mae: 11.4037 - val_loss: 219.1532 - val_mse: 219.1532 - val_mae: 11.3653\n",
            "Epoch 80/200\n",
            "16/16 [==============================] - 3s 173ms/step - loss: 222.3717 - mse: 222.3717 - mae: 11.4194 - val_loss: 218.7811 - val_mse: 218.7811 - val_mae: 11.3081\n",
            "Epoch 81/200\n",
            "16/16 [==============================] - 2s 143ms/step - loss: 221.9655 - mse: 221.9655 - mae: 11.4211 - val_loss: 219.8388 - val_mse: 219.8388 - val_mae: 11.2048\n",
            "Epoch 82/200\n",
            "16/16 [==============================] - 2s 140ms/step - loss: 222.1459 - mse: 222.1459 - mae: 11.4006 - val_loss: 218.6220 - val_mse: 218.6220 - val_mae: 11.2792\n",
            "Epoch 83/200\n",
            "16/16 [==============================] - 2s 145ms/step - loss: 222.0199 - mse: 222.0199 - mae: 11.3951 - val_loss: 218.6063 - val_mse: 218.6063 - val_mae: 11.2720\n",
            "Epoch 84/200\n",
            "16/16 [==============================] - 3s 185ms/step - loss: 222.0263 - mse: 222.0263 - mae: 11.4002 - val_loss: 218.4984 - val_mse: 218.4984 - val_mae: 11.2893\n",
            "Epoch 85/200\n",
            "16/16 [==============================] - 3s 186ms/step - loss: 221.8848 - mse: 221.8848 - mae: 11.4014 - val_loss: 218.8175 - val_mse: 218.8175 - val_mae: 11.2157\n",
            "Epoch 86/200\n",
            "16/16 [==============================] - 2s 145ms/step - loss: 221.7316 - mse: 221.7316 - mae: 11.3892 - val_loss: 218.4748 - val_mse: 218.4748 - val_mae: 11.2926\n",
            "Epoch 87/200\n",
            "16/16 [==============================] - 2s 146ms/step - loss: 221.8627 - mse: 221.8627 - mae: 11.3809 - val_loss: 218.6985 - val_mse: 218.6985 - val_mae: 11.3332\n",
            "Epoch 88/200\n",
            "16/16 [==============================] - 2s 142ms/step - loss: 221.9381 - mse: 221.9381 - mae: 11.3940 - val_loss: 218.3983 - val_mse: 218.3983 - val_mae: 11.3007\n",
            "Epoch 89/200\n",
            "16/16 [==============================] - 3s 175ms/step - loss: 221.5497 - mse: 221.5497 - mae: 11.3799 - val_loss: 218.6212 - val_mse: 218.6212 - val_mae: 11.3391\n",
            "Epoch 90/200\n",
            "16/16 [==============================] - 3s 199ms/step - loss: 221.5360 - mse: 221.5360 - mae: 11.4013 - val_loss: 218.2570 - val_mse: 218.2570 - val_mae: 11.2953\n",
            "Epoch 91/200\n",
            "16/16 [==============================] - 2s 147ms/step - loss: 221.7665 - mse: 221.7665 - mae: 11.3979 - val_loss: 218.2932 - val_mse: 218.2932 - val_mae: 11.2879\n",
            "Epoch 92/200\n",
            "16/16 [==============================] - 2s 142ms/step - loss: 221.2476 - mse: 221.2476 - mae: 11.3866 - val_loss: 218.3473 - val_mse: 218.3473 - val_mae: 11.2742\n",
            "Epoch 93/200\n",
            "16/16 [==============================] - 2s 145ms/step - loss: 221.3363 - mse: 221.3363 - mae: 11.3806 - val_loss: 218.2241 - val_mse: 218.2241 - val_mae: 11.3187\n",
            "Epoch 94/200\n",
            "16/16 [==============================] - 4s 229ms/step - loss: 221.4707 - mse: 221.4707 - mae: 11.3755 - val_loss: 218.6452 - val_mse: 218.6452 - val_mae: 11.3736\n",
            "Epoch 95/200\n",
            "16/16 [==============================] - 4s 241ms/step - loss: 221.8527 - mse: 221.8527 - mae: 11.4038 - val_loss: 218.2926 - val_mse: 218.2926 - val_mae: 11.3247\n",
            "Epoch 96/200\n",
            "16/16 [==============================] - 2s 145ms/step - loss: 221.2186 - mse: 221.2186 - mae: 11.3771 - val_loss: 217.9731 - val_mse: 217.9731 - val_mae: 11.2883\n",
            "Epoch 97/200\n",
            "16/16 [==============================] - 2s 146ms/step - loss: 221.3572 - mse: 221.3572 - mae: 11.3821 - val_loss: 218.2152 - val_mse: 218.2152 - val_mae: 11.3524\n",
            "Epoch 98/200\n",
            "16/16 [==============================] - 2s 146ms/step - loss: 220.8989 - mse: 220.8989 - mae: 11.3696 - val_loss: 218.7850 - val_mse: 218.7850 - val_mae: 11.4203\n",
            "Epoch 99/200\n",
            "16/16 [==============================] - 2s 146ms/step - loss: 221.6249 - mse: 221.6249 - mae: 11.3921 - val_loss: 217.8188 - val_mse: 217.8188 - val_mae: 11.2351\n",
            "Epoch 100/200\n",
            "16/16 [==============================] - 4s 236ms/step - loss: 220.9133 - mse: 220.9133 - mae: 11.3709 - val_loss: 218.1437 - val_mse: 218.1437 - val_mae: 11.1841\n",
            "Epoch 101/200\n",
            "16/16 [==============================] - 2s 143ms/step - loss: 221.5344 - mse: 221.5344 - mae: 11.3660 - val_loss: 217.7600 - val_mse: 217.7600 - val_mae: 11.2426\n",
            "Epoch 102/200\n",
            "16/16 [==============================] - 2s 144ms/step - loss: 221.2332 - mse: 221.2332 - mae: 11.3671 - val_loss: 217.6765 - val_mse: 217.6765 - val_mae: 11.2390\n",
            "Epoch 103/200\n",
            "16/16 [==============================] - 2s 145ms/step - loss: 221.0101 - mse: 221.0101 - mae: 11.3609 - val_loss: 217.7394 - val_mse: 217.7394 - val_mae: 11.3139\n",
            "Epoch 104/200\n",
            "16/16 [==============================] - 2s 146ms/step - loss: 220.7705 - mse: 220.7705 - mae: 11.3681 - val_loss: 217.3902 - val_mse: 217.3902 - val_mae: 11.2624\n",
            "Epoch 105/200\n",
            "16/16 [==============================] - 4s 238ms/step - loss: 220.5164 - mse: 220.5164 - mae: 11.3614 - val_loss: 218.1122 - val_mse: 218.1122 - val_mae: 11.1829\n",
            "Epoch 106/200\n",
            "16/16 [==============================] - 2s 147ms/step - loss: 221.0252 - mse: 221.0252 - mae: 11.3717 - val_loss: 217.9175 - val_mse: 217.9175 - val_mae: 11.1904\n",
            "Epoch 107/200\n",
            "16/16 [==============================] - 2s 146ms/step - loss: 220.8494 - mse: 220.8494 - mae: 11.3654 - val_loss: 217.3080 - val_mse: 217.3080 - val_mae: 11.2438\n",
            "Epoch 108/200\n",
            "16/16 [==============================] - 2s 144ms/step - loss: 220.4855 - mse: 220.4855 - mae: 11.3573 - val_loss: 217.6496 - val_mse: 217.6496 - val_mae: 11.2053\n",
            "Epoch 109/200\n",
            "16/16 [==============================] - 2s 142ms/step - loss: 220.6505 - mse: 220.6505 - mae: 11.3649 - val_loss: 217.3074 - val_mse: 217.3074 - val_mae: 11.2431\n",
            "Epoch 110/200\n",
            "16/16 [==============================] - 4s 229ms/step - loss: 220.6960 - mse: 220.6960 - mae: 11.3558 - val_loss: 217.2057 - val_mse: 217.2057 - val_mae: 11.2707\n",
            "Epoch 111/200\n",
            "16/16 [==============================] - 2s 143ms/step - loss: 220.8451 - mse: 220.8451 - mae: 11.3671 - val_loss: 217.0956 - val_mse: 217.0956 - val_mae: 11.2637\n",
            "Epoch 112/200\n",
            "16/16 [==============================] - 2s 141ms/step - loss: 220.5586 - mse: 220.5586 - mae: 11.3596 - val_loss: 217.5252 - val_mse: 217.5252 - val_mae: 11.2038\n",
            "Epoch 113/200\n",
            "16/16 [==============================] - 2s 143ms/step - loss: 220.4424 - mse: 220.4424 - mae: 11.3454 - val_loss: 217.9745 - val_mse: 217.9745 - val_mae: 11.1584\n",
            "Epoch 114/200\n",
            "16/16 [==============================] - 2s 142ms/step - loss: 220.4997 - mse: 220.4997 - mae: 11.3540 - val_loss: 216.9606 - val_mse: 216.9606 - val_mae: 11.2159\n",
            "Epoch 115/200\n",
            "16/16 [==============================] - 3s 218ms/step - loss: 220.3049 - mse: 220.3049 - mae: 11.3452 - val_loss: 217.1327 - val_mse: 217.1327 - val_mae: 11.2527\n",
            "Epoch 116/200\n",
            "16/16 [==============================] - 3s 154ms/step - loss: 220.2341 - mse: 220.2341 - mae: 11.3507 - val_loss: 216.9084 - val_mse: 216.9084 - val_mae: 11.2337\n",
            "Epoch 117/200\n",
            "16/16 [==============================] - 2s 145ms/step - loss: 219.9411 - mse: 219.9411 - mae: 11.3439 - val_loss: 217.3470 - val_mse: 217.3470 - val_mae: 11.1749\n",
            "Epoch 118/200\n",
            "16/16 [==============================] - 2s 145ms/step - loss: 220.0844 - mse: 220.0844 - mae: 11.3418 - val_loss: 216.9556 - val_mse: 216.9556 - val_mae: 11.2125\n",
            "Epoch 119/200\n",
            "16/16 [==============================] - 2s 140ms/step - loss: 220.0407 - mse: 220.0407 - mae: 11.3378 - val_loss: 216.7456 - val_mse: 216.7456 - val_mae: 11.2140\n",
            "Epoch 120/200\n",
            "16/16 [==============================] - 3s 195ms/step - loss: 219.9651 - mse: 219.9651 - mae: 11.3487 - val_loss: 216.7852 - val_mse: 216.7852 - val_mae: 11.2195\n",
            "Epoch 121/200\n",
            "16/16 [==============================] - 3s 171ms/step - loss: 220.0455 - mse: 220.0455 - mae: 11.3449 - val_loss: 218.0864 - val_mse: 218.0864 - val_mae: 11.1339\n",
            "Epoch 122/200\n",
            "16/16 [==============================] - 2s 141ms/step - loss: 220.3500 - mse: 220.3500 - mae: 11.3482 - val_loss: 217.0289 - val_mse: 217.0289 - val_mae: 11.2655\n",
            "Epoch 123/200\n",
            "16/16 [==============================] - 2s 144ms/step - loss: 220.1757 - mse: 220.1757 - mae: 11.3551 - val_loss: 216.7610 - val_mse: 216.7610 - val_mae: 11.2272\n",
            "Epoch 124/200\n",
            "16/16 [==============================] - 2s 140ms/step - loss: 219.6516 - mse: 219.6516 - mae: 11.3245 - val_loss: 216.8237 - val_mse: 216.8237 - val_mae: 11.3084\n",
            "Epoch 125/200\n",
            "16/16 [==============================] - 3s 171ms/step - loss: 219.9664 - mse: 219.9664 - mae: 11.3514 - val_loss: 217.2023 - val_mse: 217.2023 - val_mae: 11.1415\n",
            "Epoch 126/200\n",
            "16/16 [==============================] - 3s 190ms/step - loss: 220.0782 - mse: 220.0782 - mae: 11.3367 - val_loss: 217.3929 - val_mse: 217.3929 - val_mae: 11.1373\n",
            "Epoch 127/200\n",
            "16/16 [==============================] - 2s 142ms/step - loss: 219.8189 - mse: 219.8189 - mae: 11.3352 - val_loss: 216.7642 - val_mse: 216.7642 - val_mae: 11.2001\n",
            "Epoch 128/200\n",
            "16/16 [==============================] - 2s 147ms/step - loss: 219.8533 - mse: 219.8533 - mae: 11.3411 - val_loss: 216.6747 - val_mse: 216.6747 - val_mae: 11.1809\n",
            "Epoch 129/200\n",
            "16/16 [==============================] - 2s 144ms/step - loss: 219.8312 - mse: 219.8312 - mae: 11.3307 - val_loss: 216.6774 - val_mse: 216.6774 - val_mae: 11.2992\n",
            "Epoch 130/200\n",
            "16/16 [==============================] - 2s 157ms/step - loss: 219.8033 - mse: 219.8033 - mae: 11.3404 - val_loss: 217.0097 - val_mse: 217.0097 - val_mae: 11.3411\n",
            "Epoch 131/200\n",
            "16/16 [==============================] - 3s 210ms/step - loss: 220.3036 - mse: 220.3036 - mae: 11.3491 - val_loss: 218.0297 - val_mse: 218.0297 - val_mae: 11.4314\n",
            "Epoch 132/200\n",
            "16/16 [==============================] - 2s 143ms/step - loss: 219.8637 - mse: 219.8637 - mae: 11.3481 - val_loss: 216.2906 - val_mse: 216.2906 - val_mae: 11.1809\n",
            "Epoch 133/200\n",
            "16/16 [==============================] - 2s 141ms/step - loss: 219.7336 - mse: 219.7336 - mae: 11.3379 - val_loss: 217.1055 - val_mse: 217.1055 - val_mae: 11.1381\n",
            "Epoch 134/200\n",
            "16/16 [==============================] - 2s 142ms/step - loss: 219.7081 - mse: 219.7081 - mae: 11.3324 - val_loss: 216.4367 - val_mse: 216.4367 - val_mae: 11.1543\n"
          ]
        }
      ],
      "source": [
        "from tensorflow.keras.optimizers import Adam\n",
        "adam=Adam(learning_rate=0.001)\n",
        "model.compile(loss='mse', optimizer=adam, metrics=['mse','mae'])\n",
        "history=model.fit(X_train, y_train, epochs=200,  verbose=1, batch_size=8000,callbacks=[early_stop],validation_split=0.2)\n"
      ]
    },
    {
      "cell_type": "code",
      "execution_count": null,
      "metadata": {
        "id": "jDCHPstCyKZB"
      },
      "outputs": [],
      "source": []
    },
    {
      "cell_type": "markdown",
      "metadata": {
        "id": "1ICUAN6V-rU1"
      },
      "source": [
        "we plot train and validation loss throughout training "
      ]
    },
    {
      "cell_type": "code",
      "execution_count": null,
      "metadata": {
        "id": "_E10aWAMyj_X",
        "colab": {
          "base_uri": "https://localhost:8080/",
          "height": 517
        },
        "outputId": "39a96af7-6d32-4b80-be96-0dd8f53b82b4"
      },
      "outputs": [
        {
          "output_type": "display_data",
          "data": {
            "text/plain": [
              "<Figure size 842.4x595.44 with 1 Axes>"
            ],
            "image/png": "[encoded data removed]"
          },
          "metadata": {}
        }
      ],
      "source": [
        "def plot_history(history, key):\n",
        "  plt.plot(history.history[key])\n",
        "  plt.plot(history.history['val_'+key])\n",
        "  plt.xlabel(\"Epochs\")\n",
        "  plt.ylabel(key)\n",
        "  plt.legend([key, 'val_'+key])\n",
        "  plt.show()\n",
        "# Plot the history\n",
        "plot_history(history, 'loss')\n"
      ]
    },
    {
      "cell_type": "code",
      "execution_count": null,
      "metadata": {
        "id": "DW3Vvpnuyj_X"
      },
      "outputs": [],
      "source": []
    },
    {
      "cell_type": "code",
      "execution_count": null,
      "metadata": {
        "id": "AM5-mZIKyj_X",
        "colab": {
          "base_uri": "https://localhost:8080/"
        },
        "outputId": "567825bf-51b6-4763-d18b-3cba9a299624"
      },
      "outputs": [
        {
          "output_type": "stream",
          "name": "stdout",
          "text": [
            "1178/1178 [==============================] - 4s 3ms/step\n"
          ]
        }
      ],
      "source": [
        "z= model.predict(X_test)\n"
      ]
    },
    {
      "cell_type": "code",
      "execution_count": null,
      "metadata": {
        "id": "crLmrPVwQTWF",
        "colab": {
          "base_uri": "https://localhost:8080/"
        },
        "outputId": "879ee7a7-591e-48c1-c407-23d27c104044"
      },
      "outputs": [
        {
          "output_type": "stream",
          "name": "stdout",
          "text": [
            "r squred score :  0.24023187486244524\n"
          ]
        }
      ],
      "source": [
        "\n",
        "print(\"r squred score : \", r2_score(y_test, z))"
      ]
    },
    {
      "cell_type": "code",
      "execution_count": null,
      "metadata": {
        "id": "fW8IbouCyj_X",
        "colab": {
          "base_uri": "https://localhost:8080/"
        },
        "outputId": "8ae4b3e4-6186-48d6-961c-ee158c3f19f3"
      },
      "outputs": [
        {
          "output_type": "stream",
          "name": "stdout",
          "text": [
            "mse :  214.99216802983915\n",
            "rmse :  14.662611228217134\n",
            "errors for neural net\n",
            "mae :  10.975174920984655\n"
          ]
        }
      ],
      "source": [
        "mse = mean_squared_error(y_test, z)\n",
        "rmse = mse**.5\n",
        "print(\"mse : \",mse)\n",
        "print(\"rmse : \",rmse)\n",
        "print(\"errors for neural net\")\n",
        "mae = mean_absolute_error(y_test, z)\n",
        "print(\"mae : \",mae)"
      ]
    },
    {
      "cell_type": "code",
      "execution_count": null,
      "metadata": {
        "colab": {
          "base_uri": "https://localhost:8080/"
        },
        "id": "0XEE9aHyyj_Y",
        "outputId": "8b307609-6416-4be1-b808-4d44525ac23f"
      },
      "outputs": [
        {
          "output_type": "stream",
          "name": "stdout",
          "text": [
            "mape:  0.251398241018323\n"
          ]
        }
      ],
      "source": [
        "print(\"mape: \",sk_mape(y_test, z))"
      ]
    },
    {
      "cell_type": "code",
      "source": [],
      "metadata": {
        "id": "6d6FL9a0M75f"
      },
      "execution_count": null,
      "outputs": []
    },
    {
      "cell_type": "code",
      "source": [],
      "metadata": {
        "id": "yd2AomTFM729"
      },
      "execution_count": null,
      "outputs": []
    },
    {
      "cell_type": "code",
      "execution_count": null,
      "metadata": {
        "id": "UHdFaJtErlqe"
      },
      "outputs": [],
      "source": []
    },
    {
      "cell_type": "code",
      "execution_count": null,
      "metadata": {
        "id": "GdCXSaqirxfq"
      },
      "outputs": [],
      "source": []
    }
  ]
}