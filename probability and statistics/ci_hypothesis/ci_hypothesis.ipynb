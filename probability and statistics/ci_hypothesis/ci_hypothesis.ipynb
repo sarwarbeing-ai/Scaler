{
 "cells": [
  {
   "cell_type": "code",
   "execution_count": 87,
   "id": "a2830e65",
   "metadata": {},
   "outputs": [],
   "source": [
    "import pandas as pd\n",
    "import matplotlib.pyplot as plt\n",
    "import numpy as np"
   ]
  },
  {
   "cell_type": "markdown",
   "id": "a47a3597",
   "metadata": {
    "heading_collapsed": true
   },
   "source": [
    "# IQ"
   ]
  },
  {
   "cell_type": "code",
   "execution_count": null,
   "id": "f7267a49",
   "metadata": {
    "hidden": true
   },
   "outputs": [],
   "source": []
  },
  {
   "cell_type": "code",
   "execution_count": 2,
   "id": "7a2cf80d",
   "metadata": {
    "hidden": true
   },
   "outputs": [],
   "source": [
    "df_iq = pd.read_csv(\"IQ.csv\")"
   ]
  },
  {
   "cell_type": "code",
   "execution_count": 4,
   "id": "5b5d626e",
   "metadata": {
    "collapsed": true,
    "hidden": true
   },
   "outputs": [
    {
     "data": {
      "text/html": [
       "<div>\n",
       "<style scoped>\n",
       "    .dataframe tbody tr th:only-of-type {\n",
       "        vertical-align: middle;\n",
       "    }\n",
       "\n",
       "    .dataframe tbody tr th {\n",
       "        vertical-align: top;\n",
       "    }\n",
       "\n",
       "    .dataframe thead th {\n",
       "        text-align: right;\n",
       "    }\n",
       "</style>\n",
       "<table border=\"1\" class=\"dataframe\">\n",
       "  <thead>\n",
       "    <tr style=\"text-align: right;\">\n",
       "      <th></th>\n",
       "      <th>IQ</th>\n",
       "    </tr>\n",
       "  </thead>\n",
       "  <tbody>\n",
       "    <tr>\n",
       "      <th>173</th>\n",
       "      <td>133.03</td>\n",
       "    </tr>\n",
       "    <tr>\n",
       "      <th>709</th>\n",
       "      <td>110.37</td>\n",
       "    </tr>\n",
       "    <tr>\n",
       "      <th>210</th>\n",
       "      <td>101.12</td>\n",
       "    </tr>\n",
       "    <tr>\n",
       "      <th>962</th>\n",
       "      <td>94.42</td>\n",
       "    </tr>\n",
       "    <tr>\n",
       "      <th>844</th>\n",
       "      <td>99.07</td>\n",
       "    </tr>\n",
       "    <tr>\n",
       "      <th>887</th>\n",
       "      <td>103.52</td>\n",
       "    </tr>\n",
       "    <tr>\n",
       "      <th>596</th>\n",
       "      <td>99.93</td>\n",
       "    </tr>\n",
       "    <tr>\n",
       "      <th>679</th>\n",
       "      <td>93.89</td>\n",
       "    </tr>\n",
       "    <tr>\n",
       "      <th>40</th>\n",
       "      <td>109.32</td>\n",
       "    </tr>\n",
       "    <tr>\n",
       "      <th>710</th>\n",
       "      <td>78.67</td>\n",
       "    </tr>\n",
       "    <tr>\n",
       "      <th>556</th>\n",
       "      <td>95.95</td>\n",
       "    </tr>\n",
       "    <tr>\n",
       "      <th>175</th>\n",
       "      <td>82.74</td>\n",
       "    </tr>\n",
       "    <tr>\n",
       "      <th>599</th>\n",
       "      <td>104.93</td>\n",
       "    </tr>\n",
       "    <tr>\n",
       "      <th>775</th>\n",
       "      <td>98.72</td>\n",
       "    </tr>\n",
       "    <tr>\n",
       "      <th>247</th>\n",
       "      <td>90.74</td>\n",
       "    </tr>\n",
       "    <tr>\n",
       "      <th>11</th>\n",
       "      <td>104.35</td>\n",
       "    </tr>\n",
       "    <tr>\n",
       "      <th>56</th>\n",
       "      <td>128.25</td>\n",
       "    </tr>\n",
       "    <tr>\n",
       "      <th>477</th>\n",
       "      <td>103.61</td>\n",
       "    </tr>\n",
       "    <tr>\n",
       "      <th>532</th>\n",
       "      <td>89.83</td>\n",
       "    </tr>\n",
       "    <tr>\n",
       "      <th>613</th>\n",
       "      <td>90.60</td>\n",
       "    </tr>\n",
       "  </tbody>\n",
       "</table>\n",
       "</div>"
      ],
      "text/plain": [
       "         IQ\n",
       "173  133.03\n",
       "709  110.37\n",
       "210  101.12\n",
       "962   94.42\n",
       "844   99.07\n",
       "887  103.52\n",
       "596   99.93\n",
       "679   93.89\n",
       "40   109.32\n",
       "710   78.67\n",
       "556   95.95\n",
       "175   82.74\n",
       "599  104.93\n",
       "775   98.72\n",
       "247   90.74\n",
       "11   104.35\n",
       "56   128.25\n",
       "477  103.61\n",
       "532   89.83\n",
       "613   90.60"
      ]
     },
     "execution_count": 4,
     "metadata": {},
     "output_type": "execute_result"
    }
   ],
   "source": [
    "df_iq.sample(20)"
   ]
  },
  {
   "cell_type": "code",
   "execution_count": 6,
   "id": "43a3a85d",
   "metadata": {
    "hidden": true
   },
   "outputs": [
    {
     "data": {
      "text/plain": [
       "111.692"
      ]
     },
     "execution_count": 6,
     "metadata": {},
     "output_type": "execute_result"
    }
   ],
   "source": [
    "np.percentile(df_iq[\"IQ\"], 80)"
   ]
  },
  {
   "cell_type": "code",
   "execution_count": 9,
   "id": "5a6061ec",
   "metadata": {
    "hidden": true
   },
   "outputs": [
    {
     "data": {
      "text/plain": [
       "99.73802"
      ]
     },
     "execution_count": 9,
     "metadata": {},
     "output_type": "execute_result"
    }
   ],
   "source": [
    "df_iq[\"IQ\"].mean()"
   ]
  },
  {
   "cell_type": "code",
   "execution_count": 8,
   "id": "23be78e7",
   "metadata": {
    "hidden": true
   },
   "outputs": [
    {
     "data": {
      "text/plain": [
       "<AxesSubplot:>"
      ]
     },
     "execution_count": 8,
     "metadata": {},
     "output_type": "execute_result"
    },
    {
     "data": {
      "image/png": "[encoded data removed]",
      "text/plain": [
       "<Figure size 432x288 with 1 Axes>"
      ]
     },
     "metadata": {
      "needs_background": "light"
     },
     "output_type": "display_data"
    }
   ],
   "source": [
    "df_iq[\"IQ\"].hist(bins=20)"
   ]
  },
  {
   "cell_type": "markdown",
   "id": "219d6c85",
   "metadata": {},
   "source": [
    "# Height- Weight"
   ]
  },
  {
   "cell_type": "code",
   "execution_count": 13,
   "id": "78c2ea1c",
   "metadata": {},
   "outputs": [],
   "source": [
    "df_wh = pd.read_csv(\"weight-height.csv\")\n",
    "heights = df_wh[\"Height\"]"
   ]
  },
  {
   "cell_type": "code",
   "execution_count": 11,
   "id": "7d4e1f3a",
   "metadata": {
    "collapsed": true
   },
   "outputs": [
    {
     "data": {
      "text/html": [
       "<div>\n",
       "<style scoped>\n",
       "    .dataframe tbody tr th:only-of-type {\n",
       "        vertical-align: middle;\n",
       "    }\n",
       "\n",
       "    .dataframe tbody tr th {\n",
       "        vertical-align: top;\n",
       "    }\n",
       "\n",
       "    .dataframe thead th {\n",
       "        text-align: right;\n",
       "    }\n",
       "</style>\n",
       "<table border=\"1\" class=\"dataframe\">\n",
       "  <thead>\n",
       "    <tr style=\"text-align: right;\">\n",
       "      <th></th>\n",
       "      <th>Gender</th>\n",
       "      <th>Height</th>\n",
       "      <th>Weight</th>\n",
       "    </tr>\n",
       "  </thead>\n",
       "  <tbody>\n",
       "    <tr>\n",
       "      <th>0</th>\n",
       "      <td>Male</td>\n",
       "      <td>73.847017</td>\n",
       "      <td>241.893563</td>\n",
       "    </tr>\n",
       "    <tr>\n",
       "      <th>1</th>\n",
       "      <td>Male</td>\n",
       "      <td>68.781904</td>\n",
       "      <td>162.310473</td>\n",
       "    </tr>\n",
       "    <tr>\n",
       "      <th>2</th>\n",
       "      <td>Male</td>\n",
       "      <td>74.110105</td>\n",
       "      <td>212.740856</td>\n",
       "    </tr>\n",
       "    <tr>\n",
       "      <th>3</th>\n",
       "      <td>Male</td>\n",
       "      <td>71.730978</td>\n",
       "      <td>220.042470</td>\n",
       "    </tr>\n",
       "    <tr>\n",
       "      <th>4</th>\n",
       "      <td>Male</td>\n",
       "      <td>69.881796</td>\n",
       "      <td>206.349801</td>\n",
       "    </tr>\n",
       "  </tbody>\n",
       "</table>\n",
       "</div>"
      ],
      "text/plain": [
       "  Gender     Height      Weight\n",
       "0   Male  73.847017  241.893563\n",
       "1   Male  68.781904  162.310473\n",
       "2   Male  74.110105  212.740856\n",
       "3   Male  71.730978  220.042470\n",
       "4   Male  69.881796  206.349801"
      ]
     },
     "execution_count": 11,
     "metadata": {},
     "output_type": "execute_result"
    }
   ],
   "source": [
    "df_wh.head()"
   ]
  },
  {
   "cell_type": "code",
   "execution_count": 12,
   "id": "183d105a",
   "metadata": {},
   "outputs": [
    {
     "data": {
      "text/plain": [
       "(10000, 3)"
      ]
     },
     "execution_count": 12,
     "metadata": {},
     "output_type": "execute_result"
    }
   ],
   "source": [
    "df_wh.shape"
   ]
  },
  {
   "cell_type": "code",
   "execution_count": 200,
   "id": "1c47397a",
   "metadata": {},
   "outputs": [
    {
     "name": "stdout",
     "output_type": "stream",
     "text": [
      "66.36755975482124\n"
     ]
    }
   ],
   "source": [
    "sample_mean = heights.mean()\n",
    "print(sample_mean)"
   ]
  },
  {
   "cell_type": "code",
   "execution_count": 197,
   "id": "37aea34f",
   "metadata": {},
   "outputs": [],
   "source": [
    "size = 1000\n",
    "bootstrap_size = int(1.3*len(heights))\n",
    "bootstrapped_means = np.empty(size)\n",
    "for i in range(size):\n",
    "    bootstrapped_sample = heights.sample(bootstrap_size, replace=True)\n",
    "    x_bar = np.mean(bootstrapped_sample) # Sample mean; Replace by median/percentile\n",
    "    bootstrapped_means[i] = x_bar"
   ]
  },
  {
   "cell_type": "code",
   "execution_count": 201,
   "id": "3a79232f",
   "metadata": {
    "collapsed": true
   },
   "outputs": [
    {
     "data": {
      "text/plain": [
       "array([66.3749276 , 66.33117028, 66.35919471, 66.34354479, 66.39550691,\n",
       "       66.38585404, 66.37624428, 66.37387171, 66.33645383, 66.36020761,\n",
       "       66.37885023, 66.33994946, 66.35634745, 66.42969747, 66.38050434,\n",
       "       66.33178847, 66.33540315, 66.38109806, 66.42173021, 66.35485059,\n",
       "       66.38084808, 66.33518876, 66.3334826 , 66.42522365, 66.36509604,\n",
       "       66.41214884, 66.33394298, 66.42321459, 66.35357846, 66.33205614,\n",
       "       66.35869163, 66.35958234, 66.380156  , 66.38938087, 66.31240322,\n",
       "       66.36009753, 66.31961258, 66.41244522, 66.42392814, 66.33704017,\n",
       "       66.3025768 , 66.29406982, 66.45253095, 66.40634737, 66.31094496,\n",
       "       66.33314175, 66.37449403, 66.41519247, 66.31424667, 66.37214265,\n",
       "       66.3700594 , 66.40583234, 66.34859484, 66.42347294, 66.32347992,\n",
       "       66.3726125 , 66.32714488, 66.39380733, 66.32210252, 66.36276784,\n",
       "       66.36935237, 66.36526249, 66.35423104, 66.40530627, 66.44528241,\n",
       "       66.35878153, 66.34967264, 66.44156265, 66.33114003, 66.34961336,\n",
       "       66.34514361, 66.35145632, 66.40339444, 66.31654311, 66.37191891,\n",
       "       66.42379217, 66.37876864, 66.38806163, 66.37759473, 66.31176043,\n",
       "       66.32303563, 66.36776541, 66.40832715, 66.33626064, 66.36058014,\n",
       "       66.31438899, 66.36625189, 66.35282905, 66.37501587, 66.38108777,\n",
       "       66.36421991, 66.42062674, 66.37446589, 66.36852873, 66.36711054,\n",
       "       66.365193  , 66.37530845, 66.39058917, 66.34061555, 66.36692267,\n",
       "       66.3554789 , 66.35095594, 66.36087635, 66.3463403 , 66.3651302 ,\n",
       "       66.40195088, 66.3680446 , 66.32964131, 66.42563621, 66.30603032,\n",
       "       66.34247241, 66.40528546, 66.38169112, 66.31837152, 66.41913369,\n",
       "       66.41248584, 66.43934752, 66.37305099, 66.33314398, 66.37941573,\n",
       "       66.37587525, 66.36912372, 66.37560713, 66.3088203 , 66.33668098,\n",
       "       66.38273552, 66.38621791, 66.3958438 , 66.36390991, 66.41935615,\n",
       "       66.35323908, 66.42304399, 66.38124384, 66.35513545, 66.39466428,\n",
       "       66.36940691, 66.38877838, 66.39267313, 66.35489155, 66.31348681,\n",
       "       66.3731058 , 66.32243496, 66.41733743, 66.3684075 , 66.38882009,\n",
       "       66.37744397, 66.38256239, 66.35451273, 66.37222149, 66.33318979,\n",
       "       66.41507067, 66.37862738, 66.37564719, 66.37071743, 66.36446755,\n",
       "       66.31641582, 66.33805439, 66.27290469, 66.37028473, 66.39841607,\n",
       "       66.39245517, 66.32756587, 66.36044138, 66.3301169 , 66.35656415,\n",
       "       66.36997642, 66.38183132, 66.35404381, 66.3363962 , 66.32340271,\n",
       "       66.31552199, 66.34040073, 66.36160538, 66.31764296, 66.40985063,\n",
       "       66.35876051, 66.3498821 , 66.398583  , 66.31805279, 66.37355939,\n",
       "       66.34256337, 66.32317145, 66.33519698, 66.41323763, 66.3824449 ,\n",
       "       66.3419307 , 66.35316992, 66.36027134, 66.35916552, 66.38397969,\n",
       "       66.41422698, 66.36100631, 66.34671735, 66.34735337, 66.38348285,\n",
       "       66.40483103, 66.39162525, 66.38810918, 66.34970985, 66.36440222,\n",
       "       66.39675101, 66.29678199, 66.39982638, 66.37440801, 66.38170396,\n",
       "       66.33279314, 66.35629437, 66.35456782, 66.34716255, 66.36418659,\n",
       "       66.36463817, 66.3104269 , 66.31612518, 66.32704451, 66.4066311 ,\n",
       "       66.39291403, 66.3273919 , 66.3915993 , 66.393952  , 66.32809509,\n",
       "       66.38956602, 66.37276442, 66.3615851 , 66.35920265, 66.3140007 ,\n",
       "       66.41322414, 66.3551283 , 66.345847  , 66.4213257 , 66.3822564 ,\n",
       "       66.3425455 , 66.39641229, 66.36023946, 66.32999794, 66.31795508,\n",
       "       66.36193975, 66.33685429, 66.36051996, 66.35795183, 66.34708037,\n",
       "       66.39054318, 66.32708004, 66.34591198, 66.38654418, 66.39518705,\n",
       "       66.35529015, 66.41570735, 66.36670888, 66.33189405, 66.34222445,\n",
       "       66.34338199, 66.35863116, 66.3502974 , 66.38416561, 66.38162242,\n",
       "       66.32952657, 66.36273918, 66.42773821, 66.41314749, 66.35743658,\n",
       "       66.29146131, 66.3783264 , 66.36569877, 66.33741896, 66.48267479,\n",
       "       66.35624411, 66.32575724, 66.31359827, 66.39780975, 66.34179826,\n",
       "       66.39135898, 66.39568851, 66.33203927, 66.33717084, 66.32551474,\n",
       "       66.36305547, 66.32302777, 66.4517874 , 66.35239857, 66.38583905,\n",
       "       66.3370508 , 66.30797037, 66.35680354, 66.35229771, 66.38913268,\n",
       "       66.37940193, 66.32446036, 66.41870715, 66.42555718, 66.38480005,\n",
       "       66.41326298, 66.41488236, 66.41689169, 66.35041769, 66.31445065,\n",
       "       66.42223928, 66.40207022, 66.32056842, 66.33264212, 66.39363368,\n",
       "       66.33574074, 66.4210064 , 66.44057014, 66.34485225, 66.39047628,\n",
       "       66.3627733 , 66.34361343, 66.38255724, 66.36758242, 66.3506023 ,\n",
       "       66.38989293, 66.42468994, 66.33254246, 66.39468274, 66.34289762,\n",
       "       66.30602994, 66.4319995 , 66.31846905, 66.35200139, 66.35173803,\n",
       "       66.30709141, 66.3630272 , 66.34848766, 66.41895096, 66.32859963,\n",
       "       66.42192865, 66.42680977, 66.40588568, 66.39072195, 66.32959252,\n",
       "       66.38478157, 66.38114111, 66.38525465, 66.32079873, 66.26383149,\n",
       "       66.39673334, 66.34239825, 66.40132209, 66.37277053, 66.3202396 ,\n",
       "       66.38310203, 66.39821914, 66.36508057, 66.42565615, 66.40599412,\n",
       "       66.36140003, 66.35735915, 66.39184958, 66.39231107, 66.37497819,\n",
       "       66.38302126, 66.38961127, 66.40901552, 66.35879621, 66.3244241 ,\n",
       "       66.38476419, 66.34837816, 66.34501812, 66.39128602, 66.32962404,\n",
       "       66.32303152, 66.36910593, 66.40107355, 66.37193847, 66.34905268,\n",
       "       66.36473114, 66.35885568, 66.36747875, 66.4341535 , 66.37101079,\n",
       "       66.33149881, 66.37683466, 66.39860955, 66.36413355, 66.31867043,\n",
       "       66.3514023 , 66.43145291, 66.37152624, 66.36473392, 66.33486797,\n",
       "       66.33915491, 66.3786919 , 66.3821636 , 66.33065647, 66.35238724,\n",
       "       66.41186076, 66.36497119, 66.34514928, 66.41996618, 66.40954442,\n",
       "       66.37019247, 66.28559804, 66.3702629 , 66.37123446, 66.38556815,\n",
       "       66.34376086, 66.39146595, 66.30431996, 66.40249604, 66.41350272,\n",
       "       66.38534045, 66.31024932, 66.36782063, 66.34017939, 66.41192952,\n",
       "       66.35350314, 66.32311403, 66.3736291 , 66.38988639, 66.3550405 ,\n",
       "       66.40972096, 66.38371502, 66.34108286, 66.38237859, 66.45208348,\n",
       "       66.39869417, 66.3316277 , 66.37817949, 66.34483688, 66.35080024,\n",
       "       66.37347049, 66.38670745, 66.38429807, 66.33059002, 66.41114216,\n",
       "       66.40635578, 66.35141596, 66.32630725, 66.29038148, 66.3825303 ,\n",
       "       66.33233537, 66.34403796, 66.3533394 , 66.32721798, 66.36867038,\n",
       "       66.35675931, 66.32579666, 66.35329737, 66.35612641, 66.34721521,\n",
       "       66.39677495, 66.40908456, 66.35725716, 66.38641576, 66.41278265,\n",
       "       66.34772761, 66.42198427, 66.34719643, 66.32022157, 66.39847159,\n",
       "       66.31767274, 66.3762409 , 66.35926495, 66.38954423, 66.36528324,\n",
       "       66.32567675, 66.40950811, 66.42833273, 66.35392867, 66.35086143,\n",
       "       66.32498227, 66.34805002, 66.37025194, 66.3685694 , 66.34259921,\n",
       "       66.33964635, 66.3871411 , 66.35132851, 66.38102508, 66.32644747,\n",
       "       66.34476035, 66.37841352, 66.35660249, 66.37682515, 66.39068288,\n",
       "       66.37711044, 66.37612061, 66.34905519, 66.33660806, 66.34357309,\n",
       "       66.35838929, 66.34161237, 66.36848182, 66.39143503, 66.35600288,\n",
       "       66.38726293, 66.38985907, 66.34849342, 66.38983467, 66.4055001 ,\n",
       "       66.39058546, 66.3922869 , 66.35871628, 66.40064898, 66.40546149,\n",
       "       66.37656237, 66.38602095, 66.40300828, 66.32049453, 66.38251106,\n",
       "       66.32878231, 66.29838319, 66.35250946, 66.38943833, 66.36754146,\n",
       "       66.35645697, 66.39386229, 66.31759601, 66.33044527, 66.32485951,\n",
       "       66.4156497 , 66.32257452, 66.3829593 , 66.36569234, 66.36841408,\n",
       "       66.46422483, 66.42017939, 66.371948  , 66.41256482, 66.38223033,\n",
       "       66.43317515, 66.39404414, 66.3977472 , 66.42956665, 66.36008874,\n",
       "       66.39284365, 66.33986291, 66.3707761 , 66.3825222 , 66.39819103,\n",
       "       66.3555402 , 66.36282494, 66.40586402, 66.32852625, 66.32157054,\n",
       "       66.37689821, 66.38733924, 66.34084225, 66.35897502, 66.4169111 ,\n",
       "       66.40047604, 66.40365354, 66.35168317, 66.37386448, 66.36446513,\n",
       "       66.41560651, 66.37122319, 66.34910312, 66.40290014, 66.38371189,\n",
       "       66.35881932, 66.35931595, 66.36782824, 66.35751954, 66.29929809,\n",
       "       66.32771752, 66.41252534, 66.41211868, 66.34259914, 66.30970675,\n",
       "       66.37032171, 66.32770451, 66.33962801, 66.32194633, 66.38039695,\n",
       "       66.35161471, 66.32964152, 66.33729889, 66.38530428, 66.42409422,\n",
       "       66.34963839, 66.35459721, 66.34526931, 66.40939714, 66.35929346,\n",
       "       66.39411576, 66.34297224, 66.40455486, 66.39661508, 66.39403766,\n",
       "       66.37244723, 66.40477731, 66.37194819, 66.3490747 , 66.40378475,\n",
       "       66.37820634, 66.38645881, 66.32517959, 66.3222419 , 66.35882981,\n",
       "       66.38905161, 66.37603516, 66.41868684, 66.39266904, 66.38531704,\n",
       "       66.38547886, 66.3675206 , 66.35653408, 66.37913832, 66.36901095,\n",
       "       66.37333347, 66.3456706 , 66.34101303, 66.32871717, 66.34709795,\n",
       "       66.41099559, 66.40399182, 66.30908473, 66.40334065, 66.32047258,\n",
       "       66.30568333, 66.39276028, 66.29695118, 66.38610599, 66.4028624 ,\n",
       "       66.36741964, 66.40714449, 66.34334854, 66.37970832, 66.34120846,\n",
       "       66.3638695 , 66.35500555, 66.34521205, 66.33996697, 66.34218954,\n",
       "       66.39722942, 66.34887021, 66.31079158, 66.3692745 , 66.35504132,\n",
       "       66.3759155 , 66.37483569, 66.40142078, 66.38659135, 66.422431  ,\n",
       "       66.32012057, 66.37443988, 66.31361218, 66.36235864, 66.33651438,\n",
       "       66.39448865, 66.33051324, 66.4323346 , 66.41936191, 66.36382025,\n",
       "       66.40270593, 66.36839687, 66.3782323 , 66.43715615, 66.37410726,\n",
       "       66.33421863, 66.40751311, 66.30393151, 66.31596452, 66.39472118,\n",
       "       66.40182729, 66.372893  , 66.46512286, 66.3343926 , 66.37843418,\n",
       "       66.31042221, 66.39128146, 66.38859591, 66.41882648, 66.36420131,\n",
       "       66.34210382, 66.32222502, 66.36579991, 66.37519881, 66.38919467,\n",
       "       66.32720177, 66.38651356, 66.4444396 , 66.35296299, 66.42338048,\n",
       "       66.38506696, 66.36847912, 66.37676806, 66.33388883, 66.3995932 ,\n",
       "       66.30338348, 66.43876572, 66.37807491, 66.36735511, 66.38271091,\n",
       "       66.36086802, 66.4285819 , 66.33044213, 66.31356761, 66.37292379,\n",
       "       66.39626734, 66.37881453, 66.42167967, 66.34928156, 66.42170673,\n",
       "       66.37624816, 66.3828835 , 66.361473  , 66.39679728, 66.36827478,\n",
       "       66.38344704, 66.39687921, 66.34885567, 66.39246117, 66.32936924,\n",
       "       66.37793357, 66.35215345, 66.37001799, 66.33893813, 66.31828694,\n",
       "       66.33832245, 66.35028519, 66.42198654, 66.38885622, 66.36066361,\n",
       "       66.40508015, 66.38096953, 66.41711974, 66.4114116 , 66.36328051,\n",
       "       66.35073212, 66.39459928, 66.40584789, 66.36025842, 66.42194882,\n",
       "       66.32426108, 66.31637618, 66.34633094, 66.39744212, 66.39947222,\n",
       "       66.36878232, 66.37058876, 66.36756361, 66.40028404, 66.35266377,\n",
       "       66.33218161, 66.35431107, 66.36360002, 66.30132576, 66.29887132,\n",
       "       66.38914554, 66.34867549, 66.31389795, 66.28481556, 66.32884728,\n",
       "       66.41848566, 66.34364299, 66.41327251, 66.34107812, 66.37775614,\n",
       "       66.35149776, 66.39874845, 66.39491467, 66.36692282, 66.31979594,\n",
       "       66.37415003, 66.40310932, 66.35197414, 66.39385405, 66.33519953,\n",
       "       66.37221686, 66.32023824, 66.36919827, 66.35186488, 66.36106301,\n",
       "       66.36543208, 66.35244535, 66.41088142, 66.38096139, 66.36282495,\n",
       "       66.30275513, 66.39106143, 66.29905353, 66.4200317 , 66.39028895,\n",
       "       66.39396147, 66.33739568, 66.37081935, 66.37111517, 66.34546874,\n",
       "       66.31069857, 66.35964637, 66.40291842, 66.41256775, 66.40480341,\n",
       "       66.367063  , 66.3966192 , 66.34519996, 66.35716409, 66.3969133 ,\n",
       "       66.40512272, 66.37050293, 66.40275195, 66.32372351, 66.40213929,\n",
       "       66.35582307, 66.36679386, 66.38485271, 66.35662853, 66.3275583 ,\n",
       "       66.39500141, 66.38004133, 66.3915807 , 66.3897069 , 66.37404887,\n",
       "       66.34239768, 66.38777468, 66.33522   , 66.38813291, 66.29822741,\n",
       "       66.30283669, 66.30963195, 66.31423021, 66.36097501, 66.39606438,\n",
       "       66.37815147, 66.39185842, 66.36666404, 66.31219661, 66.32280488,\n",
       "       66.40755741, 66.34581258, 66.45941194, 66.36852728, 66.32394557,\n",
       "       66.36080311, 66.37619265, 66.33427978, 66.3890089 , 66.33681983,\n",
       "       66.3445234 , 66.40829918, 66.3318319 , 66.36929472, 66.37581214,\n",
       "       66.36015915, 66.3460035 , 66.28857829, 66.35911438, 66.40177756,\n",
       "       66.33929864, 66.35024754, 66.38213429, 66.36114299, 66.33674643,\n",
       "       66.33542545, 66.3905316 , 66.37146439, 66.37880606, 66.34358372,\n",
       "       66.38370891, 66.32835516, 66.34881415, 66.38030938, 66.36953341,\n",
       "       66.3968095 , 66.40616047, 66.37625193, 66.39158086, 66.36606596,\n",
       "       66.39343099, 66.33157367, 66.39823393, 66.34993963, 66.35451044,\n",
       "       66.38330814, 66.3912191 , 66.37037192, 66.39822969, 66.39316555,\n",
       "       66.38639553, 66.38392493, 66.43508805, 66.3088897 , 66.37106977,\n",
       "       66.4089184 , 66.36103488, 66.38379995, 66.37616365, 66.41179861,\n",
       "       66.40092327, 66.35512979, 66.30389508, 66.39056808, 66.34625513,\n",
       "       66.35597831, 66.33379425, 66.39870146, 66.37048092, 66.33726169,\n",
       "       66.36631168, 66.39282989, 66.35167003, 66.35407115, 66.40976168,\n",
       "       66.34809596, 66.3614456 , 66.39326883, 66.37557011, 66.37802523,\n",
       "       66.37620121, 66.38146645, 66.32738237, 66.36917814, 66.30365011,\n",
       "       66.34174528, 66.36420842, 66.3614847 , 66.32095322, 66.36184653,\n",
       "       66.3685954 , 66.35598751, 66.34826994, 66.34496084, 66.32747651,\n",
       "       66.31082449, 66.34428109, 66.31378908, 66.30416606, 66.35063577,\n",
       "       66.36786561, 66.36873754, 66.37134735, 66.39658198, 66.39436549,\n",
       "       66.34581499, 66.40572901, 66.35531494, 66.33644091, 66.31510156,\n",
       "       66.42559201, 66.34014897, 66.26494408, 66.43148604, 66.36720229,\n",
       "       66.38604779, 66.3185429 , 66.36261794, 66.44415405, 66.33443155,\n",
       "       66.33515126, 66.38071149, 66.40387669, 66.42462501, 66.36396228,\n",
       "       66.39840483, 66.3851913 , 66.38001921, 66.31967175, 66.42401256,\n",
       "       66.38343591, 66.35826468, 66.40172211, 66.38402695, 66.41298383,\n",
       "       66.3224362 , 66.33770875, 66.36026005, 66.37259992, 66.37429439,\n",
       "       66.36377626, 66.39538826, 66.4027566 , 66.33863765, 66.36637277,\n",
       "       66.36900373, 66.35106559, 66.34614423, 66.39439454, 66.37723418,\n",
       "       66.40784604, 66.38034166, 66.36266382, 66.28746418, 66.38256421,\n",
       "       66.28173004, 66.30793893, 66.3722219 , 66.33391195, 66.35741947,\n",
       "       66.3198951 , 66.34330279, 66.36800324, 66.33191739, 66.32805067,\n",
       "       66.38810661, 66.36424215, 66.40897602, 66.38574109, 66.41245257,\n",
       "       66.32011484, 66.35507748, 66.37042389, 66.35272201, 66.38341986,\n",
       "       66.35685807, 66.3993565 , 66.37818416, 66.32496656, 66.38464935])"
      ]
     },
     "execution_count": 201,
     "metadata": {},
     "output_type": "execute_result"
    }
   ],
   "source": [
    "bootstrapped_means"
   ]
  },
  {
   "cell_type": "code",
   "execution_count": 198,
   "id": "e5467dd1",
   "metadata": {},
   "outputs": [
    {
     "name": "stdout",
     "output_type": "stream",
     "text": [
      "[66.3039306  66.42833896]\n",
      "0.1244083605058961\n"
     ]
    }
   ],
   "source": [
    "confidence_interval = np.percentile(bootstrapped_means, [2.5, 97.5])\n",
    "print(confidence_interval)\n",
    "length = confidence_interval[1] - confidence_interval[0]\n",
    "print(length)"
   ]
  },
  {
   "cell_type": "code",
   "execution_count": 97,
   "id": "12853924",
   "metadata": {},
   "outputs": [
    {
     "data": {
      "image/png": "[encoded data removed]",
      "text/plain": [
       "<Figure size 432x288 with 1 Axes>"
      ]
     },
     "metadata": {
      "needs_background": "light"
     },
     "output_type": "display_data"
    }
   ],
   "source": [
    "plt.hist(bootstrapped_means, bins=30, density=True)\n",
    "plt.axvline(x=confidence_interval[0], c=\"r\")\n",
    "plt.axvline(x=confidence_interval[1], c=\"r\")\n",
    "plt.show()"
   ]
  },
  {
   "cell_type": "code",
   "execution_count": 84,
   "id": "857652b7",
   "metadata": {},
   "outputs": [
    {
     "data": {
      "text/plain": [
       "6376"
      ]
     },
     "execution_count": 84,
     "metadata": {},
     "output_type": "execute_result"
    }
   ],
   "source": [
    "heights.sample(len(heights), replace=True).nunique()"
   ]
  },
  {
   "cell_type": "code",
   "execution_count": 72,
   "id": "602e3215",
   "metadata": {
    "collapsed": true
   },
   "outputs": [
    {
     "data": {
      "text/plain": [
       "63.716692    1\n",
       "63.669113    1\n",
       "67.449273    1\n",
       "68.985554    1\n",
       "66.559796    1\n",
       "            ..\n",
       "71.330554    1\n",
       "66.635115    1\n",
       "73.815386    1\n",
       "68.763464    1\n",
       "61.035490    1\n",
       "Name: Height, Length: 10000, dtype: int64"
      ]
     },
     "execution_count": 72,
     "metadata": {},
     "output_type": "execute_result"
    }
   ],
   "source": [
    "heights.sample(len(heights), replace=False).value_counts()"
   ]
  },
  {
   "cell_type": "markdown",
   "id": "78a1a5d9",
   "metadata": {},
   "source": [
    "# Hypothesis testing"
   ]
  },
  {
   "cell_type": "code",
   "execution_count": 186,
   "id": "020c8616",
   "metadata": {},
   "outputs": [
    {
     "name": "stdout",
     "output_type": "stream",
     "text": [
      "0.17217\n"
     ]
    }
   ],
   "source": [
    "num_tosses = 10\n",
    "num_heads = 7\n",
    "num_people = 100000\n",
    "\n",
    "count_extremes = 0\n",
    "for i in range(num_people):\n",
    "    # tosses is a sequence of 0's and 1's, num_tosses number of elements\n",
    "    tosses = np.random.choice([0, 1], size=num_tosses)\n",
    "    sum_tosses = np.sum(tosses) # 1--> heads. Sum gives number of heads\n",
    "    if sum_tosses >= num_heads:\n",
    "        count_extremes += 1\n",
    "p_value = count_extremes / num_people\n",
    "print(p_value)"
   ]
  }
 ],
 "metadata": {
  "kernelspec": {
   "display_name": "Python 3 (ipykernel)",
   "language": "python",
   "name": "python3"
  },
  "language_info": {
   "codemirror_mode": {
    "name": "ipython",
    "version": 3
   },
   "file_extension": ".py",
   "mimetype": "text/x-python",
   "name": "python",
   "nbconvert_exporter": "python",
   "pygments_lexer": "ipython3",
   "version": "3.8.12"
  }
 },
 "nbformat": 4,
 "nbformat_minor": 5
}
