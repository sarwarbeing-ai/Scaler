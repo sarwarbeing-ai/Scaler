{
  "nbformat": 4,
  "nbformat_minor": 0,
  "metadata": {
    "colab": {
      "name": "Delhivery -Feature Engineering.ipynb",
      "provenance": []
    },
    "kernelspec": {
      "name": "python3",
      "display_name": "Python 3"
    },
    "language_info": {
      "name": "python"
    }
  },
  "cells": [
    {
      "cell_type": "markdown",
      "source": [
        "# Packages"
      ],
      "metadata": {
        "id": "_smub6stKPy1"
      }
    },
    {
      "cell_type": "code",
      "execution_count": 81,
      "metadata": {
        "id": "rKLvmapRKGei"
      },
      "outputs": [],
      "source": [
        "import numpy as np\n",
        "import pandas as pd\n",
        "import matplotlib.pyplot as plt\n",
        "import seaborn as sns\n",
        "from sklearn.preprocessing import StandardScaler\n",
        "import scipy.stats as st\n",
        "\n",
        "pd.set_option(\"display.max_columns\",50)"
      ]
    },
    {
      "cell_type": "markdown",
      "source": [
        "# Loading Data"
      ],
      "metadata": {
        "id": "YTBctS-0KiIE"
      }
    },
    {
      "cell_type": "code",
      "source": [
        "data=pd.read_csv(\"/content/delhivery_data.txt\")\n",
        "data.head()"
      ],
      "metadata": {
        "colab": {
          "base_uri": "https://localhost:8080/",
          "height": 444
        },
        "id": "UQ7g95DMKfRf",
        "outputId": "9a0aa446-fdde-413e-a940-58e1df4a7b3f"
      },
      "execution_count": 2,
      "outputs": [
        {
          "output_type": "execute_result",
          "data": {
            "text/plain": [
              "       data          trip_creation_time  \\\n",
              "0  training  2018-09-20 02:35:36.476840   \n",
              "1  training  2018-09-20 02:35:36.476840   \n",
              "2  training  2018-09-20 02:35:36.476840   \n",
              "3  training  2018-09-20 02:35:36.476840   \n",
              "4  training  2018-09-20 02:35:36.476840   \n",
              "\n",
              "                                 route_schedule_uuid route_type  \\\n",
              "0  thanos::sroute:eb7bfc78-b351-4c0e-a951-fa3d5c3...    Carting   \n",
              "1  thanos::sroute:eb7bfc78-b351-4c0e-a951-fa3d5c3...    Carting   \n",
              "2  thanos::sroute:eb7bfc78-b351-4c0e-a951-fa3d5c3...    Carting   \n",
              "3  thanos::sroute:eb7bfc78-b351-4c0e-a951-fa3d5c3...    Carting   \n",
              "4  thanos::sroute:eb7bfc78-b351-4c0e-a951-fa3d5c3...    Carting   \n",
              "\n",
              "                 trip_uuid source_center                 source_name  \\\n",
              "0  trip-153741093647649320  IND388121AAA  Anand_VUNagar_DC (Gujarat)   \n",
              "1  trip-153741093647649320  IND388121AAA  Anand_VUNagar_DC (Gujarat)   \n",
              "2  trip-153741093647649320  IND388121AAA  Anand_VUNagar_DC (Gujarat)   \n",
              "3  trip-153741093647649320  IND388121AAA  Anand_VUNagar_DC (Gujarat)   \n",
              "4  trip-153741093647649320  IND388121AAA  Anand_VUNagar_DC (Gujarat)   \n",
              "\n",
              "  destination_center               destination_name  \\\n",
              "0       IND388620AAB  Khambhat_MotvdDPP_D (Gujarat)   \n",
              "1       IND388620AAB  Khambhat_MotvdDPP_D (Gujarat)   \n",
              "2       IND388620AAB  Khambhat_MotvdDPP_D (Gujarat)   \n",
              "3       IND388620AAB  Khambhat_MotvdDPP_D (Gujarat)   \n",
              "4       IND388620AAB  Khambhat_MotvdDPP_D (Gujarat)   \n",
              "\n",
              "                od_start_time                 od_end_time  \\\n",
              "0  2018-09-20 03:21:32.418600  2018-09-20 04:47:45.236797   \n",
              "1  2018-09-20 03:21:32.418600  2018-09-20 04:47:45.236797   \n",
              "2  2018-09-20 03:21:32.418600  2018-09-20 04:47:45.236797   \n",
              "3  2018-09-20 03:21:32.418600  2018-09-20 04:47:45.236797   \n",
              "4  2018-09-20 03:21:32.418600  2018-09-20 04:47:45.236797   \n",
              "\n",
              "   start_scan_to_end_scan is_cutoff  cutoff_factor  \\\n",
              "0                    86.0      True            9.0   \n",
              "1                    86.0      True           18.0   \n",
              "2                    86.0      True           27.0   \n",
              "3                    86.0      True           36.0   \n",
              "4                    86.0     False           39.0   \n",
              "\n",
              "             cutoff_timestamp  actual_distance_to_destination  actual_time  \\\n",
              "0         2018-09-20 04:27:55                       10.435660         14.0   \n",
              "1         2018-09-20 04:17:55                       18.936842         24.0   \n",
              "2  2018-09-20 04:01:19.505586                       27.637279         40.0   \n",
              "3         2018-09-20 03:39:57                       36.118028         62.0   \n",
              "4         2018-09-20 03:33:55                       39.386040         68.0   \n",
              "\n",
              "   osrm_time  osrm_distance    factor  segment_actual_time  segment_osrm_time  \\\n",
              "0       11.0        11.9653  1.272727                 14.0               11.0   \n",
              "1       20.0        21.7243  1.200000                 10.0                9.0   \n",
              "2       28.0        32.5395  1.428571                 16.0                7.0   \n",
              "3       40.0        45.5620  1.550000                 21.0               12.0   \n",
              "4       44.0        54.2181  1.545455                  6.0                5.0   \n",
              "\n",
              "   segment_osrm_distance  segment_factor  \n",
              "0                11.9653        1.272727  \n",
              "1                 9.7590        1.111111  \n",
              "2                10.8152        2.285714  \n",
              "3                13.0224        1.750000  \n",
              "4                 3.9153        1.200000  "
            ],
            "text/html": [
              "\n",
              "  <div id=\"df-3e8c9028-3ea0-4665-8ce5-29b49692d41e\">\n",
              "    <div class=\"colab-df-container\">\n",
              "      <div>\n",
              "<style scoped>\n",
              "    .dataframe tbody tr th:only-of-type {\n",
              "        vertical-align: middle;\n",
              "    }\n",
              "\n",
              "    .dataframe tbody tr th {\n",
              "        vertical-align: top;\n",
              "    }\n",
              "\n",
              "    .dataframe thead th {\n",
              "        text-align: right;\n",
              "    }\n",
              "</style>\n",
              "<table border=\"1\" class=\"dataframe\">\n",
              "  <thead>\n",
              "    <tr style=\"text-align: right;\">\n",
              "      <th></th>\n",
              "      <th>data</th>\n",
              "      <th>trip_creation_time</th>\n",
              "      <th>route_schedule_uuid</th>\n",
              "      <th>route_type</th>\n",
              "      <th>trip_uuid</th>\n",
              "      <th>source_center</th>\n",
              "      <th>source_name</th>\n",
              "      <th>destination_center</th>\n",
              "      <th>destination_name</th>\n",
              "      <th>od_start_time</th>\n",
              "      <th>od_end_time</th>\n",
              "      <th>start_scan_to_end_scan</th>\n",
              "      <th>is_cutoff</th>\n",
              "      <th>cutoff_factor</th>\n",
              "      <th>cutoff_timestamp</th>\n",
              "      <th>actual_distance_to_destination</th>\n",
              "      <th>actual_time</th>\n",
              "      <th>osrm_time</th>\n",
              "      <th>osrm_distance</th>\n",
              "      <th>factor</th>\n",
              "      <th>segment_actual_time</th>\n",
              "      <th>segment_osrm_time</th>\n",
              "      <th>segment_osrm_distance</th>\n",
              "      <th>segment_factor</th>\n",
              "    </tr>\n",
              "  </thead>\n",
              "  <tbody>\n",
              "    <tr>\n",
              "      <th>0</th>\n",
              "      <td>training</td>\n",
              "      <td>2018-09-20 02:35:36.476840</td>\n",
              "      <td>thanos::sroute:eb7bfc78-b351-4c0e-a951-fa3d5c3...</td>\n",
              "      <td>Carting</td>\n",
              "      <td>trip-153741093647649320</td>\n",
              "      <td>IND388121AAA</td>\n",
              "      <td>Anand_VUNagar_DC (Gujarat)</td>\n",
              "      <td>IND388620AAB</td>\n",
              "      <td>Khambhat_MotvdDPP_D (Gujarat)</td>\n",
              "      <td>2018-09-20 03:21:32.418600</td>\n",
              "      <td>2018-09-20 04:47:45.236797</td>\n",
              "      <td>86.0</td>\n",
              "      <td>True</td>\n",
              "      <td>9.0</td>\n",
              "      <td>2018-09-20 04:27:55</td>\n",
              "      <td>10.435660</td>\n",
              "      <td>14.0</td>\n",
              "      <td>11.0</td>\n",
              "      <td>11.9653</td>\n",
              "      <td>1.272727</td>\n",
              "      <td>14.0</td>\n",
              "      <td>11.0</td>\n",
              "      <td>11.9653</td>\n",
              "      <td>1.272727</td>\n",
              "    </tr>\n",
              "    <tr>\n",
              "      <th>1</th>\n",
              "      <td>training</td>\n",
              "      <td>2018-09-20 02:35:36.476840</td>\n",
              "      <td>thanos::sroute:eb7bfc78-b351-4c0e-a951-fa3d5c3...</td>\n",
              "      <td>Carting</td>\n",
              "      <td>trip-153741093647649320</td>\n",
              "      <td>IND388121AAA</td>\n",
              "      <td>Anand_VUNagar_DC (Gujarat)</td>\n",
              "      <td>IND388620AAB</td>\n",
              "      <td>Khambhat_MotvdDPP_D (Gujarat)</td>\n",
              "      <td>2018-09-20 03:21:32.418600</td>\n",
              "      <td>2018-09-20 04:47:45.236797</td>\n",
              "      <td>86.0</td>\n",
              "      <td>True</td>\n",
              "      <td>18.0</td>\n",
              "      <td>2018-09-20 04:17:55</td>\n",
              "      <td>18.936842</td>\n",
              "      <td>24.0</td>\n",
              "      <td>20.0</td>\n",
              "      <td>21.7243</td>\n",
              "      <td>1.200000</td>\n",
              "      <td>10.0</td>\n",
              "      <td>9.0</td>\n",
              "      <td>9.7590</td>\n",
              "      <td>1.111111</td>\n",
              "    </tr>\n",
              "    <tr>\n",
              "      <th>2</th>\n",
              "      <td>training</td>\n",
              "      <td>2018-09-20 02:35:36.476840</td>\n",
              "      <td>thanos::sroute:eb7bfc78-b351-4c0e-a951-fa3d5c3...</td>\n",
              "      <td>Carting</td>\n",
              "      <td>trip-153741093647649320</td>\n",
              "      <td>IND388121AAA</td>\n",
              "      <td>Anand_VUNagar_DC (Gujarat)</td>\n",
              "      <td>IND388620AAB</td>\n",
              "      <td>Khambhat_MotvdDPP_D (Gujarat)</td>\n",
              "      <td>2018-09-20 03:21:32.418600</td>\n",
              "      <td>2018-09-20 04:47:45.236797</td>\n",
              "      <td>86.0</td>\n",
              "      <td>True</td>\n",
              "      <td>27.0</td>\n",
              "      <td>2018-09-20 04:01:19.505586</td>\n",
              "      <td>27.637279</td>\n",
              "      <td>40.0</td>\n",
              "      <td>28.0</td>\n",
              "      <td>32.5395</td>\n",
              "      <td>1.428571</td>\n",
              "      <td>16.0</td>\n",
              "      <td>7.0</td>\n",
              "      <td>10.8152</td>\n",
              "      <td>2.285714</td>\n",
              "    </tr>\n",
              "    <tr>\n",
              "      <th>3</th>\n",
              "      <td>training</td>\n",
              "      <td>2018-09-20 02:35:36.476840</td>\n",
              "      <td>thanos::sroute:eb7bfc78-b351-4c0e-a951-fa3d5c3...</td>\n",
              "      <td>Carting</td>\n",
              "      <td>trip-153741093647649320</td>\n",
              "      <td>IND388121AAA</td>\n",
              "      <td>Anand_VUNagar_DC (Gujarat)</td>\n",
              "      <td>IND388620AAB</td>\n",
              "      <td>Khambhat_MotvdDPP_D (Gujarat)</td>\n",
              "      <td>2018-09-20 03:21:32.418600</td>\n",
              "      <td>2018-09-20 04:47:45.236797</td>\n",
              "      <td>86.0</td>\n",
              "      <td>True</td>\n",
              "      <td>36.0</td>\n",
              "      <td>2018-09-20 03:39:57</td>\n",
              "      <td>36.118028</td>\n",
              "      <td>62.0</td>\n",
              "      <td>40.0</td>\n",
              "      <td>45.5620</td>\n",
              "      <td>1.550000</td>\n",
              "      <td>21.0</td>\n",
              "      <td>12.0</td>\n",
              "      <td>13.0224</td>\n",
              "      <td>1.750000</td>\n",
              "    </tr>\n",
              "    <tr>\n",
              "      <th>4</th>\n",
              "      <td>training</td>\n",
              "      <td>2018-09-20 02:35:36.476840</td>\n",
              "      <td>thanos::sroute:eb7bfc78-b351-4c0e-a951-fa3d5c3...</td>\n",
              "      <td>Carting</td>\n",
              "      <td>trip-153741093647649320</td>\n",
              "      <td>IND388121AAA</td>\n",
              "      <td>Anand_VUNagar_DC (Gujarat)</td>\n",
              "      <td>IND388620AAB</td>\n",
              "      <td>Khambhat_MotvdDPP_D (Gujarat)</td>\n",
              "      <td>2018-09-20 03:21:32.418600</td>\n",
              "      <td>2018-09-20 04:47:45.236797</td>\n",
              "      <td>86.0</td>\n",
              "      <td>False</td>\n",
              "      <td>39.0</td>\n",
              "      <td>2018-09-20 03:33:55</td>\n",
              "      <td>39.386040</td>\n",
              "      <td>68.0</td>\n",
              "      <td>44.0</td>\n",
              "      <td>54.2181</td>\n",
              "      <td>1.545455</td>\n",
              "      <td>6.0</td>\n",
              "      <td>5.0</td>\n",
              "      <td>3.9153</td>\n",
              "      <td>1.200000</td>\n",
              "    </tr>\n",
              "  </tbody>\n",
              "</table>\n",
              "</div>\n",
              "      <button class=\"colab-df-convert\" onclick=\"convertToInteractive('df-3e8c9028-3ea0-4665-8ce5-29b49692d41e')\"\n",
              "              title=\"Convert this dataframe to an interactive table.\"\n",
              "              style=\"display:none;\">\n",
              "        \n",
              "  <svg xmlns=\"http://www.w3.org/2000/svg\" height=\"24px\"viewBox=\"0 0 24 24\"\n",
              "       width=\"24px\">\n",
              "    <path d=\"M0 0h24v24H0V0z\" fill=\"none\"/>\n",
              "    <path d=\"M18.56 5.44l.94 2.06.94-2.06 2.06-.94-2.06-.94-.94-2.06-.94 2.06-2.06.94zm-11 1L8.5 8.5l.94-2.06 2.06-.94-2.06-.94L8.5 2.5l-.94 2.06-2.06.94zm10 10l.94 2.06.94-2.06 2.06-.94-2.06-.94-.94-2.06-.94 2.06-2.06.94z\"/><path d=\"M17.41 7.96l-1.37-1.37c-.4-.4-.92-.59-1.43-.59-.52 0-1.04.2-1.43.59L10.3 9.45l-7.72 7.72c-.78.78-.78 2.05 0 2.83L4 21.41c.39.39.9.59 1.41.59.51 0 1.02-.2 1.41-.59l7.78-7.78 2.81-2.81c.8-.78.8-2.07 0-2.86zM5.41 20L4 18.59l7.72-7.72 1.47 1.35L5.41 20z\"/>\n",
              "  </svg>\n",
              "      </button>\n",
              "      \n",
              "  <style>\n",
              "    .colab-df-container {\n",
              "      display:flex;\n",
              "      flex-wrap:wrap;\n",
              "      gap: 12px;\n",
              "    }\n",
              "\n",
              "    .colab-df-convert {\n",
              "      background-color: #E8F0FE;\n",
              "      border: none;\n",
              "      border-radius: 50%;\n",
              "      cursor: pointer;\n",
              "      display: none;\n",
              "      fill: #1967D2;\n",
              "      height: 32px;\n",
              "      padding: 0 0 0 0;\n",
              "      width: 32px;\n",
              "    }\n",
              "\n",
              "    .colab-df-convert:hover {\n",
              "      background-color: #E2EBFA;\n",
              "      box-shadow: 0px 1px 2px rgba(60, 64, 67, 0.3), 0px 1px 3px 1px rgba(60, 64, 67, 0.15);\n",
              "      fill: #174EA6;\n",
              "    }\n",
              "\n",
              "    [theme=dark] .colab-df-convert {\n",
              "      background-color: #3B4455;\n",
              "      fill: #D2E3FC;\n",
              "    }\n",
              "\n",
              "    [theme=dark] .colab-df-convert:hover {\n",
              "      background-color: #434B5C;\n",
              "      box-shadow: 0px 1px 3px 1px rgba(0, 0, 0, 0.15);\n",
              "      filter: drop-shadow(0px 1px 2px rgba(0, 0, 0, 0.3));\n",
              "      fill: #FFFFFF;\n",
              "    }\n",
              "  </style>\n",
              "\n",
              "      <script>\n",
              "        const buttonEl =\n",
              "          document.querySelector('#df-3e8c9028-3ea0-4665-8ce5-29b49692d41e button.colab-df-convert');\n",
              "        buttonEl.style.display =\n",
              "          google.colab.kernel.accessAllowed ? 'block' : 'none';\n",
              "\n",
              "        async function convertToInteractive(key) {\n",
              "          const element = document.querySelector('#df-3e8c9028-3ea0-4665-8ce5-29b49692d41e');\n",
              "          const dataTable =\n",
              "            await google.colab.kernel.invokeFunction('convertToInteractive',\n",
              "                                                     [key], {});\n",
              "          if (!dataTable) return;\n",
              "\n",
              "          const docLinkHtml = 'Like what you see? Visit the ' +\n",
              "            '<a target=\"_blank\" href=https://colab.research.google.com/notebooks/data_table.ipynb>data table notebook</a>'\n",
              "            + ' to learn more about interactive tables.';\n",
              "          element.innerHTML = '';\n",
              "          dataTable['output_type'] = 'display_data';\n",
              "          await google.colab.output.renderOutput(dataTable, element);\n",
              "          const docLink = document.createElement('div');\n",
              "          docLink.innerHTML = docLinkHtml;\n",
              "          element.appendChild(docLink);\n",
              "        }\n",
              "      </script>\n",
              "    </div>\n",
              "  </div>\n",
              "  "
            ]
          },
          "metadata": {},
          "execution_count": 2
        }
      ]
    },
    {
      "cell_type": "markdown",
      "source": [
        "# Problem Statement:\n",
        "\n",
        "**Make the data suitable for building forecasting models on it by cleaning and doing feature engineering.**"
      ],
      "metadata": {
        "id": "XAkTLHt0OEhe"
      }
    },
    {
      "cell_type": "markdown",
      "source": [
        "# Exploratory Data Analysis"
      ],
      "metadata": {
        "id": "hGW6JKwJbBv_"
      }
    },
    {
      "cell_type": "markdown",
      "source": [
        "# Shape of the data:\n",
        "Number of rows and columns"
      ],
      "metadata": {
        "id": "lzxoo8Uh1ob3"
      }
    },
    {
      "cell_type": "code",
      "source": [
        "print(\"Number of rows: \",data.shape[0])\n",
        "print(\"Number of columns: \",data.shape[1])"
      ],
      "metadata": {
        "colab": {
          "base_uri": "https://localhost:8080/"
        },
        "id": "2txgiudI1qcQ",
        "outputId": "cc68a110-2735-45f1-de11-3d78844ed004"
      },
      "execution_count": 3,
      "outputs": [
        {
          "output_type": "stream",
          "name": "stdout",
          "text": [
            "Number of rows:  5460\n",
            "Number of columns:  24\n"
          ]
        }
      ]
    },
    {
      "cell_type": "markdown",
      "source": [
        "# Summary statistics"
      ],
      "metadata": {
        "id": "S1JSBqZA0LB8"
      }
    },
    {
      "cell_type": "code",
      "source": [
        "data.describe() "
      ],
      "metadata": {
        "colab": {
          "base_uri": "https://localhost:8080/",
          "height": 364
        },
        "id": "aJRj6KZJvIwT",
        "outputId": "31e84673-9cb4-472b-df18-8f9ad36d336b"
      },
      "execution_count": 4,
      "outputs": [
        {
          "output_type": "execute_result",
          "data": {
            "text/plain": [
              "       start_scan_to_end_scan  cutoff_factor  actual_distance_to_destination  \\\n",
              "count             5459.000000    5459.000000                     5459.000000   \n",
              "mean               880.768273     215.867558                      216.970249   \n",
              "std                992.546724     336.202581                      336.418659   \n",
              "min                 25.000000       9.000000                        9.000267   \n",
              "25%                148.000000      22.000000                       22.948256   \n",
              "50%                379.000000      54.000000                       54.442149   \n",
              "75%               1285.000000     242.000000                      242.572677   \n",
              "max               3230.000000    1690.000000                     1690.302865   \n",
              "\n",
              "       actual_time    osrm_time  osrm_distance       factor  \\\n",
              "count  5459.000000  5459.000000    5459.000000  5459.000000   \n",
              "mean    381.978934   201.280821     265.342989     2.090474   \n",
              "std     565.798027   305.279616     414.603425     1.457167   \n",
              "min       9.000000     6.000000       9.202000     0.250000   \n",
              "25%      49.000000    26.000000      28.757800     1.573942   \n",
              "50%     116.000000    58.000000      70.677700     1.824427   \n",
              "75%     439.500000   220.500000     288.167050     2.193265   \n",
              "max    2873.000000  1549.000000    2095.672900    45.687500   \n",
              "\n",
              "       segment_actual_time  segment_osrm_time  segment_osrm_distance  \\\n",
              "count          5459.000000        5459.000000            5459.000000   \n",
              "mean             36.222568          18.303719              22.429220   \n",
              "std              48.766553          11.833789              13.592035   \n",
              "min             -26.000000           0.000000               0.000000   \n",
              "25%              20.000000          11.000000              12.007600   \n",
              "50%              29.000000          17.000000              23.522900   \n",
              "75%              41.000000          22.000000              27.685150   \n",
              "max            1136.000000         154.000000             215.255200   \n",
              "\n",
              "       segment_factor  \n",
              "count     5459.000000  \n",
              "mean         2.278572  \n",
              "std          7.363019  \n",
              "min         -1.857143  \n",
              "25%          1.346990  \n",
              "50%          1.689655  \n",
              "75%          2.250000  \n",
              "max        493.000000  "
            ],
            "text/html": [
              "\n",
              "  <div id=\"df-f0987ac1-c76d-4179-b6e6-2dbb2222258b\">\n",
              "    <div class=\"colab-df-container\">\n",
              "      <div>\n",
              "<style scoped>\n",
              "    .dataframe tbody tr th:only-of-type {\n",
              "        vertical-align: middle;\n",
              "    }\n",
              "\n",
              "    .dataframe tbody tr th {\n",
              "        vertical-align: top;\n",
              "    }\n",
              "\n",
              "    .dataframe thead th {\n",
              "        text-align: right;\n",
              "    }\n",
              "</style>\n",
              "<table border=\"1\" class=\"dataframe\">\n",
              "  <thead>\n",
              "    <tr style=\"text-align: right;\">\n",
              "      <th></th>\n",
              "      <th>start_scan_to_end_scan</th>\n",
              "      <th>cutoff_factor</th>\n",
              "      <th>actual_distance_to_destination</th>\n",
              "      <th>actual_time</th>\n",
              "      <th>osrm_time</th>\n",
              "      <th>osrm_distance</th>\n",
              "      <th>factor</th>\n",
              "      <th>segment_actual_time</th>\n",
              "      <th>segment_osrm_time</th>\n",
              "      <th>segment_osrm_distance</th>\n",
              "      <th>segment_factor</th>\n",
              "    </tr>\n",
              "  </thead>\n",
              "  <tbody>\n",
              "    <tr>\n",
              "      <th>count</th>\n",
              "      <td>5459.000000</td>\n",
              "      <td>5459.000000</td>\n",
              "      <td>5459.000000</td>\n",
              "      <td>5459.000000</td>\n",
              "      <td>5459.000000</td>\n",
              "      <td>5459.000000</td>\n",
              "      <td>5459.000000</td>\n",
              "      <td>5459.000000</td>\n",
              "      <td>5459.000000</td>\n",
              "      <td>5459.000000</td>\n",
              "      <td>5459.000000</td>\n",
              "    </tr>\n",
              "    <tr>\n",
              "      <th>mean</th>\n",
              "      <td>880.768273</td>\n",
              "      <td>215.867558</td>\n",
              "      <td>216.970249</td>\n",
              "      <td>381.978934</td>\n",
              "      <td>201.280821</td>\n",
              "      <td>265.342989</td>\n",
              "      <td>2.090474</td>\n",
              "      <td>36.222568</td>\n",
              "      <td>18.303719</td>\n",
              "      <td>22.429220</td>\n",
              "      <td>2.278572</td>\n",
              "    </tr>\n",
              "    <tr>\n",
              "      <th>std</th>\n",
              "      <td>992.546724</td>\n",
              "      <td>336.202581</td>\n",
              "      <td>336.418659</td>\n",
              "      <td>565.798027</td>\n",
              "      <td>305.279616</td>\n",
              "      <td>414.603425</td>\n",
              "      <td>1.457167</td>\n",
              "      <td>48.766553</td>\n",
              "      <td>11.833789</td>\n",
              "      <td>13.592035</td>\n",
              "      <td>7.363019</td>\n",
              "    </tr>\n",
              "    <tr>\n",
              "      <th>min</th>\n",
              "      <td>25.000000</td>\n",
              "      <td>9.000000</td>\n",
              "      <td>9.000267</td>\n",
              "      <td>9.000000</td>\n",
              "      <td>6.000000</td>\n",
              "      <td>9.202000</td>\n",
              "      <td>0.250000</td>\n",
              "      <td>-26.000000</td>\n",
              "      <td>0.000000</td>\n",
              "      <td>0.000000</td>\n",
              "      <td>-1.857143</td>\n",
              "    </tr>\n",
              "    <tr>\n",
              "      <th>25%</th>\n",
              "      <td>148.000000</td>\n",
              "      <td>22.000000</td>\n",
              "      <td>22.948256</td>\n",
              "      <td>49.000000</td>\n",
              "      <td>26.000000</td>\n",
              "      <td>28.757800</td>\n",
              "      <td>1.573942</td>\n",
              "      <td>20.000000</td>\n",
              "      <td>11.000000</td>\n",
              "      <td>12.007600</td>\n",
              "      <td>1.346990</td>\n",
              "    </tr>\n",
              "    <tr>\n",
              "      <th>50%</th>\n",
              "      <td>379.000000</td>\n",
              "      <td>54.000000</td>\n",
              "      <td>54.442149</td>\n",
              "      <td>116.000000</td>\n",
              "      <td>58.000000</td>\n",
              "      <td>70.677700</td>\n",
              "      <td>1.824427</td>\n",
              "      <td>29.000000</td>\n",
              "      <td>17.000000</td>\n",
              "      <td>23.522900</td>\n",
              "      <td>1.689655</td>\n",
              "    </tr>\n",
              "    <tr>\n",
              "      <th>75%</th>\n",
              "      <td>1285.000000</td>\n",
              "      <td>242.000000</td>\n",
              "      <td>242.572677</td>\n",
              "      <td>439.500000</td>\n",
              "      <td>220.500000</td>\n",
              "      <td>288.167050</td>\n",
              "      <td>2.193265</td>\n",
              "      <td>41.000000</td>\n",
              "      <td>22.000000</td>\n",
              "      <td>27.685150</td>\n",
              "      <td>2.250000</td>\n",
              "    </tr>\n",
              "    <tr>\n",
              "      <th>max</th>\n",
              "      <td>3230.000000</td>\n",
              "      <td>1690.000000</td>\n",
              "      <td>1690.302865</td>\n",
              "      <td>2873.000000</td>\n",
              "      <td>1549.000000</td>\n",
              "      <td>2095.672900</td>\n",
              "      <td>45.687500</td>\n",
              "      <td>1136.000000</td>\n",
              "      <td>154.000000</td>\n",
              "      <td>215.255200</td>\n",
              "      <td>493.000000</td>\n",
              "    </tr>\n",
              "  </tbody>\n",
              "</table>\n",
              "</div>\n",
              "      <button class=\"colab-df-convert\" onclick=\"convertToInteractive('df-f0987ac1-c76d-4179-b6e6-2dbb2222258b')\"\n",
              "              title=\"Convert this dataframe to an interactive table.\"\n",
              "              style=\"display:none;\">\n",
              "        \n",
              "  <svg xmlns=\"http://www.w3.org/2000/svg\" height=\"24px\"viewBox=\"0 0 24 24\"\n",
              "       width=\"24px\">\n",
              "    <path d=\"M0 0h24v24H0V0z\" fill=\"none\"/>\n",
              "    <path d=\"M18.56 5.44l.94 2.06.94-2.06 2.06-.94-2.06-.94-.94-2.06-.94 2.06-2.06.94zm-11 1L8.5 8.5l.94-2.06 2.06-.94-2.06-.94L8.5 2.5l-.94 2.06-2.06.94zm10 10l.94 2.06.94-2.06 2.06-.94-2.06-.94-.94-2.06-.94 2.06-2.06.94z\"/><path d=\"M17.41 7.96l-1.37-1.37c-.4-.4-.92-.59-1.43-.59-.52 0-1.04.2-1.43.59L10.3 9.45l-7.72 7.72c-.78.78-.78 2.05 0 2.83L4 21.41c.39.39.9.59 1.41.59.51 0 1.02-.2 1.41-.59l7.78-7.78 2.81-2.81c.8-.78.8-2.07 0-2.86zM5.41 20L4 18.59l7.72-7.72 1.47 1.35L5.41 20z\"/>\n",
              "  </svg>\n",
              "      </button>\n",
              "      \n",
              "  <style>\n",
              "    .colab-df-container {\n",
              "      display:flex;\n",
              "      flex-wrap:wrap;\n",
              "      gap: 12px;\n",
              "    }\n",
              "\n",
              "    .colab-df-convert {\n",
              "      background-color: #E8F0FE;\n",
              "      border: none;\n",
              "      border-radius: 50%;\n",
              "      cursor: pointer;\n",
              "      display: none;\n",
              "      fill: #1967D2;\n",
              "      height: 32px;\n",
              "      padding: 0 0 0 0;\n",
              "      width: 32px;\n",
              "    }\n",
              "\n",
              "    .colab-df-convert:hover {\n",
              "      background-color: #E2EBFA;\n",
              "      box-shadow: 0px 1px 2px rgba(60, 64, 67, 0.3), 0px 1px 3px 1px rgba(60, 64, 67, 0.15);\n",
              "      fill: #174EA6;\n",
              "    }\n",
              "\n",
              "    [theme=dark] .colab-df-convert {\n",
              "      background-color: #3B4455;\n",
              "      fill: #D2E3FC;\n",
              "    }\n",
              "\n",
              "    [theme=dark] .colab-df-convert:hover {\n",
              "      background-color: #434B5C;\n",
              "      box-shadow: 0px 1px 3px 1px rgba(0, 0, 0, 0.15);\n",
              "      filter: drop-shadow(0px 1px 2px rgba(0, 0, 0, 0.3));\n",
              "      fill: #FFFFFF;\n",
              "    }\n",
              "  </style>\n",
              "\n",
              "      <script>\n",
              "        const buttonEl =\n",
              "          document.querySelector('#df-f0987ac1-c76d-4179-b6e6-2dbb2222258b button.colab-df-convert');\n",
              "        buttonEl.style.display =\n",
              "          google.colab.kernel.accessAllowed ? 'block' : 'none';\n",
              "\n",
              "        async function convertToInteractive(key) {\n",
              "          const element = document.querySelector('#df-f0987ac1-c76d-4179-b6e6-2dbb2222258b');\n",
              "          const dataTable =\n",
              "            await google.colab.kernel.invokeFunction('convertToInteractive',\n",
              "                                                     [key], {});\n",
              "          if (!dataTable) return;\n",
              "\n",
              "          const docLinkHtml = 'Like what you see? Visit the ' +\n",
              "            '<a target=\"_blank\" href=https://colab.research.google.com/notebooks/data_table.ipynb>data table notebook</a>'\n",
              "            + ' to learn more about interactive tables.';\n",
              "          element.innerHTML = '';\n",
              "          dataTable['output_type'] = 'display_data';\n",
              "          await google.colab.output.renderOutput(dataTable, element);\n",
              "          const docLink = document.createElement('div');\n",
              "          docLink.innerHTML = docLinkHtml;\n",
              "          element.appendChild(docLink);\n",
              "        }\n",
              "      </script>\n",
              "    </div>\n",
              "  </div>\n",
              "  "
            ]
          },
          "metadata": {},
          "execution_count": 4
        }
      ]
    },
    {
      "cell_type": "markdown",
      "source": [
        "Every numerical column has outliers as there is a significant difference between **mean** and **median**(50% quartile)\n",
        "\n",
        "The minimum value in **segment_actual_time** time taken by the subset of the package delivery is negative.It does not make sense that the time would be negative.\n",
        "\n",
        "Also **segment_factor** contains negative values"
      ],
      "metadata": {
        "id": "Rav2oBXhwHVX"
      }
    },
    {
      "cell_type": "code",
      "source": [
        "# Count the number of rows having segment_actual_time is negative\n",
        "print(\"Number of rows having segment_actual_time are negative: \",data[data['segment_actual_time']<0].shape[0])"
      ],
      "metadata": {
        "colab": {
          "base_uri": "https://localhost:8080/"
        },
        "id": "n4cRnbyFwsfC",
        "outputId": "b85b2e66-d8bb-42de-864b-2cf823e0267f"
      },
      "execution_count": 5,
      "outputs": [
        {
          "output_type": "stream",
          "name": "stdout",
          "text": [
            "Number of rows having segment_actual_time are negative:  3\n"
          ]
        }
      ]
    },
    {
      "cell_type": "code",
      "source": [
        " # get the sense of negative data in segment_actual_time\n",
        " data[data['segment_actual_time']<0]['segment_actual_time']"
      ],
      "metadata": {
        "colab": {
          "base_uri": "https://localhost:8080/"
        },
        "id": "ikA31GgwxNT9",
        "outputId": "52963714-0a3e-4939-e2d6-e96e211b37c6"
      },
      "execution_count": 6,
      "outputs": [
        {
          "output_type": "execute_result",
          "data": {
            "text/plain": [
              "1805   -26.0\n",
              "3761   -21.0\n",
              "4040    -5.0\n",
              "Name: segment_actual_time, dtype: float64"
            ]
          },
          "metadata": {},
          "execution_count": 6
        }
      ]
    },
    {
      "cell_type": "code",
      "source": [
        "# convert the negative values in segment_actual_time into positive\n",
        "data['segment_actual_time']=np.absolute(data['segment_actual_time'])"
      ],
      "metadata": {
        "id": "LENWbEZw1MGs"
      },
      "execution_count": 7,
      "outputs": []
    },
    {
      "cell_type": "code",
      "source": [
        "data[data['segment_factor']<0]['segment_factor']"
      ],
      "metadata": {
        "colab": {
          "base_uri": "https://localhost:8080/"
        },
        "id": "mj1NUg9I07vu",
        "outputId": "6192b18d-5595-480a-c501-212af58f78bf"
      },
      "execution_count": 8,
      "outputs": [
        {
          "output_type": "execute_result",
          "data": {
            "text/plain": [
              "47     -1.0\n",
              "54     -1.0\n",
              "90     -1.0\n",
              "164    -1.0\n",
              "224    -1.0\n",
              "       ... \n",
              "5222   -1.0\n",
              "5264   -1.0\n",
              "5268   -1.0\n",
              "5310   -1.0\n",
              "5420   -1.0\n",
              "Name: segment_factor, Length: 88, dtype: float64"
            ]
          },
          "metadata": {},
          "execution_count": 8
        }
      ]
    },
    {
      "cell_type": "markdown",
      "source": [
        "# Data types of every column"
      ],
      "metadata": {
        "id": "fS8vgGKoRQyQ"
      }
    },
    {
      "cell_type": "code",
      "source": [
        "print(\"Data types:\\n\",data.dtypes)"
      ],
      "metadata": {
        "colab": {
          "base_uri": "https://localhost:8080/"
        },
        "id": "X9YX4x0TNxC5",
        "outputId": "427898f1-61fa-4e58-f80d-900d1b0d08c2"
      },
      "execution_count": 9,
      "outputs": [
        {
          "output_type": "stream",
          "name": "stdout",
          "text": [
            "Data types:\n",
            " data                               object\n",
            "trip_creation_time                 object\n",
            "route_schedule_uuid                object\n",
            "route_type                         object\n",
            "trip_uuid                          object\n",
            "source_center                      object\n",
            "source_name                        object\n",
            "destination_center                 object\n",
            "destination_name                   object\n",
            "od_start_time                      object\n",
            "od_end_time                        object\n",
            "start_scan_to_end_scan            float64\n",
            "is_cutoff                          object\n",
            "cutoff_factor                     float64\n",
            "cutoff_timestamp                   object\n",
            "actual_distance_to_destination    float64\n",
            "actual_time                       float64\n",
            "osrm_time                         float64\n",
            "osrm_distance                     float64\n",
            "factor                            float64\n",
            "segment_actual_time               float64\n",
            "segment_osrm_time                 float64\n",
            "segment_osrm_distance             float64\n",
            "segment_factor                    float64\n",
            "dtype: object\n"
          ]
        }
      ]
    },
    {
      "cell_type": "markdown",
      "source": [
        "There are couple of attributes whose data type is object.We can convert them into category"
      ],
      "metadata": {
        "id": "lK4vcaOISAdB"
      }
    },
    {
      "cell_type": "markdown",
      "source": [
        "# Basic information of the dataset"
      ],
      "metadata": {
        "id": "C14CiownSLI3"
      }
    },
    {
      "cell_type": "code",
      "source": [
        "data.info()"
      ],
      "metadata": {
        "colab": {
          "base_uri": "https://localhost:8080/"
        },
        "id": "OCEpIgJrR2z1",
        "outputId": "ab33c299-a640-4a0a-ff67-cd5881790557"
      },
      "execution_count": 10,
      "outputs": [
        {
          "output_type": "stream",
          "name": "stdout",
          "text": [
            "<class 'pandas.core.frame.DataFrame'>\n",
            "RangeIndex: 5460 entries, 0 to 5459\n",
            "Data columns (total 24 columns):\n",
            " #   Column                          Non-Null Count  Dtype  \n",
            "---  ------                          --------------  -----  \n",
            " 0   data                            5460 non-null   object \n",
            " 1   trip_creation_time              5460 non-null   object \n",
            " 2   route_schedule_uuid             5460 non-null   object \n",
            " 3   route_type                      5459 non-null   object \n",
            " 4   trip_uuid                       5459 non-null   object \n",
            " 5   source_center                   5459 non-null   object \n",
            " 6   source_name                     5438 non-null   object \n",
            " 7   destination_center              5459 non-null   object \n",
            " 8   destination_name                5451 non-null   object \n",
            " 9   od_start_time                   5459 non-null   object \n",
            " 10  od_end_time                     5459 non-null   object \n",
            " 11  start_scan_to_end_scan          5459 non-null   float64\n",
            " 12  is_cutoff                       5459 non-null   object \n",
            " 13  cutoff_factor                   5459 non-null   float64\n",
            " 14  cutoff_timestamp                5459 non-null   object \n",
            " 15  actual_distance_to_destination  5459 non-null   float64\n",
            " 16  actual_time                     5459 non-null   float64\n",
            " 17  osrm_time                       5459 non-null   float64\n",
            " 18  osrm_distance                   5459 non-null   float64\n",
            " 19  factor                          5459 non-null   float64\n",
            " 20  segment_actual_time             5459 non-null   float64\n",
            " 21  segment_osrm_time               5459 non-null   float64\n",
            " 22  segment_osrm_distance           5459 non-null   float64\n",
            " 23  segment_factor                  5459 non-null   float64\n",
            "dtypes: float64(11), object(13)\n",
            "memory usage: 1023.9+ KB\n"
          ]
        }
      ]
    },
    {
      "cell_type": "markdown",
      "source": [
        "The memory usage of the data is more than 25 MB"
      ],
      "metadata": {
        "id": "IHm7pmvySSBt"
      }
    },
    {
      "cell_type": "markdown",
      "source": [
        "# Converting some attributes into \"category\" data type"
      ],
      "metadata": {
        "id": "u-qeG1E8SYCc"
      }
    },
    {
      "cell_type": "code",
      "source": [
        "data['route_type']=data['route_type'].astype(\"category\")\n",
        "data['is_cutoff']=data['is_cutoff'].astype(\"category\")"
      ],
      "metadata": {
        "id": "YMFtrFtaTZ4Q"
      },
      "execution_count": 11,
      "outputs": []
    },
    {
      "cell_type": "markdown",
      "source": [
        "# Convert some of the attributes into date time object"
      ],
      "metadata": {
        "id": "RUR6XyH_U1hk"
      }
    },
    {
      "cell_type": "code",
      "source": [
        "cols_datetime=['trip_creation_time','od_start_time','od_end_time','cutoff_timestamp']\n",
        "for col in cols_datetime:\n",
        "  data[col]=pd.to_datetime(data[col],infer_datetime_format=True)"
      ],
      "metadata": {
        "id": "sSdgk1HnUhhH"
      },
      "execution_count": 12,
      "outputs": []
    },
    {
      "cell_type": "code",
      "source": [
        "data.info()"
      ],
      "metadata": {
        "colab": {
          "base_uri": "https://localhost:8080/"
        },
        "id": "yWmjFuLNU_S0",
        "outputId": "72dd01e8-f32f-48d9-8606-073c3e7929fe"
      },
      "execution_count": 13,
      "outputs": [
        {
          "output_type": "stream",
          "name": "stdout",
          "text": [
            "<class 'pandas.core.frame.DataFrame'>\n",
            "RangeIndex: 5460 entries, 0 to 5459\n",
            "Data columns (total 24 columns):\n",
            " #   Column                          Non-Null Count  Dtype         \n",
            "---  ------                          --------------  -----         \n",
            " 0   data                            5460 non-null   object        \n",
            " 1   trip_creation_time              5460 non-null   datetime64[ns]\n",
            " 2   route_schedule_uuid             5460 non-null   object        \n",
            " 3   route_type                      5459 non-null   category      \n",
            " 4   trip_uuid                       5459 non-null   object        \n",
            " 5   source_center                   5459 non-null   object        \n",
            " 6   source_name                     5438 non-null   object        \n",
            " 7   destination_center              5459 non-null   object        \n",
            " 8   destination_name                5451 non-null   object        \n",
            " 9   od_start_time                   5459 non-null   datetime64[ns]\n",
            " 10  od_end_time                     5459 non-null   datetime64[ns]\n",
            " 11  start_scan_to_end_scan          5459 non-null   float64       \n",
            " 12  is_cutoff                       5459 non-null   category      \n",
            " 13  cutoff_factor                   5459 non-null   float64       \n",
            " 14  cutoff_timestamp                5459 non-null   datetime64[ns]\n",
            " 15  actual_distance_to_destination  5459 non-null   float64       \n",
            " 16  actual_time                     5459 non-null   float64       \n",
            " 17  osrm_time                       5459 non-null   float64       \n",
            " 18  osrm_distance                   5459 non-null   float64       \n",
            " 19  factor                          5459 non-null   float64       \n",
            " 20  segment_actual_time             5459 non-null   float64       \n",
            " 21  segment_osrm_time               5459 non-null   float64       \n",
            " 22  segment_osrm_distance           5459 non-null   float64       \n",
            " 23  segment_factor                  5459 non-null   float64       \n",
            "dtypes: category(2), datetime64[ns](4), float64(11), object(7)\n",
            "memory usage: 949.5+ KB\n"
          ]
        }
      ]
    },
    {
      "cell_type": "markdown",
      "source": [
        "After converting into category data type the memory usage reduced to 20.5 MB"
      ],
      "metadata": {
        "id": "uq3lmWELac4f"
      }
    },
    {
      "cell_type": "markdown",
      "source": [
        "# Detecting Missing Values"
      ],
      "metadata": {
        "id": "2rRX3hIHbF-n"
      }
    },
    {
      "cell_type": "code",
      "source": [
        "data.isna().sum()"
      ],
      "metadata": {
        "colab": {
          "base_uri": "https://localhost:8080/"
        },
        "id": "FFlR9vXqal-N",
        "outputId": "8566dde5-0ea3-4d49-8773-abbf0787ac02"
      },
      "execution_count": 14,
      "outputs": [
        {
          "output_type": "execute_result",
          "data": {
            "text/plain": [
              "data                               0\n",
              "trip_creation_time                 0\n",
              "route_schedule_uuid                0\n",
              "route_type                         1\n",
              "trip_uuid                          1\n",
              "source_center                      1\n",
              "source_name                       22\n",
              "destination_center                 1\n",
              "destination_name                   9\n",
              "od_start_time                      1\n",
              "od_end_time                        1\n",
              "start_scan_to_end_scan             1\n",
              "is_cutoff                          1\n",
              "cutoff_factor                      1\n",
              "cutoff_timestamp                   1\n",
              "actual_distance_to_destination     1\n",
              "actual_time                        1\n",
              "osrm_time                          1\n",
              "osrm_distance                      1\n",
              "factor                             1\n",
              "segment_actual_time                1\n",
              "segment_osrm_time                  1\n",
              "segment_osrm_distance              1\n",
              "segment_factor                     1\n",
              "dtype: int64"
            ]
          },
          "metadata": {},
          "execution_count": 14
        }
      ]
    },
    {
      "cell_type": "markdown",
      "source": [
        "Two attributes have missing values.Namely **source_name** and **destination_name**"
      ],
      "metadata": {
        "id": "WlPq31VQbMIQ"
      }
    },
    {
      "cell_type": "markdown",
      "source": [
        "# Missing value treatment:\n",
        "Here some values in **source_name** and **destination_name**  are missing.There are some rows where **source_name** is missing but **destination_name** is there.If we impute missing values using most frequent or other or something else.It does not make sense as the reason for missing values could be technical glitch.Therefore it is better to drop all the missing rows.IT will not hurt the dataset as the dataset has more than 100k data-points "
      ],
      "metadata": {
        "id": "ThrYIqUcyZk6"
      }
    },
    {
      "cell_type": "code",
      "source": [
        "data.dropna(how=\"any\",inplace=True)"
      ],
      "metadata": {
        "id": "6ovEzYg2yYZU"
      },
      "execution_count": 15,
      "outputs": []
    },
    {
      "cell_type": "code",
      "source": [
        "data.shape"
      ],
      "metadata": {
        "colab": {
          "base_uri": "https://localhost:8080/"
        },
        "id": "I6mYqgikzXl9",
        "outputId": "6bbe0020-243b-46a5-c0f3-a61b52fa0522"
      },
      "execution_count": 16,
      "outputs": [
        {
          "output_type": "execute_result",
          "data": {
            "text/plain": [
              "(5430, 24)"
            ]
          },
          "metadata": {},
          "execution_count": 16
        }
      ]
    },
    {
      "cell_type": "markdown",
      "source": [
        "The original dataset has 144867 rows whereas after removing rows  that having missing values the size of the dataset reduced to 144316.So the data is almost not affected by na values removal."
      ],
      "metadata": {
        "id": "LtY_gdHGziy-"
      }
    },
    {
      "cell_type": "markdown",
      "source": [
        "# Feature Creation and Merging of rows and aggregation of fields"
      ],
      "metadata": {
        "id": "iIqNqAVQOLLa"
      }
    },
    {
      "cell_type": "markdown",
      "source": [
        "# Aggregation based on these attributes\n",
        "# 1.Trip_uuid, Source ID(Source Center) and Destination ID(Destination Center)\n",
        "\n",
        "# 2.Trip_uuid"
      ],
      "metadata": {
        "id": "yijl-lHEOf_u"
      }
    },
    {
      "cell_type": "code",
      "source": [
        "# drop all the unknown fields\n",
        "#is_cutoff – Unknown field\n",
        "#cutoff_factor – Unknown field\n",
        "#cutoff_timestamp – Unknown field\n",
        "#factor – Unknown field\n",
        "#segment_factor – Unknown field\n",
        "# Also drop \"data\" column as we are not building a machine learning model ,therefore there is no need of keeping \n",
        "# it\n",
        "data.drop([\"data\",\"is_cutoff\",\"cutoff_factor\",\"cutoff_timestamp\",\"factor\",\"segment_factor\"],axis=1,inplace=True)"
      ],
      "metadata": {
        "id": "0csHjbAYUqY0"
      },
      "execution_count": 17,
      "outputs": []
    },
    {
      "cell_type": "markdown",
      "source": [
        "# **Segment** related attributes in group by should be summed up using cummulative sum as these are segments(sub-trip)"
      ],
      "metadata": {
        "id": "FXaWe0DBV-sf"
      }
    },
    {
      "cell_type": "code",
      "source": [
        "data['sub_trip_group']=data['trip_uuid']+data['source_center']+data['destination_center']\n",
        "data['segment_actual_time_total']=data.groupby(\"sub_trip_group\").agg({'segment_actual_time':np.cumsum})\n",
        "data['segment_osrm_time_total']=data.groupby(\"sub_trip_group\").agg({'segment_osrm_time':np.cumsum})\n",
        "data['segment_osrm_distance_total']=data.groupby(\"sub_trip_group\").agg({'segment_osrm_distance':np.cumsum})"
      ],
      "metadata": {
        "id": "a3i7nGEAYBHt"
      },
      "execution_count": 18,
      "outputs": []
    },
    {
      "cell_type": "markdown",
      "source": [
        "# Now group by and filter the whole dataset.Take the last value of new created columns as these are cummulative sum"
      ],
      "metadata": {
        "id": "XnW-RLioZxAM"
      }
    },
    {
      "cell_type": "code",
      "source": [
        "data_sub_trip=data.groupby('sub_trip_group').agg({'trip_creation_time':'first',\n",
        "                                         'route_schedule_uuid':'first',\n",
        "                                         'route_type':'first',\n",
        "                                         'trip_uuid':'first',\n",
        "                                         'source_center':'first',\n",
        "                                         'source_name':'first',\n",
        "                                         'destination_center':'last',\n",
        "                                         'destination_name':'last',\n",
        "                                         'od_start_time':'first'\t\n",
        "                                         ,'od_end_time':'first',\n",
        "                                         'start_scan_to_end_scan':'last',\n",
        "                                         'actual_distance_to_destination':'last',\n",
        "                                         'actual_time':'last',\n",
        "                                         'osrm_time':'first',\n",
        "                                         'osrm_distance':'first',\n",
        "                                         'segment_actual_time_total':'last',\n",
        "                                         'segment_osrm_time_total':'last',\n",
        "                                         'segment_osrm_distance_total':'last'\n",
        "    \n",
        "}).reset_index(drop=True)"
      ],
      "metadata": {
        "id": "mLraEUlA-aMK"
      },
      "execution_count": 19,
      "outputs": []
    },
    {
      "cell_type": "markdown",
      "source": [
        "# The time taken between od_start_time and od_end_time:\n",
        "A new feature\n"
      ],
      "metadata": {
        "id": "uEkxNn-ac3kt"
      }
    },
    {
      "cell_type": "code",
      "source": [
        "# time taken in minutes\n",
        "data_sub_trip['od_start_end_time_minute']=((data_sub_trip['od_end_time']-data_sub_trip['od_start_time']).dt.total_seconds())/60"
      ],
      "metadata": {
        "id": "B30MRY61-aIS"
      },
      "execution_count": 20,
      "outputs": []
    },
    {
      "cell_type": "code",
      "source": [
        "# there is no need of keeping attributes:\n",
        "# od_start_time\t\n",
        "# od_end_time\n",
        "data_sub_trip.drop(['od_start_time','od_end_time'],axis=1,inplace=True)"
      ],
      "metadata": {
        "id": "ITkRI_M3fTX7"
      },
      "execution_count": 21,
      "outputs": []
    },
    {
      "cell_type": "markdown",
      "source": [
        "# Now aggregate based on trip_uuid to get the information for each trip"
      ],
      "metadata": {
        "id": "54fecnfTegPj"
      }
    },
    {
      "cell_type": "code",
      "source": [
        "data_trip=data_sub_trip.groupby('trip_uuid').agg({'trip_creation_time':'first',\n",
        "                                         'route_schedule_uuid':'first',\n",
        "                                         'route_type':'first',\n",
        "                                         'source_center':'first',\n",
        "                                         'source_name':'first',\n",
        "                                         'destination_center':'last',\n",
        "                                         'destination_name':'last',\n",
        "                                         'start_scan_to_end_scan':np.sum,\n",
        "                                         'od_start_end_time_minute':np.sum,\n",
        "                                         'actual_distance_to_destination':np.sum,\n",
        "                                         'actual_time':np.sum,\n",
        "                                         'osrm_time':np.sum,\n",
        "                                         'osrm_distance':np.sum,\n",
        "                                         'segment_actual_time_total':np.sum,\n",
        "                                         'segment_osrm_time_total':np.sum,\n",
        "                                         'segment_osrm_distance_total':np.sum\n",
        "    \n",
        "}).reset_index(drop=True)"
      ],
      "metadata": {
        "id": "8qRFcF6i-aD1"
      },
      "execution_count": 22,
      "outputs": []
    },
    {
      "cell_type": "code",
      "source": [
        "data_trip.head()"
      ],
      "metadata": {
        "colab": {
          "base_uri": "https://localhost:8080/",
          "height": 444
        },
        "id": "9_9cRCqng2vr",
        "outputId": "26807a4f-e679-41af-c59a-83267c048358"
      },
      "execution_count": 23,
      "outputs": [
        {
          "output_type": "execute_result",
          "data": {
            "text/plain": [
              "          trip_creation_time  \\\n",
              "0 2018-09-12 00:25:19.499696   \n",
              "1 2018-09-12 00:32:55.970840   \n",
              "2 2018-09-12 00:46:48.079257   \n",
              "3 2018-09-12 01:24:59.938573   \n",
              "4 2018-09-12 01:33:48.711350   \n",
              "\n",
              "                                 route_schedule_uuid route_type source_center  \\\n",
              "0  thanos::sroute:0ac760f3-96cb-4046-bfd0-8bc4678...        FTL  IND487001AAB   \n",
              "1  thanos::sroute:db0f8027-8ade-4411-9aff-b26adaa...    Carting  IND785690AAB   \n",
              "2  thanos::sroute:8c5ab716-198a-4395-b83f-5672773...    Carting  IND121004AAB   \n",
              "3  thanos::sroute:82facc11-0f66-496b-9d39-fa3891f...        FTL  IND384205AAA   \n",
              "4  thanos::sroute:5f7d8d49-ae14-430e-9333-37361e1...    Carting  IND362001AAA   \n",
              "\n",
              "                               source_name destination_center  \\\n",
              "0  Narsinghpur_KndliDPP_D (Madhya Pradesh)       IND464668AAA   \n",
              "1             Sonari_Central_DPP_1 (Assam)       IND785682AAA   \n",
              "2             FBD_Balabhgarh_DPC (Haryana)       IND121004AAB   \n",
              "3             Mehsana_Panchot_IP (Gujarat)       IND384205AAA   \n",
              "4                   Junagadh_DPC (Gujarat)       IND362560AAA   \n",
              "\n",
              "                     destination_name  start_scan_to_end_scan  \\\n",
              "0  Bareli_SourvDPP_D (Madhya Pradesh)                   290.0   \n",
              "1        Sivasagar_Babupaty_D (Assam)                   252.0   \n",
              "2        FBD_Balabhgarh_DPC (Haryana)                   259.0   \n",
              "3        Mehsana_Panchot_IP (Gujarat)                   562.0   \n",
              "4           Una_Mamlatdr_DC (Gujarat)                   473.0   \n",
              "\n",
              "   od_start_end_time_minute  actual_distance_to_destination  actual_time  \\\n",
              "0                290.662270                       99.975595        253.0   \n",
              "1                252.076999                       39.495954        241.0   \n",
              "2                260.435888                       76.231506        145.0   \n",
              "3                563.816830                      176.405153        345.0   \n",
              "4                475.195147                      208.394342        398.0   \n",
              "\n",
              "   osrm_time  osrm_distance  segment_actual_time_total  \\\n",
              "0       61.0        61.9389                      252.0   \n",
              "1       16.0        12.1873                      240.0   \n",
              "2       14.0        19.3214                      142.0   \n",
              "3       88.0       101.5635                      344.0   \n",
              "4       74.0        88.6674                      391.0   \n",
              "\n",
              "   segment_osrm_time_total  segment_osrm_distance_total  \n",
              "0                    132.0                     140.5623  \n",
              "1                     49.0                      56.7577  \n",
              "2                     55.0                      80.1495  \n",
              "3                    194.0                     212.1026  \n",
              "4                    215.0                     257.6815  "
            ],
            "text/html": [
              "\n",
              "  <div id=\"df-63bceba9-182c-41a6-856e-fda176400639\">\n",
              "    <div class=\"colab-df-container\">\n",
              "      <div>\n",
              "<style scoped>\n",
              "    .dataframe tbody tr th:only-of-type {\n",
              "        vertical-align: middle;\n",
              "    }\n",
              "\n",
              "    .dataframe tbody tr th {\n",
              "        vertical-align: top;\n",
              "    }\n",
              "\n",
              "    .dataframe thead th {\n",
              "        text-align: right;\n",
              "    }\n",
              "</style>\n",
              "<table border=\"1\" class=\"dataframe\">\n",
              "  <thead>\n",
              "    <tr style=\"text-align: right;\">\n",
              "      <th></th>\n",
              "      <th>trip_creation_time</th>\n",
              "      <th>route_schedule_uuid</th>\n",
              "      <th>route_type</th>\n",
              "      <th>source_center</th>\n",
              "      <th>source_name</th>\n",
              "      <th>destination_center</th>\n",
              "      <th>destination_name</th>\n",
              "      <th>start_scan_to_end_scan</th>\n",
              "      <th>od_start_end_time_minute</th>\n",
              "      <th>actual_distance_to_destination</th>\n",
              "      <th>actual_time</th>\n",
              "      <th>osrm_time</th>\n",
              "      <th>osrm_distance</th>\n",
              "      <th>segment_actual_time_total</th>\n",
              "      <th>segment_osrm_time_total</th>\n",
              "      <th>segment_osrm_distance_total</th>\n",
              "    </tr>\n",
              "  </thead>\n",
              "  <tbody>\n",
              "    <tr>\n",
              "      <th>0</th>\n",
              "      <td>2018-09-12 00:25:19.499696</td>\n",
              "      <td>thanos::sroute:0ac760f3-96cb-4046-bfd0-8bc4678...</td>\n",
              "      <td>FTL</td>\n",
              "      <td>IND487001AAB</td>\n",
              "      <td>Narsinghpur_KndliDPP_D (Madhya Pradesh)</td>\n",
              "      <td>IND464668AAA</td>\n",
              "      <td>Bareli_SourvDPP_D (Madhya Pradesh)</td>\n",
              "      <td>290.0</td>\n",
              "      <td>290.662270</td>\n",
              "      <td>99.975595</td>\n",
              "      <td>253.0</td>\n",
              "      <td>61.0</td>\n",
              "      <td>61.9389</td>\n",
              "      <td>252.0</td>\n",
              "      <td>132.0</td>\n",
              "      <td>140.5623</td>\n",
              "    </tr>\n",
              "    <tr>\n",
              "      <th>1</th>\n",
              "      <td>2018-09-12 00:32:55.970840</td>\n",
              "      <td>thanos::sroute:db0f8027-8ade-4411-9aff-b26adaa...</td>\n",
              "      <td>Carting</td>\n",
              "      <td>IND785690AAB</td>\n",
              "      <td>Sonari_Central_DPP_1 (Assam)</td>\n",
              "      <td>IND785682AAA</td>\n",
              "      <td>Sivasagar_Babupaty_D (Assam)</td>\n",
              "      <td>252.0</td>\n",
              "      <td>252.076999</td>\n",
              "      <td>39.495954</td>\n",
              "      <td>241.0</td>\n",
              "      <td>16.0</td>\n",
              "      <td>12.1873</td>\n",
              "      <td>240.0</td>\n",
              "      <td>49.0</td>\n",
              "      <td>56.7577</td>\n",
              "    </tr>\n",
              "    <tr>\n",
              "      <th>2</th>\n",
              "      <td>2018-09-12 00:46:48.079257</td>\n",
              "      <td>thanos::sroute:8c5ab716-198a-4395-b83f-5672773...</td>\n",
              "      <td>Carting</td>\n",
              "      <td>IND121004AAB</td>\n",
              "      <td>FBD_Balabhgarh_DPC (Haryana)</td>\n",
              "      <td>IND121004AAB</td>\n",
              "      <td>FBD_Balabhgarh_DPC (Haryana)</td>\n",
              "      <td>259.0</td>\n",
              "      <td>260.435888</td>\n",
              "      <td>76.231506</td>\n",
              "      <td>145.0</td>\n",
              "      <td>14.0</td>\n",
              "      <td>19.3214</td>\n",
              "      <td>142.0</td>\n",
              "      <td>55.0</td>\n",
              "      <td>80.1495</td>\n",
              "    </tr>\n",
              "    <tr>\n",
              "      <th>3</th>\n",
              "      <td>2018-09-12 01:24:59.938573</td>\n",
              "      <td>thanos::sroute:82facc11-0f66-496b-9d39-fa3891f...</td>\n",
              "      <td>FTL</td>\n",
              "      <td>IND384205AAA</td>\n",
              "      <td>Mehsana_Panchot_IP (Gujarat)</td>\n",
              "      <td>IND384205AAA</td>\n",
              "      <td>Mehsana_Panchot_IP (Gujarat)</td>\n",
              "      <td>562.0</td>\n",
              "      <td>563.816830</td>\n",
              "      <td>176.405153</td>\n",
              "      <td>345.0</td>\n",
              "      <td>88.0</td>\n",
              "      <td>101.5635</td>\n",
              "      <td>344.0</td>\n",
              "      <td>194.0</td>\n",
              "      <td>212.1026</td>\n",
              "    </tr>\n",
              "    <tr>\n",
              "      <th>4</th>\n",
              "      <td>2018-09-12 01:33:48.711350</td>\n",
              "      <td>thanos::sroute:5f7d8d49-ae14-430e-9333-37361e1...</td>\n",
              "      <td>Carting</td>\n",
              "      <td>IND362001AAA</td>\n",
              "      <td>Junagadh_DPC (Gujarat)</td>\n",
              "      <td>IND362560AAA</td>\n",
              "      <td>Una_Mamlatdr_DC (Gujarat)</td>\n",
              "      <td>473.0</td>\n",
              "      <td>475.195147</td>\n",
              "      <td>208.394342</td>\n",
              "      <td>398.0</td>\n",
              "      <td>74.0</td>\n",
              "      <td>88.6674</td>\n",
              "      <td>391.0</td>\n",
              "      <td>215.0</td>\n",
              "      <td>257.6815</td>\n",
              "    </tr>\n",
              "  </tbody>\n",
              "</table>\n",
              "</div>\n",
              "      <button class=\"colab-df-convert\" onclick=\"convertToInteractive('df-63bceba9-182c-41a6-856e-fda176400639')\"\n",
              "              title=\"Convert this dataframe to an interactive table.\"\n",
              "              style=\"display:none;\">\n",
              "        \n",
              "  <svg xmlns=\"http://www.w3.org/2000/svg\" height=\"24px\"viewBox=\"0 0 24 24\"\n",
              "       width=\"24px\">\n",
              "    <path d=\"M0 0h24v24H0V0z\" fill=\"none\"/>\n",
              "    <path d=\"M18.56 5.44l.94 2.06.94-2.06 2.06-.94-2.06-.94-.94-2.06-.94 2.06-2.06.94zm-11 1L8.5 8.5l.94-2.06 2.06-.94-2.06-.94L8.5 2.5l-.94 2.06-2.06.94zm10 10l.94 2.06.94-2.06 2.06-.94-2.06-.94-.94-2.06-.94 2.06-2.06.94z\"/><path d=\"M17.41 7.96l-1.37-1.37c-.4-.4-.92-.59-1.43-.59-.52 0-1.04.2-1.43.59L10.3 9.45l-7.72 7.72c-.78.78-.78 2.05 0 2.83L4 21.41c.39.39.9.59 1.41.59.51 0 1.02-.2 1.41-.59l7.78-7.78 2.81-2.81c.8-.78.8-2.07 0-2.86zM5.41 20L4 18.59l7.72-7.72 1.47 1.35L5.41 20z\"/>\n",
              "  </svg>\n",
              "      </button>\n",
              "      \n",
              "  <style>\n",
              "    .colab-df-container {\n",
              "      display:flex;\n",
              "      flex-wrap:wrap;\n",
              "      gap: 12px;\n",
              "    }\n",
              "\n",
              "    .colab-df-convert {\n",
              "      background-color: #E8F0FE;\n",
              "      border: none;\n",
              "      border-radius: 50%;\n",
              "      cursor: pointer;\n",
              "      display: none;\n",
              "      fill: #1967D2;\n",
              "      height: 32px;\n",
              "      padding: 0 0 0 0;\n",
              "      width: 32px;\n",
              "    }\n",
              "\n",
              "    .colab-df-convert:hover {\n",
              "      background-color: #E2EBFA;\n",
              "      box-shadow: 0px 1px 2px rgba(60, 64, 67, 0.3), 0px 1px 3px 1px rgba(60, 64, 67, 0.15);\n",
              "      fill: #174EA6;\n",
              "    }\n",
              "\n",
              "    [theme=dark] .colab-df-convert {\n",
              "      background-color: #3B4455;\n",
              "      fill: #D2E3FC;\n",
              "    }\n",
              "\n",
              "    [theme=dark] .colab-df-convert:hover {\n",
              "      background-color: #434B5C;\n",
              "      box-shadow: 0px 1px 3px 1px rgba(0, 0, 0, 0.15);\n",
              "      filter: drop-shadow(0px 1px 2px rgba(0, 0, 0, 0.3));\n",
              "      fill: #FFFFFF;\n",
              "    }\n",
              "  </style>\n",
              "\n",
              "      <script>\n",
              "        const buttonEl =\n",
              "          document.querySelector('#df-63bceba9-182c-41a6-856e-fda176400639 button.colab-df-convert');\n",
              "        buttonEl.style.display =\n",
              "          google.colab.kernel.accessAllowed ? 'block' : 'none';\n",
              "\n",
              "        async function convertToInteractive(key) {\n",
              "          const element = document.querySelector('#df-63bceba9-182c-41a6-856e-fda176400639');\n",
              "          const dataTable =\n",
              "            await google.colab.kernel.invokeFunction('convertToInteractive',\n",
              "                                                     [key], {});\n",
              "          if (!dataTable) return;\n",
              "\n",
              "          const docLinkHtml = 'Like what you see? Visit the ' +\n",
              "            '<a target=\"_blank\" href=https://colab.research.google.com/notebooks/data_table.ipynb>data table notebook</a>'\n",
              "            + ' to learn more about interactive tables.';\n",
              "          element.innerHTML = '';\n",
              "          dataTable['output_type'] = 'display_data';\n",
              "          await google.colab.output.renderOutput(dataTable, element);\n",
              "          const docLink = document.createElement('div');\n",
              "          docLink.innerHTML = docLinkHtml;\n",
              "          element.appendChild(docLink);\n",
              "        }\n",
              "      </script>\n",
              "    </div>\n",
              "  </div>\n",
              "  "
            ]
          },
          "metadata": {},
          "execution_count": 23
        }
      ]
    },
    {
      "cell_type": "markdown",
      "source": [
        "# Feature creation based on the attributes **Destination Name,Source Name,Trip_creation_time**"
      ],
      "metadata": {
        "id": "6TX7KCymgYVn"
      }
    },
    {
      "cell_type": "code",
      "source": [
        "data_trip['destination_name'][data_trip['destination_name'].str.split(\"_\").str.len()==1] # checking how destination look likes"
      ],
      "metadata": {
        "colab": {
          "base_uri": "https://localhost:8080/"
        },
        "id": "QOKeYKY7n5yH",
        "outputId": "8e75d480-1a2b-4f3b-cbe7-c3a68af01ef2"
      },
      "execution_count": 24,
      "outputs": [
        {
          "output_type": "execute_result",
          "data": {
            "text/plain": [
              "7                       Erode (Tamil Nadu)\n",
              "10                Mumbai Hub (Maharashtra)\n",
              "14                        Palwal (Haryana)\n",
              "31        Bhopal MP Nagar (Madhya Pradesh)\n",
              "37                Mumbai Hub (Maharashtra)\n",
              "53                  Meerut (Uttar Pradesh)\n",
              "65                       Janakpuri (Delhi)\n",
              "98                Mumbai Hub (Maharashtra)\n",
              "120           PNQ Pashan DPC (Maharashtra)\n",
              "124                       Patiala (Punjab)\n",
              "162              HBR Layout PC (Karnataka)\n",
              "172               Mumbai Hub (Maharashtra)\n",
              "187                      Janakpuri (Delhi)\n",
              "188    PNQ Vadgaon Sheri DPC (Maharashtra)\n",
              "195                     Erode (Tamil Nadu)\n",
              "204               Mumbai Hub (Maharashtra)\n",
              "222               Mumbai Hub (Maharashtra)\n",
              "226               Mumbai Hub (Maharashtra)\n",
              "273               Mumbai Hub (Maharashtra)\n",
              "289               Mumbai Hub (Maharashtra)\n",
              "291       Bhopal MP Nagar (Madhya Pradesh)\n",
              "298                     Jaipur (Rajasthan)\n",
              "305               Bareilly (Uttar Pradesh)\n",
              "319           PNQ Pashan DPC (Maharashtra)\n",
              "340    PNQ Vadgaon Sheri DPC (Maharashtra)\n",
              "449               Mumbai Hub (Maharashtra)\n",
              "475              HBR Layout PC (Karnataka)\n",
              "510                       Palwal (Haryana)\n",
              "552    PNQ Vadgaon Sheri DPC (Maharashtra)\n",
              "563                       Palwal (Haryana)\n",
              "576                       Karnal (Haryana)\n",
              "Name: destination_name, dtype: object"
            ]
          },
          "metadata": {},
          "execution_count": 24
        }
      ]
    },
    {
      "cell_type": "code",
      "source": [
        "data_trip['destination_name'][data_trip['destination_name'].str.split(\"_\").str.len()==2] # checking how destination look likes"
      ],
      "metadata": {
        "colab": {
          "base_uri": "https://localhost:8080/"
        },
        "id": "3_GkSPKMq9lI",
        "outputId": "99033291-9690-41f7-ab93-08afc10d734b"
      },
      "execution_count": 25,
      "outputs": [
        {
          "output_type": "execute_result",
          "data": {
            "text/plain": [
              "23       Chennai_Hub (Tamil Nadu)\n",
              "45          Amritsar_DPC (Punjab)\n",
              "63       Chennai_Hub (Tamil Nadu)\n",
              "107        Jaipur_Hub (Rajasthan)\n",
              "135      Chennai_Hub (Tamil Nadu)\n",
              "139             GGN_DPC (Haryana)\n",
              "144           Surat_HUB (Gujarat)\n",
              "151            Raikot_DC (Punjab)\n",
              "156          Guwahati_Hub (Assam)\n",
              "205           Surat_HUB (Gujarat)\n",
              "211           Tonk_DC (Rajasthan)\n",
              "221             GGN_DPC (Haryana)\n",
              "224         Amritsar_DPC (Punjab)\n",
              "236        Amdavad_East (Gujarat)\n",
              "268      Hooghly_DC (West Bengal)\n",
              "272       Ambabadi_DC (Rajasthan)\n",
              "292             Bhuj_DC (Gujarat)\n",
              "296             GGN_DPC (Haryana)\n",
              "301         Bhatinda_DPC (Punjab)\n",
              "311      Bharatpur_DC (Rajasthan)\n",
              "313          Guwahati_Hub (Assam)\n",
              "323            Anjar_DC (Gujarat)\n",
              "358           Surat_HUB (Gujarat)\n",
              "367     Bhubaneshwar_Hub (Orissa)\n",
              "371                 Goa_Hub (Goa)\n",
              "373      Chennai_Hub (Tamil Nadu)\n",
              "401        AMD_Memnagar (Gujarat)\n",
              "425      Guwahati_Sixmile (Assam)\n",
              "427      Chennai_Hub (Tamil Nadu)\n",
              "455            Dahod_DC (Gujarat)\n",
              "470                OK_RPC (Delhi)\n",
              "474             Moga_DPC (Punjab)\n",
              "485            Raikot_DC (Punjab)\n",
              "493             GGN_DPC (Haryana)\n",
              "527    Rishikesh_DC (Uttarakhand)\n",
              "535      Hooghly_DC (West Bengal)\n",
              "542          Guwahati_Hub (Assam)\n",
              "543                OK_RPC (Delhi)\n",
              "Name: destination_name, dtype: object"
            ]
          },
          "metadata": {},
          "execution_count": 25
        }
      ]
    },
    {
      "cell_type": "code",
      "source": [
        "data_trip['destination_name'][data_trip['destination_name'].str.split(\"_\").str.len()==3] # checking how destination look likes"
      ],
      "metadata": {
        "colab": {
          "base_uri": "https://localhost:8080/"
        },
        "id": "EMG2a9b9wSiM",
        "outputId": "f30678bd-4561-49f3-9998-65d2931e2eb8"
      },
      "execution_count": 26,
      "outputs": [
        {
          "output_type": "execute_result",
          "data": {
            "text/plain": [
              "0       Bareli_SourvDPP_D (Madhya Pradesh)\n",
              "1             Sivasagar_Babupaty_D (Assam)\n",
              "2             FBD_Balabhgarh_DPC (Haryana)\n",
              "3             Mehsana_Panchot_IP (Gujarat)\n",
              "4                Una_Mamlatdr_DC (Gujarat)\n",
              "                      ...                 \n",
              "577         Nedumangad_Arsprmbu_D (Kerala)\n",
              "578            Muzaffrpur_Bbganj_I (Bihar)\n",
              "580         Radhanpur_Santalpr_D (Gujarat)\n",
              "581    Chalisgaon_BhadgDPP_D (Maharashtra)\n",
              "583       Chennai_Thiruvlr_DC (Tamil Nadu)\n",
              "Name: destination_name, Length: 457, dtype: object"
            ]
          },
          "metadata": {},
          "execution_count": 26
        }
      ]
    },
    {
      "cell_type": "code",
      "source": [
        "data_trip['source_name'][data_trip['source_name'].str.split(\"_\").str.len()==1] # checking how destination look likes"
      ],
      "metadata": {
        "colab": {
          "base_uri": "https://localhost:8080/"
        },
        "id": "6M6Fsf-Qxy8g",
        "outputId": "e81c9dc5-9833-4b61-e550-3dbcf7e66407"
      },
      "execution_count": 27,
      "outputs": [
        {
          "output_type": "execute_result",
          "data": {
            "text/plain": [
              "16                Mumbai Hub (Maharashtra)\n",
              "31        Bhopal MP Nagar (Madhya Pradesh)\n",
              "34     PNQ Vadgaon Sheri DPC (Maharashtra)\n",
              "105              HBR Layout PC (Karnataka)\n",
              "115               Mumbai Hub (Maharashtra)\n",
              "124                       Patiala (Punjab)\n",
              "149                     Jaipur (Rajasthan)\n",
              "176            Vijayawada (Andhra Pradesh)\n",
              "189                    Faridabad (Haryana)\n",
              "197               Mumbai Hub (Maharashtra)\n",
              "330              HBR Layout PC (Karnataka)\n",
              "349               Mumbai Hub (Maharashtra)\n",
              "350                    Faridabad (Haryana)\n",
              "352                     Salem (Tamil Nadu)\n",
              "380               Mumbai Hub (Maharashtra)\n",
              "390               Mumbai Hub (Maharashtra)\n",
              "412                       Patiala (Punjab)\n",
              "512                     Vadodara (Gujarat)\n",
              "554               Mumbai Hub (Maharashtra)\n",
              "Name: source_name, dtype: object"
            ]
          },
          "metadata": {},
          "execution_count": 27
        }
      ]
    },
    {
      "cell_type": "code",
      "source": [
        "data_trip['source_name'][data_trip['source_name'].str.split(\"_\").str.len()==2] # checking how destination look likes"
      ],
      "metadata": {
        "colab": {
          "base_uri": "https://localhost:8080/"
        },
        "id": "qMSubnr9x6Nf",
        "outputId": "8a2bdc64-c3ca-4874-95fc-5b8359871a31"
      },
      "execution_count": 28,
      "outputs": [
        {
          "output_type": "execute_result",
          "data": {
            "text/plain": [
              "4                Junagadh_DPC (Gujarat)\n",
              "36             Chennai_Hub (Tamil Nadu)\n",
              "63             Chennai_Hub (Tamil Nadu)\n",
              "70          LowerParel_CP (Maharashtra)\n",
              "88     Chennai_Poonamallee (Tamil Nadu)\n",
              "154            Chennai_Hub (Tamil Nadu)\n",
              "156              Guwahati_North (Assam)\n",
              "166         Chittaurgarh_DC (Rajasthan)\n",
              "172         LowerParel_CP (Maharashtra)\n",
              "174        Kakinada_DC (Andhra Pradesh)\n",
              "202               Pune_PC (Maharashtra)\n",
              "206        Kakinada_DC (Andhra Pradesh)\n",
              "223               Pune_PC (Maharashtra)\n",
              "225              Ranchi_Hub (Jharkhand)\n",
              "233        Kakinada_DC (Andhra Pradesh)\n",
              "236               AMD_Rakhial (Gujarat)\n",
              "259                       Goa_Hub (Goa)\n",
              "287     Bhubaneshwar_Nayapalli (Orissa)\n",
              "292                  Anjar_DC (Gujarat)\n",
              "304         LowerParel_CP (Maharashtra)\n",
              "323                   Bhuj_DC (Gujarat)\n",
              "329                   GGN_DPC (Haryana)\n",
              "341              Jaipur_Hub (Rajasthan)\n",
              "362         LowerParel_CP (Maharashtra)\n",
              "372              Jaipur_Hub (Rajasthan)\n",
              "374              Ranchi_Hub (Jharkhand)\n",
              "400            Gandhinagar_DC (Gujarat)\n",
              "401              AMD_Memnagar (Gujarat)\n",
              "408            Chennai_Hub (Tamil Nadu)\n",
              "425                Guwahati_Hub (Assam)\n",
              "444            Chennai_Hub (Tamil Nadu)\n",
              "452              Jaipur_Hub (Rajasthan)\n",
              "472              Jaipur_Hub (Rajasthan)\n",
              "474                   Moga_DPC (Punjab)\n",
              "476       Jalandhar_Sodal Road (Punjab)\n",
              "526              Jaipur_Hub (Rajasthan)\n",
              "535            Hooghly_DC (West Bengal)\n",
              "542                Guwahati_Hub (Assam)\n",
              "545           Bhubaneshwar_Hub (Orissa)\n",
              "547               CCU_Hub (West Bengal)\n",
              "548              Jaipur_Hub (Rajasthan)\n",
              "551                   GGN_DPC (Haryana)\n",
              "571          Ganga Nagar_DC (Rajasthan)\n",
              "573         LowerParel_CP (Maharashtra)\n",
              "576                Panipat_PC (Haryana)\n",
              "580                  Unjha_DC (Gujarat)\n",
              "Name: source_name, dtype: object"
            ]
          },
          "metadata": {},
          "execution_count": 28
        }
      ]
    },
    {
      "cell_type": "code",
      "source": [
        "data_trip['source_name'][data_trip['source_name'].str.split(\"_\").str.len()==3] # checking how destination look likes"
      ],
      "metadata": {
        "colab": {
          "base_uri": "https://localhost:8080/"
        },
        "id": "OGmF4EjUx-GO",
        "outputId": "3ee5be17-4d82-4cd6-d697-96dc74f27370"
      },
      "execution_count": 29,
      "outputs": [
        {
          "output_type": "execute_result",
          "data": {
            "text/plain": [
              "0      Narsinghpur_KndliDPP_D (Madhya Pradesh)\n",
              "2                 FBD_Balabhgarh_DPC (Haryana)\n",
              "3                 Mehsana_Panchot_IP (Gujarat)\n",
              "5                      Delhi_Airport_H (Delhi)\n",
              "6             Dinhata_WrdN4DPP_D (West Bengal)\n",
              "                        ...                   \n",
              "578                Muzaffrpur_Bbganj_I (Bihar)\n",
              "579                Ahmedabad_Paldi_D (Gujarat)\n",
              "581             Dhule_MIDCAvdn_I (Maharashtra)\n",
              "582           Hapur_Swargash_D (Uttar Pradesh)\n",
              "583             Chennai_Porur_DPC (Tamil Nadu)\n",
              "Name: source_name, Length: 470, dtype: object"
            ]
          },
          "metadata": {},
          "execution_count": 29
        }
      ]
    },
    {
      "cell_type": "code",
      "source": [
        "# utility functions to extract state,city,place,and code\n",
        "def extract_state(x):\n",
        "  # x is a string\n",
        "  # eg: x is like \"Kanpur_Central_H_6 (Uttar Pradesh)\"\n",
        "  idx=x.index(\"(\") # index of \"(\" \n",
        "  state=x[idx+1:-1] # removing )\n",
        "  return state\n",
        "\n",
        "def extract_city(x):\n",
        "  # x is a string like \"Kanpur_Central_H_6 (Uttar Pradesh)\" \n",
        "  # it can also be like PNQ Rahatani DPC (Maharashtra)\n",
        "    x=x[:x.index(\"(\")].strip() # removing state and extra space\n",
        "    x=x.split(\"_\") # split based on \"_\"\n",
        "    if len(x)==1:\n",
        "      if x[0].lower()=='pnq vadgaon sheri dpc':\n",
        "        return 'Vadgaonsheri'\n",
        "      if x[0].lower() in ['pnq pashan dpc','pnq rahatani dpc', 'pune balaji nagar']:\n",
        "        return \"Pune\"\n",
        "      if x[0].lower()=='hbr layout pc':\n",
        "        return \"Bengaluru\"\n",
        "      if x[0].lower()==\"bhopal mp nagar\":\n",
        "        return \"Bhopal\"\n",
        "      if x[0].lower()==\"mumbai antop hill\":\n",
        "        return \"Mumbai\"\n",
        "      return x[0]\n",
        "    return x[0]\n",
        "    \n",
        "\n",
        "def extract_place(x):\n",
        "  x=x[:x.index(\"(\")].strip() # remove state and extra space\n",
        "  x=x.split(\"_\")\n",
        "  # no city name\n",
        "  if len(x)==1:\n",
        "    return x[0]\n",
        "  \n",
        "  if len(x)>=3:\n",
        "    return x[1]\n",
        "  # city name and place name same\n",
        "  if len(x)==2:\n",
        "    return x[0]\n",
        "  \n",
        "def extract_code(x):\n",
        "  x=x[:x.index(\"(\")].strip() # remove state and extra space\n",
        "  x=x.split(\"_\")\n",
        "\n",
        "  if len(x)>=2:\n",
        "    return x[-1]\n",
        "  return \"none\" # no code"
      ],
      "metadata": {
        "id": "Dwqq0FvKk5nT"
      },
      "execution_count": 30,
      "outputs": []
    },
    {
      "cell_type": "markdown",
      "source": [
        "# Destination Name:"
      ],
      "metadata": {
        "id": "fJKU6xoqh2ek"
      }
    },
    {
      "cell_type": "code",
      "source": [
        "data_trip['destination_state']=data_trip['destination_name'].apply(extract_state)\n",
        "data_trip['destination_city']=data_trip['destination_name'].apply(extract_city)\n",
        "data_trip['destination_place']=data_trip['destination_name'].apply(extract_place)\n",
        "data_trip['destination_code']=data_trip['destination_name'].apply(extract_code)\n"
      ],
      "metadata": {
        "id": "sGmiDt7tk0R3"
      },
      "execution_count": 31,
      "outputs": []
    },
    {
      "cell_type": "code",
      "source": [
        "data_trip[['destination_name','destination_state','destination_city','destination_place','destination_code']].head()"
      ],
      "metadata": {
        "colab": {
          "base_uri": "https://localhost:8080/",
          "height": 206
        },
        "id": "CN-oFSorh5Sb",
        "outputId": "5087c59a-703b-47a7-806f-60dc38d69a38"
      },
      "execution_count": 32,
      "outputs": [
        {
          "output_type": "execute_result",
          "data": {
            "text/plain": [
              "                     destination_name destination_state destination_city  \\\n",
              "0  Bareli_SourvDPP_D (Madhya Pradesh)    Madhya Pradesh           Bareli   \n",
              "1        Sivasagar_Babupaty_D (Assam)             Assam        Sivasagar   \n",
              "2        FBD_Balabhgarh_DPC (Haryana)           Haryana              FBD   \n",
              "3        Mehsana_Panchot_IP (Gujarat)           Gujarat          Mehsana   \n",
              "4           Una_Mamlatdr_DC (Gujarat)           Gujarat              Una   \n",
              "\n",
              "  destination_place destination_code  \n",
              "0          SourvDPP                D  \n",
              "1          Babupaty                D  \n",
              "2        Balabhgarh              DPC  \n",
              "3           Panchot               IP  \n",
              "4          Mamlatdr               DC  "
            ],
            "text/html": [
              "\n",
              "  <div id=\"df-bbb47429-22e1-4aba-a600-1f44a4149fb2\">\n",
              "    <div class=\"colab-df-container\">\n",
              "      <div>\n",
              "<style scoped>\n",
              "    .dataframe tbody tr th:only-of-type {\n",
              "        vertical-align: middle;\n",
              "    }\n",
              "\n",
              "    .dataframe tbody tr th {\n",
              "        vertical-align: top;\n",
              "    }\n",
              "\n",
              "    .dataframe thead th {\n",
              "        text-align: right;\n",
              "    }\n",
              "</style>\n",
              "<table border=\"1\" class=\"dataframe\">\n",
              "  <thead>\n",
              "    <tr style=\"text-align: right;\">\n",
              "      <th></th>\n",
              "      <th>destination_name</th>\n",
              "      <th>destination_state</th>\n",
              "      <th>destination_city</th>\n",
              "      <th>destination_place</th>\n",
              "      <th>destination_code</th>\n",
              "    </tr>\n",
              "  </thead>\n",
              "  <tbody>\n",
              "    <tr>\n",
              "      <th>0</th>\n",
              "      <td>Bareli_SourvDPP_D (Madhya Pradesh)</td>\n",
              "      <td>Madhya Pradesh</td>\n",
              "      <td>Bareli</td>\n",
              "      <td>SourvDPP</td>\n",
              "      <td>D</td>\n",
              "    </tr>\n",
              "    <tr>\n",
              "      <th>1</th>\n",
              "      <td>Sivasagar_Babupaty_D (Assam)</td>\n",
              "      <td>Assam</td>\n",
              "      <td>Sivasagar</td>\n",
              "      <td>Babupaty</td>\n",
              "      <td>D</td>\n",
              "    </tr>\n",
              "    <tr>\n",
              "      <th>2</th>\n",
              "      <td>FBD_Balabhgarh_DPC (Haryana)</td>\n",
              "      <td>Haryana</td>\n",
              "      <td>FBD</td>\n",
              "      <td>Balabhgarh</td>\n",
              "      <td>DPC</td>\n",
              "    </tr>\n",
              "    <tr>\n",
              "      <th>3</th>\n",
              "      <td>Mehsana_Panchot_IP (Gujarat)</td>\n",
              "      <td>Gujarat</td>\n",
              "      <td>Mehsana</td>\n",
              "      <td>Panchot</td>\n",
              "      <td>IP</td>\n",
              "    </tr>\n",
              "    <tr>\n",
              "      <th>4</th>\n",
              "      <td>Una_Mamlatdr_DC (Gujarat)</td>\n",
              "      <td>Gujarat</td>\n",
              "      <td>Una</td>\n",
              "      <td>Mamlatdr</td>\n",
              "      <td>DC</td>\n",
              "    </tr>\n",
              "  </tbody>\n",
              "</table>\n",
              "</div>\n",
              "      <button class=\"colab-df-convert\" onclick=\"convertToInteractive('df-bbb47429-22e1-4aba-a600-1f44a4149fb2')\"\n",
              "              title=\"Convert this dataframe to an interactive table.\"\n",
              "              style=\"display:none;\">\n",
              "        \n",
              "  <svg xmlns=\"http://www.w3.org/2000/svg\" height=\"24px\"viewBox=\"0 0 24 24\"\n",
              "       width=\"24px\">\n",
              "    <path d=\"M0 0h24v24H0V0z\" fill=\"none\"/>\n",
              "    <path d=\"M18.56 5.44l.94 2.06.94-2.06 2.06-.94-2.06-.94-.94-2.06-.94 2.06-2.06.94zm-11 1L8.5 8.5l.94-2.06 2.06-.94-2.06-.94L8.5 2.5l-.94 2.06-2.06.94zm10 10l.94 2.06.94-2.06 2.06-.94-2.06-.94-.94-2.06-.94 2.06-2.06.94z\"/><path d=\"M17.41 7.96l-1.37-1.37c-.4-.4-.92-.59-1.43-.59-.52 0-1.04.2-1.43.59L10.3 9.45l-7.72 7.72c-.78.78-.78 2.05 0 2.83L4 21.41c.39.39.9.59 1.41.59.51 0 1.02-.2 1.41-.59l7.78-7.78 2.81-2.81c.8-.78.8-2.07 0-2.86zM5.41 20L4 18.59l7.72-7.72 1.47 1.35L5.41 20z\"/>\n",
              "  </svg>\n",
              "      </button>\n",
              "      \n",
              "  <style>\n",
              "    .colab-df-container {\n",
              "      display:flex;\n",
              "      flex-wrap:wrap;\n",
              "      gap: 12px;\n",
              "    }\n",
              "\n",
              "    .colab-df-convert {\n",
              "      background-color: #E8F0FE;\n",
              "      border: none;\n",
              "      border-radius: 50%;\n",
              "      cursor: pointer;\n",
              "      display: none;\n",
              "      fill: #1967D2;\n",
              "      height: 32px;\n",
              "      padding: 0 0 0 0;\n",
              "      width: 32px;\n",
              "    }\n",
              "\n",
              "    .colab-df-convert:hover {\n",
              "      background-color: #E2EBFA;\n",
              "      box-shadow: 0px 1px 2px rgba(60, 64, 67, 0.3), 0px 1px 3px 1px rgba(60, 64, 67, 0.15);\n",
              "      fill: #174EA6;\n",
              "    }\n",
              "\n",
              "    [theme=dark] .colab-df-convert {\n",
              "      background-color: #3B4455;\n",
              "      fill: #D2E3FC;\n",
              "    }\n",
              "\n",
              "    [theme=dark] .colab-df-convert:hover {\n",
              "      background-color: #434B5C;\n",
              "      box-shadow: 0px 1px 3px 1px rgba(0, 0, 0, 0.15);\n",
              "      filter: drop-shadow(0px 1px 2px rgba(0, 0, 0, 0.3));\n",
              "      fill: #FFFFFF;\n",
              "    }\n",
              "  </style>\n",
              "\n",
              "      <script>\n",
              "        const buttonEl =\n",
              "          document.querySelector('#df-bbb47429-22e1-4aba-a600-1f44a4149fb2 button.colab-df-convert');\n",
              "        buttonEl.style.display =\n",
              "          google.colab.kernel.accessAllowed ? 'block' : 'none';\n",
              "\n",
              "        async function convertToInteractive(key) {\n",
              "          const element = document.querySelector('#df-bbb47429-22e1-4aba-a600-1f44a4149fb2');\n",
              "          const dataTable =\n",
              "            await google.colab.kernel.invokeFunction('convertToInteractive',\n",
              "                                                     [key], {});\n",
              "          if (!dataTable) return;\n",
              "\n",
              "          const docLinkHtml = 'Like what you see? Visit the ' +\n",
              "            '<a target=\"_blank\" href=https://colab.research.google.com/notebooks/data_table.ipynb>data table notebook</a>'\n",
              "            + ' to learn more about interactive tables.';\n",
              "          element.innerHTML = '';\n",
              "          dataTable['output_type'] = 'display_data';\n",
              "          await google.colab.output.renderOutput(dataTable, element);\n",
              "          const docLink = document.createElement('div');\n",
              "          docLink.innerHTML = docLinkHtml;\n",
              "          element.appendChild(docLink);\n",
              "        }\n",
              "      </script>\n",
              "    </div>\n",
              "  </div>\n",
              "  "
            ]
          },
          "metadata": {},
          "execution_count": 32
        }
      ]
    },
    {
      "cell_type": "markdown",
      "source": [
        "# Source Name"
      ],
      "metadata": {
        "id": "XLgPgVmGy53v"
      }
    },
    {
      "cell_type": "code",
      "source": [
        "data_trip['source_state']=data_trip['source_name'].apply(extract_state)\n",
        "data_trip['source_city']=data_trip['source_name'].apply(extract_city)\n",
        "data_trip['source_place']=data_trip['source_name'].apply(extract_place)\n",
        "data_trip['source_code']=data_trip['source_name'].apply(extract_code)\n"
      ],
      "metadata": {
        "id": "ExWh4ybry3Yl"
      },
      "execution_count": 33,
      "outputs": []
    },
    {
      "cell_type": "code",
      "source": [
        "data_trip[['source_name','source_state','source_city','source_place','source_code']].head()"
      ],
      "metadata": {
        "colab": {
          "base_uri": "https://localhost:8080/",
          "height": 206
        },
        "id": "r7B8TiTg-aAS",
        "outputId": "977bf89d-9b1b-4106-fe84-c486169b1eb5"
      },
      "execution_count": 34,
      "outputs": [
        {
          "output_type": "execute_result",
          "data": {
            "text/plain": [
              "                               source_name    source_state  source_city  \\\n",
              "0  Narsinghpur_KndliDPP_D (Madhya Pradesh)  Madhya Pradesh  Narsinghpur   \n",
              "1             Sonari_Central_DPP_1 (Assam)           Assam       Sonari   \n",
              "2             FBD_Balabhgarh_DPC (Haryana)         Haryana          FBD   \n",
              "3             Mehsana_Panchot_IP (Gujarat)         Gujarat      Mehsana   \n",
              "4                   Junagadh_DPC (Gujarat)         Gujarat     Junagadh   \n",
              "\n",
              "  source_place source_code  \n",
              "0     KndliDPP           D  \n",
              "1      Central           1  \n",
              "2   Balabhgarh         DPC  \n",
              "3      Panchot          IP  \n",
              "4     Junagadh         DPC  "
            ],
            "text/html": [
              "\n",
              "  <div id=\"df-1571995d-a41d-462b-9f49-b80e00064a0b\">\n",
              "    <div class=\"colab-df-container\">\n",
              "      <div>\n",
              "<style scoped>\n",
              "    .dataframe tbody tr th:only-of-type {\n",
              "        vertical-align: middle;\n",
              "    }\n",
              "\n",
              "    .dataframe tbody tr th {\n",
              "        vertical-align: top;\n",
              "    }\n",
              "\n",
              "    .dataframe thead th {\n",
              "        text-align: right;\n",
              "    }\n",
              "</style>\n",
              "<table border=\"1\" class=\"dataframe\">\n",
              "  <thead>\n",
              "    <tr style=\"text-align: right;\">\n",
              "      <th></th>\n",
              "      <th>source_name</th>\n",
              "      <th>source_state</th>\n",
              "      <th>source_city</th>\n",
              "      <th>source_place</th>\n",
              "      <th>source_code</th>\n",
              "    </tr>\n",
              "  </thead>\n",
              "  <tbody>\n",
              "    <tr>\n",
              "      <th>0</th>\n",
              "      <td>Narsinghpur_KndliDPP_D (Madhya Pradesh)</td>\n",
              "      <td>Madhya Pradesh</td>\n",
              "      <td>Narsinghpur</td>\n",
              "      <td>KndliDPP</td>\n",
              "      <td>D</td>\n",
              "    </tr>\n",
              "    <tr>\n",
              "      <th>1</th>\n",
              "      <td>Sonari_Central_DPP_1 (Assam)</td>\n",
              "      <td>Assam</td>\n",
              "      <td>Sonari</td>\n",
              "      <td>Central</td>\n",
              "      <td>1</td>\n",
              "    </tr>\n",
              "    <tr>\n",
              "      <th>2</th>\n",
              "      <td>FBD_Balabhgarh_DPC (Haryana)</td>\n",
              "      <td>Haryana</td>\n",
              "      <td>FBD</td>\n",
              "      <td>Balabhgarh</td>\n",
              "      <td>DPC</td>\n",
              "    </tr>\n",
              "    <tr>\n",
              "      <th>3</th>\n",
              "      <td>Mehsana_Panchot_IP (Gujarat)</td>\n",
              "      <td>Gujarat</td>\n",
              "      <td>Mehsana</td>\n",
              "      <td>Panchot</td>\n",
              "      <td>IP</td>\n",
              "    </tr>\n",
              "    <tr>\n",
              "      <th>4</th>\n",
              "      <td>Junagadh_DPC (Gujarat)</td>\n",
              "      <td>Gujarat</td>\n",
              "      <td>Junagadh</td>\n",
              "      <td>Junagadh</td>\n",
              "      <td>DPC</td>\n",
              "    </tr>\n",
              "  </tbody>\n",
              "</table>\n",
              "</div>\n",
              "      <button class=\"colab-df-convert\" onclick=\"convertToInteractive('df-1571995d-a41d-462b-9f49-b80e00064a0b')\"\n",
              "              title=\"Convert this dataframe to an interactive table.\"\n",
              "              style=\"display:none;\">\n",
              "        \n",
              "  <svg xmlns=\"http://www.w3.org/2000/svg\" height=\"24px\"viewBox=\"0 0 24 24\"\n",
              "       width=\"24px\">\n",
              "    <path d=\"M0 0h24v24H0V0z\" fill=\"none\"/>\n",
              "    <path d=\"M18.56 5.44l.94 2.06.94-2.06 2.06-.94-2.06-.94-.94-2.06-.94 2.06-2.06.94zm-11 1L8.5 8.5l.94-2.06 2.06-.94-2.06-.94L8.5 2.5l-.94 2.06-2.06.94zm10 10l.94 2.06.94-2.06 2.06-.94-2.06-.94-.94-2.06-.94 2.06-2.06.94z\"/><path d=\"M17.41 7.96l-1.37-1.37c-.4-.4-.92-.59-1.43-.59-.52 0-1.04.2-1.43.59L10.3 9.45l-7.72 7.72c-.78.78-.78 2.05 0 2.83L4 21.41c.39.39.9.59 1.41.59.51 0 1.02-.2 1.41-.59l7.78-7.78 2.81-2.81c.8-.78.8-2.07 0-2.86zM5.41 20L4 18.59l7.72-7.72 1.47 1.35L5.41 20z\"/>\n",
              "  </svg>\n",
              "      </button>\n",
              "      \n",
              "  <style>\n",
              "    .colab-df-container {\n",
              "      display:flex;\n",
              "      flex-wrap:wrap;\n",
              "      gap: 12px;\n",
              "    }\n",
              "\n",
              "    .colab-df-convert {\n",
              "      background-color: #E8F0FE;\n",
              "      border: none;\n",
              "      border-radius: 50%;\n",
              "      cursor: pointer;\n",
              "      display: none;\n",
              "      fill: #1967D2;\n",
              "      height: 32px;\n",
              "      padding: 0 0 0 0;\n",
              "      width: 32px;\n",
              "    }\n",
              "\n",
              "    .colab-df-convert:hover {\n",
              "      background-color: #E2EBFA;\n",
              "      box-shadow: 0px 1px 2px rgba(60, 64, 67, 0.3), 0px 1px 3px 1px rgba(60, 64, 67, 0.15);\n",
              "      fill: #174EA6;\n",
              "    }\n",
              "\n",
              "    [theme=dark] .colab-df-convert {\n",
              "      background-color: #3B4455;\n",
              "      fill: #D2E3FC;\n",
              "    }\n",
              "\n",
              "    [theme=dark] .colab-df-convert:hover {\n",
              "      background-color: #434B5C;\n",
              "      box-shadow: 0px 1px 3px 1px rgba(0, 0, 0, 0.15);\n",
              "      filter: drop-shadow(0px 1px 2px rgba(0, 0, 0, 0.3));\n",
              "      fill: #FFFFFF;\n",
              "    }\n",
              "  </style>\n",
              "\n",
              "      <script>\n",
              "        const buttonEl =\n",
              "          document.querySelector('#df-1571995d-a41d-462b-9f49-b80e00064a0b button.colab-df-convert');\n",
              "        buttonEl.style.display =\n",
              "          google.colab.kernel.accessAllowed ? 'block' : 'none';\n",
              "\n",
              "        async function convertToInteractive(key) {\n",
              "          const element = document.querySelector('#df-1571995d-a41d-462b-9f49-b80e00064a0b');\n",
              "          const dataTable =\n",
              "            await google.colab.kernel.invokeFunction('convertToInteractive',\n",
              "                                                     [key], {});\n",
              "          if (!dataTable) return;\n",
              "\n",
              "          const docLinkHtml = 'Like what you see? Visit the ' +\n",
              "            '<a target=\"_blank\" href=https://colab.research.google.com/notebooks/data_table.ipynb>data table notebook</a>'\n",
              "            + ' to learn more about interactive tables.';\n",
              "          element.innerHTML = '';\n",
              "          dataTable['output_type'] = 'display_data';\n",
              "          await google.colab.output.renderOutput(dataTable, element);\n",
              "          const docLink = document.createElement('div');\n",
              "          docLink.innerHTML = docLinkHtml;\n",
              "          element.appendChild(docLink);\n",
              "        }\n",
              "      </script>\n",
              "    </div>\n",
              "  </div>\n",
              "  "
            ]
          },
          "metadata": {},
          "execution_count": 34
        }
      ]
    },
    {
      "cell_type": "markdown",
      "source": [
        "# Trip_creation_time: Extract features like month, year and day etc"
      ],
      "metadata": {
        "id": "XHIKytflzchl"
      }
    },
    {
      "cell_type": "code",
      "source": [
        "data_trip['trip_creation_year']=data_trip['trip_creation_time'].dt.year\n",
        "data_trip['trip_creation_month']=data_trip['trip_creation_time'].dt.month\n",
        "data_trip['trip_creation_day']=data_trip['trip_creation_time'].dt.day\n",
        "data_trip['trip_creation_week']=data_trip['trip_creation_time'].dt.isocalendar().week\n",
        "data_trip['trip_creation_dayofweek']=data_trip['trip_creation_time'].dt.dayofweek"
      ],
      "metadata": {
        "id": "V39kfOc--Z9t"
      },
      "execution_count": 35,
      "outputs": []
    },
    {
      "cell_type": "code",
      "source": [
        "# drop columns trip_creation_time,destination_name,source_name\n",
        "data_trip.drop(['trip_creation_time','source_name','destination_name'],axis=1,inplace=True)"
      ],
      "metadata": {
        "id": "_jN126qG-Z69"
      },
      "execution_count": 36,
      "outputs": []
    },
    {
      "cell_type": "code",
      "source": [
        "data_trip.head()"
      ],
      "metadata": {
        "colab": {
          "base_uri": "https://localhost:8080/",
          "height": 444
        },
        "id": "05aVW5If0lkY",
        "outputId": "9c1a1276-165a-47b7-ba32-9eb146bf751e"
      },
      "execution_count": 37,
      "outputs": [
        {
          "output_type": "execute_result",
          "data": {
            "text/plain": [
              "                                 route_schedule_uuid route_type source_center  \\\n",
              "0  thanos::sroute:0ac760f3-96cb-4046-bfd0-8bc4678...        FTL  IND487001AAB   \n",
              "1  thanos::sroute:db0f8027-8ade-4411-9aff-b26adaa...    Carting  IND785690AAB   \n",
              "2  thanos::sroute:8c5ab716-198a-4395-b83f-5672773...    Carting  IND121004AAB   \n",
              "3  thanos::sroute:82facc11-0f66-496b-9d39-fa3891f...        FTL  IND384205AAA   \n",
              "4  thanos::sroute:5f7d8d49-ae14-430e-9333-37361e1...    Carting  IND362001AAA   \n",
              "\n",
              "  destination_center  start_scan_to_end_scan  od_start_end_time_minute  \\\n",
              "0       IND464668AAA                   290.0                290.662270   \n",
              "1       IND785682AAA                   252.0                252.076999   \n",
              "2       IND121004AAB                   259.0                260.435888   \n",
              "3       IND384205AAA                   562.0                563.816830   \n",
              "4       IND362560AAA                   473.0                475.195147   \n",
              "\n",
              "   actual_distance_to_destination  actual_time  osrm_time  osrm_distance  \\\n",
              "0                       99.975595        253.0       61.0        61.9389   \n",
              "1                       39.495954        241.0       16.0        12.1873   \n",
              "2                       76.231506        145.0       14.0        19.3214   \n",
              "3                      176.405153        345.0       88.0       101.5635   \n",
              "4                      208.394342        398.0       74.0        88.6674   \n",
              "\n",
              "   segment_actual_time_total  segment_osrm_time_total  \\\n",
              "0                      252.0                    132.0   \n",
              "1                      240.0                     49.0   \n",
              "2                      142.0                     55.0   \n",
              "3                      344.0                    194.0   \n",
              "4                      391.0                    215.0   \n",
              "\n",
              "   segment_osrm_distance_total destination_state destination_city  \\\n",
              "0                     140.5623    Madhya Pradesh           Bareli   \n",
              "1                      56.7577             Assam        Sivasagar   \n",
              "2                      80.1495           Haryana              FBD   \n",
              "3                     212.1026           Gujarat          Mehsana   \n",
              "4                     257.6815           Gujarat              Una   \n",
              "\n",
              "  destination_place destination_code    source_state  source_city  \\\n",
              "0          SourvDPP                D  Madhya Pradesh  Narsinghpur   \n",
              "1          Babupaty                D           Assam       Sonari   \n",
              "2        Balabhgarh              DPC         Haryana          FBD   \n",
              "3           Panchot               IP         Gujarat      Mehsana   \n",
              "4          Mamlatdr               DC         Gujarat     Junagadh   \n",
              "\n",
              "  source_place source_code  trip_creation_year  trip_creation_month  \\\n",
              "0     KndliDPP           D                2018                    9   \n",
              "1      Central           1                2018                    9   \n",
              "2   Balabhgarh         DPC                2018                    9   \n",
              "3      Panchot          IP                2018                    9   \n",
              "4     Junagadh         DPC                2018                    9   \n",
              "\n",
              "   trip_creation_day  trip_creation_week  trip_creation_dayofweek  \n",
              "0                 12                  37                        2  \n",
              "1                 12                  37                        2  \n",
              "2                 12                  37                        2  \n",
              "3                 12                  37                        2  \n",
              "4                 12                  37                        2  "
            ],
            "text/html": [
              "\n",
              "  <div id=\"df-c451324d-b852-46f6-9ca0-3660d0d06441\">\n",
              "    <div class=\"colab-df-container\">\n",
              "      <div>\n",
              "<style scoped>\n",
              "    .dataframe tbody tr th:only-of-type {\n",
              "        vertical-align: middle;\n",
              "    }\n",
              "\n",
              "    .dataframe tbody tr th {\n",
              "        vertical-align: top;\n",
              "    }\n",
              "\n",
              "    .dataframe thead th {\n",
              "        text-align: right;\n",
              "    }\n",
              "</style>\n",
              "<table border=\"1\" class=\"dataframe\">\n",
              "  <thead>\n",
              "    <tr style=\"text-align: right;\">\n",
              "      <th></th>\n",
              "      <th>route_schedule_uuid</th>\n",
              "      <th>route_type</th>\n",
              "      <th>source_center</th>\n",
              "      <th>destination_center</th>\n",
              "      <th>start_scan_to_end_scan</th>\n",
              "      <th>od_start_end_time_minute</th>\n",
              "      <th>actual_distance_to_destination</th>\n",
              "      <th>actual_time</th>\n",
              "      <th>osrm_time</th>\n",
              "      <th>osrm_distance</th>\n",
              "      <th>segment_actual_time_total</th>\n",
              "      <th>segment_osrm_time_total</th>\n",
              "      <th>segment_osrm_distance_total</th>\n",
              "      <th>destination_state</th>\n",
              "      <th>destination_city</th>\n",
              "      <th>destination_place</th>\n",
              "      <th>destination_code</th>\n",
              "      <th>source_state</th>\n",
              "      <th>source_city</th>\n",
              "      <th>source_place</th>\n",
              "      <th>source_code</th>\n",
              "      <th>trip_creation_year</th>\n",
              "      <th>trip_creation_month</th>\n",
              "      <th>trip_creation_day</th>\n",
              "      <th>trip_creation_week</th>\n",
              "      <th>trip_creation_dayofweek</th>\n",
              "    </tr>\n",
              "  </thead>\n",
              "  <tbody>\n",
              "    <tr>\n",
              "      <th>0</th>\n",
              "      <td>thanos::sroute:0ac760f3-96cb-4046-bfd0-8bc4678...</td>\n",
              "      <td>FTL</td>\n",
              "      <td>IND487001AAB</td>\n",
              "      <td>IND464668AAA</td>\n",
              "      <td>290.0</td>\n",
              "      <td>290.662270</td>\n",
              "      <td>99.975595</td>\n",
              "      <td>253.0</td>\n",
              "      <td>61.0</td>\n",
              "      <td>61.9389</td>\n",
              "      <td>252.0</td>\n",
              "      <td>132.0</td>\n",
              "      <td>140.5623</td>\n",
              "      <td>Madhya Pradesh</td>\n",
              "      <td>Bareli</td>\n",
              "      <td>SourvDPP</td>\n",
              "      <td>D</td>\n",
              "      <td>Madhya Pradesh</td>\n",
              "      <td>Narsinghpur</td>\n",
              "      <td>KndliDPP</td>\n",
              "      <td>D</td>\n",
              "      <td>2018</td>\n",
              "      <td>9</td>\n",
              "      <td>12</td>\n",
              "      <td>37</td>\n",
              "      <td>2</td>\n",
              "    </tr>\n",
              "    <tr>\n",
              "      <th>1</th>\n",
              "      <td>thanos::sroute:db0f8027-8ade-4411-9aff-b26adaa...</td>\n",
              "      <td>Carting</td>\n",
              "      <td>IND785690AAB</td>\n",
              "      <td>IND785682AAA</td>\n",
              "      <td>252.0</td>\n",
              "      <td>252.076999</td>\n",
              "      <td>39.495954</td>\n",
              "      <td>241.0</td>\n",
              "      <td>16.0</td>\n",
              "      <td>12.1873</td>\n",
              "      <td>240.0</td>\n",
              "      <td>49.0</td>\n",
              "      <td>56.7577</td>\n",
              "      <td>Assam</td>\n",
              "      <td>Sivasagar</td>\n",
              "      <td>Babupaty</td>\n",
              "      <td>D</td>\n",
              "      <td>Assam</td>\n",
              "      <td>Sonari</td>\n",
              "      <td>Central</td>\n",
              "      <td>1</td>\n",
              "      <td>2018</td>\n",
              "      <td>9</td>\n",
              "      <td>12</td>\n",
              "      <td>37</td>\n",
              "      <td>2</td>\n",
              "    </tr>\n",
              "    <tr>\n",
              "      <th>2</th>\n",
              "      <td>thanos::sroute:8c5ab716-198a-4395-b83f-5672773...</td>\n",
              "      <td>Carting</td>\n",
              "      <td>IND121004AAB</td>\n",
              "      <td>IND121004AAB</td>\n",
              "      <td>259.0</td>\n",
              "      <td>260.435888</td>\n",
              "      <td>76.231506</td>\n",
              "      <td>145.0</td>\n",
              "      <td>14.0</td>\n",
              "      <td>19.3214</td>\n",
              "      <td>142.0</td>\n",
              "      <td>55.0</td>\n",
              "      <td>80.1495</td>\n",
              "      <td>Haryana</td>\n",
              "      <td>FBD</td>\n",
              "      <td>Balabhgarh</td>\n",
              "      <td>DPC</td>\n",
              "      <td>Haryana</td>\n",
              "      <td>FBD</td>\n",
              "      <td>Balabhgarh</td>\n",
              "      <td>DPC</td>\n",
              "      <td>2018</td>\n",
              "      <td>9</td>\n",
              "      <td>12</td>\n",
              "      <td>37</td>\n",
              "      <td>2</td>\n",
              "    </tr>\n",
              "    <tr>\n",
              "      <th>3</th>\n",
              "      <td>thanos::sroute:82facc11-0f66-496b-9d39-fa3891f...</td>\n",
              "      <td>FTL</td>\n",
              "      <td>IND384205AAA</td>\n",
              "      <td>IND384205AAA</td>\n",
              "      <td>562.0</td>\n",
              "      <td>563.816830</td>\n",
              "      <td>176.405153</td>\n",
              "      <td>345.0</td>\n",
              "      <td>88.0</td>\n",
              "      <td>101.5635</td>\n",
              "      <td>344.0</td>\n",
              "      <td>194.0</td>\n",
              "      <td>212.1026</td>\n",
              "      <td>Gujarat</td>\n",
              "      <td>Mehsana</td>\n",
              "      <td>Panchot</td>\n",
              "      <td>IP</td>\n",
              "      <td>Gujarat</td>\n",
              "      <td>Mehsana</td>\n",
              "      <td>Panchot</td>\n",
              "      <td>IP</td>\n",
              "      <td>2018</td>\n",
              "      <td>9</td>\n",
              "      <td>12</td>\n",
              "      <td>37</td>\n",
              "      <td>2</td>\n",
              "    </tr>\n",
              "    <tr>\n",
              "      <th>4</th>\n",
              "      <td>thanos::sroute:5f7d8d49-ae14-430e-9333-37361e1...</td>\n",
              "      <td>Carting</td>\n",
              "      <td>IND362001AAA</td>\n",
              "      <td>IND362560AAA</td>\n",
              "      <td>473.0</td>\n",
              "      <td>475.195147</td>\n",
              "      <td>208.394342</td>\n",
              "      <td>398.0</td>\n",
              "      <td>74.0</td>\n",
              "      <td>88.6674</td>\n",
              "      <td>391.0</td>\n",
              "      <td>215.0</td>\n",
              "      <td>257.6815</td>\n",
              "      <td>Gujarat</td>\n",
              "      <td>Una</td>\n",
              "      <td>Mamlatdr</td>\n",
              "      <td>DC</td>\n",
              "      <td>Gujarat</td>\n",
              "      <td>Junagadh</td>\n",
              "      <td>Junagadh</td>\n",
              "      <td>DPC</td>\n",
              "      <td>2018</td>\n",
              "      <td>9</td>\n",
              "      <td>12</td>\n",
              "      <td>37</td>\n",
              "      <td>2</td>\n",
              "    </tr>\n",
              "  </tbody>\n",
              "</table>\n",
              "</div>\n",
              "      <button class=\"colab-df-convert\" onclick=\"convertToInteractive('df-c451324d-b852-46f6-9ca0-3660d0d06441')\"\n",
              "              title=\"Convert this dataframe to an interactive table.\"\n",
              "              style=\"display:none;\">\n",
              "        \n",
              "  <svg xmlns=\"http://www.w3.org/2000/svg\" height=\"24px\"viewBox=\"0 0 24 24\"\n",
              "       width=\"24px\">\n",
              "    <path d=\"M0 0h24v24H0V0z\" fill=\"none\"/>\n",
              "    <path d=\"M18.56 5.44l.94 2.06.94-2.06 2.06-.94-2.06-.94-.94-2.06-.94 2.06-2.06.94zm-11 1L8.5 8.5l.94-2.06 2.06-.94-2.06-.94L8.5 2.5l-.94 2.06-2.06.94zm10 10l.94 2.06.94-2.06 2.06-.94-2.06-.94-.94-2.06-.94 2.06-2.06.94z\"/><path d=\"M17.41 7.96l-1.37-1.37c-.4-.4-.92-.59-1.43-.59-.52 0-1.04.2-1.43.59L10.3 9.45l-7.72 7.72c-.78.78-.78 2.05 0 2.83L4 21.41c.39.39.9.59 1.41.59.51 0 1.02-.2 1.41-.59l7.78-7.78 2.81-2.81c.8-.78.8-2.07 0-2.86zM5.41 20L4 18.59l7.72-7.72 1.47 1.35L5.41 20z\"/>\n",
              "  </svg>\n",
              "      </button>\n",
              "      \n",
              "  <style>\n",
              "    .colab-df-container {\n",
              "      display:flex;\n",
              "      flex-wrap:wrap;\n",
              "      gap: 12px;\n",
              "    }\n",
              "\n",
              "    .colab-df-convert {\n",
              "      background-color: #E8F0FE;\n",
              "      border: none;\n",
              "      border-radius: 50%;\n",
              "      cursor: pointer;\n",
              "      display: none;\n",
              "      fill: #1967D2;\n",
              "      height: 32px;\n",
              "      padding: 0 0 0 0;\n",
              "      width: 32px;\n",
              "    }\n",
              "\n",
              "    .colab-df-convert:hover {\n",
              "      background-color: #E2EBFA;\n",
              "      box-shadow: 0px 1px 2px rgba(60, 64, 67, 0.3), 0px 1px 3px 1px rgba(60, 64, 67, 0.15);\n",
              "      fill: #174EA6;\n",
              "    }\n",
              "\n",
              "    [theme=dark] .colab-df-convert {\n",
              "      background-color: #3B4455;\n",
              "      fill: #D2E3FC;\n",
              "    }\n",
              "\n",
              "    [theme=dark] .colab-df-convert:hover {\n",
              "      background-color: #434B5C;\n",
              "      box-shadow: 0px 1px 3px 1px rgba(0, 0, 0, 0.15);\n",
              "      filter: drop-shadow(0px 1px 2px rgba(0, 0, 0, 0.3));\n",
              "      fill: #FFFFFF;\n",
              "    }\n",
              "  </style>\n",
              "\n",
              "      <script>\n",
              "        const buttonEl =\n",
              "          document.querySelector('#df-c451324d-b852-46f6-9ca0-3660d0d06441 button.colab-df-convert');\n",
              "        buttonEl.style.display =\n",
              "          google.colab.kernel.accessAllowed ? 'block' : 'none';\n",
              "\n",
              "        async function convertToInteractive(key) {\n",
              "          const element = document.querySelector('#df-c451324d-b852-46f6-9ca0-3660d0d06441');\n",
              "          const dataTable =\n",
              "            await google.colab.kernel.invokeFunction('convertToInteractive',\n",
              "                                                     [key], {});\n",
              "          if (!dataTable) return;\n",
              "\n",
              "          const docLinkHtml = 'Like what you see? Visit the ' +\n",
              "            '<a target=\"_blank\" href=https://colab.research.google.com/notebooks/data_table.ipynb>data table notebook</a>'\n",
              "            + ' to learn more about interactive tables.';\n",
              "          element.innerHTML = '';\n",
              "          dataTable['output_type'] = 'display_data';\n",
              "          await google.colab.output.renderOutput(dataTable, element);\n",
              "          const docLink = document.createElement('div');\n",
              "          docLink.innerHTML = docLinkHtml;\n",
              "          element.appendChild(docLink);\n",
              "        }\n",
              "      </script>\n",
              "    </div>\n",
              "  </div>\n",
              "  "
            ]
          },
          "metadata": {},
          "execution_count": 37
        }
      ]
    },
    {
      "cell_type": "markdown",
      "source": [
        "# Outliers detection using boxplot and removing them using IQR:\n"
      ],
      "metadata": {
        "id": "jJIsqs8p8sDd"
      }
    },
    {
      "cell_type": "code",
      "source": [
        "cols_with_outliers=['start_scan_to_end_scan',\n",
        "       'od_start_end_time_minute', 'actual_distance_to_destination',\n",
        "       'actual_time', 'osrm_time', 'osrm_distance',\n",
        "       'segment_actual_time_total', 'segment_osrm_time_total',\n",
        "       'segment_osrm_distance_total']\n",
        "fig,ax=plt.subplots(figsize=(15,10))\n",
        "data_trip[cols_with_outliers].boxplot(rot=90,ax=ax,fontsize='large')\n",
        "plt.show()"
      ],
      "metadata": {
        "colab": {
          "base_uri": "https://localhost:8080/",
          "height": 768
        },
        "id": "KC358t4P85s_",
        "outputId": "def7aa3e-a333-4d28-95fe-4725eeafba5a"
      },
      "execution_count": 38,
      "outputs": [
        {
          "output_type": "display_data",
          "data": {
            "text/plain": [
              "<Figure size 1080x720 with 1 Axes>"
            ],
            "image/png": "[encoded data removed]"
          },
          "metadata": {
            "needs_background": "light"
          }
        }
      ]
    },
    {
      "cell_type": "markdown",
      "source": [
        "According to box-plot all the numerical columns have outliers"
      ],
      "metadata": {
        "id": "LA1ZdFkC9xIV"
      }
    },
    {
      "cell_type": "code",
      "source": [
        "# handling outliers\n",
        "Q1 = data_trip[cols_with_outliers].quantile(0.25) # first quantile\n",
        "Q3 = data_trip[cols_with_outliers].quantile(0.75) # third quantile\n",
        "\n",
        "IQR = Q3 - Q1 # inter-quantile range\n",
        "\n",
        "data_trip = data_trip[~((data_trip[cols_with_outliers] < (Q1 - 1.5 * IQR)) | (data_trip[cols_with_outliers] > (Q3 + 1.5 * IQR))).any(axis=1)]"
      ],
      "metadata": {
        "id": "LOFPdjZv0ZKJ"
      },
      "execution_count": 39,
      "outputs": []
    },
    {
      "cell_type": "markdown",
      "source": [
        "# Range of values for some of the attributes"
      ],
      "metadata": {
        "id": "WNwzUlvJblyv"
      }
    },
    {
      "cell_type": "code",
      "source": [
        "data['route_type'].value_counts()"
      ],
      "metadata": {
        "id": "bYDNgI7YjLJ0",
        "colab": {
          "base_uri": "https://localhost:8080/"
        },
        "outputId": "58f58263-feb1-49fb-cb85-357b4b34e15b"
      },
      "execution_count": 40,
      "outputs": [
        {
          "output_type": "execute_result",
          "data": {
            "text/plain": [
              "FTL        3714\n",
              "Carting    1716\n",
              "Name: route_type, dtype: int64"
            ]
          },
          "metadata": {},
          "execution_count": 40
        }
      ]
    },
    {
      "cell_type": "code",
      "source": [
        "sns.countplot(x='route_type',data=data_trip)"
      ],
      "metadata": {
        "colab": {
          "base_uri": "https://localhost:8080/",
          "height": 297
        },
        "id": "fg7ZTg2siJss",
        "outputId": "7eda6b49-22d6-4486-99d2-22a851d2b3e9"
      },
      "execution_count": 41,
      "outputs": [
        {
          "output_type": "execute_result",
          "data": {
            "text/plain": [
              "<matplotlib.axes._subplots.AxesSubplot at 0x7f08aedf21d0>"
            ]
          },
          "metadata": {},
          "execution_count": 41
        },
        {
          "output_type": "display_data",
          "data": {
            "text/plain": [
              "<Figure size 432x288 with 1 Axes>"
            ],
            "image/png": "[encoded data removed]"
          },
          "metadata": {
            "needs_background": "light"
          }
        }
      ]
    },
    {
      "cell_type": "markdown",
      "source": [
        "There are only two types of route.**FTL** being in heighest number."
      ],
      "metadata": {
        "id": "m_d6tVDmdItX"
      }
    },
    {
      "cell_type": "code",
      "source": [
        "data_trip.describe()"
      ],
      "metadata": {
        "colab": {
          "base_uri": "https://localhost:8080/",
          "height": 364
        },
        "id": "LWPqUJvQb4k7",
        "outputId": "5dbd3658-fa4b-45d4-c969-be1a92fe799c"
      },
      "execution_count": 42,
      "outputs": [
        {
          "output_type": "execute_result",
          "data": {
            "text/plain": [
              "       start_scan_to_end_scan  od_start_end_time_minute  \\\n",
              "count              477.000000                477.000000   \n",
              "mean               290.121593                290.921408   \n",
              "std                211.280554                211.514831   \n",
              "min                 34.000000                 34.522275   \n",
              "25%                138.000000                138.528613   \n",
              "50%                225.000000                225.162093   \n",
              "75%                393.000000                394.080267   \n",
              "max               1216.000000               1218.061670   \n",
              "\n",
              "       actual_distance_to_destination  actual_time   osrm_time  osrm_distance  \\\n",
              "count                      477.000000   477.000000  477.000000     477.000000   \n",
              "mean                        63.867098   160.368973   26.834382      29.451820   \n",
              "std                         61.398939   135.660856   21.752906      25.199297   \n",
              "min                          9.169091    13.000000    6.000000       9.306800   \n",
              "25%                         21.264406    62.000000   12.000000      12.182200   \n",
              "50%                         36.008738   112.000000   18.000000      16.794600   \n",
              "75%                         93.965201   227.000000   34.000000      35.507100   \n",
              "max                        308.977925   761.000000  101.000000     117.478300   \n",
              "\n",
              "       segment_actual_time_total  segment_osrm_time_total  \\\n",
              "count                 477.000000               477.000000   \n",
              "mean                  158.962264                75.496855   \n",
              "std                   134.700518                65.821525   \n",
              "min                    13.000000                 8.000000   \n",
              "25%                    61.000000                28.000000   \n",
              "50%                   110.000000                49.000000   \n",
              "75%                   224.000000               109.000000   \n",
              "max                   759.000000               327.000000   \n",
              "\n",
              "       segment_osrm_distance_total  trip_creation_year  trip_creation_month  \\\n",
              "count                   477.000000               477.0           477.000000   \n",
              "mean                     86.181545              2018.0             9.132075   \n",
              "std                      81.046798                 0.0             0.338928   \n",
              "min                       9.875900              2018.0             9.000000   \n",
              "25%                      29.624600              2018.0             9.000000   \n",
              "50%                      50.955300              2018.0             9.000000   \n",
              "75%                     129.412300              2018.0             9.000000   \n",
              "max                     428.258700              2018.0            10.000000   \n",
              "\n",
              "       trip_creation_day  trip_creation_week  trip_creation_dayofweek  \n",
              "count         477.000000          477.000000               477.000000  \n",
              "mean           17.807128           38.262055                 2.935010  \n",
              "std             7.993729            1.000255                 1.958061  \n",
              "min             1.000000           37.000000                 0.000000  \n",
              "25%            14.000000           37.000000                 1.000000  \n",
              "50%            18.000000           38.000000                 3.000000  \n",
              "75%            24.000000           39.000000                 5.000000  \n",
              "max            30.000000           40.000000                 6.000000  "
            ],
            "text/html": [
              "\n",
              "  <div id=\"df-3c0dac85-9522-477c-90dc-45bf5827438c\">\n",
              "    <div class=\"colab-df-container\">\n",
              "      <div>\n",
              "<style scoped>\n",
              "    .dataframe tbody tr th:only-of-type {\n",
              "        vertical-align: middle;\n",
              "    }\n",
              "\n",
              "    .dataframe tbody tr th {\n",
              "        vertical-align: top;\n",
              "    }\n",
              "\n",
              "    .dataframe thead th {\n",
              "        text-align: right;\n",
              "    }\n",
              "</style>\n",
              "<table border=\"1\" class=\"dataframe\">\n",
              "  <thead>\n",
              "    <tr style=\"text-align: right;\">\n",
              "      <th></th>\n",
              "      <th>start_scan_to_end_scan</th>\n",
              "      <th>od_start_end_time_minute</th>\n",
              "      <th>actual_distance_to_destination</th>\n",
              "      <th>actual_time</th>\n",
              "      <th>osrm_time</th>\n",
              "      <th>osrm_distance</th>\n",
              "      <th>segment_actual_time_total</th>\n",
              "      <th>segment_osrm_time_total</th>\n",
              "      <th>segment_osrm_distance_total</th>\n",
              "      <th>trip_creation_year</th>\n",
              "      <th>trip_creation_month</th>\n",
              "      <th>trip_creation_day</th>\n",
              "      <th>trip_creation_week</th>\n",
              "      <th>trip_creation_dayofweek</th>\n",
              "    </tr>\n",
              "  </thead>\n",
              "  <tbody>\n",
              "    <tr>\n",
              "      <th>count</th>\n",
              "      <td>477.000000</td>\n",
              "      <td>477.000000</td>\n",
              "      <td>477.000000</td>\n",
              "      <td>477.000000</td>\n",
              "      <td>477.000000</td>\n",
              "      <td>477.000000</td>\n",
              "      <td>477.000000</td>\n",
              "      <td>477.000000</td>\n",
              "      <td>477.000000</td>\n",
              "      <td>477.0</td>\n",
              "      <td>477.000000</td>\n",
              "      <td>477.000000</td>\n",
              "      <td>477.000000</td>\n",
              "      <td>477.000000</td>\n",
              "    </tr>\n",
              "    <tr>\n",
              "      <th>mean</th>\n",
              "      <td>290.121593</td>\n",
              "      <td>290.921408</td>\n",
              "      <td>63.867098</td>\n",
              "      <td>160.368973</td>\n",
              "      <td>26.834382</td>\n",
              "      <td>29.451820</td>\n",
              "      <td>158.962264</td>\n",
              "      <td>75.496855</td>\n",
              "      <td>86.181545</td>\n",
              "      <td>2018.0</td>\n",
              "      <td>9.132075</td>\n",
              "      <td>17.807128</td>\n",
              "      <td>38.262055</td>\n",
              "      <td>2.935010</td>\n",
              "    </tr>\n",
              "    <tr>\n",
              "      <th>std</th>\n",
              "      <td>211.280554</td>\n",
              "      <td>211.514831</td>\n",
              "      <td>61.398939</td>\n",
              "      <td>135.660856</td>\n",
              "      <td>21.752906</td>\n",
              "      <td>25.199297</td>\n",
              "      <td>134.700518</td>\n",
              "      <td>65.821525</td>\n",
              "      <td>81.046798</td>\n",
              "      <td>0.0</td>\n",
              "      <td>0.338928</td>\n",
              "      <td>7.993729</td>\n",
              "      <td>1.000255</td>\n",
              "      <td>1.958061</td>\n",
              "    </tr>\n",
              "    <tr>\n",
              "      <th>min</th>\n",
              "      <td>34.000000</td>\n",
              "      <td>34.522275</td>\n",
              "      <td>9.169091</td>\n",
              "      <td>13.000000</td>\n",
              "      <td>6.000000</td>\n",
              "      <td>9.306800</td>\n",
              "      <td>13.000000</td>\n",
              "      <td>8.000000</td>\n",
              "      <td>9.875900</td>\n",
              "      <td>2018.0</td>\n",
              "      <td>9.000000</td>\n",
              "      <td>1.000000</td>\n",
              "      <td>37.000000</td>\n",
              "      <td>0.000000</td>\n",
              "    </tr>\n",
              "    <tr>\n",
              "      <th>25%</th>\n",
              "      <td>138.000000</td>\n",
              "      <td>138.528613</td>\n",
              "      <td>21.264406</td>\n",
              "      <td>62.000000</td>\n",
              "      <td>12.000000</td>\n",
              "      <td>12.182200</td>\n",
              "      <td>61.000000</td>\n",
              "      <td>28.000000</td>\n",
              "      <td>29.624600</td>\n",
              "      <td>2018.0</td>\n",
              "      <td>9.000000</td>\n",
              "      <td>14.000000</td>\n",
              "      <td>37.000000</td>\n",
              "      <td>1.000000</td>\n",
              "    </tr>\n",
              "    <tr>\n",
              "      <th>50%</th>\n",
              "      <td>225.000000</td>\n",
              "      <td>225.162093</td>\n",
              "      <td>36.008738</td>\n",
              "      <td>112.000000</td>\n",
              "      <td>18.000000</td>\n",
              "      <td>16.794600</td>\n",
              "      <td>110.000000</td>\n",
              "      <td>49.000000</td>\n",
              "      <td>50.955300</td>\n",
              "      <td>2018.0</td>\n",
              "      <td>9.000000</td>\n",
              "      <td>18.000000</td>\n",
              "      <td>38.000000</td>\n",
              "      <td>3.000000</td>\n",
              "    </tr>\n",
              "    <tr>\n",
              "      <th>75%</th>\n",
              "      <td>393.000000</td>\n",
              "      <td>394.080267</td>\n",
              "      <td>93.965201</td>\n",
              "      <td>227.000000</td>\n",
              "      <td>34.000000</td>\n",
              "      <td>35.507100</td>\n",
              "      <td>224.000000</td>\n",
              "      <td>109.000000</td>\n",
              "      <td>129.412300</td>\n",
              "      <td>2018.0</td>\n",
              "      <td>9.000000</td>\n",
              "      <td>24.000000</td>\n",
              "      <td>39.000000</td>\n",
              "      <td>5.000000</td>\n",
              "    </tr>\n",
              "    <tr>\n",
              "      <th>max</th>\n",
              "      <td>1216.000000</td>\n",
              "      <td>1218.061670</td>\n",
              "      <td>308.977925</td>\n",
              "      <td>761.000000</td>\n",
              "      <td>101.000000</td>\n",
              "      <td>117.478300</td>\n",
              "      <td>759.000000</td>\n",
              "      <td>327.000000</td>\n",
              "      <td>428.258700</td>\n",
              "      <td>2018.0</td>\n",
              "      <td>10.000000</td>\n",
              "      <td>30.000000</td>\n",
              "      <td>40.000000</td>\n",
              "      <td>6.000000</td>\n",
              "    </tr>\n",
              "  </tbody>\n",
              "</table>\n",
              "</div>\n",
              "      <button class=\"colab-df-convert\" onclick=\"convertToInteractive('df-3c0dac85-9522-477c-90dc-45bf5827438c')\"\n",
              "              title=\"Convert this dataframe to an interactive table.\"\n",
              "              style=\"display:none;\">\n",
              "        \n",
              "  <svg xmlns=\"http://www.w3.org/2000/svg\" height=\"24px\"viewBox=\"0 0 24 24\"\n",
              "       width=\"24px\">\n",
              "    <path d=\"M0 0h24v24H0V0z\" fill=\"none\"/>\n",
              "    <path d=\"M18.56 5.44l.94 2.06.94-2.06 2.06-.94-2.06-.94-.94-2.06-.94 2.06-2.06.94zm-11 1L8.5 8.5l.94-2.06 2.06-.94-2.06-.94L8.5 2.5l-.94 2.06-2.06.94zm10 10l.94 2.06.94-2.06 2.06-.94-2.06-.94-.94-2.06-.94 2.06-2.06.94z\"/><path d=\"M17.41 7.96l-1.37-1.37c-.4-.4-.92-.59-1.43-.59-.52 0-1.04.2-1.43.59L10.3 9.45l-7.72 7.72c-.78.78-.78 2.05 0 2.83L4 21.41c.39.39.9.59 1.41.59.51 0 1.02-.2 1.41-.59l7.78-7.78 2.81-2.81c.8-.78.8-2.07 0-2.86zM5.41 20L4 18.59l7.72-7.72 1.47 1.35L5.41 20z\"/>\n",
              "  </svg>\n",
              "      </button>\n",
              "      \n",
              "  <style>\n",
              "    .colab-df-container {\n",
              "      display:flex;\n",
              "      flex-wrap:wrap;\n",
              "      gap: 12px;\n",
              "    }\n",
              "\n",
              "    .colab-df-convert {\n",
              "      background-color: #E8F0FE;\n",
              "      border: none;\n",
              "      border-radius: 50%;\n",
              "      cursor: pointer;\n",
              "      display: none;\n",
              "      fill: #1967D2;\n",
              "      height: 32px;\n",
              "      padding: 0 0 0 0;\n",
              "      width: 32px;\n",
              "    }\n",
              "\n",
              "    .colab-df-convert:hover {\n",
              "      background-color: #E2EBFA;\n",
              "      box-shadow: 0px 1px 2px rgba(60, 64, 67, 0.3), 0px 1px 3px 1px rgba(60, 64, 67, 0.15);\n",
              "      fill: #174EA6;\n",
              "    }\n",
              "\n",
              "    [theme=dark] .colab-df-convert {\n",
              "      background-color: #3B4455;\n",
              "      fill: #D2E3FC;\n",
              "    }\n",
              "\n",
              "    [theme=dark] .colab-df-convert:hover {\n",
              "      background-color: #434B5C;\n",
              "      box-shadow: 0px 1px 3px 1px rgba(0, 0, 0, 0.15);\n",
              "      filter: drop-shadow(0px 1px 2px rgba(0, 0, 0, 0.3));\n",
              "      fill: #FFFFFF;\n",
              "    }\n",
              "  </style>\n",
              "\n",
              "      <script>\n",
              "        const buttonEl =\n",
              "          document.querySelector('#df-3c0dac85-9522-477c-90dc-45bf5827438c button.colab-df-convert');\n",
              "        buttonEl.style.display =\n",
              "          google.colab.kernel.accessAllowed ? 'block' : 'none';\n",
              "\n",
              "        async function convertToInteractive(key) {\n",
              "          const element = document.querySelector('#df-3c0dac85-9522-477c-90dc-45bf5827438c');\n",
              "          const dataTable =\n",
              "            await google.colab.kernel.invokeFunction('convertToInteractive',\n",
              "                                                     [key], {});\n",
              "          if (!dataTable) return;\n",
              "\n",
              "          const docLinkHtml = 'Like what you see? Visit the ' +\n",
              "            '<a target=\"_blank\" href=https://colab.research.google.com/notebooks/data_table.ipynb>data table notebook</a>'\n",
              "            + ' to learn more about interactive tables.';\n",
              "          element.innerHTML = '';\n",
              "          dataTable['output_type'] = 'display_data';\n",
              "          await google.colab.output.renderOutput(dataTable, element);\n",
              "          const docLink = document.createElement('div');\n",
              "          docLink.innerHTML = docLinkHtml;\n",
              "          element.appendChild(docLink);\n",
              "        }\n",
              "      </script>\n",
              "    </div>\n",
              "  </div>\n",
              "  "
            ]
          },
          "metadata": {},
          "execution_count": 42
        }
      ]
    },
    {
      "cell_type": "markdown",
      "source": [
        "The minimum amd maximum times for start_scan_to_end_scan are 34 and 3230 respectively.So there is a huge gap between these two values.On the other hand the min and max values for od_start_end_time_minute are very close to the scan times.\n",
        "\n"
      ],
      "metadata": {
        "id": "sI6g8yBkef8V"
      }
    },
    {
      "cell_type": "code",
      "source": [
        "data_trip['destination_state'].value_counts()"
      ],
      "metadata": {
        "colab": {
          "base_uri": "https://localhost:8080/"
        },
        "id": "oZeYCQLieXOp",
        "outputId": "c2cad27b-7b88-49f0-e41c-9f91ced050ad"
      },
      "execution_count": 43,
      "outputs": [
        {
          "output_type": "execute_result",
          "data": {
            "text/plain": [
              "Maharashtra        87\n",
              "Karnataka          83\n",
              "Haryana            49\n",
              "Tamil Nadu         39\n",
              "Gujarat            25\n",
              "West Bengal        24\n",
              "Delhi              23\n",
              "Uttar Pradesh      21\n",
              "Punjab             19\n",
              "Telangana          18\n",
              "Rajasthan          16\n",
              "Andhra Pradesh     16\n",
              "Kerala             13\n",
              "Madhya Pradesh     12\n",
              "Bihar              10\n",
              "Assam               6\n",
              "Jharkhand           4\n",
              "Orissa              4\n",
              "Chhattisgarh        2\n",
              "Uttarakhand         2\n",
              "Goa                 2\n",
              "Jammu & Kashmir     1\n",
              "Chandigarh          1\n",
              "Name: destination_state, dtype: int64"
            ]
          },
          "metadata": {},
          "execution_count": 43
        }
      ]
    },
    {
      "cell_type": "code",
      "source": [
        "fig,ax=plt.subplots(figsize=(20,6))\n",
        "ax=sns.countplot(x='destination_state',data=data_trip)\n",
        "plt.xticks(rotation=90)\n",
        "plt.show()"
      ],
      "metadata": {
        "colab": {
          "base_uri": "https://localhost:8080/",
          "height": 468
        },
        "id": "mWU_8zeRgHuD",
        "outputId": "9de22b3a-4adc-46d6-f631-f47bb7bca9c9"
      },
      "execution_count": 44,
      "outputs": [
        {
          "output_type": "display_data",
          "data": {
            "text/plain": [
              "<Figure size 1440x432 with 1 Axes>"
            ],
            "image/png": "[encoded data removed]"
          },
          "metadata": {
            "needs_background": "light"
          }
        }
      ]
    },
    {
      "cell_type": "markdown",
      "source": [
        "**Business Insights:** \n",
        "1. Maharashtra being heighest in terms of delivery then followed by Karnataka.Lowest is the chhattisgarh.\n",
        "\n",
        "2. The north,west and south corridors have heavy trafic of orders.\n",
        "\n",
        "3. On the other hand the central corridor,east and north eastern (states like Delhi,Chhattisgarh,Uttrakhand,Goa,etc) have less traffic of orders. \n"
      ],
      "metadata": {
        "id": "c9fMFrsOffOE"
      }
    },
    {
      "cell_type": "code",
      "source": [
        "data_trip['trip_creation_year'].value_counts()"
      ],
      "metadata": {
        "colab": {
          "base_uri": "https://localhost:8080/"
        },
        "id": "hHIYy-sVfdIc",
        "outputId": "ea07038b-d926-451a-b1dc-15f74918e0bd"
      },
      "execution_count": 45,
      "outputs": [
        {
          "output_type": "execute_result",
          "data": {
            "text/plain": [
              "2018    477\n",
              "Name: trip_creation_year, dtype: int64"
            ]
          },
          "metadata": {},
          "execution_count": 45
        }
      ]
    },
    {
      "cell_type": "markdown",
      "source": [
        "The delivery are only from the year **2018**"
      ],
      "metadata": {
        "id": "rpSZ21EZf_tH"
      }
    },
    {
      "cell_type": "code",
      "source": [
        "fig,ax=plt.subplots(figsize=(20,6))\n",
        "ax=sns.countplot(x='source_state',data=data_trip)\n",
        "plt.xticks(rotation=90)\n",
        "plt.show()"
      ],
      "metadata": {
        "colab": {
          "base_uri": "https://localhost:8080/",
          "height": 499
        },
        "id": "bGpqWXRHiGtV",
        "outputId": "995e1e18-6d2e-47a7-bf9d-d7059062bd7f"
      },
      "execution_count": 46,
      "outputs": [
        {
          "output_type": "display_data",
          "data": {
            "text/plain": [
              "<Figure size 1440x432 with 1 Axes>"
            ],
            "image/png": "[encoded data removed]"
          },
          "metadata": {
            "needs_background": "light"
          }
        }
      ]
    },
    {
      "cell_type": "markdown",
      "source": [
        "**Business Insights:**\n",
        "\n",
        "1. **Maharashtra** being heighest in terms of producing products.\n",
        "\n",
        "2. There are many states (Uttrakhand,Himachal Pradesh,Goa,etc) with very less of presence of products."
      ],
      "metadata": {
        "id": "wNpIqFtiiqWR"
      }
    },
    {
      "cell_type": "code",
      "source": [
        "fig,ax=plt.subplots(figsize=(20,6))\n",
        "ax=sns.countplot(x='trip_creation_day',data=data_trip)\n",
        "plt.xticks(rotation=90)\n",
        "plt.show()"
      ],
      "metadata": {
        "colab": {
          "base_uri": "https://localhost:8080/",
          "height": 392
        },
        "id": "DeKRldzgi84o",
        "outputId": "22eff45d-3ef4-4646-b978-a9cb200c0fff"
      },
      "execution_count": 47,
      "outputs": [
        {
          "output_type": "display_data",
          "data": {
            "text/plain": [
              "<Figure size 1440x432 with 1 Axes>"
            ],
            "image/png": "[encoded data removed]"
          },
          "metadata": {
            "needs_background": "light"
          }
        }
      ]
    },
    {
      "cell_type": "markdown",
      "source": [
        "**Business Insights:** Its surprising that the most of the trip(deliveries) created bteween day 12 and day 30"
      ],
      "metadata": {
        "id": "YuvP6lOijTIj"
      }
    },
    {
      "cell_type": "code",
      "source": [
        "fig,ax=plt.subplots(figsize=(20,6))\n",
        "ax=sns.countplot(x='trip_creation_month',data=data_trip)\n",
        "plt.xticks(rotation=90)\n",
        "plt.show()"
      ],
      "metadata": {
        "colab": {
          "base_uri": "https://localhost:8080/",
          "height": 392
        },
        "id": "RQLYPYRfjmE3",
        "outputId": "21e4ba1a-1aed-493b-844a-97f25db57a1f"
      },
      "execution_count": 48,
      "outputs": [
        {
          "output_type": "display_data",
          "data": {
            "text/plain": [
              "<Figure size 1440x432 with 1 Axes>"
            ],
            "image/png": "[encoded data removed]"
          },
          "metadata": {
            "needs_background": "light"
          }
        }
      ]
    },
    {
      "cell_type": "markdown",
      "source": [
        "**Business Insights**:This is strange the most of the deliveries made on september"
      ],
      "metadata": {
        "id": "p5SkxLx6jqjF"
      }
    },
    {
      "cell_type": "code",
      "source": [
        "fig,ax=plt.subplots(figsize=(20,6))\n",
        "ax=sns.countplot(x='trip_creation_week',data=data_trip)\n",
        "plt.xticks(rotation=90)\n",
        "plt.show()"
      ],
      "metadata": {
        "colab": {
          "base_uri": "https://localhost:8080/",
          "height": 392
        },
        "id": "fM7jECw-j2j_",
        "outputId": "ae33fb84-285d-42c2-9787-2521739be506"
      },
      "execution_count": 49,
      "outputs": [
        {
          "output_type": "display_data",
          "data": {
            "text/plain": [
              "<Figure size 1440x432 with 1 Axes>"
            ],
            "image/png": "[encoded data removed]"
          },
          "metadata": {
            "needs_background": "light"
          }
        }
      ]
    },
    {
      "cell_type": "markdown",
      "source": [
        "**Business Insights:** Its surprising that the weeks other than 37,38,39,and 40 no deliveries made.This could be due to the fact of collection of data."
      ],
      "metadata": {
        "id": "uXK2JZaH2OQM"
      }
    },
    {
      "cell_type": "code",
      "source": [
        "fig,ax=plt.subplots(figsize=(20,6))\n",
        "ax=sns.countplot(x='trip_creation_dayofweek',data=data_trip)\n",
        "plt.xticks(rotation=90)\n",
        "plt.show()"
      ],
      "metadata": {
        "colab": {
          "base_uri": "https://localhost:8080/",
          "height": 385
        },
        "id": "L27ZdVMMj4Hi",
        "outputId": "7bbdeb65-e505-466a-f0bf-02c1072350b4"
      },
      "execution_count": 50,
      "outputs": [
        {
          "output_type": "display_data",
          "data": {
            "text/plain": [
              "<Figure size 1440x432 with 1 Axes>"
            ],
            "image/png": "[encoded data removed]"
          },
          "metadata": {
            "needs_background": "light"
          }
        }
      ]
    },
    {
      "cell_type": "markdown",
      "source": [
        "**Business Insights:** Everyday of a week more or less has same number of deliveries"
      ],
      "metadata": {
        "id": "Zn0JZg9UkRRK"
      }
    },
    {
      "cell_type": "markdown",
      "source": [
        "# Handling Categorical Values:\n",
        "\n",
        "Hnadling some of the attributes like destination_state,route_type,source_state,etc"
      ],
      "metadata": {
        "id": "bTbTQlVbkbHd"
      }
    },
    {
      "cell_type": "code",
      "source": [
        "data_trip['route_type']=data_trip['route_type'].map({'FTL':0,'Carting':1})"
      ],
      "metadata": {
        "id": "YdRKy3hrkFUA"
      },
      "execution_count": 51,
      "outputs": []
    },
    {
      "cell_type": "code",
      "source": [
        "# converting destination state into numerical values\n",
        "# using probability frequency\n",
        "dest_dict=data_trip['destination_state'].value_counts().to_dict()\n",
        "total_count=sum(dest_dict.values())\n",
        "for key in dest_dict:\n",
        "  dest_dict[key]=dest_dict[key]/total_count # calculate probability\n",
        "data_trip['destination_state_encoded']=data_trip['destination_state'].map(dest_dict)\n",
        "\n",
        "\n",
        "# similarly do for source state\n",
        "source_dict=data_trip['source_state'].value_counts().to_dict()\n",
        "total_count=sum(source_dict.values())\n",
        "for key in source_dict:\n",
        "  source_dict[key]=source_dict[key]/total_count # calculate probability\n",
        "data_trip['source_state_encoded']=data_trip['source_state'].map(source_dict)\n",
        "\n"
      ],
      "metadata": {
        "id": "J8DRZPNNk-ww"
      },
      "execution_count": 52,
      "outputs": []
    },
    {
      "cell_type": "code",
      "source": [
        "data_trip.destination_state_encoded.head()"
      ],
      "metadata": {
        "colab": {
          "base_uri": "https://localhost:8080/"
        },
        "id": "1XqMqGpqmPlG",
        "outputId": "b7d96a4d-befe-4be9-f3b0-1f033a60ca67"
      },
      "execution_count": 53,
      "outputs": [
        {
          "output_type": "execute_result",
          "data": {
            "text/plain": [
              "0    0.025157\n",
              "1    0.012579\n",
              "2    0.102725\n",
              "3    0.052411\n",
              "4    0.052411\n",
              "Name: destination_state_encoded, dtype: float64"
            ]
          },
          "metadata": {},
          "execution_count": 53
        }
      ]
    },
    {
      "cell_type": "markdown",
      "source": [
        "# Checking relationship between aggregated fields and hypothesis testing"
      ],
      "metadata": {
        "id": "ndL39TkCq52i"
      }
    },
    {
      "cell_type": "markdown",
      "source": [
        "### Hypothesis testing between start_scan_to_end_scan and time difference of od_start_time and od_end_time\n",
        "\n",
        "And visualization: histogram"
      ],
      "metadata": {
        "id": "pQfQlWytxiPd"
      }
    },
    {
      "cell_type": "code",
      "source": [
        "fig,ax=plt.subplots(nrows=1,ncols=2,figsize=(15,6))\n",
        "ax=ax.flatten()\n",
        "sns.histplot(x='start_scan_to_end_scan',data=data_trip,ax=ax[0],bins=40)\n",
        "sns.histplot(x='od_start_end_time_minute',data=data_trip,ax=ax[1],bins=40)\n",
        "plt.show()"
      ],
      "metadata": {
        "colab": {
          "base_uri": "https://localhost:8080/",
          "height": 389
        },
        "id": "SqIZnnnWmWY2",
        "outputId": "7af2ad17-e230-4b2f-9dda-4317ffe5dd2a"
      },
      "execution_count": 54,
      "outputs": [
        {
          "output_type": "display_data",
          "data": {
            "text/plain": [
              "<Figure size 1080x432 with 2 Axes>"
            ],
            "image/png": "[encoded data removed]"
          },
          "metadata": {
            "needs_background": "light"
          }
        }
      ]
    },
    {
      "cell_type": "markdown",
      "source": [
        "Great resemblance between the two histograms.From histogram it is clear that the data has still some sort of outliers.But we can live this."
      ],
      "metadata": {
        "id": "QP6Ck1wpzQof"
      }
    },
    {
      "cell_type": "markdown",
      "source": [
        "### confidence interval for both **scan time and od time**"
      ],
      "metadata": {
        "id": "J0VQpmiNAGV1"
      }
    },
    {
      "cell_type": "code",
      "source": [
        "# find confidence interval\n",
        "means_scan=[]\n",
        "means_od=[]\n",
        "nsim=1000 # 100 bootstrap simulations\n",
        "sample_size=100 # sample size is 100\n",
        "for _ in range(nsim):\n",
        "  sample=data_trip['start_scan_to_end_scan'].sample(sample_size)\n",
        "  means_scan.append(sum(sample)/len(sample))\n",
        "\n",
        "  sample=data_trip['od_start_end_time_minute'].sample(sample_size)\n",
        "  means_od.append(sum(sample)/len(sample))\n",
        "\n",
        "\n",
        "# confidence interval for means\n",
        "interval_scan=[np.percentile(means_scan,2.5),np.percentile(means_scan,97.5)] # 2.5th and 97.5th percentiles ,with 5% level of significance\n",
        "interval_od=[np.percentile(means_od,2.5),np.percentile(means_od,97.5)]\n",
        "\n",
        "print(\"Confidence interval for the mean of scan time: \",interval_scan)\n",
        "\n",
        "print(\"Confidence interval for the mean of od time: \",interval_od)\n",
        "          "
      ],
      "metadata": {
        "colab": {
          "base_uri": "https://localhost:8080/"
        },
        "id": "Bgm-7ed0_2vf",
        "outputId": "1abd48e4-580b-4cfc-e51f-46586eef0377"
      },
      "execution_count": 55,
      "outputs": [
        {
          "output_type": "stream",
          "name": "stdout",
          "text": [
            "Confidence interval for the mean of scan time:  [255.33325, 326.495]\n",
            "Confidence interval for the mean of od time:  [254.23816766421683, 332.2286531487792]\n"
          ]
        }
      ]
    },
    {
      "cell_type": "markdown",
      "source": [
        "**The 95% confidence interval for both scan time and od time is almost same.\n",
        "This tells that there is no significance difference between scan time and od time**"
      ],
      "metadata": {
        "id": "FJxB09-YBton"
      }
    },
    {
      "cell_type": "markdown",
      "source": [
        "Applying t-test on the right skewd distributed data would be misleading as means heavily affected by outliers,we will remove the outliers(using IQR) and then carry out the test.\n",
        "\n",
        "\n",
        "### H0:Means of scan time and od time are equal\n",
        "### H1: otherwise"
      ],
      "metadata": {
        "id": "4pewpNAj2kTI"
      }
    },
    {
      "cell_type": "code",
      "source": [
        "# removing outliers for both scan time and od time\n",
        "Q1=data_trip['start_scan_to_end_scan'].quantile(0.25) \n",
        "Q3=data_trip['start_scan_to_end_scan'].quantile(0.75)\n",
        "IQR=Q3-Q1\n",
        "scan=data_trip['start_scan_to_end_scan']\n",
        "logical=((Q1-1.5*IQR)<scan ) & (scan<(Q3+1.5*IQR))\n",
        "scan_data=data_trip['start_scan_to_end_scan'][logical]\n",
        "\n",
        "# similarly do for od time\n",
        "Q1=data_trip['od_start_end_time_minute'].quantile(0.25) \n",
        "Q3=data_trip['od_start_end_time_minute'].quantile(0.75)\n",
        "IQR=Q3-Q1\n",
        "od=data_trip['od_start_end_time_minute']\n",
        "logical=((Q1-1.5*IQR)<od ) & (od<(Q3+1.5*IQR))\n",
        "od_data=data_trip['od_start_end_time_minute'][logical]\n",
        "\n",
        "\n",
        "# hypothesis testing for equality of means\n",
        "# paired t-test: as the both time depends on the delivery.\n",
        "\n",
        "test_statistics,p_value=st.ttest_rel(scan_data,od_data) # two-sided paired t-test\n",
        "\n",
        "print(\"Test-statistics:\",test_statistics)\n",
        "print(\"P-value:\",p_value)\n",
        "\n"
      ],
      "metadata": {
        "colab": {
          "base_uri": "https://localhost:8080/"
        },
        "id": "aDaTRJm1q0Z7",
        "outputId": "3a305539-8ae9-4e06-8144-a12085dc9c0b"
      },
      "execution_count": 56,
      "outputs": [
        {
          "output_type": "stream",
          "name": "stdout",
          "text": [
            "Test-statistics: -29.615008802193312\n",
            "P-value: 2.2461833908056246e-108\n"
          ]
        }
      ]
    },
    {
      "cell_type": "markdown",
      "source": [
        "If we consider 5% level of significance,the **p-value** is way less than 0.05.Therefore null hypothesis must i.e the mean of **scan time** and the mean of  **od time** are not equal."
      ],
      "metadata": {
        "id": "RenY7fB42Mwt"
      }
    },
    {
      "cell_type": "markdown",
      "source": [
        "### hypothesis test between actual_time aggregated value and OSRM time aggregated value"
      ],
      "metadata": {
        "id": "nGFvRbZb22ep"
      }
    },
    {
      "cell_type": "code",
      "source": [
        "fig,ax=plt.subplots(nrows=1,ncols=2,figsize=(15,6))\n",
        "ax=ax.flatten()\n",
        "sns.histplot(x='actual_time', data=data_trip,ax=ax[0],bins=40) # aggregate actual time\n",
        "ax[0].set_xlabel(\"Actual time aggregated\")\n",
        "sns.histplot(x='osrm_time',data=data_trip,ax=ax[1],bins=40) # OSRM aggregated time\n",
        "ax[1].set_xlabel(\"OSRM aggregated time\")\n",
        "plt.show()"
      ],
      "metadata": {
        "colab": {
          "base_uri": "https://localhost:8080/",
          "height": 388
        },
        "id": "3JXoAyyY2K1U",
        "outputId": "2a49da62-493e-4e6f-8b03-56267770bc64"
      },
      "execution_count": 57,
      "outputs": [
        {
          "output_type": "display_data",
          "data": {
            "text/plain": [
              "<Figure size 1080x432 with 2 Axes>"
            ],
            "image/png": "[encoded data removed]"
          },
          "metadata": {
            "needs_background": "light"
          }
        }
      ]
    },
    {
      "cell_type": "markdown",
      "source": [
        "Both actual and osrm aggregated time are right skewd distribution.ANOVA can't be applied here because the data are not normal"
      ],
      "metadata": {
        "id": "QEgrvYWP3tV0"
      }
    },
    {
      "cell_type": "markdown",
      "source": [
        "### confidence interval of means for both the actual time(aggregated) and osrm time(aggregated)"
      ],
      "metadata": {
        "id": "cYYqSE6vF04s"
      }
    },
    {
      "cell_type": "code",
      "source": [
        "# find confidence interval\n",
        "means_actual=[]\n",
        "means_osrm=[]\n",
        "nsim=1000 # 100 bootstrap simulations\n",
        "sample_size=100 # sample size is 100\n",
        "for _ in range(nsim):\n",
        "  sample=data_trip['actual_time'].sample(sample_size)\n",
        "  means_actual.append(sum(sample)/len(sample))\n",
        "\n",
        "  sample=data_trip['osrm_time'].sample(sample_size)\n",
        "  means_osrm.append(sum(sample)/len(sample))\n",
        "\n",
        "\n",
        "# confidence interval for means\n",
        "interval_actual=[np.percentile(means_actual,2.5),np.percentile(means_actual,97.5)] # 2.5th and 97.5th percentiles ,with 5% level of significance\n",
        "interval_osrm=[np.percentile(means_osrm,2.5),np.percentile(means_osrm,97.5)]\n",
        "\n",
        "print(\"Confidence interval for actual time(aggregated): \",interval_actual)\n",
        "print(\"Confidence interval for OSRM time(aggregated): \",interval_osrm)\n",
        "\n"
      ],
      "metadata": {
        "colab": {
          "base_uri": "https://localhost:8080/"
        },
        "id": "lOgMC2iAF0Co",
        "outputId": "60faa68a-7c08-4b1e-ff6b-c988ac5b2be8"
      },
      "execution_count": 58,
      "outputs": [
        {
          "output_type": "stream",
          "name": "stdout",
          "text": [
            "Confidence interval for actual time(aggregated):  [137.24775, 185.79325]\n",
            "Confidence interval for OSRM time(aggregated):  [23.13, 30.850250000000003]\n"
          ]
        }
      ]
    },
    {
      "cell_type": "markdown",
      "source": [
        "There is no overlap between the intervals.According to confidence intervals there is no relation between actual time taken to deliver a product and osrm time(machine genrated time).\n",
        "\n",
        "It proves machine generated time is not accordance with the actual time"
      ],
      "metadata": {
        "id": "Jco8NezqIFoY"
      }
    },
    {
      "cell_type": "markdown",
      "source": [
        "### H0:Means of actual time and OSRM time are equal\n",
        "### H1: otherwise\n",
        "\n",
        "Actual time depends on the delivery whereas OSRM time is machine generated,therefore we will do independent t-test for hypothesis test"
      ],
      "metadata": {
        "id": "jxPzyTGP4FNn"
      }
    },
    {
      "cell_type": "code",
      "source": [
        "# first remove outliers\n",
        "Q1=data_trip['actual_time'].quantile(0.25) \n",
        "Q3=data_trip['actual_time'].quantile(0.75)\n",
        "IQR=Q3-Q1\n",
        "actual=data_trip['actual_time']\n",
        "logical=((Q1-1.5*IQR)<actual ) & (actual<(Q3+1.5*IQR))\n",
        "actual_data=data_trip['actual_time'][logical]\n",
        "\n",
        "# similarly do for od time\n",
        "Q1=data_trip['osrm_time'].quantile(0.25) \n",
        "Q3=data_trip['osrm_time'].quantile(0.75)\n",
        "IQR=Q3-Q1\n",
        "osrm=data_trip['osrm_time']\n",
        "logical=((Q1-1.5*IQR)<osrm ) & (osrm<(Q3+1.5*IQR))\n",
        "osrm_data=data_trip['osrm_time'][logical]\n",
        "test_statistics,p_value=st.ttest_ind(osrm_data,actual_data,\n",
        "                                     equal_var=True, random_state=2022, alternative='two-sided')\n",
        "print(\"Test-statistics:\",test_statistics)\n",
        "print(\"P-value:\",p_value)\n"
      ],
      "metadata": {
        "colab": {
          "base_uri": "https://localhost:8080/"
        },
        "id": "cIKcoPfB3C7Q",
        "outputId": "8f9f47b8-5022-40a0-b92f-ddbf744fa3ce"
      },
      "execution_count": 59,
      "outputs": [
        {
          "output_type": "stream",
          "name": "stdout",
          "text": [
            "Test-statistics: -23.723659699899443\n",
            "P-value: 8.465203154007822e-97\n"
          ]
        }
      ]
    },
    {
      "cell_type": "markdown",
      "source": [
        "Again the p-values is very low ,way less than 5% level of significance.Therefore the null hypothesis must that is the mean of actual time is not same as mean of osrm time"
      ],
      "metadata": {
        "id": "zvLGEHGY5HwC"
      }
    },
    {
      "cell_type": "markdown",
      "source": [
        "### Hypothesis tesing between actual_time aggregated value and segment actual time aggregated value.\n",
        "\n",
        "**H0: Means of actual time(aggregated) and actual segement time(aggregated) are equal**\n",
        "\n",
        "**H1:otherwise**"
      ],
      "metadata": {
        "id": "3QMorHno7BgM"
      }
    },
    {
      "cell_type": "markdown",
      "source": [
        "### Confidence interval of actual time(aggregated) and segment_time(aggregated)"
      ],
      "metadata": {
        "id": "9qSmm0yAODD6"
      }
    },
    {
      "cell_type": "code",
      "source": [
        "# find confidence interval\n",
        "means_actual=[]\n",
        "means_actual_seg=[]\n",
        "nsim=1000 # 100 bootstrap simulations\n",
        "sample_size=100 # sample size is 100\n",
        "for _ in range(nsim):\n",
        "  sample=data_trip['actual_time'].sample(sample_size)\n",
        "  means_actual.append(sum(sample)/len(sample))\n",
        "\n",
        "  sample=data_trip['segment_actual_time_total'].sample(sample_size)\n",
        "  means_actual_seg.append(sum(sample)/len(sample))\n",
        "\n",
        "\n",
        "# confidence interval for means\n",
        "interval_actual=[np.percentile(means_actual,2.5),np.percentile(means_actual,97.5)] # 2.5th and 97.5th percentiles ,with 5% level of significance\n",
        "interval_actual_seg=[np.percentile(means_actual_seg,2.5),np.percentile(means_actual_seg,97.5)]\n",
        "\n",
        "print(\"Confidence interval for actual time(aggregated): \",interval_actual)\n",
        "print(\"Confidence interval for actual segment time(aggregated): \",interval_osrm)\n",
        "\n"
      ],
      "metadata": {
        "colab": {
          "base_uri": "https://localhost:8080/"
        },
        "id": "UzrBcyIXOCnz",
        "outputId": "3c9b2bea-3312-4427-ca3d-ad60cda8b318"
      },
      "execution_count": 60,
      "outputs": [
        {
          "output_type": "stream",
          "name": "stdout",
          "text": [
            "Confidence interval for actual time(aggregated):  [137.67925, 184.40075000000002]\n",
            "Confidence interval for actual segment time(aggregated):  [23.13, 30.850250000000003]\n"
          ]
        }
      ]
    },
    {
      "cell_type": "markdown",
      "source": [
        "There is a significant difference between the confidence intervals.segment actual time is faster than the actual time."
      ],
      "metadata": {
        "id": "KrGhWUw0Ojuf"
      }
    },
    {
      "cell_type": "code",
      "source": [
        "fig,ax=plt.subplots(nrows=1,ncols=2,figsize=(15,6))\n",
        "ax=ax.flatten()\n",
        "sns.histplot(x='actual_time', data=data_trip,ax=ax[0],bins=40) # aggregate actual time\n",
        "ax[0].set_xlabel(\"Actual time aggregated\")\n",
        "sns.histplot(x='segment_actual_time_total',data=data_trip,ax=ax[1],bins=40) # segment aggregated actual time\n",
        "ax[1].set_xlabel(\"Segment aggregated actual time\")\n",
        "plt.show()"
      ],
      "metadata": {
        "colab": {
          "base_uri": "https://localhost:8080/",
          "height": 388
        },
        "id": "QrS4t9-R3HKv",
        "outputId": "1ed151c5-00a4-4c25-d058-297db2680464"
      },
      "execution_count": 61,
      "outputs": [
        {
          "output_type": "display_data",
          "data": {
            "text/plain": [
              "<Figure size 1080x432 with 2 Axes>"
            ],
            "image/png": "[encoded data removed]"
          },
          "metadata": {
            "needs_background": "light"
          }
        }
      ]
    },
    {
      "cell_type": "markdown",
      "source": [
        "Again the data distribution are right skewed.The data has outliers we will remove and then carry out t-test"
      ],
      "metadata": {
        "id": "pYCe331w77d5"
      }
    },
    {
      "cell_type": "code",
      "source": [
        "# first remove outliers\n",
        "Q1=data_trip['actual_time'].quantile(0.25) \n",
        "Q3=data_trip['actual_time'].quantile(0.75)\n",
        "IQR=Q3-Q1\n",
        "actual=data_trip['actual_time']\n",
        "logical=((Q1-1.5*IQR)<actual ) & (actual<(Q3+1.5*IQR))\n",
        "actual_data=data_trip['actual_time'][logical]\n",
        "\n",
        "# similarly do for od time\n",
        "Q1=data_trip['segment_actual_time_total'].quantile(0.25) \n",
        "Q3=data_trip['segment_actual_time_total'].quantile(0.75)\n",
        "IQR=Q3-Q1\n",
        "segment=data_trip['segment_actual_time_total']\n",
        "logical=((Q1-1.5*IQR)<segment ) & (segment<(Q3+1.5*IQR))\n",
        "segment_data=data_trip['segment_actual_time_total'][logical]\n",
        "test_statistics,p_value=st.ttest_rel(segment_data,actual_data)\n",
        "print(\"Test-statistics:\",test_statistics)\n",
        "print(\"P-value:\",p_value)\n"
      ],
      "metadata": {
        "colab": {
          "base_uri": "https://localhost:8080/"
        },
        "id": "huya9NXc69Tz",
        "outputId": "eb3ea900-e1b2-41f6-e0cb-030fe3030345"
      },
      "execution_count": 62,
      "outputs": [
        {
          "output_type": "stream",
          "name": "stdout",
          "text": [
            "Test-statistics: -10.10555078775598\n",
            "P-value: 8.12425753694926e-22\n"
          ]
        }
      ]
    },
    {
      "cell_type": "markdown",
      "source": [
        "The p-value is way less than the 5% level of significance.Therefore the mean actual time is different from mean segment time"
      ],
      "metadata": {
        "id": "0j0zUsbKPgc1"
      }
    },
    {
      "cell_type": "markdown",
      "source": [
        "#### Hypothesis testing between osrm time aggregated value and segment osrm time aggregated value and visualization\n",
        "\n",
        "**HO:mean  of osrm time(aggregated) is same as mean of segment osrm time(aggregated)**\n",
        "\n",
        "**H1:otherwise**"
      ],
      "metadata": {
        "id": "uYX8Gjh6P3MJ"
      }
    },
    {
      "cell_type": "code",
      "source": [
        "fig,ax=plt.subplots(nrows=1,ncols=2,figsize=(15,6))\n",
        "ax=ax.flatten()\n",
        "sns.histplot(x='osrm_time', data=data_trip,ax=ax[0],bins=40) # aggregate OSRM time\n",
        "ax[0].set_xlabel(\"OSRM time aggregated\")\n",
        "sns.histplot(x='segment_osrm_time_total',data=data_trip,ax=ax[1],bins=40) # segment aggregated osrm time\n",
        "ax[1].set_xlabel(\"Segment aggregated osrm time\")\n",
        "plt.show()"
      ],
      "metadata": {
        "colab": {
          "base_uri": "https://localhost:8080/",
          "height": 388
        },
        "id": "AHKf0KXzQKKY",
        "outputId": "6ca92d2e-d2f5-457c-9fcd-65485ec79470"
      },
      "execution_count": 63,
      "outputs": [
        {
          "output_type": "display_data",
          "data": {
            "text/plain": [
              "<Figure size 1080x432 with 2 Axes>"
            ],
            "image/png": "[encoded data removed]"
          },
          "metadata": {
            "needs_background": "light"
          }
        }
      ]
    },
    {
      "cell_type": "markdown",
      "source": [
        "The distributions are rightly skewed.The data contains outliers.The distribution are almost same"
      ],
      "metadata": {
        "id": "kwKjyn32QZtI"
      }
    },
    {
      "cell_type": "markdown",
      "source": [
        "### Confidence interval of osrm time aggregated and segement osrm time aggregated\n",
        "\n",
        "\n"
      ],
      "metadata": {
        "id": "ypkoiOSgQjWB"
      }
    },
    {
      "cell_type": "code",
      "source": [
        "# find confidence interval\n",
        "means_segment=[]\n",
        "means_osrm=[]\n",
        "nsim=1000 # 100 bootstrap simulations\n",
        "sample_size=100 # sample size is 100\n",
        "for _ in range(nsim):\n",
        "  sample=data_trip['segment_osrm_time_total'].sample(sample_size)\n",
        "  means_segment.append(sum(sample)/len(sample))\n",
        "\n",
        "  sample=data_trip['osrm_time'].sample(sample_size)\n",
        "  means_osrm.append(sum(sample)/len(sample))\n",
        "\n",
        "\n",
        "# confidence interval for means\n",
        "interval_segment=[np.percentile(means_segment,2.5),np.percentile(means_segment,97.5)] # 2.5th and 97.5th percentiles ,with 5% level of significance\n",
        "interval_osrm=[np.percentile(means_osrm,2.5),np.percentile(means_osrm,97.5)]\n",
        "\n",
        "print(\"Confidence interval for segment osrm time(aggregated): \",interval_segment)\n",
        "print(\"Confidence interval for OSRM time(aggregated): \",interval_osrm)\n",
        "\n"
      ],
      "metadata": {
        "colab": {
          "base_uri": "https://localhost:8080/"
        },
        "id": "mMAD2KNNQCnN",
        "outputId": "e5893fa0-646d-4e27-9005-eec152df96f1"
      },
      "execution_count": 64,
      "outputs": [
        {
          "output_type": "stream",
          "name": "stdout",
          "text": [
            "Confidence interval for segment osrm time(aggregated):  [65.00775, 86.153]\n",
            "Confidence interval for OSRM time(aggregated):  [23.0595, 30.730999999999998]\n"
          ]
        }
      ]
    },
    {
      "cell_type": "markdown",
      "source": [
        "Confidence intervals are not.Time taken by delivery as per segment OSRM time is way less than the time taken by delivery as per osrm time. "
      ],
      "metadata": {
        "id": "sNRz2HNxRGUf"
      }
    },
    {
      "cell_type": "code",
      "source": [
        "# first remove outliers\n",
        "Q1=data_trip['segment_osrm_time_total'].quantile(0.25) \n",
        "Q3=data_trip['segment_osrm_time_total'].quantile(0.75)\n",
        "IQR=Q3-Q1\n",
        "segment=data_trip['segment_osrm_time_total']\n",
        "logical=((Q1-1.5*IQR)<segment ) & (segment<(Q3+1.5*IQR))\n",
        "segment_data=data_trip['segment_osrm_time_total'][logical]\n",
        "\n",
        "# similarly do for od time\n",
        "Q1=data_trip['osrm_time'].quantile(0.25) \n",
        "Q3=data_trip['osrm_time'].quantile(0.75)\n",
        "IQR=Q3-Q1\n",
        "osrm=data_trip['osrm_time']\n",
        "logical=((Q1-1.5*IQR)<osrm ) & (osrm<(Q3+1.5*IQR))\n",
        "osrm_data=data_trip['osrm_time'][logical]\n",
        "test_statistics,p_value=st.ttest_ind(osrm_data,segment_data,\n",
        "                                     equal_var=True, random_state=2022, alternative='two-sided')\n",
        "print(\"Test-statistics:\",test_statistics)\n",
        "print(\"P-value:\",p_value)\n"
      ],
      "metadata": {
        "colab": {
          "base_uri": "https://localhost:8080/"
        },
        "id": "UW5rDZNr84GJ",
        "outputId": "591779a0-562e-4fb1-b387-8c470e3869af"
      },
      "execution_count": 65,
      "outputs": [
        {
          "output_type": "stream",
          "name": "stdout",
          "text": [
            "Test-statistics: -17.56295705456822\n",
            "P-value: 1.6290285454404585e-59\n"
          ]
        }
      ]
    },
    {
      "cell_type": "markdown",
      "source": [
        "According to p-value the means are not same."
      ],
      "metadata": {
        "id": "25qG5NWYR14k"
      }
    },
    {
      "cell_type": "markdown",
      "source": [
        "### Hypothesis testing between osrm distance aggregated value and segment osrm distance aggregated value and visualization.\n",
        "\n",
        "**Ho: osrm mean distance is same as osrm segmented distance**\n",
        "\n",
        "**H1:otherwise**"
      ],
      "metadata": {
        "id": "JufwQqNhStfm"
      }
    },
    {
      "cell_type": "code",
      "source": [
        "fig,ax=plt.subplots(nrows=1,ncols=2,figsize=(15,6))\n",
        "ax=ax.flatten()\n",
        "sns.histplot(x='osrm_distance', data=data_trip,ax=ax[0],bins=40) # aggregate OSRM distance\n",
        "ax[0].set_xlabel(\"OSRM distance aggregated\")\n",
        "sns.histplot(x='segment_osrm_distance_total',data=data_trip,ax=ax[1],bins=40) # segment aggregated osrm distance\n",
        "ax[1].set_xlabel(\"Segment aggregated osrm distance\")\n",
        "plt.show()"
      ],
      "metadata": {
        "colab": {
          "base_uri": "https://localhost:8080/",
          "height": 388
        },
        "id": "BVnRuu21RrvO",
        "outputId": "36eb52f3-65b8-414d-e021-982201bd976b"
      },
      "execution_count": 66,
      "outputs": [
        {
          "output_type": "display_data",
          "data": {
            "text/plain": [
              "<Figure size 1080x432 with 2 Axes>"
            ],
            "image/png": "[encoded data removed]"
          },
          "metadata": {
            "needs_background": "light"
          }
        }
      ]
    },
    {
      "cell_type": "markdown",
      "source": [
        "right skewd distributions.Have outliers.we will remove them before carrying any t-test."
      ],
      "metadata": {
        "id": "TUOBXlF6TFBY"
      }
    },
    {
      "cell_type": "markdown",
      "source": [
        "### Confidence interval of osrm distance aggregated and segement osrm distance aggregated\n"
      ],
      "metadata": {
        "id": "uKTToNiZTT7p"
      }
    },
    {
      "cell_type": "code",
      "source": [
        "# find confidence interval\n",
        "means_segment=[]\n",
        "means_osrm=[]\n",
        "nsim=1000 # 100 bootstrap simulations\n",
        "sample_size=100 # sample size is 100\n",
        "for _ in range(nsim):\n",
        "  sample=data_trip['segment_osrm_distance_total'].sample(sample_size)\n",
        "  means_segment.append(sum(sample)/len(sample))\n",
        "\n",
        "  sample=data_trip['osrm_time'].sample(sample_size)\n",
        "  means_osrm.append(sum(sample)/len(sample))\n",
        "\n",
        "\n",
        "# confidence interval for means\n",
        "interval_segment=[np.percentile(means_segment,2.5),np.percentile(means_segment,97.5)] # 2.5th and 97.5th percentiles ,with 5% level of significance\n",
        "interval_osrm=[np.percentile(means_osrm,2.5),np.percentile(means_osrm,97.5)]\n",
        "\n",
        "print(\"Confidence interval for segment osrm distance(aggregated): \",interval_segment)\n",
        "print(\"Confidence interval for OSRM distance(aggregated): \",interval_osrm)\n",
        "\n"
      ],
      "metadata": {
        "colab": {
          "base_uri": "https://localhost:8080/"
        },
        "id": "-BRfw1n9TDm4",
        "outputId": "6f640c2b-911b-4f64-cfaf-c20c4423bd71"
      },
      "execution_count": 67,
      "outputs": [
        {
          "output_type": "stream",
          "name": "stdout",
          "text": [
            "Confidence interval for segment osrm distance(aggregated):  [71.52735435000002, 100.67660464999999]\n",
            "Confidence interval for OSRM distance(aggregated):  [23.17975, 30.34]\n"
          ]
        }
      ]
    },
    {
      "cell_type": "markdown",
      "source": [
        "The mean OSRM distance is relatively less than the mean segment osrm distance "
      ],
      "metadata": {
        "id": "7F9NJoxlTlhR"
      }
    },
    {
      "cell_type": "code",
      "source": [
        "# first remove outliers\n",
        "Q1=data_trip['segment_osrm_distance_total'].quantile(0.25) \n",
        "Q3=data_trip['segment_osrm_distance_total'].quantile(0.75)\n",
        "IQR=Q3-Q1\n",
        "segment=data_trip['segment_osrm_distance_total']\n",
        "logical=((Q1-1.5*IQR)<segment ) & (segment<(Q3+1.5*IQR))\n",
        "segment_data=data_trip['segment_osrm_distance_total'][logical]\n",
        "\n",
        "# similarly do for od time\n",
        "Q1=data_trip['osrm_distance'].quantile(0.25) \n",
        "Q3=data_trip['osrm_distance'].quantile(0.75)\n",
        "IQR=Q3-Q1\n",
        "osrm=data_trip['osrm_distance']\n",
        "logical=((Q1-1.5*IQR)<osrm ) & (osrm<(Q3+1.5*IQR))\n",
        "osrm_data=data_trip['osrm_distance'][logical]\n",
        "test_statistics,p_value=st.ttest_ind(osrm_data,segment_data,\n",
        "                                     equal_var=True, random_state=2022, alternative='two-sided')\n",
        "print(\"Test-statistics:\",test_statistics)\n",
        "print(\"P-value:\",p_value)\n"
      ],
      "metadata": {
        "colab": {
          "base_uri": "https://localhost:8080/"
        },
        "id": "qwRBBYXwTju9",
        "outputId": "57663504-4837-42b7-c583-2a9fb93c884b"
      },
      "execution_count": 68,
      "outputs": [
        {
          "output_type": "stream",
          "name": "stdout",
          "text": [
            "Test-statistics: -16.971438595307465\n",
            "P-value: 4.137727991255941e-56\n"
          ]
        }
      ]
    },
    {
      "cell_type": "markdown",
      "source": [
        "According to p-value mean distances are not same as p-value is way less than 5% level of significance."
      ],
      "metadata": {
        "id": "zRzRvawFUaxr"
      }
    },
    {
      "cell_type": "markdown",
      "source": [
        "# Comparison & Visualization of time and distance fields:\n",
        "\n",
        "actual_distance_to_destination,\n",
        "       actual_time, osrm_time, osrm_distance,\n",
        "       segment_actual_time_total, segment_osrm_time_total,\n",
        "       segment_osrm_distance_total"
      ],
      "metadata": {
        "id": "oWKgSPE-U4Ma"
      }
    },
    {
      "cell_type": "markdown",
      "source": [
        "\n",
        "The relation between time and distance is distance=time*speed\n",
        "Here we can treat speed as a parameter.\n",
        "\n",
        "We can have scatter plot as well as correlation"
      ],
      "metadata": {
        "id": "9P4dEEjQVfTM"
      }
    },
    {
      "cell_type": "markdown",
      "source": [
        "### actual_distance_to_destination vs actual_time"
      ],
      "metadata": {
        "id": "KWHWWCxWqhdU"
      }
    },
    {
      "cell_type": "code",
      "source": [
        "\n",
        "# calcualting a linear fit \n",
        "p=np.polyfit(data_trip['actual_time'],data_trip['actual_distance_to_destination'],deg=1) # fitting a simple linear regression\n",
        "distance_pred=np.polyval(p,data_trip['actual_time']) # predicted distance\n",
        "\n",
        "plt.scatter(data_trip['actual_time'],data_trip['actual_distance_to_destination'])\n",
        "plt.plot(data_trip['actual_time'],distance_pred,color='r')\n",
        "plt.xlabel('time[minute]')\n",
        "plt.ylabel('distance[km]')\n",
        "plt.title(\"time vs distance\")\n",
        "plt.show()\n"
      ],
      "metadata": {
        "id": "hVKFs9TDU8pd",
        "colab": {
          "base_uri": "https://localhost:8080/",
          "height": 295
        },
        "outputId": "95116905-baa2-44d4-a3b7-586cdd5f6924"
      },
      "execution_count": 73,
      "outputs": [
        {
          "output_type": "display_data",
          "data": {
            "text/plain": [
              "<Figure size 432x288 with 1 Axes>"
            ],
            "image/png": "[encoded data removed]"
          },
          "metadata": {
            "needs_background": "light"
          }
        }
      ]
    },
    {
      "cell_type": "markdown",
      "source": [
        "There are some distances(less than 50km) taken longest time.This might be due to the fault in the delivery or technical glitch."
      ],
      "metadata": {
        "id": "DhyGzzDxs3YW"
      }
    },
    {
      "cell_type": "markdown",
      "source": [
        "### osrm_time vs osrm_distance"
      ],
      "metadata": {
        "id": "QAqTAsbJue-l"
      }
    },
    {
      "cell_type": "code",
      "source": [
        "# calcualting a linear fit \n",
        "p=np.polyfit(data_trip['osrm_time'],data_trip['osrm_distance'],deg=1) # fitting a simple linear regression\n",
        "distance_pred=np.polyval(p,data_trip['osrm_time']) # predicted distance\n",
        "\n",
        "plt.scatter(data_trip['osrm_time'],data_trip['osrm_distance'])\n",
        "plt.plot(data_trip['osrm_time'],distance_pred,color='r')\n",
        "plt.xlabel('time[minute]')\n",
        "plt.ylabel('distance[km]')\n",
        "plt.title(\"OSRM time vs OSRM distance\")\n",
        "plt.show()\n"
      ],
      "metadata": {
        "colab": {
          "base_uri": "https://localhost:8080/",
          "height": 295
        },
        "id": "Y1fKO6RNqGmv",
        "outputId": "f1ca1f82-d42b-4852-fca8-3ed1803b01d3"
      },
      "execution_count": 76,
      "outputs": [
        {
          "output_type": "display_data",
          "data": {
            "text/plain": [
              "<Figure size 432x288 with 1 Axes>"
            ],
            "image/png": "[encoded data removed]"
          },
          "metadata": {
            "needs_background": "light"
          }
        }
      ]
    },
    {
      "cell_type": "markdown",
      "source": [
        "The line almost perfectly fit the data.More time taken,more distance to cover."
      ],
      "metadata": {
        "id": "SyT8-Rqbu8_C"
      }
    },
    {
      "cell_type": "markdown",
      "source": [
        "### segment_osrm_time_total vs segment_osrm_distance_total"
      ],
      "metadata": {
        "id": "PJ1FdHZCvkzl"
      }
    },
    {
      "cell_type": "code",
      "source": [
        "# calcualting a linear fit \n",
        "p=np.polyfit(data_trip['segment_osrm_time_total'],data_trip['segment_osrm_distance_total'],deg=1) # fitting a simple linear regression\n",
        "distance_pred=np.polyval(p,data_trip['segment_osrm_time_total']) # predicted distance\n",
        "\n",
        "plt.scatter(data_trip['segment_osrm_time_total'],data_trip['segment_osrm_distance_total'])\n",
        "plt.plot(data_trip['segment_osrm_time_total'],distance_pred,color='r')\n",
        "plt.xlabel('time[minute]')\n",
        "plt.ylabel('distance[km]')\n",
        "plt.title(\"OSRM segment time vs OSRM segment distance [aggregated]\")\n",
        "plt.show()\n"
      ],
      "metadata": {
        "colab": {
          "base_uri": "https://localhost:8080/",
          "height": 295
        },
        "id": "ExDqi6Uqva7l",
        "outputId": "d2e09422-89b1-4160-8620-1c0d1e213483"
      },
      "execution_count": 79,
      "outputs": [
        {
          "output_type": "display_data",
          "data": {
            "text/plain": [
              "<Figure size 432x288 with 1 Axes>"
            ],
            "image/png": "[encoded data removed]"
          },
          "metadata": {
            "needs_background": "light"
          }
        }
      ]
    },
    {
      "cell_type": "markdown",
      "source": [
        "Here also the line almost perfectly the data.More segment time,more segment distance to cover."
      ],
      "metadata": {
        "id": "cG-imM2xwBkj"
      }
    },
    {
      "cell_type": "markdown",
      "source": [
        "# Column Normalization /Column Standardization using StandardScaler:\n",
        "\n",
        "StandardScaler normalize the data so that mean of each column(attributes) becomes zero and variance becomes 1"
      ],
      "metadata": {
        "id": "xjphN82zwO9c"
      }
    },
    {
      "cell_type": "code",
      "source": [
        "cols_to_standarized=['start_scan_to_end_scan',\n",
        "       'od_start_end_time_minute', 'actual_distance_to_destination',\n",
        "       'actual_time', 'osrm_time', 'osrm_distance',\n",
        "       'segment_actual_time_total', 'segment_osrm_time_total',\n",
        "       'segment_osrm_distance_total']\n",
        "\n",
        "scaler=StandardScaler()\n",
        "data_scaled=scaler.fit_transform(data_trip[cols_to_standarized])\n",
        "data_scaled"
      ],
      "metadata": {
        "colab": {
          "base_uri": "https://localhost:8080/"
        },
        "id": "DQ5lsyAFvhlH",
        "outputId": "d97f8c7f-f016-441f-ca03-7c3bea66e6ca"
      },
      "execution_count": 82,
      "outputs": [
        {
          "output_type": "execute_result",
          "data": {
            "text/plain": [
              "array([[-5.76110513e-04, -1.22644075e-03,  5.88713848e-01, ...,\n",
              "         6.91425797e-01,  8.59330823e-01,  6.71684125e-01],\n",
              "       [-1.80620579e-01, -1.83841438e-01, -3.97347755e-01, ...,\n",
              "         6.02245751e-01, -4.02978713e-01, -3.63428751e-01],\n",
              "       [-1.47454492e-01, -1.44280784e-01,  2.01589614e-01, ...,\n",
              "        -1.26057958e-01, -3.11727421e-01, -7.45048332e-02],\n",
              "       ...,\n",
              "       [-6.73373860e-01, -6.75596835e-01, -2.30452223e-01, ...,\n",
              "        -2.37533016e-01, -4.33395810e-01, -2.27711657e-01],\n",
              "       [-6.73373860e-01, -6.72652145e-01, -3.22180719e-01, ...,\n",
              "        -2.82123039e-01, -3.87770164e-01, -4.64441824e-01],\n",
              "       [-5.17019454e-01, -5.13527397e-01, -6.00903971e-01, ...,\n",
              "        -7.28023269e-01, -6.46315491e-01, -6.48967122e-01]])"
            ]
          },
          "metadata": {},
          "execution_count": 82
        }
      ]
    },
    {
      "cell_type": "code",
      "source": [
        "data_scaled.mean(axis=0)"
      ],
      "metadata": {
        "colab": {
          "base_uri": "https://localhost:8080/"
        },
        "id": "GwCqDjZIxCAT",
        "outputId": "cd7bd5ae-44c4-4037-f4c5-327fe3980d0f"
      },
      "execution_count": 83,
      "outputs": [
        {
          "output_type": "execute_result",
          "data": {
            "text/plain": [
              "array([-5.21362594e-17, -2.27165130e-16, -1.07996537e-16,  8.19284077e-17,\n",
              "        4.84122409e-17,  3.72401853e-18,  1.06134528e-16, -7.07563521e-17,\n",
              "        7.44803706e-17])"
            ]
          },
          "metadata": {},
          "execution_count": 83
        }
      ]
    },
    {
      "cell_type": "code",
      "source": [
        "data_scaled.var(axis=0)"
      ],
      "metadata": {
        "colab": {
          "base_uri": "https://localhost:8080/"
        },
        "id": "HUHuNn_PxFX1",
        "outputId": "68523f19-92f2-4175-cb75-929084ea5c5b"
      },
      "execution_count": 84,
      "outputs": [
        {
          "output_type": "execute_result",
          "data": {
            "text/plain": [
              "array([1., 1., 1., 1., 1., 1., 1., 1., 1.])"
            ]
          },
          "metadata": {},
          "execution_count": 84
        }
      ]
    },
    {
      "cell_type": "markdown",
      "source": [
        "# Recommendation:\n",
        "\n",
        "1. There is a huge discrepency between OSRM and actual parameters thats need to be investigated.\n",
        "\n",
        "2. There are distances(less than 50km) takes lot of time to deliver the product.Investigation is needed.\n",
        "\n",
        "3. Sotuh,North and west have heavy presence but on the other hand east,central corridors have less presence.It would be worth if we increase our presense in these regions.\n",
        "\n",
        "4. Maharash being heighest in terms of production as well as deliveries followed by Karnataka.\n",
        "\n",
        "5. Unfortunately Delhi being capital city has less presence compared to Maharashtra,Karnataka.We need to our increase in Delhi.\n",
        "\n",
        "6. We have very limited presence in states like Uttrakhand,Chhatisgarh,Goa,Jammu and Kashmir.It would be worth if we increase our presence.\n",
        "\n",
        "\n",
        "                                                          Thats All until next time"
      ],
      "metadata": {
        "id": "ikOTl-KeyuVl"
      }
    },
    {
      "cell_type": "code",
      "source": [],
      "metadata": {
        "id": "icrT4UWKyr9E"
      },
      "execution_count": null,
      "outputs": []
    }
  ]
}