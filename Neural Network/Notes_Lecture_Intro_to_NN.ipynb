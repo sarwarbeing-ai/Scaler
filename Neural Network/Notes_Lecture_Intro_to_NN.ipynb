{
  "nbformat": 4,
  "nbformat_minor": 0,
  "metadata": {
    "colab": {
      "provenance": [],
      "toc_visible": true
    },
    "kernelspec": {
      "name": "python3",
      "display_name": "Python 3"
    },
    "language_info": {
      "name": "python"
    }
  },
  "cells": [
    {
      "cell_type": "markdown",
      "source": [
        "## Content"
      ],
      "metadata": {
        "id": "R7KidcCe0Lvx"
      }
    },
    {
      "cell_type": "markdown",
      "source": [
        "- **Pulse Check**\n",
        "    - Evaluate the candidature of algos learnt so far\n",
        "\n",
        "- **NN in daily life**\n",
        "    - How Google Ads uses NN?\n",
        "    - How NN helps in data compression\n",
        "    - How NN enhances the images?\n",
        "    - How NN are used in Gmail ? \n",
        "\n",
        "- **Inspiration from Biological Model**\n",
        "    - Understanding Neuron\n",
        "    - ANN: Artificial Neural network\n",
        "    - Terminology\n",
        "    - Logistic Regression as NN\n",
        "        - Representing Log. Reg as a neuron\n",
        "\n",
        "- **Brief history of ANN**\n",
        "    - How NN fare against classical ML (based on training data)? \n"
      ],
      "metadata": {
        "id": "61crXPwqxqM9"
      }
    },
    {
      "cell_type": "markdown",
      "source": [
        "***"
      ],
      "metadata": {
        "id": "BTFPIy3KzJxY"
      }
    },
    {
      "cell_type": "markdown",
      "metadata": {
        "id": "MDBQVUcurEVo"
      },
      "source": [
        "## Reading the data"
      ]
    },
    {
      "cell_type": "markdown",
      "source": [
        "\n",
        "\n",
        "Since we're trying to understand the fundamentals of Neural Networks. \n",
        "\n",
        "For this lecture, we are taking a toy data instead of a Business Usecase.\n",
        "\n",
        "\n"
      ],
      "metadata": {
        "id": "TcObPls1n_AW"
      }
    },
    {
      "cell_type": "code",
      "source": [
        "import pandas as pd\n",
        "import matplotlib.pyplot as plt\n",
        "import numpy as np\n",
        "\n",
        "!gdown 1dLOPwh01o3k8p_hK633ixhD1ehz6nNWk \n",
        "df = pd.read_csv(\"/content/spiral.csv\")\n",
        "df.head()"
      ],
      "metadata": {
        "id": "9htvmh_BoB71",
        "colab": {
          "base_uri": "https://localhost:8080/",
          "height": 278
        },
        "outputId": "e3e23aca-be04-4652-c4b4-65afed1ccf9c"
      },
      "execution_count": null,
      "outputs": [
        {
          "output_type": "stream",
          "name": "stdout",
          "text": [
            "Downloading...\n",
            "From: https://drive.google.com/uc?id=1dLOPwh01o3k8p_hK633ixhD1ehz6nNWk\n",
            "To: /content/spiral.csv\n",
            "\r  0% 0.00/12.9k [00:00<?, ?B/s]\r100% 12.9k/12.9k [00:00<00:00, 15.5MB/s]\n"
          ]
        },
        {
          "output_type": "execute_result",
          "data": {
            "text/plain": [
              "         x1        x2  y\n",
              "0  0.000000  0.000000  0\n",
              "1 -0.000650  0.010080  0\n",
              "2  0.009809  0.017661  0\n",
              "3  0.007487  0.029364  0\n",
              "4 -0.000027  0.040404  0"
            ],
            "text/html": [
              "\n",
              "  <div id=\"df-e6904f3e-e6d6-48b7-bc90-ecfca4ae6a39\">\n",
              "    <div class=\"colab-df-container\">\n",
              "      <div>\n",
              "<style scoped>\n",
              "    .dataframe tbody tr th:only-of-type {\n",
              "        vertical-align: middle;\n",
              "    }\n",
              "\n",
              "    .dataframe tbody tr th {\n",
              "        vertical-align: top;\n",
              "    }\n",
              "\n",
              "    .dataframe thead th {\n",
              "        text-align: right;\n",
              "    }\n",
              "</style>\n",
              "<table border=\"1\" class=\"dataframe\">\n",
              "  <thead>\n",
              "    <tr style=\"text-align: right;\">\n",
              "      <th></th>\n",
              "      <th>x1</th>\n",
              "      <th>x2</th>\n",
              "      <th>y</th>\n",
              "    </tr>\n",
              "  </thead>\n",
              "  <tbody>\n",
              "    <tr>\n",
              "      <th>0</th>\n",
              "      <td>0.000000</td>\n",
              "      <td>0.000000</td>\n",
              "      <td>0</td>\n",
              "    </tr>\n",
              "    <tr>\n",
              "      <th>1</th>\n",
              "      <td>-0.000650</td>\n",
              "      <td>0.010080</td>\n",
              "      <td>0</td>\n",
              "    </tr>\n",
              "    <tr>\n",
              "      <th>2</th>\n",
              "      <td>0.009809</td>\n",
              "      <td>0.017661</td>\n",
              "      <td>0</td>\n",
              "    </tr>\n",
              "    <tr>\n",
              "      <th>3</th>\n",
              "      <td>0.007487</td>\n",
              "      <td>0.029364</td>\n",
              "      <td>0</td>\n",
              "    </tr>\n",
              "    <tr>\n",
              "      <th>4</th>\n",
              "      <td>-0.000027</td>\n",
              "      <td>0.040404</td>\n",
              "      <td>0</td>\n",
              "    </tr>\n",
              "  </tbody>\n",
              "</table>\n",
              "</div>\n",
              "      <button class=\"colab-df-convert\" onclick=\"convertToInteractive('df-e6904f3e-e6d6-48b7-bc90-ecfca4ae6a39')\"\n",
              "              title=\"Convert this dataframe to an interactive table.\"\n",
              "              style=\"display:none;\">\n",
              "        \n",
              "  <svg xmlns=\"http://www.w3.org/2000/svg\" height=\"24px\"viewBox=\"0 0 24 24\"\n",
              "       width=\"24px\">\n",
              "    <path d=\"M0 0h24v24H0V0z\" fill=\"none\"/>\n",
              "    <path d=\"M18.56 5.44l.94 2.06.94-2.06 2.06-.94-2.06-.94-.94-2.06-.94 2.06-2.06.94zm-11 1L8.5 8.5l.94-2.06 2.06-.94-2.06-.94L8.5 2.5l-.94 2.06-2.06.94zm10 10l.94 2.06.94-2.06 2.06-.94-2.06-.94-.94-2.06-.94 2.06-2.06.94z\"/><path d=\"M17.41 7.96l-1.37-1.37c-.4-.4-.92-.59-1.43-.59-.52 0-1.04.2-1.43.59L10.3 9.45l-7.72 7.72c-.78.78-.78 2.05 0 2.83L4 21.41c.39.39.9.59 1.41.59.51 0 1.02-.2 1.41-.59l7.78-7.78 2.81-2.81c.8-.78.8-2.07 0-2.86zM5.41 20L4 18.59l7.72-7.72 1.47 1.35L5.41 20z\"/>\n",
              "  </svg>\n",
              "      </button>\n",
              "      \n",
              "  <style>\n",
              "    .colab-df-container {\n",
              "      display:flex;\n",
              "      flex-wrap:wrap;\n",
              "      gap: 12px;\n",
              "    }\n",
              "\n",
              "    .colab-df-convert {\n",
              "      background-color: #E8F0FE;\n",
              "      border: none;\n",
              "      border-radius: 50%;\n",
              "      cursor: pointer;\n",
              "      display: none;\n",
              "      fill: #1967D2;\n",
              "      height: 32px;\n",
              "      padding: 0 0 0 0;\n",
              "      width: 32px;\n",
              "    }\n",
              "\n",
              "    .colab-df-convert:hover {\n",
              "      background-color: #E2EBFA;\n",
              "      box-shadow: 0px 1px 2px rgba(60, 64, 67, 0.3), 0px 1px 3px 1px rgba(60, 64, 67, 0.15);\n",
              "      fill: #174EA6;\n",
              "    }\n",
              "\n",
              "    [theme=dark] .colab-df-convert {\n",
              "      background-color: #3B4455;\n",
              "      fill: #D2E3FC;\n",
              "    }\n",
              "\n",
              "    [theme=dark] .colab-df-convert:hover {\n",
              "      background-color: #434B5C;\n",
              "      box-shadow: 0px 1px 3px 1px rgba(0, 0, 0, 0.15);\n",
              "      filter: drop-shadow(0px 1px 2px rgba(0, 0, 0, 0.3));\n",
              "      fill: #FFFFFF;\n",
              "    }\n",
              "  </style>\n",
              "\n",
              "      <script>\n",
              "        const buttonEl =\n",
              "          document.querySelector('#df-e6904f3e-e6d6-48b7-bc90-ecfca4ae6a39 button.colab-df-convert');\n",
              "        buttonEl.style.display =\n",
              "          google.colab.kernel.accessAllowed ? 'block' : 'none';\n",
              "\n",
              "        async function convertToInteractive(key) {\n",
              "          const element = document.querySelector('#df-e6904f3e-e6d6-48b7-bc90-ecfca4ae6a39');\n",
              "          const dataTable =\n",
              "            await google.colab.kernel.invokeFunction('convertToInteractive',\n",
              "                                                     [key], {});\n",
              "          if (!dataTable) return;\n",
              "\n",
              "          const docLinkHtml = 'Like what you see? Visit the ' +\n",
              "            '<a target=\"_blank\" href=https://colab.research.google.com/notebooks/data_table.ipynb>data table notebook</a>'\n",
              "            + ' to learn more about interactive tables.';\n",
              "          element.innerHTML = '';\n",
              "          dataTable['output_type'] = 'display_data';\n",
              "          await google.colab.output.renderOutput(dataTable, element);\n",
              "          const docLink = document.createElement('div');\n",
              "          docLink.innerHTML = docLinkHtml;\n",
              "          element.appendChild(docLink);\n",
              "        }\n",
              "      </script>\n",
              "    </div>\n",
              "  </div>\n",
              "  "
            ]
          },
          "metadata": {},
          "execution_count": 1
        }
      ]
    },
    {
      "cell_type": "markdown",
      "source": [
        "#### Question: How many feautres and target variables do we have ? "
      ],
      "metadata": {
        "id": "TILd5E6nE13c"
      }
    },
    {
      "cell_type": "markdown",
      "source": [
        "So, our data consists of:-\n",
        "- two features: `x1` and `x2`\n",
        "- target variable: `y`\n",
        " - `y` can take 3 unique values i.e. `0, 1 or 2`\n",
        " - For ease, lets call these classes - `A, B, and C`"
      ],
      "metadata": {
        "id": "u2upHJgWrFt6"
      }
    },
    {
      "cell_type": "markdown",
      "source": [
        "#### How many datapoints do we have ? "
      ],
      "metadata": {
        "id": "gRPis_rhFSjR"
      }
    },
    {
      "cell_type": "code",
      "source": [
        "df.shape"
      ],
      "metadata": {
        "id": "aSc9qZ5TFVSg"
      },
      "execution_count": null,
      "outputs": []
    },
    {
      "cell_type": "markdown",
      "source": [
        "#### Visualizing the data"
      ],
      "metadata": {
        "id": "7a6a6Ov5FkzN"
      }
    },
    {
      "cell_type": "markdown",
      "source": [
        "The reason we have taken up this dataset is \n",
        "- we can easily visualize it using 2D plots."
      ],
      "metadata": {
        "id": "c2sWc3s5Faip"
      }
    },
    {
      "cell_type": "markdown",
      "source": [
        "Let's plot this data in a scatter plot."
      ],
      "metadata": {
        "id": "ZhD4IFFiqg9F"
      }
    },
    {
      "cell_type": "code",
      "execution_count": null,
      "metadata": {
        "id": "BN4y_r5NrEVt",
        "outputId": "970e4f1d-c75a-4c88-d313-38b983288d39",
        "colab": {
          "base_uri": "https://localhost:8080/",
          "height": 269
        }
      },
      "outputs": [
        {
          "output_type": "display_data",
          "data": {
            "text/plain": [
              "<Figure size 432x288 with 1 Axes>"
            ],
            "image/png": "[encoded data removed]"
          },
          "metadata": {
            "needs_background": "light"
          }
        }
      ],
      "source": [
        "plt.scatter(df[\"x1\"], df[\"x2\"], c=df[\"y\"], s=40, cmap=plt.cm.Spectral)\n",
        "plt.show()"
      ]
    },
    {
      "cell_type": "markdown",
      "source": [
        "\n",
        "#### Question: What are some characteristics of this dataset that we should notice before training a classifier?\n",
        "\n",
        "1. Multi-class classification\n",
        "2. Non-linear decision boundary"
      ],
      "metadata": {
        "id": "dWhiPS0WGVyZ"
      }
    },
    {
      "cell_type": "markdown",
      "source": [
        "Based on this, let's evaluate what ML algo we can use to classify our data"
      ],
      "metadata": {
        "id": "RRztJHn2Gd3d"
      }
    },
    {
      "cell_type": "markdown",
      "metadata": {
        "id": "ulHCBgfyrEVw"
      },
      "source": [
        "\n",
        "\n",
        "\n",
        "\n",
        "## Evaluate the candidature of algorithms that we discussed until now\n",
        "\n"
      ]
    },
    {
      "cell_type": "markdown",
      "source": [
        "#### 1. Logistic Regression \n",
        "- **Multi-class?** cannot work with multi-class - although we can use one-V-one or one-V-rest scheme\n",
        "\n",
        "- **Non-linear?**  creates a linear decision boundary only of the form Ax + By = C; can alternately use Polynomial Regression.\n",
        "\n",
        "- **Problem:** Would need to perform \"manual\" feature engineering and create a complex decision boundary. <br>\n",
        "\n"
      ],
      "metadata": {
        "id": "m0E4YdJgG76y"
      }
    },
    {
      "cell_type": "markdown",
      "source": [
        "#### 2. KNN\n",
        "- **Multi-class?** can work\n",
        "- **Non-linear?**  can handle\n",
        "- **Problem:** Based on geometry, the closest points may belong to diff class if the spiral were close\n",
        "\n",
        "The bigger problem is that it is non parametric and inference time increases with increase in train data.\n",
        "\n"
      ],
      "metadata": {
        "id": "0IeJ1FgyG_Fx"
      }
    },
    {
      "cell_type": "markdown",
      "source": [
        "#### 3. Trees\n",
        "- **Multi-class?** can work\n",
        "\n",
        "- **Non-linear?** can work\n",
        "\n",
        "It would be okay for this problem. So just always for go for Trees?\n",
        "\n",
        "- **Problem:** If you remember, trees work poorly for sparse/image/text/speech data i.e. high dimensional data\n",
        "\n",
        "\n"
      ],
      "metadata": {
        "id": "DqVRAMHwHHd-"
      }
    },
    {
      "cell_type": "markdown",
      "source": [
        "#### 4. SVM\n",
        "- **Multi-class?** cannot work with multi-class - although we can one-V-one or one-V-rest scheme\n",
        "- **Non-linear?** can handle with kernel\n",
        "- **Problem:** cannot work with big datasets, we are living in big data regime (requires storing Kernel Matrix)\n",
        "\n",
        "    \n"
      ],
      "metadata": {
        "id": "eiy_JnW3HJEx"
      }
    },
    {
      "cell_type": "markdown",
      "source": [
        "<center><img src='https://drive.google.com/uc?id=1Pj1fNUjahIDxTAJXzIEygFsiz9BeI1sM' width=\"800\"></center>\n"
      ],
      "metadata": {
        "id": "hjMvrnPfjVq5"
      }
    },
    {
      "cell_type": "markdown",
      "source": [
        "Conclusion: **Clearly, all these algos have some limitations which calls for a more powerful ML model**\n",
        "\n",
        "**There is no one single model which is kinda solves a problem end-to-end\"**\n",
        "\n",
        "<br>\n",
        "\n",
        "---\n",
        "\n",
        "So, out of all the ML algo, we think\n",
        "- Log Reg. is strong candidate to be improved upon "
      ],
      "metadata": {
        "id": "4QwS6pDmHoEp"
      }
    },
    {
      "cell_type": "markdown",
      "source": [
        "#### What do we need to do to make Log. Reg powerful ?\n",
        "\n",
        "**Task 1:** Automate complex feature creation\n",
        "\n",
        "**Task 2:** Make it adaptive for multi-class classification"
      ],
      "metadata": {
        "id": "wd3L-TaaG5eK"
      }
    },
    {
      "cell_type": "markdown",
      "source": [
        "#### What if we had a model that did not need us to do manual feature engineering? \n",
        "\n",
        "#### What if I tell you that this model performs very well for high dimensional data as well?"
      ],
      "metadata": {
        "id": "LzxnDfbooCAS"
      }
    },
    {
      "cell_type": "markdown",
      "source": [
        "Let's see how Neural networks helps us in that procress.\n",
        "\n",
        "Before jumping into it, let's see how NN are helping us in everyday lives"
      ],
      "metadata": {
        "id": "kzeOR2p9zPym"
      }
    },
    {
      "cell_type": "markdown",
      "source": [
        "## NNs are changing our daily lives"
      ],
      "metadata": {
        "id": "HgGFFXhqDREh"
      }
    },
    {
      "cell_type": "markdown",
      "source": [
        "#### What if I tell you that NN models powers pretty much every minute of your digital life?"
      ],
      "metadata": {
        "id": "JLWnkK0asYg3"
      }
    },
    {
      "cell_type": "markdown",
      "source": [
        "If you want see how we use neural network in every task of our life, let's look at the epitome of AI: Google\n",
        "\n",
        "#### How google Ads uses Neural Nets?\n",
        "\n",
        "Google Ads make use of **Responsive Ads** to show relevent ads\n",
        "\n",
        "- Suppose you are searching for \"data science\" or maybe Gradient Descent Algo on youtube\n",
        "    - you'll start seeing \"Scaler\" ads.\n",
        "\n",
        "- Similarly, if you looking for some \"food recipies\" \n",
        "    - you'll start seeing \"zomato\" and \"swiggy\" ads.\n",
        "    - or maybe grocery delivery apps ads below the video.\n",
        "\n",
        "- Similarly, if you seach for \"furniture store near me\", google will put few top results as ads.\n",
        "\n",
        "This all is done using Neural Nets.\n",
        "\n",
        "\n",
        "\n",
        "<center><img src='https://drive.google.com/uc?id=1biF2pyzm9SQIUNqAs60mlox_P-N8LaAv' width=\"300\"></center>\n",
        "\n",
        "\n",
        "\n",
        "\n",
        "\n",
        "\n",
        "\n",
        "\n"
      ],
      "metadata": {
        "id": "WQrq2zdvDaqR"
      }
    },
    {
      "cell_type": "markdown",
      "source": [
        "<center><img src='https://drive.google.com/uc?id=1rmis8-Th2_5TthxsXI0yl61_IVSE-h75' width=\"800\"></center>"
      ],
      "metadata": {
        "id": "uVDbsQJFLWz4"
      }
    },
    {
      "cell_type": "markdown",
      "source": [
        "#### How Neural Nets help in data compression? "
      ],
      "metadata": {
        "id": "EnUdZyvENMl3"
      }
    },
    {
      "cell_type": "markdown",
      "source": [
        "<center><img src='https://drive.google.com/uc?id=12TZO2QbRrLuyERPvHSUPc1tUTWEJfppA' width=\"800\"></center>\n"
      ],
      "metadata": {
        "id": "heMtlTB8LU_x"
      }
    },
    {
      "cell_type": "markdown",
      "source": [
        "With the introduction of \"social media and streaming services\", user \"data generation has exploded\" in recent years\n",
        "\n",
        "- Storing all of this data for million of users is challenging part\n",
        "- So, companies compress this data using Neural nets (Auto encoders - which we will see later) in order to store them.\n",
        "\n"
      ],
      "metadata": {
        "id": "YawFxs6ZNpIj"
      }
    },
    {
      "cell_type": "markdown",
      "source": [
        "\n",
        "\n",
        "#### How Neural Nets enhance the images ? \n",
        "- Photos: Magic eraser \n",
        "\n",
        "It uses image segmentation which helps isolating the pixels of objects which we want to remove from the image\n",
        "\n",
        "\n",
        "<center><img src='https://drive.google.com/uc?id=15MCN3FXPBJTUkdjsN2rcvm0yKnUVd7jc' width=\"600\"></center>\n",
        "\n",
        "\n",
        "\n"
      ],
      "metadata": {
        "id": "hH4mKz-0QhnJ"
      }
    },
    {
      "cell_type": "markdown",
      "source": [
        "Here, each pixel will be classified/segmented into various classes\n",
        "\n",
        "For example:\n",
        "- all pixel belonging to water will be of class 0\n",
        "- human will belong to class 1\n",
        "- sand will belong to class 2 etc etc\n",
        "\n",
        "\n",
        "This is known as image segmentation"
      ],
      "metadata": {
        "id": "KZwfTZX1MQVk"
      }
    },
    {
      "cell_type": "markdown",
      "source": [
        "<center><img src='https://drive.google.com/uc?id=1Z7hw0vCLDps-MSNh5HhAUH7YLq3d9NtV' width=\"800\"></center>\n"
      ],
      "metadata": {
        "id": "YLUxPEE4L3cm"
      }
    },
    {
      "cell_type": "markdown",
      "source": [
        "#### How Neural Nets are used in Gmail ? \n",
        "- Gmail: Smart Reply, Auto complete (NLP)\n",
        "\n",
        "\n",
        "\n",
        "<center><img src='https://drive.google.com/uc?id=1bHcXbse5aECLQG1b-EKkB89AMP1y1HLy' width=\"600\"></center>"
      ],
      "metadata": {
        "id": "paNzK19PQb1J"
      }
    },
    {
      "cell_type": "markdown",
      "source": [
        "## Inspiration from Biological Neuron "
      ],
      "metadata": {
        "id": "acuDYqRTzTqy"
      }
    },
    {
      "cell_type": "markdown",
      "source": [
        "Lets now discuss how (and when) Neural Networks came into existence\n",
        "\n",
        "### Understanding Neuron"
      ],
      "metadata": {
        "id": "OGo_8-ANHM_A"
      }
    },
    {
      "cell_type": "markdown",
      "source": [
        "Let's go back to 10th grade science subject. Recall how a biological neuron (i.e. the cell found in brain and spine) works in the human body."
      ],
      "metadata": {
        "id": "DQsUVtu9fW6H"
      }
    },
    {
      "cell_type": "markdown",
      "source": [
        "\n",
        "![picture](https://drive.google.com/uc?export=view&id=1nNQlt0VjF3oMQs3KO8Z0djr_o4eHniT-)"
      ],
      "metadata": {
        "id": "UxvtZFDvfTru"
      }
    },
    {
      "cell_type": "markdown",
      "source": [
        "\n",
        "\n",
        "- A neuron has a lot of connections with other neurons, through **dendrites**.\n",
        "- These other neurons send electrical / electro-chemical signals via dendrites.\n",
        "- The neuron **processes** these signals, and sends them ahead to more neurons, through **axons**.\n",
        "\n",
        "\n",
        "- Some **dendrites are thicker** than the others\n",
        "- meaning some inputs are more important than the others.\n",
        "\n",
        "\n"
      ],
      "metadata": {
        "id": "uwQhamrZeNv2"
      }
    },
    {
      "cell_type": "markdown",
      "source": [
        "This mechanism of biological neurons, gave the basic inspiration for scientists to come up with the idea of creating **Artificial Neurons**, which led to the creation of the concept: **Neural Networks**.\n",
        "\n",
        "<br>\n"
      ],
      "metadata": {
        "id": "MOPRhpUKilYy"
      }
    },
    {
      "cell_type": "markdown",
      "source": [
        "### ANN (Artificial Neural Network)"
      ],
      "metadata": {
        "id": "7t3RjPtTbFg-"
      }
    },
    {
      "cell_type": "markdown",
      "source": [
        "\n",
        "#### What inspiration can we take from biological neuron?\n",
        "\n",
        "\n"
      ],
      "metadata": {
        "id": "pmEp5pGbXqut"
      }
    },
    {
      "cell_type": "markdown",
      "source": [
        "In simple terms, we understood that\n",
        "- Neuron takes input(s)\n",
        "- and peform some computations.\n",
        "- Ultimately, it fires/passes the output to further neurons."
      ],
      "metadata": {
        "id": "9DK8EwTrYCTd"
      }
    },
    {
      "cell_type": "markdown",
      "source": [
        "For example: Let's say there a **biological neuron whose job is to decide whether to touch an object or not**\n",
        "\n"
      ],
      "metadata": {
        "id": "rJ1WLZCchShf"
      }
    },
    {
      "cell_type": "markdown",
      "source": [
        "We'll get input from eyes in form of electro chemical signals.\n",
        "\n",
        "Suppose the inputs are:\n",
        "- Object's dimensions\n",
        "- probable temperature\n",
        "- known object or unknown\n",
        "\n",
        "Notice that these inputs are nothing but features in our machine learning.\n",
        "\n",
        "\n"
      ],
      "metadata": {
        "id": "ygu0kLt8iqK0"
      }
    },
    {
      "cell_type": "markdown",
      "source": [
        "<img src='https://drive.google.com/uc?id=1RvsvX9jZTIhFF_2mhQnJRQTqaUscSeB-' width=\"700\">\n"
      ],
      "metadata": {
        "id": "nkEF5SLBh2lI"
      }
    },
    {
      "cell_type": "markdown",
      "source": [
        "One of the feature here is **whether the object is known or not?**\n",
        "\n",
        "#### (Interact) Question: Aren't we all conditioned from our childhood to not go near or touch unknown objects.\n",
        "\n",
        "Let it be warning signs on airports or railway stations telling us not to touch unknown briefcases. \n",
        "\n",
        "**Notice the dendrite thickness for \"known/ unknown object\"**\n",
        "    - It signifies that the importance of familiarity of object plays significant role in decision making\n",
        "\n"
      ],
      "metadata": {
        "id": "m3PnGH1ykFeu"
      }
    },
    {
      "cell_type": "markdown",
      "source": [
        "Now, Imagine it is an known object (say, hot iron)\n",
        "\n",
        "- Most of us (out of curiosity) have touched an hot iron.\n",
        "- This may have been conditioned your brain (in other terms, build a neural path way) to be careful around iron or not to touch it from iron plate side or not to touch it all.\n",
        "\n",
        "Hence, dendrite for temperature is thick.\n",
        "\n"
      ],
      "metadata": {
        "id": "TkUUz2TqluAk"
      }
    },
    {
      "cell_type": "markdown",
      "source": [
        "<center><img src='https://drive.google.com/uc?id=14tp543NeEQ4SYJI22JcDos-SDLr6QRig' width=\"500\"></center>\n",
        "\n",
        "\n"
      ],
      "metadata": {
        "id": "zUoe81zbmgTR"
      }
    },
    {
      "cell_type": "markdown",
      "source": [
        "We recognized that sensory inputs are nothing but your **features** in machine learning. \n",
        "\n",
        "#### Question: What does thickness of dendrites represent in machine learning terms ? \n",
        "\n",
        "**Ans: Weights!**\n",
        "\n",
        "- Thick dendrites means more importance to the inputs.\n",
        "- Similarly, large weights means more signficance to the feature in decision making."
      ],
      "metadata": {
        "id": "CSKXuEYymooi"
      }
    },
    {
      "cell_type": "markdown",
      "source": [
        "Similarly, a neuron firing or activating is synonymous with activation function we have."
      ],
      "metadata": {
        "id": "OHR7et_aslDt"
      }
    },
    {
      "cell_type": "markdown",
      "source": [
        "Based on this, let's try to represent a neuron structure mathematically."
      ],
      "metadata": {
        "id": "W-mTEywOs15r"
      }
    },
    {
      "cell_type": "markdown",
      "source": [
        "#### How can we represent a neuron mathematically ? "
      ],
      "metadata": {
        "id": "7o0Sdsawa19e"
      }
    },
    {
      "cell_type": "markdown",
      "source": [
        "\n",
        "Consider an artificial neuron.\n",
        "- It receives input feature: $x_1, x_2, x_3$\n",
        "\n",
        "\n",
        "- Every input has a **weight** associated with it: $ w_1, w_2, w_3$\n",
        " - These weights are multiplied by the input values, thereby telling us how important a given input is to the neuron.\n",
        " - This is very similar to the linear model we've studied\n",
        "- Processes the inputs by taking weighted sum. Also, a **bias term** is added.\n",
        " - The net input becomes: $w_1x_1 + w_2x_2 + w_3x_3 + b = z$ (let)\n",
        "- There is a function, called as **activation function** $f$, which is associated with a neuron\n",
        " - The neuron applies this function on the net input value: $f(z) = f(w_1x_1 + w_2x_2 + w_3x_3 + b)$\n",
        "- The result of this function becomes the **output** $o_1 = f(z)$\n",
        " - This output is then forwarded to other neurons.\n",
        "\n",
        "\n"
      ],
      "metadata": {
        "id": "mwohQ4HjYBWO"
      }
    },
    {
      "cell_type": "markdown",
      "source": [
        "\n",
        "![picture](https://drive.google.com/uc?export=view&id=11o_HlmuaWDtPJzWPR-lgKSnOPaDpo3Eb)"
      ],
      "metadata": {
        "id": "k5voEIEusZ5p"
      }
    },
    {
      "cell_type": "markdown",
      "source": [
        "<br>\n",
        "\n",
        "Based on this work flow, you can see, that it is loosely based on the working of a biologial neuron.\n",
        "\n",
        "\n",
        "\n"
      ],
      "metadata": {
        "id": "PqLMUfHfsTuz"
      }
    },
    {
      "cell_type": "markdown",
      "source": [
        "### Terminology"
      ],
      "metadata": {
        "id": "-caNRLJctKpC"
      }
    },
    {
      "cell_type": "markdown",
      "source": [
        "Consider a dataset D,\n",
        "- with m training examples\n",
        "- where $i^{th}$ datapooint is represented using $x_i$\n",
        "- with d features features $[x_{i1}, x_{i2}, x_{i3},....  x_{id}]$\n",
        "- target variable as $y$\n",
        "- $y_i$ be the target variable of $i^{th}$ datapoint"
      ],
      "metadata": {
        "id": "buftCWqBycCV"
      }
    },
    {
      "cell_type": "markdown",
      "source": [
        "#### Question: What if the activation function of the neuron is sigmoid ? "
      ],
      "metadata": {
        "id": "t652JREWu2yK"
      }
    },
    {
      "cell_type": "markdown",
      "source": [
        "---\n",
        "\n",
        "### Logistic Regression as a NN"
      ],
      "metadata": {
        "id": "g26qrIU4wArl"
      }
    },
    {
      "cell_type": "markdown",
      "source": [
        "#### Question: Doesn't the formulation look familiar?\n",
        "\n",
        "If you look carefully, you will realise that **logistic regression** had the same formulation. \n",
        "\n",
        "\n"
      ],
      "metadata": {
        "id": "R-mvoz1gwHX8"
      }
    },
    {
      "cell_type": "markdown",
      "source": [
        "### Representing Logistic Regression as a neuron\n",
        "\n"
      ],
      "metadata": {
        "id": "01Hnr0bR35fT"
      }
    },
    {
      "cell_type": "markdown",
      "source": [
        "\n",
        "<br>\n",
        "\n",
        "Notice that, there are two parts to the computation\n",
        "- First is calculating the weighted sum of inputs\n",
        "- followed by sigmoid\n",
        "\n",
        "Diagrammatically, it can be shown as:-\n",
        "\n",
        "\n",
        "\n",
        "\n",
        "<center><img src='https://drive.google.com/uc?id=1RaCCkTB_ek0DMgUIvWn_lI0-9uFHNWiA' width=\"700\"></center>\n",
        "\n",
        "<br>\n"
      ],
      "metadata": {
        "id": "cloMBu39MF6c"
      }
    },
    {
      "cell_type": "markdown",
      "source": [
        "\n",
        "\n",
        "In a logistic regression NN model output is computed in 2 steps:-\n",
        "- Linear computation $z = w_1x_1 + w_2x_2 + ... + w_dx_d + b$\n",
        "- Activation function: $o_i = f(z) = sigmoid(z)$\n",
        "\n",
        "It combines the two operations of LogReg: linear combination followed by non-linearity (due to sigmoid).\n",
        "\n",
        "This is known as a **Logistic Regression Unit (LRU).**\n",
        "\n",
        "\n"
      ],
      "metadata": {
        "id": "FcxdlKogPJDO"
      }
    },
    {
      "cell_type": "markdown",
      "source": [
        "**Note:**\n",
        "\n",
        "Moving from input to output in neural network is called as **forward propagation**\n",
        "- In forward propagation, we calculate the predicted value and loss."
      ],
      "metadata": {
        "id": "ZogVLyLchbdf"
      }
    },
    {
      "cell_type": "markdown",
      "source": [
        "#### Representing neuron with 2 inputs"
      ],
      "metadata": {
        "id": "cCYLvcGPY-m8"
      }
    },
    {
      "cell_type": "markdown",
      "source": [
        "Since our dataset has 2 input features, let's represent a LRU with 2 feature input"
      ],
      "metadata": {
        "id": "7SUcSLaTZMF9"
      }
    },
    {
      "cell_type": "markdown",
      "source": [
        "<center><img src='https://drive.google.com/uc?id=1g7Ru0EIDzJphXgw7FfVBP1XfWX_td86R' width=\"700\"></center>\n",
        "\n",
        "\n"
      ],
      "metadata": {
        "id": "BlK6ouueh2-V"
      }
    },
    {
      "cell_type": "markdown",
      "source": [
        "We can write a neuron as \n",
        "\n",
        "**Neuron = Linear + Activation**\n",
        "\n",
        "where linear represent the additive mul of inputs and weights (wx + b)\n"
      ],
      "metadata": {
        "id": "SddyYYZy7ZYF"
      }
    },
    {
      "cell_type": "markdown",
      "source": [
        "---"
      ],
      "metadata": {
        "id": "0ewJj4YaAGB4"
      }
    },
    {
      "cell_type": "markdown",
      "source": [
        "#### Linear SVM as Neuron"
      ],
      "metadata": {
        "id": "icXPErNTtY6Q"
      }
    },
    {
      "cell_type": "markdown",
      "source": [
        "> **Q. What if the model looked the same, but the activation function is different? Would it still be called the same NN?**\n",
        "\n",
        "If we replace the activation function to **hinge loss function**, we get can get a model, that is essentially the same as **Linear SVM model**.\n",
        "\n",
        "SVM is nothing but a **hinge loss** and **L2 Regularization**, so yes, if we change the activation function to hinge loss, we can represent Linear SVM as a single neuron model as well.\n",
        "\n",
        "Forward propagation here would look like:-\n",
        "- $z = w_1x_1 + w_2x_2 + ... + w_dx_d + b$\n",
        "- $o_i = f_{hinge}(z)$\n",
        "\n",
        "<br>\n",
        "\n",
        "\n",
        "\n",
        "Until now, we have only seen single neuron models:-\n",
        "1. Logistic Regression Model\n",
        "2. Perceptron model\n",
        "3. Linear SVM model\n",
        "\n",
        "<br>\n",
        "\n",
        "If a single neuron is able to represent such powerful models, just imagine what will happen if we use multiple neurons. Those models would be able to represent really complex relations."
      ],
      "metadata": {
        "id": "Zp6dArqJAG-u"
      }
    },
    {
      "cell_type": "markdown",
      "source": [
        "**Funfact:** You'd be surprised that first NN based model (Perceptron) came in 1957\n",
        "\n",
        "\n",
        "The concept of Neural network isn't something new.\n",
        "- The very first simplest model that we can call NN based model is called **Perceptron**\n",
        "- It was designed by Rosenblatt in 1957.\n",
        "- It is loosly inspired from biological neuron.\n",
        "\n",
        "\n",
        "We'll see what Perceptron is and how it is similar to Logistic Regression (with small changes)."
      ],
      "metadata": {
        "id": "hMn44nUd0VAN"
      }
    },
    {
      "cell_type": "markdown",
      "source": [
        "## Brief history of Artificial Neural Networks"
      ],
      "metadata": {
        "id": "ee0J3idjjex5"
      }
    },
    {
      "cell_type": "markdown",
      "source": [
        "![picture](https://drive.google.com/uc?export=view&id=1zmXhs8FFFZ304skE9el_29NXQNbPCj3N)\n",
        "\n"
      ],
      "metadata": {
        "id": "55zxzgemNTTy"
      }
    },
    {
      "cell_type": "markdown",
      "source": [
        "Before diving into the topic of Neural networks and Deep learning, let's go through brief history of NN.\n",
        "\n",
        "\n"
      ],
      "metadata": {
        "id": "_pjKDLVUjhNA"
      }
    },
    {
      "cell_type": "markdown",
      "source": [
        "**But, we don't have a single neuron, right?**\n",
        "- typical brain has a network on neuron\n",
        "\n",
        "\n",
        "So, researcher tried looking for ways to mimic this complex network of neuron.\n",
        "\n",
        "<center><img src='https://drive.google.com/uc?id=1B0STJ-YB9m8ZhIZfWP-QubRZ01Ikr_sk' width=\"700\"></center>\n",
        "\n",
        "But as researches tried increases the complexity of network\n",
        "- the network didn't perform well.\n",
        "- They weren't able to train complex networks.\n",
        "\n",
        "This put the whole area in deep freeze for a decade or so.\n",
        "\n"
      ],
      "metadata": {
        "id": "8ZR691JbnYuX"
      }
    },
    {
      "cell_type": "markdown",
      "source": [
        "The breakthrough for this problem came 1986\n",
        "-  by a team of phenomenal researchers led by **Geoff Hinton**\n",
        "\n",
        "#### How did they tackle the issue?\n",
        "\n",
        "They came up with an algorithm called **backpropagation**\n",
        "- We'll also learn about the internals of backpropagation\n",
        "- Backpropagation is nothing but chain rule of derivatives.\n",
        "\n",
        "Using this, they were able to train complex NNs.\n",
        "\n"
      ],
      "metadata": {
        "id": "DgsmhHyurxUS"
      }
    },
    {
      "cell_type": "markdown",
      "source": [
        "With backpropagation emerged whole field of **Artifical NN**\n",
        "- as we were able to train network of neuron instead of single neuron.\n",
        "\n",
        "This also brought up a lot of **hype** for artificial intelligence\n",
        "- how the world will change in next 10 yrs\n",
        "- self driving cars, robot which think like humans etc etc.\n",
        "\n",
        "**But, all of that hype died down by 1990s**"
      ],
      "metadata": {
        "id": "6aV2CVhYc9lz"
      }
    },
    {
      "cell_type": "markdown",
      "source": [
        "#### So, why NN became popular from 1986 then? What went wrong exactly? \n",
        "\n",
        "**There were two main bottleneck in the 80s for training complex NNs**\n",
        "\n",
        "- **We didn't had computational power**\n",
        "- **Nor did we have enough data to train**"
      ],
      "metadata": {
        "id": "U4LfClV4uQ2m"
      }
    },
    {
      "cell_type": "markdown",
      "source": [
        "This led to researchers flocking to other research areas.\n",
        "- This was the time SVMs, RF, GBDT become popular (1995 -2009)"
      ],
      "metadata": {
        "id": "MKYWBzyRvZmz"
      }
    },
    {
      "cell_type": "markdown",
      "source": [
        "\n",
        "\n",
        "\n",
        "This time period is called as **AI winter**\n",
        "- where the funding for AI dried up by 1995\n"
      ],
      "metadata": {
        "id": "cE_e5H1wuXvg"
      }
    },
    {
      "cell_type": "markdown",
      "source": [
        "#### When did  NN re-emerge ? "
      ],
      "metadata": {
        "id": "Ipd_rNk832Fq"
      }
    },
    {
      "cell_type": "markdown",
      "source": [
        "**The watershed momement came in 2012**\n",
        "\n",
        "There is a competition called ImageNet conducted by a team at Stanford Univ.\n",
        "- The team created a huge dataset datasets comprising of million of images\n",
        "- The goal is to detect the object in the image.\n",
        "- ImageNet was one of the hardest problem to solve in 2012\n",
        "\n",
        "So, a team used a Deep-NN trained using GPUs (huge computional power).\n",
        "- and this Deep NN model ended up beating all other model by huge margin\n",
        "\n",
        "\n",
        "This was what led to the golden days of AI.\n",
        "- All major internet compaines (Google, Microsoft, FB, Amazon) started taking note of Deep Learning\n",
        "- and today if you notice all the voice assistants (Siri, Google, Alexa) \n",
        "    - all of them are powered by deep learning\n"
      ],
      "metadata": {
        "id": "dxT5TnSe3-oM"
      }
    },
    {
      "cell_type": "markdown",
      "source": [
        "#### How NN fare against classical ML (based on training data) ? "
      ],
      "metadata": {
        "id": "bIpwbhg3zrvX"
      }
    },
    {
      "cell_type": "markdown",
      "source": [
        "Let's understand it using a plot "
      ],
      "metadata": {
        "id": "VgFAAsKB0-wF"
      }
    },
    {
      "cell_type": "markdown",
      "source": [
        "<center><img src='https://drive.google.com/uc?id=1nAEi54cPQM8H2046tHeK-UDsupw7dtBP' width=\"700\"></center>\n",
        "\n",
        "Source: Andrew Ng"
      ],
      "metadata": {
        "id": "SN6tsyiP1w5d"
      }
    },
    {
      "cell_type": "markdown",
      "source": [
        "Notice that,\n",
        "- when the training dataset is small,\n",
        "    - classical ML models and NN models performance are quite similar\n",
        "- But as the size of training set increases,\n",
        "    - NN models starts outperforming classical ML\n",
        "- With large datasets (million datapoints),\n",
        "    - you can even train deep NN \n",
        "\n",
        "So, **Data is the key when it comes to deep learning**"
      ],
      "metadata": {
        "id": "fAEniOYn2kRp"
      }
    }
  ]
}