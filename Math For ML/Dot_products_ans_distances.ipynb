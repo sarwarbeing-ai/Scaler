{
 "cells": [
  {
   "cell_type": "markdown",
   "id": "54877e43-0c6b-4d1f-9b16-34469db5d772",
   "metadata": {},
   "source": [
    "## Dot products and distances"
   ]
  },
  {
   "cell_type": "code",
   "execution_count": 1,
   "id": "e5d2ec52-b91f-4c7b-9dd6-31a56bc5f1af",
   "metadata": {},
   "outputs": [],
   "source": [
    "import numpy as np"
   ]
  },
  {
   "cell_type": "code",
   "execution_count": 2,
   "id": "3315fe77-4283-4abb-8236-c086ca0b4e73",
   "metadata": {},
   "outputs": [],
   "source": [
    "a = np.array([3,4])\n",
    "b = np.array([7,7])"
   ]
  },
  {
   "cell_type": "markdown",
   "id": "2f6820c3-116d-4591-9ae8-6bfb2e1dce5c",
   "metadata": {},
   "source": [
    "**dot product**"
   ]
  },
  {
   "cell_type": "code",
   "execution_count": 5,
   "id": "b5d18559-51e8-4651-ba5b-1c533f3e53ff",
   "metadata": {},
   "outputs": [
    {
     "data": {
      "text/plain": [
       "49"
      ]
     },
     "execution_count": 5,
     "metadata": {},
     "output_type": "execute_result"
    }
   ],
   "source": [
    "3*7 + 4*7"
   ]
  },
  {
   "cell_type": "code",
   "execution_count": 6,
   "id": "1a51ab50-bb6b-4101-93fd-0d60037581b8",
   "metadata": {},
   "outputs": [
    {
     "data": {
      "text/plain": [
       "49"
      ]
     },
     "execution_count": 6,
     "metadata": {},
     "output_type": "execute_result"
    }
   ],
   "source": [
    "sum(a*b)"
   ]
  },
  {
   "cell_type": "code",
   "execution_count": 4,
   "id": "2553c470-0870-48e0-a853-252ad849ba0a",
   "metadata": {},
   "outputs": [
    {
     "data": {
      "text/plain": [
       "49"
      ]
     },
     "execution_count": 4,
     "metadata": {},
     "output_type": "execute_result"
    }
   ],
   "source": [
    "a.dot(b)"
   ]
  },
  {
   "cell_type": "markdown",
   "id": "e6c3bfbc-0a73-4972-b088-76df598a3cea",
   "metadata": {},
   "source": [
    "**distance**"
   ]
  },
  {
   "cell_type": "code",
   "execution_count": 7,
   "id": "f9f60240-6e58-4515-b044-c9a520eb7af5",
   "metadata": {},
   "outputs": [
    {
     "data": {
      "text/plain": [
       "5.0"
      ]
     },
     "execution_count": 7,
     "metadata": {},
     "output_type": "execute_result"
    }
   ],
   "source": [
    "((3 - 7)**2 + (4-7)**2)**0.5"
   ]
  },
  {
   "cell_type": "code",
   "execution_count": 9,
   "id": "35a19061-166b-42e1-bd84-063d49c522e2",
   "metadata": {},
   "outputs": [
    {
     "data": {
      "text/plain": [
       "5.0"
      ]
     },
     "execution_count": 9,
     "metadata": {},
     "output_type": "execute_result"
    }
   ],
   "source": [
    "sum((a-b)**2)**0.5"
   ]
  },
  {
   "cell_type": "code",
   "execution_count": 12,
   "id": "cf7cfe6a-8ac3-4a44-ac4e-1542b78e9842",
   "metadata": {},
   "outputs": [
    {
     "data": {
      "text/plain": [
       "5.0"
      ]
     },
     "execution_count": 12,
     "metadata": {},
     "output_type": "execute_result"
    }
   ],
   "source": [
    "np.linalg.norm(a-b)"
   ]
  },
  {
   "cell_type": "code",
   "execution_count": 14,
   "id": "2df60d8c-3afa-40a8-87d9-e48e907fa52f",
   "metadata": {},
   "outputs": [
    {
     "data": {
      "text/plain": [
       "9.899494936611665"
      ]
     },
     "execution_count": 14,
     "metadata": {},
     "output_type": "execute_result"
    }
   ],
   "source": [
    "np.linalg.norm(b)"
   ]
  },
  {
   "cell_type": "code",
   "execution_count": 16,
   "id": "9c0a7928-6497-4458-981c-b69b6da3980a",
   "metadata": {},
   "outputs": [
    {
     "data": {
      "text/plain": [
       "9.899494936611665"
      ]
     },
     "execution_count": 16,
     "metadata": {},
     "output_type": "execute_result"
    }
   ],
   "source": [
    "(7**2 + 7**2)**0.5"
   ]
  },
  {
   "cell_type": "code",
   "execution_count": null,
   "id": "59f9299d-d157-403d-b843-5dc6a36db394",
   "metadata": {},
   "outputs": [],
   "source": []
  }
 ],
 "metadata": {
  "kernelspec": {
   "display_name": "Python 3 (ipykernel)",
   "language": "python",
   "name": "python3"
  },
  "language_info": {
   "codemirror_mode": {
    "name": "ipython",
    "version": 3
   },
   "file_extension": ".py",
   "mimetype": "text/x-python",
   "name": "python",
   "nbconvert_exporter": "python",
   "pygments_lexer": "ipython3",
   "version": "3.9.12"
  }
 },
 "nbformat": 4,
 "nbformat_minor": 5
}
