{
  "nbformat": 4,
  "nbformat_minor": 0,
  "metadata": {
    "colab": {
      "provenance": [],
      "toc_visible": true
    },
    "kernelspec": {
      "name": "python3",
      "display_name": "Python 3"
    },
    "language_info": {
      "name": "python"
    }
  },
  "cells": [
    {
      "cell_type": "markdown",
      "source": [
        "## Content\n",
        "\n",
        "- Recap: chain rule for single layer NN\n",
        "\n",
        "- Chain rule for N layer NN"
      ],
      "metadata": {
        "id": "hkIc9RIYd9Fk"
      }
    },
    {
      "cell_type": "markdown",
      "source": [
        "## Recap"
      ],
      "metadata": {
        "id": "SigrvkpCeENs"
      }
    },
    {
      "cell_type": "markdown",
      "source": [
        "Recall, how we applied chain rule for single layered NN"
      ],
      "metadata": {
        "id": "Jz0xJh2Q2URx"
      }
    },
    {
      "cell_type": "markdown",
      "source": [
        "<center><img src='https://drive.google.com/uc?id=1jo_yH2RT8d9VcOnchA1cZ6Ph8IsnbeLB' width=\"700\"></center>\n",
        "\n",
        "\n"
      ],
      "metadata": {
        "id": "y2r3m0H0EcqF"
      }
    },
    {
      "cell_type": "markdown",
      "source": [
        "#### What was the the value of $\\frac{∂L}{∂W}$ ? "
      ],
      "metadata": {
        "id": "-WGR3pJQEhQb"
      }
    },
    {
      "cell_type": "markdown",
      "source": [
        "<center><img src='https://drive.google.com/uc?id=1YD_fipDI9D_m0WoSkIzlhKhuAhTAQemJ' width=\"700\"></center>"
      ],
      "metadata": {
        "id": "wsLOzbm4Epye"
      }
    },
    {
      "cell_type": "markdown",
      "source": [
        "In order to find the the derivative of Loss w.r.t w,\n",
        "- we applied chain rule\n",
        "\n",
        "We first took derivative of Loss w.r.t activation output (A or p) i.e. $\\frac{∂L}{∂A}$\n",
        "- then we took derivative of A w.r.t Z i.e. $\\frac{∂A}{∂Z}$\n",
        "- and  derivative of Z w.r.t W i.e. $\\frac{∂Z}{∂W}$\n",
        "\n",
        "and finally we multiplied all these to get the final derivative."
      ],
      "metadata": {
        "id": "A1TutCrLE725"
      }
    },
    {
      "cell_type": "markdown",
      "source": [
        "Notice that after activation,\n",
        "- we take derivative w.r.t to Z"
      ],
      "metadata": {
        "id": "nIFKrDnjJRxf"
      }
    },
    {
      "cell_type": "markdown",
      "source": [
        "## Chain rule for N layered NN"
      ],
      "metadata": {
        "id": "9wSuV4IueGpM"
      }
    },
    {
      "cell_type": "markdown",
      "source": [
        "Now, let's try calculating it for fully connected N layered NN\n",
        "\n",
        "#### What's fully connected N layered NN? \n",
        "Ans: where all the weight edges are present."
      ],
      "metadata": {
        "id": "R8KELrEDQag3"
      }
    },
    {
      "cell_type": "markdown",
      "source": [
        "<center><img src='https://drive.google.com/uc?id=10MlJlFYXFMPnKTKO_wNHXFsOrFUG4Vph' width=\"700\"></center>\n",
        "\n"
      ],
      "metadata": {
        "id": "6QGQNXE6Qhaz"
      }
    },
    {
      "cell_type": "markdown",
      "source": [
        "#### Question: What will be $\\frac{∂L}{∂w^3_{11}}$ ?"
      ],
      "metadata": {
        "id": "z2KMNvDHQ288"
      }
    },
    {
      "cell_type": "markdown",
      "source": [
        "<center><img src='https://drive.google.com/uc?id=1pjyCxg0Fn9h5Tm_9JrK3hWB7zWwC4JTN' width=\"700\"></center>\n",
        "\n",
        "\n",
        "\n",
        "\n",
        "\n"
      ],
      "metadata": {
        "id": "wKPJZg-zRB-4"
      }
    },
    {
      "cell_type": "markdown",
      "source": [
        "We'll encounter $a^3_1$ while going from loss \n",
        "- followed by $z^3_1$\n",
        "- and ultimately $w^3_{11}$\n",
        "\n",
        "$$\\frac{∂L}{∂w^3_{11}}= \\frac{∂L}{∂a^3_1}.\\frac{∂a^3_1}{∂z^3_{1}}.\\frac{∂z^3_{1}}{∂w^3_{11}}$$"
      ],
      "metadata": {
        "id": "8FhUQT49S0vo"
      }
    },
    {
      "cell_type": "markdown",
      "source": [
        "Similarly,\n",
        "\n",
        "#### Question: What will be the value of $\\frac{∂L}{∂w^2_{11}}$"
      ],
      "metadata": {
        "id": "FH6Wq9fIVINP"
      }
    },
    {
      "cell_type": "markdown",
      "source": [
        "<center><img src='https://drive.google.com/uc?id=1qfFSO2nPX6HKlA5w1A3gwui0np7LDfOJ' width=\"700\"></center>\n",
        "\n",
        "\n",
        "\n",
        "\n"
      ],
      "metadata": {
        "id": "FQlpGMzeWMOM"
      }
    },
    {
      "cell_type": "markdown",
      "source": [
        "The derivative will be\n",
        "\n",
        "$$\\frac{∂L}{∂w^2_{11}} = \\frac{∂L}{∂a^3_1}.\n",
        "\\frac{∂a^3_1}{∂z^3_{1}}.\n",
        "\\frac{∂z^3_1}{∂a^2_{1}}.\n",
        "\\frac{∂a^2_{1}}{∂z^2_{1}}.\n",
        "\\frac{∂z^2_{1}}{∂w^2_{11}}\n",
        "$$"
      ],
      "metadata": {
        "id": "EuTDOZWAWmOj"
      }
    },
    {
      "cell_type": "markdown",
      "source": [
        "#### Wait, isn't there supposed to be $w^3_{11}$ in between ?  "
      ],
      "metadata": {
        "id": "NbRLDEGGN8a1"
      }
    },
    {
      "cell_type": "markdown",
      "source": [
        "Let's see computational graph of above path"
      ],
      "metadata": {
        "id": "ME-oGMo3OIX4"
      }
    },
    {
      "cell_type": "markdown",
      "source": [
        "<center><img src='https://drive.google.com/uc?id=1MrbyHEY6Oo4adudIfBYeRnAHq37IDCPM' width=\"800\"></center>\n"
      ],
      "metadata": {
        "id": "WQXv3r3cT10W"
      }
    },
    {
      "cell_type": "markdown",
      "source": [
        "Notice that\n",
        "- there's no $w^3_{11}$ in the above traced path from Loss to $w^2_{11}$\n",
        "\n",
        "Hence, we didn't take any derivative w.r.t. to $w^3_{11}$"
      ],
      "metadata": {
        "id": "Oaw4xaxzT8ev"
      }
    },
    {
      "cell_type": "markdown",
      "source": [
        "Moving on, \n",
        "\n",
        "#### Question: What will be the value of $\\frac{∂L}{∂w^1_{11}}$ ?"
      ],
      "metadata": {
        "id": "h96RaNNYW4zV"
      }
    },
    {
      "cell_type": "markdown",
      "source": [
        "Notice that there are two paths from loss to $w^1_{11}$"
      ],
      "metadata": {
        "id": "aQi5NsExYeNL"
      }
    },
    {
      "cell_type": "markdown",
      "source": [
        "<center><img src='https://drive.google.com/uc?id=1dIasxDpFViHHNMiIicQzCDfrK8G50Rjv' width=\"700\"></center>"
      ],
      "metadata": {
        "id": "GgCBuCuBYjst"
      }
    },
    {
      "cell_type": "markdown",
      "source": [
        "The derivative will be\n",
        "\n",
        "$$\\frac{∂L}{∂w^1_{11}} = \n",
        "\\frac{∂L}{∂a^3_1}.\n",
        "\\frac{∂a^3_1}{∂z^3_{1}}.\n",
        "\\frac{∂z^3_{1}}{∂a^2_{1}}.\n",
        "\\frac{∂a^2_{1}}{∂z^2_{1}}. \n",
        "\\frac{∂z^2_{1}}{∂a^1_{1}}.\n",
        "\\frac{∂a^1_{1}}{∂z^1_{1}}.\n",
        "\\frac{∂z^1_{1}}{∂w^1_{11}}\n",
        "\\space + \\space\n",
        "\\frac{∂L}{∂a^3_1}.\n",
        "\\frac{∂a^3_1}{∂z^3_{1}}.\n",
        "\\frac{∂z^3_1}{∂a^2_{1}}.\n",
        "\\frac{∂a^2_1}{∂z^2_{2}}.\n",
        "\\frac{∂z^2_2}{∂a^1_{1}}.\n",
        "\\frac{∂a^1_1}{∂z^1_{1}}.\n",
        "\\frac{∂z^1_1}{∂w^1_{11}}\n",
        "$$"
      ],
      "metadata": {
        "id": "k2iR1KJyY-BE"
      }
    }
  ]
}