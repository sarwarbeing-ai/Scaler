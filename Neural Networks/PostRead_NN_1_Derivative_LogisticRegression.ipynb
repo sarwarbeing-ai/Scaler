{
  "nbformat": 4,
  "nbformat_minor": 0,
  "metadata": {
    "colab": {
      "provenance": [],
      "toc_visible": true
    },
    "kernelspec": {
      "name": "python3",
      "display_name": "Python 3"
    },
    "language_info": {
      "name": "python"
    }
  },
  "cells": [
    {
      "cell_type": "markdown",
      "source": [
        "## **Content**\n",
        "\n",
        "- **Simple Derivation Rules**\n",
        "- **Derivating Sigmoid**\n",
        "- **Gradient of Logloss**"
      ],
      "metadata": {
        "id": "oEbr1NCI7huv"
      }
    },
    {
      "cell_type": "markdown",
      "source": [
        "We know in Logistic Regression,\n",
        "- The Optimization algorithm minimizes Logloss\n",
        "\n",
        "<br>\n",
        "\n",
        "We define Logloss as:\n",
        "\n",
        "- $Logloss (L) = min_{w_j}∑_{i=1}^n[-y_i log(\\hat{y_i}) - (1-y_i)log(1-\\hat{y_i}) ]$\n",
        "\n",
        "\n",
        "Where: \n",
        "- $\\hat{y}$ is sigmoid function ($σ$) of $z = w^t x + b$\n",
        "- $w_j$ is the jth weight parameter\n",
        "- $n$ is the total number of samples\n",
        "\n",
        "<br>\n",
        "\n",
        "#### what is the goal of optimization algorithm ?\n",
        "Ans: to minimize logloss by finding the gradients\n",
        "\n",
        "<br>\n",
        "\n",
        "So lets see how derivatives are calculated in Logistic Regression\n",
        "\n",
        "\n",
        "\n"
      ],
      "metadata": {
        "id": "ABaphZU27lbN"
      }
    },
    {
      "cell_type": "markdown",
      "source": [
        "## Simple Derivation rules"
      ],
      "metadata": {
        "id": "RvuSJAxx9YMY"
      }
    },
    {
      "cell_type": "markdown",
      "metadata": {
        "id": "y7jz_bFmTYHJ"
      },
      "source": [
        "\n",
        "\n",
        "Before we start to find derivatives, let recall some of the simple Derivation rules\n",
        "\n",
        "\n",
        "1. **Power Derivative**\n",
        "\n",
        " $$\\frac{d x^{n}}{dx} = n.x^{n-1}$$\n",
        "\n",
        " Similarly\n",
        "\n",
        "  $$\\frac{d x^{-n}}{dx} = -n.x^{-(n+1)}$$\n",
        "\n",
        "2. **Log Derivative**\n",
        "\n",
        "$$\\frac{d log(x)}{dx} = \\frac{1}{x}$$\n",
        "\n",
        "\n",
        "3. **Exponential Derivative**\n",
        "\n",
        " $$\\frac{d e^{ax}}{dx} = a.e^{ax}$$\n",
        "\n",
        " Similarly, \n",
        "\n",
        " $$\\frac{d e^{-ax}}{dx} = -a.e^{-ax}$$\n",
        "\n",
        "\n",
        "\n"
      ]
    },
    {
      "cell_type": "markdown",
      "source": [
        "## Derivating Sigmoid "
      ],
      "metadata": {
        "id": "el4JbmSm9jRf"
      }
    },
    {
      "cell_type": "markdown",
      "metadata": {
        "id": "QN4TXppxbvYL"
      },
      "source": [
        "\n",
        "#### Lets come back to our logloss , \n",
        "\n",
        "We know:\n",
        " $$\\hat{y} = σ(z)$$\n",
        "\n",
        " \n",
        "Where $σ(z)$:\n",
        "$$σ = \\frac{1}{1+e^{-z} }$$\n",
        "\n",
        " Lets write the same as a power\n",
        "\n",
        "$$σ=(1+e^{-z})^{-1}$$\n",
        "\n",
        "Lets substitute $(1+e^{-z})$  with $u$, thus\n",
        "\n",
        "$$σ=(u)^{-1}$$\n",
        "\n",
        "And lets use power rule here and take the derivative of sigmoid equation in terms $u$ w.r.t to $z$\n",
        "\n",
        " $$\\frac{d u^{-1}}{dz} = -u^{-2} . \\frac{du}{dz}$$\n",
        "\n",
        "\n",
        " Lets work seperately on calulcating $\\frac{du}{dx}$\n",
        "\n",
        "\n",
        "$$\\frac{du}{dz} = \\frac{d (1+e^{-z})}{dz}$$\n",
        "\n",
        "On solving:\n",
        "\n",
        "\n",
        "$$\\frac{du}{dz} = \\frac{d(1)}{dz} + \\frac{d (e^{-z})}{dz}$$\n",
        "\n",
        "First term, becomes zero.\n",
        "\n",
        "\n",
        "We already know that derivative of negative exponent $\\frac{d e^{-ax}}{dx} = -a.e^{-ax}$\n",
        "\n",
        "\n",
        "$$\\frac{du}{dz} = -e^{-z}$$\n",
        "\n",
        "Now subsituting the value of $\\frac{du}{dz}$ to equation $σ'(z) = \\frac{d u^{-1}}{dz} = -u^{-2} . \\frac{du}{dz}$\n",
        "\n",
        "$$ σ'(z) = -u^{-2} . -e^{-z} $$\n",
        "\n",
        "Replacing $u$ with $1+e^{-z} $ \n",
        "\n",
        "\n",
        "$$σ'(z) = \\frac{1.e^{-z}}{(1+e^{-z})^{2}} $$\n",
        "\n",
        "Now rewriting the equation a bit \n",
        "\n",
        "$$σ'(z) = \\frac{1}{1+e^{-z}} \\frac{e^{-z}}{1+e^{-z}} $$\n",
        "\n",
        "And since 1-1 = 0 , we can do a little tweek in the equation\n",
        "\n",
        "$$σ'(z) = \\frac{1}{1+e^{-z}} \\frac{e^{-z}+1-1}{1+e^{-z}} $$\n",
        "\n",
        "Rewriting equation a bit \n",
        "\n",
        "$$σ'(z) = \\frac{1}{1+e^{-z}} [ \\frac{e^{-z}+1}{1+e^{-z}}-\\frac{1}{1+e^{-z}}] $$\n",
        "\n",
        "Equation becomes:\n",
        "\n",
        "$$σ'(z) = \\frac{1}{1+e^{-z}} [ 1 -\\frac{1}{1+e^{-z}}] $$\n",
        "\n",
        "As we know $σ(z) = \\frac{1}{1+e^{-z}}$, Equation becomes:\n",
        "\n",
        "$$σ'(z) = σ(z) [ 1 -σ(z)] $$\n"
      ]
    },
    {
      "cell_type": "markdown",
      "metadata": {
        "id": "e8U5LzXCb4ly"
      },
      "source": [
        "## Gradient of LogLoss"
      ]
    },
    {
      "cell_type": "markdown",
      "metadata": {
        "id": "ZNZh1Ng5_M64"
      },
      "source": [
        "Now that we know sigmoid  is differentiable, lets find the gradient of the log-loss,\n",
        "\n",
        "log-loss is defined as:\n",
        "- $$Logloss (L) = min_{w_j}∑_{i=1}^n[-y_i log(\\hat{y_i}) - (1-y_i)log(1-\\hat{y_i}) ]$$\n",
        "\n",
        "- What all we know \n",
        "    - $$\\frac{d log(x)}{dx} = \\frac{1}{x}$$\n",
        "    - $$ σ'(z) = σ(z)(1-σ(z)) $$\n",
        "    - $$ \\frac{\\partial (w^Tx_i+w_0)}{\\partial w_j} = x_{ij} $$\n",
        "\n",
        "Also recall chain rule\n",
        "- if $u = \\sigma(z)$ , where $z = 3x $,then \n",
        "$$\\frac{du}{dx} = \\frac{du}{dz} * \\frac{dz}{dx} $$\n",
        "\n",
        "-  Therefore $\\frac{du}{dz} = \\frac{d\\sigma(z)}{dz} = \\sigma(z)(1-\\sigma(z))$\n",
        "- And $ \\frac{dz}{dx} = \\frac{d(3x)}{dx} = 3 $\n",
        "- hence final equation becomes:  \n",
        "- $$\\frac{du}{dx} = \\sigma(z)(1-\\sigma(z))  * 3 $$\n",
        "\n",
        "--- \n"
      ]
    },
    {
      "cell_type": "markdown",
      "source": [
        "\n",
        "With the same concept:\n",
        "\n",
        "$$\\frac{\\partial L}{\\partial w_j} = \\frac{\\partial L}{\\partial y_i ̂} * \\frac{\\partial y_i ̂}{\\partial z_i} * \\frac{\\partial z_i}{\\partial w_j} $$\n",
        "\n",
        "Now lets take $\\frac{\\partial L}{\\partial \\hat{y_i} }$:\n",
        "- $$ \\frac{\\partial L}{\\partial \\hat{y_i}} = -y_i \\frac{\\partial log(\\hat{y_i})}{\\partial \\hat{y_i}} - (1-y_i) \\frac{\\partial log(1-\\hat{y_i})}{\\partial \\hat{y_i}} $$\n",
        "\n",
        "As $\\frac{d log x}{dx} = \\frac{1}{x}$, therefore:\n",
        "-  $$ \\frac{\\partial L}{\\partial \\hat{y_i}} = -y_i \\frac{1}{\\hat{y_i}} - (1-y_i) \\frac{-1}{(1-\\hat{y_i})} $$\n",
        "\n",
        "\n",
        "Now the equation $\\frac{\\partial L}{\\partial w_j}$ becomes:\n",
        "\n",
        "- $$ \\frac{\\partial L}{\\partial \\hat{w_j}} = -y_i \\frac{1}{\\hat{y_i}} \\frac{\\partial y_i ̂}{\\partial z_i} * \\frac{\\partial z_i}{\\partial w_j}  - (1-y_i) \\frac{-1}{(1-\\hat{y_i})} \\frac{\\partial y_i ̂}{\\partial z_i} * \\frac{\\partial z_i}{\\partial w_j} $$\n",
        "\n",
        "\n",
        "\n"
      ],
      "metadata": {
        "id": "-TVXC0NIaLtS"
      }
    },
    {
      "cell_type": "markdown",
      "source": [
        "Now we know  $ \\hat{y_i}  =  σ(z) $, \n",
        "\n",
        "and $$\\frac{σ(z)}{dz} =  σ(z)(1-σ(z)) = y_i ̂ (1- y_i ̂)$$\n",
        "\n",
        "- Therefore $$ \\frac{\\partial y_i ̂}{\\partial z_i} = y_i ̂(1-y_i ̂) $$\n",
        "\n",
        "\n",
        "Subsituting it to our equation, \n",
        "\n",
        "\n",
        "- $$ \\frac{\\partial L}{\\partial w_j} = -y_i\\frac{1}{y_i ̂}* y_i ̂(1-y_i ̂) \\frac{\\partial z_i }{\\partial w_j} + (1-y_i)\\frac{1}{1-y_i ̂}*y_i ̂(1-y_i ̂) \\frac{\\partial z_i}{\\partial w_j}$$\n",
        "\n",
        "\n",
        "On simplifying since we can cut some terms in the numerator and denominator\n",
        "\n",
        "-  $$ \\frac{\\partial L}{\\partial w_j} = -y_i(1-y_i ̂) \\frac{\\partial z_i }{\\partial w_j} + (1-y_i)*y_i ̂ \\frac{\\partial z_i}{\\partial w_j}$$\n",
        "\n",
        "Now on opening the round brackets we get,\n",
        "- $$ \\frac{\\partial L}{\\partial w_j} = -y_i\\frac{\\partial z_i }{\\partial w_j} + y_i*y_i ̂ \\frac{\\partial z_i }{\\partial w_j} + y_i ̂ \\frac{\\partial z_i}{\\partial w_j} - y_i*y_i ̂ \\frac{\\partial z_i}{\\partial w_j}$$\n",
        "\n",
        "Now on further solving, we get \n",
        "- $$ \\frac{\\partial L}{\\partial w_j} = -y_i\\frac{\\partial z_i }{\\partial w_j} + y_i ̂ \\frac{\\partial z_i}{\\partial w_j}$$\n",
        "- $$ \\frac{\\partial L}{\\partial w_j} = (y_i ̂-y_i) \\frac{\\partial z_i}{\\partial w_j}$$\n",
        "\n",
        "Since $z_i = w^Tx_i+w_0$, $\\frac{\\partial z_i}{\\partial w_j} = x_{ij}$\n",
        "\n",
        "Therefore equation becomes:\n",
        "- $$ \\frac{\\partial L}{\\partial w_j} = \\frac{1}{n}∑_{i=1}^{i=n}(y_i ̂-y_i) x_{ij}$$"
      ],
      "metadata": {
        "id": "hgn4uy2iaTE3"
      }
    }
  ]
}