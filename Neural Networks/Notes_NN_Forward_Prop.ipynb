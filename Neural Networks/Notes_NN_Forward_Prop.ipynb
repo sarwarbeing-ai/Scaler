{
  "nbformat": 4,
  "nbformat_minor": 0,
  "metadata": {
    "colab": {
      "provenance": []
    },
    "kernelspec": {
      "name": "python3",
      "display_name": "Python 3"
    },
    "language_info": {
      "name": "python"
    }
  },
  "cells": [
    {
      "cell_type": "markdown",
      "source": [
        "## Content"
      ],
      "metadata": {
        "id": "R7KidcCe0Lvx"
      }
    },
    {
      "cell_type": "markdown",
      "source": [
        "\n",
        "\n",
        "- **How to create a model that helps in multiclass classification**\n",
        "    - Notations\n",
        "\n",
        "- **Softmax classifier**\n",
        "\n",
        "- **Categorical Cross entropy**\n",
        "\n",
        "- **How to train a NN?**\n",
        "    - Forward Prop\n",
        "    - Backward Prop"
      ],
      "metadata": {
        "id": "61crXPwqxqM9"
      }
    },
    {
      "cell_type": "markdown",
      "source": [
        "***"
      ],
      "metadata": {
        "id": "BTFPIy3KzJxY"
      }
    },
    {
      "cell_type": "markdown",
      "source": [
        "Lets start working towards our goals that we mentioned earlier \n",
        "\n",
        "## How to create a model that helps in our multi-class classification?"
      ],
      "metadata": {
        "id": "2h55EujXBM6D"
      }
    },
    {
      "cell_type": "markdown",
      "source": [
        "Coming back to the problem at hand.\n",
        "\n",
        "> **Our data consists of 3 classes.**\n",
        "\n",
        "#### Question: Can we use simple logistic regression to classify 3 classes?\n",
        "\n",
        "No. We can only represent the simple Logitic Regression as a single-neuron model. i.e. predicting 2 classes.\n",
        "\n",
        "#### Question: How can we modify the existing network to account for multiclass classification ? \n",
        "\n",
        "Perhaps we can use multiple simple LogReg units (LRUs).\n",
        "\n"
      ],
      "metadata": {
        "id": "AG0r1deM1ok0"
      }
    },
    {
      "cell_type": "markdown",
      "source": [
        "So, instead of using single model,\n",
        "- we train multiple models"
      ],
      "metadata": {
        "id": "Hi0c_FtnUaY4"
      }
    },
    {
      "cell_type": "markdown",
      "source": [
        "<center><img src='https://drive.google.com/uc?id=1cKo51V8wHKr4iCp3EX-NompxGhU7txGT' width=\"700\"></center>\n",
        "\n",
        "\n",
        "\n"
      ],
      "metadata": {
        "id": "YsH7nOPrU1sJ"
      }
    },
    {
      "cell_type": "markdown",
      "source": [
        "\n",
        "\n",
        "### Can we do this using a single model ? \n",
        "\n",
        "Recall multi-class classification. \n",
        "- We calculated the probability that a given data point belongs to class A, B or C repectively.\n",
        "- Then, we returned the class with highest probability as the answer.\n",
        "\n",
        "\n"
      ],
      "metadata": {
        "id": "3kEgoAHX32G8"
      }
    },
    {
      "cell_type": "markdown",
      "source": [
        "**This gives us the intuition that perhaps, our output layer should have 3 outputs. One for each class.** \n",
        "\n",
        "So we can have a NN that looks like:-\n"
      ],
      "metadata": {
        "id": "5UtYJd20b0dO"
      }
    },
    {
      "cell_type": "markdown",
      "source": [
        "<center><img src='https://drive.google.com/uc?id=131k2Wo-rcM6w8ZB7twLi2_h4-UKs5ILI' width=\"700\"></center>\n",
        "\n",
        "\n",
        "\n"
      ],
      "metadata": {
        "id": "XArp3UMbdhgv"
      }
    },
    {
      "cell_type": "markdown",
      "source": [
        "Do notice that\n",
        "- we have same number of outputs (3 outputs)\n",
        "- and same number of connections \n",
        "\n",
        "\n",
        "The difference here is that\n",
        "- computation is happening together\n",
        "\n",
        "So, instead of having weight vector,\n",
        "- we'll have weight matrix multiplying with data matrix.\n",
        "\n",
        "We'll see it in code later."
      ],
      "metadata": {
        "id": "IPqkNWmJeoE6"
      }
    },
    {
      "cell_type": "markdown",
      "source": [
        "A model formed by utilising multiple neurons is called a **Neural Network (NN)**."
      ],
      "metadata": {
        "id": "x36XV69dUeiW"
      }
    },
    {
      "cell_type": "markdown",
      "source": [
        "Let's learn some notation to make our life easy."
      ],
      "metadata": {
        "id": "PkowDYSWnJJe"
      }
    },
    {
      "cell_type": "markdown",
      "source": [
        "### Notations\n",
        "\n"
      ],
      "metadata": {
        "id": "oMWsJqxbnRWf"
      }
    },
    {
      "cell_type": "markdown",
      "source": [
        "####  **Inputs**\n",
        " - We have two features for each datapoint: $x_{i1}$ and $x_{i2}$\n",
        "\n",
        "\n",
        "#### But we have m datapoints? \n",
        "\n",
        "#### Question: How did we represent m datapoints? \n",
        "\n",
        "Ans: As a matrix where each row represent a datapoint\n",
        "$\n",
        "\\begin{bmatrix}\n",
        "x_{11} & x_{12} \\\\ \n",
        "x_{21} & x_{i2} \\\\\n",
        "...  & ...  \\\\\n",
        "x_{m1} & x_{m2}\n",
        "\\end{bmatrix}$\n",
        "\n"
      ],
      "metadata": {
        "id": "aqQ4M0Y3nSq2"
      }
    },
    {
      "cell_type": "markdown",
      "source": [
        "#### **Neuron** \n",
        "\n",
        "- Neuron is represented using $f_i$ where\n",
        "    - i refers to the neuron number \n",
        "\n",
        "For example: $f_1$ means 1st neuron "
      ],
      "metadata": {
        "id": "HzKCBb2SnW1r"
      }
    },
    {
      "cell_type": "markdown",
      "source": [
        "\n",
        "#### **Weights**\n",
        " \n",
        "- Weights are defined by notation: $w_{ij}$ where\n",
        "    - i is the source neuron\n",
        "    - j is the destination neuron\n",
        "\n",
        "Let's define the weight associated with input $x_{i1}$, going to neuron 2, $f_2$ (say) as: $w_{12}$\n",
        " - Similarly, we define other weights values as $w_{11}, w_{12}, w_{13}, w_{21}, w_{22}, w_{23}$\n",
        "\n",
        "\n"
      ],
      "metadata": {
        "id": "4GsSHuFxCXwG"
      }
    },
    {
      "cell_type": "markdown",
      "source": [
        "\n",
        "####  **Bias**\n",
        " - Each neuron will have a bias term associated with it ($b_i$): $b = \\begin{bmatrix}\n",
        "b_1 \\space \n",
        "b_2  \\space\n",
        "b_3\n",
        "\\end{bmatrix}$\n"
      ],
      "metadata": {
        "id": "nnAnu9ocpp-j"
      }
    },
    {
      "cell_type": "markdown",
      "source": [
        "\n",
        "#### **z value**\n",
        "$ $\n",
        "- z value represent the linear operation i.e additive multiplication of inputs with their respective weights\n",
        "    - $z_1 =w_{11}. x_{i1}  + w_{21}. x_{i2}$\n",
        "    - $z_2 =w_{12} .x_{i1}  + w_{22}.x_{i2}$\n",
        "    - $z_3 = w_{13} .x_{i1} + w_{23}.x_{i2}$\n",
        "  \n",
        "\n",
        "\n",
        "\n"
      ],
      "metadata": {
        "id": "a6RiVfMwsuIH"
      }
    },
    {
      "cell_type": "markdown",
      "source": [
        "#### **Output**\n",
        " - Each neuron will apply it's activation function on the z values to outputs: $a^1_1, a^1_2, a^1_3$\n"
      ],
      "metadata": {
        "id": "B4rnjMlOsvov"
      }
    },
    {
      "cell_type": "markdown",
      "source": [
        "<center><img src='https://drive.google.com/uc?id=1LDBuwe2xUQ_CF9ymiHvxzb2ojuYq16oz' width=\"800\"></center>\n",
        "\n",
        "\n",
        "\n",
        "\n",
        "\n",
        "\n",
        "\n",
        "\n"
      ],
      "metadata": {
        "id": "MgX3tkxTuPYY"
      }
    },
    {
      "cell_type": "markdown",
      "metadata": {
        "id": "tHDSMRYB4n4z"
      },
      "source": [
        "\n",
        "#### Q. What is the problem with this formulation?\n",
        "\n"
      ]
    },
    {
      "cell_type": "markdown",
      "source": [
        "#### What if the model predicts >0.5 for more than one of the classes?\n",
        "\n"
      ],
      "metadata": {
        "id": "zElbHCbSqwxE"
      }
    },
    {
      "cell_type": "markdown",
      "source": [
        "<center><img src='https://drive.google.com/uc?id=10HtCW-GFURe89gFpN2OwcC7Pj1xddHOb' width=\"800\"></center>\n"
      ],
      "metadata": {
        "id": "VoUGvQe-qzek"
      }
    },
    {
      "cell_type": "markdown",
      "source": [
        "- Model will predict the presence of multiple classes in the output - [1, 1, 0], [1, 1, 1], [1, 0, 1]\n",
        "\n",
        "#### But how can multiple outputs be 1 ? \n",
        "\n",
        "Recall that we are taking sigmoid of output\n",
        "- range of $σ ∈ [0,1]$\n",
        "- and we have sigmoid for each class.\n",
        "\n",
        "Hence, each probability can be > 0.5 and therefore multiple class labels can be 1.\n",
        "\n",
        "But, **We want these probabilities values to sum to 1, as the we had in Logistic Regression (p and 1-p)**."
      ],
      "metadata": {
        "id": "o3Hm0FPPqy7D"
      }
    },
    {
      "cell_type": "markdown",
      "source": [
        "<hr style=\"border:1px solid gray\"> </hr>\n",
        "\n",
        "## Softmax classifier\n"
      ],
      "metadata": {
        "id": "mNj_ccUMH_O0"
      }
    },
    {
      "cell_type": "markdown",
      "metadata": {
        "id": "nejBoCbZrEV2"
      },
      "source": [
        "\n",
        "#### What constraint do we want on your output probabilities ? \n",
        "\n",
        "Consider three outputs - $z_{1}$, $z_{2}$, $z_{3}$ \n",
        "\n",
        "- We want a function that should map $z_{1}$, $z_{2}$, $z_{3}$ to output such that \n",
        "    - sum of output probabilities = 1\n",
        "\n",
        "#### How can we map the outputs of three neurons in the last layer such that they sum upto 1?\n",
        "- One such function is a **softmax function**\n",
        "\n",
        "where\n",
        "$$p_i = \\frac {e^{z_i}} {\\sum^k_{i =0} e^{z_i}}$$\n",
        "\n",
        "Here, $p_i$ refers to the prob. of datapoint belonging to class i\n",
        "- The denominator here is the normalisation term, to make $p_{1}+ p_{2}+ p_{3}= 1$\n",
        "\n",
        "<br>\n",
        "\n",
        "So, softmax can be thought of as sigmoid-like function for multiclass setting."
      ]
    },
    {
      "cell_type": "markdown",
      "source": [
        "\n",
        "Question: But why not directly use $\\frac{z_i}{\\sum^k_{i=0} {z_i}}$? Why to raise the $z$ to power of exponential?\n",
        "\n",
        "**Intuitive reason** - Ensures that values are **non-negative**, and lie only between 0 and 1.\n",
        "- as the value of $z_i$ ranges from -∞ to ∞\n",
        "\n",
        "<br>\n",
        "\n",
        "Besides this, softmax function has some other desirable properties \n",
        "1. Nice diferentiable $\\frac{de^x}{dx} = e^x$\n",
        "2. The output probabilities can be interpreted as log likelihoods (log odds)\n",
        "\n",
        "Lets redraw the flow for an input data-point belonging to class C\n",
        "\n",
        "![picture](https://drive.google.com/uc?export=view&id=12QEBrbkVaZiK-eXpGC9xI5xTNxjshk8U)\n",
        "\n",
        "\n",
        "If we were to just use normalized z values instead of exponential\n",
        "- the ratio of prob would be 1:3:6.\n",
        "\n",
        "- However, softmax pushes the probability of largest number closer to 1. Hence, the term soft-max\n",
        "\n",
        "\n",
        "\n",
        "So, we decide to keep **softmax** as the activation function in our NN."
      ],
      "metadata": {
        "id": "fh9DWlFm1-6o"
      }
    },
    {
      "cell_type": "markdown",
      "source": [
        "Softmax calculator: https://keisan.casio.com/exec/system/15168444286206"
      ],
      "metadata": {
        "id": "BiRHK40JouWh"
      }
    },
    {
      "cell_type": "markdown",
      "source": [
        "---\n",
        "\n",
        "We know we can train a simple Logistic Reg model using SGD and all, but\n",
        "\n",
        "## How to train a NN?\n",
        "\n",
        "\n",
        "\n",
        "Lets first define some variables"
      ],
      "metadata": {
        "id": "C5qfsj0dEwin"
      }
    },
    {
      "cell_type": "code",
      "source": [
        "# Separating feature and label columns\n",
        "X = df.iloc[:, :-1].to_numpy()\n",
        "y = df.iloc[:, -1].to_numpy()"
      ],
      "metadata": {
        "id": "kSW0wVIZGX-T"
      },
      "execution_count": null,
      "outputs": []
    },
    {
      "cell_type": "code",
      "source": [
        "d = X.shape[1] # 2 - dimensionality, number of features\n",
        "n = len(np.unique(y)) #3 - number of classes\n",
        "m = X.shape[0] # number of examples\n",
        "print(d, n, m)"
      ],
      "metadata": {
        "id": "ry6jA2XAMx2X",
        "colab": {
          "base_uri": "https://localhost:8080/"
        },
        "outputId": "de7c151d-8eb1-43c9-e5c3-1b34d4d035df"
      },
      "execution_count": null,
      "outputs": [
        {
          "output_type": "stream",
          "name": "stdout",
          "text": [
            "2 3 300\n"
          ]
        }
      ]
    },
    {
      "cell_type": "markdown",
      "metadata": {
        "id": "y6494vpurEV2"
      },
      "source": [
        "\n",
        "#### Question: How many coef parameters $W$ will this system (of three LR/neurons) will have?\n",
        "\n",
        "\n",
        "- We have 2 features $x_1$ and $x_2$ and which going into 3 LRs --> $d=2$\n",
        "- Notice that #LRUs/#neurons in last layer = number of classes --> $n = 3$\n",
        "- Thus, we will have \n",
        " - 2 $w$s for LR1, and \n",
        " - 2 $w$s for LR2, and \n",
        " - 2 $w$s for LR3, \n",
        " \n",
        "Therefore a total of: $6$\n",
        "\n"
      ]
    },
    {
      "cell_type": "markdown",
      "metadata": {
        "id": "j3nJ8iIS1OR8"
      },
      "source": [
        "![image.png](data:image/png;base64,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)"
      ]
    },
    {
      "cell_type": "markdown",
      "metadata": {
        "id": "qbnQaNM51Nns"
      },
      "source": [
        "\n",
        "#### Question: What should be the shape of W?\n",
        "\n",
        "\n"
      ]
    },
    {
      "cell_type": "markdown",
      "source": [
        "Before deciding on the shape of W, let's take a look at the data matrix, and the output matrix.\n",
        "\n",
        "\n",
        "> **Data Matrix**\n",
        "\n",
        "We have a total of $m$ training examples. Each of which contains of $d=2$ features.\n",
        "\n",
        "So, we have a data matrix $X$, that has the shape: **m x d**\n",
        "\n",
        "<br>\n",
        "\n",
        "> **Output matrix**\n",
        "\n",
        "We know that we're getting 3 values as outputs: probabilities of the data point belonging to class A, B or C respectively.\n",
        "\n",
        "Let $n=3$.\n",
        "\n",
        "Therefore, we will get 3 output values for all $m$ examples.\n",
        "\n",
        "Hence, shape of output matrix is: **m x n**\n",
        "\n",
        "<br>\n",
        "\n",
        "> **Weight matrix**\n",
        "\n",
        "Hence, in order to get the output matrix, as a dot product of data and weight matrices, the shape of weight matrix has to be: **d x n**\n",
        "\n",
        "$w^1 = \\begin{bmatrix}\n",
        "w_{11} & w_{12} & w_{13}\\\\ \n",
        "w_{21} & w_{22} & w_{23}\n",
        "\\end{bmatrix}_{dxn}$"
      ],
      "metadata": {
        "id": "sb9TAUhmbu-s"
      }
    },
    {
      "cell_type": "markdown",
      "metadata": {
        "id": "dzKsuxLA1Seq"
      },
      "source": [
        "<center><img src='https://drive.google.com/uc?id=1xop0_R5WK6_IBR_k_SDc_4jZV22fQaQf' width=\"800\"></center>\n",
        "\n"
      ]
    },
    {
      "cell_type": "markdown",
      "source": [
        " \n",
        "#### Question: How many bias parameters $b$ will this system (of three LR/neurons) have?\n",
        "\n",
        "- $n=3$ LRUs --> 1 bias term per LRU, thus $n$ bias terms.\n",
        "- The bias term has to be added to the dot product of $X.W$. \n",
        "- Therefore, the shape of bias matrix should also be: **m x n**\n",
        "\n",
        "However, the value of bias will not change for different data points.\n",
        "- The same bias values can be broadcasted for m examples.\n",
        "- Therefore, the shape of bias matrix becomes: **1 x n**\n"
      ],
      "metadata": {
        "id": "Ie0tE0Szgcya"
      }
    },
    {
      "cell_type": "markdown",
      "source": [
        "#### Vectorized Implementation\n",
        "![picture](https://drive.google.com/uc?export=view&id=1nQjWBk9q5_2YUMJtM8o8-ZLMOFFrmi_-)\n"
      ],
      "metadata": {
        "id": "YT4XZ7EQn47p"
      }
    },
    {
      "cell_type": "markdown",
      "source": [
        "> **Assessments Covered:-**\n",
        "- Vectorize: https://www.scaler.com/hire/test/problem/21058/"
      ],
      "metadata": {
        "id": "WjFpntila79L"
      }
    },
    {
      "cell_type": "markdown",
      "source": [
        "  \n",
        "<hr style=\"border:1px solid gray\"> </hr>\n",
        "  \n",
        "### Lets train this Softmax Classifier using Gradient Descent\n",
        "\n",
        "Let's implement the process of training this model using the process we followed earlier\n",
        "\n",
        "\n",
        "1. Initialise parameters: `W` and `b` matrices\n",
        "2. Calculate the output using the hypothesis.\n",
        "3. Calculate the error `J`\n",
        "4. Repeat until `J` converges\n",
        " - update $w_i = w_i - lr* \\frac{\\partial J}{\\partial w_i}$\n",
        " - calculate the output using hypothesis and updated params\n",
        " - calculate the error `J`\n"
      ],
      "metadata": {
        "id": "Mzr-cOeK87l3"
      }
    },
    {
      "cell_type": "markdown",
      "metadata": {
        "id": "v7IK21isrEV3"
      },
      "source": [
        "**Step 1**\n",
        "\n",
        "#### Let's initialise the parameters"
      ]
    },
    {
      "cell_type": "code",
      "execution_count": null,
      "metadata": {
        "id": "TtRydh-2rEV4"
      },
      "outputs": [],
      "source": [
        "# initialize parameters randomly\n",
        "W = 0.01 * np.random.randn(d,n)\n",
        "b = np.zeros((1,n))"
      ]
    },
    {
      "cell_type": "markdown",
      "metadata": {
        "id": "JqzgYKbxrEV4"
      },
      "source": [
        "**Step 2**\n",
        "\n",
        "#### Forward propagation\n",
        "\n",
        "#### Now, lets calculate the output using the hypothesis\n",
        "\n",
        "We will break this is into three parts\n",
        "1. calculate `z` using $XW$\n",
        "2. Apply Softmax on `z`\n",
        " - Raising z to exponential $e^z$ => `exp_z`\n",
        " - Normalising "
      ]
    },
    {
      "cell_type": "markdown",
      "metadata": {
        "id": "VWtfhc4frEV4"
      },
      "source": [
        "Let's compute the z scores"
      ]
    },
    {
      "cell_type": "code",
      "execution_count": null,
      "metadata": {
        "id": "-Y_56F_wrEV5",
        "outputId": "87c63a17-5dc8-4c28-b699-877a956e570e",
        "colab": {
          "base_uri": "https://localhost:8080/"
        }
      },
      "outputs": [
        {
          "output_type": "stream",
          "name": "stdout",
          "text": [
            "(300, 3)\n"
          ]
        }
      ],
      "source": [
        "# compute scores for a linear classifier\n",
        "z = np.dot(X, W) + b\n",
        "print(z.shape) # should be mXn = #examples X #output"
      ]
    },
    {
      "cell_type": "markdown",
      "metadata": {
        "id": "ASOSk_DtrEV5"
      },
      "source": [
        "Lets raise these scores to base $e$, and normalise them to get probabilities"
      ]
    },
    {
      "cell_type": "code",
      "execution_count": null,
      "metadata": {
        "id": "uWwFRrtcrEV5"
      },
      "outputs": [],
      "source": [
        "exp_z = np.exp(z)\n",
        "probs = exp_z / np.sum(exp_z, axis=1, keepdims=True) # explain why axis=1"
      ]
    },
    {
      "cell_type": "markdown",
      "metadata": {
        "id": "UuBTW3UjrEV6"
      },
      "source": [
        "Lets represent this process using a simple computation graph using the matrices.\n",
        "\n",
        "Here `s` represents softmax funtion\n",
        "\n"
      ]
    },
    {
      "cell_type": "markdown",
      "source": [
        "<center><img src='https://drive.google.com/uc?id=1rABeqxpwN2VtSF-J4GNo1MSA9UVPXS4g' width=600></center>\n",
        "\n",
        "\n"
      ],
      "metadata": {
        "id": "1P0xW330YPDZ"
      }
    },
    {
      "cell_type": "markdown",
      "source": [
        "---\n",
        "\n",
        "## Categorical Cross entropy"
      ],
      "metadata": {
        "id": "6g1jhVFr8n_C"
      }
    },
    {
      "cell_type": "markdown",
      "source": [
        "#### Question: What loss did we use for logistic regression ? \n",
        "\n",
        "Ans: Log loss\n",
        "\n",
        "$Log-loss$ = $y_i.log(ŷ_i) + (1 - y_i).log(1 - ŷ_i)$"
      ],
      "metadata": {
        "id": "h3NG_UDv8tes"
      }
    },
    {
      "cell_type": "markdown",
      "source": [
        "#### Question: Can we use this log-loss for multi-class setting ? \n",
        "\n",
        "**No**. Logloss only deals with binary setting as $ŷ$ over there represent prob. of datapoint belonging to class 1.\n",
        "\n",
        "We need a loss that can cater to the multi class setting. Let's define a loss"
      ],
      "metadata": {
        "id": "FwJIFERa98x6"
      }
    },
    {
      "cell_type": "markdown",
      "source": [
        "Suppose we have a point $x_i$\n",
        "- it can belong to one of the k classes i.e. total number of classes are $k$\n",
        "- Let $P_{ij}$ be the probab. of it belonging to $j^{th}$ class where $∀ j: 1 → k$\n",
        "\n",
        "\n",
        "\n"
      ],
      "metadata": {
        "id": "Na5fHu9M-N7s"
      }
    },
    {
      "cell_type": "markdown",
      "source": [
        "#### How will $y_i$ be represented?\n",
        "\n",
        "$y_i$'s will be **one hot encoded.**\n",
        "\n",
        "For example: If $y_i$ = 2 i.e. it belong to class 2. \n",
        "- then only $y_{i2}$ = 1\n",
        "- rest will be 0\n",
        "\n",
        "i.e. [0, 1, 0]"
      ],
      "metadata": {
        "id": "kRjgkSZaEJvW"
      }
    },
    {
      "cell_type": "markdown",
      "source": [
        "**Cross Entropy ($CE_i$)** for $i^{th}$ datapoint will be:\n",
        "\n",
        ">$CE_i$ = $-∑^k_{j =1}y_{ij}log(P_{ij})$"
      ],
      "metadata": {
        "id": "xuFNwF8KEKWK"
      }
    },
    {
      "cell_type": "markdown",
      "source": [
        "#### What happens to Cross entropy when k =2? (number of classes = 2)? \n"
      ],
      "metadata": {
        "id": "yIi_RfodFBxN"
      }
    },
    {
      "cell_type": "markdown",
      "source": [
        "When k =2 i.e. class 1 and class 2, CE becomes\n",
        "\n",
        "$CE_i$ = $- [y_{i1}log(P_{i1}) + y_{i2}log(P_{i2})]$\n",
        "\n",
        "where\n",
        "- $y_{i1}, y_{i2}$ are OHE target label\n",
        "- $P_{i1}, P_{i2}$ are the probab. of datapoint belonging to class 1 and class 2 resp.\n",
        "\n",
        "Suppose the datapoint belongs to class 1.\n",
        "- In that case, \n",
        "    - $y_{i1}$ = 1 \n",
        "    - $y_{i2}$ = 0\n",
        "\n",
        "Hence, we can write\n",
        "- $P_{i2}$ as ($1 - P_{i1}$)\n",
        "- $y_{i2}$ as ($1 - y_{i1}$)\n",
        "\n",
        "So, we are basically extending log loss to multiclass setting"
      ],
      "metadata": {
        "id": "uMcNJ6wYFeyp"
      }
    },
    {
      "cell_type": "markdown",
      "source": [
        "Do NOTE that,\n",
        "- Logloss is also known as **Binary Cross entropy**\n",
        "\n",
        "\n",
        "\n"
      ],
      "metadata": {
        "id": "8qRzQSheJ5TV"
      }
    },
    {
      "cell_type": "markdown",
      "source": [
        "To summarize,\n",
        "- In binary setting\n",
        "    - we use Sigmoid for probability\n",
        "    - and Binary CE/logloss as loss function\n",
        "\n",
        "- In multiclass setting,\n",
        "    - we use softmax to compute class probabilities\n",
        "    - and Cross entropy as loss function"
      ],
      "metadata": {
        "id": "-eehIr3WKqy1"
      }
    },
    {
      "cell_type": "markdown",
      "source": [
        "**Step 3:**\n",
        "#### Calculate the loss.\n",
        "- Let's calculate **cross-entropy error**\n",
        " - It simplifies to taking log of predicted probability for the actual class\n",
        " - Why? Because the other terms will become $y_i*log(\\hat{y}_i)$ terms will become zero on multiplying $y_i=0$\n",
        " - Lets calculate cross-entropy error for each sample, and call it `error`\n",
        " - The full loss is then the average of these log probabilities to compute the loss\n"
      ],
      "metadata": {
        "id": "VOEAUZUmNzgE"
      }
    },
    {
      "cell_type": "code",
      "execution_count": null,
      "metadata": {
        "id": "Gg9jClP9rEV7",
        "outputId": "063ce02d-68d4-4102-b471-f5b4338e1932",
        "colab": {
          "base_uri": "https://localhost:8080/"
        }
      },
      "outputs": [
        {
          "output_type": "execute_result",
          "data": {
            "text/plain": [
              "1.1001642531669382"
            ]
          },
          "metadata": {},
          "execution_count": 8
        }
      ],
      "source": [
        "def loss(y, probs):\n",
        "    m = y.shape[0]\n",
        "    error = -np.log(probs[range(m), y])\n",
        "    return np.sum(error)/m\n",
        "loss(y, probs)"
      ]
    },
    {
      "cell_type": "markdown",
      "source": [
        "\n",
        "![picture](https://drive.google.com/uc?export=view&id=10RpkDV24RUonN49GjuZSW3wWsLkf0wRd)"
      ],
      "metadata": {
        "id": "HFtvIbLn-pEt"
      }
    },
    {
      "cell_type": "markdown",
      "source": [
        "## Backward propogation"
      ],
      "metadata": {
        "id": "_AYDLffdTUr5"
      }
    },
    {
      "cell_type": "markdown",
      "source": [
        "We had the following NN for our multiclass classification "
      ],
      "metadata": {
        "id": "TEOnsPn-bxOK"
      }
    },
    {
      "cell_type": "markdown",
      "source": [
        "<center><img src='https://drive.google.com/uc?id=1LDBuwe2xUQ_CF9ymiHvxzb2ojuYq16oz' width=\"800\"></center>\n",
        "\n",
        "\n",
        "\n",
        "\n",
        "\n",
        "\n",
        "\n",
        "\n"
      ],
      "metadata": {
        "id": "2tEB6rzyZTqG"
      }
    },
    {
      "cell_type": "markdown",
      "source": [
        "Let's draw computational graph for this"
      ],
      "metadata": {
        "id": "OOgfYrQsZURy"
      }
    },
    {
      "cell_type": "markdown",
      "source": [
        "\n",
        "\n",
        "<center><img src='https://drive.google.com/uc?id=1B9cHNnwhrLp2tJlle8TmCktltlbtey3Z' width=600></center>\n"
      ],
      "metadata": {
        "id": "umfBGT3TTLtr"
      }
    },
    {
      "cell_type": "markdown",
      "source": [
        "\n",
        "\n",
        "\n",
        "#### Question: How did we decrease the loss in Logistic Regression?\n",
        "\n",
        "- We calculate partial derivative of J wrt each W and b.\n",
        "- And then we iteratively updated the params values of $W$ and $b$\n",
        "- What does the partial derivative explain inituitively? How does J change with a small change in any param?\n",
        "\n",
        "Problem: **We cannot directly calculate dW and db here**\n",
        "\n",
        "- But what we can see is the error J is directly dependent on `p`, so we can calculate $\\frac{\\partial J}{\\partial p_i}$ directly\n",
        "- Further, the `p` in-turn  depend on `z`, and `z` is of course dependent on `W` (and `b`).\n",
        "\n",
        "#### Lets break this down using chain rule  \n"
      ],
      "metadata": {
        "id": "CiJYH46xP75-"
      }
    },
    {
      "cell_type": "markdown",
      "source": [
        "\n",
        "\n",
        "<center><img src='https://drive.google.com/uc?id=1b_cQdk8t8YR2GBs78pDFYXZM-dRYwZPJ' width=700></center>\n",
        "\n"
      ],
      "metadata": {
        "id": "ci-NT0-ueRw7"
      }
    },
    {
      "cell_type": "markdown",
      "metadata": {
        "id": "oBAj5kyu7ht0"
      },
      "source": [
        "\n",
        "\n",
        "$$\\frac{\\partial J}{\\partial w} =  \\frac{\\partial J}{\\partial z} \\frac{\\partial z}{\\partial w}$$\n",
        "\n",
        "We can see from the picture that $\\frac{\\partial J}{\\partial z}$ can be calculated using\n",
        "\n",
        "$$\\frac{\\partial J}{\\partial w} =  \\frac{\\partial J}{\\partial p} \\frac{\\partial p}{\\partial z} \\frac{\\partial z}{\\partial w}$$\n",
        "\n",
        "- Since, J (cost function) is the final function we want to optimise, we would come across a lot of intermediate calculations like $\\frac{\\partial J}{\\partial <var>}$.\n",
        "- In Python, we will represent gradients of J, $\\frac{\\partial J}{\\partial w}$ as `dw`.\n",
        "- And the equation $\\frac{\\partial J}{\\partial w} =  \\frac{\\partial J}{\\partial z} \\frac{\\partial z}{\\partial w}$ can be represented as \n",
        "$$dw =  dz  \\frac{\\partial z}{\\partial w}$$\n",
        "\n",
        "Since, we are moving from right to left across the computational graph, we call this process backpropagation.\n",
        "\n",
        "<hr style=\"border:1px solid gray\"> </hr>"
      ]
    },
    {
      "cell_type": "markdown",
      "metadata": {
        "id": "Iz0K71j27ht0"
      },
      "source": [
        "### Let's calculate gradients using backpropagation\n",
        "\n",
        "- We previously calculated $\\frac{\\partial z}{\\partial w}$ in LR - since $z=w^Tx$, $\\frac{\\partial z}{\\partial w}=x$\n",
        "- Now, we need to calculate `dz`, $dz=\\frac{\\partial J}{\\partial p} \\frac{\\partial p}{\\partial z}$ \n",
        "\n",
        "Turns out that the result for `dz` has a very neat and intuitive solution (won't get into derivation)\n",
        "\n",
        "$$dz = (p_k - I (i=k))$$\n",
        "\n",
        "- First, the second term is called an **Indicator Function**, \n",
        "    - where p_k  is the prob. of class K \n",
        "    - it is 1 when `i==k`, else 0.\n",
        "- Suppose `probs = [0.2, 0.3, 0.5]`, and that the correct class was the middle one  (0.3). \n",
        "- According to the formula, gradients would be `dz = [0.2, -0.7, 0.5]`\n",
        "- If we were saving ground truth, y,  as one-hot encoded vectors, we could have done this by just doing $p -y$\n",
        "\n",
        "We won't go into its derivation, but lets intuitively understand this\n",
        "\n",
        "<br>\n",
        "\n",
        "#### Why are we subtracting 1 only from the probability of true class? \n",
        "- The use of subtracting 1 from the true class is to make it derivative negative.\n",
        "- For the true class (middle), increasing its probability values will decrease the error (0.3 --> -0.7) - aligns with goal.\n",
        "- For other values, first and last, increase (or keeping it same) their probability values will increase the error - aligns with goal."
      ]
    },
    {
      "cell_type": "code",
      "execution_count": null,
      "metadata": {
        "id": "vpvBysnG7ht0"
      },
      "outputs": [],
      "source": [
        "dz = probs # dz = probabilities of class \n",
        "dz[range(m),y] -= 1  # subtracting 1 from class where i == j as dz = pi - I\n",
        "#dz = dz/m"
      ]
    },
    {
      "cell_type": "markdown",
      "metadata": {
        "id": "lE3TFTzT7ht0"
      },
      "source": [
        "$\\frac{\\partial z_i}{\\partial w_i}$ is something we calculated earlier as well in LR, it will be equal to X.\n",
        "\n",
        "Now, to calculate dW, we just need to multiply X with dz"
      ]
    },
    {
      "cell_type": "code",
      "source": [
        "X.shape # shape (m, d)"
      ],
      "metadata": {
        "colab": {
          "base_uri": "https://localhost:8080/"
        },
        "id": "0ijpwZ3yTYC1",
        "outputId": "c1d38d28-3f6d-4e29-cd8f-d955c7dc6fe2"
      },
      "execution_count": null,
      "outputs": [
        {
          "output_type": "execute_result",
          "data": {
            "text/plain": [
              "(300, 2)"
            ]
          },
          "metadata": {},
          "execution_count": 10
        }
      ]
    },
    {
      "cell_type": "code",
      "source": [
        "# shape (m, n ) as we have m samples and each sample has 3 class probab.\n",
        "dz.shape "
      ],
      "metadata": {
        "colab": {
          "base_uri": "https://localhost:8080/"
        },
        "id": "cIlwEiGWTbJc",
        "outputId": "c1c12487-ccb3-41f5-de75-927c645694e3"
      },
      "execution_count": null,
      "outputs": [
        {
          "output_type": "execute_result",
          "data": {
            "text/plain": [
              "(300, 3)"
            ]
          },
          "metadata": {},
          "execution_count": 11
        }
      ]
    },
    {
      "cell_type": "code",
      "execution_count": null,
      "metadata": {
        "id": "jk_WYdWL7ht0",
        "colab": {
          "base_uri": "https://localhost:8080/"
        },
        "outputId": "19e6b5fd-88d8-4146-ce75-2856ace8a4aa"
      },
      "outputs": [
        {
          "output_type": "execute_result",
          "data": {
            "text/plain": [
              "(2, 3)"
            ]
          },
          "metadata": {},
          "execution_count": 12
        }
      ],
      "source": [
        "# dW = dZ . X\n",
        "\n",
        "dW = np.dot(X.T, dz) # check dimensions (2, 300) x (300 , 3) => (2, 3)\n",
        "dW.shape"
      ]
    },
    {
      "cell_type": "code",
      "source": [
        "b.shape # shape (1, n) "
      ],
      "metadata": {
        "colab": {
          "base_uri": "https://localhost:8080/"
        },
        "id": "wwyolIARTu6p",
        "outputId": "25456720-ff96-4128-e47d-41c001267140"
      },
      "execution_count": null,
      "outputs": [
        {
          "output_type": "execute_result",
          "data": {
            "text/plain": [
              "(1, 3)"
            ]
          },
          "metadata": {},
          "execution_count": 13
        }
      ]
    },
    {
      "cell_type": "markdown",
      "source": [
        "We know that,\n",
        "\n",
        "$z = wx + b$\n",
        "\n",
        "So,\n",
        "\n",
        "- $\\frac{∂z}{∂b}$ = $\\frac{∂(wx + b)}{∂b}$ = 1 \n",
        "\n",
        "- as wx will be treated as constant when calculating partial derivative w.r.t b\n",
        "\n",
        "\n",
        "Now,\n",
        "\n",
        "For calculating db,\n",
        "\n",
        "db = dz.$\\frac{∂Z}{∂b}$ = dz\n",
        "\n",
        "#### But why sum? \n",
        "\n",
        "Since we are performing GD and not SGD, \n",
        "- we'll take sum of average across all points \n",
        "- we already took the average of dz (dz = dz/m)\n",
        "\n",
        "Recall update equation of bias\n",
        "\n",
        "\n",
        "\n"
      ],
      "metadata": {
        "id": "E8QfBTDiIlFr"
      }
    },
    {
      "cell_type": "markdown",
      "source": [
        "<center><img src='https://drive.google.com/uc?id=1IeM-uQ6cYp-167twAm8CuEK5avjn-j68' width=600></center>\n",
        "\n",
        "\n"
      ],
      "metadata": {
        "id": "SIPYvH5XMq7u"
      }
    },
    {
      "cell_type": "code",
      "source": [
        "db = np.sum(dz, axis=0, keepdims=True)\n",
        "db.shape"
      ],
      "metadata": {
        "colab": {
          "base_uri": "https://localhost:8080/"
        },
        "id": "tBNyMDF4Tqdz",
        "outputId": "1100905c-fc64-47ba-833b-8c3e97d80a90"
      },
      "execution_count": null,
      "outputs": [
        {
          "output_type": "execute_result",
          "data": {
            "text/plain": [
              "(1, 3)"
            ]
          },
          "metadata": {},
          "execution_count": 14
        }
      ]
    },
    {
      "cell_type": "code",
      "execution_count": null,
      "metadata": {
        "id": "GRAiyPl97ht1"
      },
      "outputs": [],
      "source": [
        "def backprop(probs, y):\n",
        "    # we know that dz = pi - I\n",
        "    dz = probs # dz = pi\n",
        "    dz[range(m),y] -= 1 # subtacting 1 where i ==j i.e. class label matches\n",
        "    dz = dz/m # taking average as we have m points\n",
        "    dW = np.dot(X.T, dz) \n",
        "    db = np.sum(dz, axis=0, keepdims=True)\n",
        "    return dW, db"
      ]
    },
    {
      "cell_type": "markdown",
      "metadata": {
        "id": "5u5MHDezrEWB"
      },
      "source": [
        "Since, we are moving from right to left, to calculate the gradients, lets call it backproprogation"
      ]
    },
    {
      "cell_type": "markdown",
      "metadata": {
        "id": "Bb5OvKTo7ht1"
      },
      "source": [
        "#### Once, we have the gradients, we will update the parameters"
      ]
    },
    {
      "cell_type": "code",
      "execution_count": null,
      "metadata": {
        "id": "1u_c0r5Z7ht1"
      },
      "outputs": [],
      "source": [
        "lr = 0.1\n",
        "W += -lr * dW\n",
        "b += -lr * db"
      ]
    },
    {
      "cell_type": "markdown",
      "metadata": {
        "id": "xPfHt-LT7ht1"
      },
      "source": [
        "Lets put all this together in a class"
      ]
    },
    {
      "cell_type": "code",
      "execution_count": null,
      "metadata": {
        "outputId": "22e1d614-1031-48f0-f87b-6a8b5a2c2372",
        "colab": {
          "base_uri": "https://localhost:8080/"
        },
        "id": "hFUX0j2f7ht1"
      },
      "outputs": [
        {
          "output_type": "stream",
          "name": "stdout",
          "text": [
            "iteration: 0, loss: 1.0954150675874237\n",
            "iteration: 100, loss: 0.7447155509295845\n",
            "iteration: 200, loss: 0.7405315989722148\n",
            "iteration: 300, loss: 0.7402161252089448\n",
            "iteration: 400, loss: 0.7401859846894978\n"
          ]
        }
      ],
      "source": [
        "max_iters = 500\n",
        "lr = 1 \n",
        "\n",
        "d = X.shape[1]\n",
        "n = len(np.unique(y))\n",
        "m = X.shape[0]\n",
        "W = 0.01 * np.random.randn(d,n)\n",
        "b = np.zeros((1,n))\n",
        "loss_history = []\n",
        "\n",
        "for i in range(max_iters): \n",
        "    # evaluate the class probs\n",
        "    z = np.dot(X, W) + b\n",
        "    exp_z = np.exp(z)\n",
        "    probs = exp_z/np.sum(exp_z, axis=1, keepdims=True) \n",
        "\n",
        "    # compute the loss: average cross-entropy loss and regularization\n",
        "    error = -np.log(probs[range(m), y])\n",
        "    loss = np.sum(error)/m\n",
        "    loss_history.append(loss)\n",
        "    if i % 100 == 0:\n",
        "        print(f\"iteration: {i}, loss: {loss}\")\n",
        "        \n",
        "\n",
        "    # compute the gradient on score\n",
        "    dZ = probs \n",
        "    dZ[range(m),y] -= 1 \n",
        "    dZ = dZ/m\n",
        "    dW = np.dot(X.T, dZ)\n",
        "    db = np.sum(dZ, axis=0, keepdims=True)\n",
        "\n",
        "    # perform a parameter update using gradient descent\n",
        "    W += -lr * dW\n",
        "    b += -lr * db    \n",
        "# history = pd.DataFrame({'step': list(range(max_iters)), 'loss': loss_history})\n",
        "# history.plot(x='step', y='loss',xlabel='step', ylabel='loss')"
      ]
    },
    {
      "cell_type": "code",
      "execution_count": null,
      "metadata": {
        "outputId": "cbae699a-7ad6-4e29-e2b8-bdb606d65081",
        "colab": {
          "base_uri": "https://localhost:8080/"
        },
        "id": "WvL9xpSh7ht1"
      },
      "outputs": [
        {
          "output_type": "stream",
          "name": "stdout",
          "text": [
            "Training Accuracy 0.5266666666666666\n"
          ]
        }
      ],
      "source": [
        "def predict(X):\n",
        "    Z = np.dot(X, W) + b\n",
        "    Z_e = np.exp(Z)\n",
        "    probs = Z_e/np.sum(Z_e, axis=1, keepdims=True) \n",
        "    return np.argmax(probs, axis=1)\n",
        "\n",
        "print(f\"Training Accuracy {np.sum(predict(X) == y)/m}\")"
      ]
    },
    {
      "cell_type": "markdown",
      "metadata": {
        "id": "GFHx_NP87ht1"
      },
      "source": [
        "We have adapted the Logistic Regression model to work for mult-class setting.\n",
        "\n",
        "Let's plot the decision boundaries"
      ]
    },
    {
      "cell_type": "code",
      "execution_count": null,
      "metadata": {
        "outputId": "87609015-cf50-472e-b5ba-f949c30c2d45",
        "colab": {
          "base_uri": "https://localhost:8080/",
          "height": 265
        },
        "id": "P3kYQGsx7ht2"
      },
      "outputs": [
        {
          "output_type": "display_data",
          "data": {
            "text/plain": [
              "<Figure size 432x288 with 1 Axes>"
            ],
            "image/png": "[encoded data removed]"
          },
          "metadata": {
            "needs_background": "light"
          }
        }
      ],
      "source": [
        "# create a 2D grid\n",
        "step = 0.02\n",
        "x_min, x_max = X[:, 0].min() - 1, X[:, 0].max() + 1\n",
        "y_min, y_max = X[:, 1].min() - 1, X[:, 1].max() + 1\n",
        "xx, yy = np.meshgrid(np.arange(x_min, x_max, step), np.arange(y_min, y_max, step))\n",
        "\n",
        "# predict for all the points in the grid\n",
        "y_hat = predict(np.c_[xx.ravel(), yy.ravel()]) # concatenates along second axis\n",
        "y_hat = y_hat.reshape(xx.shape)\n",
        "\n",
        "# plot\n",
        "fig = plt.figure()\n",
        "plt.contourf(xx, yy, y_hat, cmap=plt.cm.Spectral, alpha=0.8)\n",
        "plt.scatter(X[:, 0], X[:, 1], c=y, s=40, cmap=plt.cm.Spectral)\n",
        "plt.xlim(xx.min(), xx.max())\n",
        "plt.ylim(yy.min(), yy.max())\n",
        "plt.show()"
      ]
    },
    {
      "cell_type": "markdown",
      "metadata": {
        "id": "fc_TAEO_7ht2"
      },
      "source": [
        "- We can see that the model has learnt three decision boundaries\n",
        "- But since  haven't added any intermediate layer of neurons to create complex features, we don't expect the model to learn complex boundaries"
      ]
    },
    {
      "cell_type": "markdown",
      "metadata": {
        "id": "Bxgxh6xa7ht2"
      },
      "source": [
        "#### Softmax Classifier code wrapped in a Python class "
      ]
    },
    {
      "cell_type": "code",
      "execution_count": null,
      "metadata": {
        "id": "_KksJRrV7ht2"
      },
      "outputs": [],
      "source": [
        "class SoftmaxClassfier:\n",
        "    def __init__(self, n_features, n_outputs):\n",
        "        self.d = n_features\n",
        "        self.n = n_outputs\n",
        "        self.W = 0.01 * np.random.randn(d,n)\n",
        "        self.b = np.zeros((1,n))\n",
        "        self.loss = []\n",
        "        \n",
        "    def fwdprop(self, X):\n",
        "        z = np.dot(X, self.W) + self.b\n",
        "        exp_z = np.exp(z)\n",
        "        probs = exp_z / np.sum(exp_z, axis=1, keepdims=True) \n",
        "        return probs\n",
        "\n",
        "    def cce_loss(self, probs, y):\n",
        "        m = y.shape[0]\n",
        "        error = -np.log(probs[range(m), y])\n",
        "        return np.sum(error)/m \n",
        "    \n",
        "    def backprop(self, probs, y):\n",
        "        m = y.shape[0]\n",
        "        dz = probs \n",
        "        dz[range(m),y] -= 1 \n",
        "        dz = dz/m\n",
        "        dW = np.dot(X.T, dz)\n",
        "        db = np.sum(dz, axis=0, keepdims=True)\n",
        "        return dW, db\n",
        "    \n",
        "    def fit(self, X, y, lr=0.1, max_iters=50):\n",
        "        \n",
        "        for i in range(max_iters):\n",
        "            # evaluate the class probs\n",
        "            probs = self.fwdprop(X)\n",
        "        \n",
        "            # compute the loss: average cross-entropy loss and regularization\n",
        "            loss = self.cce_loss(probs, y)\n",
        "\n",
        "            # compute the gradient on score\n",
        "            dW, db = self.backprop(probs, y)\n",
        "            \n",
        "            # perform a parameter update using gradient descent\n",
        "            self.W += -lr * dW\n",
        "            self.b += -lr * db\n",
        "            self.loss.append(loss)\n",
        "            \n",
        "        self.history = pd.DataFrame({\n",
        "        'step': list(range(max_iters)), \n",
        "        'loss': self.loss})\n",
        "    \n",
        "    def plot_loss(self):\n",
        "        return self.history.plot(x='step', y='loss',xlabel='step', ylabel='loss')\n",
        "    \n",
        "    def predict(self, X):\n",
        "        probs = self.fwdprop(X)\n",
        "        return np.argmax(probs, axis=1)\n",
        "\n",
        "model = SoftmaxClassfier(n_features=2, n_outputs=3)\n",
        "model.fit(X, y, lr=1, max_iters=500)\n",
        "#model.plot_loss()\n",
        "#print('training accuracy:', np.sum(model.predict(X) == y)/X.shape[0])"
      ]
    }
  ]
}