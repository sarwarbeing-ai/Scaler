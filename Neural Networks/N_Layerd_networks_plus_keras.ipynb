{
  "nbformat": 4,
  "nbformat_minor": 0,
  "metadata": {
    "colab": {
      "provenance": []
    },
    "kernelspec": {
      "name": "python3",
      "display_name": "Python 3"
    },
    "language_info": {
      "name": "python"
    }
  },
  "cells": [
    {
      "cell_type": "code",
      "execution_count": 1,
      "metadata": {
        "id": "2BWJLtyVidf7"
      },
      "outputs": [],
      "source": [
        "import numpy as np\n",
        "# initialize parameters randomly\n",
        "d = 2 # diensionality / number of inputs\n",
        "n = 3 # Number of classes (A/B/C) / Number of neurons in output layer\n",
        "h = 4 # neurons in hidden layer"
      ]
    },
    {
      "cell_type": "code",
      "source": [
        "W1 = 0.01 * np.random.randn(d,h)\n",
        "b1 = np.zeros((1,h))\n",
        "W2 = 0.01 * np.random.randn(h,n)\n",
        "b2 = np.zeros((1,n))"
      ],
      "metadata": {
        "id": "P7wsoaWZsPEM"
      },
      "execution_count": 2,
      "outputs": []
    },
    {
      "cell_type": "code",
      "source": [
        "import pandas as pd"
      ],
      "metadata": {
        "id": "aeblTxB1sak3"
      },
      "execution_count": 3,
      "outputs": []
    },
    {
      "cell_type": "code",
      "source": [
        "!gdown 1dLOPwh01o3k8p_hK633ixhD1ehz6nNWk \n",
        "df = pd.read_csv(\"/content/spiral.csv\")\n",
        "\n",
        "# Separating feature and label columns\n",
        "X = df.iloc[:, :-1].to_numpy()\n",
        "y = df.iloc[:, -1].to_numpy()"
      ],
      "metadata": {
        "colab": {
          "base_uri": "https://localhost:8080/"
        },
        "id": "uJxTnvyPscdX",
        "outputId": "6494ec2e-be9e-47d0-f8b5-b53041e9a6ad"
      },
      "execution_count": 4,
      "outputs": [
        {
          "output_type": "stream",
          "name": "stdout",
          "text": [
            "Downloading...\n",
            "From: https://drive.google.com/uc?id=1dLOPwh01o3k8p_hK633ixhD1ehz6nNWk\n",
            "To: /content/spiral.csv\n",
            "\r  0% 0.00/12.9k [00:00<?, ?B/s]\r100% 12.9k/12.9k [00:00<00:00, 12.0MB/s]\n"
          ]
        }
      ]
    },
    {
      "cell_type": "code",
      "source": [
        "m = len(X)\n",
        "lr = 1e-0\n",
        "m"
      ],
      "metadata": {
        "colab": {
          "base_uri": "https://localhost:8080/"
        },
        "id": "IBXt1rrJto_r",
        "outputId": "51c9ecec-c2e0-4048-eba8-f57cc70aa960"
      },
      "execution_count": 5,
      "outputs": [
        {
          "output_type": "execute_result",
          "data": {
            "text/plain": [
              "300"
            ]
          },
          "metadata": {},
          "execution_count": 5
        }
      ]
    },
    {
      "cell_type": "markdown",
      "source": [
        "```python\n",
        "# FWD Prop\n",
        "Z1 = np.dot(X, W1) + b1\n",
        "A1 = np.maximum(0, Z1)  # relu\n",
        "\n",
        "Z2 = np.dot(A1, W2) + b2\n",
        "A2 = np.exp(Z2) / np.sum(np.exp(Z2), axis=1, keepdims=True) # softmax\n",
        "\n",
        "probs = A2\n",
        "# Loss\n",
        "loss = np.mean(-np.log(probs[range(m), y]))\n",
        "\n",
        "# Early Stopping ??\n",
        "\n",
        "### Back Prop\n",
        "dZ2 = probs\n",
        "dZ2[range(m), y] -= 1\n",
        "dZ2 = dZ2 / m\n",
        "\n",
        "dW2 = np.dot(A1.T, dZ2)\n",
        "db2 = np.sum(dZ2, axis=0, keepdims=True)\n",
        "\n",
        "dA1 = np.dot(dZ2, W2.T)\n",
        "dA1[Z1 < 0] = 0\n",
        "dZ1 = dA1\n",
        "\n",
        "dW1 = np.dot(X.T, dZ1)\n",
        "db1 = np.sum(dZ1, axis=0, keepdims=True)\n",
        "\n",
        "W1 += -lr * dW1\n",
        "b1 += -lr * db1\n",
        "W2 += -lr * dW2\n",
        "b2 += -lr * db2\n",
        "```"
      ],
      "metadata": {
        "id": "58W--yoJsdYP"
      }
    },
    {
      "cell_type": "code",
      "source": [
        "class NN:\n",
        "    \n",
        "    def __init__(self, n_features, n_hidden, n_classes):\n",
        "        self.d = n_features\n",
        "        self.h = n_hidden\n",
        "        self.n = n_classes\n",
        "        self.W1 = 0.01 * np.random.randn(self.d, self.h)\n",
        "        self.b1 = np.zeros((1,self.h))\n",
        "        self.W2 = 0.01 * np.random.randn(self.h,self.n)\n",
        "        self.b2 = np.zeros((1,self.n))\n",
        "     \n",
        "    def fwd_prop(self, X):\n",
        "        Z1 = np.dot(X, self.W1) + self.b1\n",
        "        A1 = np.maximum(0, Z1)\n",
        "        Z2 = np.dot(A1, self.W2) + self.b2\n",
        "        Z2 = np.exp(Z2)\n",
        "        A2 = Z2 / np.sum(Z2, axis=1, keepdims=True)\n",
        "        return A1, A2\n",
        "    \n",
        "    def cce_loss(self, y, probs):\n",
        "        num_examples = y.shape[0]\n",
        "        correct_logprobs = -np.log(probs[range(num_examples),y])\n",
        "        loss = np.sum(correct_logprobs)/num_examples\n",
        "        return loss  \n",
        "    \n",
        "    def back_prop(self, X, A1, A2, y):\n",
        "        # compute the gradient on scores\n",
        "        num_examples = y.shape[0]\n",
        "        dZ2 = A2\n",
        "        dZ2[range(num_examples),y] -= 1\n",
        "        dZ2 /= num_examples\n",
        "        # first backprop into parameters W2 and b2\n",
        "        dW2 = np.dot(A1.T, dZ2)\n",
        "        db2 = np.sum(dZ2, axis=0, keepdims=True)\n",
        "        # next backprop into hidden layer, A1\n",
        "        dA1 = np.dot(dZ2, self.W2.T)\n",
        "        # backprop the ReLU non-linearity\n",
        "        dA1[A1 <= 0] = 0\n",
        "        # finally into W,b\n",
        "        dZ1 = dA1\n",
        "        dW1 = np.dot(X.T, dZ1)\n",
        "        db1 = np.sum(dZ1, axis=0, keepdims=True)\n",
        "        return dW1, db1, dW2, db2       \n",
        "    \n",
        "    def fit(self, X, lr, reg, max_iters):\n",
        "        num_examples = X.shape[0]\n",
        "        for i in range(max_iters):\n",
        "            #foward prop\n",
        "            A1, A2 = self.fwd_prop(X)\n",
        "            # calculate loss\n",
        "            data_loss = self.cce_loss(y, A2)\n",
        "            # reg_loss = 0.5*reg*np.sum(self.W1*self.W1) + 0.5*reg*np.sum(self.W2*self.W2)\n",
        "            loss = data_loss #+ reg_loss\n",
        "            \n",
        "            if i % 1000 == 0:\n",
        "                print(\"iteration %d: loss %f\" % (i, loss))\n",
        "        \n",
        "            dW1, db1, dW2, db2  = self.back_prop(X, A1, A2, y)\n",
        "          \n",
        "            # perform a parameter update\n",
        "            self.W1 += -lr * dW1\n",
        "            self.b1 += -lr * db1\n",
        "            self.W2 += -lr * dW2\n",
        "            self.b2 += -lr * db2\n",
        "        \n",
        "    def predict(self, X):\n",
        "        A1 = np.maximum(0, np.dot(X, self.W1) + self.b1) # ReLU(Z1) = ReLU(W1T. X + b1)\n",
        "        Z2 = np.dot(A1, self.W2) + self.b2 # Z2 = W2T.A1 + b2 => 3 probab\n",
        "        # A2 = omited for efficiency\n",
        "        y_hat = np.argmax(Z2, axis=1) # taking index of max probab\n",
        "        return y_hat\n",
        "    \n",
        "nn_model = NN(n_features=2, n_hidden=100, n_classes=3)\n",
        "nn_model.fit(X, lr=1, reg=1e-3, max_iters=10000)\n",
        "print('training accuracy: %.2f' % (np.mean(nn_model.predict(X) == y)))"
      ],
      "metadata": {
        "colab": {
          "base_uri": "https://localhost:8080/"
        },
        "id": "EhRIjJbjx6J_",
        "outputId": "b70ed8a4-535e-419d-db94-b0bc62374160"
      },
      "execution_count": 6,
      "outputs": [
        {
          "output_type": "stream",
          "name": "stdout",
          "text": [
            "iteration 0: loss 1.098739\n",
            "iteration 1000: loss 0.115885\n",
            "iteration 2000: loss 0.045450\n",
            "iteration 3000: loss 0.033898\n",
            "iteration 4000: loss 0.028453\n",
            "iteration 5000: loss 0.025163\n",
            "iteration 6000: loss 0.022966\n",
            "iteration 7000: loss 0.021399\n",
            "iteration 8000: loss 0.020222\n",
            "iteration 9000: loss 0.019291\n",
            "training accuracy: 0.99\n"
          ]
        }
      ]
    },
    {
      "cell_type": "code",
      "source": [
        "from matplotlib import pyplot as plt"
      ],
      "metadata": {
        "id": "GFQv_qvMzRNA"
      },
      "execution_count": 7,
      "outputs": []
    },
    {
      "cell_type": "code",
      "source": [
        "# create a 2D grid\n",
        "step = 0.02\n",
        "x_min, x_max = X[:, 0].min() - 1, X[:, 0].max() + 1\n",
        "y_min, y_max = X[:, 1].min() - 1, X[:, 1].max() + 1\n",
        "xx, yy = np.meshgrid(np.arange(x_min, x_max, step), np.arange(y_min, y_max, step))\n",
        "\n",
        "# predict for all the points in the grid\n",
        "\n",
        "y_hat = nn_model.predict(np.c_[xx.ravel(), yy.ravel()])\n",
        "y_hat = y_hat.reshape(xx.shape)\n",
        "\n",
        "# plot\n",
        "fig = plt.figure()\n",
        "plt.contourf(xx, yy, y_hat, cmap=plt.cm.Spectral, alpha=0.8)\n",
        "plt.scatter(X[:, 0], X[:, 1], c=y, s=40, cmap=plt.cm.Spectral)\n",
        "plt.xlim(xx.min(), xx.max())\n",
        "plt.ylim(yy.min(), yy.max())\n",
        "plt.show()"
      ],
      "metadata": {
        "colab": {
          "base_uri": "https://localhost:8080/",
          "height": 265
        },
        "id": "OiNdU3NozoDN",
        "outputId": "c675343d-183e-4c3a-fdf1-bafe0815eefa"
      },
      "execution_count": 8,
      "outputs": [
        {
          "output_type": "display_data",
          "data": {
            "text/plain": [
              "<Figure size 432x288 with 1 Axes>"
            ],
            "image/png": "[encoded data removed]"
          },
          "metadata": {
            "needs_background": "light"
          }
        }
      ]
    },
    {
      "cell_type": "code",
      "source": [
        "from sklearn.neural_network import MLPClassifier\n",
        "mlp = MLPClassifier(solver='adam', \n",
        "                    alpha=1e-5,\n",
        "                    hidden_layer_sizes=(4), \n",
        "                    random_state=100, \n",
        "                    learning_rate_init=1,\n",
        "                    activation='relu', \n",
        "                    max_iter=5000)\n",
        "mlp.fit(X, y)\n",
        "print(mlp.score(X, y))"
      ],
      "metadata": {
        "colab": {
          "base_uri": "https://localhost:8080/"
        },
        "id": "l2Cz_7DAzowO",
        "outputId": "f204e99c-292d-48a2-e437-f6f676178b23"
      },
      "execution_count": 9,
      "outputs": [
        {
          "output_type": "stream",
          "name": "stdout",
          "text": [
            "0.74\n"
          ]
        }
      ]
    },
    {
      "cell_type": "markdown",
      "source": [
        "## Tensorflow\n",
        "\n",
        "-- Google"
      ],
      "metadata": {
        "id": "84NdDsSX3ONa"
      }
    },
    {
      "cell_type": "code",
      "source": [
        "import tensorflow as tf\n",
        "tf.__version__"
      ],
      "metadata": {
        "colab": {
          "base_uri": "https://localhost:8080/",
          "height": 35
        },
        "id": "ugKy10Fc4wT4",
        "outputId": "9fa6c121-e3a9-43cb-c24b-5a7af8fa636c"
      },
      "execution_count": 10,
      "outputs": [
        {
          "output_type": "execute_result",
          "data": {
            "text/plain": [
              "'2.9.2'"
            ],
            "application/vnd.google.colaboratory.intrinsic+json": {
              "type": "string"
            }
          },
          "metadata": {},
          "execution_count": 10
        }
      ]
    },
    {
      "cell_type": "code",
      "source": [
        "from tensorflow.keras.models import Sequential\n",
        "from tensorflow.keras.layers import Dense, Input"
      ],
      "metadata": {
        "id": "9lIB1Tco42dR"
      },
      "execution_count": 11,
      "outputs": []
    },
    {
      "cell_type": "code",
      "source": [
        "model = Sequential([\n",
        "      Dense(4, activation=\"relu\", input_shape=(2,), name='H1'), \n",
        "      Dense(3, activation=\"softmax\", name='out')\n",
        "])"
      ],
      "metadata": {
        "id": "R8be09r85PY_"
      },
      "execution_count": 12,
      "outputs": []
    },
    {
      "cell_type": "code",
      "source": [
        "for param in model.weights:\n",
        "  print(param.shape)"
      ],
      "metadata": {
        "colab": {
          "base_uri": "https://localhost:8080/"
        },
        "id": "g1qnamhz6op2",
        "outputId": "c625b9ce-59de-4ed1-8cda-a8a16f0f9625"
      },
      "execution_count": 13,
      "outputs": [
        {
          "output_type": "stream",
          "name": "stdout",
          "text": [
            "(2, 4)\n",
            "(4,)\n",
            "(4, 3)\n",
            "(3,)\n"
          ]
        }
      ]
    },
    {
      "cell_type": "code",
      "source": [
        "model.summary()"
      ],
      "metadata": {
        "colab": {
          "base_uri": "https://localhost:8080/"
        },
        "id": "XfGVw-_U7vdv",
        "outputId": "c8bb4c4b-e04f-4f01-de8c-c6d150d50f56"
      },
      "execution_count": 14,
      "outputs": [
        {
          "output_type": "stream",
          "name": "stdout",
          "text": [
            "Model: \"sequential\"\n",
            "_________________________________________________________________\n",
            " Layer (type)                Output Shape              Param #   \n",
            "=================================================================\n",
            " H1 (Dense)                  (None, 4)                 12        \n",
            "                                                                 \n",
            " out (Dense)                 (None, 3)                 15        \n",
            "                                                                 \n",
            "=================================================================\n",
            "Total params: 27\n",
            "Trainable params: 27\n",
            "Non-trainable params: 0\n",
            "_________________________________________________________________\n"
          ]
        }
      ]
    },
    {
      "cell_type": "code",
      "source": [
        "from tensorflow.keras.utils import plot_model\n",
        "\n",
        "plot_model(model, \n",
        "    to_file='model.png', \n",
        "    show_shapes=True, show_layer_names=True)"
      ],
      "metadata": {
        "colab": {
          "base_uri": "https://localhost:8080/",
          "height": 312
        },
        "id": "VrnHy3ag78IE",
        "outputId": "1a074b05-794f-4ccc-8dc7-bb192be53170"
      },
      "execution_count": 15,
      "outputs": [
        {
          "output_type": "execute_result",
          "data": {
            "image/png": "[encoded data removed]",
            "text/plain": [
              "<IPython.core.display.Image object>"
            ]
          },
          "metadata": {},
          "execution_count": 15
        }
      ]
    },
    {
      "cell_type": "code",
      "source": [
        "model = Sequential([\n",
        "      Dense(4, activation=\"relu\", input_shape=(2,), kernel_initializer='random_uniform', bias_initializer=\"zeros\"),\n",
        "      Dense(3, activation=\"softmax\", kernel_initializer='he_uniform', bias_initializer='ones')\n",
        "])"
      ],
      "metadata": {
        "id": "h0Az-dtB7-pP"
      },
      "execution_count": 16,
      "outputs": []
    },
    {
      "cell_type": "code",
      "source": [
        "model.compile(\n",
        "    optimizer = tf.keras.optimizers.Adam(learning_rate=0.5),\n",
        "    loss = tf.keras.losses.CategoricalCrossentropy(),\n",
        "    metrics = ['accuracy']\n",
        ")"
      ],
      "metadata": {
        "id": "_YhujerV8VtY"
      },
      "execution_count": 17,
      "outputs": []
    },
    {
      "cell_type": "code",
      "source": [
        "y = pd.get_dummies(y).to_numpy()"
      ],
      "metadata": {
        "id": "gEiSe_eO9rXY"
      },
      "execution_count": 18,
      "outputs": []
    },
    {
      "cell_type": "code",
      "source": [
        "y.shape"
      ],
      "metadata": {
        "colab": {
          "base_uri": "https://localhost:8080/"
        },
        "id": "FKLkASAw9zmv",
        "outputId": "f7729536-d900-48d1-be4e-6db61b9a34c3"
      },
      "execution_count": 19,
      "outputs": [
        {
          "output_type": "execute_result",
          "data": {
            "text/plain": [
              "(300, 3)"
            ]
          },
          "metadata": {},
          "execution_count": 19
        }
      ]
    },
    {
      "cell_type": "code",
      "source": [
        "model.fit(X, y, epochs=100, batch_size=300, validation_split=0.2, verbose=1)"
      ],
      "metadata": {
        "id": "98FNAJYK89_L",
        "colab": {
          "base_uri": "https://localhost:8080/"
        },
        "outputId": "a656d4a3-ece9-4e74-db40-fa37fb0b1923"
      },
      "execution_count": 20,
      "outputs": [
        {
          "output_type": "stream",
          "name": "stdout",
          "text": [
            "Epoch 1/100\n",
            "1/1 [==============================] - 2s 2s/step - loss: 1.0961 - accuracy: 0.3792 - val_loss: 2.5378 - val_accuracy: 0.0000e+00\n",
            "Epoch 2/100\n",
            "1/1 [==============================] - 0s 79ms/step - loss: 1.1096 - accuracy: 0.4417 - val_loss: 2.4999 - val_accuracy: 0.0000e+00\n",
            "Epoch 3/100\n",
            "1/1 [==============================] - 0s 55ms/step - loss: 1.0556 - accuracy: 0.5750 - val_loss: 2.2861 - val_accuracy: 0.0000e+00\n",
            "Epoch 4/100\n",
            "1/1 [==============================] - 0s 44ms/step - loss: 0.8653 - accuracy: 0.6208 - val_loss: 2.0090 - val_accuracy: 0.0000e+00\n",
            "Epoch 5/100\n",
            "1/1 [==============================] - 0s 50ms/step - loss: 0.7589 - accuracy: 0.6458 - val_loss: 1.9135 - val_accuracy: 0.0000e+00\n",
            "Epoch 6/100\n",
            "1/1 [==============================] - 0s 46ms/step - loss: 0.7511 - accuracy: 0.6208 - val_loss: 2.0645 - val_accuracy: 0.0000e+00\n",
            "Epoch 7/100\n",
            "1/1 [==============================] - 0s 55ms/step - loss: 0.7444 - accuracy: 0.6833 - val_loss: 2.3740 - val_accuracy: 0.0000e+00\n",
            "Epoch 8/100\n",
            "1/1 [==============================] - 0s 58ms/step - loss: 0.6948 - accuracy: 0.7042 - val_loss: 2.7329 - val_accuracy: 0.0000e+00\n",
            "Epoch 9/100\n",
            "1/1 [==============================] - 0s 59ms/step - loss: 0.6321 - accuracy: 0.6250 - val_loss: 3.1246 - val_accuracy: 0.0000e+00\n",
            "Epoch 10/100\n",
            "1/1 [==============================] - 0s 85ms/step - loss: 0.5942 - accuracy: 0.6792 - val_loss: 3.5571 - val_accuracy: 0.0000e+00\n",
            "Epoch 11/100\n",
            "1/1 [==============================] - 0s 59ms/step - loss: 0.5829 - accuracy: 0.6833 - val_loss: 4.0318 - val_accuracy: 0.0000e+00\n",
            "Epoch 12/100\n",
            "1/1 [==============================] - 0s 116ms/step - loss: 0.5766 - accuracy: 0.6833 - val_loss: 4.5280 - val_accuracy: 0.0000e+00\n",
            "Epoch 13/100\n",
            "1/1 [==============================] - 0s 148ms/step - loss: 0.5689 - accuracy: 0.6833 - val_loss: 5.0157 - val_accuracy: 0.0000e+00\n",
            "Epoch 14/100\n",
            "1/1 [==============================] - 0s 86ms/step - loss: 0.5588 - accuracy: 0.6875 - val_loss: 5.4916 - val_accuracy: 0.0000e+00\n",
            "Epoch 15/100\n",
            "1/1 [==============================] - 0s 48ms/step - loss: 0.5496 - accuracy: 0.6917 - val_loss: 5.9709 - val_accuracy: 0.0000e+00\n",
            "Epoch 16/100\n",
            "1/1 [==============================] - 0s 66ms/step - loss: 0.5398 - accuracy: 0.6917 - val_loss: 6.4737 - val_accuracy: 0.0000e+00\n",
            "Epoch 17/100\n",
            "1/1 [==============================] - 0s 52ms/step - loss: 0.5280 - accuracy: 0.6917 - val_loss: 7.0129 - val_accuracy: 0.0000e+00\n",
            "Epoch 18/100\n",
            "1/1 [==============================] - 0s 43ms/step - loss: 0.5179 - accuracy: 0.6958 - val_loss: 7.6055 - val_accuracy: 0.0000e+00\n",
            "Epoch 19/100\n",
            "1/1 [==============================] - 0s 47ms/step - loss: 0.5134 - accuracy: 0.7042 - val_loss: 8.2537 - val_accuracy: 0.0000e+00\n",
            "Epoch 20/100\n",
            "1/1 [==============================] - 0s 95ms/step - loss: 0.5104 - accuracy: 0.7042 - val_loss: 8.9391 - val_accuracy: 0.0000e+00\n",
            "Epoch 21/100\n",
            "1/1 [==============================] - 0s 58ms/step - loss: 0.5064 - accuracy: 0.7042 - val_loss: 9.6464 - val_accuracy: 0.0000e+00\n",
            "Epoch 22/100\n",
            "1/1 [==============================] - 0s 80ms/step - loss: 0.4992 - accuracy: 0.7292 - val_loss: 10.3869 - val_accuracy: 0.0000e+00\n",
            "Epoch 23/100\n",
            "1/1 [==============================] - 0s 92ms/step - loss: 0.4933 - accuracy: 0.7375 - val_loss: 11.1977 - val_accuracy: 0.0000e+00\n",
            "Epoch 24/100\n",
            "1/1 [==============================] - 0s 88ms/step - loss: 0.4884 - accuracy: 0.7375 - val_loss: 12.0809 - val_accuracy: 0.0000e+00\n",
            "Epoch 25/100\n",
            "1/1 [==============================] - 0s 108ms/step - loss: 0.4790 - accuracy: 0.7417 - val_loss: 13.0244 - val_accuracy: 0.0000e+00\n",
            "Epoch 26/100\n",
            "1/1 [==============================] - 0s 83ms/step - loss: 0.4682 - accuracy: 0.7083 - val_loss: 13.9795 - val_accuracy: 0.0000e+00\n",
            "Epoch 27/100\n",
            "1/1 [==============================] - 0s 90ms/step - loss: 0.4587 - accuracy: 0.7208 - val_loss: 14.9432 - val_accuracy: 0.0000e+00\n",
            "Epoch 28/100\n",
            "1/1 [==============================] - 0s 93ms/step - loss: 0.4531 - accuracy: 0.7292 - val_loss: 15.8545 - val_accuracy: 0.0000e+00\n",
            "Epoch 29/100\n",
            "1/1 [==============================] - 0s 131ms/step - loss: 0.4504 - accuracy: 0.7333 - val_loss: 16.6162 - val_accuracy: 0.0000e+00\n",
            "Epoch 30/100\n",
            "1/1 [==============================] - 0s 125ms/step - loss: 0.4433 - accuracy: 0.7292 - val_loss: 17.1970 - val_accuracy: 0.0000e+00\n",
            "Epoch 31/100\n",
            "1/1 [==============================] - 0s 95ms/step - loss: 0.4323 - accuracy: 0.7375 - val_loss: 17.5893 - val_accuracy: 0.0000e+00\n",
            "Epoch 32/100\n",
            "1/1 [==============================] - 0s 89ms/step - loss: 0.4235 - accuracy: 0.7333 - val_loss: 17.8857 - val_accuracy: 0.0167\n",
            "Epoch 33/100\n",
            "1/1 [==============================] - 0s 127ms/step - loss: 0.4184 - accuracy: 0.7208 - val_loss: 18.1146 - val_accuracy: 0.0167\n",
            "Epoch 34/100\n",
            "1/1 [==============================] - 0s 87ms/step - loss: 0.4077 - accuracy: 0.7625 - val_loss: 18.2617 - val_accuracy: 0.0833\n",
            "Epoch 35/100\n",
            "1/1 [==============================] - 0s 94ms/step - loss: 0.4112 - accuracy: 0.7917 - val_loss: 18.3505 - val_accuracy: 0.1000\n",
            "Epoch 36/100\n",
            "1/1 [==============================] - 0s 134ms/step - loss: 0.4026 - accuracy: 0.8125 - val_loss: 18.3906 - val_accuracy: 0.1333\n",
            "Epoch 37/100\n",
            "1/1 [==============================] - 0s 45ms/step - loss: 0.3970 - accuracy: 0.8167 - val_loss: 18.3966 - val_accuracy: 0.1000\n",
            "Epoch 38/100\n",
            "1/1 [==============================] - 0s 56ms/step - loss: 0.3902 - accuracy: 0.8042 - val_loss: 18.4322 - val_accuracy: 0.0833\n",
            "Epoch 39/100\n",
            "1/1 [==============================] - 0s 67ms/step - loss: 0.3810 - accuracy: 0.8125 - val_loss: 18.5779 - val_accuracy: 0.0833\n",
            "Epoch 40/100\n",
            "1/1 [==============================] - 0s 90ms/step - loss: 0.3800 - accuracy: 0.8125 - val_loss: 18.7562 - val_accuracy: 0.0833\n",
            "Epoch 41/100\n",
            "1/1 [==============================] - 0s 56ms/step - loss: 0.3788 - accuracy: 0.8083 - val_loss: 18.9673 - val_accuracy: 0.0833\n",
            "Epoch 42/100\n",
            "1/1 [==============================] - 0s 74ms/step - loss: 0.3711 - accuracy: 0.8167 - val_loss: 19.1901 - val_accuracy: 0.0833\n",
            "Epoch 43/100\n",
            "1/1 [==============================] - 0s 54ms/step - loss: 0.3741 - accuracy: 0.8167 - val_loss: 19.4150 - val_accuracy: 0.0667\n",
            "Epoch 44/100\n",
            "1/1 [==============================] - 0s 56ms/step - loss: 0.3632 - accuracy: 0.8292 - val_loss: 19.5820 - val_accuracy: 0.0667\n",
            "Epoch 45/100\n",
            "1/1 [==============================] - 0s 33ms/step - loss: 0.3716 - accuracy: 0.8250 - val_loss: 19.6558 - val_accuracy: 0.0667\n",
            "Epoch 46/100\n",
            "1/1 [==============================] - 0s 32ms/step - loss: 0.3651 - accuracy: 0.8208 - val_loss: 19.6107 - val_accuracy: 0.0833\n",
            "Epoch 47/100\n",
            "1/1 [==============================] - 0s 34ms/step - loss: 0.3633 - accuracy: 0.8167 - val_loss: 19.4499 - val_accuracy: 0.0833\n",
            "Epoch 48/100\n",
            "1/1 [==============================] - 0s 35ms/step - loss: 0.3600 - accuracy: 0.8208 - val_loss: 19.2619 - val_accuracy: 0.0833\n",
            "Epoch 49/100\n",
            "1/1 [==============================] - 0s 38ms/step - loss: 0.3556 - accuracy: 0.8250 - val_loss: 19.0856 - val_accuracy: 0.0833\n",
            "Epoch 50/100\n",
            "1/1 [==============================] - 0s 35ms/step - loss: 0.3552 - accuracy: 0.8375 - val_loss: 18.9239 - val_accuracy: 0.0833\n",
            "Epoch 51/100\n",
            "1/1 [==============================] - 0s 31ms/step - loss: 0.3567 - accuracy: 0.8167 - val_loss: 18.7573 - val_accuracy: 0.0833\n",
            "Epoch 52/100\n",
            "1/1 [==============================] - 0s 32ms/step - loss: 0.3503 - accuracy: 0.8375 - val_loss: 18.6231 - val_accuracy: 0.0833\n",
            "Epoch 53/100\n",
            "1/1 [==============================] - 0s 33ms/step - loss: 0.3499 - accuracy: 0.8333 - val_loss: 18.5562 - val_accuracy: 0.0833\n",
            "Epoch 54/100\n",
            "1/1 [==============================] - 0s 40ms/step - loss: 0.3474 - accuracy: 0.8250 - val_loss: 18.5129 - val_accuracy: 0.0833\n",
            "Epoch 55/100\n",
            "1/1 [==============================] - 0s 51ms/step - loss: 0.3485 - accuracy: 0.8250 - val_loss: 18.4533 - val_accuracy: 0.0833\n",
            "Epoch 56/100\n",
            "1/1 [==============================] - 0s 37ms/step - loss: 0.3466 - accuracy: 0.8167 - val_loss: 18.3732 - val_accuracy: 0.0833\n",
            "Epoch 57/100\n",
            "1/1 [==============================] - 0s 31ms/step - loss: 0.3464 - accuracy: 0.8292 - val_loss: 18.3069 - val_accuracy: 0.0833\n",
            "Epoch 58/100\n",
            "1/1 [==============================] - 0s 33ms/step - loss: 0.3443 - accuracy: 0.8417 - val_loss: 18.2466 - val_accuracy: 0.0833\n",
            "Epoch 59/100\n",
            "1/1 [==============================] - 0s 31ms/step - loss: 0.3453 - accuracy: 0.8333 - val_loss: 18.1764 - val_accuracy: 0.0833\n",
            "Epoch 60/100\n",
            "1/1 [==============================] - 0s 32ms/step - loss: 0.3431 - accuracy: 0.8333 - val_loss: 18.0663 - val_accuracy: 0.0833\n",
            "Epoch 61/100\n",
            "1/1 [==============================] - 0s 31ms/step - loss: 0.3437 - accuracy: 0.8458 - val_loss: 17.9379 - val_accuracy: 0.0833\n",
            "Epoch 62/100\n",
            "1/1 [==============================] - 0s 33ms/step - loss: 0.3431 - accuracy: 0.8417 - val_loss: 17.7892 - val_accuracy: 0.0833\n",
            "Epoch 63/100\n",
            "1/1 [==============================] - 0s 34ms/step - loss: 0.3436 - accuracy: 0.8417 - val_loss: 17.6375 - val_accuracy: 0.0833\n",
            "Epoch 64/100\n",
            "1/1 [==============================] - 0s 33ms/step - loss: 0.3436 - accuracy: 0.8458 - val_loss: 17.5491 - val_accuracy: 0.0833\n",
            "Epoch 65/100\n",
            "1/1 [==============================] - 0s 43ms/step - loss: 0.3441 - accuracy: 0.8333 - val_loss: 17.5076 - val_accuracy: 0.0833\n",
            "Epoch 66/100\n",
            "1/1 [==============================] - 0s 36ms/step - loss: 0.3442 - accuracy: 0.8250 - val_loss: 17.4694 - val_accuracy: 0.0833\n",
            "Epoch 67/100\n",
            "1/1 [==============================] - 0s 29ms/step - loss: 0.3433 - accuracy: 0.8333 - val_loss: 17.4587 - val_accuracy: 0.0833\n",
            "Epoch 68/100\n",
            "1/1 [==============================] - 0s 29ms/step - loss: 0.3439 - accuracy: 0.8458 - val_loss: 17.4932 - val_accuracy: 0.0833\n",
            "Epoch 69/100\n",
            "1/1 [==============================] - 0s 34ms/step - loss: 0.3432 - accuracy: 0.8375 - val_loss: 17.5580 - val_accuracy: 0.0833\n",
            "Epoch 70/100\n",
            "1/1 [==============================] - 0s 40ms/step - loss: 0.3435 - accuracy: 0.8417 - val_loss: 17.6311 - val_accuracy: 0.0833\n",
            "Epoch 71/100\n",
            "1/1 [==============================] - 0s 33ms/step - loss: 0.3432 - accuracy: 0.8417 - val_loss: 17.7166 - val_accuracy: 0.0833\n",
            "Epoch 72/100\n",
            "1/1 [==============================] - 0s 32ms/step - loss: 0.3427 - accuracy: 0.8417 - val_loss: 17.8247 - val_accuracy: 0.0833\n",
            "Epoch 73/100\n",
            "1/1 [==============================] - 0s 33ms/step - loss: 0.3423 - accuracy: 0.8375 - val_loss: 17.9043 - val_accuracy: 0.0833\n",
            "Epoch 74/100\n",
            "1/1 [==============================] - 0s 33ms/step - loss: 0.3416 - accuracy: 0.8375 - val_loss: 17.9441 - val_accuracy: 0.0833\n",
            "Epoch 75/100\n",
            "1/1 [==============================] - 0s 30ms/step - loss: 0.3414 - accuracy: 0.8417 - val_loss: 17.9911 - val_accuracy: 0.0833\n",
            "Epoch 76/100\n",
            "1/1 [==============================] - 0s 32ms/step - loss: 0.3410 - accuracy: 0.8417 - val_loss: 18.0613 - val_accuracy: 0.0833\n",
            "Epoch 77/100\n",
            "1/1 [==============================] - 0s 34ms/step - loss: 0.3411 - accuracy: 0.8417 - val_loss: 18.1667 - val_accuracy: 0.0833\n",
            "Epoch 78/100\n",
            "1/1 [==============================] - 0s 34ms/step - loss: 0.3408 - accuracy: 0.8417 - val_loss: 18.2517 - val_accuracy: 0.0833\n",
            "Epoch 79/100\n",
            "1/1 [==============================] - 0s 35ms/step - loss: 0.3404 - accuracy: 0.8375 - val_loss: 18.3512 - val_accuracy: 0.0833\n",
            "Epoch 80/100\n",
            "1/1 [==============================] - 0s 33ms/step - loss: 0.3403 - accuracy: 0.8417 - val_loss: 18.4586 - val_accuracy: 0.0833\n",
            "Epoch 81/100\n",
            "1/1 [==============================] - 0s 34ms/step - loss: 0.3400 - accuracy: 0.8417 - val_loss: 18.5334 - val_accuracy: 0.0833\n",
            "Epoch 82/100\n",
            "1/1 [==============================] - 0s 42ms/step - loss: 0.3400 - accuracy: 0.8458 - val_loss: 18.5934 - val_accuracy: 0.0833\n",
            "Epoch 83/100\n",
            "1/1 [==============================] - 0s 32ms/step - loss: 0.3400 - accuracy: 0.8458 - val_loss: 18.6930 - val_accuracy: 0.0833\n",
            "Epoch 84/100\n",
            "1/1 [==============================] - 0s 32ms/step - loss: 0.3400 - accuracy: 0.8417 - val_loss: 18.8221 - val_accuracy: 0.0833\n",
            "Epoch 85/100\n",
            "1/1 [==============================] - 0s 32ms/step - loss: 0.3400 - accuracy: 0.8417 - val_loss: 18.9722 - val_accuracy: 0.0833\n",
            "Epoch 86/100\n",
            "1/1 [==============================] - 0s 32ms/step - loss: 0.3397 - accuracy: 0.8417 - val_loss: 19.1468 - val_accuracy: 0.0833\n",
            "Epoch 87/100\n",
            "1/1 [==============================] - 0s 33ms/step - loss: 0.3397 - accuracy: 0.8417 - val_loss: 19.2913 - val_accuracy: 0.0833\n",
            "Epoch 88/100\n",
            "1/1 [==============================] - 0s 35ms/step - loss: 0.3396 - accuracy: 0.8458 - val_loss: 19.4065 - val_accuracy: 0.0833\n",
            "Epoch 89/100\n",
            "1/1 [==============================] - 0s 38ms/step - loss: 0.3395 - accuracy: 0.8458 - val_loss: 19.4934 - val_accuracy: 0.0833\n",
            "Epoch 90/100\n",
            "1/1 [==============================] - 0s 32ms/step - loss: 0.3394 - accuracy: 0.8417 - val_loss: 19.5558 - val_accuracy: 0.0833\n",
            "Epoch 91/100\n",
            "1/1 [==============================] - 0s 33ms/step - loss: 0.3392 - accuracy: 0.8417 - val_loss: 19.6027 - val_accuracy: 0.0833\n",
            "Epoch 92/100\n",
            "1/1 [==============================] - 0s 30ms/step - loss: 0.3393 - accuracy: 0.8458 - val_loss: 19.6928 - val_accuracy: 0.0833\n",
            "Epoch 93/100\n",
            "1/1 [==============================] - 0s 41ms/step - loss: 0.3391 - accuracy: 0.8417 - val_loss: 19.8243 - val_accuracy: 0.0833\n",
            "Epoch 94/100\n",
            "1/1 [==============================] - 0s 33ms/step - loss: 0.3388 - accuracy: 0.8417 - val_loss: 19.9934 - val_accuracy: 0.0833\n",
            "Epoch 95/100\n",
            "1/1 [==============================] - 0s 34ms/step - loss: 0.3387 - accuracy: 0.8458 - val_loss: 20.1339 - val_accuracy: 0.0833\n",
            "Epoch 96/100\n",
            "1/1 [==============================] - 0s 36ms/step - loss: 0.3387 - accuracy: 0.8458 - val_loss: 20.2445 - val_accuracy: 0.0833\n",
            "Epoch 97/100\n",
            "1/1 [==============================] - 0s 38ms/step - loss: 0.3386 - accuracy: 0.8500 - val_loss: 20.3296 - val_accuracy: 0.0833\n",
            "Epoch 98/100\n",
            "1/1 [==============================] - 0s 38ms/step - loss: 0.3384 - accuracy: 0.8458 - val_loss: 20.3878 - val_accuracy: 0.0833\n",
            "Epoch 99/100\n",
            "1/1 [==============================] - 0s 38ms/step - loss: 0.3382 - accuracy: 0.8417 - val_loss: 20.4208 - val_accuracy: 0.0833\n",
            "Epoch 100/100\n",
            "1/1 [==============================] - 0s 33ms/step - loss: 0.3380 - accuracy: 0.8417 - val_loss: 20.4388 - val_accuracy: 0.0833\n"
          ]
        },
        {
          "output_type": "execute_result",
          "data": {
            "text/plain": [
              "<keras.callbacks.History at 0x7ff36641a130>"
            ]
          },
          "metadata": {},
          "execution_count": 20
        }
      ]
    },
    {
      "cell_type": "code",
      "source": [],
      "metadata": {
        "id": "LSYgKJu19nIW"
      },
      "execution_count": 20,
      "outputs": []
    }
  ]
}