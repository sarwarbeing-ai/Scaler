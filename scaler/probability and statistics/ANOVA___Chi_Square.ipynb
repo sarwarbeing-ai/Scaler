{
  "nbformat": 4,
  "nbformat_minor": 0,
  "metadata": {
    "colab": {
      "name": "ANOVA  & Chi-Square.ipynb",
      "provenance": []
    },
    "kernelspec": {
      "name": "python3",
      "display_name": "Python 3"
    },
    "language_info": {
      "name": "python"
    }
  },
  "cells": [
    {
      "cell_type": "markdown",
      "source": [
        "## Playing with ANOVA"
      ],
      "metadata": {
        "id": "luJpH2kXGWpU"
      }
    },
    {
      "cell_type": "code",
      "source": [
        "from scipy.stats import f_oneway\n",
        "from scipy.stats import norm\n",
        "import seaborn as sns\n",
        "import matplotlib.pyplot as plt"
      ],
      "metadata": {
        "id": "pYCHEYJC30YW"
      },
      "execution_count": 61,
      "outputs": []
    },
    {
      "cell_type": "code",
      "execution_count": 80,
      "metadata": {
        "id": "i7Wu7cnG3xHS"
      },
      "outputs": [],
      "source": [
        "G1 = norm.rvs(loc=10.0, scale=2.0, size=4000)\n",
        "G2 = norm.rvs(loc=10.0, scale=2.01, size=4000)\n",
        "G3 = norm.rvs(loc=10.0, scale=2.03, size=5000)"
      ]
    },
    {
      "cell_type": "code",
      "source": [
        "sns.distplot(G1, hist=False)\n",
        "sns.distplot(G2, hist=False)\n",
        "sns.distplot(G3, hist=False)\n",
        "plt.grid()"
      ],
      "metadata": {
        "colab": {
          "base_uri": "https://localhost:8080/",
          "height": 389
        },
        "id": "SFDo02ZoFZyV",
        "outputId": "01a9e487-1c18-48b0-f746-8f46c785f819"
      },
      "execution_count": 81,
      "outputs": [
        {
          "output_type": "stream",
          "name": "stderr",
          "text": [
            "/usr/local/lib/python3.7/dist-packages/seaborn/distributions.py:2619: FutureWarning: `distplot` is a deprecated function and will be removed in a future version. Please adapt your code to use either `displot` (a figure-level function with similar flexibility) or `kdeplot` (an axes-level function for kernel density plots).\n",
            "  warnings.warn(msg, FutureWarning)\n",
            "/usr/local/lib/python3.7/dist-packages/seaborn/distributions.py:2619: FutureWarning: `distplot` is a deprecated function and will be removed in a future version. Please adapt your code to use either `displot` (a figure-level function with similar flexibility) or `kdeplot` (an axes-level function for kernel density plots).\n",
            "  warnings.warn(msg, FutureWarning)\n",
            "/usr/local/lib/python3.7/dist-packages/seaborn/distributions.py:2619: FutureWarning: `distplot` is a deprecated function and will be removed in a future version. Please adapt your code to use either `displot` (a figure-level function with similar flexibility) or `kdeplot` (an axes-level function for kernel density plots).\n",
            "  warnings.warn(msg, FutureWarning)\n"
          ]
        },
        {
          "output_type": "display_data",
          "data": {
            "text/plain": [
              "<Figure size 432x288 with 1 Axes>"
            ],
            "image/png": "[encoded data removed]"
          },
          "metadata": {
            "needs_background": "light"
          }
        }
      ]
    },
    {
      "cell_type": "code",
      "source": [
        "f_oneway(G1, G2, G3)"
      ],
      "metadata": {
        "colab": {
          "base_uri": "https://localhost:8080/"
        },
        "id": "jFHU0LHiGK2i",
        "outputId": "70a380fe-2817-4a4d-ddf0-ed46bf94ac69"
      },
      "execution_count": 82,
      "outputs": [
        {
          "output_type": "execute_result",
          "data": {
            "text/plain": [
              "F_onewayResult(statistic=0.022831023765828056, pvalue=0.9774276710606851)"
            ]
          },
          "metadata": {},
          "execution_count": 82
        }
      ]
    },
    {
      "cell_type": "markdown",
      "source": [
        "## Chi-Square Goodness of fit"
      ],
      "metadata": {
        "id": "3M4CQkMqKIBK"
      }
    },
    {
      "cell_type": "code",
      "source": [
        "from scipy.stats import chisquare\n",
        "from scipy.stats import poisson\n",
        "import math"
      ],
      "metadata": {
        "id": "So7E5K2_K7MA"
      },
      "execution_count": 83,
      "outputs": []
    },
    {
      "cell_type": "code",
      "source": [
        "p_x_i = poisson.pmf([0,1,2,3,4,5,6,7,8,9,10], mu=2.5)\n",
        "p_x_i"
      ],
      "metadata": {
        "colab": {
          "base_uri": "https://localhost:8080/"
        },
        "id": "aU7ud7ieLRHL",
        "outputId": "e2578f2e-7111-44ce-adab-91d7082de9af"
      },
      "execution_count": 85,
      "outputs": [
        {
          "output_type": "execute_result",
          "data": {
            "text/plain": [
              "array([8.20849986e-02, 2.05212497e-01, 2.56515621e-01, 2.13763017e-01,\n",
              "       1.33601886e-01, 6.68009429e-02, 2.78337262e-02, 9.94061650e-03,\n",
              "       3.10644266e-03, 8.62900738e-04, 2.15725184e-04])"
            ]
          },
          "metadata": {},
          "execution_count": 85
        }
      ]
    },
    {
      "cell_type": "code",
      "source": [
        "freq_exp= (p_x_i*100).round()\n",
        "freq_exp"
      ],
      "metadata": {
        "colab": {
          "base_uri": "https://localhost:8080/"
        },
        "id": "M9BPzgqPL2N0",
        "outputId": "8d1bd4e7-b7f9-422c-ed99-94fc73f2b501"
      },
      "execution_count": 42,
      "outputs": [
        {
          "output_type": "execute_result",
          "data": {
            "text/plain": [
              "array([ 8., 21., 26., 21., 13.,  7.,  3.,  1.,  0.,  0.,  0.])"
            ]
          },
          "metadata": {},
          "execution_count": 42
        }
      ]
    },
    {
      "cell_type": "code",
      "source": [
        "freq_obs = [7, 22, 27, 20, 12,  7,  3,  1,  1,  0.,  0.]"
      ],
      "metadata": {
        "id": "5l_dFug8LEJg"
      },
      "execution_count": 47,
      "outputs": []
    },
    {
      "cell_type": "code",
      "source": [
        "chisquare(f_exp=freq_exp, f_obs=freq_obs)"
      ],
      "metadata": {
        "colab": {
          "base_uri": "https://localhost:8080/"
        },
        "id": "SM8JRzsrMP0S",
        "outputId": "0c0486cc-897c-4cf2-a5fe-2ae99b81dedc"
      },
      "execution_count": 46,
      "outputs": [
        {
          "output_type": "stream",
          "name": "stderr",
          "text": [
            "/usr/local/lib/python3.7/dist-packages/scipy/stats/stats.py:6707: RuntimeWarning: invalid value encountered in true_divide\n",
            "  terms = (f_obs_float - f_exp)**2 / f_exp\n"
          ]
        },
        {
          "output_type": "execute_result",
          "data": {
            "text/plain": [
              "Power_divergenceResult(statistic=nan, pvalue=nan)"
            ]
          },
          "metadata": {},
          "execution_count": 46
        }
      ]
    },
    {
      "cell_type": "code",
      "source": [
        "freq_exp = [ 8., 21., 26., 21., 13.,  7.,  3.,  1.]\n",
        "freq_obs = [7, 22, 27, 20, 12,  8,  3,  1]\n"
      ],
      "metadata": {
        "id": "Ry5Sc8HaM3O6"
      },
      "execution_count": 52,
      "outputs": []
    },
    {
      "cell_type": "code",
      "source": [
        "chisquare(f_exp=freq_exp, f_obs=freq_obs)"
      ],
      "metadata": {
        "colab": {
          "base_uri": "https://localhost:8080/"
        },
        "id": "Jyf7dEuwND2m",
        "outputId": "e78b42ed-2090-4184-c3a5-322c7945be54"
      },
      "execution_count": 53,
      "outputs": [
        {
          "output_type": "execute_result",
          "data": {
            "text/plain": [
              "Power_divergenceResult(statistic=0.47847985347985345, pvalue=0.9995215264692844)"
            ]
          },
          "metadata": {},
          "execution_count": 53
        }
      ]
    },
    {
      "cell_type": "code",
      "source": [
        ""
      ],
      "metadata": {
        "id": "QtbPiwz1NS9T"
      },
      "execution_count": null,
      "outputs": []
    },
    {
      "cell_type": "markdown",
      "source": [
        ""
      ],
      "metadata": {
        "id": "g_yczuLgNT7B"
      }
    }
  ]
}